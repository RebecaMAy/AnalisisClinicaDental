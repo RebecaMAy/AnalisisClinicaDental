{
 "cells": [
  {
   "cell_type": "code",
   "execution_count": null,
   "id": "670bdfb5",
   "metadata": {},
   "outputs": [
    {
     "data": {
      "application/vnd.plotly.v1+json": {
       "config": {
        "plotlyServerURL": "https://plot.ly"
       },
       "data": [
        {
         "customdata": [
          [
           "DIAGNOSTICOS",
           "  DKV",
           13,
           1
          ],
          [
           "DIAGNOSTICOS",
           "PRIVADA",
           1013,
           43
          ],
          [
           "DIAGNOSTICOS",
           "PRIVADA",
           2400,
           28
          ]
         ],
         "hovertemplate": "<b>%{hovertext}</b><br><br>category=%{customdata[0]}<br>Precio Unitario=%{x}<br>Actos Realizados=%{y}<br>tarifa=%{customdata[1]}<br>total=%{customdata[2]}<br>visits=%{customdata[3]}<extra></extra>",
         "hovertext": [
          "ORTOPANTOMOGRAFIA",
          "ORTOPANTOMOGRAFIA",
          "TAC"
         ],
         "legendgroup": "DIAGNOSTICOS",
         "marker": {
          "color": "#636efa",
          "symbol": "circle"
         },
         "mode": "markers",
         "name": "DIAGNOSTICOS",
         "orientation": "v",
         "showlegend": true,
         "type": "scatter",
         "x": {
          "bdata": "AAAAAAAAKkAk7og74o43QNu2bdu2bVVA",
          "dtype": "f8"
         },
         "xaxis": "x",
         "y": {
          "bdata": "ASsc",
          "dtype": "i1"
         },
         "yaxis": "y"
        },
        {
         "customdata": [
          [
           "PROFILAXIS",
           "  DKV",
           12,
           1
          ],
          [
           "PROFILAXIS",
           "PRIVADA",
           8269,
           259
          ],
          [
           "PROFILAXIS",
           "PRIVADA",
           1755,
           62
          ],
          [
           "PROFILAXIS",
           "DKV",
           350,
           1
          ],
          [
           "PROFILAXIS",
           "PRIVADA",
           350,
           1
          ]
         ],
         "hovertemplate": "<b>%{hovertext}</b><br><br>category=%{customdata[0]}<br>Precio Unitario=%{x}<br>Actos Realizados=%{y}<br>tarifa=%{customdata[1]}<br>total=%{customdata[2]}<br>visits=%{customdata[3]}<extra></extra>",
         "hovertext": [
          "Copia de LIMPIEZA",
          "Copia de LIMPIEZA",
          "LI1",
          "LI2",
          "LI2"
         ],
         "legendgroup": "PROFILAXIS",
         "marker": {
          "color": "#EF553B",
          "symbol": "circle"
         },
         "mode": "markers",
         "name": "PROFILAXIS",
         "orientation": "v",
         "showlegend": true,
         "type": "scatter",
         "x": {
          "bdata": "AAAAAAAAKEDUDvtWOO0/QM4555xzTjxAAAAAAADgdUAAAAAAAOB1QA==",
          "dtype": "f8"
         },
         "xaxis": "x",
         "y": {
          "bdata": "AQADAT4AAQABAA==",
          "dtype": "i2"
         },
         "yaxis": "y"
        },
        {
         "customdata": [
          [
           "EXTRACCION",
           "PRIVADA",
           70,
           4
          ],
          [
           "EXTRACCION",
           "  DKV",
           13,
           1
          ],
          [
           "EXTRACCION",
           "PRIVADA",
           3329,
           42
          ],
          [
           "EXTRACCION",
           "PRIVADA",
           840,
           3
          ],
          [
           "EXTRACCION",
           "PRIVADA",
           1080,
           12
          ],
          [
           "EXTRACCION",
           "PRIVADA",
           300,
           3
          ],
          [
           "EXTRACCION",
           "PRIVADA",
           450,
           2
          ],
          [
           "EXTRACCION",
           "PRIVADA",
           1520,
           4
          ],
          [
           "EXTRACCION",
           "PRIVADA",
           150,
           2
          ]
         ],
         "hovertemplate": "<b>%{hovertext}</b><br><br>category=%{customdata[0]}<br>Precio Unitario=%{x}<br>Actos Realizados=%{y}<br>tarifa=%{customdata[1]}<br>total=%{customdata[2]}<br>visits=%{customdata[3]}<extra></extra>",
         "hovertext": [
          "EXTR. TEMPORAL",
          "Copia de EXTRACCION SIMPLE",
          "Copia de EXTRACCION SIMPLE",
          "EXTRACCION SIMPLE",
          "EXTRACCION RESTO RADICULAR",
          "EXTRACCION COMPLEJA",
          "EXTRACCION QUIRURGICA",
          "EXTRACCION QUIRURGICA TERCER MOLAR INCLUIDO",
          "EXTRACCION DE IMPLANTE"
         ],
         "legendgroup": "EXTRACCION",
         "marker": {
          "color": "#00cc96",
          "symbol": "circle"
         },
         "mode": "markers",
         "name": "EXTRACCION",
         "orientation": "v",
         "showlegend": true,
         "type": "scatter",
         "x": {
          "bdata": "AAAAAACAMUAAAAAAAAAqQKkJxlvZZ09AAAAAAACAcUCSJEmSJElTQAAAAAAAAFlAAAAAAAAgXECrqqqqqqpvQAAAAAAAwEJA",
          "dtype": "f8"
         },
         "xaxis": "x",
         "y": {
          "bdata": "BAE1Aw4DBAYE",
          "dtype": "i1"
         },
         "yaxis": "y"
        },
        {
         "customdata": [
          [
           "OBTURACION",
           "PRIVADA",
           8992,
           129
          ],
          [
           "OBTURACION",
           "PRIVADA",
           1845,
           23
          ],
          [
           "OBTURACION",
           "PRIVADA",
           1250,
           17
          ],
          [
           "OBTURACION",
           "PRIVADA",
           1733,
           27
          ],
          [
           "OBTURACION",
           "ASISA",
           60,
           1
          ],
          [
           "OBTURACION",
           "DKV",
           290,
           4
          ]
         ],
         "hovertemplate": "<b>%{hovertext}</b><br><br>category=%{customdata[0]}<br>Precio Unitario=%{x}<br>Actos Realizados=%{y}<br>tarifa=%{customdata[1]}<br>total=%{customdata[2]}<br>visits=%{customdata[3]}<extra></extra>",
         "hovertext": [
          "OBTURACION",
          "OBTURACION SIMPLE",
          "RECONSTRUCCION",
          "RECONSTRUCCION COMPOSITE",
          "RECONSTRUCCION COMPOSITE",
          "RECONSTRUCCION COMPOSITE"
         ],
         "legendgroup": "OBTURACION",
         "marker": {
          "color": "#ab63fa",
          "symbol": "circle"
         },
         "mode": "markers",
         "name": "OBTURACION",
         "orientation": "v",
         "showlegend": true,
         "type": "scatter",
         "x": {
          "bdata": "QMv5s5w/S0AAAAAAAMBOQAAAAAAAQE9AvoT2EtoLUEAAAAAAAABOQAAAAAAAIFJA",
          "dtype": "f8"
         },
         "xaxis": "x",
         "y": {
          "bdata": "pQAeABQAGwABAAQA",
          "dtype": "i2"
         },
         "yaxis": "y"
        },
        {
         "customdata": [
          [
           "CIRUGIA PERIODONTAL",
           "PRIVADA",
           240,
           2
          ]
         ],
         "hovertemplate": "<b>%{hovertext}</b><br><br>category=%{customdata[0]}<br>Precio Unitario=%{x}<br>Actos Realizados=%{y}<br>tarifa=%{customdata[1]}<br>total=%{customdata[2]}<br>visits=%{customdata[3]}<extra></extra>",
         "hovertext": [
          "CURETAJE GINGIVAL POR CUADRANT"
         ],
         "legendgroup": "CIRUGIA PERIODONTAL",
         "marker": {
          "color": "#FFA15A",
          "symbol": "circle"
         },
         "mode": "markers",
         "name": "CIRUGIA PERIODONTAL",
         "orientation": "v",
         "showlegend": true,
         "type": "scatter",
         "x": {
          "bdata": "AAAAAAAATkA=",
          "dtype": "f8"
         },
         "xaxis": "x",
         "y": {
          "bdata": "BA==",
          "dtype": "i1"
         },
         "yaxis": "y"
        },
        {
         "customdata": [
          [
           "ENDODONCIAS",
           "PRIVADA",
           2330,
           16
          ],
          [
           "ENDODONCIAS",
           "PRIVADA",
           300,
           1
          ],
          [
           "ENDODONCIAS",
           "PRIVADA",
           600,
           4
          ],
          [
           "ENDODONCIAS",
           "PRIVADA",
           813,
           5
          ],
          [
           "ENDODONCIAS",
           "PRIVADA",
           110,
           1
          ],
          [
           "ENDODONCIAS",
           "ASISA",
           175,
           1
          ]
         ],
         "hovertemplate": "<b>%{hovertext}</b><br><br>category=%{customdata[0]}<br>Precio Unitario=%{x}<br>Actos Realizados=%{y}<br>tarifa=%{customdata[1]}<br>total=%{customdata[2]}<br>visits=%{customdata[3]}<extra></extra>",
         "hovertext": [
          "Copia de ENDODONCIA ANTERIOR",
          "ENDODONCIA DE 1 CANAL",
          "ENDODONCIA DE 2 CANALES",
          "ENDODONCIA DE 3 CANALES",
          "ENDODONCIA DE 3 MOLAR",
          "ENDODONCIA DE 4 0 MAS CANALES"
         ],
         "legendgroup": "ENDODONCIAS",
         "marker": {
          "color": "#19d3f3",
          "symbol": "circle"
         },
         "mode": "markers",
         "name": "ENDODONCIAS",
         "orientation": "v",
         "showlegend": true,
         "type": "scatter",
         "x": {
          "bdata": "AAAAAAA0YkAAAAAAAMBiQAAAAAAAwGJAMzMzMzNTZEAAAAAAAIBbQAAAAAAA4GVA",
          "dtype": "f8"
         },
         "xaxis": "x",
         "y": {
          "bdata": "EAIEBQEB",
          "dtype": "i1"
         },
         "yaxis": "y"
        },
        {
         "customdata": [
          [
           "CORONA",
           "PRIVADA",
           11056,
           26
          ],
          [
           "CORONA",
           "PRIVADA",
           594,
           13
          ],
          [
           "CORONA",
           "PRIVADA",
           26131,
           29
          ],
          [
           "CORONA",
           "PRIVADA",
           3625,
           5
          ],
          [
           "CORONA",
           "PRIVADA",
           320,
           5
          ],
          [
           "CORONA",
           "PRIVADA",
           3500,
           2
          ],
          [
           "CORONA",
           "PRIVADA",
           3000,
           1
          ],
          [
           "CORONA",
           "ASISA",
           500,
           1
          ],
          [
           "CORONA",
           "DKV",
           500,
           1
          ],
          [
           "CORONA",
           "DKV",
           860,
           1
          ]
         ],
         "hovertemplate": "<b>%{hovertext}</b><br><br>category=%{customdata[0]}<br>Precio Unitario=%{x}<br>Actos Realizados=%{y}<br>tarifa=%{customdata[1]}<br>total=%{customdata[2]}<br>visits=%{customdata[3]}<extra></extra>",
         "hovertext": [
          "CORONA METAL CERAMICA",
          "CORONA RESINA(LABORATORIO)",
          "CORONA IMPLANTE",
          "CORONA IMPLANTE ZIRCONIO",
          "RECEMENTADO DE CORONA",
          "PROTESIS COMPLETA CERAMICA",
          "PROTESIS HIBRIDA RESINA",
          "CORONA IMPLANTE",
          "CORONA IMPLANTE",
          "CORONA TOTAL METAL NOBLE"
         ],
         "legendgroup": "CORONA",
         "marker": {
          "color": "#FF6692",
          "symbol": "circle"
         },
         "mode": "markers",
         "name": "CORONA",
         "orientation": "v",
         "showlegend": true,
         "type": "scatter",
         "x": {
          "bdata": "4yu+4iu+c0AAAAAAAIBAQGgvob2EPn5Ax3Ecx3EseUByHMdxHMdBQAAAAAAAWJtAAAAAAABwp0AAAAAAAEB/QAAAAAAAQH9AAAAAAADgikA=",
          "dtype": "f8"
         },
         "xaxis": "x",
         "y": {
          "bdata": "IxI2CQkCAQEBAQ==",
          "dtype": "i1"
         },
         "yaxis": "y"
        },
        {
         "customdata": [
          [
           "PUENTES",
           "PRIVADA",
           610,
           11
          ]
         ],
         "hovertemplate": "<b>%{hovertext}</b><br><br>category=%{customdata[0]}<br>Precio Unitario=%{x}<br>Actos Realizados=%{y}<br>tarifa=%{customdata[1]}<br>total=%{customdata[2]}<br>visits=%{customdata[3]}<extra></extra>",
         "hovertext": [
          "RECEMENTADO DE PUENTE"
         ],
         "legendgroup": "PUENTES",
         "marker": {
          "color": "#B6E880",
          "symbol": "circle"
         },
         "mode": "markers",
         "name": "PUENTES",
         "orientation": "v",
         "showlegend": true,
         "type": "scatter",
         "x": {
          "bdata": "ZmZmZmZmOEA=",
          "dtype": "f8"
         },
         "xaxis": "x",
         "y": {
          "bdata": "GQ==",
          "dtype": "i1"
         },
         "yaxis": "y"
        },
        {
         "customdata": [
          [
           "PROTESIS REMOVIBLE",
           "PRIVADA",
           932,
           2
          ],
          [
           "PROTESIS REMOVIBLE",
           "PRIVADA",
           2385,
           10
          ],
          [
           "PROTESIS REMOVIBLE",
           "PRIVADA",
           500,
           1
          ],
          [
           "PROTESIS REMOVIBLE",
           "PRIVADA",
           120,
           1
          ],
          [
           "PROTESIS REMOVIBLE",
           "PRIVADA",
           800,
           1
          ],
          [
           "PROTESIS REMOVIBLE",
           "PRIVADA",
           80,
           1
          ],
          [
           "PROTESIS REMOVIBLE",
           "PRIVADA",
           600,
           1
          ],
          [
           "PROTESIS REMOVIBLE",
           "PRIVADA",
           2380,
           6
          ],
          [
           "PROTESIS REMOVIBLE",
           "PRIVADA",
           598,
           2
          ],
          [
           "PROTESIS REMOVIBLE",
           "PRIVADA",
           1135,
           8
          ]
         ],
         "hovertemplate": "<b>%{hovertext}</b><br><br>category=%{customdata[0]}<br>Precio Unitario=%{x}<br>Actos Realizados=%{y}<br>tarifa=%{customdata[1]}<br>total=%{customdata[2]}<br>visits=%{customdata[3]}<extra></extra>",
         "hovertext": [
          "PROTESIS MAXILOFACIAL",
          "FERULA DESCARGA",
          "DENT. COMPLETA INFERIOR",
          "AJUST. DENT. COMPLETA SUPERIOR",
          "DENT. COMPLETA SUPERIOR",
          "REPARACION BASE DENT. COMPLETA",
          "Copia de PARCIAL INFERIOR",
          "Copia de PARCIAL SUPERIOR",
          "PARCIAL SUPERIOR",
          "COMPOSTURA DIENTE"
         ],
         "legendgroup": "PROTESIS REMOVIBLE",
         "marker": {
          "color": "#FF97FF",
          "symbol": "circle"
         },
         "mode": "markers",
         "name": "PROTESIS REMOVIBLE",
         "orientation": "v",
         "showlegend": true,
         "type": "scatter",
         "x": {
          "bdata": "AAAAAAAgfUAAAAAAANBtQAAAAAAAQH9AAAAAAAAAXkAAAAAAAACJQAAAAAAAAFRAAAAAAADAgkCrqqqqqsp4QAAAAAAAsHJAAAAAAAC8YUA=",
          "dtype": "f8"
         },
         "xaxis": "x",
         "y": {
          "bdata": "AgoBAQEBAQYCCA==",
          "dtype": "i1"
         },
         "yaxis": "y"
        },
        {
         "customdata": [
          [
           "IMPLANTES",
           "PRIVADA",
           1108,
           4
          ],
          [
           "IMPLANTES",
           "PRIVADA",
           348,
           4
          ],
          [
           "IMPLANTES",
           "PRIVADA",
           46120,
           35
          ],
          [
           "IMPLANTES",
           "DKV",
           2000,
           2
          ]
         ],
         "hovertemplate": "<b>%{hovertext}</b><br><br>category=%{customdata[0]}<br>Precio Unitario=%{x}<br>Actos Realizados=%{y}<br>tarifa=%{customdata[1]}<br>total=%{customdata[2]}<br>visits=%{customdata[3]}<extra></extra>",
         "hovertext": [
          "ADITAMENTOS PROTESICOS",
          "SUPRA O MESOESTRUCTURA",
          "IMPLANTE",
          "IMPLANTE"
         ],
         "legendgroup": "IMPLANTES",
         "marker": {
          "color": "#FECB52",
          "symbol": "circle"
         },
         "mode": "markers",
         "name": "IMPLANTES",
         "orientation": "v",
         "showlegend": true,
         "type": "scatter",
         "x": {
          "bdata": "AAAAAABQcUAAAAAAAMBVQApeTsHLaY1AAAAAAABAj0A=",
          "dtype": "f8"
         },
         "xaxis": "x",
         "y": {
          "bdata": "BAQxAg==",
          "dtype": "i1"
         },
         "yaxis": "y"
        },
        {
         "customdata": [
          [
           "ORTODONCIAS",
           "PRIVADA",
           6179,
           6
          ],
          [
           "ORTODONCIAS",
           "PRIVADA",
           11543,
           19
          ],
          [
           "ORTODONCIAS",
           "PRIVADA",
           12040,
           3
          ],
          [
           "ORTODONCIAS",
           "PRIVADA",
           21350,
           6
          ],
          [
           "ORTODONCIAS",
           "PRIVADA",
           120,
           1
          ],
          [
           "ORTODONCIAS",
           "PRIVADA",
           348,
           3
          ],
          [
           "ORTODONCIAS",
           "PRIVADA",
           360,
           3
          ]
         ],
         "hovertemplate": "<b>%{hovertext}</b><br><br>category=%{customdata[0]}<br>Precio Unitario=%{x}<br>Actos Realizados=%{y}<br>tarifa=%{customdata[1]}<br>total=%{customdata[2]}<br>visits=%{customdata[3]}<extra></extra>",
         "hovertext": [
          "1 visitas ortodoncia",
          "BRACKETS METALICOS",
          "BRACKETS ESTETICOS",
          "INVISALIGN",
          "RELAIN. DENT. PARCIAL SUPERIOR",
          "RETENEDOR LINGUAL SUP",
          "RETENEDOR LINGUAL INF"
         ],
         "legendgroup": "ORTODONCIAS",
         "marker": {
          "color": "#636efa",
          "symbol": "circle"
         },
         "mode": "markers",
         "name": "ORTODONCIAS",
         "orientation": "v",
         "showlegend": true,
         "type": "scatter",
         "x": {
          "bdata": "VVVVVVUXkEBDeQ3lNfyCQKuqqqqqWq9Aq6qqqqrMq0AAAAAAAABeQAAAAAAAAF1AAAAAAAAAXkA=",
          "dtype": "f8"
         },
         "xaxis": "x",
         "y": {
          "bdata": "BhMDBgEDAw==",
          "dtype": "i1"
         },
         "yaxis": "y"
        },
        {
         "customdata": [
          [
           "FRENECTOMIA",
           "PRIVADA",
           30,
           1
          ]
         ],
         "hovertemplate": "<b>%{hovertext}</b><br><br>category=%{customdata[0]}<br>Precio Unitario=%{x}<br>Actos Realizados=%{y}<br>tarifa=%{customdata[1]}<br>total=%{customdata[2]}<br>visits=%{customdata[3]}<extra></extra>",
         "hovertext": [
          "FRENECTOMIA INFANTIL"
         ],
         "legendgroup": "FRENECTOMIA",
         "marker": {
          "color": "#EF553B",
          "symbol": "circle"
         },
         "mode": "markers",
         "name": "FRENECTOMIA",
         "orientation": "v",
         "showlegend": true,
         "type": "scatter",
         "x": {
          "bdata": "AAAAAAAAPkA=",
          "dtype": "f8"
         },
         "xaxis": "x",
         "y": {
          "bdata": "AQ==",
          "dtype": "i1"
         },
         "yaxis": "y"
        },
        {
         "customdata": [
          [
           "CIRUGIA MAXILOFACIAL",
           "PRIVADA",
           780,
           2
          ]
         ],
         "hovertemplate": "<b>%{hovertext}</b><br><br>category=%{customdata[0]}<br>Precio Unitario=%{x}<br>Actos Realizados=%{y}<br>tarifa=%{customdata[1]}<br>total=%{customdata[2]}<br>visits=%{customdata[3]}<extra></extra>",
         "hovertext": [
          "INJERTO OSEO"
         ],
         "legendgroup": "CIRUGIA MAXILOFACIAL",
         "marker": {
          "color": "#00cc96",
          "symbol": "circle"
         },
         "mode": "markers",
         "name": "CIRUGIA MAXILOFACIAL",
         "orientation": "v",
         "showlegend": true,
         "type": "scatter",
         "x": {
          "bdata": "AAAAAABgeEA=",
          "dtype": "f8"
         },
         "xaxis": "x",
         "y": {
          "bdata": "Ag==",
          "dtype": "i1"
         },
         "yaxis": "y"
        },
        {
         "customdata": [
          [
           "BLANQUEAMIENTO",
           "PRIVADA",
           2950,
           8
          ]
         ],
         "hovertemplate": "<b>%{hovertext}</b><br><br>category=%{customdata[0]}<br>Precio Unitario=%{x}<br>Actos Realizados=%{y}<br>tarifa=%{customdata[1]}<br>total=%{customdata[2]}<br>visits=%{customdata[3]}<extra></extra>",
         "hovertext": [
          "BLANQUEAMIENTO PHILIPS ZOOM"
         ],
         "legendgroup": "BLANQUEAMIENTO",
         "marker": {
          "color": "#ab63fa",
          "symbol": "circle"
         },
         "mode": "markers",
         "name": "BLANQUEAMIENTO",
         "orientation": "v",
         "showlegend": true,
         "type": "scatter",
         "x": {
          "bdata": "AAAAAAAMd0A=",
          "dtype": "f8"
         },
         "xaxis": "x",
         "y": {
          "bdata": "CA==",
          "dtype": "i1"
         },
         "yaxis": "y"
        },
        {
         "customdata": [
          [
           "DIAGNOSTICOS",
           "  DKV",
           13,
           1
          ]
         ],
         "hovertemplate": "<b>%{hovertext}</b><br><br>category=%{customdata[0]}<br>tarifa=%{customdata[1]}<br>Precio Unitario=%{x}<br>Actos Realizados=%{y}<br>total=%{customdata[2]}<br>visits=%{customdata[3]}<extra></extra>",
         "hovertext": [
          "ORTOPANTOMOGRAFIA"
         ],
         "legendgroup": "DIAGNOSTICOS,   DKV",
         "marker": {
          "color": "#636efa",
          "symbol": "circle"
         },
         "mode": "markers",
         "name": "DIAGNOSTICOS,   DKV",
         "orientation": "v",
         "showlegend": true,
         "type": "scatter",
         "x": {
          "bdata": "AAAAAAAAKkA=",
          "dtype": "f8"
         },
         "xaxis": "x2",
         "y": {
          "bdata": "AQ==",
          "dtype": "i1"
         },
         "yaxis": "y2"
        },
        {
         "customdata": [
          [
           "DIAGNOSTICOS",
           "PRIVADA",
           1013,
           43
          ],
          [
           "DIAGNOSTICOS",
           "PRIVADA",
           2400,
           28
          ]
         ],
         "hovertemplate": "<b>%{hovertext}</b><br><br>category=%{customdata[0]}<br>tarifa=%{customdata[1]}<br>Precio Unitario=%{x}<br>Actos Realizados=%{y}<br>total=%{customdata[2]}<br>visits=%{customdata[3]}<extra></extra>",
         "hovertext": [
          "ORTOPANTOMOGRAFIA",
          "TAC"
         ],
         "legendgroup": "DIAGNOSTICOS, PRIVADA",
         "marker": {
          "color": "#636efa",
          "symbol": "diamond"
         },
         "mode": "markers",
         "name": "DIAGNOSTICOS, PRIVADA",
         "orientation": "v",
         "showlegend": true,
         "type": "scatter",
         "x": {
          "bdata": "JO6IO+KON0Dbtm3btm1VQA==",
          "dtype": "f8"
         },
         "xaxis": "x2",
         "y": {
          "bdata": "Kxw=",
          "dtype": "i1"
         },
         "yaxis": "y2"
        },
        {
         "customdata": [
          [
           "PROFILAXIS",
           "  DKV",
           12,
           1
          ]
         ],
         "hovertemplate": "<b>%{hovertext}</b><br><br>category=%{customdata[0]}<br>tarifa=%{customdata[1]}<br>Precio Unitario=%{x}<br>Actos Realizados=%{y}<br>total=%{customdata[2]}<br>visits=%{customdata[3]}<extra></extra>",
         "hovertext": [
          "Copia de LIMPIEZA"
         ],
         "legendgroup": "PROFILAXIS,   DKV",
         "marker": {
          "color": "#EF553B",
          "symbol": "circle"
         },
         "mode": "markers",
         "name": "PROFILAXIS,   DKV",
         "orientation": "v",
         "showlegend": true,
         "type": "scatter",
         "x": {
          "bdata": "AAAAAAAAKEA=",
          "dtype": "f8"
         },
         "xaxis": "x2",
         "y": {
          "bdata": "AQ==",
          "dtype": "i1"
         },
         "yaxis": "y2"
        },
        {
         "customdata": [
          [
           "PROFILAXIS",
           "PRIVADA",
           8269,
           259
          ],
          [
           "PROFILAXIS",
           "PRIVADA",
           1755,
           62
          ],
          [
           "PROFILAXIS",
           "PRIVADA",
           350,
           1
          ]
         ],
         "hovertemplate": "<b>%{hovertext}</b><br><br>category=%{customdata[0]}<br>tarifa=%{customdata[1]}<br>Precio Unitario=%{x}<br>Actos Realizados=%{y}<br>total=%{customdata[2]}<br>visits=%{customdata[3]}<extra></extra>",
         "hovertext": [
          "Copia de LIMPIEZA",
          "LI1",
          "LI2"
         ],
         "legendgroup": "PROFILAXIS, PRIVADA",
         "marker": {
          "color": "#EF553B",
          "symbol": "diamond"
         },
         "mode": "markers",
         "name": "PROFILAXIS, PRIVADA",
         "orientation": "v",
         "showlegend": true,
         "type": "scatter",
         "x": {
          "bdata": "1A77VjjtP0DOOeecc048QAAAAAAA4HVA",
          "dtype": "f8"
         },
         "xaxis": "x2",
         "y": {
          "bdata": "AwE+AAEA",
          "dtype": "i2"
         },
         "yaxis": "y2"
        },
        {
         "customdata": [
          [
           "PROFILAXIS",
           "DKV",
           350,
           1
          ]
         ],
         "hovertemplate": "<b>%{hovertext}</b><br><br>category=%{customdata[0]}<br>tarifa=%{customdata[1]}<br>Precio Unitario=%{x}<br>Actos Realizados=%{y}<br>total=%{customdata[2]}<br>visits=%{customdata[3]}<extra></extra>",
         "hovertext": [
          "LI2"
         ],
         "legendgroup": "PROFILAXIS, DKV",
         "marker": {
          "color": "#EF553B",
          "symbol": "x"
         },
         "mode": "markers",
         "name": "PROFILAXIS, DKV",
         "orientation": "v",
         "showlegend": true,
         "type": "scatter",
         "x": {
          "bdata": "AAAAAADgdUA=",
          "dtype": "f8"
         },
         "xaxis": "x2",
         "y": {
          "bdata": "AQ==",
          "dtype": "i1"
         },
         "yaxis": "y2"
        },
        {
         "customdata": [
          [
           "EXTRACCION",
           "  DKV",
           13,
           1
          ]
         ],
         "hovertemplate": "<b>%{hovertext}</b><br><br>category=%{customdata[0]}<br>tarifa=%{customdata[1]}<br>Precio Unitario=%{x}<br>Actos Realizados=%{y}<br>total=%{customdata[2]}<br>visits=%{customdata[3]}<extra></extra>",
         "hovertext": [
          "Copia de EXTRACCION SIMPLE"
         ],
         "legendgroup": "EXTRACCION,   DKV",
         "marker": {
          "color": "#00cc96",
          "symbol": "circle"
         },
         "mode": "markers",
         "name": "EXTRACCION,   DKV",
         "orientation": "v",
         "showlegend": true,
         "type": "scatter",
         "x": {
          "bdata": "AAAAAAAAKkA=",
          "dtype": "f8"
         },
         "xaxis": "x2",
         "y": {
          "bdata": "AQ==",
          "dtype": "i1"
         },
         "yaxis": "y2"
        },
        {
         "customdata": [
          [
           "EXTRACCION",
           "PRIVADA",
           70,
           4
          ],
          [
           "EXTRACCION",
           "PRIVADA",
           3329,
           42
          ],
          [
           "EXTRACCION",
           "PRIVADA",
           840,
           3
          ],
          [
           "EXTRACCION",
           "PRIVADA",
           1080,
           12
          ],
          [
           "EXTRACCION",
           "PRIVADA",
           300,
           3
          ],
          [
           "EXTRACCION",
           "PRIVADA",
           450,
           2
          ],
          [
           "EXTRACCION",
           "PRIVADA",
           1520,
           4
          ],
          [
           "EXTRACCION",
           "PRIVADA",
           150,
           2
          ]
         ],
         "hovertemplate": "<b>%{hovertext}</b><br><br>category=%{customdata[0]}<br>tarifa=%{customdata[1]}<br>Precio Unitario=%{x}<br>Actos Realizados=%{y}<br>total=%{customdata[2]}<br>visits=%{customdata[3]}<extra></extra>",
         "hovertext": [
          "EXTR. TEMPORAL",
          "Copia de EXTRACCION SIMPLE",
          "EXTRACCION SIMPLE",
          "EXTRACCION RESTO RADICULAR",
          "EXTRACCION COMPLEJA",
          "EXTRACCION QUIRURGICA",
          "EXTRACCION QUIRURGICA TERCER MOLAR INCLUIDO",
          "EXTRACCION DE IMPLANTE"
         ],
         "legendgroup": "EXTRACCION, PRIVADA",
         "marker": {
          "color": "#00cc96",
          "symbol": "diamond"
         },
         "mode": "markers",
         "name": "EXTRACCION, PRIVADA",
         "orientation": "v",
         "showlegend": true,
         "type": "scatter",
         "x": {
          "bdata": "AAAAAACAMUCpCcZb2WdPQAAAAAAAgHFAkiRJkiRJU0AAAAAAAABZQAAAAAAAIFxAq6qqqqqqb0AAAAAAAMBCQA==",
          "dtype": "f8"
         },
         "xaxis": "x2",
         "y": {
          "bdata": "BDUDDgMEBgQ=",
          "dtype": "i1"
         },
         "yaxis": "y2"
        },
        {
         "customdata": [
          [
           "OBTURACION",
           "PRIVADA",
           8992,
           129
          ],
          [
           "OBTURACION",
           "PRIVADA",
           1845,
           23
          ],
          [
           "OBTURACION",
           "PRIVADA",
           1250,
           17
          ],
          [
           "OBTURACION",
           "PRIVADA",
           1733,
           27
          ]
         ],
         "hovertemplate": "<b>%{hovertext}</b><br><br>category=%{customdata[0]}<br>tarifa=%{customdata[1]}<br>Precio Unitario=%{x}<br>Actos Realizados=%{y}<br>total=%{customdata[2]}<br>visits=%{customdata[3]}<extra></extra>",
         "hovertext": [
          "OBTURACION",
          "OBTURACION SIMPLE",
          "RECONSTRUCCION",
          "RECONSTRUCCION COMPOSITE"
         ],
         "legendgroup": "OBTURACION, PRIVADA",
         "marker": {
          "color": "#ab63fa",
          "symbol": "diamond"
         },
         "mode": "markers",
         "name": "OBTURACION, PRIVADA",
         "orientation": "v",
         "showlegend": true,
         "type": "scatter",
         "x": {
          "bdata": "QMv5s5w/S0AAAAAAAMBOQAAAAAAAQE9AvoT2EtoLUEA=",
          "dtype": "f8"
         },
         "xaxis": "x2",
         "y": {
          "bdata": "pQAeABQAGwA=",
          "dtype": "i2"
         },
         "yaxis": "y2"
        },
        {
         "customdata": [
          [
           "OBTURACION",
           "ASISA",
           60,
           1
          ]
         ],
         "hovertemplate": "<b>%{hovertext}</b><br><br>category=%{customdata[0]}<br>tarifa=%{customdata[1]}<br>Precio Unitario=%{x}<br>Actos Realizados=%{y}<br>total=%{customdata[2]}<br>visits=%{customdata[3]}<extra></extra>",
         "hovertext": [
          "RECONSTRUCCION COMPOSITE"
         ],
         "legendgroup": "OBTURACION, ASISA",
         "marker": {
          "color": "#ab63fa",
          "symbol": "square"
         },
         "mode": "markers",
         "name": "OBTURACION, ASISA",
         "orientation": "v",
         "showlegend": true,
         "type": "scatter",
         "x": {
          "bdata": "AAAAAAAATkA=",
          "dtype": "f8"
         },
         "xaxis": "x2",
         "y": {
          "bdata": "AQ==",
          "dtype": "i1"
         },
         "yaxis": "y2"
        },
        {
         "customdata": [
          [
           "OBTURACION",
           "DKV",
           290,
           4
          ]
         ],
         "hovertemplate": "<b>%{hovertext}</b><br><br>category=%{customdata[0]}<br>tarifa=%{customdata[1]}<br>Precio Unitario=%{x}<br>Actos Realizados=%{y}<br>total=%{customdata[2]}<br>visits=%{customdata[3]}<extra></extra>",
         "hovertext": [
          "RECONSTRUCCION COMPOSITE"
         ],
         "legendgroup": "OBTURACION, DKV",
         "marker": {
          "color": "#ab63fa",
          "symbol": "x"
         },
         "mode": "markers",
         "name": "OBTURACION, DKV",
         "orientation": "v",
         "showlegend": true,
         "type": "scatter",
         "x": {
          "bdata": "AAAAAAAgUkA=",
          "dtype": "f8"
         },
         "xaxis": "x2",
         "y": {
          "bdata": "BA==",
          "dtype": "i1"
         },
         "yaxis": "y2"
        },
        {
         "customdata": [
          [
           "CIRUGIA PERIODONTAL",
           "PRIVADA",
           240,
           2
          ]
         ],
         "hovertemplate": "<b>%{hovertext}</b><br><br>category=%{customdata[0]}<br>tarifa=%{customdata[1]}<br>Precio Unitario=%{x}<br>Actos Realizados=%{y}<br>total=%{customdata[2]}<br>visits=%{customdata[3]}<extra></extra>",
         "hovertext": [
          "CURETAJE GINGIVAL POR CUADRANT"
         ],
         "legendgroup": "CIRUGIA PERIODONTAL, PRIVADA",
         "marker": {
          "color": "#FFA15A",
          "symbol": "diamond"
         },
         "mode": "markers",
         "name": "CIRUGIA PERIODONTAL, PRIVADA",
         "orientation": "v",
         "showlegend": true,
         "type": "scatter",
         "x": {
          "bdata": "AAAAAAAATkA=",
          "dtype": "f8"
         },
         "xaxis": "x2",
         "y": {
          "bdata": "BA==",
          "dtype": "i1"
         },
         "yaxis": "y2"
        },
        {
         "customdata": [
          [
           "ENDODONCIAS",
           "PRIVADA",
           2330,
           16
          ],
          [
           "ENDODONCIAS",
           "PRIVADA",
           300,
           1
          ],
          [
           "ENDODONCIAS",
           "PRIVADA",
           600,
           4
          ],
          [
           "ENDODONCIAS",
           "PRIVADA",
           813,
           5
          ],
          [
           "ENDODONCIAS",
           "PRIVADA",
           110,
           1
          ]
         ],
         "hovertemplate": "<b>%{hovertext}</b><br><br>category=%{customdata[0]}<br>tarifa=%{customdata[1]}<br>Precio Unitario=%{x}<br>Actos Realizados=%{y}<br>total=%{customdata[2]}<br>visits=%{customdata[3]}<extra></extra>",
         "hovertext": [
          "Copia de ENDODONCIA ANTERIOR",
          "ENDODONCIA DE 1 CANAL",
          "ENDODONCIA DE 2 CANALES",
          "ENDODONCIA DE 3 CANALES",
          "ENDODONCIA DE 3 MOLAR"
         ],
         "legendgroup": "ENDODONCIAS, PRIVADA",
         "marker": {
          "color": "#19d3f3",
          "symbol": "diamond"
         },
         "mode": "markers",
         "name": "ENDODONCIAS, PRIVADA",
         "orientation": "v",
         "showlegend": true,
         "type": "scatter",
         "x": {
          "bdata": "AAAAAAA0YkAAAAAAAMBiQAAAAAAAwGJAMzMzMzNTZEAAAAAAAIBbQA==",
          "dtype": "f8"
         },
         "xaxis": "x2",
         "y": {
          "bdata": "EAIEBQE=",
          "dtype": "i1"
         },
         "yaxis": "y2"
        },
        {
         "customdata": [
          [
           "ENDODONCIAS",
           "ASISA",
           175,
           1
          ]
         ],
         "hovertemplate": "<b>%{hovertext}</b><br><br>category=%{customdata[0]}<br>tarifa=%{customdata[1]}<br>Precio Unitario=%{x}<br>Actos Realizados=%{y}<br>total=%{customdata[2]}<br>visits=%{customdata[3]}<extra></extra>",
         "hovertext": [
          "ENDODONCIA DE 4 0 MAS CANALES"
         ],
         "legendgroup": "ENDODONCIAS, ASISA",
         "marker": {
          "color": "#19d3f3",
          "symbol": "square"
         },
         "mode": "markers",
         "name": "ENDODONCIAS, ASISA",
         "orientation": "v",
         "showlegend": true,
         "type": "scatter",
         "x": {
          "bdata": "AAAAAADgZUA=",
          "dtype": "f8"
         },
         "xaxis": "x2",
         "y": {
          "bdata": "AQ==",
          "dtype": "i1"
         },
         "yaxis": "y2"
        },
        {
         "customdata": [
          [
           "CORONA",
           "PRIVADA",
           11056,
           26
          ],
          [
           "CORONA",
           "PRIVADA",
           594,
           13
          ],
          [
           "CORONA",
           "PRIVADA",
           26131,
           29
          ],
          [
           "CORONA",
           "PRIVADA",
           3625,
           5
          ],
          [
           "CORONA",
           "PRIVADA",
           320,
           5
          ],
          [
           "CORONA",
           "PRIVADA",
           3500,
           2
          ],
          [
           "CORONA",
           "PRIVADA",
           3000,
           1
          ]
         ],
         "hovertemplate": "<b>%{hovertext}</b><br><br>category=%{customdata[0]}<br>tarifa=%{customdata[1]}<br>Precio Unitario=%{x}<br>Actos Realizados=%{y}<br>total=%{customdata[2]}<br>visits=%{customdata[3]}<extra></extra>",
         "hovertext": [
          "CORONA METAL CERAMICA",
          "CORONA RESINA(LABORATORIO)",
          "CORONA IMPLANTE",
          "CORONA IMPLANTE ZIRCONIO",
          "RECEMENTADO DE CORONA",
          "PROTESIS COMPLETA CERAMICA",
          "PROTESIS HIBRIDA RESINA"
         ],
         "legendgroup": "CORONA, PRIVADA",
         "marker": {
          "color": "#FF6692",
          "symbol": "diamond"
         },
         "mode": "markers",
         "name": "CORONA, PRIVADA",
         "orientation": "v",
         "showlegend": true,
         "type": "scatter",
         "x": {
          "bdata": "4yu+4iu+c0AAAAAAAIBAQGgvob2EPn5Ax3Ecx3EseUByHMdxHMdBQAAAAAAAWJtAAAAAAABwp0A=",
          "dtype": "f8"
         },
         "xaxis": "x2",
         "y": {
          "bdata": "IxI2CQkCAQ==",
          "dtype": "i1"
         },
         "yaxis": "y2"
        },
        {
         "customdata": [
          [
           "CORONA",
           "ASISA",
           500,
           1
          ]
         ],
         "hovertemplate": "<b>%{hovertext}</b><br><br>category=%{customdata[0]}<br>tarifa=%{customdata[1]}<br>Precio Unitario=%{x}<br>Actos Realizados=%{y}<br>total=%{customdata[2]}<br>visits=%{customdata[3]}<extra></extra>",
         "hovertext": [
          "CORONA IMPLANTE"
         ],
         "legendgroup": "CORONA, ASISA",
         "marker": {
          "color": "#FF6692",
          "symbol": "square"
         },
         "mode": "markers",
         "name": "CORONA, ASISA",
         "orientation": "v",
         "showlegend": true,
         "type": "scatter",
         "x": {
          "bdata": "AAAAAABAf0A=",
          "dtype": "f8"
         },
         "xaxis": "x2",
         "y": {
          "bdata": "AQ==",
          "dtype": "i1"
         },
         "yaxis": "y2"
        },
        {
         "customdata": [
          [
           "CORONA",
           "DKV",
           500,
           1
          ],
          [
           "CORONA",
           "DKV",
           860,
           1
          ]
         ],
         "hovertemplate": "<b>%{hovertext}</b><br><br>category=%{customdata[0]}<br>tarifa=%{customdata[1]}<br>Precio Unitario=%{x}<br>Actos Realizados=%{y}<br>total=%{customdata[2]}<br>visits=%{customdata[3]}<extra></extra>",
         "hovertext": [
          "CORONA IMPLANTE",
          "CORONA TOTAL METAL NOBLE"
         ],
         "legendgroup": "CORONA, DKV",
         "marker": {
          "color": "#FF6692",
          "symbol": "x"
         },
         "mode": "markers",
         "name": "CORONA, DKV",
         "orientation": "v",
         "showlegend": true,
         "type": "scatter",
         "x": {
          "bdata": "AAAAAABAf0AAAAAAAOCKQA==",
          "dtype": "f8"
         },
         "xaxis": "x2",
         "y": {
          "bdata": "AQE=",
          "dtype": "i1"
         },
         "yaxis": "y2"
        },
        {
         "customdata": [
          [
           "PUENTES",
           "PRIVADA",
           610,
           11
          ]
         ],
         "hovertemplate": "<b>%{hovertext}</b><br><br>category=%{customdata[0]}<br>tarifa=%{customdata[1]}<br>Precio Unitario=%{x}<br>Actos Realizados=%{y}<br>total=%{customdata[2]}<br>visits=%{customdata[3]}<extra></extra>",
         "hovertext": [
          "RECEMENTADO DE PUENTE"
         ],
         "legendgroup": "PUENTES, PRIVADA",
         "marker": {
          "color": "#B6E880",
          "symbol": "diamond"
         },
         "mode": "markers",
         "name": "PUENTES, PRIVADA",
         "orientation": "v",
         "showlegend": true,
         "type": "scatter",
         "x": {
          "bdata": "ZmZmZmZmOEA=",
          "dtype": "f8"
         },
         "xaxis": "x2",
         "y": {
          "bdata": "GQ==",
          "dtype": "i1"
         },
         "yaxis": "y2"
        },
        {
         "customdata": [
          [
           "PROTESIS REMOVIBLE",
           "PRIVADA",
           932,
           2
          ],
          [
           "PROTESIS REMOVIBLE",
           "PRIVADA",
           2385,
           10
          ],
          [
           "PROTESIS REMOVIBLE",
           "PRIVADA",
           500,
           1
          ],
          [
           "PROTESIS REMOVIBLE",
           "PRIVADA",
           120,
           1
          ],
          [
           "PROTESIS REMOVIBLE",
           "PRIVADA",
           800,
           1
          ],
          [
           "PROTESIS REMOVIBLE",
           "PRIVADA",
           80,
           1
          ],
          [
           "PROTESIS REMOVIBLE",
           "PRIVADA",
           600,
           1
          ],
          [
           "PROTESIS REMOVIBLE",
           "PRIVADA",
           2380,
           6
          ],
          [
           "PROTESIS REMOVIBLE",
           "PRIVADA",
           598,
           2
          ],
          [
           "PROTESIS REMOVIBLE",
           "PRIVADA",
           1135,
           8
          ]
         ],
         "hovertemplate": "<b>%{hovertext}</b><br><br>category=%{customdata[0]}<br>tarifa=%{customdata[1]}<br>Precio Unitario=%{x}<br>Actos Realizados=%{y}<br>total=%{customdata[2]}<br>visits=%{customdata[3]}<extra></extra>",
         "hovertext": [
          "PROTESIS MAXILOFACIAL",
          "FERULA DESCARGA",
          "DENT. COMPLETA INFERIOR",
          "AJUST. DENT. COMPLETA SUPERIOR",
          "DENT. COMPLETA SUPERIOR",
          "REPARACION BASE DENT. COMPLETA",
          "Copia de PARCIAL INFERIOR",
          "Copia de PARCIAL SUPERIOR",
          "PARCIAL SUPERIOR",
          "COMPOSTURA DIENTE"
         ],
         "legendgroup": "PROTESIS REMOVIBLE, PRIVADA",
         "marker": {
          "color": "#FF97FF",
          "symbol": "diamond"
         },
         "mode": "markers",
         "name": "PROTESIS REMOVIBLE, PRIVADA",
         "orientation": "v",
         "showlegend": true,
         "type": "scatter",
         "x": {
          "bdata": "AAAAAAAgfUAAAAAAANBtQAAAAAAAQH9AAAAAAAAAXkAAAAAAAACJQAAAAAAAAFRAAAAAAADAgkCrqqqqqsp4QAAAAAAAsHJAAAAAAAC8YUA=",
          "dtype": "f8"
         },
         "xaxis": "x2",
         "y": {
          "bdata": "AgoBAQEBAQYCCA==",
          "dtype": "i1"
         },
         "yaxis": "y2"
        },
        {
         "customdata": [
          [
           "IMPLANTES",
           "PRIVADA",
           1108,
           4
          ],
          [
           "IMPLANTES",
           "PRIVADA",
           348,
           4
          ],
          [
           "IMPLANTES",
           "PRIVADA",
           46120,
           35
          ]
         ],
         "hovertemplate": "<b>%{hovertext}</b><br><br>category=%{customdata[0]}<br>tarifa=%{customdata[1]}<br>Precio Unitario=%{x}<br>Actos Realizados=%{y}<br>total=%{customdata[2]}<br>visits=%{customdata[3]}<extra></extra>",
         "hovertext": [
          "ADITAMENTOS PROTESICOS",
          "SUPRA O MESOESTRUCTURA",
          "IMPLANTE"
         ],
         "legendgroup": "IMPLANTES, PRIVADA",
         "marker": {
          "color": "#FECB52",
          "symbol": "diamond"
         },
         "mode": "markers",
         "name": "IMPLANTES, PRIVADA",
         "orientation": "v",
         "showlegend": true,
         "type": "scatter",
         "x": {
          "bdata": "AAAAAABQcUAAAAAAAMBVQApeTsHLaY1A",
          "dtype": "f8"
         },
         "xaxis": "x2",
         "y": {
          "bdata": "BAQx",
          "dtype": "i1"
         },
         "yaxis": "y2"
        },
        {
         "customdata": [
          [
           "IMPLANTES",
           "DKV",
           2000,
           2
          ]
         ],
         "hovertemplate": "<b>%{hovertext}</b><br><br>category=%{customdata[0]}<br>tarifa=%{customdata[1]}<br>Precio Unitario=%{x}<br>Actos Realizados=%{y}<br>total=%{customdata[2]}<br>visits=%{customdata[3]}<extra></extra>",
         "hovertext": [
          "IMPLANTE"
         ],
         "legendgroup": "IMPLANTES, DKV",
         "marker": {
          "color": "#FECB52",
          "symbol": "x"
         },
         "mode": "markers",
         "name": "IMPLANTES, DKV",
         "orientation": "v",
         "showlegend": true,
         "type": "scatter",
         "x": {
          "bdata": "AAAAAABAj0A=",
          "dtype": "f8"
         },
         "xaxis": "x2",
         "y": {
          "bdata": "Ag==",
          "dtype": "i1"
         },
         "yaxis": "y2"
        },
        {
         "customdata": [
          [
           "ORTODONCIAS",
           "PRIVADA",
           6179,
           6
          ],
          [
           "ORTODONCIAS",
           "PRIVADA",
           11543,
           19
          ],
          [
           "ORTODONCIAS",
           "PRIVADA",
           12040,
           3
          ],
          [
           "ORTODONCIAS",
           "PRIVADA",
           21350,
           6
          ],
          [
           "ORTODONCIAS",
           "PRIVADA",
           120,
           1
          ],
          [
           "ORTODONCIAS",
           "PRIVADA",
           348,
           3
          ],
          [
           "ORTODONCIAS",
           "PRIVADA",
           360,
           3
          ]
         ],
         "hovertemplate": "<b>%{hovertext}</b><br><br>category=%{customdata[0]}<br>tarifa=%{customdata[1]}<br>Precio Unitario=%{x}<br>Actos Realizados=%{y}<br>total=%{customdata[2]}<br>visits=%{customdata[3]}<extra></extra>",
         "hovertext": [
          "1 visitas ortodoncia",
          "BRACKETS METALICOS",
          "BRACKETS ESTETICOS",
          "INVISALIGN",
          "RELAIN. DENT. PARCIAL SUPERIOR",
          "RETENEDOR LINGUAL SUP",
          "RETENEDOR LINGUAL INF"
         ],
         "legendgroup": "ORTODONCIAS, PRIVADA",
         "marker": {
          "color": "#636efa",
          "symbol": "diamond"
         },
         "mode": "markers",
         "name": "ORTODONCIAS, PRIVADA",
         "orientation": "v",
         "showlegend": true,
         "type": "scatter",
         "x": {
          "bdata": "VVVVVVUXkEBDeQ3lNfyCQKuqqqqqWq9Aq6qqqqrMq0AAAAAAAABeQAAAAAAAAF1AAAAAAAAAXkA=",
          "dtype": "f8"
         },
         "xaxis": "x2",
         "y": {
          "bdata": "BhMDBgEDAw==",
          "dtype": "i1"
         },
         "yaxis": "y2"
        },
        {
         "customdata": [
          [
           "FRENECTOMIA",
           "PRIVADA",
           30,
           1
          ]
         ],
         "hovertemplate": "<b>%{hovertext}</b><br><br>category=%{customdata[0]}<br>tarifa=%{customdata[1]}<br>Precio Unitario=%{x}<br>Actos Realizados=%{y}<br>total=%{customdata[2]}<br>visits=%{customdata[3]}<extra></extra>",
         "hovertext": [
          "FRENECTOMIA INFANTIL"
         ],
         "legendgroup": "FRENECTOMIA, PRIVADA",
         "marker": {
          "color": "#EF553B",
          "symbol": "diamond"
         },
         "mode": "markers",
         "name": "FRENECTOMIA, PRIVADA",
         "orientation": "v",
         "showlegend": true,
         "type": "scatter",
         "x": {
          "bdata": "AAAAAAAAPkA=",
          "dtype": "f8"
         },
         "xaxis": "x2",
         "y": {
          "bdata": "AQ==",
          "dtype": "i1"
         },
         "yaxis": "y2"
        },
        {
         "customdata": [
          [
           "CIRUGIA MAXILOFACIAL",
           "PRIVADA",
           780,
           2
          ]
         ],
         "hovertemplate": "<b>%{hovertext}</b><br><br>category=%{customdata[0]}<br>tarifa=%{customdata[1]}<br>Precio Unitario=%{x}<br>Actos Realizados=%{y}<br>total=%{customdata[2]}<br>visits=%{customdata[3]}<extra></extra>",
         "hovertext": [
          "INJERTO OSEO"
         ],
         "legendgroup": "CIRUGIA MAXILOFACIAL, PRIVADA",
         "marker": {
          "color": "#00cc96",
          "symbol": "diamond"
         },
         "mode": "markers",
         "name": "CIRUGIA MAXILOFACIAL, PRIVADA",
         "orientation": "v",
         "showlegend": true,
         "type": "scatter",
         "x": {
          "bdata": "AAAAAABgeEA=",
          "dtype": "f8"
         },
         "xaxis": "x2",
         "y": {
          "bdata": "Ag==",
          "dtype": "i1"
         },
         "yaxis": "y2"
        },
        {
         "customdata": [
          [
           "BLANQUEAMIENTO",
           "PRIVADA",
           2950,
           8
          ]
         ],
         "hovertemplate": "<b>%{hovertext}</b><br><br>category=%{customdata[0]}<br>tarifa=%{customdata[1]}<br>Precio Unitario=%{x}<br>Actos Realizados=%{y}<br>total=%{customdata[2]}<br>visits=%{customdata[3]}<extra></extra>",
         "hovertext": [
          "BLANQUEAMIENTO PHILIPS ZOOM"
         ],
         "legendgroup": "BLANQUEAMIENTO, PRIVADA",
         "marker": {
          "color": "#ab63fa",
          "symbol": "diamond"
         },
         "mode": "markers",
         "name": "BLANQUEAMIENTO, PRIVADA",
         "orientation": "v",
         "showlegend": true,
         "type": "scatter",
         "x": {
          "bdata": "AAAAAAAMd0A=",
          "dtype": "f8"
         },
         "xaxis": "x2",
         "y": {
          "bdata": "CA==",
          "dtype": "i1"
         },
         "yaxis": "y2"
        }
       ],
       "layout": {
        "annotations": [
         {
          "font": {
           "size": 16
          },
          "showarrow": false,
          "text": "Escala Normal",
          "x": 0.225,
          "xanchor": "center",
          "xref": "paper",
          "y": 1,
          "yanchor": "bottom",
          "yref": "paper"
         },
         {
          "font": {
           "size": 16
          },
          "showarrow": false,
          "text": "Escala Log",
          "x": 0.775,
          "xanchor": "center",
          "xref": "paper",
          "y": 1,
          "yanchor": "bottom",
          "yref": "paper"
         }
        ],
        "font": {
         "color": "black",
         "family": "Oswald"
        },
        "height": 500,
        "paper_bgcolor": "white",
        "plot_bgcolor": "white",
        "showlegend": false,
        "template": {
         "data": {
          "bar": [
           {
            "error_x": {
             "color": "#2a3f5f"
            },
            "error_y": {
             "color": "#2a3f5f"
            },
            "marker": {
             "line": {
              "color": "#E5ECF6",
              "width": 0.5
             },
             "pattern": {
              "fillmode": "overlay",
              "size": 10,
              "solidity": 0.2
             }
            },
            "type": "bar"
           }
          ],
          "barpolar": [
           {
            "marker": {
             "line": {
              "color": "#E5ECF6",
              "width": 0.5
             },
             "pattern": {
              "fillmode": "overlay",
              "size": 10,
              "solidity": 0.2
             }
            },
            "type": "barpolar"
           }
          ],
          "carpet": [
           {
            "aaxis": {
             "endlinecolor": "#2a3f5f",
             "gridcolor": "white",
             "linecolor": "white",
             "minorgridcolor": "white",
             "startlinecolor": "#2a3f5f"
            },
            "baxis": {
             "endlinecolor": "#2a3f5f",
             "gridcolor": "white",
             "linecolor": "white",
             "minorgridcolor": "white",
             "startlinecolor": "#2a3f5f"
            },
            "type": "carpet"
           }
          ],
          "choropleth": [
           {
            "colorbar": {
             "outlinewidth": 0,
             "ticks": ""
            },
            "type": "choropleth"
           }
          ],
          "contour": [
           {
            "colorbar": {
             "outlinewidth": 0,
             "ticks": ""
            },
            "colorscale": [
             [
              0,
              "#0d0887"
             ],
             [
              0.1111111111111111,
              "#46039f"
             ],
             [
              0.2222222222222222,
              "#7201a8"
             ],
             [
              0.3333333333333333,
              "#9c179e"
             ],
             [
              0.4444444444444444,
              "#bd3786"
             ],
             [
              0.5555555555555556,
              "#d8576b"
             ],
             [
              0.6666666666666666,
              "#ed7953"
             ],
             [
              0.7777777777777778,
              "#fb9f3a"
             ],
             [
              0.8888888888888888,
              "#fdca26"
             ],
             [
              1,
              "#f0f921"
             ]
            ],
            "type": "contour"
           }
          ],
          "contourcarpet": [
           {
            "colorbar": {
             "outlinewidth": 0,
             "ticks": ""
            },
            "type": "contourcarpet"
           }
          ],
          "heatmap": [
           {
            "colorbar": {
             "outlinewidth": 0,
             "ticks": ""
            },
            "colorscale": [
             [
              0,
              "#0d0887"
             ],
             [
              0.1111111111111111,
              "#46039f"
             ],
             [
              0.2222222222222222,
              "#7201a8"
             ],
             [
              0.3333333333333333,
              "#9c179e"
             ],
             [
              0.4444444444444444,
              "#bd3786"
             ],
             [
              0.5555555555555556,
              "#d8576b"
             ],
             [
              0.6666666666666666,
              "#ed7953"
             ],
             [
              0.7777777777777778,
              "#fb9f3a"
             ],
             [
              0.8888888888888888,
              "#fdca26"
             ],
             [
              1,
              "#f0f921"
             ]
            ],
            "type": "heatmap"
           }
          ],
          "histogram": [
           {
            "marker": {
             "pattern": {
              "fillmode": "overlay",
              "size": 10,
              "solidity": 0.2
             }
            },
            "type": "histogram"
           }
          ],
          "histogram2d": [
           {
            "colorbar": {
             "outlinewidth": 0,
             "ticks": ""
            },
            "colorscale": [
             [
              0,
              "#0d0887"
             ],
             [
              0.1111111111111111,
              "#46039f"
             ],
             [
              0.2222222222222222,
              "#7201a8"
             ],
             [
              0.3333333333333333,
              "#9c179e"
             ],
             [
              0.4444444444444444,
              "#bd3786"
             ],
             [
              0.5555555555555556,
              "#d8576b"
             ],
             [
              0.6666666666666666,
              "#ed7953"
             ],
             [
              0.7777777777777778,
              "#fb9f3a"
             ],
             [
              0.8888888888888888,
              "#fdca26"
             ],
             [
              1,
              "#f0f921"
             ]
            ],
            "type": "histogram2d"
           }
          ],
          "histogram2dcontour": [
           {
            "colorbar": {
             "outlinewidth": 0,
             "ticks": ""
            },
            "colorscale": [
             [
              0,
              "#0d0887"
             ],
             [
              0.1111111111111111,
              "#46039f"
             ],
             [
              0.2222222222222222,
              "#7201a8"
             ],
             [
              0.3333333333333333,
              "#9c179e"
             ],
             [
              0.4444444444444444,
              "#bd3786"
             ],
             [
              0.5555555555555556,
              "#d8576b"
             ],
             [
              0.6666666666666666,
              "#ed7953"
             ],
             [
              0.7777777777777778,
              "#fb9f3a"
             ],
             [
              0.8888888888888888,
              "#fdca26"
             ],
             [
              1,
              "#f0f921"
             ]
            ],
            "type": "histogram2dcontour"
           }
          ],
          "mesh3d": [
           {
            "colorbar": {
             "outlinewidth": 0,
             "ticks": ""
            },
            "type": "mesh3d"
           }
          ],
          "parcoords": [
           {
            "line": {
             "colorbar": {
              "outlinewidth": 0,
              "ticks": ""
             }
            },
            "type": "parcoords"
           }
          ],
          "pie": [
           {
            "automargin": true,
            "type": "pie"
           }
          ],
          "scatter": [
           {
            "fillpattern": {
             "fillmode": "overlay",
             "size": 10,
             "solidity": 0.2
            },
            "type": "scatter"
           }
          ],
          "scatter3d": [
           {
            "line": {
             "colorbar": {
              "outlinewidth": 0,
              "ticks": ""
             }
            },
            "marker": {
             "colorbar": {
              "outlinewidth": 0,
              "ticks": ""
             }
            },
            "type": "scatter3d"
           }
          ],
          "scattercarpet": [
           {
            "marker": {
             "colorbar": {
              "outlinewidth": 0,
              "ticks": ""
             }
            },
            "type": "scattercarpet"
           }
          ],
          "scattergeo": [
           {
            "marker": {
             "colorbar": {
              "outlinewidth": 0,
              "ticks": ""
             }
            },
            "type": "scattergeo"
           }
          ],
          "scattergl": [
           {
            "marker": {
             "colorbar": {
              "outlinewidth": 0,
              "ticks": ""
             }
            },
            "type": "scattergl"
           }
          ],
          "scattermap": [
           {
            "marker": {
             "colorbar": {
              "outlinewidth": 0,
              "ticks": ""
             }
            },
            "type": "scattermap"
           }
          ],
          "scattermapbox": [
           {
            "marker": {
             "colorbar": {
              "outlinewidth": 0,
              "ticks": ""
             }
            },
            "type": "scattermapbox"
           }
          ],
          "scatterpolar": [
           {
            "marker": {
             "colorbar": {
              "outlinewidth": 0,
              "ticks": ""
             }
            },
            "type": "scatterpolar"
           }
          ],
          "scatterpolargl": [
           {
            "marker": {
             "colorbar": {
              "outlinewidth": 0,
              "ticks": ""
             }
            },
            "type": "scatterpolargl"
           }
          ],
          "scatterternary": [
           {
            "marker": {
             "colorbar": {
              "outlinewidth": 0,
              "ticks": ""
             }
            },
            "type": "scatterternary"
           }
          ],
          "surface": [
           {
            "colorbar": {
             "outlinewidth": 0,
             "ticks": ""
            },
            "colorscale": [
             [
              0,
              "#0d0887"
             ],
             [
              0.1111111111111111,
              "#46039f"
             ],
             [
              0.2222222222222222,
              "#7201a8"
             ],
             [
              0.3333333333333333,
              "#9c179e"
             ],
             [
              0.4444444444444444,
              "#bd3786"
             ],
             [
              0.5555555555555556,
              "#d8576b"
             ],
             [
              0.6666666666666666,
              "#ed7953"
             ],
             [
              0.7777777777777778,
              "#fb9f3a"
             ],
             [
              0.8888888888888888,
              "#fdca26"
             ],
             [
              1,
              "#f0f921"
             ]
            ],
            "type": "surface"
           }
          ],
          "table": [
           {
            "cells": {
             "fill": {
              "color": "#EBF0F8"
             },
             "line": {
              "color": "white"
             }
            },
            "header": {
             "fill": {
              "color": "#C8D4E3"
             },
             "line": {
              "color": "white"
             }
            },
            "type": "table"
           }
          ]
         },
         "layout": {
          "annotationdefaults": {
           "arrowcolor": "#2a3f5f",
           "arrowhead": 0,
           "arrowwidth": 1
          },
          "autotypenumbers": "strict",
          "coloraxis": {
           "colorbar": {
            "outlinewidth": 0,
            "ticks": ""
           }
          },
          "colorscale": {
           "diverging": [
            [
             0,
             "#8e0152"
            ],
            [
             0.1,
             "#c51b7d"
            ],
            [
             0.2,
             "#de77ae"
            ],
            [
             0.3,
             "#f1b6da"
            ],
            [
             0.4,
             "#fde0ef"
            ],
            [
             0.5,
             "#f7f7f7"
            ],
            [
             0.6,
             "#e6f5d0"
            ],
            [
             0.7,
             "#b8e186"
            ],
            [
             0.8,
             "#7fbc41"
            ],
            [
             0.9,
             "#4d9221"
            ],
            [
             1,
             "#276419"
            ]
           ],
           "sequential": [
            [
             0,
             "#0d0887"
            ],
            [
             0.1111111111111111,
             "#46039f"
            ],
            [
             0.2222222222222222,
             "#7201a8"
            ],
            [
             0.3333333333333333,
             "#9c179e"
            ],
            [
             0.4444444444444444,
             "#bd3786"
            ],
            [
             0.5555555555555556,
             "#d8576b"
            ],
            [
             0.6666666666666666,
             "#ed7953"
            ],
            [
             0.7777777777777778,
             "#fb9f3a"
            ],
            [
             0.8888888888888888,
             "#fdca26"
            ],
            [
             1,
             "#f0f921"
            ]
           ],
           "sequentialminus": [
            [
             0,
             "#0d0887"
            ],
            [
             0.1111111111111111,
             "#46039f"
            ],
            [
             0.2222222222222222,
             "#7201a8"
            ],
            [
             0.3333333333333333,
             "#9c179e"
            ],
            [
             0.4444444444444444,
             "#bd3786"
            ],
            [
             0.5555555555555556,
             "#d8576b"
            ],
            [
             0.6666666666666666,
             "#ed7953"
            ],
            [
             0.7777777777777778,
             "#fb9f3a"
            ],
            [
             0.8888888888888888,
             "#fdca26"
            ],
            [
             1,
             "#f0f921"
            ]
           ]
          },
          "colorway": [
           "#636efa",
           "#EF553B",
           "#00cc96",
           "#ab63fa",
           "#FFA15A",
           "#19d3f3",
           "#FF6692",
           "#B6E880",
           "#FF97FF",
           "#FECB52"
          ],
          "font": {
           "color": "#2a3f5f"
          },
          "geo": {
           "bgcolor": "white",
           "lakecolor": "white",
           "landcolor": "#E5ECF6",
           "showlakes": true,
           "showland": true,
           "subunitcolor": "white"
          },
          "hoverlabel": {
           "align": "left"
          },
          "hovermode": "closest",
          "mapbox": {
           "style": "light"
          },
          "paper_bgcolor": "white",
          "plot_bgcolor": "#E5ECF6",
          "polar": {
           "angularaxis": {
            "gridcolor": "white",
            "linecolor": "white",
            "ticks": ""
           },
           "bgcolor": "#E5ECF6",
           "radialaxis": {
            "gridcolor": "white",
            "linecolor": "white",
            "ticks": ""
           }
          },
          "scene": {
           "xaxis": {
            "backgroundcolor": "#E5ECF6",
            "gridcolor": "white",
            "gridwidth": 2,
            "linecolor": "white",
            "showbackground": true,
            "ticks": "",
            "zerolinecolor": "white"
           },
           "yaxis": {
            "backgroundcolor": "#E5ECF6",
            "gridcolor": "white",
            "gridwidth": 2,
            "linecolor": "white",
            "showbackground": true,
            "ticks": "",
            "zerolinecolor": "white"
           },
           "zaxis": {
            "backgroundcolor": "#E5ECF6",
            "gridcolor": "white",
            "gridwidth": 2,
            "linecolor": "white",
            "showbackground": true,
            "ticks": "",
            "zerolinecolor": "white"
           }
          },
          "shapedefaults": {
           "line": {
            "color": "#2a3f5f"
           }
          },
          "ternary": {
           "aaxis": {
            "gridcolor": "white",
            "linecolor": "white",
            "ticks": ""
           },
           "baxis": {
            "gridcolor": "white",
            "linecolor": "white",
            "ticks": ""
           },
           "bgcolor": "#E5ECF6",
           "caxis": {
            "gridcolor": "white",
            "linecolor": "white",
            "ticks": ""
           }
          },
          "title": {
           "x": 0.05
          },
          "xaxis": {
           "automargin": true,
           "gridcolor": "white",
           "linecolor": "white",
           "ticks": "",
           "title": {
            "standoff": 15
           },
           "zerolinecolor": "white",
           "zerolinewidth": 2
          },
          "yaxis": {
           "automargin": true,
           "gridcolor": "white",
           "linecolor": "white",
           "ticks": "",
           "title": {
            "standoff": 15
           },
           "zerolinecolor": "white",
           "zerolinewidth": 2
          }
         }
        },
        "title": {
         "font": {
          "color": "black"
         },
         "text": "Relación entre Precio Unitario y Número de Actos 2023"
        },
        "width": 1000,
        "xaxis": {
         "anchor": "y",
         "domain": [
          0,
          0.45
         ],
         "gridcolor": "lightgray",
         "linecolor": "black",
         "range": [
          0,
          4100
         ],
         "showgrid": true,
         "tickfont": {
          "color": "black",
          "size": 6
         },
         "ticktext": [
          "0",
          "100",
          "200",
          "300",
          "400",
          "500",
          "1000",
          "2000",
          "3000",
          "4000",
          "4100"
         ],
         "tickvals": [
          0,
          100,
          200,
          300,
          400,
          500,
          1000,
          2000,
          3000,
          4000,
          4100
         ],
         "title": {
          "font": {
           "color": "black"
          }
         },
         "zerolinecolor": "black"
        },
        "xaxis2": {
         "anchor": "y2",
         "domain": [
          0.55,
          1
         ],
         "gridcolor": "lightgray",
         "linecolor": "black",
         "showgrid": true,
         "tickfont": {
          "color": "black"
         },
         "title": {
          "font": {
           "color": "black"
          }
         },
         "type": "log",
         "zerolinecolor": "black"
        },
        "yaxis": {
         "anchor": "x",
         "domain": [
          0,
          1
         ],
         "gridcolor": "lightgray",
         "linecolor": "black",
         "range": [
          0,
          260
         ],
         "showgrid": true,
         "tickfont": {
          "color": "black",
          "size": 8
         },
         "ticktext": [
          "0",
          "10",
          "20",
          "30",
          "40",
          "50",
          "100",
          "150",
          "200",
          "250",
          "260"
         ],
         "tickvals": [
          0,
          10,
          20,
          30,
          40,
          50,
          100,
          150,
          200,
          250,
          260
         ],
         "title": {
          "font": {
           "color": "black"
          }
         },
         "zerolinecolor": "black"
        },
        "yaxis2": {
         "anchor": "x2",
         "domain": [
          0,
          1
         ],
         "gridcolor": "lightgray",
         "linecolor": "black",
         "showgrid": true,
         "tickfont": {
          "color": "black"
         },
         "title": {
          "font": {
           "color": "black"
          }
         },
         "type": "log",
         "zerolinecolor": "black"
        }
       }
      }
     },
     "metadata": {},
     "output_type": "display_data"
    }
   ],
   "source": [
    "#CORRELACION PRECIO UNITARIO DE CADA TRATAMIENTO Y NUMERO DE ACTOS REALIZADOS"
   ]
  },
  {
   "cell_type": "code",
   "execution_count": null,
   "id": "d7243851",
   "metadata": {},
   "outputs": [
    {
     "data": {
      "application/vnd.plotly.v1+json": {
       "config": {
        "plotlyServerURL": "https://plot.ly"
       },
       "data": [
        {
         "customdata": [
          [
           "DIAGNOSTICOS",
           "  DKV",
           13,
           1
          ],
          [
           "DIAGNOSTICOS",
           "PRIVADA",
           1235,
           50
          ],
          [
           "DIAGNOSTICOS",
           "PRIVADA",
           2000,
           23
          ]
         ],
         "hovertemplate": "<b>%{hovertext}</b><br><br>category=%{customdata[0]}<br>Precio Unitario=%{x}<br>Actos Realizados=%{y}<br>tarifa=%{customdata[1]}<br>total=%{customdata[2]}<br>visits=%{customdata[3]}<extra></extra>",
         "hovertext": [
          "ORTOPANTOMOGRAFIA",
          "ORTOPANTOMOGRAFIA",
          "TAC"
         ],
         "legendgroup": "DIAGNOSTICOS",
         "marker": {
          "color": "#636efa",
          "symbol": "circle"
         },
         "mode": "markers",
         "name": "DIAGNOSTICOS",
         "orientation": "v",
         "showlegend": true,
         "type": "scatter",
         "x": {
          "bdata": "AAAAAAAAKkAzMzMzM7M4QJze9KY3vVVA",
          "dtype": "f8"
         },
         "xaxis": "x",
         "y": {
          "bdata": "ATIX",
          "dtype": "i1"
         },
         "yaxis": "y"
        },
        {
         "customdata": [
          [
           "PROFILAXIS",
           "  DKV",
           12,
           1
          ],
          [
           "PROFILAXIS",
           "PRIVADA",
           11319,
           314
          ]
         ],
         "hovertemplate": "<b>%{hovertext}</b><br><br>category=%{customdata[0]}<br>Precio Unitario=%{x}<br>Actos Realizados=%{y}<br>tarifa=%{customdata[1]}<br>total=%{customdata[2]}<br>visits=%{customdata[3]}<extra></extra>",
         "hovertext": [
          "Copia de LIMPIEZA",
          "Copia de LIMPIEZA"
         ],
         "legendgroup": "PROFILAXIS",
         "marker": {
          "color": "#EF553B",
          "symbol": "circle"
         },
         "mode": "markers",
         "name": "PROFILAXIS",
         "orientation": "v",
         "showlegend": true,
         "type": "scatter",
         "x": {
          "bdata": "AAAAAAAAKEAvuuiiiy4/QA==",
          "dtype": "f8"
         },
         "xaxis": "x",
         "y": {
          "bdata": "AQBrAQ==",
          "dtype": "i2"
         },
         "yaxis": "y"
        },
        {
         "customdata": [
          [
           "EXTRACCION",
           "  DKV",
           13,
           1
          ],
          [
           "EXTRACCION",
           "PRIVADA",
           4885,
           79
          ],
          [
           "EXTRACCION",
           "PRIVADA",
           100,
           1
          ]
         ],
         "hovertemplate": "<b>%{hovertext}</b><br><br>category=%{customdata[0]}<br>Precio Unitario=%{x}<br>Actos Realizados=%{y}<br>tarifa=%{customdata[1]}<br>total=%{customdata[2]}<br>visits=%{customdata[3]}<extra></extra>",
         "hovertext": [
          "Copia de EXTRACCION SIMPLE",
          "Copia de EXTRACCION SIMPLE",
          "EXTRACCION QUIRURGICA TERCER MOLAR INCLUIDO"
         ],
         "legendgroup": "EXTRACCION",
         "marker": {
          "color": "#00cc96",
          "symbol": "circle"
         },
         "mode": "markers",
         "name": "EXTRACCION",
         "orientation": "v",
         "showlegend": true,
         "type": "scatter",
         "x": {
          "bdata": "AAAAAAAAKkA5juM4jiNLQAAAAAAAAFlA",
          "dtype": "f8"
         },
         "xaxis": "x",
         "y": {
          "bdata": "AVoB",
          "dtype": "i1"
         },
         "yaxis": "y"
        },
        {
         "customdata": [
          [
           "OBTURACION",
           "PRIVADA",
           18063,
           241
          ],
          [
           "OBTURACION",
           "PRIVADA",
           80,
           1
          ]
         ],
         "hovertemplate": "<b>%{hovertext}</b><br><br>category=%{customdata[0]}<br>Precio Unitario=%{x}<br>Actos Realizados=%{y}<br>tarifa=%{customdata[1]}<br>total=%{customdata[2]}<br>visits=%{customdata[3]}<extra></extra>",
         "hovertext": [
          "OBTURACION",
          "SELLADO POR DIENTE"
         ],
         "legendgroup": "OBTURACION",
         "marker": {
          "color": "#ab63fa",
          "symbol": "circle"
         },
         "mode": "markers",
         "name": "OBTURACION",
         "orientation": "v",
         "showlegend": true,
         "type": "scatter",
         "x": {
          "bdata": "2Y0Hp4mcTUAAAAAAAABEQA==",
          "dtype": "f8"
         },
         "xaxis": "x",
         "y": {
          "bdata": "MQECAA==",
          "dtype": "i2"
         },
         "yaxis": "y"
        },
        {
         "customdata": [
          [
           "CIRUGIA PERIODONTAL",
           "PRIVADA",
           500,
           1
          ],
          [
           "CIRUGIA PERIODONTAL",
           "PRIVADA",
           200,
           1
          ]
         ],
         "hovertemplate": "<b>%{hovertext}</b><br><br>category=%{customdata[0]}<br>Precio Unitario=%{x}<br>Actos Realizados=%{y}<br>tarifa=%{customdata[1]}<br>total=%{customdata[2]}<br>visits=%{customdata[3]}<extra></extra>",
         "hovertext": [
          "CIRUGIA OSEA POR CUADRANTE",
          "REGENERACION DE TEJIDOS"
         ],
         "legendgroup": "CIRUGIA PERIODONTAL",
         "marker": {
          "color": "#FFA15A",
          "symbol": "circle"
         },
         "mode": "markers",
         "name": "CIRUGIA PERIODONTAL",
         "orientation": "v",
         "showlegend": true,
         "type": "scatter",
         "x": {
          "bdata": "AAAAAABAf0AAAAAAAABpQA==",
          "dtype": "f8"
         },
         "xaxis": "x",
         "y": {
          "bdata": "AQE=",
          "dtype": "i1"
         },
         "yaxis": "y"
        },
        {
         "customdata": [
          [
           "ENDODONCIAS",
           "PRIVADA",
           4644,
           30
          ],
          [
           "ENDODONCIAS",
           "PRIVADA",
           149,
           2
          ]
         ],
         "hovertemplate": "<b>%{hovertext}</b><br><br>category=%{customdata[0]}<br>Precio Unitario=%{x}<br>Actos Realizados=%{y}<br>tarifa=%{customdata[1]}<br>total=%{customdata[2]}<br>visits=%{customdata[3]}<extra></extra>",
         "hovertext": [
          "Copia de ENDODONCIA ANTERIOR",
          "PULPUTOMIA TERAPEUTICA"
         ],
         "legendgroup": "ENDODONCIAS",
         "marker": {
          "color": "#19d3f3",
          "symbol": "circle"
         },
         "mode": "markers",
         "name": "ENDODONCIAS",
         "orientation": "v",
         "showlegend": true,
         "type": "scatter",
         "x": {
          "bdata": "mpmZmZlZY0AAAAAAAKBSQA==",
          "dtype": "f8"
         },
         "xaxis": "x",
         "y": {
          "bdata": "HgI=",
          "dtype": "i1"
         },
         "yaxis": "y"
        },
        {
         "customdata": [
          [
           "CORONA",
           "PRIVADA",
           17796,
           45
          ],
          [
           "CORONA",
           "PRIVADA",
           858,
           19
          ],
          [
           "CORONA",
           "PRIVADA",
           22135,
           40
          ],
          [
           "CORONA",
           "PRIVADA",
           439,
           1
          ],
          [
           "CORONA",
           "PRIVADA",
           247,
           4
          ]
         ],
         "hovertemplate": "<b>%{hovertext}</b><br><br>category=%{customdata[0]}<br>Precio Unitario=%{x}<br>Actos Realizados=%{y}<br>tarifa=%{customdata[1]}<br>total=%{customdata[2]}<br>visits=%{customdata[3]}<extra></extra>",
         "hovertext": [
          "CORONA METAL CERAMICA",
          "CORONA RESINA(LABORATORIO)",
          "CORONA IMPLANTE",
          "CORONA IMPLANTE ZIRCONIO",
          "RECEMENTADO DE CORONA"
         ],
         "legendgroup": "CORONA",
         "marker": {
          "color": "#FF6692",
          "symbol": "circle"
         },
         "mode": "markers",
         "name": "CORONA",
         "orientation": "v",
         "showlegend": true,
         "type": "scatter",
         "x": {
          "bdata": "uy+PrQjackDbtm3btm1EQBhvZZ9DGnpAAAAAAABwe0BJkiRJkqRBQA==",
          "dtype": "f8"
         },
         "xaxis": "x",
         "y": {
          "bdata": "OxU1AQc=",
          "dtype": "i1"
         },
         "yaxis": "y"
        },
        {
         "customdata": [
          [
           "PUENTES",
           "PRIVADA",
           1785,
           6
          ]
         ],
         "hovertemplate": "<b>%{hovertext}</b><br><br>category=%{customdata[0]}<br>Precio Unitario=%{x}<br>Actos Realizados=%{y}<br>tarifa=%{customdata[1]}<br>total=%{customdata[2]}<br>visits=%{customdata[3]}<extra></extra>",
         "hovertext": [
          "RECEMENTADO DE PUENTE"
         ],
         "legendgroup": "PUENTES",
         "marker": {
          "color": "#B6E880",
          "symbol": "circle"
         },
         "mode": "markers",
         "name": "PUENTES",
         "orientation": "v",
         "showlegend": true,
         "type": "scatter",
         "x": {
          "bdata": "AAAAAADkW0A=",
          "dtype": "f8"
         },
         "xaxis": "x",
         "y": {
          "bdata": "EA==",
          "dtype": "i1"
         },
         "yaxis": "y"
        },
        {
         "customdata": [
          [
           "MUñON",
           "PRIVADA",
           150,
           2
          ]
         ],
         "hovertemplate": "<b>%{hovertext}</b><br><br>category=%{customdata[0]}<br>Precio Unitario=%{x}<br>Actos Realizados=%{y}<br>tarifa=%{customdata[1]}<br>total=%{customdata[2]}<br>visits=%{customdata[3]}<extra></extra>",
         "hovertext": [
          "POSTE FIBRA DE VIDRIO"
         ],
         "legendgroup": "MUñON",
         "marker": {
          "color": "#FF97FF",
          "symbol": "circle"
         },
         "mode": "markers",
         "name": "MUñON",
         "orientation": "v",
         "showlegend": true,
         "type": "scatter",
         "x": {
          "bdata": "AAAAAADAUkA=",
          "dtype": "f8"
         },
         "xaxis": "x",
         "y": {
          "bdata": "Ag==",
          "dtype": "i1"
         },
         "yaxis": "y"
        },
        {
         "customdata": [
          [
           "PROTESIS REMOVIBLE",
           "PRIVADA",
           1378,
           7
          ],
          [
           "PROTESIS REMOVIBLE",
           "PRIVADA",
           750,
           1
          ],
          [
           "PROTESIS REMOVIBLE",
           "PRIVADA",
           600,
           1
          ],
          [
           "PROTESIS REMOVIBLE",
           "PRIVADA",
           120,
           1
          ],
          [
           "PROTESIS REMOVIBLE",
           "PRIVADA",
           1950,
           4
          ],
          [
           "PROTESIS REMOVIBLE",
           "PRIVADA",
           1130,
           3
          ],
          [
           "PROTESIS REMOVIBLE",
           "PRIVADA",
           60,
           1
          ],
          [
           "PROTESIS REMOVIBLE",
           "PRIVADA",
           170,
           2
          ],
          [
           "PROTESIS REMOVIBLE",
           "PRIVADA",
           140,
           2
          ]
         ],
         "hovertemplate": "<b>%{hovertext}</b><br><br>category=%{customdata[0]}<br>Precio Unitario=%{x}<br>Actos Realizados=%{y}<br>tarifa=%{customdata[1]}<br>total=%{customdata[2]}<br>visits=%{customdata[3]}<extra></extra>",
         "hovertext": [
          "FERULA DESCARGA",
          "DENT. COMPLETA SUPERIOR",
          "REPARACION BASE DENT. COMPLETA",
          "DENT. PARCIAL REMOV. UNILATERA",
          "Copia de PARCIAL INFERIOR",
          "Copia de PARCIAL SUPERIOR",
          "AJUST. DENT. PARC. SUPERIOR",
          "AJUST. DENT. PARC. INFERIOR",
          "COMPOSTURA DIENTE"
         ],
         "legendgroup": "PROTESIS REMOVIBLE",
         "marker": {
          "color": "#FECB52",
          "symbol": "circle"
         },
         "mode": "markers",
         "name": "PROTESIS REMOVIBLE",
         "orientation": "v",
         "showlegend": true,
         "type": "scatter",
         "x": {
          "bdata": "t23btm2baEAAAAAAAHCHQAAAAAAAwIJAAAAAAAAAXkAAAAAAAHh+QKuqqqqqindAAAAAAAAATkAAAAAAAEBVQAAAAAAAgEFA",
          "dtype": "f8"
         },
         "xaxis": "x",
         "y": {
          "bdata": "BwEBAQQDAQIE",
          "dtype": "i1"
         },
         "yaxis": "y"
        },
        {
         "customdata": [
          [
           "IMPLANTES",
           "PRIVADA",
           39700,
           36
          ],
          [
           "IMPLANTES",
           "PRIVADA",
           50,
           1
          ]
         ],
         "hovertemplate": "<b>%{hovertext}</b><br><br>category=%{customdata[0]}<br>Precio Unitario=%{x}<br>Actos Realizados=%{y}<br>tarifa=%{customdata[1]}<br>total=%{customdata[2]}<br>visits=%{customdata[3]}<extra></extra>",
         "hovertext": [
          "IMPLANTE",
          "REPARACION DE IMPLANTE"
         ],
         "legendgroup": "IMPLANTES",
         "marker": {
          "color": "#636efa",
          "symbol": "circle"
         },
         "mode": "markers",
         "name": "IMPLANTES",
         "orientation": "v",
         "showlegend": true,
         "type": "scatter",
         "x": {
          "bdata": "AAAAAAAEj0AAAAAAAAApQA==",
          "dtype": "f8"
         },
         "xaxis": "x",
         "y": {
          "bdata": "KAQ=",
          "dtype": "i1"
         },
         "yaxis": "y"
        },
        {
         "customdata": [
          [
           "ORTODONCIAS",
           "PRIVADA",
           30,
           2
          ],
          [
           "ORTODONCIAS",
           "PRIVADA",
           3828,
           25
          ],
          [
           "ORTODONCIAS",
           "PRIVADA",
           29,
           1
          ],
          [
           "ORTODONCIAS",
           "PRIVADA",
           22900,
           5
          ],
          [
           "ORTODONCIAS",
           "PRIVADA",
           120,
           1
          ],
          [
           "ORTODONCIAS",
           "PRIVADA",
           116,
           2
          ],
          [
           "ORTODONCIAS",
           "PRIVADA",
           240,
           2
          ],
          [
           "ORTODONCIAS",
           "PRIVADA",
           100,
           1
          ],
          [
           "ORTODONCIAS",
           "PRIVADA",
           486,
           5
          ]
         ],
         "hovertemplate": "<b>%{hovertext}</b><br><br>category=%{customdata[0]}<br>Precio Unitario=%{x}<br>Actos Realizados=%{y}<br>tarifa=%{customdata[1]}<br>total=%{customdata[2]}<br>visits=%{customdata[3]}<extra></extra>",
         "hovertext": [
          "1 visitas ortodoncia",
          "BRACKETS METALICOS",
          "BRACKETS ESTETICOS",
          "INVISALIGN",
          "PROCED. PROST. REMOV. SIN ESPE",
          "ORTODONCIA FIJA",
          "ORTODONCIA REMOVIBLE",
          "RETENEDOR LINGUAL SUP",
          "RETENEDOR LINGUAL INF"
         ],
         "legendgroup": "ORTODONCIAS",
         "marker": {
          "color": "#EF553B",
          "symbol": "circle"
         },
         "mode": "markers",
         "name": "ORTODONCIAS",
         "orientation": "v",
         "showlegend": true,
         "type": "scatter",
         "x": {
          "bdata": "AAAAAAAALkCkcD0K1yNjQAAAAAAAAD1AAAAAAADksUAAAAAAAABeQAAAAAAAAE1AAAAAAAAAXkAAAAAAAABZQM3MzMzMTFhA",
          "dtype": "f8"
         },
         "xaxis": "x",
         "y": {
          "bdata": "AhkBBQECAgEF",
          "dtype": "i1"
         },
         "yaxis": "y"
        },
        {
         "customdata": [
          [
           "CIRUGIA MAXILOFACIAL",
           "PRIVADA",
           2900,
           9
          ]
         ],
         "hovertemplate": "<b>%{hovertext}</b><br><br>category=%{customdata[0]}<br>Precio Unitario=%{x}<br>Actos Realizados=%{y}<br>tarifa=%{customdata[1]}<br>total=%{customdata[2]}<br>visits=%{customdata[3]}<extra></extra>",
         "hovertext": [
          "INJERTO OSEO"
         ],
         "legendgroup": "CIRUGIA MAXILOFACIAL",
         "marker": {
          "color": "#00cc96",
          "symbol": "circle"
         },
         "mode": "markers",
         "name": "CIRUGIA MAXILOFACIAL",
         "orientation": "v",
         "showlegend": true,
         "type": "scatter",
         "x": {
          "bdata": "OY7jOI4jdEA=",
          "dtype": "f8"
         },
         "xaxis": "x",
         "y": {
          "bdata": "CQ==",
          "dtype": "i1"
         },
         "yaxis": "y"
        },
        {
         "customdata": [
          [
           "BLANQUEAMIENTO",
           "PRIVADA",
           2210,
           7
          ]
         ],
         "hovertemplate": "<b>%{hovertext}</b><br><br>category=%{customdata[0]}<br>Precio Unitario=%{x}<br>Actos Realizados=%{y}<br>tarifa=%{customdata[1]}<br>total=%{customdata[2]}<br>visits=%{customdata[3]}<extra></extra>",
         "hovertext": [
          "BLANQUEAMIENTO PHILIPS ZOOM"
         ],
         "legendgroup": "BLANQUEAMIENTO",
         "marker": {
          "color": "#ab63fa",
          "symbol": "circle"
         },
         "mode": "markers",
         "name": "BLANQUEAMIENTO",
         "orientation": "v",
         "showlegend": true,
         "type": "scatter",
         "x": {
          "bdata": "t23btm27c0A=",
          "dtype": "f8"
         },
         "xaxis": "x",
         "y": {
          "bdata": "Bw==",
          "dtype": "i1"
         },
         "yaxis": "y"
        },
        {
         "customdata": [
          [
           "DIAGNOSTICOS",
           "  DKV",
           13,
           1
          ]
         ],
         "hovertemplate": "<b>%{hovertext}</b><br><br>category=%{customdata[0]}<br>tarifa=%{customdata[1]}<br>Precio Unitario=%{x}<br>Actos Realizados=%{y}<br>total=%{customdata[2]}<br>visits=%{customdata[3]}<extra></extra>",
         "hovertext": [
          "ORTOPANTOMOGRAFIA"
         ],
         "legendgroup": "DIAGNOSTICOS,   DKV",
         "marker": {
          "color": "#636efa",
          "symbol": "circle"
         },
         "mode": "markers",
         "name": "DIAGNOSTICOS,   DKV",
         "orientation": "v",
         "showlegend": true,
         "type": "scatter",
         "x": {
          "bdata": "AAAAAAAAKkA=",
          "dtype": "f8"
         },
         "xaxis": "x2",
         "y": {
          "bdata": "AQ==",
          "dtype": "i1"
         },
         "yaxis": "y2"
        },
        {
         "customdata": [
          [
           "DIAGNOSTICOS",
           "PRIVADA",
           1235,
           50
          ],
          [
           "DIAGNOSTICOS",
           "PRIVADA",
           2000,
           23
          ]
         ],
         "hovertemplate": "<b>%{hovertext}</b><br><br>category=%{customdata[0]}<br>tarifa=%{customdata[1]}<br>Precio Unitario=%{x}<br>Actos Realizados=%{y}<br>total=%{customdata[2]}<br>visits=%{customdata[3]}<extra></extra>",
         "hovertext": [
          "ORTOPANTOMOGRAFIA",
          "TAC"
         ],
         "legendgroup": "DIAGNOSTICOS, PRIVADA",
         "marker": {
          "color": "#636efa",
          "symbol": "diamond"
         },
         "mode": "markers",
         "name": "DIAGNOSTICOS, PRIVADA",
         "orientation": "v",
         "showlegend": true,
         "type": "scatter",
         "x": {
          "bdata": "MzMzMzOzOECc3vSmN71VQA==",
          "dtype": "f8"
         },
         "xaxis": "x2",
         "y": {
          "bdata": "Mhc=",
          "dtype": "i1"
         },
         "yaxis": "y2"
        },
        {
         "customdata": [
          [
           "PROFILAXIS",
           "  DKV",
           12,
           1
          ]
         ],
         "hovertemplate": "<b>%{hovertext}</b><br><br>category=%{customdata[0]}<br>tarifa=%{customdata[1]}<br>Precio Unitario=%{x}<br>Actos Realizados=%{y}<br>total=%{customdata[2]}<br>visits=%{customdata[3]}<extra></extra>",
         "hovertext": [
          "Copia de LIMPIEZA"
         ],
         "legendgroup": "PROFILAXIS,   DKV",
         "marker": {
          "color": "#EF553B",
          "symbol": "circle"
         },
         "mode": "markers",
         "name": "PROFILAXIS,   DKV",
         "orientation": "v",
         "showlegend": true,
         "type": "scatter",
         "x": {
          "bdata": "AAAAAAAAKEA=",
          "dtype": "f8"
         },
         "xaxis": "x2",
         "y": {
          "bdata": "AQ==",
          "dtype": "i1"
         },
         "yaxis": "y2"
        },
        {
         "customdata": [
          [
           "PROFILAXIS",
           "PRIVADA",
           11319,
           314
          ]
         ],
         "hovertemplate": "<b>%{hovertext}</b><br><br>category=%{customdata[0]}<br>tarifa=%{customdata[1]}<br>Precio Unitario=%{x}<br>Actos Realizados=%{y}<br>total=%{customdata[2]}<br>visits=%{customdata[3]}<extra></extra>",
         "hovertext": [
          "Copia de LIMPIEZA"
         ],
         "legendgroup": "PROFILAXIS, PRIVADA",
         "marker": {
          "color": "#EF553B",
          "symbol": "diamond"
         },
         "mode": "markers",
         "name": "PROFILAXIS, PRIVADA",
         "orientation": "v",
         "showlegend": true,
         "type": "scatter",
         "x": {
          "bdata": "L7rooosuP0A=",
          "dtype": "f8"
         },
         "xaxis": "x2",
         "y": {
          "bdata": "awE=",
          "dtype": "i2"
         },
         "yaxis": "y2"
        },
        {
         "customdata": [
          [
           "EXTRACCION",
           "  DKV",
           13,
           1
          ]
         ],
         "hovertemplate": "<b>%{hovertext}</b><br><br>category=%{customdata[0]}<br>tarifa=%{customdata[1]}<br>Precio Unitario=%{x}<br>Actos Realizados=%{y}<br>total=%{customdata[2]}<br>visits=%{customdata[3]}<extra></extra>",
         "hovertext": [
          "Copia de EXTRACCION SIMPLE"
         ],
         "legendgroup": "EXTRACCION,   DKV",
         "marker": {
          "color": "#00cc96",
          "symbol": "circle"
         },
         "mode": "markers",
         "name": "EXTRACCION,   DKV",
         "orientation": "v",
         "showlegend": true,
         "type": "scatter",
         "x": {
          "bdata": "AAAAAAAAKkA=",
          "dtype": "f8"
         },
         "xaxis": "x2",
         "y": {
          "bdata": "AQ==",
          "dtype": "i1"
         },
         "yaxis": "y2"
        },
        {
         "customdata": [
          [
           "EXTRACCION",
           "PRIVADA",
           4885,
           79
          ],
          [
           "EXTRACCION",
           "PRIVADA",
           100,
           1
          ]
         ],
         "hovertemplate": "<b>%{hovertext}</b><br><br>category=%{customdata[0]}<br>tarifa=%{customdata[1]}<br>Precio Unitario=%{x}<br>Actos Realizados=%{y}<br>total=%{customdata[2]}<br>visits=%{customdata[3]}<extra></extra>",
         "hovertext": [
          "Copia de EXTRACCION SIMPLE",
          "EXTRACCION QUIRURGICA TERCER MOLAR INCLUIDO"
         ],
         "legendgroup": "EXTRACCION, PRIVADA",
         "marker": {
          "color": "#00cc96",
          "symbol": "diamond"
         },
         "mode": "markers",
         "name": "EXTRACCION, PRIVADA",
         "orientation": "v",
         "showlegend": true,
         "type": "scatter",
         "x": {
          "bdata": "OY7jOI4jS0AAAAAAAABZQA==",
          "dtype": "f8"
         },
         "xaxis": "x2",
         "y": {
          "bdata": "WgE=",
          "dtype": "i1"
         },
         "yaxis": "y2"
        },
        {
         "customdata": [
          [
           "OBTURACION",
           "PRIVADA",
           18063,
           241
          ],
          [
           "OBTURACION",
           "PRIVADA",
           80,
           1
          ]
         ],
         "hovertemplate": "<b>%{hovertext}</b><br><br>category=%{customdata[0]}<br>tarifa=%{customdata[1]}<br>Precio Unitario=%{x}<br>Actos Realizados=%{y}<br>total=%{customdata[2]}<br>visits=%{customdata[3]}<extra></extra>",
         "hovertext": [
          "OBTURACION",
          "SELLADO POR DIENTE"
         ],
         "legendgroup": "OBTURACION, PRIVADA",
         "marker": {
          "color": "#ab63fa",
          "symbol": "diamond"
         },
         "mode": "markers",
         "name": "OBTURACION, PRIVADA",
         "orientation": "v",
         "showlegend": true,
         "type": "scatter",
         "x": {
          "bdata": "2Y0Hp4mcTUAAAAAAAABEQA==",
          "dtype": "f8"
         },
         "xaxis": "x2",
         "y": {
          "bdata": "MQECAA==",
          "dtype": "i2"
         },
         "yaxis": "y2"
        },
        {
         "customdata": [
          [
           "CIRUGIA PERIODONTAL",
           "PRIVADA",
           500,
           1
          ],
          [
           "CIRUGIA PERIODONTAL",
           "PRIVADA",
           200,
           1
          ]
         ],
         "hovertemplate": "<b>%{hovertext}</b><br><br>category=%{customdata[0]}<br>tarifa=%{customdata[1]}<br>Precio Unitario=%{x}<br>Actos Realizados=%{y}<br>total=%{customdata[2]}<br>visits=%{customdata[3]}<extra></extra>",
         "hovertext": [
          "CIRUGIA OSEA POR CUADRANTE",
          "REGENERACION DE TEJIDOS"
         ],
         "legendgroup": "CIRUGIA PERIODONTAL, PRIVADA",
         "marker": {
          "color": "#FFA15A",
          "symbol": "diamond"
         },
         "mode": "markers",
         "name": "CIRUGIA PERIODONTAL, PRIVADA",
         "orientation": "v",
         "showlegend": true,
         "type": "scatter",
         "x": {
          "bdata": "AAAAAABAf0AAAAAAAABpQA==",
          "dtype": "f8"
         },
         "xaxis": "x2",
         "y": {
          "bdata": "AQE=",
          "dtype": "i1"
         },
         "yaxis": "y2"
        },
        {
         "customdata": [
          [
           "ENDODONCIAS",
           "PRIVADA",
           4644,
           30
          ],
          [
           "ENDODONCIAS",
           "PRIVADA",
           149,
           2
          ]
         ],
         "hovertemplate": "<b>%{hovertext}</b><br><br>category=%{customdata[0]}<br>tarifa=%{customdata[1]}<br>Precio Unitario=%{x}<br>Actos Realizados=%{y}<br>total=%{customdata[2]}<br>visits=%{customdata[3]}<extra></extra>",
         "hovertext": [
          "Copia de ENDODONCIA ANTERIOR",
          "PULPUTOMIA TERAPEUTICA"
         ],
         "legendgroup": "ENDODONCIAS, PRIVADA",
         "marker": {
          "color": "#19d3f3",
          "symbol": "diamond"
         },
         "mode": "markers",
         "name": "ENDODONCIAS, PRIVADA",
         "orientation": "v",
         "showlegend": true,
         "type": "scatter",
         "x": {
          "bdata": "mpmZmZlZY0AAAAAAAKBSQA==",
          "dtype": "f8"
         },
         "xaxis": "x2",
         "y": {
          "bdata": "HgI=",
          "dtype": "i1"
         },
         "yaxis": "y2"
        },
        {
         "customdata": [
          [
           "CORONA",
           "PRIVADA",
           17796,
           45
          ],
          [
           "CORONA",
           "PRIVADA",
           858,
           19
          ],
          [
           "CORONA",
           "PRIVADA",
           22135,
           40
          ],
          [
           "CORONA",
           "PRIVADA",
           439,
           1
          ],
          [
           "CORONA",
           "PRIVADA",
           247,
           4
          ]
         ],
         "hovertemplate": "<b>%{hovertext}</b><br><br>category=%{customdata[0]}<br>tarifa=%{customdata[1]}<br>Precio Unitario=%{x}<br>Actos Realizados=%{y}<br>total=%{customdata[2]}<br>visits=%{customdata[3]}<extra></extra>",
         "hovertext": [
          "CORONA METAL CERAMICA",
          "CORONA RESINA(LABORATORIO)",
          "CORONA IMPLANTE",
          "CORONA IMPLANTE ZIRCONIO",
          "RECEMENTADO DE CORONA"
         ],
         "legendgroup": "CORONA, PRIVADA",
         "marker": {
          "color": "#FF6692",
          "symbol": "diamond"
         },
         "mode": "markers",
         "name": "CORONA, PRIVADA",
         "orientation": "v",
         "showlegend": true,
         "type": "scatter",
         "x": {
          "bdata": "uy+PrQjackDbtm3btm1EQBhvZZ9DGnpAAAAAAABwe0BJkiRJkqRBQA==",
          "dtype": "f8"
         },
         "xaxis": "x2",
         "y": {
          "bdata": "OxU1AQc=",
          "dtype": "i1"
         },
         "yaxis": "y2"
        },
        {
         "customdata": [
          [
           "PUENTES",
           "PRIVADA",
           1785,
           6
          ]
         ],
         "hovertemplate": "<b>%{hovertext}</b><br><br>category=%{customdata[0]}<br>tarifa=%{customdata[1]}<br>Precio Unitario=%{x}<br>Actos Realizados=%{y}<br>total=%{customdata[2]}<br>visits=%{customdata[3]}<extra></extra>",
         "hovertext": [
          "RECEMENTADO DE PUENTE"
         ],
         "legendgroup": "PUENTES, PRIVADA",
         "marker": {
          "color": "#B6E880",
          "symbol": "diamond"
         },
         "mode": "markers",
         "name": "PUENTES, PRIVADA",
         "orientation": "v",
         "showlegend": true,
         "type": "scatter",
         "x": {
          "bdata": "AAAAAADkW0A=",
          "dtype": "f8"
         },
         "xaxis": "x2",
         "y": {
          "bdata": "EA==",
          "dtype": "i1"
         },
         "yaxis": "y2"
        },
        {
         "customdata": [
          [
           "MUñON",
           "PRIVADA",
           150,
           2
          ]
         ],
         "hovertemplate": "<b>%{hovertext}</b><br><br>category=%{customdata[0]}<br>tarifa=%{customdata[1]}<br>Precio Unitario=%{x}<br>Actos Realizados=%{y}<br>total=%{customdata[2]}<br>visits=%{customdata[3]}<extra></extra>",
         "hovertext": [
          "POSTE FIBRA DE VIDRIO"
         ],
         "legendgroup": "MUñON, PRIVADA",
         "marker": {
          "color": "#FF97FF",
          "symbol": "diamond"
         },
         "mode": "markers",
         "name": "MUñON, PRIVADA",
         "orientation": "v",
         "showlegend": true,
         "type": "scatter",
         "x": {
          "bdata": "AAAAAADAUkA=",
          "dtype": "f8"
         },
         "xaxis": "x2",
         "y": {
          "bdata": "Ag==",
          "dtype": "i1"
         },
         "yaxis": "y2"
        },
        {
         "customdata": [
          [
           "PROTESIS REMOVIBLE",
           "PRIVADA",
           1378,
           7
          ],
          [
           "PROTESIS REMOVIBLE",
           "PRIVADA",
           750,
           1
          ],
          [
           "PROTESIS REMOVIBLE",
           "PRIVADA",
           600,
           1
          ],
          [
           "PROTESIS REMOVIBLE",
           "PRIVADA",
           120,
           1
          ],
          [
           "PROTESIS REMOVIBLE",
           "PRIVADA",
           1950,
           4
          ],
          [
           "PROTESIS REMOVIBLE",
           "PRIVADA",
           1130,
           3
          ],
          [
           "PROTESIS REMOVIBLE",
           "PRIVADA",
           60,
           1
          ],
          [
           "PROTESIS REMOVIBLE",
           "PRIVADA",
           170,
           2
          ],
          [
           "PROTESIS REMOVIBLE",
           "PRIVADA",
           140,
           2
          ]
         ],
         "hovertemplate": "<b>%{hovertext}</b><br><br>category=%{customdata[0]}<br>tarifa=%{customdata[1]}<br>Precio Unitario=%{x}<br>Actos Realizados=%{y}<br>total=%{customdata[2]}<br>visits=%{customdata[3]}<extra></extra>",
         "hovertext": [
          "FERULA DESCARGA",
          "DENT. COMPLETA SUPERIOR",
          "REPARACION BASE DENT. COMPLETA",
          "DENT. PARCIAL REMOV. UNILATERA",
          "Copia de PARCIAL INFERIOR",
          "Copia de PARCIAL SUPERIOR",
          "AJUST. DENT. PARC. SUPERIOR",
          "AJUST. DENT. PARC. INFERIOR",
          "COMPOSTURA DIENTE"
         ],
         "legendgroup": "PROTESIS REMOVIBLE, PRIVADA",
         "marker": {
          "color": "#FECB52",
          "symbol": "diamond"
         },
         "mode": "markers",
         "name": "PROTESIS REMOVIBLE, PRIVADA",
         "orientation": "v",
         "showlegend": true,
         "type": "scatter",
         "x": {
          "bdata": "t23btm2baEAAAAAAAHCHQAAAAAAAwIJAAAAAAAAAXkAAAAAAAHh+QKuqqqqqindAAAAAAAAATkAAAAAAAEBVQAAAAAAAgEFA",
          "dtype": "f8"
         },
         "xaxis": "x2",
         "y": {
          "bdata": "BwEBAQQDAQIE",
          "dtype": "i1"
         },
         "yaxis": "y2"
        },
        {
         "customdata": [
          [
           "IMPLANTES",
           "PRIVADA",
           39700,
           36
          ],
          [
           "IMPLANTES",
           "PRIVADA",
           50,
           1
          ]
         ],
         "hovertemplate": "<b>%{hovertext}</b><br><br>category=%{customdata[0]}<br>tarifa=%{customdata[1]}<br>Precio Unitario=%{x}<br>Actos Realizados=%{y}<br>total=%{customdata[2]}<br>visits=%{customdata[3]}<extra></extra>",
         "hovertext": [
          "IMPLANTE",
          "REPARACION DE IMPLANTE"
         ],
         "legendgroup": "IMPLANTES, PRIVADA",
         "marker": {
          "color": "#636efa",
          "symbol": "diamond"
         },
         "mode": "markers",
         "name": "IMPLANTES, PRIVADA",
         "orientation": "v",
         "showlegend": true,
         "type": "scatter",
         "x": {
          "bdata": "AAAAAAAEj0AAAAAAAAApQA==",
          "dtype": "f8"
         },
         "xaxis": "x2",
         "y": {
          "bdata": "KAQ=",
          "dtype": "i1"
         },
         "yaxis": "y2"
        },
        {
         "customdata": [
          [
           "ORTODONCIAS",
           "PRIVADA",
           30,
           2
          ],
          [
           "ORTODONCIAS",
           "PRIVADA",
           3828,
           25
          ],
          [
           "ORTODONCIAS",
           "PRIVADA",
           29,
           1
          ],
          [
           "ORTODONCIAS",
           "PRIVADA",
           22900,
           5
          ],
          [
           "ORTODONCIAS",
           "PRIVADA",
           120,
           1
          ],
          [
           "ORTODONCIAS",
           "PRIVADA",
           116,
           2
          ],
          [
           "ORTODONCIAS",
           "PRIVADA",
           240,
           2
          ],
          [
           "ORTODONCIAS",
           "PRIVADA",
           100,
           1
          ],
          [
           "ORTODONCIAS",
           "PRIVADA",
           486,
           5
          ]
         ],
         "hovertemplate": "<b>%{hovertext}</b><br><br>category=%{customdata[0]}<br>tarifa=%{customdata[1]}<br>Precio Unitario=%{x}<br>Actos Realizados=%{y}<br>total=%{customdata[2]}<br>visits=%{customdata[3]}<extra></extra>",
         "hovertext": [
          "1 visitas ortodoncia",
          "BRACKETS METALICOS",
          "BRACKETS ESTETICOS",
          "INVISALIGN",
          "PROCED. PROST. REMOV. SIN ESPE",
          "ORTODONCIA FIJA",
          "ORTODONCIA REMOVIBLE",
          "RETENEDOR LINGUAL SUP",
          "RETENEDOR LINGUAL INF"
         ],
         "legendgroup": "ORTODONCIAS, PRIVADA",
         "marker": {
          "color": "#EF553B",
          "symbol": "diamond"
         },
         "mode": "markers",
         "name": "ORTODONCIAS, PRIVADA",
         "orientation": "v",
         "showlegend": true,
         "type": "scatter",
         "x": {
          "bdata": "AAAAAAAALkCkcD0K1yNjQAAAAAAAAD1AAAAAAADksUAAAAAAAABeQAAAAAAAAE1AAAAAAAAAXkAAAAAAAABZQM3MzMzMTFhA",
          "dtype": "f8"
         },
         "xaxis": "x2",
         "y": {
          "bdata": "AhkBBQECAgEF",
          "dtype": "i1"
         },
         "yaxis": "y2"
        },
        {
         "customdata": [
          [
           "CIRUGIA MAXILOFACIAL",
           "PRIVADA",
           2900,
           9
          ]
         ],
         "hovertemplate": "<b>%{hovertext}</b><br><br>category=%{customdata[0]}<br>tarifa=%{customdata[1]}<br>Precio Unitario=%{x}<br>Actos Realizados=%{y}<br>total=%{customdata[2]}<br>visits=%{customdata[3]}<extra></extra>",
         "hovertext": [
          "INJERTO OSEO"
         ],
         "legendgroup": "CIRUGIA MAXILOFACIAL, PRIVADA",
         "marker": {
          "color": "#00cc96",
          "symbol": "diamond"
         },
         "mode": "markers",
         "name": "CIRUGIA MAXILOFACIAL, PRIVADA",
         "orientation": "v",
         "showlegend": true,
         "type": "scatter",
         "x": {
          "bdata": "OY7jOI4jdEA=",
          "dtype": "f8"
         },
         "xaxis": "x2",
         "y": {
          "bdata": "CQ==",
          "dtype": "i1"
         },
         "yaxis": "y2"
        },
        {
         "customdata": [
          [
           "BLANQUEAMIENTO",
           "PRIVADA",
           2210,
           7
          ]
         ],
         "hovertemplate": "<b>%{hovertext}</b><br><br>category=%{customdata[0]}<br>tarifa=%{customdata[1]}<br>Precio Unitario=%{x}<br>Actos Realizados=%{y}<br>total=%{customdata[2]}<br>visits=%{customdata[3]}<extra></extra>",
         "hovertext": [
          "BLANQUEAMIENTO PHILIPS ZOOM"
         ],
         "legendgroup": "BLANQUEAMIENTO, PRIVADA",
         "marker": {
          "color": "#ab63fa",
          "symbol": "diamond"
         },
         "mode": "markers",
         "name": "BLANQUEAMIENTO, PRIVADA",
         "orientation": "v",
         "showlegend": true,
         "type": "scatter",
         "x": {
          "bdata": "t23btm27c0A=",
          "dtype": "f8"
         },
         "xaxis": "x2",
         "y": {
          "bdata": "Bw==",
          "dtype": "i1"
         },
         "yaxis": "y2"
        }
       ],
       "layout": {
        "annotations": [
         {
          "font": {
           "size": 16
          },
          "showarrow": false,
          "text": "Escala Normal",
          "x": 0.225,
          "xanchor": "center",
          "xref": "paper",
          "y": 1,
          "yanchor": "bottom",
          "yref": "paper"
         },
         {
          "font": {
           "size": 16
          },
          "showarrow": false,
          "text": "Escala Log",
          "x": 0.775,
          "xanchor": "center",
          "xref": "paper",
          "y": 1,
          "yanchor": "bottom",
          "yref": "paper"
         }
        ],
        "font": {
         "color": "black",
         "family": "Oswald"
        },
        "height": 500,
        "paper_bgcolor": "white",
        "plot_bgcolor": "white",
        "showlegend": false,
        "template": {
         "data": {
          "bar": [
           {
            "error_x": {
             "color": "#2a3f5f"
            },
            "error_y": {
             "color": "#2a3f5f"
            },
            "marker": {
             "line": {
              "color": "#E5ECF6",
              "width": 0.5
             },
             "pattern": {
              "fillmode": "overlay",
              "size": 10,
              "solidity": 0.2
             }
            },
            "type": "bar"
           }
          ],
          "barpolar": [
           {
            "marker": {
             "line": {
              "color": "#E5ECF6",
              "width": 0.5
             },
             "pattern": {
              "fillmode": "overlay",
              "size": 10,
              "solidity": 0.2
             }
            },
            "type": "barpolar"
           }
          ],
          "carpet": [
           {
            "aaxis": {
             "endlinecolor": "#2a3f5f",
             "gridcolor": "white",
             "linecolor": "white",
             "minorgridcolor": "white",
             "startlinecolor": "#2a3f5f"
            },
            "baxis": {
             "endlinecolor": "#2a3f5f",
             "gridcolor": "white",
             "linecolor": "white",
             "minorgridcolor": "white",
             "startlinecolor": "#2a3f5f"
            },
            "type": "carpet"
           }
          ],
          "choropleth": [
           {
            "colorbar": {
             "outlinewidth": 0,
             "ticks": ""
            },
            "type": "choropleth"
           }
          ],
          "contour": [
           {
            "colorbar": {
             "outlinewidth": 0,
             "ticks": ""
            },
            "colorscale": [
             [
              0,
              "#0d0887"
             ],
             [
              0.1111111111111111,
              "#46039f"
             ],
             [
              0.2222222222222222,
              "#7201a8"
             ],
             [
              0.3333333333333333,
              "#9c179e"
             ],
             [
              0.4444444444444444,
              "#bd3786"
             ],
             [
              0.5555555555555556,
              "#d8576b"
             ],
             [
              0.6666666666666666,
              "#ed7953"
             ],
             [
              0.7777777777777778,
              "#fb9f3a"
             ],
             [
              0.8888888888888888,
              "#fdca26"
             ],
             [
              1,
              "#f0f921"
             ]
            ],
            "type": "contour"
           }
          ],
          "contourcarpet": [
           {
            "colorbar": {
             "outlinewidth": 0,
             "ticks": ""
            },
            "type": "contourcarpet"
           }
          ],
          "heatmap": [
           {
            "colorbar": {
             "outlinewidth": 0,
             "ticks": ""
            },
            "colorscale": [
             [
              0,
              "#0d0887"
             ],
             [
              0.1111111111111111,
              "#46039f"
             ],
             [
              0.2222222222222222,
              "#7201a8"
             ],
             [
              0.3333333333333333,
              "#9c179e"
             ],
             [
              0.4444444444444444,
              "#bd3786"
             ],
             [
              0.5555555555555556,
              "#d8576b"
             ],
             [
              0.6666666666666666,
              "#ed7953"
             ],
             [
              0.7777777777777778,
              "#fb9f3a"
             ],
             [
              0.8888888888888888,
              "#fdca26"
             ],
             [
              1,
              "#f0f921"
             ]
            ],
            "type": "heatmap"
           }
          ],
          "histogram": [
           {
            "marker": {
             "pattern": {
              "fillmode": "overlay",
              "size": 10,
              "solidity": 0.2
             }
            },
            "type": "histogram"
           }
          ],
          "histogram2d": [
           {
            "colorbar": {
             "outlinewidth": 0,
             "ticks": ""
            },
            "colorscale": [
             [
              0,
              "#0d0887"
             ],
             [
              0.1111111111111111,
              "#46039f"
             ],
             [
              0.2222222222222222,
              "#7201a8"
             ],
             [
              0.3333333333333333,
              "#9c179e"
             ],
             [
              0.4444444444444444,
              "#bd3786"
             ],
             [
              0.5555555555555556,
              "#d8576b"
             ],
             [
              0.6666666666666666,
              "#ed7953"
             ],
             [
              0.7777777777777778,
              "#fb9f3a"
             ],
             [
              0.8888888888888888,
              "#fdca26"
             ],
             [
              1,
              "#f0f921"
             ]
            ],
            "type": "histogram2d"
           }
          ],
          "histogram2dcontour": [
           {
            "colorbar": {
             "outlinewidth": 0,
             "ticks": ""
            },
            "colorscale": [
             [
              0,
              "#0d0887"
             ],
             [
              0.1111111111111111,
              "#46039f"
             ],
             [
              0.2222222222222222,
              "#7201a8"
             ],
             [
              0.3333333333333333,
              "#9c179e"
             ],
             [
              0.4444444444444444,
              "#bd3786"
             ],
             [
              0.5555555555555556,
              "#d8576b"
             ],
             [
              0.6666666666666666,
              "#ed7953"
             ],
             [
              0.7777777777777778,
              "#fb9f3a"
             ],
             [
              0.8888888888888888,
              "#fdca26"
             ],
             [
              1,
              "#f0f921"
             ]
            ],
            "type": "histogram2dcontour"
           }
          ],
          "mesh3d": [
           {
            "colorbar": {
             "outlinewidth": 0,
             "ticks": ""
            },
            "type": "mesh3d"
           }
          ],
          "parcoords": [
           {
            "line": {
             "colorbar": {
              "outlinewidth": 0,
              "ticks": ""
             }
            },
            "type": "parcoords"
           }
          ],
          "pie": [
           {
            "automargin": true,
            "type": "pie"
           }
          ],
          "scatter": [
           {
            "fillpattern": {
             "fillmode": "overlay",
             "size": 10,
             "solidity": 0.2
            },
            "type": "scatter"
           }
          ],
          "scatter3d": [
           {
            "line": {
             "colorbar": {
              "outlinewidth": 0,
              "ticks": ""
             }
            },
            "marker": {
             "colorbar": {
              "outlinewidth": 0,
              "ticks": ""
             }
            },
            "type": "scatter3d"
           }
          ],
          "scattercarpet": [
           {
            "marker": {
             "colorbar": {
              "outlinewidth": 0,
              "ticks": ""
             }
            },
            "type": "scattercarpet"
           }
          ],
          "scattergeo": [
           {
            "marker": {
             "colorbar": {
              "outlinewidth": 0,
              "ticks": ""
             }
            },
            "type": "scattergeo"
           }
          ],
          "scattergl": [
           {
            "marker": {
             "colorbar": {
              "outlinewidth": 0,
              "ticks": ""
             }
            },
            "type": "scattergl"
           }
          ],
          "scattermap": [
           {
            "marker": {
             "colorbar": {
              "outlinewidth": 0,
              "ticks": ""
             }
            },
            "type": "scattermap"
           }
          ],
          "scattermapbox": [
           {
            "marker": {
             "colorbar": {
              "outlinewidth": 0,
              "ticks": ""
             }
            },
            "type": "scattermapbox"
           }
          ],
          "scatterpolar": [
           {
            "marker": {
             "colorbar": {
              "outlinewidth": 0,
              "ticks": ""
             }
            },
            "type": "scatterpolar"
           }
          ],
          "scatterpolargl": [
           {
            "marker": {
             "colorbar": {
              "outlinewidth": 0,
              "ticks": ""
             }
            },
            "type": "scatterpolargl"
           }
          ],
          "scatterternary": [
           {
            "marker": {
             "colorbar": {
              "outlinewidth": 0,
              "ticks": ""
             }
            },
            "type": "scatterternary"
           }
          ],
          "surface": [
           {
            "colorbar": {
             "outlinewidth": 0,
             "ticks": ""
            },
            "colorscale": [
             [
              0,
              "#0d0887"
             ],
             [
              0.1111111111111111,
              "#46039f"
             ],
             [
              0.2222222222222222,
              "#7201a8"
             ],
             [
              0.3333333333333333,
              "#9c179e"
             ],
             [
              0.4444444444444444,
              "#bd3786"
             ],
             [
              0.5555555555555556,
              "#d8576b"
             ],
             [
              0.6666666666666666,
              "#ed7953"
             ],
             [
              0.7777777777777778,
              "#fb9f3a"
             ],
             [
              0.8888888888888888,
              "#fdca26"
             ],
             [
              1,
              "#f0f921"
             ]
            ],
            "type": "surface"
           }
          ],
          "table": [
           {
            "cells": {
             "fill": {
              "color": "#EBF0F8"
             },
             "line": {
              "color": "white"
             }
            },
            "header": {
             "fill": {
              "color": "#C8D4E3"
             },
             "line": {
              "color": "white"
             }
            },
            "type": "table"
           }
          ]
         },
         "layout": {
          "annotationdefaults": {
           "arrowcolor": "#2a3f5f",
           "arrowhead": 0,
           "arrowwidth": 1
          },
          "autotypenumbers": "strict",
          "coloraxis": {
           "colorbar": {
            "outlinewidth": 0,
            "ticks": ""
           }
          },
          "colorscale": {
           "diverging": [
            [
             0,
             "#8e0152"
            ],
            [
             0.1,
             "#c51b7d"
            ],
            [
             0.2,
             "#de77ae"
            ],
            [
             0.3,
             "#f1b6da"
            ],
            [
             0.4,
             "#fde0ef"
            ],
            [
             0.5,
             "#f7f7f7"
            ],
            [
             0.6,
             "#e6f5d0"
            ],
            [
             0.7,
             "#b8e186"
            ],
            [
             0.8,
             "#7fbc41"
            ],
            [
             0.9,
             "#4d9221"
            ],
            [
             1,
             "#276419"
            ]
           ],
           "sequential": [
            [
             0,
             "#0d0887"
            ],
            [
             0.1111111111111111,
             "#46039f"
            ],
            [
             0.2222222222222222,
             "#7201a8"
            ],
            [
             0.3333333333333333,
             "#9c179e"
            ],
            [
             0.4444444444444444,
             "#bd3786"
            ],
            [
             0.5555555555555556,
             "#d8576b"
            ],
            [
             0.6666666666666666,
             "#ed7953"
            ],
            [
             0.7777777777777778,
             "#fb9f3a"
            ],
            [
             0.8888888888888888,
             "#fdca26"
            ],
            [
             1,
             "#f0f921"
            ]
           ],
           "sequentialminus": [
            [
             0,
             "#0d0887"
            ],
            [
             0.1111111111111111,
             "#46039f"
            ],
            [
             0.2222222222222222,
             "#7201a8"
            ],
            [
             0.3333333333333333,
             "#9c179e"
            ],
            [
             0.4444444444444444,
             "#bd3786"
            ],
            [
             0.5555555555555556,
             "#d8576b"
            ],
            [
             0.6666666666666666,
             "#ed7953"
            ],
            [
             0.7777777777777778,
             "#fb9f3a"
            ],
            [
             0.8888888888888888,
             "#fdca26"
            ],
            [
             1,
             "#f0f921"
            ]
           ]
          },
          "colorway": [
           "#636efa",
           "#EF553B",
           "#00cc96",
           "#ab63fa",
           "#FFA15A",
           "#19d3f3",
           "#FF6692",
           "#B6E880",
           "#FF97FF",
           "#FECB52"
          ],
          "font": {
           "color": "#2a3f5f"
          },
          "geo": {
           "bgcolor": "white",
           "lakecolor": "white",
           "landcolor": "#E5ECF6",
           "showlakes": true,
           "showland": true,
           "subunitcolor": "white"
          },
          "hoverlabel": {
           "align": "left"
          },
          "hovermode": "closest",
          "mapbox": {
           "style": "light"
          },
          "paper_bgcolor": "white",
          "plot_bgcolor": "#E5ECF6",
          "polar": {
           "angularaxis": {
            "gridcolor": "white",
            "linecolor": "white",
            "ticks": ""
           },
           "bgcolor": "#E5ECF6",
           "radialaxis": {
            "gridcolor": "white",
            "linecolor": "white",
            "ticks": ""
           }
          },
          "scene": {
           "xaxis": {
            "backgroundcolor": "#E5ECF6",
            "gridcolor": "white",
            "gridwidth": 2,
            "linecolor": "white",
            "showbackground": true,
            "ticks": "",
            "zerolinecolor": "white"
           },
           "yaxis": {
            "backgroundcolor": "#E5ECF6",
            "gridcolor": "white",
            "gridwidth": 2,
            "linecolor": "white",
            "showbackground": true,
            "ticks": "",
            "zerolinecolor": "white"
           },
           "zaxis": {
            "backgroundcolor": "#E5ECF6",
            "gridcolor": "white",
            "gridwidth": 2,
            "linecolor": "white",
            "showbackground": true,
            "ticks": "",
            "zerolinecolor": "white"
           }
          },
          "shapedefaults": {
           "line": {
            "color": "#2a3f5f"
           }
          },
          "ternary": {
           "aaxis": {
            "gridcolor": "white",
            "linecolor": "white",
            "ticks": ""
           },
           "baxis": {
            "gridcolor": "white",
            "linecolor": "white",
            "ticks": ""
           },
           "bgcolor": "#E5ECF6",
           "caxis": {
            "gridcolor": "white",
            "linecolor": "white",
            "ticks": ""
           }
          },
          "title": {
           "x": 0.05
          },
          "xaxis": {
           "automargin": true,
           "gridcolor": "white",
           "linecolor": "white",
           "ticks": "",
           "title": {
            "standoff": 15
           },
           "zerolinecolor": "white",
           "zerolinewidth": 2
          },
          "yaxis": {
           "automargin": true,
           "gridcolor": "white",
           "linecolor": "white",
           "ticks": "",
           "title": {
            "standoff": 15
           },
           "zerolinecolor": "white",
           "zerolinewidth": 2
          }
         }
        },
        "title": {
         "font": {
          "color": "black"
         },
         "text": "Relación entre Precio Unitario y Número de Actos 2023"
        },
        "width": 1000,
        "xaxis": {
         "anchor": "y",
         "domain": [
          0,
          0.45
         ],
         "gridcolor": "lightgray",
         "linecolor": "black",
         "range": [
          0,
          4100
         ],
         "showgrid": true,
         "tickfont": {
          "color": "black",
          "size": 6
         },
         "ticktext": [
          "0",
          "100",
          "200",
          "300",
          "400",
          "500",
          "1000",
          "2000",
          "3000",
          "4000",
          "5000"
         ],
         "tickvals": [
          0,
          100,
          200,
          300,
          400,
          500,
          1000,
          2000,
          3000,
          4000,
          5000
         ],
         "title": {
          "font": {
           "color": "black"
          }
         },
         "zerolinecolor": "black"
        },
        "xaxis2": {
         "anchor": "y2",
         "domain": [
          0.55,
          1
         ],
         "gridcolor": "lightgray",
         "linecolor": "black",
         "showgrid": true,
         "tickfont": {
          "color": "black"
         },
         "title": {
          "font": {
           "color": "black"
          }
         },
         "type": "log",
         "zerolinecolor": "black"
        },
        "yaxis": {
         "anchor": "x",
         "domain": [
          0,
          1
         ],
         "gridcolor": "lightgray",
         "linecolor": "black",
         "range": [
          0,
          260
         ],
         "showgrid": true,
         "tickfont": {
          "color": "black",
          "size": 8
         },
         "ticktext": [
          "0",
          "10",
          "20",
          "30",
          "40",
          "50",
          "100",
          "150",
          "200",
          "250",
          "350"
         ],
         "tickvals": [
          0,
          10,
          20,
          30,
          40,
          50,
          100,
          150,
          200,
          250,
          350
         ],
         "title": {
          "font": {
           "color": "black"
          }
         },
         "zerolinecolor": "black"
        },
        "yaxis2": {
         "anchor": "x2",
         "domain": [
          0,
          1
         ],
         "gridcolor": "lightgray",
         "linecolor": "black",
         "showgrid": true,
         "tickfont": {
          "color": "black"
         },
         "title": {
          "font": {
           "color": "black"
          }
         },
         "type": "log",
         "zerolinecolor": "black"
        }
       }
      }
     },
     "metadata": {},
     "output_type": "display_data"
    }
   ],
   "source": [
    "#CORRELACION PRECIO UNITARIO DE CADA TRATAMIENTO Y NUMERO DE ACTOS REALIZADOS"
   ]
  },
  {
   "cell_type": "code",
   "execution_count": null,
   "id": "6ebd8725",
   "metadata": {},
   "outputs": [
    {
     "data": {
      "application/vnd.plotly.v1+json": {
       "config": {
        "plotlyServerURL": "https://plot.ly"
       },
       "data": [
        {
         "hovertemplate": "Categoría=%{x}<br>Total (€)=%{y}<extra></extra>",
         "legendgroup": "ORTODONCIAS",
         "marker": {
          "color": "#00BFFF",
          "pattern": {
           "shape": ""
          }
         },
         "name": "ORTODONCIAS",
         "orientation": "v",
         "showlegend": true,
         "textposition": "auto",
         "type": "bar",
         "x": [
          "ORTODONCIAS"
         ],
         "xaxis": "x",
         "y": {
          "bdata": "5MoAAA==",
          "dtype": "i4"
         },
         "yaxis": "y"
        },
        {
         "hovertemplate": "Categoría=%{x}<br>Total (€)=%{y}<extra></extra>",
         "legendgroup": "CORONA",
         "marker": {
          "color": "#FFD93D",
          "pattern": {
           "shape": ""
          }
         },
         "name": "CORONA",
         "orientation": "v",
         "showlegend": true,
         "textposition": "auto",
         "type": "bar",
         "x": [
          "CORONA"
         ],
         "xaxis": "x",
         "y": {
          "bdata": "psMAAA==",
          "dtype": "i4"
         },
         "yaxis": "y"
        },
        {
         "hovertemplate": "Categoría=%{x}<br>Total (€)=%{y}<extra></extra>",
         "legendgroup": "IMPLANTES",
         "marker": {
          "color": "#FF7F50",
          "pattern": {
           "shape": ""
          }
         },
         "name": "IMPLANTES",
         "orientation": "v",
         "showlegend": true,
         "textposition": "auto",
         "type": "bar",
         "x": [
          "IMPLANTES"
         ],
         "xaxis": "x",
         "y": {
          "bdata": "qMEAAA==",
          "dtype": "i4"
         },
         "yaxis": "y"
        },
        {
         "hovertemplate": "Categoría=%{x}<br>Total (€)=%{y}<extra></extra>",
         "legendgroup": "OBTURACION",
         "marker": {
          "color": "#FF9F43",
          "pattern": {
           "shape": ""
          }
         },
         "name": "OBTURACION",
         "orientation": "v",
         "showlegend": true,
         "textposition": "auto",
         "type": "bar",
         "x": [
          "OBTURACION"
         ],
         "xaxis": "x",
         "y": {
          "bdata": "Wjc=",
          "dtype": "i2"
         },
         "yaxis": "y"
        },
        {
         "hovertemplate": "Categoría=%{x}<br>Total (€)=%{y}<extra></extra>",
         "legendgroup": "PROFILAXIS",
         "marker": {
          "color": "#6BB97A",
          "pattern": {
           "shape": ""
          }
         },
         "name": "PROFILAXIS",
         "orientation": "v",
         "showlegend": true,
         "textposition": "auto",
         "type": "bar",
         "x": [
          "PROFILAXIS"
         ],
         "xaxis": "x",
         "y": {
          "bdata": "8Ck=",
          "dtype": "i2"
         },
         "yaxis": "y"
        },
        {
         "hovertemplate": "Categoría=%{x}<br>Total (€)=%{y}<extra></extra>",
         "legendgroup": "PROTESIS REMOVIBLE",
         "marker": {
          "color": "#FF6F59",
          "pattern": {
           "shape": ""
          }
         },
         "name": "PROTESIS REMOVIBLE",
         "orientation": "v",
         "showlegend": true,
         "textposition": "auto",
         "type": "bar",
         "x": [
          "PROTESIS REMOVIBLE"
         ],
         "xaxis": "x",
         "y": {
          "bdata": "OiU=",
          "dtype": "i2"
         },
         "yaxis": "y"
        },
        {
         "hovertemplate": "Categoría=%{x}<br>Total (€)=%{y}<extra></extra>",
         "legendgroup": "EXTRACCION",
         "marker": {
          "color": "#FF4D4D",
          "pattern": {
           "shape": ""
          }
         },
         "name": "EXTRACCION",
         "orientation": "v",
         "showlegend": true,
         "textposition": "auto",
         "type": "bar",
         "x": [
          "EXTRACCION"
         ],
         "xaxis": "x",
         "y": {
          "bdata": "SB4=",
          "dtype": "i2"
         },
         "yaxis": "y"
        },
        {
         "hovertemplate": "Categoría=%{x}<br>Total (€)=%{y}<extra></extra>",
         "legendgroup": "ENDODONCIAS",
         "marker": {
          "color": "#FFCD00",
          "pattern": {
           "shape": ""
          }
         },
         "name": "ENDODONCIAS",
         "orientation": "v",
         "showlegend": true,
         "textposition": "auto",
         "type": "bar",
         "x": [
          "ENDODONCIAS"
         ],
         "xaxis": "x",
         "y": {
          "bdata": "6BA=",
          "dtype": "i2"
         },
         "yaxis": "y"
        },
        {
         "hovertemplate": "Categoría=%{x}<br>Total (€)=%{y}<extra></extra>",
         "legendgroup": "DIAGNOSTICOS",
         "marker": {
          "color": "#FF6B6B",
          "pattern": {
           "shape": ""
          }
         },
         "name": "DIAGNOSTICOS",
         "orientation": "v",
         "showlegend": true,
         "textposition": "auto",
         "type": "bar",
         "x": [
          "DIAGNOSTICOS"
         ],
         "xaxis": "x",
         "y": {
          "bdata": "Yg0=",
          "dtype": "i2"
         },
         "yaxis": "y"
        },
        {
         "hovertemplate": "Categoría=%{x}<br>Total (€)=%{y}<extra></extra>",
         "legendgroup": "BLANQUEAMIENTO",
         "marker": {
          "color": "#87CEEB",
          "pattern": {
           "shape": ""
          }
         },
         "name": "BLANQUEAMIENTO",
         "orientation": "v",
         "showlegend": true,
         "textposition": "auto",
         "type": "bar",
         "x": [
          "BLANQUEAMIENTO"
         ],
         "xaxis": "x",
         "y": {
          "bdata": "hgs=",
          "dtype": "i2"
         },
         "yaxis": "y"
        },
        {
         "hovertemplate": "Categoría=%{x}<br>Total (€)=%{y}<extra></extra>",
         "legendgroup": "CIRUGIA MAXILOFACIAL",
         "marker": {
          "color": "#FF8C00",
          "pattern": {
           "shape": ""
          }
         },
         "name": "CIRUGIA MAXILOFACIAL",
         "orientation": "v",
         "showlegend": true,
         "textposition": "auto",
         "type": "bar",
         "x": [
          "CIRUGIA MAXILOFACIAL"
         ],
         "xaxis": "x",
         "y": {
          "bdata": "DAM=",
          "dtype": "i2"
         },
         "yaxis": "y"
        },
        {
         "hovertemplate": "Categoría=%{x}<br>Total (€)=%{y}<extra></extra>",
         "legendgroup": "PUENTES",
         "marker": {
          "color": "#8A2BE2",
          "pattern": {
           "shape": ""
          }
         },
         "name": "PUENTES",
         "orientation": "v",
         "showlegend": true,
         "textposition": "auto",
         "type": "bar",
         "x": [
          "PUENTES"
         ],
         "xaxis": "x",
         "y": {
          "bdata": "YgI=",
          "dtype": "i2"
         },
         "yaxis": "y"
        },
        {
         "hovertemplate": "Categoría=%{x}<br>Total (€)=%{y}<extra></extra>",
         "legendgroup": "CIRUGIA PERIODONTAL",
         "marker": {
          "color": "#06DD51",
          "pattern": {
           "shape": ""
          }
         },
         "name": "CIRUGIA PERIODONTAL",
         "orientation": "v",
         "showlegend": true,
         "textposition": "auto",
         "type": "bar",
         "x": [
          "CIRUGIA PERIODONTAL"
         ],
         "xaxis": "x",
         "y": {
          "bdata": "8AA=",
          "dtype": "i2"
         },
         "yaxis": "y"
        },
        {
         "hovertemplate": "Categoría=%{x}<br>Total (€)=%{y}<extra></extra>",
         "legendgroup": "FRENECTOMIA",
         "marker": {
          "color": "#40E0D0",
          "pattern": {
           "shape": ""
          }
         },
         "name": "FRENECTOMIA",
         "orientation": "v",
         "showlegend": true,
         "textposition": "auto",
         "type": "bar",
         "x": [
          "FRENECTOMIA"
         ],
         "xaxis": "x",
         "y": {
          "bdata": "Hg==",
          "dtype": "i1"
         },
         "yaxis": "y"
        },
        {
         "hovertemplate": "Categoría=%{x}<br>Nº Actos=%{y}<extra></extra>",
         "legendgroup": "PROFILAXIS",
         "marker": {
          "color": "#6BB97A",
          "pattern": {
           "shape": ""
          }
         },
         "name": "PROFILAXIS",
         "orientation": "v",
         "showlegend": true,
         "textposition": "auto",
         "type": "bar",
         "x": [
          "PROFILAXIS"
         ],
         "xaxis": "x2",
         "y": {
          "bdata": "RAE=",
          "dtype": "i2"
         },
         "yaxis": "y2"
        },
        {
         "hovertemplate": "Categoría=%{x}<br>Nº Actos=%{y}<extra></extra>",
         "legendgroup": "OBTURACION",
         "marker": {
          "color": "#FF9F43",
          "pattern": {
           "shape": ""
          }
         },
         "name": "OBTURACION",
         "orientation": "v",
         "showlegend": true,
         "textposition": "auto",
         "type": "bar",
         "x": [
          "OBTURACION"
         ],
         "xaxis": "x2",
         "y": {
          "bdata": "9wA=",
          "dtype": "i2"
         },
         "yaxis": "y2"
        },
        {
         "hovertemplate": "Categoría=%{x}<br>Nº Actos=%{y}<extra></extra>",
         "legendgroup": "CORONA",
         "marker": {
          "color": "#FFD93D",
          "pattern": {
           "shape": ""
          }
         },
         "name": "CORONA",
         "orientation": "v",
         "showlegend": true,
         "textposition": "auto",
         "type": "bar",
         "x": [
          "CORONA"
         ],
         "xaxis": "x2",
         "y": {
          "bdata": "gwA=",
          "dtype": "i2"
         },
         "yaxis": "y2"
        },
        {
         "hovertemplate": "Categoría=%{x}<br>Nº Actos=%{y}<extra></extra>",
         "legendgroup": "EXTRACCION",
         "marker": {
          "color": "#FF4D4D",
          "pattern": {
           "shape": ""
          }
         },
         "name": "EXTRACCION",
         "orientation": "v",
         "showlegend": true,
         "textposition": "auto",
         "type": "bar",
         "x": [
          "EXTRACCION"
         ],
         "xaxis": "x2",
         "y": {
          "bdata": "XA==",
          "dtype": "i1"
         },
         "yaxis": "y2"
        },
        {
         "hovertemplate": "Categoría=%{x}<br>Nº Actos=%{y}<extra></extra>",
         "legendgroup": "DIAGNOSTICOS",
         "marker": {
          "color": "#FF6B6B",
          "pattern": {
           "shape": ""
          }
         },
         "name": "DIAGNOSTICOS",
         "orientation": "v",
         "showlegend": true,
         "textposition": "auto",
         "type": "bar",
         "x": [
          "DIAGNOSTICOS"
         ],
         "xaxis": "x2",
         "y": {
          "bdata": "SA==",
          "dtype": "i1"
         },
         "yaxis": "y2"
        },
        {
         "hovertemplate": "Categoría=%{x}<br>Nº Actos=%{y}<extra></extra>",
         "legendgroup": "IMPLANTES",
         "marker": {
          "color": "#FF7F50",
          "pattern": {
           "shape": ""
          }
         },
         "name": "IMPLANTES",
         "orientation": "v",
         "showlegend": true,
         "textposition": "auto",
         "type": "bar",
         "x": [
          "IMPLANTES"
         ],
         "xaxis": "x2",
         "y": {
          "bdata": "Ow==",
          "dtype": "i1"
         },
         "yaxis": "y2"
        },
        {
         "hovertemplate": "Categoría=%{x}<br>Nº Actos=%{y}<extra></extra>",
         "legendgroup": "ORTODONCIAS",
         "marker": {
          "color": "#00BFFF",
          "pattern": {
           "shape": ""
          }
         },
         "name": "ORTODONCIAS",
         "orientation": "v",
         "showlegend": true,
         "textposition": "auto",
         "type": "bar",
         "x": [
          "ORTODONCIAS"
         ],
         "xaxis": "x2",
         "y": {
          "bdata": "KQ==",
          "dtype": "i1"
         },
         "yaxis": "y2"
        },
        {
         "hovertemplate": "Categoría=%{x}<br>Nº Actos=%{y}<extra></extra>",
         "legendgroup": "PROTESIS REMOVIBLE",
         "marker": {
          "color": "#FF6F59",
          "pattern": {
           "shape": ""
          }
         },
         "name": "PROTESIS REMOVIBLE",
         "orientation": "v",
         "showlegend": true,
         "textposition": "auto",
         "type": "bar",
         "x": [
          "PROTESIS REMOVIBLE"
         ],
         "xaxis": "x2",
         "y": {
          "bdata": "IQ==",
          "dtype": "i1"
         },
         "yaxis": "y2"
        },
        {
         "hovertemplate": "Categoría=%{x}<br>Nº Actos=%{y}<extra></extra>",
         "legendgroup": "ENDODONCIAS",
         "marker": {
          "color": "#FFCD00",
          "pattern": {
           "shape": ""
          }
         },
         "name": "ENDODONCIAS",
         "orientation": "v",
         "showlegend": true,
         "textposition": "auto",
         "type": "bar",
         "x": [
          "ENDODONCIAS"
         ],
         "xaxis": "x2",
         "y": {
          "bdata": "HQ==",
          "dtype": "i1"
         },
         "yaxis": "y2"
        },
        {
         "hovertemplate": "Categoría=%{x}<br>Nº Actos=%{y}<extra></extra>",
         "legendgroup": "PUENTES",
         "marker": {
          "color": "#8A2BE2",
          "pattern": {
           "shape": ""
          }
         },
         "name": "PUENTES",
         "orientation": "v",
         "showlegend": true,
         "textposition": "auto",
         "type": "bar",
         "x": [
          "PUENTES"
         ],
         "xaxis": "x2",
         "y": {
          "bdata": "GQ==",
          "dtype": "i1"
         },
         "yaxis": "y2"
        },
        {
         "hovertemplate": "Categoría=%{x}<br>Nº Actos=%{y}<extra></extra>",
         "legendgroup": "BLANQUEAMIENTO",
         "marker": {
          "color": "#87CEEB",
          "pattern": {
           "shape": ""
          }
         },
         "name": "BLANQUEAMIENTO",
         "orientation": "v",
         "showlegend": true,
         "textposition": "auto",
         "type": "bar",
         "x": [
          "BLANQUEAMIENTO"
         ],
         "xaxis": "x2",
         "y": {
          "bdata": "CA==",
          "dtype": "i1"
         },
         "yaxis": "y2"
        },
        {
         "hovertemplate": "Categoría=%{x}<br>Nº Actos=%{y}<extra></extra>",
         "legendgroup": "CIRUGIA PERIODONTAL",
         "marker": {
          "color": "#06DD51",
          "pattern": {
           "shape": ""
          }
         },
         "name": "CIRUGIA PERIODONTAL",
         "orientation": "v",
         "showlegend": true,
         "textposition": "auto",
         "type": "bar",
         "x": [
          "CIRUGIA PERIODONTAL"
         ],
         "xaxis": "x2",
         "y": {
          "bdata": "BA==",
          "dtype": "i1"
         },
         "yaxis": "y2"
        },
        {
         "hovertemplate": "Categoría=%{x}<br>Nº Actos=%{y}<extra></extra>",
         "legendgroup": "CIRUGIA MAXILOFACIAL",
         "marker": {
          "color": "#FF8C00",
          "pattern": {
           "shape": ""
          }
         },
         "name": "CIRUGIA MAXILOFACIAL",
         "orientation": "v",
         "showlegend": true,
         "textposition": "auto",
         "type": "bar",
         "x": [
          "CIRUGIA MAXILOFACIAL"
         ],
         "xaxis": "x2",
         "y": {
          "bdata": "Ag==",
          "dtype": "i1"
         },
         "yaxis": "y2"
        },
        {
         "hovertemplate": "Categoría=%{x}<br>Nº Actos=%{y}<extra></extra>",
         "legendgroup": "FRENECTOMIA",
         "marker": {
          "color": "#40E0D0",
          "pattern": {
           "shape": ""
          }
         },
         "name": "FRENECTOMIA",
         "orientation": "v",
         "showlegend": true,
         "textposition": "auto",
         "type": "bar",
         "x": [
          "FRENECTOMIA"
         ],
         "xaxis": "x2",
         "y": {
          "bdata": "AQ==",
          "dtype": "i1"
         },
         "yaxis": "y2"
        }
       ],
       "layout": {
        "annotations": [
         {
          "font": {
           "size": 16
          },
          "showarrow": false,
          "text": "Ganancias por Categoría",
          "x": 0.225,
          "xanchor": "center",
          "xref": "paper",
          "y": 1,
          "yanchor": "bottom",
          "yref": "paper"
         },
         {
          "font": {
           "size": 16
          },
          "showarrow": false,
          "text": "Actos por Categoría",
          "x": 0.775,
          "xanchor": "center",
          "xref": "paper",
          "y": 1,
          "yanchor": "bottom",
          "yref": "paper"
         }
        ],
        "font": {
         "color": "black",
         "family": "Oswald"
        },
        "height": 500,
        "paper_bgcolor": "white",
        "plot_bgcolor": "white",
        "showlegend": true,
        "template": {
         "data": {
          "bar": [
           {
            "error_x": {
             "color": "#2a3f5f"
            },
            "error_y": {
             "color": "#2a3f5f"
            },
            "marker": {
             "line": {
              "color": "#E5ECF6",
              "width": 0.5
             },
             "pattern": {
              "fillmode": "overlay",
              "size": 10,
              "solidity": 0.2
             }
            },
            "type": "bar"
           }
          ],
          "barpolar": [
           {
            "marker": {
             "line": {
              "color": "#E5ECF6",
              "width": 0.5
             },
             "pattern": {
              "fillmode": "overlay",
              "size": 10,
              "solidity": 0.2
             }
            },
            "type": "barpolar"
           }
          ],
          "carpet": [
           {
            "aaxis": {
             "endlinecolor": "#2a3f5f",
             "gridcolor": "white",
             "linecolor": "white",
             "minorgridcolor": "white",
             "startlinecolor": "#2a3f5f"
            },
            "baxis": {
             "endlinecolor": "#2a3f5f",
             "gridcolor": "white",
             "linecolor": "white",
             "minorgridcolor": "white",
             "startlinecolor": "#2a3f5f"
            },
            "type": "carpet"
           }
          ],
          "choropleth": [
           {
            "colorbar": {
             "outlinewidth": 0,
             "ticks": ""
            },
            "type": "choropleth"
           }
          ],
          "contour": [
           {
            "colorbar": {
             "outlinewidth": 0,
             "ticks": ""
            },
            "colorscale": [
             [
              0,
              "#0d0887"
             ],
             [
              0.1111111111111111,
              "#46039f"
             ],
             [
              0.2222222222222222,
              "#7201a8"
             ],
             [
              0.3333333333333333,
              "#9c179e"
             ],
             [
              0.4444444444444444,
              "#bd3786"
             ],
             [
              0.5555555555555556,
              "#d8576b"
             ],
             [
              0.6666666666666666,
              "#ed7953"
             ],
             [
              0.7777777777777778,
              "#fb9f3a"
             ],
             [
              0.8888888888888888,
              "#fdca26"
             ],
             [
              1,
              "#f0f921"
             ]
            ],
            "type": "contour"
           }
          ],
          "contourcarpet": [
           {
            "colorbar": {
             "outlinewidth": 0,
             "ticks": ""
            },
            "type": "contourcarpet"
           }
          ],
          "heatmap": [
           {
            "colorbar": {
             "outlinewidth": 0,
             "ticks": ""
            },
            "colorscale": [
             [
              0,
              "#0d0887"
             ],
             [
              0.1111111111111111,
              "#46039f"
             ],
             [
              0.2222222222222222,
              "#7201a8"
             ],
             [
              0.3333333333333333,
              "#9c179e"
             ],
             [
              0.4444444444444444,
              "#bd3786"
             ],
             [
              0.5555555555555556,
              "#d8576b"
             ],
             [
              0.6666666666666666,
              "#ed7953"
             ],
             [
              0.7777777777777778,
              "#fb9f3a"
             ],
             [
              0.8888888888888888,
              "#fdca26"
             ],
             [
              1,
              "#f0f921"
             ]
            ],
            "type": "heatmap"
           }
          ],
          "histogram": [
           {
            "marker": {
             "pattern": {
              "fillmode": "overlay",
              "size": 10,
              "solidity": 0.2
             }
            },
            "type": "histogram"
           }
          ],
          "histogram2d": [
           {
            "colorbar": {
             "outlinewidth": 0,
             "ticks": ""
            },
            "colorscale": [
             [
              0,
              "#0d0887"
             ],
             [
              0.1111111111111111,
              "#46039f"
             ],
             [
              0.2222222222222222,
              "#7201a8"
             ],
             [
              0.3333333333333333,
              "#9c179e"
             ],
             [
              0.4444444444444444,
              "#bd3786"
             ],
             [
              0.5555555555555556,
              "#d8576b"
             ],
             [
              0.6666666666666666,
              "#ed7953"
             ],
             [
              0.7777777777777778,
              "#fb9f3a"
             ],
             [
              0.8888888888888888,
              "#fdca26"
             ],
             [
              1,
              "#f0f921"
             ]
            ],
            "type": "histogram2d"
           }
          ],
          "histogram2dcontour": [
           {
            "colorbar": {
             "outlinewidth": 0,
             "ticks": ""
            },
            "colorscale": [
             [
              0,
              "#0d0887"
             ],
             [
              0.1111111111111111,
              "#46039f"
             ],
             [
              0.2222222222222222,
              "#7201a8"
             ],
             [
              0.3333333333333333,
              "#9c179e"
             ],
             [
              0.4444444444444444,
              "#bd3786"
             ],
             [
              0.5555555555555556,
              "#d8576b"
             ],
             [
              0.6666666666666666,
              "#ed7953"
             ],
             [
              0.7777777777777778,
              "#fb9f3a"
             ],
             [
              0.8888888888888888,
              "#fdca26"
             ],
             [
              1,
              "#f0f921"
             ]
            ],
            "type": "histogram2dcontour"
           }
          ],
          "mesh3d": [
           {
            "colorbar": {
             "outlinewidth": 0,
             "ticks": ""
            },
            "type": "mesh3d"
           }
          ],
          "parcoords": [
           {
            "line": {
             "colorbar": {
              "outlinewidth": 0,
              "ticks": ""
             }
            },
            "type": "parcoords"
           }
          ],
          "pie": [
           {
            "automargin": true,
            "type": "pie"
           }
          ],
          "scatter": [
           {
            "fillpattern": {
             "fillmode": "overlay",
             "size": 10,
             "solidity": 0.2
            },
            "type": "scatter"
           }
          ],
          "scatter3d": [
           {
            "line": {
             "colorbar": {
              "outlinewidth": 0,
              "ticks": ""
             }
            },
            "marker": {
             "colorbar": {
              "outlinewidth": 0,
              "ticks": ""
             }
            },
            "type": "scatter3d"
           }
          ],
          "scattercarpet": [
           {
            "marker": {
             "colorbar": {
              "outlinewidth": 0,
              "ticks": ""
             }
            },
            "type": "scattercarpet"
           }
          ],
          "scattergeo": [
           {
            "marker": {
             "colorbar": {
              "outlinewidth": 0,
              "ticks": ""
             }
            },
            "type": "scattergeo"
           }
          ],
          "scattergl": [
           {
            "marker": {
             "colorbar": {
              "outlinewidth": 0,
              "ticks": ""
             }
            },
            "type": "scattergl"
           }
          ],
          "scattermap": [
           {
            "marker": {
             "colorbar": {
              "outlinewidth": 0,
              "ticks": ""
             }
            },
            "type": "scattermap"
           }
          ],
          "scattermapbox": [
           {
            "marker": {
             "colorbar": {
              "outlinewidth": 0,
              "ticks": ""
             }
            },
            "type": "scattermapbox"
           }
          ],
          "scatterpolar": [
           {
            "marker": {
             "colorbar": {
              "outlinewidth": 0,
              "ticks": ""
             }
            },
            "type": "scatterpolar"
           }
          ],
          "scatterpolargl": [
           {
            "marker": {
             "colorbar": {
              "outlinewidth": 0,
              "ticks": ""
             }
            },
            "type": "scatterpolargl"
           }
          ],
          "scatterternary": [
           {
            "marker": {
             "colorbar": {
              "outlinewidth": 0,
              "ticks": ""
             }
            },
            "type": "scatterternary"
           }
          ],
          "surface": [
           {
            "colorbar": {
             "outlinewidth": 0,
             "ticks": ""
            },
            "colorscale": [
             [
              0,
              "#0d0887"
             ],
             [
              0.1111111111111111,
              "#46039f"
             ],
             [
              0.2222222222222222,
              "#7201a8"
             ],
             [
              0.3333333333333333,
              "#9c179e"
             ],
             [
              0.4444444444444444,
              "#bd3786"
             ],
             [
              0.5555555555555556,
              "#d8576b"
             ],
             [
              0.6666666666666666,
              "#ed7953"
             ],
             [
              0.7777777777777778,
              "#fb9f3a"
             ],
             [
              0.8888888888888888,
              "#fdca26"
             ],
             [
              1,
              "#f0f921"
             ]
            ],
            "type": "surface"
           }
          ],
          "table": [
           {
            "cells": {
             "fill": {
              "color": "#EBF0F8"
             },
             "line": {
              "color": "white"
             }
            },
            "header": {
             "fill": {
              "color": "#C8D4E3"
             },
             "line": {
              "color": "white"
             }
            },
            "type": "table"
           }
          ]
         },
         "layout": {
          "annotationdefaults": {
           "arrowcolor": "#2a3f5f",
           "arrowhead": 0,
           "arrowwidth": 1
          },
          "autotypenumbers": "strict",
          "coloraxis": {
           "colorbar": {
            "outlinewidth": 0,
            "ticks": ""
           }
          },
          "colorscale": {
           "diverging": [
            [
             0,
             "#8e0152"
            ],
            [
             0.1,
             "#c51b7d"
            ],
            [
             0.2,
             "#de77ae"
            ],
            [
             0.3,
             "#f1b6da"
            ],
            [
             0.4,
             "#fde0ef"
            ],
            [
             0.5,
             "#f7f7f7"
            ],
            [
             0.6,
             "#e6f5d0"
            ],
            [
             0.7,
             "#b8e186"
            ],
            [
             0.8,
             "#7fbc41"
            ],
            [
             0.9,
             "#4d9221"
            ],
            [
             1,
             "#276419"
            ]
           ],
           "sequential": [
            [
             0,
             "#0d0887"
            ],
            [
             0.1111111111111111,
             "#46039f"
            ],
            [
             0.2222222222222222,
             "#7201a8"
            ],
            [
             0.3333333333333333,
             "#9c179e"
            ],
            [
             0.4444444444444444,
             "#bd3786"
            ],
            [
             0.5555555555555556,
             "#d8576b"
            ],
            [
             0.6666666666666666,
             "#ed7953"
            ],
            [
             0.7777777777777778,
             "#fb9f3a"
            ],
            [
             0.8888888888888888,
             "#fdca26"
            ],
            [
             1,
             "#f0f921"
            ]
           ],
           "sequentialminus": [
            [
             0,
             "#0d0887"
            ],
            [
             0.1111111111111111,
             "#46039f"
            ],
            [
             0.2222222222222222,
             "#7201a8"
            ],
            [
             0.3333333333333333,
             "#9c179e"
            ],
            [
             0.4444444444444444,
             "#bd3786"
            ],
            [
             0.5555555555555556,
             "#d8576b"
            ],
            [
             0.6666666666666666,
             "#ed7953"
            ],
            [
             0.7777777777777778,
             "#fb9f3a"
            ],
            [
             0.8888888888888888,
             "#fdca26"
            ],
            [
             1,
             "#f0f921"
            ]
           ]
          },
          "colorway": [
           "#636efa",
           "#EF553B",
           "#00cc96",
           "#ab63fa",
           "#FFA15A",
           "#19d3f3",
           "#FF6692",
           "#B6E880",
           "#FF97FF",
           "#FECB52"
          ],
          "font": {
           "color": "#2a3f5f"
          },
          "geo": {
           "bgcolor": "white",
           "lakecolor": "white",
           "landcolor": "#E5ECF6",
           "showlakes": true,
           "showland": true,
           "subunitcolor": "white"
          },
          "hoverlabel": {
           "align": "left"
          },
          "hovermode": "closest",
          "mapbox": {
           "style": "light"
          },
          "paper_bgcolor": "white",
          "plot_bgcolor": "#E5ECF6",
          "polar": {
           "angularaxis": {
            "gridcolor": "white",
            "linecolor": "white",
            "ticks": ""
           },
           "bgcolor": "#E5ECF6",
           "radialaxis": {
            "gridcolor": "white",
            "linecolor": "white",
            "ticks": ""
           }
          },
          "scene": {
           "xaxis": {
            "backgroundcolor": "#E5ECF6",
            "gridcolor": "white",
            "gridwidth": 2,
            "linecolor": "white",
            "showbackground": true,
            "ticks": "",
            "zerolinecolor": "white"
           },
           "yaxis": {
            "backgroundcolor": "#E5ECF6",
            "gridcolor": "white",
            "gridwidth": 2,
            "linecolor": "white",
            "showbackground": true,
            "ticks": "",
            "zerolinecolor": "white"
           },
           "zaxis": {
            "backgroundcolor": "#E5ECF6",
            "gridcolor": "white",
            "gridwidth": 2,
            "linecolor": "white",
            "showbackground": true,
            "ticks": "",
            "zerolinecolor": "white"
           }
          },
          "shapedefaults": {
           "line": {
            "color": "#2a3f5f"
           }
          },
          "ternary": {
           "aaxis": {
            "gridcolor": "white",
            "linecolor": "white",
            "ticks": ""
           },
           "baxis": {
            "gridcolor": "white",
            "linecolor": "white",
            "ticks": ""
           },
           "bgcolor": "#E5ECF6",
           "caxis": {
            "gridcolor": "white",
            "linecolor": "white",
            "ticks": ""
           }
          },
          "title": {
           "x": 0.05
          },
          "xaxis": {
           "automargin": true,
           "gridcolor": "white",
           "linecolor": "white",
           "ticks": "",
           "title": {
            "standoff": 15
           },
           "zerolinecolor": "white",
           "zerolinewidth": 2
          },
          "yaxis": {
           "automargin": true,
           "gridcolor": "white",
           "linecolor": "white",
           "ticks": "",
           "title": {
            "standoff": 15
           },
           "zerolinecolor": "white",
           "zerolinewidth": 2
          }
         }
        },
        "title": {
         "font": {
          "color": "black"
         },
         "text": "Análisis de Categorías Médicas 2023"
        },
        "xaxis": {
         "anchor": "y",
         "domain": [
          0,
          0.45
         ],
         "linecolor": "black",
         "linewidth": 1,
         "showline": true,
         "tickfont": {
          "color": "black"
         },
         "title": {
          "text": "Categoría"
         }
        },
        "xaxis2": {
         "anchor": "y2",
         "domain": [
          0.55,
          1
         ],
         "linecolor": "black",
         "linewidth": 1,
         "showline": true,
         "tickfont": {
          "color": "black"
         },
         "title": {
          "text": "Categoría"
         }
        },
        "yaxis": {
         "anchor": "x",
         "domain": [
          0,
          1
         ],
         "linecolor": "black",
         "linewidth": 1,
         "showline": true,
         "tickfont": {
          "color": "black"
         },
         "title": {
          "text": "Total (€)"
         }
        },
        "yaxis2": {
         "anchor": "x2",
         "domain": [
          0,
          1
         ],
         "linecolor": "black",
         "linewidth": 1,
         "showline": true,
         "tickfont": {
          "color": "black"
         },
         "title": {
          "text": "Nº Actos"
         }
        }
       }
      }
     },
     "metadata": {},
     "output_type": "display_data"
    }
   ],
   "source": [
    "#COMPARATIVA NUMERO DE ACTOS Y GANANCIAS TOTALES SEGUN CATEGORIA MEDICA"
   ]
  },
  {
   "cell_type": "code",
   "execution_count": null,
   "id": "20ab1f00",
   "metadata": {},
   "outputs": [
    {
     "data": {
      "application/vnd.plotly.v1+json": {
       "config": {
        "plotlyServerURL": "https://plot.ly"
       },
       "data": [
        {
         "hovertemplate": "Categoría=%{x}<br>Total (€)=%{y}<extra></extra>",
         "legendgroup": "CORONA",
         "marker": {
          "color": "#FFD93D",
          "pattern": {
           "shape": ""
          }
         },
         "name": "CORONA",
         "orientation": "v",
         "showlegend": true,
         "textposition": "auto",
         "type": "bar",
         "x": [
          "CORONA"
         ],
         "xaxis": "x",
         "y": {
          "bdata": "A6IAAA==",
          "dtype": "i4"
         },
         "yaxis": "y"
        },
        {
         "hovertemplate": "Categoría=%{x}<br>Total (€)=%{y}<extra></extra>",
         "legendgroup": "IMPLANTES",
         "marker": {
          "color": "#FF7F50",
          "pattern": {
           "shape": ""
          }
         },
         "name": "IMPLANTES",
         "orientation": "v",
         "showlegend": true,
         "textposition": "auto",
         "type": "bar",
         "x": [
          "IMPLANTES"
         ],
         "xaxis": "x",
         "y": {
          "bdata": "RpsAAA==",
          "dtype": "i4"
         },
         "yaxis": "y"
        },
        {
         "hovertemplate": "Categoría=%{x}<br>Total (€)=%{y}<extra></extra>",
         "legendgroup": "ORTODONCIAS",
         "marker": {
          "color": "#00BFFF",
          "pattern": {
           "shape": ""
          }
         },
         "name": "ORTODONCIAS",
         "orientation": "v",
         "showlegend": true,
         "textposition": "auto",
         "type": "bar",
         "x": [
          "ORTODONCIAS"
         ],
         "xaxis": "x",
         "y": {
          "bdata": "yWw=",
          "dtype": "i2"
         },
         "yaxis": "y"
        },
        {
         "hovertemplate": "Categoría=%{x}<br>Total (€)=%{y}<extra></extra>",
         "legendgroup": "OBTURACION",
         "marker": {
          "color": "#FF9F43",
          "pattern": {
           "shape": ""
          }
         },
         "name": "OBTURACION",
         "orientation": "v",
         "showlegend": true,
         "textposition": "auto",
         "type": "bar",
         "x": [
          "OBTURACION"
         ],
         "xaxis": "x",
         "y": {
          "bdata": "30Y=",
          "dtype": "i2"
         },
         "yaxis": "y"
        },
        {
         "hovertemplate": "Categoría=%{x}<br>Total (€)=%{y}<extra></extra>",
         "legendgroup": "PROFILAXIS",
         "marker": {
          "color": "#6BB97A",
          "pattern": {
           "shape": ""
          }
         },
         "name": "PROFILAXIS",
         "orientation": "v",
         "showlegend": true,
         "textposition": "auto",
         "type": "bar",
         "x": [
          "PROFILAXIS"
         ],
         "xaxis": "x",
         "y": {
          "bdata": "Qyw=",
          "dtype": "i2"
         },
         "yaxis": "y"
        },
        {
         "hovertemplate": "Categoría=%{x}<br>Total (€)=%{y}<extra></extra>",
         "legendgroup": "PROTESIS REMOVIBLE",
         "marker": {
          "color": "#FF6F59",
          "pattern": {
           "shape": ""
          }
         },
         "name": "PROTESIS REMOVIBLE",
         "orientation": "v",
         "showlegend": true,
         "textposition": "auto",
         "type": "bar",
         "x": [
          "PROTESIS REMOVIBLE"
         ],
         "xaxis": "x",
         "y": {
          "bdata": "mhg=",
          "dtype": "i2"
         },
         "yaxis": "y"
        },
        {
         "hovertemplate": "Categoría=%{x}<br>Total (€)=%{y}<extra></extra>",
         "legendgroup": "EXTRACCION",
         "marker": {
          "color": "#FF4D4D",
          "pattern": {
           "shape": ""
          }
         },
         "name": "EXTRACCION",
         "orientation": "v",
         "showlegend": true,
         "textposition": "auto",
         "type": "bar",
         "x": [
          "EXTRACCION"
         ],
         "xaxis": "x",
         "y": {
          "bdata": "hhM=",
          "dtype": "i2"
         },
         "yaxis": "y"
        },
        {
         "hovertemplate": "Categoría=%{x}<br>Total (€)=%{y}<extra></extra>",
         "legendgroup": "ENDODONCIAS",
         "marker": {
          "color": "#FFCD00",
          "pattern": {
           "shape": ""
          }
         },
         "name": "ENDODONCIAS",
         "orientation": "v",
         "showlegend": true,
         "textposition": "auto",
         "type": "bar",
         "x": [
          "ENDODONCIAS"
         ],
         "xaxis": "x",
         "y": {
          "bdata": "uRI=",
          "dtype": "i2"
         },
         "yaxis": "y"
        },
        {
         "hovertemplate": "Categoría=%{x}<br>Total (€)=%{y}<extra></extra>",
         "legendgroup": "DIAGNOSTICOS",
         "marker": {
          "color": "#FF6B6B",
          "pattern": {
           "shape": ""
          }
         },
         "name": "DIAGNOSTICOS",
         "orientation": "v",
         "showlegend": true,
         "textposition": "auto",
         "type": "bar",
         "x": [
          "DIAGNOSTICOS"
         ],
         "xaxis": "x",
         "y": {
          "bdata": "sAw=",
          "dtype": "i2"
         },
         "yaxis": "y"
        },
        {
         "hovertemplate": "Categoría=%{x}<br>Total (€)=%{y}<extra></extra>",
         "legendgroup": "CIRUGIA MAXILOFACIAL",
         "marker": {
          "color": "#FF8C00",
          "pattern": {
           "shape": ""
          }
         },
         "name": "CIRUGIA MAXILOFACIAL",
         "orientation": "v",
         "showlegend": true,
         "textposition": "auto",
         "type": "bar",
         "x": [
          "CIRUGIA MAXILOFACIAL"
         ],
         "xaxis": "x",
         "y": {
          "bdata": "VAs=",
          "dtype": "i2"
         },
         "yaxis": "y"
        },
        {
         "hovertemplate": "Categoría=%{x}<br>Total (€)=%{y}<extra></extra>",
         "legendgroup": "BLANQUEAMIENTO",
         "marker": {
          "color": "#87CEEB",
          "pattern": {
           "shape": ""
          }
         },
         "name": "BLANQUEAMIENTO",
         "orientation": "v",
         "showlegend": true,
         "textposition": "auto",
         "type": "bar",
         "x": [
          "BLANQUEAMIENTO"
         ],
         "xaxis": "x",
         "y": {
          "bdata": "ogg=",
          "dtype": "i2"
         },
         "yaxis": "y"
        },
        {
         "hovertemplate": "Categoría=%{x}<br>Total (€)=%{y}<extra></extra>",
         "legendgroup": "PUENTES",
         "marker": {
          "color": "#8A2BE2",
          "pattern": {
           "shape": ""
          }
         },
         "name": "PUENTES",
         "orientation": "v",
         "showlegend": true,
         "textposition": "auto",
         "type": "bar",
         "x": [
          "PUENTES"
         ],
         "xaxis": "x",
         "y": {
          "bdata": "+QY=",
          "dtype": "i2"
         },
         "yaxis": "y"
        },
        {
         "hovertemplate": "Categoría=%{x}<br>Total (€)=%{y}<extra></extra>",
         "legendgroup": "CIRUGIA PERIODONTAL",
         "marker": {
          "color": "#06DD51",
          "pattern": {
           "shape": ""
          }
         },
         "name": "CIRUGIA PERIODONTAL",
         "orientation": "v",
         "showlegend": true,
         "textposition": "auto",
         "type": "bar",
         "x": [
          "CIRUGIA PERIODONTAL"
         ],
         "xaxis": "x",
         "y": {
          "bdata": "vAI=",
          "dtype": "i2"
         },
         "yaxis": "y"
        },
        {
         "hovertemplate": "Categoría=%{x}<br>Total (€)=%{y}<extra></extra>",
         "legendgroup": "MUñON",
         "marker": {
          "color": "#19d3f3",
          "pattern": {
           "shape": ""
          }
         },
         "name": "MUñON",
         "orientation": "v",
         "showlegend": true,
         "textposition": "auto",
         "type": "bar",
         "x": [
          "MUñON"
         ],
         "xaxis": "x",
         "y": {
          "bdata": "lgA=",
          "dtype": "i2"
         },
         "yaxis": "y"
        },
        {
         "hovertemplate": "Categoría=%{x}<br>Nº Actos=%{y}<extra></extra>",
         "legendgroup": "PROFILAXIS",
         "marker": {
          "color": "#6BB97A",
          "pattern": {
           "shape": ""
          }
         },
         "name": "PROFILAXIS",
         "orientation": "v",
         "showlegend": true,
         "textposition": "auto",
         "type": "bar",
         "x": [
          "PROFILAXIS"
         ],
         "xaxis": "x2",
         "y": {
          "bdata": "bAE=",
          "dtype": "i2"
         },
         "yaxis": "y2"
        },
        {
         "hovertemplate": "Categoría=%{x}<br>Nº Actos=%{y}<extra></extra>",
         "legendgroup": "OBTURACION",
         "marker": {
          "color": "#FF9F43",
          "pattern": {
           "shape": ""
          }
         },
         "name": "OBTURACION",
         "orientation": "v",
         "showlegend": true,
         "textposition": "auto",
         "type": "bar",
         "x": [
          "OBTURACION"
         ],
         "xaxis": "x2",
         "y": {
          "bdata": "MwE=",
          "dtype": "i2"
         },
         "yaxis": "y2"
        },
        {
         "hovertemplate": "Categoría=%{x}<br>Nº Actos=%{y}<extra></extra>",
         "legendgroup": "CORONA",
         "marker": {
          "color": "#FFD93D",
          "pattern": {
           "shape": ""
          }
         },
         "name": "CORONA",
         "orientation": "v",
         "showlegend": true,
         "textposition": "auto",
         "type": "bar",
         "x": [
          "CORONA"
         ],
         "xaxis": "x2",
         "y": {
          "bdata": "jQA=",
          "dtype": "i2"
         },
         "yaxis": "y2"
        },
        {
         "hovertemplate": "Categoría=%{x}<br>Nº Actos=%{y}<extra></extra>",
         "legendgroup": "EXTRACCION",
         "marker": {
          "color": "#FF4D4D",
          "pattern": {
           "shape": ""
          }
         },
         "name": "EXTRACCION",
         "orientation": "v",
         "showlegend": true,
         "textposition": "auto",
         "type": "bar",
         "x": [
          "EXTRACCION"
         ],
         "xaxis": "x2",
         "y": {
          "bdata": "XA==",
          "dtype": "i1"
         },
         "yaxis": "y2"
        },
        {
         "hovertemplate": "Categoría=%{x}<br>Nº Actos=%{y}<extra></extra>",
         "legendgroup": "DIAGNOSTICOS",
         "marker": {
          "color": "#FF6B6B",
          "pattern": {
           "shape": ""
          }
         },
         "name": "DIAGNOSTICOS",
         "orientation": "v",
         "showlegend": true,
         "textposition": "auto",
         "type": "bar",
         "x": [
          "DIAGNOSTICOS"
         ],
         "xaxis": "x2",
         "y": {
          "bdata": "Sg==",
          "dtype": "i1"
         },
         "yaxis": "y2"
        },
        {
         "hovertemplate": "Categoría=%{x}<br>Nº Actos=%{y}<extra></extra>",
         "legendgroup": "IMPLANTES",
         "marker": {
          "color": "#FF7F50",
          "pattern": {
           "shape": ""
          }
         },
         "name": "IMPLANTES",
         "orientation": "v",
         "showlegend": true,
         "textposition": "auto",
         "type": "bar",
         "x": [
          "IMPLANTES"
         ],
         "xaxis": "x2",
         "y": {
          "bdata": "LA==",
          "dtype": "i1"
         },
         "yaxis": "y2"
        },
        {
         "hovertemplate": "Categoría=%{x}<br>Nº Actos=%{y}<extra></extra>",
         "legendgroup": "ORTODONCIAS",
         "marker": {
          "color": "#00BFFF",
          "pattern": {
           "shape": ""
          }
         },
         "name": "ORTODONCIAS",
         "orientation": "v",
         "showlegend": true,
         "textposition": "auto",
         "type": "bar",
         "x": [
          "ORTODONCIAS"
         ],
         "xaxis": "x2",
         "y": {
          "bdata": "LA==",
          "dtype": "i1"
         },
         "yaxis": "y2"
        },
        {
         "hovertemplate": "Categoría=%{x}<br>Nº Actos=%{y}<extra></extra>",
         "legendgroup": "ENDODONCIAS",
         "marker": {
          "color": "#FFCD00",
          "pattern": {
           "shape": ""
          }
         },
         "name": "ENDODONCIAS",
         "orientation": "v",
         "showlegend": true,
         "textposition": "auto",
         "type": "bar",
         "x": [
          "ENDODONCIAS"
         ],
         "xaxis": "x2",
         "y": {
          "bdata": "IA==",
          "dtype": "i1"
         },
         "yaxis": "y2"
        },
        {
         "hovertemplate": "Categoría=%{x}<br>Nº Actos=%{y}<extra></extra>",
         "legendgroup": "PROTESIS REMOVIBLE",
         "marker": {
          "color": "#FF6F59",
          "pattern": {
           "shape": ""
          }
         },
         "name": "PROTESIS REMOVIBLE",
         "orientation": "v",
         "showlegend": true,
         "textposition": "auto",
         "type": "bar",
         "x": [
          "PROTESIS REMOVIBLE"
         ],
         "xaxis": "x2",
         "y": {
          "bdata": "GA==",
          "dtype": "i1"
         },
         "yaxis": "y2"
        },
        {
         "hovertemplate": "Categoría=%{x}<br>Nº Actos=%{y}<extra></extra>",
         "legendgroup": "PUENTES",
         "marker": {
          "color": "#8A2BE2",
          "pattern": {
           "shape": ""
          }
         },
         "name": "PUENTES",
         "orientation": "v",
         "showlegend": true,
         "textposition": "auto",
         "type": "bar",
         "x": [
          "PUENTES"
         ],
         "xaxis": "x2",
         "y": {
          "bdata": "EA==",
          "dtype": "i1"
         },
         "yaxis": "y2"
        },
        {
         "hovertemplate": "Categoría=%{x}<br>Nº Actos=%{y}<extra></extra>",
         "legendgroup": "CIRUGIA MAXILOFACIAL",
         "marker": {
          "color": "#FF8C00",
          "pattern": {
           "shape": ""
          }
         },
         "name": "CIRUGIA MAXILOFACIAL",
         "orientation": "v",
         "showlegend": true,
         "textposition": "auto",
         "type": "bar",
         "x": [
          "CIRUGIA MAXILOFACIAL"
         ],
         "xaxis": "x2",
         "y": {
          "bdata": "CQ==",
          "dtype": "i1"
         },
         "yaxis": "y2"
        },
        {
         "hovertemplate": "Categoría=%{x}<br>Nº Actos=%{y}<extra></extra>",
         "legendgroup": "BLANQUEAMIENTO",
         "marker": {
          "color": "#87CEEB",
          "pattern": {
           "shape": ""
          }
         },
         "name": "BLANQUEAMIENTO",
         "orientation": "v",
         "showlegend": true,
         "textposition": "auto",
         "type": "bar",
         "x": [
          "BLANQUEAMIENTO"
         ],
         "xaxis": "x2",
         "y": {
          "bdata": "Bw==",
          "dtype": "i1"
         },
         "yaxis": "y2"
        },
        {
         "hovertemplate": "Categoría=%{x}<br>Nº Actos=%{y}<extra></extra>",
         "legendgroup": "CIRUGIA PERIODONTAL",
         "marker": {
          "color": "#06DD51",
          "pattern": {
           "shape": ""
          }
         },
         "name": "CIRUGIA PERIODONTAL",
         "orientation": "v",
         "showlegend": true,
         "textposition": "auto",
         "type": "bar",
         "x": [
          "CIRUGIA PERIODONTAL"
         ],
         "xaxis": "x2",
         "y": {
          "bdata": "Ag==",
          "dtype": "i1"
         },
         "yaxis": "y2"
        },
        {
         "hovertemplate": "Categoría=%{x}<br>Nº Actos=%{y}<extra></extra>",
         "legendgroup": "MUñON",
         "marker": {
          "color": "#19d3f3",
          "pattern": {
           "shape": ""
          }
         },
         "name": "MUñON",
         "orientation": "v",
         "showlegend": true,
         "textposition": "auto",
         "type": "bar",
         "x": [
          "MUñON"
         ],
         "xaxis": "x2",
         "y": {
          "bdata": "Ag==",
          "dtype": "i1"
         },
         "yaxis": "y2"
        }
       ],
       "layout": {
        "annotations": [
         {
          "font": {
           "size": 16
          },
          "showarrow": false,
          "text": "Ganancias por Categoría",
          "x": 0.225,
          "xanchor": "center",
          "xref": "paper",
          "y": 1,
          "yanchor": "bottom",
          "yref": "paper"
         },
         {
          "font": {
           "size": 16
          },
          "showarrow": false,
          "text": "Actos por Categoría",
          "x": 0.775,
          "xanchor": "center",
          "xref": "paper",
          "y": 1,
          "yanchor": "bottom",
          "yref": "paper"
         }
        ],
        "font": {
         "color": "black",
         "family": "Oswald"
        },
        "height": 500,
        "paper_bgcolor": "white",
        "plot_bgcolor": "white",
        "showlegend": true,
        "template": {
         "data": {
          "bar": [
           {
            "error_x": {
             "color": "#2a3f5f"
            },
            "error_y": {
             "color": "#2a3f5f"
            },
            "marker": {
             "line": {
              "color": "#E5ECF6",
              "width": 0.5
             },
             "pattern": {
              "fillmode": "overlay",
              "size": 10,
              "solidity": 0.2
             }
            },
            "type": "bar"
           }
          ],
          "barpolar": [
           {
            "marker": {
             "line": {
              "color": "#E5ECF6",
              "width": 0.5
             },
             "pattern": {
              "fillmode": "overlay",
              "size": 10,
              "solidity": 0.2
             }
            },
            "type": "barpolar"
           }
          ],
          "carpet": [
           {
            "aaxis": {
             "endlinecolor": "#2a3f5f",
             "gridcolor": "white",
             "linecolor": "white",
             "minorgridcolor": "white",
             "startlinecolor": "#2a3f5f"
            },
            "baxis": {
             "endlinecolor": "#2a3f5f",
             "gridcolor": "white",
             "linecolor": "white",
             "minorgridcolor": "white",
             "startlinecolor": "#2a3f5f"
            },
            "type": "carpet"
           }
          ],
          "choropleth": [
           {
            "colorbar": {
             "outlinewidth": 0,
             "ticks": ""
            },
            "type": "choropleth"
           }
          ],
          "contour": [
           {
            "colorbar": {
             "outlinewidth": 0,
             "ticks": ""
            },
            "colorscale": [
             [
              0,
              "#0d0887"
             ],
             [
              0.1111111111111111,
              "#46039f"
             ],
             [
              0.2222222222222222,
              "#7201a8"
             ],
             [
              0.3333333333333333,
              "#9c179e"
             ],
             [
              0.4444444444444444,
              "#bd3786"
             ],
             [
              0.5555555555555556,
              "#d8576b"
             ],
             [
              0.6666666666666666,
              "#ed7953"
             ],
             [
              0.7777777777777778,
              "#fb9f3a"
             ],
             [
              0.8888888888888888,
              "#fdca26"
             ],
             [
              1,
              "#f0f921"
             ]
            ],
            "type": "contour"
           }
          ],
          "contourcarpet": [
           {
            "colorbar": {
             "outlinewidth": 0,
             "ticks": ""
            },
            "type": "contourcarpet"
           }
          ],
          "heatmap": [
           {
            "colorbar": {
             "outlinewidth": 0,
             "ticks": ""
            },
            "colorscale": [
             [
              0,
              "#0d0887"
             ],
             [
              0.1111111111111111,
              "#46039f"
             ],
             [
              0.2222222222222222,
              "#7201a8"
             ],
             [
              0.3333333333333333,
              "#9c179e"
             ],
             [
              0.4444444444444444,
              "#bd3786"
             ],
             [
              0.5555555555555556,
              "#d8576b"
             ],
             [
              0.6666666666666666,
              "#ed7953"
             ],
             [
              0.7777777777777778,
              "#fb9f3a"
             ],
             [
              0.8888888888888888,
              "#fdca26"
             ],
             [
              1,
              "#f0f921"
             ]
            ],
            "type": "heatmap"
           }
          ],
          "histogram": [
           {
            "marker": {
             "pattern": {
              "fillmode": "overlay",
              "size": 10,
              "solidity": 0.2
             }
            },
            "type": "histogram"
           }
          ],
          "histogram2d": [
           {
            "colorbar": {
             "outlinewidth": 0,
             "ticks": ""
            },
            "colorscale": [
             [
              0,
              "#0d0887"
             ],
             [
              0.1111111111111111,
              "#46039f"
             ],
             [
              0.2222222222222222,
              "#7201a8"
             ],
             [
              0.3333333333333333,
              "#9c179e"
             ],
             [
              0.4444444444444444,
              "#bd3786"
             ],
             [
              0.5555555555555556,
              "#d8576b"
             ],
             [
              0.6666666666666666,
              "#ed7953"
             ],
             [
              0.7777777777777778,
              "#fb9f3a"
             ],
             [
              0.8888888888888888,
              "#fdca26"
             ],
             [
              1,
              "#f0f921"
             ]
            ],
            "type": "histogram2d"
           }
          ],
          "histogram2dcontour": [
           {
            "colorbar": {
             "outlinewidth": 0,
             "ticks": ""
            },
            "colorscale": [
             [
              0,
              "#0d0887"
             ],
             [
              0.1111111111111111,
              "#46039f"
             ],
             [
              0.2222222222222222,
              "#7201a8"
             ],
             [
              0.3333333333333333,
              "#9c179e"
             ],
             [
              0.4444444444444444,
              "#bd3786"
             ],
             [
              0.5555555555555556,
              "#d8576b"
             ],
             [
              0.6666666666666666,
              "#ed7953"
             ],
             [
              0.7777777777777778,
              "#fb9f3a"
             ],
             [
              0.8888888888888888,
              "#fdca26"
             ],
             [
              1,
              "#f0f921"
             ]
            ],
            "type": "histogram2dcontour"
           }
          ],
          "mesh3d": [
           {
            "colorbar": {
             "outlinewidth": 0,
             "ticks": ""
            },
            "type": "mesh3d"
           }
          ],
          "parcoords": [
           {
            "line": {
             "colorbar": {
              "outlinewidth": 0,
              "ticks": ""
             }
            },
            "type": "parcoords"
           }
          ],
          "pie": [
           {
            "automargin": true,
            "type": "pie"
           }
          ],
          "scatter": [
           {
            "fillpattern": {
             "fillmode": "overlay",
             "size": 10,
             "solidity": 0.2
            },
            "type": "scatter"
           }
          ],
          "scatter3d": [
           {
            "line": {
             "colorbar": {
              "outlinewidth": 0,
              "ticks": ""
             }
            },
            "marker": {
             "colorbar": {
              "outlinewidth": 0,
              "ticks": ""
             }
            },
            "type": "scatter3d"
           }
          ],
          "scattercarpet": [
           {
            "marker": {
             "colorbar": {
              "outlinewidth": 0,
              "ticks": ""
             }
            },
            "type": "scattercarpet"
           }
          ],
          "scattergeo": [
           {
            "marker": {
             "colorbar": {
              "outlinewidth": 0,
              "ticks": ""
             }
            },
            "type": "scattergeo"
           }
          ],
          "scattergl": [
           {
            "marker": {
             "colorbar": {
              "outlinewidth": 0,
              "ticks": ""
             }
            },
            "type": "scattergl"
           }
          ],
          "scattermap": [
           {
            "marker": {
             "colorbar": {
              "outlinewidth": 0,
              "ticks": ""
             }
            },
            "type": "scattermap"
           }
          ],
          "scattermapbox": [
           {
            "marker": {
             "colorbar": {
              "outlinewidth": 0,
              "ticks": ""
             }
            },
            "type": "scattermapbox"
           }
          ],
          "scatterpolar": [
           {
            "marker": {
             "colorbar": {
              "outlinewidth": 0,
              "ticks": ""
             }
            },
            "type": "scatterpolar"
           }
          ],
          "scatterpolargl": [
           {
            "marker": {
             "colorbar": {
              "outlinewidth": 0,
              "ticks": ""
             }
            },
            "type": "scatterpolargl"
           }
          ],
          "scatterternary": [
           {
            "marker": {
             "colorbar": {
              "outlinewidth": 0,
              "ticks": ""
             }
            },
            "type": "scatterternary"
           }
          ],
          "surface": [
           {
            "colorbar": {
             "outlinewidth": 0,
             "ticks": ""
            },
            "colorscale": [
             [
              0,
              "#0d0887"
             ],
             [
              0.1111111111111111,
              "#46039f"
             ],
             [
              0.2222222222222222,
              "#7201a8"
             ],
             [
              0.3333333333333333,
              "#9c179e"
             ],
             [
              0.4444444444444444,
              "#bd3786"
             ],
             [
              0.5555555555555556,
              "#d8576b"
             ],
             [
              0.6666666666666666,
              "#ed7953"
             ],
             [
              0.7777777777777778,
              "#fb9f3a"
             ],
             [
              0.8888888888888888,
              "#fdca26"
             ],
             [
              1,
              "#f0f921"
             ]
            ],
            "type": "surface"
           }
          ],
          "table": [
           {
            "cells": {
             "fill": {
              "color": "#EBF0F8"
             },
             "line": {
              "color": "white"
             }
            },
            "header": {
             "fill": {
              "color": "#C8D4E3"
             },
             "line": {
              "color": "white"
             }
            },
            "type": "table"
           }
          ]
         },
         "layout": {
          "annotationdefaults": {
           "arrowcolor": "#2a3f5f",
           "arrowhead": 0,
           "arrowwidth": 1
          },
          "autotypenumbers": "strict",
          "coloraxis": {
           "colorbar": {
            "outlinewidth": 0,
            "ticks": ""
           }
          },
          "colorscale": {
           "diverging": [
            [
             0,
             "#8e0152"
            ],
            [
             0.1,
             "#c51b7d"
            ],
            [
             0.2,
             "#de77ae"
            ],
            [
             0.3,
             "#f1b6da"
            ],
            [
             0.4,
             "#fde0ef"
            ],
            [
             0.5,
             "#f7f7f7"
            ],
            [
             0.6,
             "#e6f5d0"
            ],
            [
             0.7,
             "#b8e186"
            ],
            [
             0.8,
             "#7fbc41"
            ],
            [
             0.9,
             "#4d9221"
            ],
            [
             1,
             "#276419"
            ]
           ],
           "sequential": [
            [
             0,
             "#0d0887"
            ],
            [
             0.1111111111111111,
             "#46039f"
            ],
            [
             0.2222222222222222,
             "#7201a8"
            ],
            [
             0.3333333333333333,
             "#9c179e"
            ],
            [
             0.4444444444444444,
             "#bd3786"
            ],
            [
             0.5555555555555556,
             "#d8576b"
            ],
            [
             0.6666666666666666,
             "#ed7953"
            ],
            [
             0.7777777777777778,
             "#fb9f3a"
            ],
            [
             0.8888888888888888,
             "#fdca26"
            ],
            [
             1,
             "#f0f921"
            ]
           ],
           "sequentialminus": [
            [
             0,
             "#0d0887"
            ],
            [
             0.1111111111111111,
             "#46039f"
            ],
            [
             0.2222222222222222,
             "#7201a8"
            ],
            [
             0.3333333333333333,
             "#9c179e"
            ],
            [
             0.4444444444444444,
             "#bd3786"
            ],
            [
             0.5555555555555556,
             "#d8576b"
            ],
            [
             0.6666666666666666,
             "#ed7953"
            ],
            [
             0.7777777777777778,
             "#fb9f3a"
            ],
            [
             0.8888888888888888,
             "#fdca26"
            ],
            [
             1,
             "#f0f921"
            ]
           ]
          },
          "colorway": [
           "#636efa",
           "#EF553B",
           "#00cc96",
           "#ab63fa",
           "#FFA15A",
           "#19d3f3",
           "#FF6692",
           "#B6E880",
           "#FF97FF",
           "#FECB52"
          ],
          "font": {
           "color": "#2a3f5f"
          },
          "geo": {
           "bgcolor": "white",
           "lakecolor": "white",
           "landcolor": "#E5ECF6",
           "showlakes": true,
           "showland": true,
           "subunitcolor": "white"
          },
          "hoverlabel": {
           "align": "left"
          },
          "hovermode": "closest",
          "mapbox": {
           "style": "light"
          },
          "paper_bgcolor": "white",
          "plot_bgcolor": "#E5ECF6",
          "polar": {
           "angularaxis": {
            "gridcolor": "white",
            "linecolor": "white",
            "ticks": ""
           },
           "bgcolor": "#E5ECF6",
           "radialaxis": {
            "gridcolor": "white",
            "linecolor": "white",
            "ticks": ""
           }
          },
          "scene": {
           "xaxis": {
            "backgroundcolor": "#E5ECF6",
            "gridcolor": "white",
            "gridwidth": 2,
            "linecolor": "white",
            "showbackground": true,
            "ticks": "",
            "zerolinecolor": "white"
           },
           "yaxis": {
            "backgroundcolor": "#E5ECF6",
            "gridcolor": "white",
            "gridwidth": 2,
            "linecolor": "white",
            "showbackground": true,
            "ticks": "",
            "zerolinecolor": "white"
           },
           "zaxis": {
            "backgroundcolor": "#E5ECF6",
            "gridcolor": "white",
            "gridwidth": 2,
            "linecolor": "white",
            "showbackground": true,
            "ticks": "",
            "zerolinecolor": "white"
           }
          },
          "shapedefaults": {
           "line": {
            "color": "#2a3f5f"
           }
          },
          "ternary": {
           "aaxis": {
            "gridcolor": "white",
            "linecolor": "white",
            "ticks": ""
           },
           "baxis": {
            "gridcolor": "white",
            "linecolor": "white",
            "ticks": ""
           },
           "bgcolor": "#E5ECF6",
           "caxis": {
            "gridcolor": "white",
            "linecolor": "white",
            "ticks": ""
           }
          },
          "title": {
           "x": 0.05
          },
          "xaxis": {
           "automargin": true,
           "gridcolor": "white",
           "linecolor": "white",
           "ticks": "",
           "title": {
            "standoff": 15
           },
           "zerolinecolor": "white",
           "zerolinewidth": 2
          },
          "yaxis": {
           "automargin": true,
           "gridcolor": "white",
           "linecolor": "white",
           "ticks": "",
           "title": {
            "standoff": 15
           },
           "zerolinecolor": "white",
           "zerolinewidth": 2
          }
         }
        },
        "title": {
         "font": {
          "color": "black"
         },
         "text": "Análisis de Categorías Médicas 2024"
        },
        "xaxis": {
         "anchor": "y",
         "domain": [
          0,
          0.45
         ],
         "linecolor": "black",
         "linewidth": 1,
         "showline": true,
         "tickfont": {
          "color": "black"
         },
         "title": {
          "text": "Categoría"
         }
        },
        "xaxis2": {
         "anchor": "y2",
         "domain": [
          0.55,
          1
         ],
         "linecolor": "black",
         "linewidth": 1,
         "showline": true,
         "tickfont": {
          "color": "black"
         },
         "title": {
          "text": "Categoría"
         }
        },
        "yaxis": {
         "anchor": "x",
         "domain": [
          0,
          1
         ],
         "linecolor": "black",
         "linewidth": 1,
         "showline": true,
         "tickfont": {
          "color": "black"
         },
         "title": {
          "text": "Total (€)"
         }
        },
        "yaxis2": {
         "anchor": "x2",
         "domain": [
          0,
          1
         ],
         "linecolor": "black",
         "linewidth": 1,
         "showline": true,
         "tickfont": {
          "color": "black"
         },
         "title": {
          "text": "Nº Actos"
         }
        }
       }
      }
     },
     "metadata": {},
     "output_type": "display_data"
    }
   ],
   "source": [
    "#COMPARATIVA NUMERO DE ACTOS Y GANANCIAS TOTALES SEGUN CATEGORIA MEDICA"
   ]
  },
  {
   "cell_type": "code",
   "execution_count": null,
   "id": "746bd44f",
   "metadata": {},
   "outputs": [
    {
     "data": {
      "application/vnd.plotly.v1+json": {
       "config": {
        "plotlyServerURL": "https://plot.ly"
       },
       "data": [
        {
         "branchvalues": "total",
         "customdata": [
          [
           "(?)"
          ],
          [
           "BLANQUEAMIENTO"
          ],
          [
           "BLANQUEAMIENTO"
          ],
          [
           "CIRUGIA MAXILOFACIAL"
          ],
          [
           "CIRUGIA MAXILOFACIAL"
          ],
          [
           "CIRUGIA PERIODONTAL"
          ],
          [
           "CIRUGIA PERIODONTAL"
          ],
          [
           "CORONA"
          ],
          [
           "CORONA"
          ],
          [
           "CORONA"
          ],
          [
           "CORONA"
          ],
          [
           "CORONA"
          ],
          [
           "CORONA"
          ],
          [
           "CORONA"
          ],
          [
           "CORONA"
          ],
          [
           "CORONA"
          ],
          [
           "DIAGNOSTICOS"
          ],
          [
           "DIAGNOSTICOS"
          ],
          [
           "DIAGNOSTICOS"
          ],
          [
           "ENDODONCIAS"
          ],
          [
           "ENDODONCIAS"
          ],
          [
           "ENDODONCIAS"
          ],
          [
           "ENDODONCIAS"
          ],
          [
           "ENDODONCIAS"
          ],
          [
           "ENDODONCIAS"
          ],
          [
           "ENDODONCIAS"
          ],
          [
           "EXTRACCION"
          ],
          [
           "EXTRACCION"
          ],
          [
           "EXTRACCION"
          ],
          [
           "EXTRACCION"
          ],
          [
           "EXTRACCION"
          ],
          [
           "EXTRACCION"
          ],
          [
           "EXTRACCION"
          ],
          [
           "EXTRACCION"
          ],
          [
           "EXTRACCION"
          ],
          [
           "FRENECTOMIA"
          ],
          [
           "FRENECTOMIA"
          ],
          [
           "IMPLANTES"
          ],
          [
           "IMPLANTES"
          ],
          [
           "IMPLANTES"
          ],
          [
           "IMPLANTES"
          ],
          [
           "OBTURACION"
          ],
          [
           "OBTURACION"
          ],
          [
           "OBTURACION"
          ],
          [
           "OBTURACION"
          ],
          [
           "OBTURACION"
          ],
          [
           "ORTODONCIAS"
          ],
          [
           "ORTODONCIAS"
          ],
          [
           "ORTODONCIAS"
          ],
          [
           "ORTODONCIAS"
          ],
          [
           "ORTODONCIAS"
          ],
          [
           "ORTODONCIAS"
          ],
          [
           "ORTODONCIAS"
          ],
          [
           "ORTODONCIAS"
          ],
          [
           "PROFILAXIS"
          ],
          [
           "PROFILAXIS"
          ],
          [
           "PROFILAXIS"
          ],
          [
           "PROFILAXIS"
          ],
          [
           "PROTESIS REMOVIBLE"
          ],
          [
           "PROTESIS REMOVIBLE"
          ],
          [
           "PROTESIS REMOVIBLE"
          ],
          [
           "PROTESIS REMOVIBLE"
          ],
          [
           "PROTESIS REMOVIBLE"
          ],
          [
           "PROTESIS REMOVIBLE"
          ],
          [
           "PROTESIS REMOVIBLE"
          ],
          [
           "PROTESIS REMOVIBLE"
          ],
          [
           "PROTESIS REMOVIBLE"
          ],
          [
           "PROTESIS REMOVIBLE"
          ],
          [
           "PROTESIS REMOVIBLE"
          ],
          [
           "PUENTES"
          ],
          [
           "PUENTES"
          ]
         ],
         "domain": {
          "x": [
           0,
           0.45
          ],
          "y": [
           0,
           1
          ]
         },
         "hovertemplate": "Tratamiento=%{label}<br>actos=%{value}<br>Categoría=%{parent}<br>id=%{id}<br>category=%{customdata[0]}<extra></extra>",
         "ids": [
          "Categorías",
          "Categorías/BLANQUEAMIENTO",
          "Categorías/BLANQUEAMIENTO/BLANQUEAMIENTO PHILIPS ZOOM",
          "Categorías/CIRUGIA MAXILOFACIAL/INJERTO OSEO",
          "Categorías/CIRUGIA MAXILOFACIAL",
          "Categorías/CIRUGIA PERIODONTAL",
          "Categorías/CIRUGIA PERIODONTAL/CURETAJE GINGIVAL POR CUADRANT",
          "Categorías/CORONA",
          "Categorías/CORONA/RECEMENTADO DE CORONA",
          "Categorías/CORONA/CORONA IMPLANTE",
          "Categorías/CORONA/PROTESIS COMPLETA CERAMICA",
          "Categorías/CORONA/CORONA TOTAL METAL NOBLE",
          "Categorías/CORONA/CORONA METAL CERAMICA",
          "Categorías/CORONA/CORONA IMPLANTE ZIRCONIO",
          "Categorías/CORONA/CORONA RESINA(LABORATORIO)",
          "Categorías/CORONA/PROTESIS HIBRIDA RESINA",
          "Categorías/DIAGNOSTICOS/TAC",
          "Categorías/DIAGNOSTICOS",
          "Categorías/DIAGNOSTICOS/ORTOPANTOMOGRAFIA",
          "Categorías/ENDODONCIAS/ENDODONCIA DE 3 CANALES",
          "Categorías/ENDODONCIAS/ENDODONCIA DE 3 MOLAR",
          "Categorías/ENDODONCIAS/ENDODONCIA DE 1 CANAL",
          "Categorías/ENDODONCIAS/Copia de ENDODONCIA ANTERIOR",
          "Categorías/ENDODONCIAS",
          "Categorías/ENDODONCIAS/ENDODONCIA DE 2 CANALES",
          "Categorías/ENDODONCIAS/ENDODONCIA DE 4 0 MAS CANALES",
          "Categorías/EXTRACCION",
          "Categorías/EXTRACCION/EXTRACCION QUIRURGICA TERCER MOLAR INCLUIDO",
          "Categorías/EXTRACCION/EXTRACCION SIMPLE",
          "Categorías/EXTRACCION/Copia de EXTRACCION SIMPLE",
          "Categorías/EXTRACCION/EXTR. TEMPORAL",
          "Categorías/EXTRACCION/EXTRACCION COMPLEJA",
          "Categorías/EXTRACCION/EXTRACCION DE IMPLANTE",
          "Categorías/EXTRACCION/EXTRACCION QUIRURGICA",
          "Categorías/EXTRACCION/EXTRACCION RESTO RADICULAR",
          "Categorías/FRENECTOMIA",
          "Categorías/FRENECTOMIA/FRENECTOMIA INFANTIL",
          "Categorías/IMPLANTES",
          "Categorías/IMPLANTES/ADITAMENTOS PROTESICOS",
          "Categorías/IMPLANTES/SUPRA O MESOESTRUCTURA",
          "Categorías/IMPLANTES/IMPLANTE",
          "Categorías/OBTURACION/RECONSTRUCCION COMPOSITE",
          "Categorías/OBTURACION/RECONSTRUCCION",
          "Categorías/OBTURACION/OBTURACION SIMPLE",
          "Categorías/OBTURACION/OBTURACION",
          "Categorías/OBTURACION",
          "Categorías/ORTODONCIAS",
          "Categorías/ORTODONCIAS/BRACKETS ESTETICOS",
          "Categorías/ORTODONCIAS/1 visitas ortodoncia",
          "Categorías/ORTODONCIAS/BRACKETS METALICOS",
          "Categorías/ORTODONCIAS/INVISALIGN",
          "Categorías/ORTODONCIAS/RELAIN. DENT. PARCIAL SUPERIOR",
          "Categorías/ORTODONCIAS/RETENEDOR LINGUAL INF",
          "Categorías/ORTODONCIAS/RETENEDOR LINGUAL SUP",
          "Categorías/PROFILAXIS",
          "Categorías/PROFILAXIS/Copia de LIMPIEZA",
          "Categorías/PROFILAXIS/LI2",
          "Categorías/PROFILAXIS/LI1",
          "Categorías/PROTESIS REMOVIBLE/COMPOSTURA DIENTE",
          "Categorías/PROTESIS REMOVIBLE/Copia de PARCIAL INFERIOR",
          "Categorías/PROTESIS REMOVIBLE/REPARACION BASE DENT. COMPLETA",
          "Categorías/PROTESIS REMOVIBLE/PROTESIS MAXILOFACIAL",
          "Categorías/PROTESIS REMOVIBLE/PARCIAL SUPERIOR",
          "Categorías/PROTESIS REMOVIBLE/FERULA DESCARGA",
          "Categorías/PROTESIS REMOVIBLE/DENT. COMPLETA SUPERIOR",
          "Categorías/PROTESIS REMOVIBLE/DENT. COMPLETA INFERIOR",
          "Categorías/PROTESIS REMOVIBLE",
          "Categorías/PROTESIS REMOVIBLE/AJUST. DENT. COMPLETA SUPERIOR",
          "Categorías/PROTESIS REMOVIBLE/Copia de PARCIAL SUPERIOR",
          "Categorías/PUENTES/RECEMENTADO DE PUENTE",
          "Categorías/PUENTES"
         ],
         "labels": [
          "Categorías",
          "BLANQUEAMIENTO",
          "BLANQUEAMIENTO PHILIPS ZOOM",
          "INJERTO OSEO",
          "CIRUGIA MAXILOFACIAL",
          "CIRUGIA PERIODONTAL",
          "CURETAJE GINGIVAL POR CUADRANT",
          "CORONA",
          "RECEMENTADO DE CORONA",
          "CORONA IMPLANTE",
          "PROTESIS COMPLETA CERAMICA",
          "CORONA TOTAL METAL NOBLE",
          "CORONA METAL CERAMICA",
          "CORONA IMPLANTE ZIRCONIO",
          "CORONA RESINA(LABORATORIO)",
          "PROTESIS HIBRIDA RESINA",
          "TAC",
          "DIAGNOSTICOS",
          "ORTOPANTOMOGRAFIA",
          "ENDODONCIA DE 3 CANALES",
          "ENDODONCIA DE 3 MOLAR",
          "ENDODONCIA DE 1 CANAL",
          "Copia de ENDODONCIA ANTERIOR",
          "ENDODONCIAS",
          "ENDODONCIA DE 2 CANALES",
          "ENDODONCIA DE 4 0 MAS CANALES",
          "EXTRACCION",
          "EXTRACCION QUIRURGICA TERCER MOLAR INCLUIDO",
          "EXTRACCION SIMPLE",
          "Copia de EXTRACCION SIMPLE",
          "EXTR. TEMPORAL",
          "EXTRACCION COMPLEJA",
          "EXTRACCION DE IMPLANTE",
          "EXTRACCION QUIRURGICA",
          "EXTRACCION RESTO RADICULAR",
          "FRENECTOMIA",
          "FRENECTOMIA INFANTIL",
          "IMPLANTES",
          "ADITAMENTOS PROTESICOS",
          "SUPRA O MESOESTRUCTURA",
          "IMPLANTE",
          "RECONSTRUCCION COMPOSITE",
          "RECONSTRUCCION",
          "OBTURACION SIMPLE",
          "OBTURACION",
          "OBTURACION",
          "ORTODONCIAS",
          "BRACKETS ESTETICOS",
          "1 visitas ortodoncia",
          "BRACKETS METALICOS",
          "INVISALIGN",
          "RELAIN. DENT. PARCIAL SUPERIOR",
          "RETENEDOR LINGUAL INF",
          "RETENEDOR LINGUAL SUP",
          "PROFILAXIS",
          "Copia de LIMPIEZA",
          "LI2",
          "LI1",
          "COMPOSTURA DIENTE",
          "Copia de PARCIAL INFERIOR",
          "REPARACION BASE DENT. COMPLETA",
          "PROTESIS MAXILOFACIAL",
          "PARCIAL SUPERIOR",
          "FERULA DESCARGA",
          "DENT. COMPLETA SUPERIOR",
          "DENT. COMPLETA INFERIOR",
          "PROTESIS REMOVIBLE",
          "AJUST. DENT. COMPLETA SUPERIOR",
          "Copia de PARCIAL SUPERIOR",
          "RECEMENTADO DE PUENTE",
          "PUENTES"
         ],
         "marker": {
          "colors": [
           "white",
           "#87CEEB",
           "#87CEEB",
           "#FF8C00",
           "#FF8C00",
           "#06DD51",
           "#06DD51",
           "#FFD93D",
           "#FFD93D",
           "#FFD93D",
           "#FFD93D",
           "#FFD93D",
           "#FFD93D",
           "#FFD93D",
           "#FFD93D",
           "#FFD93D",
           "#FF6B6B",
           "#FF6B6B",
           "#FF6B6B",
           "#FFCD00",
           "#FFCD00",
           "#FFCD00",
           "#FFCD00",
           "#FFCD00",
           "#FFCD00",
           "#FFCD00",
           "#FF4D4D",
           "#FF4D4D",
           "#FF4D4D",
           "#FF4D4D",
           "#FF4D4D",
           "#FF4D4D",
           "#FF4D4D",
           "#FF4D4D",
           "#FF4D4D",
           "#40E0D0",
           "#40E0D0",
           "#FF7F50",
           "#FF7F50",
           "#FF7F50",
           "#FF7F50",
           "#FF9F43",
           "#FF9F43",
           "#FF9F43",
           "#FF9F43",
           "#FF9F43",
           "#00BFFF",
           "#00BFFF",
           "#00BFFF",
           "#00BFFF",
           "#00BFFF",
           "#00BFFF",
           "#00BFFF",
           "#00BFFF",
           "#6BB97A",
           "#6BB97A",
           "#6BB97A",
           "#6BB97A",
           "#FF6F59",
           "#FF6F59",
           "#FF6F59",
           "#FF6F59",
           "#FF6F59",
           "#FF6F59",
           "#FF6F59",
           "#FF6F59",
           "#FF6F59",
           "#FF6F59",
           "#FF6F59",
           "#8A2BE2",
           "#8A2BE2"
          ],
          "line": {
           "color": "black",
           "width": 1
          }
         },
         "name": "",
         "parents": [
          "",
          "Categorías",
          "Categorías/BLANQUEAMIENTO",
          "Categorías/CIRUGIA MAXILOFACIAL",
          "Categorías",
          "Categorías",
          "Categorías/CIRUGIA PERIODONTAL",
          "Categorías",
          "Categorías/CORONA",
          "Categorías/CORONA",
          "Categorías/CORONA",
          "Categorías/CORONA",
          "Categorías/CORONA",
          "Categorías/CORONA",
          "Categorías/CORONA",
          "Categorías/CORONA",
          "Categorías/DIAGNOSTICOS",
          "Categorías",
          "Categorías/DIAGNOSTICOS",
          "Categorías/ENDODONCIAS",
          "Categorías/ENDODONCIAS",
          "Categorías/ENDODONCIAS",
          "Categorías/ENDODONCIAS",
          "Categorías",
          "Categorías/ENDODONCIAS",
          "Categorías/ENDODONCIAS",
          "Categorías",
          "Categorías/EXTRACCION",
          "Categorías/EXTRACCION",
          "Categorías/EXTRACCION",
          "Categorías/EXTRACCION",
          "Categorías/EXTRACCION",
          "Categorías/EXTRACCION",
          "Categorías/EXTRACCION",
          "Categorías/EXTRACCION",
          "Categorías",
          "Categorías/FRENECTOMIA",
          "Categorías",
          "Categorías/IMPLANTES",
          "Categorías/IMPLANTES",
          "Categorías/IMPLANTES",
          "Categorías/OBTURACION",
          "Categorías/OBTURACION",
          "Categorías/OBTURACION",
          "Categorías/OBTURACION",
          "Categorías",
          "Categorías",
          "Categorías/ORTODONCIAS",
          "Categorías/ORTODONCIAS",
          "Categorías/ORTODONCIAS",
          "Categorías/ORTODONCIAS",
          "Categorías/ORTODONCIAS",
          "Categorías/ORTODONCIAS",
          "Categorías/ORTODONCIAS",
          "Categorías",
          "Categorías/PROFILAXIS",
          "Categorías/PROFILAXIS",
          "Categorías/PROFILAXIS",
          "Categorías/PROTESIS REMOVIBLE",
          "Categorías/PROTESIS REMOVIBLE",
          "Categorías/PROTESIS REMOVIBLE",
          "Categorías/PROTESIS REMOVIBLE",
          "Categorías/PROTESIS REMOVIBLE",
          "Categorías/PROTESIS REMOVIBLE",
          "Categorías/PROTESIS REMOVIBLE",
          "Categorías/PROTESIS REMOVIBLE",
          "Categorías",
          "Categorías/PROTESIS REMOVIBLE",
          "Categorías/PROTESIS REMOVIBLE",
          "Categorías/PUENTES",
          "Categorías"
         ],
         "textfont": {
          "color": "black"
         },
         "type": "treemap",
         "values": {
          "bdata": "AAAAAACwkEAAAAAAAAAgQAAAAAAAACBAAAAAAAAAAEAAAAAAAAAAQAAAAAAAABBAAAAAAAAAEEAAAAAAAGBgQAAAAAAAACJAAAAAAAAATEAAAAAAAAAAQAAAAAAAAPA/AAAAAACAQUAAAAAAAAAiQAAAAAAAADJAAAAAAAAA8D8AAAAAAAA8QAAAAAAAAFJAAAAAAAAARkAAAAAAAAAUQAAAAAAAAPA/AAAAAAAAAEAAAAAAAAAwQAAAAAAAAD1AAAAAAAAAEEAAAAAAAADwPwAAAAAAAFdAAAAAAAAAGEAAAAAAAAAIQAAAAAAAAEtAAAAAAAAAEEAAAAAAAAAIQAAAAAAAABBAAAAAAAAAEEAAAAAAAAAsQAAAAAAAAPA/AAAAAAAA8D8AAAAAAIBNQAAAAAAAABBAAAAAAAAAEEAAAAAAAIBJQAAAAAAAAEBAAAAAAAAANEAAAAAAAAA+QAAAAAAAoGRAAAAAAADgbkAAAAAAAIBEQAAAAAAAAAhAAAAAAAAAGEAAAAAAAAAzQAAAAAAAABhAAAAAAAAA8D8AAAAAAAAIQAAAAAAAAAhAAAAAAABAdEAAAAAAAEBwQAAAAAAAAABAAAAAAAAAT0AAAAAAAAAgQAAAAAAAAPA/AAAAAAAA8D8AAAAAAAAAQAAAAAAAAABAAAAAAAAAJEAAAAAAAADwPwAAAAAAAPA/AAAAAACAQEAAAAAAAADwPwAAAAAAABhAAAAAAAAAOUAAAAAAAAA5QA==",
          "dtype": "f8"
         }
        },
        {
         "branchvalues": "total",
         "customdata": [
          [
           "(?)"
          ],
          [
           "BLANQUEAMIENTO"
          ],
          [
           "BLANQUEAMIENTO"
          ],
          [
           "CIRUGIA MAXILOFACIAL"
          ],
          [
           "CIRUGIA MAXILOFACIAL"
          ],
          [
           "CIRUGIA PERIODONTAL"
          ],
          [
           "CIRUGIA PERIODONTAL"
          ],
          [
           "CORONA"
          ],
          [
           "CORONA"
          ],
          [
           "CORONA"
          ],
          [
           "CORONA"
          ],
          [
           "CORONA"
          ],
          [
           "CORONA"
          ],
          [
           "CORONA"
          ],
          [
           "CORONA"
          ],
          [
           "CORONA"
          ],
          [
           "DIAGNOSTICOS"
          ],
          [
           "DIAGNOSTICOS"
          ],
          [
           "DIAGNOSTICOS"
          ],
          [
           "ENDODONCIAS"
          ],
          [
           "ENDODONCIAS"
          ],
          [
           "ENDODONCIAS"
          ],
          [
           "ENDODONCIAS"
          ],
          [
           "ENDODONCIAS"
          ],
          [
           "ENDODONCIAS"
          ],
          [
           "ENDODONCIAS"
          ],
          [
           "EXTRACCION"
          ],
          [
           "EXTRACCION"
          ],
          [
           "EXTRACCION"
          ],
          [
           "EXTRACCION"
          ],
          [
           "EXTRACCION"
          ],
          [
           "EXTRACCION"
          ],
          [
           "EXTRACCION"
          ],
          [
           "EXTRACCION"
          ],
          [
           "EXTRACCION"
          ],
          [
           "FRENECTOMIA"
          ],
          [
           "FRENECTOMIA"
          ],
          [
           "IMPLANTES"
          ],
          [
           "IMPLANTES"
          ],
          [
           "IMPLANTES"
          ],
          [
           "IMPLANTES"
          ],
          [
           "OBTURACION"
          ],
          [
           "OBTURACION"
          ],
          [
           "OBTURACION"
          ],
          [
           "OBTURACION"
          ],
          [
           "OBTURACION"
          ],
          [
           "ORTODONCIAS"
          ],
          [
           "ORTODONCIAS"
          ],
          [
           "ORTODONCIAS"
          ],
          [
           "ORTODONCIAS"
          ],
          [
           "ORTODONCIAS"
          ],
          [
           "ORTODONCIAS"
          ],
          [
           "ORTODONCIAS"
          ],
          [
           "ORTODONCIAS"
          ],
          [
           "PROFILAXIS"
          ],
          [
           "PROFILAXIS"
          ],
          [
           "PROFILAXIS"
          ],
          [
           "PROFILAXIS"
          ],
          [
           "PROTESIS REMOVIBLE"
          ],
          [
           "PROTESIS REMOVIBLE"
          ],
          [
           "PROTESIS REMOVIBLE"
          ],
          [
           "PROTESIS REMOVIBLE"
          ],
          [
           "PROTESIS REMOVIBLE"
          ],
          [
           "PROTESIS REMOVIBLE"
          ],
          [
           "PROTESIS REMOVIBLE"
          ],
          [
           "PROTESIS REMOVIBLE"
          ],
          [
           "PROTESIS REMOVIBLE"
          ],
          [
           "PROTESIS REMOVIBLE"
          ],
          [
           "PROTESIS REMOVIBLE"
          ],
          [
           "PUENTES"
          ],
          [
           "PUENTES"
          ]
         ],
         "domain": {
          "x": [
           0.55,
           1
          ],
          "y": [
           0,
           1
          ]
         },
         "hovertemplate": "Tratamiento=%{label}<br>total=%{value}<br>Categoría=%{parent}<br>id=%{id}<br>category=%{customdata[0]}<extra></extra>",
         "ids": [
          "Categorias",
          "Categorias/BLANQUEAMIENTO",
          "Categorias/BLANQUEAMIENTO/BLANQUEAMIENTO PHILIPS ZOOM",
          "Categorias/CIRUGIA MAXILOFACIAL/INJERTO OSEO",
          "Categorias/CIRUGIA MAXILOFACIAL",
          "Categorias/CIRUGIA PERIODONTAL",
          "Categorias/CIRUGIA PERIODONTAL/CURETAJE GINGIVAL POR CUADRANT",
          "Categorias/CORONA",
          "Categorias/CORONA/RECEMENTADO DE CORONA",
          "Categorias/CORONA/CORONA IMPLANTE",
          "Categorias/CORONA/PROTESIS COMPLETA CERAMICA",
          "Categorias/CORONA/CORONA TOTAL METAL NOBLE",
          "Categorias/CORONA/CORONA METAL CERAMICA",
          "Categorias/CORONA/CORONA IMPLANTE ZIRCONIO",
          "Categorias/CORONA/CORONA RESINA(LABORATORIO)",
          "Categorias/CORONA/PROTESIS HIBRIDA RESINA",
          "Categorias/DIAGNOSTICOS/TAC",
          "Categorias/DIAGNOSTICOS",
          "Categorias/DIAGNOSTICOS/ORTOPANTOMOGRAFIA",
          "Categorias/ENDODONCIAS/ENDODONCIA DE 3 CANALES",
          "Categorias/ENDODONCIAS/ENDODONCIA DE 3 MOLAR",
          "Categorias/ENDODONCIAS/ENDODONCIA DE 1 CANAL",
          "Categorias/ENDODONCIAS/Copia de ENDODONCIA ANTERIOR",
          "Categorias/ENDODONCIAS",
          "Categorias/ENDODONCIAS/ENDODONCIA DE 2 CANALES",
          "Categorias/ENDODONCIAS/ENDODONCIA DE 4 0 MAS CANALES",
          "Categorias/EXTRACCION",
          "Categorias/EXTRACCION/EXTRACCION QUIRURGICA TERCER MOLAR INCLUIDO",
          "Categorias/EXTRACCION/EXTRACCION SIMPLE",
          "Categorias/EXTRACCION/Copia de EXTRACCION SIMPLE",
          "Categorias/EXTRACCION/EXTR. TEMPORAL",
          "Categorias/EXTRACCION/EXTRACCION COMPLEJA",
          "Categorias/EXTRACCION/EXTRACCION DE IMPLANTE",
          "Categorias/EXTRACCION/EXTRACCION QUIRURGICA",
          "Categorias/EXTRACCION/EXTRACCION RESTO RADICULAR",
          "Categorias/FRENECTOMIA",
          "Categorias/FRENECTOMIA/FRENECTOMIA INFANTIL",
          "Categorias/IMPLANTES",
          "Categorias/IMPLANTES/ADITAMENTOS PROTESICOS",
          "Categorias/IMPLANTES/SUPRA O MESOESTRUCTURA",
          "Categorias/IMPLANTES/IMPLANTE",
          "Categorias/OBTURACION/RECONSTRUCCION COMPOSITE",
          "Categorias/OBTURACION/RECONSTRUCCION",
          "Categorias/OBTURACION/OBTURACION SIMPLE",
          "Categorias/OBTURACION/OBTURACION",
          "Categorias/OBTURACION",
          "Categorias/ORTODONCIAS",
          "Categorias/ORTODONCIAS/BRACKETS ESTETICOS",
          "Categorias/ORTODONCIAS/1 visitas ortodoncia",
          "Categorias/ORTODONCIAS/BRACKETS METALICOS",
          "Categorias/ORTODONCIAS/INVISALIGN",
          "Categorias/ORTODONCIAS/RELAIN. DENT. PARCIAL SUPERIOR",
          "Categorias/ORTODONCIAS/RETENEDOR LINGUAL INF",
          "Categorias/ORTODONCIAS/RETENEDOR LINGUAL SUP",
          "Categorias/PROFILAXIS",
          "Categorias/PROFILAXIS/Copia de LIMPIEZA",
          "Categorias/PROFILAXIS/LI2",
          "Categorias/PROFILAXIS/LI1",
          "Categorias/PROTESIS REMOVIBLE/COMPOSTURA DIENTE",
          "Categorias/PROTESIS REMOVIBLE/Copia de PARCIAL INFERIOR",
          "Categorias/PROTESIS REMOVIBLE/REPARACION BASE DENT. COMPLETA",
          "Categorias/PROTESIS REMOVIBLE/PROTESIS MAXILOFACIAL",
          "Categorias/PROTESIS REMOVIBLE/PARCIAL SUPERIOR",
          "Categorias/PROTESIS REMOVIBLE/FERULA DESCARGA",
          "Categorias/PROTESIS REMOVIBLE/DENT. COMPLETA SUPERIOR",
          "Categorias/PROTESIS REMOVIBLE/DENT. COMPLETA INFERIOR",
          "Categorias/PROTESIS REMOVIBLE",
          "Categorias/PROTESIS REMOVIBLE/AJUST. DENT. COMPLETA SUPERIOR",
          "Categorias/PROTESIS REMOVIBLE/Copia de PARCIAL SUPERIOR",
          "Categorias/PUENTES/RECEMENTADO DE PUENTE",
          "Categorias/PUENTES"
         ],
         "labels": [
          "Categorias",
          "BLANQUEAMIENTO",
          "BLANQUEAMIENTO PHILIPS ZOOM",
          "INJERTO OSEO",
          "CIRUGIA MAXILOFACIAL",
          "CIRUGIA PERIODONTAL",
          "CURETAJE GINGIVAL POR CUADRANT",
          "CORONA",
          "RECEMENTADO DE CORONA",
          "CORONA IMPLANTE",
          "PROTESIS COMPLETA CERAMICA",
          "CORONA TOTAL METAL NOBLE",
          "CORONA METAL CERAMICA",
          "CORONA IMPLANTE ZIRCONIO",
          "CORONA RESINA(LABORATORIO)",
          "PROTESIS HIBRIDA RESINA",
          "TAC",
          "DIAGNOSTICOS",
          "ORTOPANTOMOGRAFIA",
          "ENDODONCIA DE 3 CANALES",
          "ENDODONCIA DE 3 MOLAR",
          "ENDODONCIA DE 1 CANAL",
          "Copia de ENDODONCIA ANTERIOR",
          "ENDODONCIAS",
          "ENDODONCIA DE 2 CANALES",
          "ENDODONCIA DE 4 0 MAS CANALES",
          "EXTRACCION",
          "EXTRACCION QUIRURGICA TERCER MOLAR INCLUIDO",
          "EXTRACCION SIMPLE",
          "Copia de EXTRACCION SIMPLE",
          "EXTR. TEMPORAL",
          "EXTRACCION COMPLEJA",
          "EXTRACCION DE IMPLANTE",
          "EXTRACCION QUIRURGICA",
          "EXTRACCION RESTO RADICULAR",
          "FRENECTOMIA",
          "FRENECTOMIA INFANTIL",
          "IMPLANTES",
          "ADITAMENTOS PROTESICOS",
          "SUPRA O MESOESTRUCTURA",
          "IMPLANTE",
          "RECONSTRUCCION COMPOSITE",
          "RECONSTRUCCION",
          "OBTURACION SIMPLE",
          "OBTURACION",
          "OBTURACION",
          "ORTODONCIAS",
          "BRACKETS ESTETICOS",
          "1 visitas ortodoncia",
          "BRACKETS METALICOS",
          "INVISALIGN",
          "RELAIN. DENT. PARCIAL SUPERIOR",
          "RETENEDOR LINGUAL INF",
          "RETENEDOR LINGUAL SUP",
          "PROFILAXIS",
          "Copia de LIMPIEZA",
          "LI2",
          "LI1",
          "COMPOSTURA DIENTE",
          "Copia de PARCIAL INFERIOR",
          "REPARACION BASE DENT. COMPLETA",
          "PROTESIS MAXILOFACIAL",
          "PARCIAL SUPERIOR",
          "FERULA DESCARGA",
          "DENT. COMPLETA SUPERIOR",
          "DENT. COMPLETA INFERIOR",
          "PROTESIS REMOVIBLE",
          "AJUST. DENT. COMPLETA SUPERIOR",
          "Copia de PARCIAL SUPERIOR",
          "RECEMENTADO DE PUENTE",
          "PUENTES"
         ],
         "marker": {
          "colors": [
           "white",
           "#87CEEB",
           "#87CEEB",
           "#FF8C00",
           "#FF8C00",
           "#06DD51",
           "#06DD51",
           "#FFD93D",
           "#FFD93D",
           "#FFD93D",
           "#FFD93D",
           "#FFD93D",
           "#FFD93D",
           "#FFD93D",
           "#FFD93D",
           "#FFD93D",
           "#FF6B6B",
           "#FF6B6B",
           "#FF6B6B",
           "#FFCD00",
           "#FFCD00",
           "#FFCD00",
           "#FFCD00",
           "#FFCD00",
           "#FFCD00",
           "#FFCD00",
           "#FF4D4D",
           "#FF4D4D",
           "#FF4D4D",
           "#FF4D4D",
           "#FF4D4D",
           "#FF4D4D",
           "#FF4D4D",
           "#FF4D4D",
           "#FF4D4D",
           "#40E0D0",
           "#40E0D0",
           "#FF7F50",
           "#FF7F50",
           "#FF7F50",
           "#FF7F50",
           "#FF9F43",
           "#FF9F43",
           "#FF9F43",
           "#FF9F43",
           "#FF9F43",
           "#00BFFF",
           "#00BFFF",
           "#00BFFF",
           "#00BFFF",
           "#00BFFF",
           "#00BFFF",
           "#00BFFF",
           "#00BFFF",
           "#6BB97A",
           "#6BB97A",
           "#6BB97A",
           "#6BB97A",
           "#FF6F59",
           "#FF6F59",
           "#FF6F59",
           "#FF6F59",
           "#FF6F59",
           "#FF6F59",
           "#FF6F59",
           "#FF6F59",
           "#FF6F59",
           "#FF6F59",
           "#FF6F59",
           "#8A2BE2",
           "#8A2BE2"
          ],
          "line": {
           "color": "black",
           "width": 1
          }
         },
         "name": "",
         "parents": [
          "",
          "Categorias",
          "Categorias/BLANQUEAMIENTO",
          "Categorias/CIRUGIA MAXILOFACIAL",
          "Categorias",
          "Categorias",
          "Categorias/CIRUGIA PERIODONTAL",
          "Categorias",
          "Categorias/CORONA",
          "Categorias/CORONA",
          "Categorias/CORONA",
          "Categorias/CORONA",
          "Categorias/CORONA",
          "Categorias/CORONA",
          "Categorias/CORONA",
          "Categorias/CORONA",
          "Categorias/DIAGNOSTICOS",
          "Categorias",
          "Categorias/DIAGNOSTICOS",
          "Categorias/ENDODONCIAS",
          "Categorias/ENDODONCIAS",
          "Categorias/ENDODONCIAS",
          "Categorias/ENDODONCIAS",
          "Categorias",
          "Categorias/ENDODONCIAS",
          "Categorias/ENDODONCIAS",
          "Categorias",
          "Categorias/EXTRACCION",
          "Categorias/EXTRACCION",
          "Categorias/EXTRACCION",
          "Categorias/EXTRACCION",
          "Categorias/EXTRACCION",
          "Categorias/EXTRACCION",
          "Categorias/EXTRACCION",
          "Categorias/EXTRACCION",
          "Categorias",
          "Categorias/FRENECTOMIA",
          "Categorias",
          "Categorias/IMPLANTES",
          "Categorias/IMPLANTES",
          "Categorias/IMPLANTES",
          "Categorias/OBTURACION",
          "Categorias/OBTURACION",
          "Categorias/OBTURACION",
          "Categorias/OBTURACION",
          "Categorias",
          "Categorias",
          "Categorias/ORTODONCIAS",
          "Categorias/ORTODONCIAS",
          "Categorias/ORTODONCIAS",
          "Categorias/ORTODONCIAS",
          "Categorias/ORTODONCIAS",
          "Categorias/ORTODONCIAS",
          "Categorias/ORTODONCIAS",
          "Categorias",
          "Categorias/PROFILAXIS",
          "Categorias/PROFILAXIS",
          "Categorias/PROFILAXIS",
          "Categorias/PROTESIS REMOVIBLE",
          "Categorias/PROTESIS REMOVIBLE",
          "Categorias/PROTESIS REMOVIBLE",
          "Categorias/PROTESIS REMOVIBLE",
          "Categorias/PROTESIS REMOVIBLE",
          "Categorias/PROTESIS REMOVIBLE",
          "Categorias/PROTESIS REMOVIBLE",
          "Categorias/PROTESIS REMOVIBLE",
          "Categorias",
          "Categorias/PROTESIS REMOVIBLE",
          "Categorias/PROTESIS REMOVIBLE",
          "Categorias/PUENTES",
          "Categorias"
         ],
         "textfont": {
          "color": "black"
         },
         "type": "treemap",
         "values": {
          "bdata": "AAAAAFAqCUEAAAAAAAynQAAAAAAADKdAAAAAAABgiEAAAAAAAGCIQAAAAAAAAG5AAAAAAAAAbkAAAAAAwHToQAAAAAAAAHRAAAAAAMB+2kAAAAAAAFirQAAAAAAA4IpAAAAAAACYxUAAAAAAAFKsQAAAAAAAkIJAAAAAAABwp0AAAAAAAMCiQAAAAAAAxKpAAAAAAAAIkEAAAAAAAGiJQAAAAAAAgFtAAAAAAADAckAAAAAAADSiQAAAAAAA6LBAAAAAAADAgkAAAAAAAOBlQAAAAAAASL5AAAAAAADAl0AAAAAAAECKQAAAAAAAHKpAAAAAAACAUUAAAAAAAMByQAAAAAAAwGJAAAAAAAAgfEAAAAAAAOCQQAAAAAAAAD5AAAAAAAAAPkAAAAAAADXoQAAAAAAAUJFAAAAAAADAdUAAAAAAAH/nQAAAAAAARqBAAAAAAACIk0AAAAAAANScQAAAAAAAkMFAAAAAAACty0AAAAAAgFzpQAAAAAAAhMdAAAAAAAAjuEAAAAAAgIvGQAAAAACA2dRAAAAAAAAAXkAAAAAAAIB2QAAAAAAAwHVAAAAAAAD4xEAAAAAAgCzAQAAAAAAA4IVAAAAAAABsm0AAAAAAALyRQAAAAAAAwIJAAAAAAAAAVEAAAAAAACCNQAAAAAAAsIJAAAAAAACiokAAAAAAAACJQAAAAAAAQH9AAAAAAACdwkAAAAAAAABeQAAAAAAAmKJAAAAAAAAQg0AAAAAAABCDQA==",
          "dtype": "f8"
         }
        }
       ],
       "layout": {
        "annotations": [
         {
          "font": {
           "size": 16
          },
          "showarrow": false,
          "text": "Número de Actos por Categoría y Tratamiento 2023",
          "x": 0.225,
          "xanchor": "center",
          "xref": "paper",
          "y": 1,
          "yanchor": "bottom",
          "yref": "paper"
         },
         {
          "font": {
           "size": 16
          },
          "showarrow": false,
          "text": "Ganancia Total por Categoría y Tratamiento 2023",
          "x": 0.775,
          "xanchor": "center",
          "xref": "paper",
          "y": 1,
          "yanchor": "bottom",
          "yref": "paper"
         }
        ],
        "font": {
         "family": "Oswald"
        },
        "height": 600,
        "template": {
         "data": {
          "bar": [
           {
            "error_x": {
             "color": "#2a3f5f"
            },
            "error_y": {
             "color": "#2a3f5f"
            },
            "marker": {
             "line": {
              "color": "#E5ECF6",
              "width": 0.5
             },
             "pattern": {
              "fillmode": "overlay",
              "size": 10,
              "solidity": 0.2
             }
            },
            "type": "bar"
           }
          ],
          "barpolar": [
           {
            "marker": {
             "line": {
              "color": "#E5ECF6",
              "width": 0.5
             },
             "pattern": {
              "fillmode": "overlay",
              "size": 10,
              "solidity": 0.2
             }
            },
            "type": "barpolar"
           }
          ],
          "carpet": [
           {
            "aaxis": {
             "endlinecolor": "#2a3f5f",
             "gridcolor": "white",
             "linecolor": "white",
             "minorgridcolor": "white",
             "startlinecolor": "#2a3f5f"
            },
            "baxis": {
             "endlinecolor": "#2a3f5f",
             "gridcolor": "white",
             "linecolor": "white",
             "minorgridcolor": "white",
             "startlinecolor": "#2a3f5f"
            },
            "type": "carpet"
           }
          ],
          "choropleth": [
           {
            "colorbar": {
             "outlinewidth": 0,
             "ticks": ""
            },
            "type": "choropleth"
           }
          ],
          "contour": [
           {
            "colorbar": {
             "outlinewidth": 0,
             "ticks": ""
            },
            "colorscale": [
             [
              0,
              "#0d0887"
             ],
             [
              0.1111111111111111,
              "#46039f"
             ],
             [
              0.2222222222222222,
              "#7201a8"
             ],
             [
              0.3333333333333333,
              "#9c179e"
             ],
             [
              0.4444444444444444,
              "#bd3786"
             ],
             [
              0.5555555555555556,
              "#d8576b"
             ],
             [
              0.6666666666666666,
              "#ed7953"
             ],
             [
              0.7777777777777778,
              "#fb9f3a"
             ],
             [
              0.8888888888888888,
              "#fdca26"
             ],
             [
              1,
              "#f0f921"
             ]
            ],
            "type": "contour"
           }
          ],
          "contourcarpet": [
           {
            "colorbar": {
             "outlinewidth": 0,
             "ticks": ""
            },
            "type": "contourcarpet"
           }
          ],
          "heatmap": [
           {
            "colorbar": {
             "outlinewidth": 0,
             "ticks": ""
            },
            "colorscale": [
             [
              0,
              "#0d0887"
             ],
             [
              0.1111111111111111,
              "#46039f"
             ],
             [
              0.2222222222222222,
              "#7201a8"
             ],
             [
              0.3333333333333333,
              "#9c179e"
             ],
             [
              0.4444444444444444,
              "#bd3786"
             ],
             [
              0.5555555555555556,
              "#d8576b"
             ],
             [
              0.6666666666666666,
              "#ed7953"
             ],
             [
              0.7777777777777778,
              "#fb9f3a"
             ],
             [
              0.8888888888888888,
              "#fdca26"
             ],
             [
              1,
              "#f0f921"
             ]
            ],
            "type": "heatmap"
           }
          ],
          "histogram": [
           {
            "marker": {
             "pattern": {
              "fillmode": "overlay",
              "size": 10,
              "solidity": 0.2
             }
            },
            "type": "histogram"
           }
          ],
          "histogram2d": [
           {
            "colorbar": {
             "outlinewidth": 0,
             "ticks": ""
            },
            "colorscale": [
             [
              0,
              "#0d0887"
             ],
             [
              0.1111111111111111,
              "#46039f"
             ],
             [
              0.2222222222222222,
              "#7201a8"
             ],
             [
              0.3333333333333333,
              "#9c179e"
             ],
             [
              0.4444444444444444,
              "#bd3786"
             ],
             [
              0.5555555555555556,
              "#d8576b"
             ],
             [
              0.6666666666666666,
              "#ed7953"
             ],
             [
              0.7777777777777778,
              "#fb9f3a"
             ],
             [
              0.8888888888888888,
              "#fdca26"
             ],
             [
              1,
              "#f0f921"
             ]
            ],
            "type": "histogram2d"
           }
          ],
          "histogram2dcontour": [
           {
            "colorbar": {
             "outlinewidth": 0,
             "ticks": ""
            },
            "colorscale": [
             [
              0,
              "#0d0887"
             ],
             [
              0.1111111111111111,
              "#46039f"
             ],
             [
              0.2222222222222222,
              "#7201a8"
             ],
             [
              0.3333333333333333,
              "#9c179e"
             ],
             [
              0.4444444444444444,
              "#bd3786"
             ],
             [
              0.5555555555555556,
              "#d8576b"
             ],
             [
              0.6666666666666666,
              "#ed7953"
             ],
             [
              0.7777777777777778,
              "#fb9f3a"
             ],
             [
              0.8888888888888888,
              "#fdca26"
             ],
             [
              1,
              "#f0f921"
             ]
            ],
            "type": "histogram2dcontour"
           }
          ],
          "mesh3d": [
           {
            "colorbar": {
             "outlinewidth": 0,
             "ticks": ""
            },
            "type": "mesh3d"
           }
          ],
          "parcoords": [
           {
            "line": {
             "colorbar": {
              "outlinewidth": 0,
              "ticks": ""
             }
            },
            "type": "parcoords"
           }
          ],
          "pie": [
           {
            "automargin": true,
            "type": "pie"
           }
          ],
          "scatter": [
           {
            "fillpattern": {
             "fillmode": "overlay",
             "size": 10,
             "solidity": 0.2
            },
            "type": "scatter"
           }
          ],
          "scatter3d": [
           {
            "line": {
             "colorbar": {
              "outlinewidth": 0,
              "ticks": ""
             }
            },
            "marker": {
             "colorbar": {
              "outlinewidth": 0,
              "ticks": ""
             }
            },
            "type": "scatter3d"
           }
          ],
          "scattercarpet": [
           {
            "marker": {
             "colorbar": {
              "outlinewidth": 0,
              "ticks": ""
             }
            },
            "type": "scattercarpet"
           }
          ],
          "scattergeo": [
           {
            "marker": {
             "colorbar": {
              "outlinewidth": 0,
              "ticks": ""
             }
            },
            "type": "scattergeo"
           }
          ],
          "scattergl": [
           {
            "marker": {
             "colorbar": {
              "outlinewidth": 0,
              "ticks": ""
             }
            },
            "type": "scattergl"
           }
          ],
          "scattermap": [
           {
            "marker": {
             "colorbar": {
              "outlinewidth": 0,
              "ticks": ""
             }
            },
            "type": "scattermap"
           }
          ],
          "scattermapbox": [
           {
            "marker": {
             "colorbar": {
              "outlinewidth": 0,
              "ticks": ""
             }
            },
            "type": "scattermapbox"
           }
          ],
          "scatterpolar": [
           {
            "marker": {
             "colorbar": {
              "outlinewidth": 0,
              "ticks": ""
             }
            },
            "type": "scatterpolar"
           }
          ],
          "scatterpolargl": [
           {
            "marker": {
             "colorbar": {
              "outlinewidth": 0,
              "ticks": ""
             }
            },
            "type": "scatterpolargl"
           }
          ],
          "scatterternary": [
           {
            "marker": {
             "colorbar": {
              "outlinewidth": 0,
              "ticks": ""
             }
            },
            "type": "scatterternary"
           }
          ],
          "surface": [
           {
            "colorbar": {
             "outlinewidth": 0,
             "ticks": ""
            },
            "colorscale": [
             [
              0,
              "#0d0887"
             ],
             [
              0.1111111111111111,
              "#46039f"
             ],
             [
              0.2222222222222222,
              "#7201a8"
             ],
             [
              0.3333333333333333,
              "#9c179e"
             ],
             [
              0.4444444444444444,
              "#bd3786"
             ],
             [
              0.5555555555555556,
              "#d8576b"
             ],
             [
              0.6666666666666666,
              "#ed7953"
             ],
             [
              0.7777777777777778,
              "#fb9f3a"
             ],
             [
              0.8888888888888888,
              "#fdca26"
             ],
             [
              1,
              "#f0f921"
             ]
            ],
            "type": "surface"
           }
          ],
          "table": [
           {
            "cells": {
             "fill": {
              "color": "#EBF0F8"
             },
             "line": {
              "color": "white"
             }
            },
            "header": {
             "fill": {
              "color": "#C8D4E3"
             },
             "line": {
              "color": "white"
             }
            },
            "type": "table"
           }
          ]
         },
         "layout": {
          "annotationdefaults": {
           "arrowcolor": "#2a3f5f",
           "arrowhead": 0,
           "arrowwidth": 1
          },
          "autotypenumbers": "strict",
          "coloraxis": {
           "colorbar": {
            "outlinewidth": 0,
            "ticks": ""
           }
          },
          "colorscale": {
           "diverging": [
            [
             0,
             "#8e0152"
            ],
            [
             0.1,
             "#c51b7d"
            ],
            [
             0.2,
             "#de77ae"
            ],
            [
             0.3,
             "#f1b6da"
            ],
            [
             0.4,
             "#fde0ef"
            ],
            [
             0.5,
             "#f7f7f7"
            ],
            [
             0.6,
             "#e6f5d0"
            ],
            [
             0.7,
             "#b8e186"
            ],
            [
             0.8,
             "#7fbc41"
            ],
            [
             0.9,
             "#4d9221"
            ],
            [
             1,
             "#276419"
            ]
           ],
           "sequential": [
            [
             0,
             "#0d0887"
            ],
            [
             0.1111111111111111,
             "#46039f"
            ],
            [
             0.2222222222222222,
             "#7201a8"
            ],
            [
             0.3333333333333333,
             "#9c179e"
            ],
            [
             0.4444444444444444,
             "#bd3786"
            ],
            [
             0.5555555555555556,
             "#d8576b"
            ],
            [
             0.6666666666666666,
             "#ed7953"
            ],
            [
             0.7777777777777778,
             "#fb9f3a"
            ],
            [
             0.8888888888888888,
             "#fdca26"
            ],
            [
             1,
             "#f0f921"
            ]
           ],
           "sequentialminus": [
            [
             0,
             "#0d0887"
            ],
            [
             0.1111111111111111,
             "#46039f"
            ],
            [
             0.2222222222222222,
             "#7201a8"
            ],
            [
             0.3333333333333333,
             "#9c179e"
            ],
            [
             0.4444444444444444,
             "#bd3786"
            ],
            [
             0.5555555555555556,
             "#d8576b"
            ],
            [
             0.6666666666666666,
             "#ed7953"
            ],
            [
             0.7777777777777778,
             "#fb9f3a"
            ],
            [
             0.8888888888888888,
             "#fdca26"
            ],
            [
             1,
             "#f0f921"
            ]
           ]
          },
          "colorway": [
           "#636efa",
           "#EF553B",
           "#00cc96",
           "#ab63fa",
           "#FFA15A",
           "#19d3f3",
           "#FF6692",
           "#B6E880",
           "#FF97FF",
           "#FECB52"
          ],
          "font": {
           "color": "#2a3f5f"
          },
          "geo": {
           "bgcolor": "white",
           "lakecolor": "white",
           "landcolor": "#E5ECF6",
           "showlakes": true,
           "showland": true,
           "subunitcolor": "white"
          },
          "hoverlabel": {
           "align": "left"
          },
          "hovermode": "closest",
          "mapbox": {
           "style": "light"
          },
          "paper_bgcolor": "white",
          "plot_bgcolor": "#E5ECF6",
          "polar": {
           "angularaxis": {
            "gridcolor": "white",
            "linecolor": "white",
            "ticks": ""
           },
           "bgcolor": "#E5ECF6",
           "radialaxis": {
            "gridcolor": "white",
            "linecolor": "white",
            "ticks": ""
           }
          },
          "scene": {
           "xaxis": {
            "backgroundcolor": "#E5ECF6",
            "gridcolor": "white",
            "gridwidth": 2,
            "linecolor": "white",
            "showbackground": true,
            "ticks": "",
            "zerolinecolor": "white"
           },
           "yaxis": {
            "backgroundcolor": "#E5ECF6",
            "gridcolor": "white",
            "gridwidth": 2,
            "linecolor": "white",
            "showbackground": true,
            "ticks": "",
            "zerolinecolor": "white"
           },
           "zaxis": {
            "backgroundcolor": "#E5ECF6",
            "gridcolor": "white",
            "gridwidth": 2,
            "linecolor": "white",
            "showbackground": true,
            "ticks": "",
            "zerolinecolor": "white"
           }
          },
          "shapedefaults": {
           "line": {
            "color": "#2a3f5f"
           }
          },
          "ternary": {
           "aaxis": {
            "gridcolor": "white",
            "linecolor": "white",
            "ticks": ""
           },
           "baxis": {
            "gridcolor": "white",
            "linecolor": "white",
            "ticks": ""
           },
           "bgcolor": "#E5ECF6",
           "caxis": {
            "gridcolor": "white",
            "linecolor": "white",
            "ticks": ""
           }
          },
          "title": {
           "x": 0.05
          },
          "xaxis": {
           "automargin": true,
           "gridcolor": "white",
           "linecolor": "white",
           "ticks": "",
           "title": {
            "standoff": 15
           },
           "zerolinecolor": "white",
           "zerolinewidth": 2
          },
          "yaxis": {
           "automargin": true,
           "gridcolor": "white",
           "linecolor": "white",
           "ticks": "",
           "title": {
            "standoff": 15
           },
           "zerolinecolor": "white",
           "zerolinewidth": 2
          }
         }
        },
        "title": {
         "font": {
          "family": "Oswald"
         },
         "text": "Análisis de Actos y Ganancias por Categoría y Tratamiento en 2023",
         "x": 0.5
        },
        "width": 1000
       }
      }
     },
     "metadata": {},
     "output_type": "display_data"
    }
   ],
   "source": [
    "#COMPARATIVA NUMERO DE ACTOS Y GANANCIAS TOTALES SEGUN CATEGORIA MEDICA Y TRATAMIENTO"
   ]
  },
  {
   "cell_type": "code",
   "execution_count": null,
   "id": "0b71765b",
   "metadata": {},
   "outputs": [
    {
     "data": {
      "application/vnd.plotly.v1+json": {
       "config": {
        "plotlyServerURL": "https://plot.ly"
       },
       "data": [
        {
         "branchvalues": "total",
         "customdata": [
          [
           "(?)"
          ],
          [
           "BLANQUEAMIENTO"
          ],
          [
           "BLANQUEAMIENTO"
          ],
          [
           "CIRUGIA MAXILOFACIAL"
          ],
          [
           "CIRUGIA MAXILOFACIAL"
          ],
          [
           "CIRUGIA PERIODONTAL"
          ],
          [
           "CIRUGIA PERIODONTAL"
          ],
          [
           "CIRUGIA PERIODONTAL"
          ],
          [
           "CORONA"
          ],
          [
           "CORONA"
          ],
          [
           "CORONA"
          ],
          [
           "CORONA"
          ],
          [
           "CORONA"
          ],
          [
           "CORONA"
          ],
          [
           "DIAGNOSTICOS"
          ],
          [
           "DIAGNOSTICOS"
          ],
          [
           "DIAGNOSTICOS"
          ],
          [
           "ENDODONCIAS"
          ],
          [
           "ENDODONCIAS"
          ],
          [
           "ENDODONCIAS"
          ],
          [
           "EXTRACCION"
          ],
          [
           "EXTRACCION"
          ],
          [
           "EXTRACCION"
          ],
          [
           "IMPLANTES"
          ],
          [
           "IMPLANTES"
          ],
          [
           "IMPLANTES"
          ],
          [
           "MUñON"
          ],
          [
           "MUñON"
          ],
          [
           "OBTURACION"
          ],
          [
           "OBTURACION"
          ],
          [
           "OBTURACION"
          ],
          [
           "ORTODONCIAS"
          ],
          [
           "ORTODONCIAS"
          ],
          [
           "ORTODONCIAS"
          ],
          [
           "ORTODONCIAS"
          ],
          [
           "ORTODONCIAS"
          ],
          [
           "ORTODONCIAS"
          ],
          [
           "ORTODONCIAS"
          ],
          [
           "ORTODONCIAS"
          ],
          [
           "ORTODONCIAS"
          ],
          [
           "ORTODONCIAS"
          ],
          [
           "PROFILAXIS"
          ],
          [
           "PROFILAXIS"
          ],
          [
           "PROTESIS REMOVIBLE"
          ],
          [
           "PROTESIS REMOVIBLE"
          ],
          [
           "PROTESIS REMOVIBLE"
          ],
          [
           "PROTESIS REMOVIBLE"
          ],
          [
           "PROTESIS REMOVIBLE"
          ],
          [
           "PROTESIS REMOVIBLE"
          ],
          [
           "PROTESIS REMOVIBLE"
          ],
          [
           "PROTESIS REMOVIBLE"
          ],
          [
           "PROTESIS REMOVIBLE"
          ],
          [
           "PROTESIS REMOVIBLE"
          ],
          [
           "PUENTES"
          ],
          [
           "PUENTES"
          ]
         ],
         "domain": {
          "x": [
           0,
           0.45
          ],
          "y": [
           0,
           1
          ]
         },
         "hovertemplate": "Tratamiento=%{label}<br>actos=%{value}<br>Categoría=%{parent}<br>id=%{id}<br>category=%{customdata[0]}<extra></extra>",
         "ids": [
          "Categorías",
          "Categorías/BLANQUEAMIENTO",
          "Categorías/BLANQUEAMIENTO/BLANQUEAMIENTO PHILIPS ZOOM",
          "Categorías/CIRUGIA MAXILOFACIAL/INJERTO OSEO",
          "Categorías/CIRUGIA MAXILOFACIAL",
          "Categorías/CIRUGIA PERIODONTAL",
          "Categorías/CIRUGIA PERIODONTAL/CIRUGIA OSEA POR CUADRANTE",
          "Categorías/CIRUGIA PERIODONTAL/REGENERACION DE TEJIDOS",
          "Categorías/CORONA/RECEMENTADO DE CORONA",
          "Categorías/CORONA",
          "Categorías/CORONA/CORONA IMPLANTE ZIRCONIO",
          "Categorías/CORONA/CORONA RESINA(LABORATORIO)",
          "Categorías/CORONA/CORONA IMPLANTE",
          "Categorías/CORONA/CORONA METAL CERAMICA",
          "Categorías/DIAGNOSTICOS/ORTOPANTOMOGRAFIA",
          "Categorías/DIAGNOSTICOS/TAC",
          "Categorías/DIAGNOSTICOS",
          "Categorías/ENDODONCIAS",
          "Categorías/ENDODONCIAS/PULPUTOMIA TERAPEUTICA",
          "Categorías/ENDODONCIAS/Copia de ENDODONCIA ANTERIOR",
          "Categorías/EXTRACCION/EXTRACCION QUIRURGICA TERCER MOLAR INCLUIDO",
          "Categorías/EXTRACCION/Copia de EXTRACCION SIMPLE",
          "Categorías/EXTRACCION",
          "Categorías/IMPLANTES/IMPLANTE",
          "Categorías/IMPLANTES",
          "Categorías/IMPLANTES/REPARACION DE IMPLANTE",
          "Categorías/MUñON/POSTE FIBRA DE VIDRIO",
          "Categorías/MUñON",
          "Categorías/OBTURACION",
          "Categorías/OBTURACION/OBTURACION",
          "Categorías/OBTURACION/SELLADO POR DIENTE",
          "Categorías/ORTODONCIAS",
          "Categorías/ORTODONCIAS/RETENEDOR LINGUAL SUP",
          "Categorías/ORTODONCIAS/RETENEDOR LINGUAL INF",
          "Categorías/ORTODONCIAS/1 visitas ortodoncia",
          "Categorías/ORTODONCIAS/BRACKETS ESTETICOS",
          "Categorías/ORTODONCIAS/BRACKETS METALICOS",
          "Categorías/ORTODONCIAS/INVISALIGN",
          "Categorías/ORTODONCIAS/ORTODONCIA FIJA",
          "Categorías/ORTODONCIAS/ORTODONCIA REMOVIBLE",
          "Categorías/ORTODONCIAS/PROCED. PROST. REMOV. SIN ESPE",
          "Categorías/PROFILAXIS",
          "Categorías/PROFILAXIS/Copia de LIMPIEZA",
          "Categorías/PROTESIS REMOVIBLE",
          "Categorías/PROTESIS REMOVIBLE/Copia de PARCIAL INFERIOR",
          "Categorías/PROTESIS REMOVIBLE/AJUST. DENT. PARC. INFERIOR",
          "Categorías/PROTESIS REMOVIBLE/AJUST. DENT. PARC. SUPERIOR",
          "Categorías/PROTESIS REMOVIBLE/REPARACION BASE DENT. COMPLETA",
          "Categorías/PROTESIS REMOVIBLE/FERULA DESCARGA",
          "Categorías/PROTESIS REMOVIBLE/DENT. PARCIAL REMOV. UNILATERA",
          "Categorías/PROTESIS REMOVIBLE/DENT. COMPLETA SUPERIOR",
          "Categorías/PROTESIS REMOVIBLE/Copia de PARCIAL SUPERIOR",
          "Categorías/PROTESIS REMOVIBLE/COMPOSTURA DIENTE",
          "Categorías/PUENTES/RECEMENTADO DE PUENTE",
          "Categorías/PUENTES"
         ],
         "labels": [
          "Categorías",
          "BLANQUEAMIENTO",
          "BLANQUEAMIENTO PHILIPS ZOOM",
          "INJERTO OSEO",
          "CIRUGIA MAXILOFACIAL",
          "CIRUGIA PERIODONTAL",
          "CIRUGIA OSEA POR CUADRANTE",
          "REGENERACION DE TEJIDOS",
          "RECEMENTADO DE CORONA",
          "CORONA",
          "CORONA IMPLANTE ZIRCONIO",
          "CORONA RESINA(LABORATORIO)",
          "CORONA IMPLANTE",
          "CORONA METAL CERAMICA",
          "ORTOPANTOMOGRAFIA",
          "TAC",
          "DIAGNOSTICOS",
          "ENDODONCIAS",
          "PULPUTOMIA TERAPEUTICA",
          "Copia de ENDODONCIA ANTERIOR",
          "EXTRACCION QUIRURGICA TERCER MOLAR INCLUIDO",
          "Copia de EXTRACCION SIMPLE",
          "EXTRACCION",
          "IMPLANTE",
          "IMPLANTES",
          "REPARACION DE IMPLANTE",
          "POSTE FIBRA DE VIDRIO",
          "MUñON",
          "OBTURACION",
          "OBTURACION",
          "SELLADO POR DIENTE",
          "ORTODONCIAS",
          "RETENEDOR LINGUAL SUP",
          "RETENEDOR LINGUAL INF",
          "1 visitas ortodoncia",
          "BRACKETS ESTETICOS",
          "BRACKETS METALICOS",
          "INVISALIGN",
          "ORTODONCIA FIJA",
          "ORTODONCIA REMOVIBLE",
          "PROCED. PROST. REMOV. SIN ESPE",
          "PROFILAXIS",
          "Copia de LIMPIEZA",
          "PROTESIS REMOVIBLE",
          "Copia de PARCIAL INFERIOR",
          "AJUST. DENT. PARC. INFERIOR",
          "AJUST. DENT. PARC. SUPERIOR",
          "REPARACION BASE DENT. COMPLETA",
          "FERULA DESCARGA",
          "DENT. PARCIAL REMOV. UNILATERA",
          "DENT. COMPLETA SUPERIOR",
          "Copia de PARCIAL SUPERIOR",
          "COMPOSTURA DIENTE",
          "RECEMENTADO DE PUENTE",
          "PUENTES"
         ],
         "marker": {
          "colors": [
           "white",
           "#87CEEB",
           "#87CEEB",
           "#FF8C00",
           "#FF8C00",
           "#06DD51",
           "#06DD51",
           "#06DD51",
           "#FFD93D",
           "#FFD93D",
           "#FFD93D",
           "#FFD93D",
           "#FFD93D",
           "#FFD93D",
           "#FF6B6B",
           "#FF6B6B",
           "#FF6B6B",
           "#FFCD00",
           "#FFCD00",
           "#FFCD00",
           "#FF4D4D",
           "#FF4D4D",
           "#FF4D4D",
           "#FF7F50",
           "#FF7F50",
           "#FF7F50",
           "#FF6692",
           "#FF6692",
           "#FF9F43",
           "#FF9F43",
           "#FF9F43",
           "#00BFFF",
           "#00BFFF",
           "#00BFFF",
           "#00BFFF",
           "#00BFFF",
           "#00BFFF",
           "#00BFFF",
           "#00BFFF",
           "#00BFFF",
           "#00BFFF",
           "#6BB97A",
           "#6BB97A",
           "#FF6F59",
           "#FF6F59",
           "#FF6F59",
           "#FF6F59",
           "#FF6F59",
           "#FF6F59",
           "#FF6F59",
           "#FF6F59",
           "#FF6F59",
           "#FF6F59",
           "#8A2BE2",
           "#8A2BE2"
          ],
          "line": {
           "color": "black",
           "width": 1
          }
         },
         "name": "",
         "parents": [
          "",
          "Categorías",
          "Categorías/BLANQUEAMIENTO",
          "Categorías/CIRUGIA MAXILOFACIAL",
          "Categorías",
          "Categorías",
          "Categorías/CIRUGIA PERIODONTAL",
          "Categorías/CIRUGIA PERIODONTAL",
          "Categorías/CORONA",
          "Categorías",
          "Categorías/CORONA",
          "Categorías/CORONA",
          "Categorías/CORONA",
          "Categorías/CORONA",
          "Categorías/DIAGNOSTICOS",
          "Categorías/DIAGNOSTICOS",
          "Categorías",
          "Categorías",
          "Categorías/ENDODONCIAS",
          "Categorías/ENDODONCIAS",
          "Categorías/EXTRACCION",
          "Categorías/EXTRACCION",
          "Categorías",
          "Categorías/IMPLANTES",
          "Categorías",
          "Categorías/IMPLANTES",
          "Categorías/MUñON",
          "Categorías",
          "Categorías",
          "Categorías/OBTURACION",
          "Categorías/OBTURACION",
          "Categorías",
          "Categorías/ORTODONCIAS",
          "Categorías/ORTODONCIAS",
          "Categorías/ORTODONCIAS",
          "Categorías/ORTODONCIAS",
          "Categorías/ORTODONCIAS",
          "Categorías/ORTODONCIAS",
          "Categorías/ORTODONCIAS",
          "Categorías/ORTODONCIAS",
          "Categorías/ORTODONCIAS",
          "Categorías",
          "Categorías/PROFILAXIS",
          "Categorías",
          "Categorías/PROTESIS REMOVIBLE",
          "Categorías/PROTESIS REMOVIBLE",
          "Categorías/PROTESIS REMOVIBLE",
          "Categorías/PROTESIS REMOVIBLE",
          "Categorías/PROTESIS REMOVIBLE",
          "Categorías/PROTESIS REMOVIBLE",
          "Categorías/PROTESIS REMOVIBLE",
          "Categorías/PROTESIS REMOVIBLE",
          "Categorías/PROTESIS REMOVIBLE",
          "Categorías/PUENTES",
          "Categorías"
         ],
         "textfont": {
          "color": "black"
         },
         "type": "treemap",
         "values": {
          "bdata": "AAAAAAAYkkAAAAAAAAAcQAAAAAAAABxAAAAAAAAAIkAAAAAAAAAiQAAAAAAAAABAAAAAAAAA8D8AAAAAAADwPwAAAAAAABxAAAAAAACgYUAAAAAAAADwPwAAAAAAADVAAAAAAACASkAAAAAAAIBNQAAAAAAAgElAAAAAAAAAN0AAAAAAAIBSQAAAAAAAAEBAAAAAAAAAAEAAAAAAAAA+QAAAAAAAAPA/AAAAAADAVkAAAAAAAABXQAAAAAAAAERAAAAAAAAARkAAAAAAAAAQQAAAAAAAAABAAAAAAAAAAEAAAAAAADBzQAAAAAAAEHNAAAAAAAAAAEAAAAAAAABGQAAAAAAAAPA/AAAAAAAAFEAAAAAAAAAAQAAAAAAAAPA/AAAAAAAAOUAAAAAAAAAUQAAAAAAAAABAAAAAAAAAAEAAAAAAAADwPwAAAAAAwHZAAAAAAADAdkAAAAAAAAA4QAAAAAAAABBAAAAAAAAAAEAAAAAAAADwPwAAAAAAAPA/AAAAAAAAHEAAAAAAAADwPwAAAAAAAPA/AAAAAAAACEAAAAAAAAAQQAAAAAAAADBAAAAAAAAAMEA=",
          "dtype": "f8"
         }
        },
        {
         "branchvalues": "total",
         "customdata": [
          [
           "(?)"
          ],
          [
           "BLANQUEAMIENTO"
          ],
          [
           "BLANQUEAMIENTO"
          ],
          [
           "CIRUGIA MAXILOFACIAL"
          ],
          [
           "CIRUGIA MAXILOFACIAL"
          ],
          [
           "CIRUGIA PERIODONTAL"
          ],
          [
           "CIRUGIA PERIODONTAL"
          ],
          [
           "CIRUGIA PERIODONTAL"
          ],
          [
           "CORONA"
          ],
          [
           "CORONA"
          ],
          [
           "CORONA"
          ],
          [
           "CORONA"
          ],
          [
           "CORONA"
          ],
          [
           "CORONA"
          ],
          [
           "DIAGNOSTICOS"
          ],
          [
           "DIAGNOSTICOS"
          ],
          [
           "DIAGNOSTICOS"
          ],
          [
           "ENDODONCIAS"
          ],
          [
           "ENDODONCIAS"
          ],
          [
           "ENDODONCIAS"
          ],
          [
           "EXTRACCION"
          ],
          [
           "EXTRACCION"
          ],
          [
           "EXTRACCION"
          ],
          [
           "IMPLANTES"
          ],
          [
           "IMPLANTES"
          ],
          [
           "IMPLANTES"
          ],
          [
           "MUñON"
          ],
          [
           "MUñON"
          ],
          [
           "OBTURACION"
          ],
          [
           "OBTURACION"
          ],
          [
           "OBTURACION"
          ],
          [
           "ORTODONCIAS"
          ],
          [
           "ORTODONCIAS"
          ],
          [
           "ORTODONCIAS"
          ],
          [
           "ORTODONCIAS"
          ],
          [
           "ORTODONCIAS"
          ],
          [
           "ORTODONCIAS"
          ],
          [
           "ORTODONCIAS"
          ],
          [
           "ORTODONCIAS"
          ],
          [
           "ORTODONCIAS"
          ],
          [
           "ORTODONCIAS"
          ],
          [
           "PROFILAXIS"
          ],
          [
           "PROFILAXIS"
          ],
          [
           "PROTESIS REMOVIBLE"
          ],
          [
           "PROTESIS REMOVIBLE"
          ],
          [
           "PROTESIS REMOVIBLE"
          ],
          [
           "PROTESIS REMOVIBLE"
          ],
          [
           "PROTESIS REMOVIBLE"
          ],
          [
           "PROTESIS REMOVIBLE"
          ],
          [
           "PROTESIS REMOVIBLE"
          ],
          [
           "PROTESIS REMOVIBLE"
          ],
          [
           "PROTESIS REMOVIBLE"
          ],
          [
           "PROTESIS REMOVIBLE"
          ],
          [
           "PUENTES"
          ],
          [
           "PUENTES"
          ]
         ],
         "domain": {
          "x": [
           0.55,
           1
          ],
          "y": [
           0,
           1
          ]
         },
         "hovertemplate": "Tratamiento=%{label}<br>total=%{value}<br>Categoría=%{parent}<br>id=%{id}<br>category=%{customdata[0]}<extra></extra>",
         "ids": [
          "Categorias",
          "Categorias/BLANQUEAMIENTO",
          "Categorias/BLANQUEAMIENTO/BLANQUEAMIENTO PHILIPS ZOOM",
          "Categorias/CIRUGIA MAXILOFACIAL/INJERTO OSEO",
          "Categorias/CIRUGIA MAXILOFACIAL",
          "Categorias/CIRUGIA PERIODONTAL",
          "Categorias/CIRUGIA PERIODONTAL/CIRUGIA OSEA POR CUADRANTE",
          "Categorias/CIRUGIA PERIODONTAL/REGENERACION DE TEJIDOS",
          "Categorias/CORONA/RECEMENTADO DE CORONA",
          "Categorias/CORONA",
          "Categorias/CORONA/CORONA IMPLANTE ZIRCONIO",
          "Categorias/CORONA/CORONA RESINA(LABORATORIO)",
          "Categorias/CORONA/CORONA IMPLANTE",
          "Categorias/CORONA/CORONA METAL CERAMICA",
          "Categorias/DIAGNOSTICOS/ORTOPANTOMOGRAFIA",
          "Categorias/DIAGNOSTICOS/TAC",
          "Categorias/DIAGNOSTICOS",
          "Categorias/ENDODONCIAS",
          "Categorias/ENDODONCIAS/PULPUTOMIA TERAPEUTICA",
          "Categorias/ENDODONCIAS/Copia de ENDODONCIA ANTERIOR",
          "Categorias/EXTRACCION/EXTRACCION QUIRURGICA TERCER MOLAR INCLUIDO",
          "Categorias/EXTRACCION/Copia de EXTRACCION SIMPLE",
          "Categorias/EXTRACCION",
          "Categorias/IMPLANTES/IMPLANTE",
          "Categorias/IMPLANTES",
          "Categorias/IMPLANTES/REPARACION DE IMPLANTE",
          "Categorias/MUñON/POSTE FIBRA DE VIDRIO",
          "Categorias/MUñON",
          "Categorias/OBTURACION",
          "Categorias/OBTURACION/OBTURACION",
          "Categorias/OBTURACION/SELLADO POR DIENTE",
          "Categorias/ORTODONCIAS",
          "Categorias/ORTODONCIAS/RETENEDOR LINGUAL SUP",
          "Categorias/ORTODONCIAS/RETENEDOR LINGUAL INF",
          "Categorias/ORTODONCIAS/1 visitas ortodoncia",
          "Categorias/ORTODONCIAS/BRACKETS ESTETICOS",
          "Categorias/ORTODONCIAS/BRACKETS METALICOS",
          "Categorias/ORTODONCIAS/INVISALIGN",
          "Categorias/ORTODONCIAS/ORTODONCIA FIJA",
          "Categorias/ORTODONCIAS/ORTODONCIA REMOVIBLE",
          "Categorias/ORTODONCIAS/PROCED. PROST. REMOV. SIN ESPE",
          "Categorias/PROFILAXIS",
          "Categorias/PROFILAXIS/Copia de LIMPIEZA",
          "Categorias/PROTESIS REMOVIBLE",
          "Categorias/PROTESIS REMOVIBLE/Copia de PARCIAL INFERIOR",
          "Categorias/PROTESIS REMOVIBLE/AJUST. DENT. PARC. INFERIOR",
          "Categorias/PROTESIS REMOVIBLE/AJUST. DENT. PARC. SUPERIOR",
          "Categorias/PROTESIS REMOVIBLE/REPARACION BASE DENT. COMPLETA",
          "Categorias/PROTESIS REMOVIBLE/FERULA DESCARGA",
          "Categorias/PROTESIS REMOVIBLE/DENT. PARCIAL REMOV. UNILATERA",
          "Categorias/PROTESIS REMOVIBLE/DENT. COMPLETA SUPERIOR",
          "Categorias/PROTESIS REMOVIBLE/Copia de PARCIAL SUPERIOR",
          "Categorias/PROTESIS REMOVIBLE/COMPOSTURA DIENTE",
          "Categorias/PUENTES/RECEMENTADO DE PUENTE",
          "Categorias/PUENTES"
         ],
         "labels": [
          "Categorias",
          "BLANQUEAMIENTO",
          "BLANQUEAMIENTO PHILIPS ZOOM",
          "INJERTO OSEO",
          "CIRUGIA MAXILOFACIAL",
          "CIRUGIA PERIODONTAL",
          "CIRUGIA OSEA POR CUADRANTE",
          "REGENERACION DE TEJIDOS",
          "RECEMENTADO DE CORONA",
          "CORONA",
          "CORONA IMPLANTE ZIRCONIO",
          "CORONA RESINA(LABORATORIO)",
          "CORONA IMPLANTE",
          "CORONA METAL CERAMICA",
          "ORTOPANTOMOGRAFIA",
          "TAC",
          "DIAGNOSTICOS",
          "ENDODONCIAS",
          "PULPUTOMIA TERAPEUTICA",
          "Copia de ENDODONCIA ANTERIOR",
          "EXTRACCION QUIRURGICA TERCER MOLAR INCLUIDO",
          "Copia de EXTRACCION SIMPLE",
          "EXTRACCION",
          "IMPLANTE",
          "IMPLANTES",
          "REPARACION DE IMPLANTE",
          "POSTE FIBRA DE VIDRIO",
          "MUñON",
          "OBTURACION",
          "OBTURACION",
          "SELLADO POR DIENTE",
          "ORTODONCIAS",
          "RETENEDOR LINGUAL SUP",
          "RETENEDOR LINGUAL INF",
          "1 visitas ortodoncia",
          "BRACKETS ESTETICOS",
          "BRACKETS METALICOS",
          "INVISALIGN",
          "ORTODONCIA FIJA",
          "ORTODONCIA REMOVIBLE",
          "PROCED. PROST. REMOV. SIN ESPE",
          "PROFILAXIS",
          "Copia de LIMPIEZA",
          "PROTESIS REMOVIBLE",
          "Copia de PARCIAL INFERIOR",
          "AJUST. DENT. PARC. INFERIOR",
          "AJUST. DENT. PARC. SUPERIOR",
          "REPARACION BASE DENT. COMPLETA",
          "FERULA DESCARGA",
          "DENT. PARCIAL REMOV. UNILATERA",
          "DENT. COMPLETA SUPERIOR",
          "Copia de PARCIAL SUPERIOR",
          "COMPOSTURA DIENTE",
          "RECEMENTADO DE PUENTE",
          "PUENTES"
         ],
         "marker": {
          "colors": [
           "white",
           "#87CEEB",
           "#87CEEB",
           "#FF8C00",
           "#FF8C00",
           "#06DD51",
           "#06DD51",
           "#06DD51",
           "#FFD93D",
           "#FFD93D",
           "#FFD93D",
           "#FFD93D",
           "#FFD93D",
           "#FFD93D",
           "#FF6B6B",
           "#FF6B6B",
           "#FF6B6B",
           "#FFCD00",
           "#FFCD00",
           "#FFCD00",
           "#FF4D4D",
           "#FF4D4D",
           "#FF4D4D",
           "#FF7F50",
           "#FF7F50",
           "#FF7F50",
           "#FF6692",
           "#FF6692",
           "#FF9F43",
           "#FF9F43",
           "#FF9F43",
           "#00BFFF",
           "#00BFFF",
           "#00BFFF",
           "#00BFFF",
           "#00BFFF",
           "#00BFFF",
           "#00BFFF",
           "#00BFFF",
           "#00BFFF",
           "#00BFFF",
           "#6BB97A",
           "#6BB97A",
           "#FF6F59",
           "#FF6F59",
           "#FF6F59",
           "#FF6F59",
           "#FF6F59",
           "#FF6F59",
           "#FF6F59",
           "#FF6F59",
           "#FF6F59",
           "#FF6F59",
           "#8A2BE2",
           "#8A2BE2"
          ],
          "line": {
           "color": "black",
           "width": 1
          }
         },
         "name": "",
         "parents": [
          "",
          "Categorias",
          "Categorias/BLANQUEAMIENTO",
          "Categorias/CIRUGIA MAXILOFACIAL",
          "Categorias",
          "Categorias",
          "Categorias/CIRUGIA PERIODONTAL",
          "Categorias/CIRUGIA PERIODONTAL",
          "Categorias/CORONA",
          "Categorias",
          "Categorias/CORONA",
          "Categorias/CORONA",
          "Categorias/CORONA",
          "Categorias/CORONA",
          "Categorias/DIAGNOSTICOS",
          "Categorias/DIAGNOSTICOS",
          "Categorias",
          "Categorias",
          "Categorias/ENDODONCIAS",
          "Categorias/ENDODONCIAS",
          "Categorias/EXTRACCION",
          "Categorias/EXTRACCION",
          "Categorias",
          "Categorias/IMPLANTES",
          "Categorias",
          "Categorias/IMPLANTES",
          "Categorias/MUñON",
          "Categorias",
          "Categorias",
          "Categorias/OBTURACION",
          "Categorias/OBTURACION",
          "Categorias",
          "Categorias/ORTODONCIAS",
          "Categorias/ORTODONCIAS",
          "Categorias/ORTODONCIAS",
          "Categorias/ORTODONCIAS",
          "Categorias/ORTODONCIAS",
          "Categorias/ORTODONCIAS",
          "Categorias/ORTODONCIAS",
          "Categorias/ORTODONCIAS",
          "Categorias/ORTODONCIAS",
          "Categorias",
          "Categorias/PROFILAXIS",
          "Categorias",
          "Categorias/PROTESIS REMOVIBLE",
          "Categorias/PROTESIS REMOVIBLE",
          "Categorias/PROTESIS REMOVIBLE",
          "Categorias/PROTESIS REMOVIBLE",
          "Categorias/PROTESIS REMOVIBLE",
          "Categorias/PROTESIS REMOVIBLE",
          "Categorias/PROTESIS REMOVIBLE",
          "Categorias/PROTESIS REMOVIBLE",
          "Categorias/PROTESIS REMOVIBLE",
          "Categorias/PUENTES",
          "Categorias"
         ],
         "textfont": {
          "color": "black"
         },
         "type": "treemap",
         "values": {
          "bdata": "AAAAAPA3BEEAAAAAAEShQAAAAAAARKFAAAAAAACopkAAAAAAAKimQAAAAAAA4IVAAAAAAABAf0AAAAAAAABpQAAAAAAA4G5AAAAAAGBA5EAAAAAAAHB7QAAAAAAA0IpAAAAAAMCd1UAAAAAAAGHRQAAAAAAAgJNAAAAAAABAn0AAAAAAAGCpQAAAAAAAubJAAAAAAACgYkAAAAAAACSyQAAAAAAAAFlAAAAAAAAis0AAAAAAAIazQAAAAACAYuNAAAAAAMBo40AAAAAAAABJQAAAAAAAwGJAAAAAAADAYkAAAAAAwLfRQAAAAADAo9FAAAAAAAAAVEAAAAAAQDLbQAAAAAAAAFlAAAAAAABgfkAAAAAAAAA+QAAAAAAAAD1AAAAAAADorUAAAAAAAF3WQAAAAAAAAF1AAAAAAAAAbkAAAAAAAABeQAAAAACAIcZAAAAAAIAhxkAAAAAAAJq4QAAAAAAAeJ5AAAAAAABAZUAAAAAAAABOQAAAAAAAwIJAAAAAAACIlUAAAAAAAABeQAAAAAAAcIdAAAAAAACokUAAAAAAAIBhQAAAAAAA5JtAAAAAAADkm0A=",
          "dtype": "f8"
         }
        }
       ],
       "layout": {
        "annotations": [
         {
          "font": {
           "size": 16
          },
          "showarrow": false,
          "text": "Número de Actos por Categoría y Tratamiento 2024",
          "x": 0.225,
          "xanchor": "center",
          "xref": "paper",
          "y": 1,
          "yanchor": "bottom",
          "yref": "paper"
         },
         {
          "font": {
           "size": 16
          },
          "showarrow": false,
          "text": "Ganancia Total por Categoría y Tratamiento 2024",
          "x": 0.775,
          "xanchor": "center",
          "xref": "paper",
          "y": 1,
          "yanchor": "bottom",
          "yref": "paper"
         }
        ],
        "font": {
         "family": "Oswald"
        },
        "height": 600,
        "template": {
         "data": {
          "bar": [
           {
            "error_x": {
             "color": "#2a3f5f"
            },
            "error_y": {
             "color": "#2a3f5f"
            },
            "marker": {
             "line": {
              "color": "#E5ECF6",
              "width": 0.5
             },
             "pattern": {
              "fillmode": "overlay",
              "size": 10,
              "solidity": 0.2
             }
            },
            "type": "bar"
           }
          ],
          "barpolar": [
           {
            "marker": {
             "line": {
              "color": "#E5ECF6",
              "width": 0.5
             },
             "pattern": {
              "fillmode": "overlay",
              "size": 10,
              "solidity": 0.2
             }
            },
            "type": "barpolar"
           }
          ],
          "carpet": [
           {
            "aaxis": {
             "endlinecolor": "#2a3f5f",
             "gridcolor": "white",
             "linecolor": "white",
             "minorgridcolor": "white",
             "startlinecolor": "#2a3f5f"
            },
            "baxis": {
             "endlinecolor": "#2a3f5f",
             "gridcolor": "white",
             "linecolor": "white",
             "minorgridcolor": "white",
             "startlinecolor": "#2a3f5f"
            },
            "type": "carpet"
           }
          ],
          "choropleth": [
           {
            "colorbar": {
             "outlinewidth": 0,
             "ticks": ""
            },
            "type": "choropleth"
           }
          ],
          "contour": [
           {
            "colorbar": {
             "outlinewidth": 0,
             "ticks": ""
            },
            "colorscale": [
             [
              0,
              "#0d0887"
             ],
             [
              0.1111111111111111,
              "#46039f"
             ],
             [
              0.2222222222222222,
              "#7201a8"
             ],
             [
              0.3333333333333333,
              "#9c179e"
             ],
             [
              0.4444444444444444,
              "#bd3786"
             ],
             [
              0.5555555555555556,
              "#d8576b"
             ],
             [
              0.6666666666666666,
              "#ed7953"
             ],
             [
              0.7777777777777778,
              "#fb9f3a"
             ],
             [
              0.8888888888888888,
              "#fdca26"
             ],
             [
              1,
              "#f0f921"
             ]
            ],
            "type": "contour"
           }
          ],
          "contourcarpet": [
           {
            "colorbar": {
             "outlinewidth": 0,
             "ticks": ""
            },
            "type": "contourcarpet"
           }
          ],
          "heatmap": [
           {
            "colorbar": {
             "outlinewidth": 0,
             "ticks": ""
            },
            "colorscale": [
             [
              0,
              "#0d0887"
             ],
             [
              0.1111111111111111,
              "#46039f"
             ],
             [
              0.2222222222222222,
              "#7201a8"
             ],
             [
              0.3333333333333333,
              "#9c179e"
             ],
             [
              0.4444444444444444,
              "#bd3786"
             ],
             [
              0.5555555555555556,
              "#d8576b"
             ],
             [
              0.6666666666666666,
              "#ed7953"
             ],
             [
              0.7777777777777778,
              "#fb9f3a"
             ],
             [
              0.8888888888888888,
              "#fdca26"
             ],
             [
              1,
              "#f0f921"
             ]
            ],
            "type": "heatmap"
           }
          ],
          "histogram": [
           {
            "marker": {
             "pattern": {
              "fillmode": "overlay",
              "size": 10,
              "solidity": 0.2
             }
            },
            "type": "histogram"
           }
          ],
          "histogram2d": [
           {
            "colorbar": {
             "outlinewidth": 0,
             "ticks": ""
            },
            "colorscale": [
             [
              0,
              "#0d0887"
             ],
             [
              0.1111111111111111,
              "#46039f"
             ],
             [
              0.2222222222222222,
              "#7201a8"
             ],
             [
              0.3333333333333333,
              "#9c179e"
             ],
             [
              0.4444444444444444,
              "#bd3786"
             ],
             [
              0.5555555555555556,
              "#d8576b"
             ],
             [
              0.6666666666666666,
              "#ed7953"
             ],
             [
              0.7777777777777778,
              "#fb9f3a"
             ],
             [
              0.8888888888888888,
              "#fdca26"
             ],
             [
              1,
              "#f0f921"
             ]
            ],
            "type": "histogram2d"
           }
          ],
          "histogram2dcontour": [
           {
            "colorbar": {
             "outlinewidth": 0,
             "ticks": ""
            },
            "colorscale": [
             [
              0,
              "#0d0887"
             ],
             [
              0.1111111111111111,
              "#46039f"
             ],
             [
              0.2222222222222222,
              "#7201a8"
             ],
             [
              0.3333333333333333,
              "#9c179e"
             ],
             [
              0.4444444444444444,
              "#bd3786"
             ],
             [
              0.5555555555555556,
              "#d8576b"
             ],
             [
              0.6666666666666666,
              "#ed7953"
             ],
             [
              0.7777777777777778,
              "#fb9f3a"
             ],
             [
              0.8888888888888888,
              "#fdca26"
             ],
             [
              1,
              "#f0f921"
             ]
            ],
            "type": "histogram2dcontour"
           }
          ],
          "mesh3d": [
           {
            "colorbar": {
             "outlinewidth": 0,
             "ticks": ""
            },
            "type": "mesh3d"
           }
          ],
          "parcoords": [
           {
            "line": {
             "colorbar": {
              "outlinewidth": 0,
              "ticks": ""
             }
            },
            "type": "parcoords"
           }
          ],
          "pie": [
           {
            "automargin": true,
            "type": "pie"
           }
          ],
          "scatter": [
           {
            "fillpattern": {
             "fillmode": "overlay",
             "size": 10,
             "solidity": 0.2
            },
            "type": "scatter"
           }
          ],
          "scatter3d": [
           {
            "line": {
             "colorbar": {
              "outlinewidth": 0,
              "ticks": ""
             }
            },
            "marker": {
             "colorbar": {
              "outlinewidth": 0,
              "ticks": ""
             }
            },
            "type": "scatter3d"
           }
          ],
          "scattercarpet": [
           {
            "marker": {
             "colorbar": {
              "outlinewidth": 0,
              "ticks": ""
             }
            },
            "type": "scattercarpet"
           }
          ],
          "scattergeo": [
           {
            "marker": {
             "colorbar": {
              "outlinewidth": 0,
              "ticks": ""
             }
            },
            "type": "scattergeo"
           }
          ],
          "scattergl": [
           {
            "marker": {
             "colorbar": {
              "outlinewidth": 0,
              "ticks": ""
             }
            },
            "type": "scattergl"
           }
          ],
          "scattermap": [
           {
            "marker": {
             "colorbar": {
              "outlinewidth": 0,
              "ticks": ""
             }
            },
            "type": "scattermap"
           }
          ],
          "scattermapbox": [
           {
            "marker": {
             "colorbar": {
              "outlinewidth": 0,
              "ticks": ""
             }
            },
            "type": "scattermapbox"
           }
          ],
          "scatterpolar": [
           {
            "marker": {
             "colorbar": {
              "outlinewidth": 0,
              "ticks": ""
             }
            },
            "type": "scatterpolar"
           }
          ],
          "scatterpolargl": [
           {
            "marker": {
             "colorbar": {
              "outlinewidth": 0,
              "ticks": ""
             }
            },
            "type": "scatterpolargl"
           }
          ],
          "scatterternary": [
           {
            "marker": {
             "colorbar": {
              "outlinewidth": 0,
              "ticks": ""
             }
            },
            "type": "scatterternary"
           }
          ],
          "surface": [
           {
            "colorbar": {
             "outlinewidth": 0,
             "ticks": ""
            },
            "colorscale": [
             [
              0,
              "#0d0887"
             ],
             [
              0.1111111111111111,
              "#46039f"
             ],
             [
              0.2222222222222222,
              "#7201a8"
             ],
             [
              0.3333333333333333,
              "#9c179e"
             ],
             [
              0.4444444444444444,
              "#bd3786"
             ],
             [
              0.5555555555555556,
              "#d8576b"
             ],
             [
              0.6666666666666666,
              "#ed7953"
             ],
             [
              0.7777777777777778,
              "#fb9f3a"
             ],
             [
              0.8888888888888888,
              "#fdca26"
             ],
             [
              1,
              "#f0f921"
             ]
            ],
            "type": "surface"
           }
          ],
          "table": [
           {
            "cells": {
             "fill": {
              "color": "#EBF0F8"
             },
             "line": {
              "color": "white"
             }
            },
            "header": {
             "fill": {
              "color": "#C8D4E3"
             },
             "line": {
              "color": "white"
             }
            },
            "type": "table"
           }
          ]
         },
         "layout": {
          "annotationdefaults": {
           "arrowcolor": "#2a3f5f",
           "arrowhead": 0,
           "arrowwidth": 1
          },
          "autotypenumbers": "strict",
          "coloraxis": {
           "colorbar": {
            "outlinewidth": 0,
            "ticks": ""
           }
          },
          "colorscale": {
           "diverging": [
            [
             0,
             "#8e0152"
            ],
            [
             0.1,
             "#c51b7d"
            ],
            [
             0.2,
             "#de77ae"
            ],
            [
             0.3,
             "#f1b6da"
            ],
            [
             0.4,
             "#fde0ef"
            ],
            [
             0.5,
             "#f7f7f7"
            ],
            [
             0.6,
             "#e6f5d0"
            ],
            [
             0.7,
             "#b8e186"
            ],
            [
             0.8,
             "#7fbc41"
            ],
            [
             0.9,
             "#4d9221"
            ],
            [
             1,
             "#276419"
            ]
           ],
           "sequential": [
            [
             0,
             "#0d0887"
            ],
            [
             0.1111111111111111,
             "#46039f"
            ],
            [
             0.2222222222222222,
             "#7201a8"
            ],
            [
             0.3333333333333333,
             "#9c179e"
            ],
            [
             0.4444444444444444,
             "#bd3786"
            ],
            [
             0.5555555555555556,
             "#d8576b"
            ],
            [
             0.6666666666666666,
             "#ed7953"
            ],
            [
             0.7777777777777778,
             "#fb9f3a"
            ],
            [
             0.8888888888888888,
             "#fdca26"
            ],
            [
             1,
             "#f0f921"
            ]
           ],
           "sequentialminus": [
            [
             0,
             "#0d0887"
            ],
            [
             0.1111111111111111,
             "#46039f"
            ],
            [
             0.2222222222222222,
             "#7201a8"
            ],
            [
             0.3333333333333333,
             "#9c179e"
            ],
            [
             0.4444444444444444,
             "#bd3786"
            ],
            [
             0.5555555555555556,
             "#d8576b"
            ],
            [
             0.6666666666666666,
             "#ed7953"
            ],
            [
             0.7777777777777778,
             "#fb9f3a"
            ],
            [
             0.8888888888888888,
             "#fdca26"
            ],
            [
             1,
             "#f0f921"
            ]
           ]
          },
          "colorway": [
           "#636efa",
           "#EF553B",
           "#00cc96",
           "#ab63fa",
           "#FFA15A",
           "#19d3f3",
           "#FF6692",
           "#B6E880",
           "#FF97FF",
           "#FECB52"
          ],
          "font": {
           "color": "#2a3f5f"
          },
          "geo": {
           "bgcolor": "white",
           "lakecolor": "white",
           "landcolor": "#E5ECF6",
           "showlakes": true,
           "showland": true,
           "subunitcolor": "white"
          },
          "hoverlabel": {
           "align": "left"
          },
          "hovermode": "closest",
          "mapbox": {
           "style": "light"
          },
          "paper_bgcolor": "white",
          "plot_bgcolor": "#E5ECF6",
          "polar": {
           "angularaxis": {
            "gridcolor": "white",
            "linecolor": "white",
            "ticks": ""
           },
           "bgcolor": "#E5ECF6",
           "radialaxis": {
            "gridcolor": "white",
            "linecolor": "white",
            "ticks": ""
           }
          },
          "scene": {
           "xaxis": {
            "backgroundcolor": "#E5ECF6",
            "gridcolor": "white",
            "gridwidth": 2,
            "linecolor": "white",
            "showbackground": true,
            "ticks": "",
            "zerolinecolor": "white"
           },
           "yaxis": {
            "backgroundcolor": "#E5ECF6",
            "gridcolor": "white",
            "gridwidth": 2,
            "linecolor": "white",
            "showbackground": true,
            "ticks": "",
            "zerolinecolor": "white"
           },
           "zaxis": {
            "backgroundcolor": "#E5ECF6",
            "gridcolor": "white",
            "gridwidth": 2,
            "linecolor": "white",
            "showbackground": true,
            "ticks": "",
            "zerolinecolor": "white"
           }
          },
          "shapedefaults": {
           "line": {
            "color": "#2a3f5f"
           }
          },
          "ternary": {
           "aaxis": {
            "gridcolor": "white",
            "linecolor": "white",
            "ticks": ""
           },
           "baxis": {
            "gridcolor": "white",
            "linecolor": "white",
            "ticks": ""
           },
           "bgcolor": "#E5ECF6",
           "caxis": {
            "gridcolor": "white",
            "linecolor": "white",
            "ticks": ""
           }
          },
          "title": {
           "x": 0.05
          },
          "xaxis": {
           "automargin": true,
           "gridcolor": "white",
           "linecolor": "white",
           "ticks": "",
           "title": {
            "standoff": 15
           },
           "zerolinecolor": "white",
           "zerolinewidth": 2
          },
          "yaxis": {
           "automargin": true,
           "gridcolor": "white",
           "linecolor": "white",
           "ticks": "",
           "title": {
            "standoff": 15
           },
           "zerolinecolor": "white",
           "zerolinewidth": 2
          }
         }
        },
        "title": {
         "font": {
          "family": "Oswald"
         },
         "text": "Análisis de Actos y Ganancias por Categoría y Tratamiento en 2024",
         "x": 0.5
        },
        "width": 1000
       }
      }
     },
     "metadata": {},
     "output_type": "display_data"
    }
   ],
   "source": [
    "#COMPARATIVA NUMERO DE ACTOS Y GANANCIAS TOTALES SEGUN CATEGORIA MEDICA Y TRATAMIENTO"
   ]
  },
  {
   "cell_type": "code",
   "execution_count": null,
   "id": "2c6251b3",
   "metadata": {},
   "outputs": [
    {
     "data": {
      "application/vnd.plotly.v1+json": {
       "config": {
        "plotlyServerURL": "https://plot.ly"
       },
       "data": [
        {
         "domain": {
          "x": [
           0,
           0.45
          ],
          "y": [
           0,
           1
          ]
         },
         "hole": 0.3,
         "labels": [
          "No Estético",
          "Estético"
         ],
         "name": "Ganancias",
         "textfont": {
          "color": "black"
         },
         "textinfo": "percent+label",
         "textposition": "inside",
         "type": "pie",
         "values": {
          "bdata": "GrkBADBsAQA=",
          "dtype": "i4"
         }
        },
        {
         "domain": {
          "x": [
           0.55,
           1
          ],
          "y": [
           0,
           1
          ]
         },
         "hole": 0.3,
         "labels": [
          "No Estético",
          "Estético"
         ],
         "name": "Actos",
         "textfont": {
          "color": "black"
         },
         "textinfo": "percent+label",
         "textposition": "inside",
         "type": "pie",
         "values": {
          "bdata": "cQO7AA==",
          "dtype": "i2"
         }
        }
       ],
       "layout": {
        "annotations": [
         {
          "font": {
           "size": 16
          },
          "showarrow": false,
          "text": "Ganancias Totales",
          "x": 0.225,
          "xanchor": "center",
          "xref": "paper",
          "y": 1,
          "yanchor": "bottom",
          "yref": "paper"
         },
         {
          "font": {
           "size": 16
          },
          "showarrow": false,
          "text": "Número de Actos Realizados",
          "x": 0.775,
          "xanchor": "center",
          "xref": "paper",
          "y": 1,
          "yanchor": "bottom",
          "yref": "paper"
         }
        ],
        "font": {
         "color": "black",
         "family": "Oswald"
        },
        "template": {
         "data": {
          "bar": [
           {
            "error_x": {
             "color": "#2a3f5f"
            },
            "error_y": {
             "color": "#2a3f5f"
            },
            "marker": {
             "line": {
              "color": "#E5ECF6",
              "width": 0.5
             },
             "pattern": {
              "fillmode": "overlay",
              "size": 10,
              "solidity": 0.2
             }
            },
            "type": "bar"
           }
          ],
          "barpolar": [
           {
            "marker": {
             "line": {
              "color": "#E5ECF6",
              "width": 0.5
             },
             "pattern": {
              "fillmode": "overlay",
              "size": 10,
              "solidity": 0.2
             }
            },
            "type": "barpolar"
           }
          ],
          "carpet": [
           {
            "aaxis": {
             "endlinecolor": "#2a3f5f",
             "gridcolor": "white",
             "linecolor": "white",
             "minorgridcolor": "white",
             "startlinecolor": "#2a3f5f"
            },
            "baxis": {
             "endlinecolor": "#2a3f5f",
             "gridcolor": "white",
             "linecolor": "white",
             "minorgridcolor": "white",
             "startlinecolor": "#2a3f5f"
            },
            "type": "carpet"
           }
          ],
          "choropleth": [
           {
            "colorbar": {
             "outlinewidth": 0,
             "ticks": ""
            },
            "type": "choropleth"
           }
          ],
          "contour": [
           {
            "colorbar": {
             "outlinewidth": 0,
             "ticks": ""
            },
            "colorscale": [
             [
              0,
              "#0d0887"
             ],
             [
              0.1111111111111111,
              "#46039f"
             ],
             [
              0.2222222222222222,
              "#7201a8"
             ],
             [
              0.3333333333333333,
              "#9c179e"
             ],
             [
              0.4444444444444444,
              "#bd3786"
             ],
             [
              0.5555555555555556,
              "#d8576b"
             ],
             [
              0.6666666666666666,
              "#ed7953"
             ],
             [
              0.7777777777777778,
              "#fb9f3a"
             ],
             [
              0.8888888888888888,
              "#fdca26"
             ],
             [
              1,
              "#f0f921"
             ]
            ],
            "type": "contour"
           }
          ],
          "contourcarpet": [
           {
            "colorbar": {
             "outlinewidth": 0,
             "ticks": ""
            },
            "type": "contourcarpet"
           }
          ],
          "heatmap": [
           {
            "colorbar": {
             "outlinewidth": 0,
             "ticks": ""
            },
            "colorscale": [
             [
              0,
              "#0d0887"
             ],
             [
              0.1111111111111111,
              "#46039f"
             ],
             [
              0.2222222222222222,
              "#7201a8"
             ],
             [
              0.3333333333333333,
              "#9c179e"
             ],
             [
              0.4444444444444444,
              "#bd3786"
             ],
             [
              0.5555555555555556,
              "#d8576b"
             ],
             [
              0.6666666666666666,
              "#ed7953"
             ],
             [
              0.7777777777777778,
              "#fb9f3a"
             ],
             [
              0.8888888888888888,
              "#fdca26"
             ],
             [
              1,
              "#f0f921"
             ]
            ],
            "type": "heatmap"
           }
          ],
          "histogram": [
           {
            "marker": {
             "pattern": {
              "fillmode": "overlay",
              "size": 10,
              "solidity": 0.2
             }
            },
            "type": "histogram"
           }
          ],
          "histogram2d": [
           {
            "colorbar": {
             "outlinewidth": 0,
             "ticks": ""
            },
            "colorscale": [
             [
              0,
              "#0d0887"
             ],
             [
              0.1111111111111111,
              "#46039f"
             ],
             [
              0.2222222222222222,
              "#7201a8"
             ],
             [
              0.3333333333333333,
              "#9c179e"
             ],
             [
              0.4444444444444444,
              "#bd3786"
             ],
             [
              0.5555555555555556,
              "#d8576b"
             ],
             [
              0.6666666666666666,
              "#ed7953"
             ],
             [
              0.7777777777777778,
              "#fb9f3a"
             ],
             [
              0.8888888888888888,
              "#fdca26"
             ],
             [
              1,
              "#f0f921"
             ]
            ],
            "type": "histogram2d"
           }
          ],
          "histogram2dcontour": [
           {
            "colorbar": {
             "outlinewidth": 0,
             "ticks": ""
            },
            "colorscale": [
             [
              0,
              "#0d0887"
             ],
             [
              0.1111111111111111,
              "#46039f"
             ],
             [
              0.2222222222222222,
              "#7201a8"
             ],
             [
              0.3333333333333333,
              "#9c179e"
             ],
             [
              0.4444444444444444,
              "#bd3786"
             ],
             [
              0.5555555555555556,
              "#d8576b"
             ],
             [
              0.6666666666666666,
              "#ed7953"
             ],
             [
              0.7777777777777778,
              "#fb9f3a"
             ],
             [
              0.8888888888888888,
              "#fdca26"
             ],
             [
              1,
              "#f0f921"
             ]
            ],
            "type": "histogram2dcontour"
           }
          ],
          "mesh3d": [
           {
            "colorbar": {
             "outlinewidth": 0,
             "ticks": ""
            },
            "type": "mesh3d"
           }
          ],
          "parcoords": [
           {
            "line": {
             "colorbar": {
              "outlinewidth": 0,
              "ticks": ""
             }
            },
            "type": "parcoords"
           }
          ],
          "pie": [
           {
            "automargin": true,
            "type": "pie"
           }
          ],
          "scatter": [
           {
            "fillpattern": {
             "fillmode": "overlay",
             "size": 10,
             "solidity": 0.2
            },
            "type": "scatter"
           }
          ],
          "scatter3d": [
           {
            "line": {
             "colorbar": {
              "outlinewidth": 0,
              "ticks": ""
             }
            },
            "marker": {
             "colorbar": {
              "outlinewidth": 0,
              "ticks": ""
             }
            },
            "type": "scatter3d"
           }
          ],
          "scattercarpet": [
           {
            "marker": {
             "colorbar": {
              "outlinewidth": 0,
              "ticks": ""
             }
            },
            "type": "scattercarpet"
           }
          ],
          "scattergeo": [
           {
            "marker": {
             "colorbar": {
              "outlinewidth": 0,
              "ticks": ""
             }
            },
            "type": "scattergeo"
           }
          ],
          "scattergl": [
           {
            "marker": {
             "colorbar": {
              "outlinewidth": 0,
              "ticks": ""
             }
            },
            "type": "scattergl"
           }
          ],
          "scattermap": [
           {
            "marker": {
             "colorbar": {
              "outlinewidth": 0,
              "ticks": ""
             }
            },
            "type": "scattermap"
           }
          ],
          "scattermapbox": [
           {
            "marker": {
             "colorbar": {
              "outlinewidth": 0,
              "ticks": ""
             }
            },
            "type": "scattermapbox"
           }
          ],
          "scatterpolar": [
           {
            "marker": {
             "colorbar": {
              "outlinewidth": 0,
              "ticks": ""
             }
            },
            "type": "scatterpolar"
           }
          ],
          "scatterpolargl": [
           {
            "marker": {
             "colorbar": {
              "outlinewidth": 0,
              "ticks": ""
             }
            },
            "type": "scatterpolargl"
           }
          ],
          "scatterternary": [
           {
            "marker": {
             "colorbar": {
              "outlinewidth": 0,
              "ticks": ""
             }
            },
            "type": "scatterternary"
           }
          ],
          "surface": [
           {
            "colorbar": {
             "outlinewidth": 0,
             "ticks": ""
            },
            "colorscale": [
             [
              0,
              "#0d0887"
             ],
             [
              0.1111111111111111,
              "#46039f"
             ],
             [
              0.2222222222222222,
              "#7201a8"
             ],
             [
              0.3333333333333333,
              "#9c179e"
             ],
             [
              0.4444444444444444,
              "#bd3786"
             ],
             [
              0.5555555555555556,
              "#d8576b"
             ],
             [
              0.6666666666666666,
              "#ed7953"
             ],
             [
              0.7777777777777778,
              "#fb9f3a"
             ],
             [
              0.8888888888888888,
              "#fdca26"
             ],
             [
              1,
              "#f0f921"
             ]
            ],
            "type": "surface"
           }
          ],
          "table": [
           {
            "cells": {
             "fill": {
              "color": "#EBF0F8"
             },
             "line": {
              "color": "white"
             }
            },
            "header": {
             "fill": {
              "color": "#C8D4E3"
             },
             "line": {
              "color": "white"
             }
            },
            "type": "table"
           }
          ]
         },
         "layout": {
          "annotationdefaults": {
           "arrowcolor": "#2a3f5f",
           "arrowhead": 0,
           "arrowwidth": 1
          },
          "autotypenumbers": "strict",
          "coloraxis": {
           "colorbar": {
            "outlinewidth": 0,
            "ticks": ""
           }
          },
          "colorscale": {
           "diverging": [
            [
             0,
             "#8e0152"
            ],
            [
             0.1,
             "#c51b7d"
            ],
            [
             0.2,
             "#de77ae"
            ],
            [
             0.3,
             "#f1b6da"
            ],
            [
             0.4,
             "#fde0ef"
            ],
            [
             0.5,
             "#f7f7f7"
            ],
            [
             0.6,
             "#e6f5d0"
            ],
            [
             0.7,
             "#b8e186"
            ],
            [
             0.8,
             "#7fbc41"
            ],
            [
             0.9,
             "#4d9221"
            ],
            [
             1,
             "#276419"
            ]
           ],
           "sequential": [
            [
             0,
             "#0d0887"
            ],
            [
             0.1111111111111111,
             "#46039f"
            ],
            [
             0.2222222222222222,
             "#7201a8"
            ],
            [
             0.3333333333333333,
             "#9c179e"
            ],
            [
             0.4444444444444444,
             "#bd3786"
            ],
            [
             0.5555555555555556,
             "#d8576b"
            ],
            [
             0.6666666666666666,
             "#ed7953"
            ],
            [
             0.7777777777777778,
             "#fb9f3a"
            ],
            [
             0.8888888888888888,
             "#fdca26"
            ],
            [
             1,
             "#f0f921"
            ]
           ],
           "sequentialminus": [
            [
             0,
             "#0d0887"
            ],
            [
             0.1111111111111111,
             "#46039f"
            ],
            [
             0.2222222222222222,
             "#7201a8"
            ],
            [
             0.3333333333333333,
             "#9c179e"
            ],
            [
             0.4444444444444444,
             "#bd3786"
            ],
            [
             0.5555555555555556,
             "#d8576b"
            ],
            [
             0.6666666666666666,
             "#ed7953"
            ],
            [
             0.7777777777777778,
             "#fb9f3a"
            ],
            [
             0.8888888888888888,
             "#fdca26"
            ],
            [
             1,
             "#f0f921"
            ]
           ]
          },
          "colorway": [
           "#636efa",
           "#EF553B",
           "#00cc96",
           "#ab63fa",
           "#FFA15A",
           "#19d3f3",
           "#FF6692",
           "#B6E880",
           "#FF97FF",
           "#FECB52"
          ],
          "font": {
           "color": "#2a3f5f"
          },
          "geo": {
           "bgcolor": "white",
           "lakecolor": "white",
           "landcolor": "#E5ECF6",
           "showlakes": true,
           "showland": true,
           "subunitcolor": "white"
          },
          "hoverlabel": {
           "align": "left"
          },
          "hovermode": "closest",
          "mapbox": {
           "style": "light"
          },
          "paper_bgcolor": "white",
          "plot_bgcolor": "#E5ECF6",
          "polar": {
           "angularaxis": {
            "gridcolor": "white",
            "linecolor": "white",
            "ticks": ""
           },
           "bgcolor": "#E5ECF6",
           "radialaxis": {
            "gridcolor": "white",
            "linecolor": "white",
            "ticks": ""
           }
          },
          "scene": {
           "xaxis": {
            "backgroundcolor": "#E5ECF6",
            "gridcolor": "white",
            "gridwidth": 2,
            "linecolor": "white",
            "showbackground": true,
            "ticks": "",
            "zerolinecolor": "white"
           },
           "yaxis": {
            "backgroundcolor": "#E5ECF6",
            "gridcolor": "white",
            "gridwidth": 2,
            "linecolor": "white",
            "showbackground": true,
            "ticks": "",
            "zerolinecolor": "white"
           },
           "zaxis": {
            "backgroundcolor": "#E5ECF6",
            "gridcolor": "white",
            "gridwidth": 2,
            "linecolor": "white",
            "showbackground": true,
            "ticks": "",
            "zerolinecolor": "white"
           }
          },
          "shapedefaults": {
           "line": {
            "color": "#2a3f5f"
           }
          },
          "ternary": {
           "aaxis": {
            "gridcolor": "white",
            "linecolor": "white",
            "ticks": ""
           },
           "baxis": {
            "gridcolor": "white",
            "linecolor": "white",
            "ticks": ""
           },
           "bgcolor": "#E5ECF6",
           "caxis": {
            "gridcolor": "white",
            "linecolor": "white",
            "ticks": ""
           }
          },
          "title": {
           "x": 0.05
          },
          "xaxis": {
           "automargin": true,
           "gridcolor": "white",
           "linecolor": "white",
           "ticks": "",
           "title": {
            "standoff": 15
           },
           "zerolinecolor": "white",
           "zerolinewidth": 2
          },
          "yaxis": {
           "automargin": true,
           "gridcolor": "white",
           "linecolor": "white",
           "ticks": "",
           "title": {
            "standoff": 15
           },
           "zerolinecolor": "white",
           "zerolinewidth": 2
          }
         }
        },
        "title": {
         "text": "Ganancias y Actos por Tipo de Tratamiento 2023"
        }
       }
      }
     },
     "metadata": {},
     "output_type": "display_data"
    }
   ],
   "source": [
    "#RENTABILIDAD DE LOS TRATAMIENTOS ESTETICOS CON RESPECTO AL NUMERO DE ACTOS REALIZADOS"
   ]
  },
  {
   "cell_type": "code",
   "execution_count": null,
   "id": "8b6401a9",
   "metadata": {},
   "outputs": [
    {
     "data": {
      "application/vnd.plotly.v1+json": {
       "config": {
        "plotlyServerURL": "https://plot.ly"
       },
       "data": [
        {
         "domain": {
          "x": [
           0,
           0.45
          ],
          "y": [
           0,
           1
          ]
         },
         "hole": 0.3,
         "labels": [
          "No Estético",
          "Estético"
         ],
         "name": "Ganancias",
         "textfont": {
          "color": "black"
         },
         "textinfo": "percent+label",
         "textposition": "inside",
         "type": "pie",
         "values": {
          "bdata": "y3QBADMSAQA=",
          "dtype": "i4"
         }
        },
        {
         "domain": {
          "x": [
           0.55,
           1
          ],
          "y": [
           0,
           1
          ]
         },
         "hole": 0.3,
         "labels": [
          "No Estético",
          "Estético"
         ],
         "name": "Actos",
         "textfont": {
          "color": "black"
         },
         "textinfo": "percent+label",
         "textposition": "inside",
         "type": "pie",
         "values": {
          "bdata": "2gOsAA==",
          "dtype": "i2"
         }
        }
       ],
       "layout": {
        "annotations": [
         {
          "font": {
           "size": 16
          },
          "showarrow": false,
          "text": "Ganancias Totales",
          "x": 0.225,
          "xanchor": "center",
          "xref": "paper",
          "y": 1,
          "yanchor": "bottom",
          "yref": "paper"
         },
         {
          "font": {
           "size": 16
          },
          "showarrow": false,
          "text": "Número de Actos Realizados",
          "x": 0.775,
          "xanchor": "center",
          "xref": "paper",
          "y": 1,
          "yanchor": "bottom",
          "yref": "paper"
         }
        ],
        "font": {
         "color": "black",
         "family": "Oswald"
        },
        "template": {
         "data": {
          "bar": [
           {
            "error_x": {
             "color": "#2a3f5f"
            },
            "error_y": {
             "color": "#2a3f5f"
            },
            "marker": {
             "line": {
              "color": "#E5ECF6",
              "width": 0.5
             },
             "pattern": {
              "fillmode": "overlay",
              "size": 10,
              "solidity": 0.2
             }
            },
            "type": "bar"
           }
          ],
          "barpolar": [
           {
            "marker": {
             "line": {
              "color": "#E5ECF6",
              "width": 0.5
             },
             "pattern": {
              "fillmode": "overlay",
              "size": 10,
              "solidity": 0.2
             }
            },
            "type": "barpolar"
           }
          ],
          "carpet": [
           {
            "aaxis": {
             "endlinecolor": "#2a3f5f",
             "gridcolor": "white",
             "linecolor": "white",
             "minorgridcolor": "white",
             "startlinecolor": "#2a3f5f"
            },
            "baxis": {
             "endlinecolor": "#2a3f5f",
             "gridcolor": "white",
             "linecolor": "white",
             "minorgridcolor": "white",
             "startlinecolor": "#2a3f5f"
            },
            "type": "carpet"
           }
          ],
          "choropleth": [
           {
            "colorbar": {
             "outlinewidth": 0,
             "ticks": ""
            },
            "type": "choropleth"
           }
          ],
          "contour": [
           {
            "colorbar": {
             "outlinewidth": 0,
             "ticks": ""
            },
            "colorscale": [
             [
              0,
              "#0d0887"
             ],
             [
              0.1111111111111111,
              "#46039f"
             ],
             [
              0.2222222222222222,
              "#7201a8"
             ],
             [
              0.3333333333333333,
              "#9c179e"
             ],
             [
              0.4444444444444444,
              "#bd3786"
             ],
             [
              0.5555555555555556,
              "#d8576b"
             ],
             [
              0.6666666666666666,
              "#ed7953"
             ],
             [
              0.7777777777777778,
              "#fb9f3a"
             ],
             [
              0.8888888888888888,
              "#fdca26"
             ],
             [
              1,
              "#f0f921"
             ]
            ],
            "type": "contour"
           }
          ],
          "contourcarpet": [
           {
            "colorbar": {
             "outlinewidth": 0,
             "ticks": ""
            },
            "type": "contourcarpet"
           }
          ],
          "heatmap": [
           {
            "colorbar": {
             "outlinewidth": 0,
             "ticks": ""
            },
            "colorscale": [
             [
              0,
              "#0d0887"
             ],
             [
              0.1111111111111111,
              "#46039f"
             ],
             [
              0.2222222222222222,
              "#7201a8"
             ],
             [
              0.3333333333333333,
              "#9c179e"
             ],
             [
              0.4444444444444444,
              "#bd3786"
             ],
             [
              0.5555555555555556,
              "#d8576b"
             ],
             [
              0.6666666666666666,
              "#ed7953"
             ],
             [
              0.7777777777777778,
              "#fb9f3a"
             ],
             [
              0.8888888888888888,
              "#fdca26"
             ],
             [
              1,
              "#f0f921"
             ]
            ],
            "type": "heatmap"
           }
          ],
          "histogram": [
           {
            "marker": {
             "pattern": {
              "fillmode": "overlay",
              "size": 10,
              "solidity": 0.2
             }
            },
            "type": "histogram"
           }
          ],
          "histogram2d": [
           {
            "colorbar": {
             "outlinewidth": 0,
             "ticks": ""
            },
            "colorscale": [
             [
              0,
              "#0d0887"
             ],
             [
              0.1111111111111111,
              "#46039f"
             ],
             [
              0.2222222222222222,
              "#7201a8"
             ],
             [
              0.3333333333333333,
              "#9c179e"
             ],
             [
              0.4444444444444444,
              "#bd3786"
             ],
             [
              0.5555555555555556,
              "#d8576b"
             ],
             [
              0.6666666666666666,
              "#ed7953"
             ],
             [
              0.7777777777777778,
              "#fb9f3a"
             ],
             [
              0.8888888888888888,
              "#fdca26"
             ],
             [
              1,
              "#f0f921"
             ]
            ],
            "type": "histogram2d"
           }
          ],
          "histogram2dcontour": [
           {
            "colorbar": {
             "outlinewidth": 0,
             "ticks": ""
            },
            "colorscale": [
             [
              0,
              "#0d0887"
             ],
             [
              0.1111111111111111,
              "#46039f"
             ],
             [
              0.2222222222222222,
              "#7201a8"
             ],
             [
              0.3333333333333333,
              "#9c179e"
             ],
             [
              0.4444444444444444,
              "#bd3786"
             ],
             [
              0.5555555555555556,
              "#d8576b"
             ],
             [
              0.6666666666666666,
              "#ed7953"
             ],
             [
              0.7777777777777778,
              "#fb9f3a"
             ],
             [
              0.8888888888888888,
              "#fdca26"
             ],
             [
              1,
              "#f0f921"
             ]
            ],
            "type": "histogram2dcontour"
           }
          ],
          "mesh3d": [
           {
            "colorbar": {
             "outlinewidth": 0,
             "ticks": ""
            },
            "type": "mesh3d"
           }
          ],
          "parcoords": [
           {
            "line": {
             "colorbar": {
              "outlinewidth": 0,
              "ticks": ""
             }
            },
            "type": "parcoords"
           }
          ],
          "pie": [
           {
            "automargin": true,
            "type": "pie"
           }
          ],
          "scatter": [
           {
            "fillpattern": {
             "fillmode": "overlay",
             "size": 10,
             "solidity": 0.2
            },
            "type": "scatter"
           }
          ],
          "scatter3d": [
           {
            "line": {
             "colorbar": {
              "outlinewidth": 0,
              "ticks": ""
             }
            },
            "marker": {
             "colorbar": {
              "outlinewidth": 0,
              "ticks": ""
             }
            },
            "type": "scatter3d"
           }
          ],
          "scattercarpet": [
           {
            "marker": {
             "colorbar": {
              "outlinewidth": 0,
              "ticks": ""
             }
            },
            "type": "scattercarpet"
           }
          ],
          "scattergeo": [
           {
            "marker": {
             "colorbar": {
              "outlinewidth": 0,
              "ticks": ""
             }
            },
            "type": "scattergeo"
           }
          ],
          "scattergl": [
           {
            "marker": {
             "colorbar": {
              "outlinewidth": 0,
              "ticks": ""
             }
            },
            "type": "scattergl"
           }
          ],
          "scattermap": [
           {
            "marker": {
             "colorbar": {
              "outlinewidth": 0,
              "ticks": ""
             }
            },
            "type": "scattermap"
           }
          ],
          "scattermapbox": [
           {
            "marker": {
             "colorbar": {
              "outlinewidth": 0,
              "ticks": ""
             }
            },
            "type": "scattermapbox"
           }
          ],
          "scatterpolar": [
           {
            "marker": {
             "colorbar": {
              "outlinewidth": 0,
              "ticks": ""
             }
            },
            "type": "scatterpolar"
           }
          ],
          "scatterpolargl": [
           {
            "marker": {
             "colorbar": {
              "outlinewidth": 0,
              "ticks": ""
             }
            },
            "type": "scatterpolargl"
           }
          ],
          "scatterternary": [
           {
            "marker": {
             "colorbar": {
              "outlinewidth": 0,
              "ticks": ""
             }
            },
            "type": "scatterternary"
           }
          ],
          "surface": [
           {
            "colorbar": {
             "outlinewidth": 0,
             "ticks": ""
            },
            "colorscale": [
             [
              0,
              "#0d0887"
             ],
             [
              0.1111111111111111,
              "#46039f"
             ],
             [
              0.2222222222222222,
              "#7201a8"
             ],
             [
              0.3333333333333333,
              "#9c179e"
             ],
             [
              0.4444444444444444,
              "#bd3786"
             ],
             [
              0.5555555555555556,
              "#d8576b"
             ],
             [
              0.6666666666666666,
              "#ed7953"
             ],
             [
              0.7777777777777778,
              "#fb9f3a"
             ],
             [
              0.8888888888888888,
              "#fdca26"
             ],
             [
              1,
              "#f0f921"
             ]
            ],
            "type": "surface"
           }
          ],
          "table": [
           {
            "cells": {
             "fill": {
              "color": "#EBF0F8"
             },
             "line": {
              "color": "white"
             }
            },
            "header": {
             "fill": {
              "color": "#C8D4E3"
             },
             "line": {
              "color": "white"
             }
            },
            "type": "table"
           }
          ]
         },
         "layout": {
          "annotationdefaults": {
           "arrowcolor": "#2a3f5f",
           "arrowhead": 0,
           "arrowwidth": 1
          },
          "autotypenumbers": "strict",
          "coloraxis": {
           "colorbar": {
            "outlinewidth": 0,
            "ticks": ""
           }
          },
          "colorscale": {
           "diverging": [
            [
             0,
             "#8e0152"
            ],
            [
             0.1,
             "#c51b7d"
            ],
            [
             0.2,
             "#de77ae"
            ],
            [
             0.3,
             "#f1b6da"
            ],
            [
             0.4,
             "#fde0ef"
            ],
            [
             0.5,
             "#f7f7f7"
            ],
            [
             0.6,
             "#e6f5d0"
            ],
            [
             0.7,
             "#b8e186"
            ],
            [
             0.8,
             "#7fbc41"
            ],
            [
             0.9,
             "#4d9221"
            ],
            [
             1,
             "#276419"
            ]
           ],
           "sequential": [
            [
             0,
             "#0d0887"
            ],
            [
             0.1111111111111111,
             "#46039f"
            ],
            [
             0.2222222222222222,
             "#7201a8"
            ],
            [
             0.3333333333333333,
             "#9c179e"
            ],
            [
             0.4444444444444444,
             "#bd3786"
            ],
            [
             0.5555555555555556,
             "#d8576b"
            ],
            [
             0.6666666666666666,
             "#ed7953"
            ],
            [
             0.7777777777777778,
             "#fb9f3a"
            ],
            [
             0.8888888888888888,
             "#fdca26"
            ],
            [
             1,
             "#f0f921"
            ]
           ],
           "sequentialminus": [
            [
             0,
             "#0d0887"
            ],
            [
             0.1111111111111111,
             "#46039f"
            ],
            [
             0.2222222222222222,
             "#7201a8"
            ],
            [
             0.3333333333333333,
             "#9c179e"
            ],
            [
             0.4444444444444444,
             "#bd3786"
            ],
            [
             0.5555555555555556,
             "#d8576b"
            ],
            [
             0.6666666666666666,
             "#ed7953"
            ],
            [
             0.7777777777777778,
             "#fb9f3a"
            ],
            [
             0.8888888888888888,
             "#fdca26"
            ],
            [
             1,
             "#f0f921"
            ]
           ]
          },
          "colorway": [
           "#636efa",
           "#EF553B",
           "#00cc96",
           "#ab63fa",
           "#FFA15A",
           "#19d3f3",
           "#FF6692",
           "#B6E880",
           "#FF97FF",
           "#FECB52"
          ],
          "font": {
           "color": "#2a3f5f"
          },
          "geo": {
           "bgcolor": "white",
           "lakecolor": "white",
           "landcolor": "#E5ECF6",
           "showlakes": true,
           "showland": true,
           "subunitcolor": "white"
          },
          "hoverlabel": {
           "align": "left"
          },
          "hovermode": "closest",
          "mapbox": {
           "style": "light"
          },
          "paper_bgcolor": "white",
          "plot_bgcolor": "#E5ECF6",
          "polar": {
           "angularaxis": {
            "gridcolor": "white",
            "linecolor": "white",
            "ticks": ""
           },
           "bgcolor": "#E5ECF6",
           "radialaxis": {
            "gridcolor": "white",
            "linecolor": "white",
            "ticks": ""
           }
          },
          "scene": {
           "xaxis": {
            "backgroundcolor": "#E5ECF6",
            "gridcolor": "white",
            "gridwidth": 2,
            "linecolor": "white",
            "showbackground": true,
            "ticks": "",
            "zerolinecolor": "white"
           },
           "yaxis": {
            "backgroundcolor": "#E5ECF6",
            "gridcolor": "white",
            "gridwidth": 2,
            "linecolor": "white",
            "showbackground": true,
            "ticks": "",
            "zerolinecolor": "white"
           },
           "zaxis": {
            "backgroundcolor": "#E5ECF6",
            "gridcolor": "white",
            "gridwidth": 2,
            "linecolor": "white",
            "showbackground": true,
            "ticks": "",
            "zerolinecolor": "white"
           }
          },
          "shapedefaults": {
           "line": {
            "color": "#2a3f5f"
           }
          },
          "ternary": {
           "aaxis": {
            "gridcolor": "white",
            "linecolor": "white",
            "ticks": ""
           },
           "baxis": {
            "gridcolor": "white",
            "linecolor": "white",
            "ticks": ""
           },
           "bgcolor": "#E5ECF6",
           "caxis": {
            "gridcolor": "white",
            "linecolor": "white",
            "ticks": ""
           }
          },
          "title": {
           "x": 0.05
          },
          "xaxis": {
           "automargin": true,
           "gridcolor": "white",
           "linecolor": "white",
           "ticks": "",
           "title": {
            "standoff": 15
           },
           "zerolinecolor": "white",
           "zerolinewidth": 2
          },
          "yaxis": {
           "automargin": true,
           "gridcolor": "white",
           "linecolor": "white",
           "ticks": "",
           "title": {
            "standoff": 15
           },
           "zerolinecolor": "white",
           "zerolinewidth": 2
          }
         }
        },
        "title": {
         "text": "Ganancias y Actos por Tipo de Tratamiento 2023"
        }
       }
      }
     },
     "metadata": {},
     "output_type": "display_data"
    }
   ],
   "source": [
    "#RENTABILIDAD DE LOS TRATAMIENTOS ESTETICOS CON RESPECTO AL NUMERO DE ACTOS REALIZADOS"
   ]
  },
  {
   "cell_type": "code",
   "execution_count": null,
   "id": "fff5647e",
   "metadata": {},
   "outputs": [
    {
     "data": {
      "application/vnd.plotly.v1+json": {
       "config": {
        "plotlyServerURL": "https://plot.ly"
       },
       "data": [
        {
         "customdata": [
          [
           "CORONA",
           "PRIVADA",
           29,
           26131,
           483.9074074074074,
           true
          ],
          [
           "CORONA",
           "DKV",
           1,
           500,
           500,
           true
          ],
          [
           "CORONA",
           "ASISA",
           1,
           500,
           500,
           true
          ]
         ],
         "hovertemplate": "Tratamiento=%{x}<br>Número de Actos=%{y}<br>category=%{customdata[0]}<br>tarifa=%{customdata[1]}<br>visits=%{customdata[2]}<br>total=%{customdata[3]}<br>precio_uni=%{customdata[4]}<br>estetico=%{customdata[5]}<extra></extra>",
         "legendgroup": "CORONA IMPLANTE",
         "marker": {
          "color": "#19d3f3",
          "pattern": {
           "shape": ""
          }
         },
         "name": "CORONA IMPLANTE",
         "orientation": "v",
         "showlegend": true,
         "textposition": "auto",
         "type": "bar",
         "x": [
          "CORONA IMPLANTE",
          "CORONA IMPLANTE",
          "CORONA IMPLANTE"
         ],
         "xaxis": "x",
         "y": {
          "bdata": "NgEB",
          "dtype": "i1"
         },
         "yaxis": "y"
        },
        {
         "customdata": [
          [
           "CORONA",
           "PRIVADA",
           26,
           11056,
           315.8857142857143,
           true
          ]
         ],
         "hovertemplate": "Tratamiento=%{x}<br>Número de Actos=%{y}<br>category=%{customdata[0]}<br>tarifa=%{customdata[1]}<br>visits=%{customdata[2]}<br>total=%{customdata[3]}<br>precio_uni=%{customdata[4]}<br>estetico=%{customdata[5]}<extra></extra>",
         "legendgroup": "CORONA METAL CERAMICA",
         "marker": {
          "color": "#FF6692",
          "pattern": {
           "shape": ""
          }
         },
         "name": "CORONA METAL CERAMICA",
         "orientation": "v",
         "showlegend": true,
         "textposition": "auto",
         "type": "bar",
         "x": [
          "CORONA METAL CERAMICA"
         ],
         "xaxis": "x",
         "y": {
          "bdata": "Iw==",
          "dtype": "i1"
         },
         "yaxis": "y"
        },
        {
         "customdata": [
          [
           "OBTURACION",
           "PRIVADA",
           27,
           1733,
           64.18518518518519,
           true
          ],
          [
           "OBTURACION",
           "DKV",
           4,
           290,
           72.5,
           true
          ],
          [
           "OBTURACION",
           "ASISA",
           1,
           60,
           60,
           true
          ]
         ],
         "hovertemplate": "Tratamiento=%{x}<br>Número de Actos=%{y}<br>category=%{customdata[0]}<br>tarifa=%{customdata[1]}<br>visits=%{customdata[2]}<br>total=%{customdata[3]}<br>precio_uni=%{customdata[4]}<br>estetico=%{customdata[5]}<extra></extra>",
         "legendgroup": "RECONSTRUCCION COMPOSITE",
         "marker": {
          "color": "#B6E880",
          "pattern": {
           "shape": ""
          }
         },
         "name": "RECONSTRUCCION COMPOSITE",
         "orientation": "v",
         "showlegend": true,
         "textposition": "auto",
         "type": "bar",
         "x": [
          "RECONSTRUCCION COMPOSITE",
          "RECONSTRUCCION COMPOSITE",
          "RECONSTRUCCION COMPOSITE"
         ],
         "xaxis": "x",
         "y": {
          "bdata": "GwQB",
          "dtype": "i1"
         },
         "yaxis": "y"
        },
        {
         "customdata": [
          [
           "ORTODONCIAS",
           "PRIVADA",
           19,
           11543,
           607.5263157894736,
           true
          ]
         ],
         "hovertemplate": "Tratamiento=%{x}<br>Número de Actos=%{y}<br>category=%{customdata[0]}<br>tarifa=%{customdata[1]}<br>visits=%{customdata[2]}<br>total=%{customdata[3]}<br>precio_uni=%{customdata[4]}<br>estetico=%{customdata[5]}<extra></extra>",
         "legendgroup": "BRACKETS METALICOS",
         "marker": {
          "color": "#FF97FF",
          "pattern": {
           "shape": ""
          }
         },
         "name": "BRACKETS METALICOS",
         "orientation": "v",
         "showlegend": true,
         "textposition": "auto",
         "type": "bar",
         "x": [
          "BRACKETS METALICOS"
         ],
         "xaxis": "x",
         "y": {
          "bdata": "Ew==",
          "dtype": "i1"
         },
         "yaxis": "y"
        },
        {
         "customdata": [
          [
           "CORONA",
           "PRIVADA",
           13,
           594,
           33,
           true
          ]
         ],
         "hovertemplate": "Tratamiento=%{x}<br>Número de Actos=%{y}<br>category=%{customdata[0]}<br>tarifa=%{customdata[1]}<br>visits=%{customdata[2]}<br>total=%{customdata[3]}<br>precio_uni=%{customdata[4]}<br>estetico=%{customdata[5]}<extra></extra>",
         "legendgroup": "CORONA RESINA(LABORATORIO)",
         "marker": {
          "color": "#FECB52",
          "pattern": {
           "shape": ""
          }
         },
         "name": "CORONA RESINA(LABORATORIO)",
         "orientation": "v",
         "showlegend": true,
         "textposition": "auto",
         "type": "bar",
         "x": [
          "CORONA RESINA(LABORATORIO)"
         ],
         "xaxis": "x",
         "y": {
          "bdata": "Eg==",
          "dtype": "i1"
         },
         "yaxis": "y"
        },
        {
         "customdata": [
          [
           "CORONA",
           "PRIVADA",
           5,
           3625,
           402.77777777777777,
           true
          ]
         ],
         "hovertemplate": "Tratamiento=%{x}<br>Número de Actos=%{y}<br>category=%{customdata[0]}<br>tarifa=%{customdata[1]}<br>visits=%{customdata[2]}<br>total=%{customdata[3]}<br>precio_uni=%{customdata[4]}<br>estetico=%{customdata[5]}<extra></extra>",
         "legendgroup": "CORONA IMPLANTE ZIRCONIO",
         "marker": {
          "color": "#636efa",
          "pattern": {
           "shape": ""
          }
         },
         "name": "CORONA IMPLANTE ZIRCONIO",
         "orientation": "v",
         "showlegend": true,
         "textposition": "auto",
         "type": "bar",
         "x": [
          "CORONA IMPLANTE ZIRCONIO"
         ],
         "xaxis": "x",
         "y": {
          "bdata": "CQ==",
          "dtype": "i1"
         },
         "yaxis": "y"
        },
        {
         "customdata": [
          [
           "BLANQUEAMIENTO",
           "PRIVADA",
           8,
           2950,
           368.75,
           true
          ]
         ],
         "hovertemplate": "Tratamiento=%{x}<br>Número de Actos=%{y}<br>category=%{customdata[0]}<br>tarifa=%{customdata[1]}<br>visits=%{customdata[2]}<br>total=%{customdata[3]}<br>precio_uni=%{customdata[4]}<br>estetico=%{customdata[5]}<extra></extra>",
         "legendgroup": "BLANQUEAMIENTO PHILIPS ZOOM",
         "marker": {
          "color": "#EF553B",
          "pattern": {
           "shape": ""
          }
         },
         "name": "BLANQUEAMIENTO PHILIPS ZOOM",
         "orientation": "v",
         "showlegend": true,
         "textposition": "auto",
         "type": "bar",
         "x": [
          "BLANQUEAMIENTO PHILIPS ZOOM"
         ],
         "xaxis": "x",
         "y": {
          "bdata": "CA==",
          "dtype": "i1"
         },
         "yaxis": "y"
        },
        {
         "customdata": [
          [
           "ORTODONCIAS",
           "PRIVADA",
           6,
           21350,
           3558.3333333333335,
           true
          ]
         ],
         "hovertemplate": "Tratamiento=%{x}<br>Número de Actos=%{y}<br>category=%{customdata[0]}<br>tarifa=%{customdata[1]}<br>visits=%{customdata[2]}<br>total=%{customdata[3]}<br>precio_uni=%{customdata[4]}<br>estetico=%{customdata[5]}<extra></extra>",
         "legendgroup": "INVISALIGN",
         "marker": {
          "color": "#00cc96",
          "pattern": {
           "shape": ""
          }
         },
         "name": "INVISALIGN",
         "orientation": "v",
         "showlegend": true,
         "textposition": "auto",
         "type": "bar",
         "x": [
          "INVISALIGN"
         ],
         "xaxis": "x",
         "y": {
          "bdata": "Bg==",
          "dtype": "i1"
         },
         "yaxis": "y"
        },
        {
         "customdata": [
          [
           "ORTODONCIAS",
           "PRIVADA",
           3,
           12040,
           4013.3333333333335,
           true
          ]
         ],
         "hovertemplate": "Tratamiento=%{x}<br>Número de Actos=%{y}<br>category=%{customdata[0]}<br>tarifa=%{customdata[1]}<br>visits=%{customdata[2]}<br>total=%{customdata[3]}<br>precio_uni=%{customdata[4]}<br>estetico=%{customdata[5]}<extra></extra>",
         "legendgroup": "BRACKETS ESTETICOS",
         "marker": {
          "color": "#ab63fa",
          "pattern": {
           "shape": ""
          }
         },
         "name": "BRACKETS ESTETICOS",
         "orientation": "v",
         "showlegend": true,
         "textposition": "auto",
         "type": "bar",
         "x": [
          "BRACKETS ESTETICOS"
         ],
         "xaxis": "x",
         "y": {
          "bdata": "Aw==",
          "dtype": "i1"
         },
         "yaxis": "y"
        },
        {
         "customdata": [
          [
           "CORONA",
           "DKV",
           1,
           860,
           860,
           true
          ]
         ],
         "hovertemplate": "Tratamiento=%{x}<br>Número de Actos=%{y}<br>category=%{customdata[0]}<br>tarifa=%{customdata[1]}<br>visits=%{customdata[2]}<br>total=%{customdata[3]}<br>precio_uni=%{customdata[4]}<br>estetico=%{customdata[5]}<extra></extra>",
         "legendgroup": "CORONA TOTAL METAL NOBLE",
         "marker": {
          "color": "#FFA15A",
          "pattern": {
           "shape": ""
          }
         },
         "name": "CORONA TOTAL METAL NOBLE",
         "orientation": "v",
         "showlegend": true,
         "textposition": "auto",
         "type": "bar",
         "x": [
          "CORONA TOTAL METAL NOBLE"
         ],
         "xaxis": "x",
         "y": {
          "bdata": "AQ==",
          "dtype": "i1"
         },
         "yaxis": "y"
        }
       ],
       "layout": {
        "barmode": "relative",
        "font": {
         "color": "black",
         "family": "Oswald"
        },
        "legend": {
         "title": {
          "text": "Tratamiento"
         },
         "tracegroupgap": 0
        },
        "template": {
         "data": {
          "bar": [
           {
            "error_x": {
             "color": "#2a3f5f"
            },
            "error_y": {
             "color": "#2a3f5f"
            },
            "marker": {
             "line": {
              "color": "#E5ECF6",
              "width": 0.5
             },
             "pattern": {
              "fillmode": "overlay",
              "size": 10,
              "solidity": 0.2
             }
            },
            "type": "bar"
           }
          ],
          "barpolar": [
           {
            "marker": {
             "line": {
              "color": "#E5ECF6",
              "width": 0.5
             },
             "pattern": {
              "fillmode": "overlay",
              "size": 10,
              "solidity": 0.2
             }
            },
            "type": "barpolar"
           }
          ],
          "carpet": [
           {
            "aaxis": {
             "endlinecolor": "#2a3f5f",
             "gridcolor": "white",
             "linecolor": "white",
             "minorgridcolor": "white",
             "startlinecolor": "#2a3f5f"
            },
            "baxis": {
             "endlinecolor": "#2a3f5f",
             "gridcolor": "white",
             "linecolor": "white",
             "minorgridcolor": "white",
             "startlinecolor": "#2a3f5f"
            },
            "type": "carpet"
           }
          ],
          "choropleth": [
           {
            "colorbar": {
             "outlinewidth": 0,
             "ticks": ""
            },
            "type": "choropleth"
           }
          ],
          "contour": [
           {
            "colorbar": {
             "outlinewidth": 0,
             "ticks": ""
            },
            "colorscale": [
             [
              0,
              "#0d0887"
             ],
             [
              0.1111111111111111,
              "#46039f"
             ],
             [
              0.2222222222222222,
              "#7201a8"
             ],
             [
              0.3333333333333333,
              "#9c179e"
             ],
             [
              0.4444444444444444,
              "#bd3786"
             ],
             [
              0.5555555555555556,
              "#d8576b"
             ],
             [
              0.6666666666666666,
              "#ed7953"
             ],
             [
              0.7777777777777778,
              "#fb9f3a"
             ],
             [
              0.8888888888888888,
              "#fdca26"
             ],
             [
              1,
              "#f0f921"
             ]
            ],
            "type": "contour"
           }
          ],
          "contourcarpet": [
           {
            "colorbar": {
             "outlinewidth": 0,
             "ticks": ""
            },
            "type": "contourcarpet"
           }
          ],
          "heatmap": [
           {
            "colorbar": {
             "outlinewidth": 0,
             "ticks": ""
            },
            "colorscale": [
             [
              0,
              "#0d0887"
             ],
             [
              0.1111111111111111,
              "#46039f"
             ],
             [
              0.2222222222222222,
              "#7201a8"
             ],
             [
              0.3333333333333333,
              "#9c179e"
             ],
             [
              0.4444444444444444,
              "#bd3786"
             ],
             [
              0.5555555555555556,
              "#d8576b"
             ],
             [
              0.6666666666666666,
              "#ed7953"
             ],
             [
              0.7777777777777778,
              "#fb9f3a"
             ],
             [
              0.8888888888888888,
              "#fdca26"
             ],
             [
              1,
              "#f0f921"
             ]
            ],
            "type": "heatmap"
           }
          ],
          "histogram": [
           {
            "marker": {
             "pattern": {
              "fillmode": "overlay",
              "size": 10,
              "solidity": 0.2
             }
            },
            "type": "histogram"
           }
          ],
          "histogram2d": [
           {
            "colorbar": {
             "outlinewidth": 0,
             "ticks": ""
            },
            "colorscale": [
             [
              0,
              "#0d0887"
             ],
             [
              0.1111111111111111,
              "#46039f"
             ],
             [
              0.2222222222222222,
              "#7201a8"
             ],
             [
              0.3333333333333333,
              "#9c179e"
             ],
             [
              0.4444444444444444,
              "#bd3786"
             ],
             [
              0.5555555555555556,
              "#d8576b"
             ],
             [
              0.6666666666666666,
              "#ed7953"
             ],
             [
              0.7777777777777778,
              "#fb9f3a"
             ],
             [
              0.8888888888888888,
              "#fdca26"
             ],
             [
              1,
              "#f0f921"
             ]
            ],
            "type": "histogram2d"
           }
          ],
          "histogram2dcontour": [
           {
            "colorbar": {
             "outlinewidth": 0,
             "ticks": ""
            },
            "colorscale": [
             [
              0,
              "#0d0887"
             ],
             [
              0.1111111111111111,
              "#46039f"
             ],
             [
              0.2222222222222222,
              "#7201a8"
             ],
             [
              0.3333333333333333,
              "#9c179e"
             ],
             [
              0.4444444444444444,
              "#bd3786"
             ],
             [
              0.5555555555555556,
              "#d8576b"
             ],
             [
              0.6666666666666666,
              "#ed7953"
             ],
             [
              0.7777777777777778,
              "#fb9f3a"
             ],
             [
              0.8888888888888888,
              "#fdca26"
             ],
             [
              1,
              "#f0f921"
             ]
            ],
            "type": "histogram2dcontour"
           }
          ],
          "mesh3d": [
           {
            "colorbar": {
             "outlinewidth": 0,
             "ticks": ""
            },
            "type": "mesh3d"
           }
          ],
          "parcoords": [
           {
            "line": {
             "colorbar": {
              "outlinewidth": 0,
              "ticks": ""
             }
            },
            "type": "parcoords"
           }
          ],
          "pie": [
           {
            "automargin": true,
            "type": "pie"
           }
          ],
          "scatter": [
           {
            "fillpattern": {
             "fillmode": "overlay",
             "size": 10,
             "solidity": 0.2
            },
            "type": "scatter"
           }
          ],
          "scatter3d": [
           {
            "line": {
             "colorbar": {
              "outlinewidth": 0,
              "ticks": ""
             }
            },
            "marker": {
             "colorbar": {
              "outlinewidth": 0,
              "ticks": ""
             }
            },
            "type": "scatter3d"
           }
          ],
          "scattercarpet": [
           {
            "marker": {
             "colorbar": {
              "outlinewidth": 0,
              "ticks": ""
             }
            },
            "type": "scattercarpet"
           }
          ],
          "scattergeo": [
           {
            "marker": {
             "colorbar": {
              "outlinewidth": 0,
              "ticks": ""
             }
            },
            "type": "scattergeo"
           }
          ],
          "scattergl": [
           {
            "marker": {
             "colorbar": {
              "outlinewidth": 0,
              "ticks": ""
             }
            },
            "type": "scattergl"
           }
          ],
          "scattermap": [
           {
            "marker": {
             "colorbar": {
              "outlinewidth": 0,
              "ticks": ""
             }
            },
            "type": "scattermap"
           }
          ],
          "scattermapbox": [
           {
            "marker": {
             "colorbar": {
              "outlinewidth": 0,
              "ticks": ""
             }
            },
            "type": "scattermapbox"
           }
          ],
          "scatterpolar": [
           {
            "marker": {
             "colorbar": {
              "outlinewidth": 0,
              "ticks": ""
             }
            },
            "type": "scatterpolar"
           }
          ],
          "scatterpolargl": [
           {
            "marker": {
             "colorbar": {
              "outlinewidth": 0,
              "ticks": ""
             }
            },
            "type": "scatterpolargl"
           }
          ],
          "scatterternary": [
           {
            "marker": {
             "colorbar": {
              "outlinewidth": 0,
              "ticks": ""
             }
            },
            "type": "scatterternary"
           }
          ],
          "surface": [
           {
            "colorbar": {
             "outlinewidth": 0,
             "ticks": ""
            },
            "colorscale": [
             [
              0,
              "#0d0887"
             ],
             [
              0.1111111111111111,
              "#46039f"
             ],
             [
              0.2222222222222222,
              "#7201a8"
             ],
             [
              0.3333333333333333,
              "#9c179e"
             ],
             [
              0.4444444444444444,
              "#bd3786"
             ],
             [
              0.5555555555555556,
              "#d8576b"
             ],
             [
              0.6666666666666666,
              "#ed7953"
             ],
             [
              0.7777777777777778,
              "#fb9f3a"
             ],
             [
              0.8888888888888888,
              "#fdca26"
             ],
             [
              1,
              "#f0f921"
             ]
            ],
            "type": "surface"
           }
          ],
          "table": [
           {
            "cells": {
             "fill": {
              "color": "#EBF0F8"
             },
             "line": {
              "color": "white"
             }
            },
            "header": {
             "fill": {
              "color": "#C8D4E3"
             },
             "line": {
              "color": "white"
             }
            },
            "type": "table"
           }
          ]
         },
         "layout": {
          "annotationdefaults": {
           "arrowcolor": "#2a3f5f",
           "arrowhead": 0,
           "arrowwidth": 1
          },
          "autotypenumbers": "strict",
          "coloraxis": {
           "colorbar": {
            "outlinewidth": 0,
            "ticks": ""
           }
          },
          "colorscale": {
           "diverging": [
            [
             0,
             "#8e0152"
            ],
            [
             0.1,
             "#c51b7d"
            ],
            [
             0.2,
             "#de77ae"
            ],
            [
             0.3,
             "#f1b6da"
            ],
            [
             0.4,
             "#fde0ef"
            ],
            [
             0.5,
             "#f7f7f7"
            ],
            [
             0.6,
             "#e6f5d0"
            ],
            [
             0.7,
             "#b8e186"
            ],
            [
             0.8,
             "#7fbc41"
            ],
            [
             0.9,
             "#4d9221"
            ],
            [
             1,
             "#276419"
            ]
           ],
           "sequential": [
            [
             0,
             "#0d0887"
            ],
            [
             0.1111111111111111,
             "#46039f"
            ],
            [
             0.2222222222222222,
             "#7201a8"
            ],
            [
             0.3333333333333333,
             "#9c179e"
            ],
            [
             0.4444444444444444,
             "#bd3786"
            ],
            [
             0.5555555555555556,
             "#d8576b"
            ],
            [
             0.6666666666666666,
             "#ed7953"
            ],
            [
             0.7777777777777778,
             "#fb9f3a"
            ],
            [
             0.8888888888888888,
             "#fdca26"
            ],
            [
             1,
             "#f0f921"
            ]
           ],
           "sequentialminus": [
            [
             0,
             "#0d0887"
            ],
            [
             0.1111111111111111,
             "#46039f"
            ],
            [
             0.2222222222222222,
             "#7201a8"
            ],
            [
             0.3333333333333333,
             "#9c179e"
            ],
            [
             0.4444444444444444,
             "#bd3786"
            ],
            [
             0.5555555555555556,
             "#d8576b"
            ],
            [
             0.6666666666666666,
             "#ed7953"
            ],
            [
             0.7777777777777778,
             "#fb9f3a"
            ],
            [
             0.8888888888888888,
             "#fdca26"
            ],
            [
             1,
             "#f0f921"
            ]
           ]
          },
          "colorway": [
           "#636efa",
           "#EF553B",
           "#00cc96",
           "#ab63fa",
           "#FFA15A",
           "#19d3f3",
           "#FF6692",
           "#B6E880",
           "#FF97FF",
           "#FECB52"
          ],
          "font": {
           "color": "#2a3f5f"
          },
          "geo": {
           "bgcolor": "white",
           "lakecolor": "white",
           "landcolor": "#E5ECF6",
           "showlakes": true,
           "showland": true,
           "subunitcolor": "white"
          },
          "hoverlabel": {
           "align": "left"
          },
          "hovermode": "closest",
          "mapbox": {
           "style": "light"
          },
          "paper_bgcolor": "white",
          "plot_bgcolor": "#E5ECF6",
          "polar": {
           "angularaxis": {
            "gridcolor": "white",
            "linecolor": "white",
            "ticks": ""
           },
           "bgcolor": "#E5ECF6",
           "radialaxis": {
            "gridcolor": "white",
            "linecolor": "white",
            "ticks": ""
           }
          },
          "scene": {
           "xaxis": {
            "backgroundcolor": "#E5ECF6",
            "gridcolor": "white",
            "gridwidth": 2,
            "linecolor": "white",
            "showbackground": true,
            "ticks": "",
            "zerolinecolor": "white"
           },
           "yaxis": {
            "backgroundcolor": "#E5ECF6",
            "gridcolor": "white",
            "gridwidth": 2,
            "linecolor": "white",
            "showbackground": true,
            "ticks": "",
            "zerolinecolor": "white"
           },
           "zaxis": {
            "backgroundcolor": "#E5ECF6",
            "gridcolor": "white",
            "gridwidth": 2,
            "linecolor": "white",
            "showbackground": true,
            "ticks": "",
            "zerolinecolor": "white"
           }
          },
          "shapedefaults": {
           "line": {
            "color": "#2a3f5f"
           }
          },
          "ternary": {
           "aaxis": {
            "gridcolor": "white",
            "linecolor": "white",
            "ticks": ""
           },
           "baxis": {
            "gridcolor": "white",
            "linecolor": "white",
            "ticks": ""
           },
           "bgcolor": "#E5ECF6",
           "caxis": {
            "gridcolor": "white",
            "linecolor": "white",
            "ticks": ""
           }
          },
          "title": {
           "x": 0.05
          },
          "xaxis": {
           "automargin": true,
           "gridcolor": "white",
           "linecolor": "white",
           "ticks": "",
           "title": {
            "standoff": 15
           },
           "zerolinecolor": "white",
           "zerolinewidth": 2
          },
          "yaxis": {
           "automargin": true,
           "gridcolor": "white",
           "linecolor": "white",
           "ticks": "",
           "title": {
            "standoff": 15
           },
           "zerolinecolor": "white",
           "zerolinewidth": 2
          }
         }
        },
        "title": {
         "font": {
          "color": "black",
          "family": "Oswald"
         },
         "text": "Número de Actos por Tratamiento Estético 2023"
        },
        "xaxis": {
         "anchor": "y",
         "categoryarray": [
          "CORONA IMPLANTE",
          "CORONA METAL CERAMICA",
          "RECONSTRUCCION COMPOSITE",
          "BRACKETS METALICOS",
          "CORONA RESINA(LABORATORIO)",
          "CORONA IMPLANTE ZIRCONIO",
          "BLANQUEAMIENTO PHILIPS ZOOM",
          "INVISALIGN",
          "BRACKETS ESTETICOS",
          "CORONA TOTAL METAL NOBLE"
         ],
         "categoryorder": "array",
         "domain": [
          0,
          1
         ],
         "tickangle": 45,
         "title": {
          "text": "Tratamiento"
         }
        },
        "yaxis": {
         "anchor": "x",
         "domain": [
          0,
          1
         ],
         "title": {
          "text": "Número de Actos"
         }
        }
       }
      }
     },
     "metadata": {},
     "output_type": "display_data"
    }
   ],
   "source": [
    "#NUMERO DE ACTOS DE TRATAMIENTOS ESTETICO"
   ]
  },
  {
   "cell_type": "code",
   "execution_count": null,
   "id": "a2520353",
   "metadata": {},
   "outputs": [
    {
     "data": {
      "application/vnd.plotly.v1+json": {
       "config": {
        "plotlyServerURL": "https://plot.ly"
       },
       "data": [
        {
         "hoverinfo": "label+percent",
         "insidetextorientation": "radial",
         "labels": [
          "BLANQUEAMIENTO PHILIPS ZOOM",
          "BRACKETS ESTETICOS",
          "BRACKETS METALICOS",
          "CORONA IMPLANTE",
          "CORONA IMPLANTE ZIRCONIO",
          "CORONA METAL CERAMICA",
          "CORONA RESINA(LABORATORIO)",
          "CORONA TOTAL METAL NOBLE",
          "INVISALIGN",
          "RECONSTRUCCION COMPOSITE"
         ],
         "marker": {
          "colors": [
           "#FF8C00",
           "#FF4D4D",
           "#FF6F59",
           "#87CEEB",
           "#6BB97A",
           "#FFD93D",
           "#FF7F50",
           "#FF6B6B",
           "#FFCD00",
           "#8A2BE2"
          ]
         },
         "textinfo": "percent",
         "type": "pie",
         "values": {
          "bdata": "O/3UsC1QCUCMsmCN+tMpQIti/9kKwyhA0bc457sZPUACtfhh7hoPQMPkIwWZtydAZ3KcHUpj5D+g8EkPjITtP1MbBmdd5jZAdTTyParfAUA=",
          "dtype": "f8"
         }
        }
       ],
       "layout": {
        "font": {
         "color": "black",
         "family": "Oswald, sans-serif"
        },
        "template": {
         "data": {
          "bar": [
           {
            "error_x": {
             "color": "#2a3f5f"
            },
            "error_y": {
             "color": "#2a3f5f"
            },
            "marker": {
             "line": {
              "color": "#E5ECF6",
              "width": 0.5
             },
             "pattern": {
              "fillmode": "overlay",
              "size": 10,
              "solidity": 0.2
             }
            },
            "type": "bar"
           }
          ],
          "barpolar": [
           {
            "marker": {
             "line": {
              "color": "#E5ECF6",
              "width": 0.5
             },
             "pattern": {
              "fillmode": "overlay",
              "size": 10,
              "solidity": 0.2
             }
            },
            "type": "barpolar"
           }
          ],
          "carpet": [
           {
            "aaxis": {
             "endlinecolor": "#2a3f5f",
             "gridcolor": "white",
             "linecolor": "white",
             "minorgridcolor": "white",
             "startlinecolor": "#2a3f5f"
            },
            "baxis": {
             "endlinecolor": "#2a3f5f",
             "gridcolor": "white",
             "linecolor": "white",
             "minorgridcolor": "white",
             "startlinecolor": "#2a3f5f"
            },
            "type": "carpet"
           }
          ],
          "choropleth": [
           {
            "colorbar": {
             "outlinewidth": 0,
             "ticks": ""
            },
            "type": "choropleth"
           }
          ],
          "contour": [
           {
            "colorbar": {
             "outlinewidth": 0,
             "ticks": ""
            },
            "colorscale": [
             [
              0,
              "#0d0887"
             ],
             [
              0.1111111111111111,
              "#46039f"
             ],
             [
              0.2222222222222222,
              "#7201a8"
             ],
             [
              0.3333333333333333,
              "#9c179e"
             ],
             [
              0.4444444444444444,
              "#bd3786"
             ],
             [
              0.5555555555555556,
              "#d8576b"
             ],
             [
              0.6666666666666666,
              "#ed7953"
             ],
             [
              0.7777777777777778,
              "#fb9f3a"
             ],
             [
              0.8888888888888888,
              "#fdca26"
             ],
             [
              1,
              "#f0f921"
             ]
            ],
            "type": "contour"
           }
          ],
          "contourcarpet": [
           {
            "colorbar": {
             "outlinewidth": 0,
             "ticks": ""
            },
            "type": "contourcarpet"
           }
          ],
          "heatmap": [
           {
            "colorbar": {
             "outlinewidth": 0,
             "ticks": ""
            },
            "colorscale": [
             [
              0,
              "#0d0887"
             ],
             [
              0.1111111111111111,
              "#46039f"
             ],
             [
              0.2222222222222222,
              "#7201a8"
             ],
             [
              0.3333333333333333,
              "#9c179e"
             ],
             [
              0.4444444444444444,
              "#bd3786"
             ],
             [
              0.5555555555555556,
              "#d8576b"
             ],
             [
              0.6666666666666666,
              "#ed7953"
             ],
             [
              0.7777777777777778,
              "#fb9f3a"
             ],
             [
              0.8888888888888888,
              "#fdca26"
             ],
             [
              1,
              "#f0f921"
             ]
            ],
            "type": "heatmap"
           }
          ],
          "histogram": [
           {
            "marker": {
             "pattern": {
              "fillmode": "overlay",
              "size": 10,
              "solidity": 0.2
             }
            },
            "type": "histogram"
           }
          ],
          "histogram2d": [
           {
            "colorbar": {
             "outlinewidth": 0,
             "ticks": ""
            },
            "colorscale": [
             [
              0,
              "#0d0887"
             ],
             [
              0.1111111111111111,
              "#46039f"
             ],
             [
              0.2222222222222222,
              "#7201a8"
             ],
             [
              0.3333333333333333,
              "#9c179e"
             ],
             [
              0.4444444444444444,
              "#bd3786"
             ],
             [
              0.5555555555555556,
              "#d8576b"
             ],
             [
              0.6666666666666666,
              "#ed7953"
             ],
             [
              0.7777777777777778,
              "#fb9f3a"
             ],
             [
              0.8888888888888888,
              "#fdca26"
             ],
             [
              1,
              "#f0f921"
             ]
            ],
            "type": "histogram2d"
           }
          ],
          "histogram2dcontour": [
           {
            "colorbar": {
             "outlinewidth": 0,
             "ticks": ""
            },
            "colorscale": [
             [
              0,
              "#0d0887"
             ],
             [
              0.1111111111111111,
              "#46039f"
             ],
             [
              0.2222222222222222,
              "#7201a8"
             ],
             [
              0.3333333333333333,
              "#9c179e"
             ],
             [
              0.4444444444444444,
              "#bd3786"
             ],
             [
              0.5555555555555556,
              "#d8576b"
             ],
             [
              0.6666666666666666,
              "#ed7953"
             ],
             [
              0.7777777777777778,
              "#fb9f3a"
             ],
             [
              0.8888888888888888,
              "#fdca26"
             ],
             [
              1,
              "#f0f921"
             ]
            ],
            "type": "histogram2dcontour"
           }
          ],
          "mesh3d": [
           {
            "colorbar": {
             "outlinewidth": 0,
             "ticks": ""
            },
            "type": "mesh3d"
           }
          ],
          "parcoords": [
           {
            "line": {
             "colorbar": {
              "outlinewidth": 0,
              "ticks": ""
             }
            },
            "type": "parcoords"
           }
          ],
          "pie": [
           {
            "automargin": true,
            "type": "pie"
           }
          ],
          "scatter": [
           {
            "fillpattern": {
             "fillmode": "overlay",
             "size": 10,
             "solidity": 0.2
            },
            "type": "scatter"
           }
          ],
          "scatter3d": [
           {
            "line": {
             "colorbar": {
              "outlinewidth": 0,
              "ticks": ""
             }
            },
            "marker": {
             "colorbar": {
              "outlinewidth": 0,
              "ticks": ""
             }
            },
            "type": "scatter3d"
           }
          ],
          "scattercarpet": [
           {
            "marker": {
             "colorbar": {
              "outlinewidth": 0,
              "ticks": ""
             }
            },
            "type": "scattercarpet"
           }
          ],
          "scattergeo": [
           {
            "marker": {
             "colorbar": {
              "outlinewidth": 0,
              "ticks": ""
             }
            },
            "type": "scattergeo"
           }
          ],
          "scattergl": [
           {
            "marker": {
             "colorbar": {
              "outlinewidth": 0,
              "ticks": ""
             }
            },
            "type": "scattergl"
           }
          ],
          "scattermap": [
           {
            "marker": {
             "colorbar": {
              "outlinewidth": 0,
              "ticks": ""
             }
            },
            "type": "scattermap"
           }
          ],
          "scattermapbox": [
           {
            "marker": {
             "colorbar": {
              "outlinewidth": 0,
              "ticks": ""
             }
            },
            "type": "scattermapbox"
           }
          ],
          "scatterpolar": [
           {
            "marker": {
             "colorbar": {
              "outlinewidth": 0,
              "ticks": ""
             }
            },
            "type": "scatterpolar"
           }
          ],
          "scatterpolargl": [
           {
            "marker": {
             "colorbar": {
              "outlinewidth": 0,
              "ticks": ""
             }
            },
            "type": "scatterpolargl"
           }
          ],
          "scatterternary": [
           {
            "marker": {
             "colorbar": {
              "outlinewidth": 0,
              "ticks": ""
             }
            },
            "type": "scatterternary"
           }
          ],
          "surface": [
           {
            "colorbar": {
             "outlinewidth": 0,
             "ticks": ""
            },
            "colorscale": [
             [
              0,
              "#0d0887"
             ],
             [
              0.1111111111111111,
              "#46039f"
             ],
             [
              0.2222222222222222,
              "#7201a8"
             ],
             [
              0.3333333333333333,
              "#9c179e"
             ],
             [
              0.4444444444444444,
              "#bd3786"
             ],
             [
              0.5555555555555556,
              "#d8576b"
             ],
             [
              0.6666666666666666,
              "#ed7953"
             ],
             [
              0.7777777777777778,
              "#fb9f3a"
             ],
             [
              0.8888888888888888,
              "#fdca26"
             ],
             [
              1,
              "#f0f921"
             ]
            ],
            "type": "surface"
           }
          ],
          "table": [
           {
            "cells": {
             "fill": {
              "color": "#EBF0F8"
             },
             "line": {
              "color": "white"
             }
            },
            "header": {
             "fill": {
              "color": "#C8D4E3"
             },
             "line": {
              "color": "white"
             }
            },
            "type": "table"
           }
          ]
         },
         "layout": {
          "annotationdefaults": {
           "arrowcolor": "#2a3f5f",
           "arrowhead": 0,
           "arrowwidth": 1
          },
          "autotypenumbers": "strict",
          "coloraxis": {
           "colorbar": {
            "outlinewidth": 0,
            "ticks": ""
           }
          },
          "colorscale": {
           "diverging": [
            [
             0,
             "#8e0152"
            ],
            [
             0.1,
             "#c51b7d"
            ],
            [
             0.2,
             "#de77ae"
            ],
            [
             0.3,
             "#f1b6da"
            ],
            [
             0.4,
             "#fde0ef"
            ],
            [
             0.5,
             "#f7f7f7"
            ],
            [
             0.6,
             "#e6f5d0"
            ],
            [
             0.7,
             "#b8e186"
            ],
            [
             0.8,
             "#7fbc41"
            ],
            [
             0.9,
             "#4d9221"
            ],
            [
             1,
             "#276419"
            ]
           ],
           "sequential": [
            [
             0,
             "#0d0887"
            ],
            [
             0.1111111111111111,
             "#46039f"
            ],
            [
             0.2222222222222222,
             "#7201a8"
            ],
            [
             0.3333333333333333,
             "#9c179e"
            ],
            [
             0.4444444444444444,
             "#bd3786"
            ],
            [
             0.5555555555555556,
             "#d8576b"
            ],
            [
             0.6666666666666666,
             "#ed7953"
            ],
            [
             0.7777777777777778,
             "#fb9f3a"
            ],
            [
             0.8888888888888888,
             "#fdca26"
            ],
            [
             1,
             "#f0f921"
            ]
           ],
           "sequentialminus": [
            [
             0,
             "#0d0887"
            ],
            [
             0.1111111111111111,
             "#46039f"
            ],
            [
             0.2222222222222222,
             "#7201a8"
            ],
            [
             0.3333333333333333,
             "#9c179e"
            ],
            [
             0.4444444444444444,
             "#bd3786"
            ],
            [
             0.5555555555555556,
             "#d8576b"
            ],
            [
             0.6666666666666666,
             "#ed7953"
            ],
            [
             0.7777777777777778,
             "#fb9f3a"
            ],
            [
             0.8888888888888888,
             "#fdca26"
            ],
            [
             1,
             "#f0f921"
            ]
           ]
          },
          "colorway": [
           "#636efa",
           "#EF553B",
           "#00cc96",
           "#ab63fa",
           "#FFA15A",
           "#19d3f3",
           "#FF6692",
           "#B6E880",
           "#FF97FF",
           "#FECB52"
          ],
          "font": {
           "color": "#2a3f5f"
          },
          "geo": {
           "bgcolor": "white",
           "lakecolor": "white",
           "landcolor": "#E5ECF6",
           "showlakes": true,
           "showland": true,
           "subunitcolor": "white"
          },
          "hoverlabel": {
           "align": "left"
          },
          "hovermode": "closest",
          "mapbox": {
           "style": "light"
          },
          "paper_bgcolor": "white",
          "plot_bgcolor": "#E5ECF6",
          "polar": {
           "angularaxis": {
            "gridcolor": "white",
            "linecolor": "white",
            "ticks": ""
           },
           "bgcolor": "#E5ECF6",
           "radialaxis": {
            "gridcolor": "white",
            "linecolor": "white",
            "ticks": ""
           }
          },
          "scene": {
           "xaxis": {
            "backgroundcolor": "#E5ECF6",
            "gridcolor": "white",
            "gridwidth": 2,
            "linecolor": "white",
            "showbackground": true,
            "ticks": "",
            "zerolinecolor": "white"
           },
           "yaxis": {
            "backgroundcolor": "#E5ECF6",
            "gridcolor": "white",
            "gridwidth": 2,
            "linecolor": "white",
            "showbackground": true,
            "ticks": "",
            "zerolinecolor": "white"
           },
           "zaxis": {
            "backgroundcolor": "#E5ECF6",
            "gridcolor": "white",
            "gridwidth": 2,
            "linecolor": "white",
            "showbackground": true,
            "ticks": "",
            "zerolinecolor": "white"
           }
          },
          "shapedefaults": {
           "line": {
            "color": "#2a3f5f"
           }
          },
          "ternary": {
           "aaxis": {
            "gridcolor": "white",
            "linecolor": "white",
            "ticks": ""
           },
           "baxis": {
            "gridcolor": "white",
            "linecolor": "white",
            "ticks": ""
           },
           "bgcolor": "#E5ECF6",
           "caxis": {
            "gridcolor": "white",
            "linecolor": "white",
            "ticks": ""
           }
          },
          "title": {
           "x": 0.05
          },
          "xaxis": {
           "automargin": true,
           "gridcolor": "white",
           "linecolor": "white",
           "ticks": "",
           "title": {
            "standoff": 15
           },
           "zerolinecolor": "white",
           "zerolinewidth": 2
          },
          "yaxis": {
           "automargin": true,
           "gridcolor": "white",
           "linecolor": "white",
           "ticks": "",
           "title": {
            "standoff": 15
           },
           "zerolinecolor": "white",
           "zerolinewidth": 2
          }
         }
        },
        "title": {
         "text": "Porcentaje de Ganancia por Tratamiento Estético 2023"
        }
       }
      }
     },
     "metadata": {},
     "output_type": "display_data"
    }
   ],
   "source": [
    "#PORCENTAJE DE GANANCIA RELATIVO AL TOTAL DE TRATAMIENTOS ESTETICOS"
   ]
  },
  {
   "cell_type": "code",
   "execution_count": null,
   "id": "d5b4aa50",
   "metadata": {},
   "outputs": [
    {
     "data": {
      "application/vnd.plotly.v1+json": {
       "config": {
        "plotlyServerURL": "https://plot.ly"
       },
       "data": [
        {
         "customdata": [
          [
           "CORONA",
           "PRIVADA",
           45,
           17796,
           301.6271186440678,
           true
          ]
         ],
         "hovertemplate": "Tratamiento=%{x}<br>Número de Actos=%{y}<br>category=%{customdata[0]}<br>tarifa=%{customdata[1]}<br>visits=%{customdata[2]}<br>total=%{customdata[3]}<br>precio_uni=%{customdata[4]}<br>estetico=%{customdata[5]}<extra></extra>",
         "legendgroup": "CORONA METAL CERAMICA",
         "marker": {
          "color": "#19d3f3",
          "pattern": {
           "shape": ""
          }
         },
         "name": "CORONA METAL CERAMICA",
         "orientation": "v",
         "showlegend": true,
         "textposition": "auto",
         "type": "bar",
         "x": [
          "CORONA METAL CERAMICA"
         ],
         "xaxis": "x",
         "y": {
          "bdata": "Ow==",
          "dtype": "i1"
         },
         "yaxis": "y"
        },
        {
         "customdata": [
          [
           "CORONA",
           "PRIVADA",
           40,
           22135,
           417.64150943396226,
           true
          ]
         ],
         "hovertemplate": "Tratamiento=%{x}<br>Número de Actos=%{y}<br>category=%{customdata[0]}<br>tarifa=%{customdata[1]}<br>visits=%{customdata[2]}<br>total=%{customdata[3]}<br>precio_uni=%{customdata[4]}<br>estetico=%{customdata[5]}<extra></extra>",
         "legendgroup": "CORONA IMPLANTE",
         "marker": {
          "color": "#FF6692",
          "pattern": {
           "shape": ""
          }
         },
         "name": "CORONA IMPLANTE",
         "orientation": "v",
         "showlegend": true,
         "textposition": "auto",
         "type": "bar",
         "x": [
          "CORONA IMPLANTE"
         ],
         "xaxis": "x",
         "y": {
          "bdata": "NQ==",
          "dtype": "i1"
         },
         "yaxis": "y"
        },
        {
         "customdata": [
          [
           "ORTODONCIAS",
           "PRIVADA",
           25,
           3828,
           153.12,
           true
          ]
         ],
         "hovertemplate": "Tratamiento=%{x}<br>Número de Actos=%{y}<br>category=%{customdata[0]}<br>tarifa=%{customdata[1]}<br>visits=%{customdata[2]}<br>total=%{customdata[3]}<br>precio_uni=%{customdata[4]}<br>estetico=%{customdata[5]}<extra></extra>",
         "legendgroup": "BRACKETS METALICOS",
         "marker": {
          "color": "#B6E880",
          "pattern": {
           "shape": ""
          }
         },
         "name": "BRACKETS METALICOS",
         "orientation": "v",
         "showlegend": true,
         "textposition": "auto",
         "type": "bar",
         "x": [
          "BRACKETS METALICOS"
         ],
         "xaxis": "x",
         "y": {
          "bdata": "GQ==",
          "dtype": "i1"
         },
         "yaxis": "y"
        },
        {
         "customdata": [
          [
           "CORONA",
           "PRIVADA",
           19,
           858,
           40.857142857142854,
           true
          ]
         ],
         "hovertemplate": "Tratamiento=%{x}<br>Número de Actos=%{y}<br>category=%{customdata[0]}<br>tarifa=%{customdata[1]}<br>visits=%{customdata[2]}<br>total=%{customdata[3]}<br>precio_uni=%{customdata[4]}<br>estetico=%{customdata[5]}<extra></extra>",
         "legendgroup": "CORONA RESINA(LABORATORIO)",
         "marker": {
          "color": "#FF97FF",
          "pattern": {
           "shape": ""
          }
         },
         "name": "CORONA RESINA(LABORATORIO)",
         "orientation": "v",
         "showlegend": true,
         "textposition": "auto",
         "type": "bar",
         "x": [
          "CORONA RESINA(LABORATORIO)"
         ],
         "xaxis": "x",
         "y": {
          "bdata": "FQ==",
          "dtype": "i1"
         },
         "yaxis": "y"
        },
        {
         "customdata": [
          [
           "BLANQUEAMIENTO",
           "PRIVADA",
           7,
           2210,
           315.7142857142857,
           true
          ]
         ],
         "hovertemplate": "Tratamiento=%{x}<br>Número de Actos=%{y}<br>category=%{customdata[0]}<br>tarifa=%{customdata[1]}<br>visits=%{customdata[2]}<br>total=%{customdata[3]}<br>precio_uni=%{customdata[4]}<br>estetico=%{customdata[5]}<extra></extra>",
         "legendgroup": "BLANQUEAMIENTO PHILIPS ZOOM",
         "marker": {
          "color": "#FECB52",
          "pattern": {
           "shape": ""
          }
         },
         "name": "BLANQUEAMIENTO PHILIPS ZOOM",
         "orientation": "v",
         "showlegend": true,
         "textposition": "auto",
         "type": "bar",
         "x": [
          "BLANQUEAMIENTO PHILIPS ZOOM"
         ],
         "xaxis": "x",
         "y": {
          "bdata": "Bw==",
          "dtype": "i1"
         },
         "yaxis": "y"
        },
        {
         "customdata": [
          [
           "ORTODONCIAS",
           "PRIVADA",
           5,
           22900,
           4580,
           true
          ]
         ],
         "hovertemplate": "Tratamiento=%{x}<br>Número de Actos=%{y}<br>category=%{customdata[0]}<br>tarifa=%{customdata[1]}<br>visits=%{customdata[2]}<br>total=%{customdata[3]}<br>precio_uni=%{customdata[4]}<br>estetico=%{customdata[5]}<extra></extra>",
         "legendgroup": "INVISALIGN",
         "marker": {
          "color": "#636efa",
          "pattern": {
           "shape": ""
          }
         },
         "name": "INVISALIGN",
         "orientation": "v",
         "showlegend": true,
         "textposition": "auto",
         "type": "bar",
         "x": [
          "INVISALIGN"
         ],
         "xaxis": "x",
         "y": {
          "bdata": "BQ==",
          "dtype": "i1"
         },
         "yaxis": "y"
        },
        {
         "customdata": [
          [
           "CORONA",
           "PRIVADA",
           1,
           439,
           439,
           true
          ]
         ],
         "hovertemplate": "Tratamiento=%{x}<br>Número de Actos=%{y}<br>category=%{customdata[0]}<br>tarifa=%{customdata[1]}<br>visits=%{customdata[2]}<br>total=%{customdata[3]}<br>precio_uni=%{customdata[4]}<br>estetico=%{customdata[5]}<extra></extra>",
         "legendgroup": "CORONA IMPLANTE ZIRCONIO",
         "marker": {
          "color": "#EF553B",
          "pattern": {
           "shape": ""
          }
         },
         "name": "CORONA IMPLANTE ZIRCONIO",
         "orientation": "v",
         "showlegend": true,
         "textposition": "auto",
         "type": "bar",
         "x": [
          "CORONA IMPLANTE ZIRCONIO"
         ],
         "xaxis": "x",
         "y": {
          "bdata": "AQ==",
          "dtype": "i1"
         },
         "yaxis": "y"
        },
        {
         "customdata": [
          [
           "ORTODONCIAS",
           "PRIVADA",
           1,
           29,
           29,
           true
          ]
         ],
         "hovertemplate": "Tratamiento=%{x}<br>Número de Actos=%{y}<br>category=%{customdata[0]}<br>tarifa=%{customdata[1]}<br>visits=%{customdata[2]}<br>total=%{customdata[3]}<br>precio_uni=%{customdata[4]}<br>estetico=%{customdata[5]}<extra></extra>",
         "legendgroup": "BRACKETS ESTETICOS",
         "marker": {
          "color": "#00cc96",
          "pattern": {
           "shape": ""
          }
         },
         "name": "BRACKETS ESTETICOS",
         "orientation": "v",
         "showlegend": true,
         "textposition": "auto",
         "type": "bar",
         "x": [
          "BRACKETS ESTETICOS"
         ],
         "xaxis": "x",
         "y": {
          "bdata": "AQ==",
          "dtype": "i1"
         },
         "yaxis": "y"
        }
       ],
       "layout": {
        "barmode": "relative",
        "font": {
         "color": "black",
         "family": "Oswald"
        },
        "legend": {
         "title": {
          "text": "Tratamiento"
         },
         "tracegroupgap": 0
        },
        "template": {
         "data": {
          "bar": [
           {
            "error_x": {
             "color": "#2a3f5f"
            },
            "error_y": {
             "color": "#2a3f5f"
            },
            "marker": {
             "line": {
              "color": "#E5ECF6",
              "width": 0.5
             },
             "pattern": {
              "fillmode": "overlay",
              "size": 10,
              "solidity": 0.2
             }
            },
            "type": "bar"
           }
          ],
          "barpolar": [
           {
            "marker": {
             "line": {
              "color": "#E5ECF6",
              "width": 0.5
             },
             "pattern": {
              "fillmode": "overlay",
              "size": 10,
              "solidity": 0.2
             }
            },
            "type": "barpolar"
           }
          ],
          "carpet": [
           {
            "aaxis": {
             "endlinecolor": "#2a3f5f",
             "gridcolor": "white",
             "linecolor": "white",
             "minorgridcolor": "white",
             "startlinecolor": "#2a3f5f"
            },
            "baxis": {
             "endlinecolor": "#2a3f5f",
             "gridcolor": "white",
             "linecolor": "white",
             "minorgridcolor": "white",
             "startlinecolor": "#2a3f5f"
            },
            "type": "carpet"
           }
          ],
          "choropleth": [
           {
            "colorbar": {
             "outlinewidth": 0,
             "ticks": ""
            },
            "type": "choropleth"
           }
          ],
          "contour": [
           {
            "colorbar": {
             "outlinewidth": 0,
             "ticks": ""
            },
            "colorscale": [
             [
              0,
              "#0d0887"
             ],
             [
              0.1111111111111111,
              "#46039f"
             ],
             [
              0.2222222222222222,
              "#7201a8"
             ],
             [
              0.3333333333333333,
              "#9c179e"
             ],
             [
              0.4444444444444444,
              "#bd3786"
             ],
             [
              0.5555555555555556,
              "#d8576b"
             ],
             [
              0.6666666666666666,
              "#ed7953"
             ],
             [
              0.7777777777777778,
              "#fb9f3a"
             ],
             [
              0.8888888888888888,
              "#fdca26"
             ],
             [
              1,
              "#f0f921"
             ]
            ],
            "type": "contour"
           }
          ],
          "contourcarpet": [
           {
            "colorbar": {
             "outlinewidth": 0,
             "ticks": ""
            },
            "type": "contourcarpet"
           }
          ],
          "heatmap": [
           {
            "colorbar": {
             "outlinewidth": 0,
             "ticks": ""
            },
            "colorscale": [
             [
              0,
              "#0d0887"
             ],
             [
              0.1111111111111111,
              "#46039f"
             ],
             [
              0.2222222222222222,
              "#7201a8"
             ],
             [
              0.3333333333333333,
              "#9c179e"
             ],
             [
              0.4444444444444444,
              "#bd3786"
             ],
             [
              0.5555555555555556,
              "#d8576b"
             ],
             [
              0.6666666666666666,
              "#ed7953"
             ],
             [
              0.7777777777777778,
              "#fb9f3a"
             ],
             [
              0.8888888888888888,
              "#fdca26"
             ],
             [
              1,
              "#f0f921"
             ]
            ],
            "type": "heatmap"
           }
          ],
          "histogram": [
           {
            "marker": {
             "pattern": {
              "fillmode": "overlay",
              "size": 10,
              "solidity": 0.2
             }
            },
            "type": "histogram"
           }
          ],
          "histogram2d": [
           {
            "colorbar": {
             "outlinewidth": 0,
             "ticks": ""
            },
            "colorscale": [
             [
              0,
              "#0d0887"
             ],
             [
              0.1111111111111111,
              "#46039f"
             ],
             [
              0.2222222222222222,
              "#7201a8"
             ],
             [
              0.3333333333333333,
              "#9c179e"
             ],
             [
              0.4444444444444444,
              "#bd3786"
             ],
             [
              0.5555555555555556,
              "#d8576b"
             ],
             [
              0.6666666666666666,
              "#ed7953"
             ],
             [
              0.7777777777777778,
              "#fb9f3a"
             ],
             [
              0.8888888888888888,
              "#fdca26"
             ],
             [
              1,
              "#f0f921"
             ]
            ],
            "type": "histogram2d"
           }
          ],
          "histogram2dcontour": [
           {
            "colorbar": {
             "outlinewidth": 0,
             "ticks": ""
            },
            "colorscale": [
             [
              0,
              "#0d0887"
             ],
             [
              0.1111111111111111,
              "#46039f"
             ],
             [
              0.2222222222222222,
              "#7201a8"
             ],
             [
              0.3333333333333333,
              "#9c179e"
             ],
             [
              0.4444444444444444,
              "#bd3786"
             ],
             [
              0.5555555555555556,
              "#d8576b"
             ],
             [
              0.6666666666666666,
              "#ed7953"
             ],
             [
              0.7777777777777778,
              "#fb9f3a"
             ],
             [
              0.8888888888888888,
              "#fdca26"
             ],
             [
              1,
              "#f0f921"
             ]
            ],
            "type": "histogram2dcontour"
           }
          ],
          "mesh3d": [
           {
            "colorbar": {
             "outlinewidth": 0,
             "ticks": ""
            },
            "type": "mesh3d"
           }
          ],
          "parcoords": [
           {
            "line": {
             "colorbar": {
              "outlinewidth": 0,
              "ticks": ""
             }
            },
            "type": "parcoords"
           }
          ],
          "pie": [
           {
            "automargin": true,
            "type": "pie"
           }
          ],
          "scatter": [
           {
            "fillpattern": {
             "fillmode": "overlay",
             "size": 10,
             "solidity": 0.2
            },
            "type": "scatter"
           }
          ],
          "scatter3d": [
           {
            "line": {
             "colorbar": {
              "outlinewidth": 0,
              "ticks": ""
             }
            },
            "marker": {
             "colorbar": {
              "outlinewidth": 0,
              "ticks": ""
             }
            },
            "type": "scatter3d"
           }
          ],
          "scattercarpet": [
           {
            "marker": {
             "colorbar": {
              "outlinewidth": 0,
              "ticks": ""
             }
            },
            "type": "scattercarpet"
           }
          ],
          "scattergeo": [
           {
            "marker": {
             "colorbar": {
              "outlinewidth": 0,
              "ticks": ""
             }
            },
            "type": "scattergeo"
           }
          ],
          "scattergl": [
           {
            "marker": {
             "colorbar": {
              "outlinewidth": 0,
              "ticks": ""
             }
            },
            "type": "scattergl"
           }
          ],
          "scattermap": [
           {
            "marker": {
             "colorbar": {
              "outlinewidth": 0,
              "ticks": ""
             }
            },
            "type": "scattermap"
           }
          ],
          "scattermapbox": [
           {
            "marker": {
             "colorbar": {
              "outlinewidth": 0,
              "ticks": ""
             }
            },
            "type": "scattermapbox"
           }
          ],
          "scatterpolar": [
           {
            "marker": {
             "colorbar": {
              "outlinewidth": 0,
              "ticks": ""
             }
            },
            "type": "scatterpolar"
           }
          ],
          "scatterpolargl": [
           {
            "marker": {
             "colorbar": {
              "outlinewidth": 0,
              "ticks": ""
             }
            },
            "type": "scatterpolargl"
           }
          ],
          "scatterternary": [
           {
            "marker": {
             "colorbar": {
              "outlinewidth": 0,
              "ticks": ""
             }
            },
            "type": "scatterternary"
           }
          ],
          "surface": [
           {
            "colorbar": {
             "outlinewidth": 0,
             "ticks": ""
            },
            "colorscale": [
             [
              0,
              "#0d0887"
             ],
             [
              0.1111111111111111,
              "#46039f"
             ],
             [
              0.2222222222222222,
              "#7201a8"
             ],
             [
              0.3333333333333333,
              "#9c179e"
             ],
             [
              0.4444444444444444,
              "#bd3786"
             ],
             [
              0.5555555555555556,
              "#d8576b"
             ],
             [
              0.6666666666666666,
              "#ed7953"
             ],
             [
              0.7777777777777778,
              "#fb9f3a"
             ],
             [
              0.8888888888888888,
              "#fdca26"
             ],
             [
              1,
              "#f0f921"
             ]
            ],
            "type": "surface"
           }
          ],
          "table": [
           {
            "cells": {
             "fill": {
              "color": "#EBF0F8"
             },
             "line": {
              "color": "white"
             }
            },
            "header": {
             "fill": {
              "color": "#C8D4E3"
             },
             "line": {
              "color": "white"
             }
            },
            "type": "table"
           }
          ]
         },
         "layout": {
          "annotationdefaults": {
           "arrowcolor": "#2a3f5f",
           "arrowhead": 0,
           "arrowwidth": 1
          },
          "autotypenumbers": "strict",
          "coloraxis": {
           "colorbar": {
            "outlinewidth": 0,
            "ticks": ""
           }
          },
          "colorscale": {
           "diverging": [
            [
             0,
             "#8e0152"
            ],
            [
             0.1,
             "#c51b7d"
            ],
            [
             0.2,
             "#de77ae"
            ],
            [
             0.3,
             "#f1b6da"
            ],
            [
             0.4,
             "#fde0ef"
            ],
            [
             0.5,
             "#f7f7f7"
            ],
            [
             0.6,
             "#e6f5d0"
            ],
            [
             0.7,
             "#b8e186"
            ],
            [
             0.8,
             "#7fbc41"
            ],
            [
             0.9,
             "#4d9221"
            ],
            [
             1,
             "#276419"
            ]
           ],
           "sequential": [
            [
             0,
             "#0d0887"
            ],
            [
             0.1111111111111111,
             "#46039f"
            ],
            [
             0.2222222222222222,
             "#7201a8"
            ],
            [
             0.3333333333333333,
             "#9c179e"
            ],
            [
             0.4444444444444444,
             "#bd3786"
            ],
            [
             0.5555555555555556,
             "#d8576b"
            ],
            [
             0.6666666666666666,
             "#ed7953"
            ],
            [
             0.7777777777777778,
             "#fb9f3a"
            ],
            [
             0.8888888888888888,
             "#fdca26"
            ],
            [
             1,
             "#f0f921"
            ]
           ],
           "sequentialminus": [
            [
             0,
             "#0d0887"
            ],
            [
             0.1111111111111111,
             "#46039f"
            ],
            [
             0.2222222222222222,
             "#7201a8"
            ],
            [
             0.3333333333333333,
             "#9c179e"
            ],
            [
             0.4444444444444444,
             "#bd3786"
            ],
            [
             0.5555555555555556,
             "#d8576b"
            ],
            [
             0.6666666666666666,
             "#ed7953"
            ],
            [
             0.7777777777777778,
             "#fb9f3a"
            ],
            [
             0.8888888888888888,
             "#fdca26"
            ],
            [
             1,
             "#f0f921"
            ]
           ]
          },
          "colorway": [
           "#636efa",
           "#EF553B",
           "#00cc96",
           "#ab63fa",
           "#FFA15A",
           "#19d3f3",
           "#FF6692",
           "#B6E880",
           "#FF97FF",
           "#FECB52"
          ],
          "font": {
           "color": "#2a3f5f"
          },
          "geo": {
           "bgcolor": "white",
           "lakecolor": "white",
           "landcolor": "#E5ECF6",
           "showlakes": true,
           "showland": true,
           "subunitcolor": "white"
          },
          "hoverlabel": {
           "align": "left"
          },
          "hovermode": "closest",
          "mapbox": {
           "style": "light"
          },
          "paper_bgcolor": "white",
          "plot_bgcolor": "#E5ECF6",
          "polar": {
           "angularaxis": {
            "gridcolor": "white",
            "linecolor": "white",
            "ticks": ""
           },
           "bgcolor": "#E5ECF6",
           "radialaxis": {
            "gridcolor": "white",
            "linecolor": "white",
            "ticks": ""
           }
          },
          "scene": {
           "xaxis": {
            "backgroundcolor": "#E5ECF6",
            "gridcolor": "white",
            "gridwidth": 2,
            "linecolor": "white",
            "showbackground": true,
            "ticks": "",
            "zerolinecolor": "white"
           },
           "yaxis": {
            "backgroundcolor": "#E5ECF6",
            "gridcolor": "white",
            "gridwidth": 2,
            "linecolor": "white",
            "showbackground": true,
            "ticks": "",
            "zerolinecolor": "white"
           },
           "zaxis": {
            "backgroundcolor": "#E5ECF6",
            "gridcolor": "white",
            "gridwidth": 2,
            "linecolor": "white",
            "showbackground": true,
            "ticks": "",
            "zerolinecolor": "white"
           }
          },
          "shapedefaults": {
           "line": {
            "color": "#2a3f5f"
           }
          },
          "ternary": {
           "aaxis": {
            "gridcolor": "white",
            "linecolor": "white",
            "ticks": ""
           },
           "baxis": {
            "gridcolor": "white",
            "linecolor": "white",
            "ticks": ""
           },
           "bgcolor": "#E5ECF6",
           "caxis": {
            "gridcolor": "white",
            "linecolor": "white",
            "ticks": ""
           }
          },
          "title": {
           "x": 0.05
          },
          "xaxis": {
           "automargin": true,
           "gridcolor": "white",
           "linecolor": "white",
           "ticks": "",
           "title": {
            "standoff": 15
           },
           "zerolinecolor": "white",
           "zerolinewidth": 2
          },
          "yaxis": {
           "automargin": true,
           "gridcolor": "white",
           "linecolor": "white",
           "ticks": "",
           "title": {
            "standoff": 15
           },
           "zerolinecolor": "white",
           "zerolinewidth": 2
          }
         }
        },
        "title": {
         "font": {
          "color": "black",
          "family": "Oswald"
         },
         "text": "Número de Actos por Tratamiento Estético 2024"
        },
        "xaxis": {
         "anchor": "y",
         "categoryarray": [
          "CORONA METAL CERAMICA",
          "CORONA IMPLANTE",
          "BRACKETS METALICOS",
          "CORONA RESINA(LABORATORIO)",
          "BLANQUEAMIENTO PHILIPS ZOOM",
          "INVISALIGN",
          "CORONA IMPLANTE ZIRCONIO",
          "BRACKETS ESTETICOS"
         ],
         "categoryorder": "array",
         "domain": [
          0,
          1
         ],
         "tickangle": 45,
         "title": {
          "text": "Tratamiento"
         }
        },
        "yaxis": {
         "anchor": "x",
         "domain": [
          0,
          1
         ],
         "title": {
          "text": "Número de Actos"
         }
        }
       }
      }
     },
     "metadata": {},
     "output_type": "display_data"
    }
   ],
   "source": [
    "#NUMERO DE ACTOS DE TRATAMIENTOS ESTETICO"
   ]
  },
  {
   "cell_type": "code",
   "execution_count": null,
   "id": "68898a44",
   "metadata": {},
   "outputs": [
    {
     "data": {
      "application/vnd.plotly.v1+json": {
       "config": {
        "plotlyServerURL": "https://plot.ly"
       },
       "data": [
        {
         "hoverinfo": "label+percent",
         "insidetextorientation": "radial",
         "labels": [
          "BLANQUEAMIENTO PHILIPS ZOOM",
          "BRACKETS ESTETICOS",
          "BRACKETS METALICOS",
          "CORONA IMPLANTE",
          "CORONA IMPLANTE ZIRCONIO",
          "CORONA METAL CERAMICA",
          "CORONA RESINA(LABORATORIO)",
          "INVISALIGN"
         ],
         "marker": {
          "colors": [
           "#FF8C00",
           "#FF4D4D",
           "#FF6F59",
           "#87CEEB",
           "#6BB97A",
           "#FFD93D",
           "#FF7F50",
           "#FFCD00"
          ]
         },
         "textinfo": "percent",
         "type": "pie",
         "values": {
          "bdata": "DIc+3d0vCUBiBi58CielP5V2D9BC0BVAwjsFB5mIP0DmedVDSAPkPxjjNvIrWjlAHKhLLZSO8z+mWnPGy09AQA==",
          "dtype": "f8"
         }
        }
       ],
       "layout": {
        "font": {
         "color": "black",
         "family": "Oswald, sans-serif"
        },
        "template": {
         "data": {
          "bar": [
           {
            "error_x": {
             "color": "#2a3f5f"
            },
            "error_y": {
             "color": "#2a3f5f"
            },
            "marker": {
             "line": {
              "color": "#E5ECF6",
              "width": 0.5
             },
             "pattern": {
              "fillmode": "overlay",
              "size": 10,
              "solidity": 0.2
             }
            },
            "type": "bar"
           }
          ],
          "barpolar": [
           {
            "marker": {
             "line": {
              "color": "#E5ECF6",
              "width": 0.5
             },
             "pattern": {
              "fillmode": "overlay",
              "size": 10,
              "solidity": 0.2
             }
            },
            "type": "barpolar"
           }
          ],
          "carpet": [
           {
            "aaxis": {
             "endlinecolor": "#2a3f5f",
             "gridcolor": "white",
             "linecolor": "white",
             "minorgridcolor": "white",
             "startlinecolor": "#2a3f5f"
            },
            "baxis": {
             "endlinecolor": "#2a3f5f",
             "gridcolor": "white",
             "linecolor": "white",
             "minorgridcolor": "white",
             "startlinecolor": "#2a3f5f"
            },
            "type": "carpet"
           }
          ],
          "choropleth": [
           {
            "colorbar": {
             "outlinewidth": 0,
             "ticks": ""
            },
            "type": "choropleth"
           }
          ],
          "contour": [
           {
            "colorbar": {
             "outlinewidth": 0,
             "ticks": ""
            },
            "colorscale": [
             [
              0,
              "#0d0887"
             ],
             [
              0.1111111111111111,
              "#46039f"
             ],
             [
              0.2222222222222222,
              "#7201a8"
             ],
             [
              0.3333333333333333,
              "#9c179e"
             ],
             [
              0.4444444444444444,
              "#bd3786"
             ],
             [
              0.5555555555555556,
              "#d8576b"
             ],
             [
              0.6666666666666666,
              "#ed7953"
             ],
             [
              0.7777777777777778,
              "#fb9f3a"
             ],
             [
              0.8888888888888888,
              "#fdca26"
             ],
             [
              1,
              "#f0f921"
             ]
            ],
            "type": "contour"
           }
          ],
          "contourcarpet": [
           {
            "colorbar": {
             "outlinewidth": 0,
             "ticks": ""
            },
            "type": "contourcarpet"
           }
          ],
          "heatmap": [
           {
            "colorbar": {
             "outlinewidth": 0,
             "ticks": ""
            },
            "colorscale": [
             [
              0,
              "#0d0887"
             ],
             [
              0.1111111111111111,
              "#46039f"
             ],
             [
              0.2222222222222222,
              "#7201a8"
             ],
             [
              0.3333333333333333,
              "#9c179e"
             ],
             [
              0.4444444444444444,
              "#bd3786"
             ],
             [
              0.5555555555555556,
              "#d8576b"
             ],
             [
              0.6666666666666666,
              "#ed7953"
             ],
             [
              0.7777777777777778,
              "#fb9f3a"
             ],
             [
              0.8888888888888888,
              "#fdca26"
             ],
             [
              1,
              "#f0f921"
             ]
            ],
            "type": "heatmap"
           }
          ],
          "histogram": [
           {
            "marker": {
             "pattern": {
              "fillmode": "overlay",
              "size": 10,
              "solidity": 0.2
             }
            },
            "type": "histogram"
           }
          ],
          "histogram2d": [
           {
            "colorbar": {
             "outlinewidth": 0,
             "ticks": ""
            },
            "colorscale": [
             [
              0,
              "#0d0887"
             ],
             [
              0.1111111111111111,
              "#46039f"
             ],
             [
              0.2222222222222222,
              "#7201a8"
             ],
             [
              0.3333333333333333,
              "#9c179e"
             ],
             [
              0.4444444444444444,
              "#bd3786"
             ],
             [
              0.5555555555555556,
              "#d8576b"
             ],
             [
              0.6666666666666666,
              "#ed7953"
             ],
             [
              0.7777777777777778,
              "#fb9f3a"
             ],
             [
              0.8888888888888888,
              "#fdca26"
             ],
             [
              1,
              "#f0f921"
             ]
            ],
            "type": "histogram2d"
           }
          ],
          "histogram2dcontour": [
           {
            "colorbar": {
             "outlinewidth": 0,
             "ticks": ""
            },
            "colorscale": [
             [
              0,
              "#0d0887"
             ],
             [
              0.1111111111111111,
              "#46039f"
             ],
             [
              0.2222222222222222,
              "#7201a8"
             ],
             [
              0.3333333333333333,
              "#9c179e"
             ],
             [
              0.4444444444444444,
              "#bd3786"
             ],
             [
              0.5555555555555556,
              "#d8576b"
             ],
             [
              0.6666666666666666,
              "#ed7953"
             ],
             [
              0.7777777777777778,
              "#fb9f3a"
             ],
             [
              0.8888888888888888,
              "#fdca26"
             ],
             [
              1,
              "#f0f921"
             ]
            ],
            "type": "histogram2dcontour"
           }
          ],
          "mesh3d": [
           {
            "colorbar": {
             "outlinewidth": 0,
             "ticks": ""
            },
            "type": "mesh3d"
           }
          ],
          "parcoords": [
           {
            "line": {
             "colorbar": {
              "outlinewidth": 0,
              "ticks": ""
             }
            },
            "type": "parcoords"
           }
          ],
          "pie": [
           {
            "automargin": true,
            "type": "pie"
           }
          ],
          "scatter": [
           {
            "fillpattern": {
             "fillmode": "overlay",
             "size": 10,
             "solidity": 0.2
            },
            "type": "scatter"
           }
          ],
          "scatter3d": [
           {
            "line": {
             "colorbar": {
              "outlinewidth": 0,
              "ticks": ""
             }
            },
            "marker": {
             "colorbar": {
              "outlinewidth": 0,
              "ticks": ""
             }
            },
            "type": "scatter3d"
           }
          ],
          "scattercarpet": [
           {
            "marker": {
             "colorbar": {
              "outlinewidth": 0,
              "ticks": ""
             }
            },
            "type": "scattercarpet"
           }
          ],
          "scattergeo": [
           {
            "marker": {
             "colorbar": {
              "outlinewidth": 0,
              "ticks": ""
             }
            },
            "type": "scattergeo"
           }
          ],
          "scattergl": [
           {
            "marker": {
             "colorbar": {
              "outlinewidth": 0,
              "ticks": ""
             }
            },
            "type": "scattergl"
           }
          ],
          "scattermap": [
           {
            "marker": {
             "colorbar": {
              "outlinewidth": 0,
              "ticks": ""
             }
            },
            "type": "scattermap"
           }
          ],
          "scattermapbox": [
           {
            "marker": {
             "colorbar": {
              "outlinewidth": 0,
              "ticks": ""
             }
            },
            "type": "scattermapbox"
           }
          ],
          "scatterpolar": [
           {
            "marker": {
             "colorbar": {
              "outlinewidth": 0,
              "ticks": ""
             }
            },
            "type": "scatterpolar"
           }
          ],
          "scatterpolargl": [
           {
            "marker": {
             "colorbar": {
              "outlinewidth": 0,
              "ticks": ""
             }
            },
            "type": "scatterpolargl"
           }
          ],
          "scatterternary": [
           {
            "marker": {
             "colorbar": {
              "outlinewidth": 0,
              "ticks": ""
             }
            },
            "type": "scatterternary"
           }
          ],
          "surface": [
           {
            "colorbar": {
             "outlinewidth": 0,
             "ticks": ""
            },
            "colorscale": [
             [
              0,
              "#0d0887"
             ],
             [
              0.1111111111111111,
              "#46039f"
             ],
             [
              0.2222222222222222,
              "#7201a8"
             ],
             [
              0.3333333333333333,
              "#9c179e"
             ],
             [
              0.4444444444444444,
              "#bd3786"
             ],
             [
              0.5555555555555556,
              "#d8576b"
             ],
             [
              0.6666666666666666,
              "#ed7953"
             ],
             [
              0.7777777777777778,
              "#fb9f3a"
             ],
             [
              0.8888888888888888,
              "#fdca26"
             ],
             [
              1,
              "#f0f921"
             ]
            ],
            "type": "surface"
           }
          ],
          "table": [
           {
            "cells": {
             "fill": {
              "color": "#EBF0F8"
             },
             "line": {
              "color": "white"
             }
            },
            "header": {
             "fill": {
              "color": "#C8D4E3"
             },
             "line": {
              "color": "white"
             }
            },
            "type": "table"
           }
          ]
         },
         "layout": {
          "annotationdefaults": {
           "arrowcolor": "#2a3f5f",
           "arrowhead": 0,
           "arrowwidth": 1
          },
          "autotypenumbers": "strict",
          "coloraxis": {
           "colorbar": {
            "outlinewidth": 0,
            "ticks": ""
           }
          },
          "colorscale": {
           "diverging": [
            [
             0,
             "#8e0152"
            ],
            [
             0.1,
             "#c51b7d"
            ],
            [
             0.2,
             "#de77ae"
            ],
            [
             0.3,
             "#f1b6da"
            ],
            [
             0.4,
             "#fde0ef"
            ],
            [
             0.5,
             "#f7f7f7"
            ],
            [
             0.6,
             "#e6f5d0"
            ],
            [
             0.7,
             "#b8e186"
            ],
            [
             0.8,
             "#7fbc41"
            ],
            [
             0.9,
             "#4d9221"
            ],
            [
             1,
             "#276419"
            ]
           ],
           "sequential": [
            [
             0,
             "#0d0887"
            ],
            [
             0.1111111111111111,
             "#46039f"
            ],
            [
             0.2222222222222222,
             "#7201a8"
            ],
            [
             0.3333333333333333,
             "#9c179e"
            ],
            [
             0.4444444444444444,
             "#bd3786"
            ],
            [
             0.5555555555555556,
             "#d8576b"
            ],
            [
             0.6666666666666666,
             "#ed7953"
            ],
            [
             0.7777777777777778,
             "#fb9f3a"
            ],
            [
             0.8888888888888888,
             "#fdca26"
            ],
            [
             1,
             "#f0f921"
            ]
           ],
           "sequentialminus": [
            [
             0,
             "#0d0887"
            ],
            [
             0.1111111111111111,
             "#46039f"
            ],
            [
             0.2222222222222222,
             "#7201a8"
            ],
            [
             0.3333333333333333,
             "#9c179e"
            ],
            [
             0.4444444444444444,
             "#bd3786"
            ],
            [
             0.5555555555555556,
             "#d8576b"
            ],
            [
             0.6666666666666666,
             "#ed7953"
            ],
            [
             0.7777777777777778,
             "#fb9f3a"
            ],
            [
             0.8888888888888888,
             "#fdca26"
            ],
            [
             1,
             "#f0f921"
            ]
           ]
          },
          "colorway": [
           "#636efa",
           "#EF553B",
           "#00cc96",
           "#ab63fa",
           "#FFA15A",
           "#19d3f3",
           "#FF6692",
           "#B6E880",
           "#FF97FF",
           "#FECB52"
          ],
          "font": {
           "color": "#2a3f5f"
          },
          "geo": {
           "bgcolor": "white",
           "lakecolor": "white",
           "landcolor": "#E5ECF6",
           "showlakes": true,
           "showland": true,
           "subunitcolor": "white"
          },
          "hoverlabel": {
           "align": "left"
          },
          "hovermode": "closest",
          "mapbox": {
           "style": "light"
          },
          "paper_bgcolor": "white",
          "plot_bgcolor": "#E5ECF6",
          "polar": {
           "angularaxis": {
            "gridcolor": "white",
            "linecolor": "white",
            "ticks": ""
           },
           "bgcolor": "#E5ECF6",
           "radialaxis": {
            "gridcolor": "white",
            "linecolor": "white",
            "ticks": ""
           }
          },
          "scene": {
           "xaxis": {
            "backgroundcolor": "#E5ECF6",
            "gridcolor": "white",
            "gridwidth": 2,
            "linecolor": "white",
            "showbackground": true,
            "ticks": "",
            "zerolinecolor": "white"
           },
           "yaxis": {
            "backgroundcolor": "#E5ECF6",
            "gridcolor": "white",
            "gridwidth": 2,
            "linecolor": "white",
            "showbackground": true,
            "ticks": "",
            "zerolinecolor": "white"
           },
           "zaxis": {
            "backgroundcolor": "#E5ECF6",
            "gridcolor": "white",
            "gridwidth": 2,
            "linecolor": "white",
            "showbackground": true,
            "ticks": "",
            "zerolinecolor": "white"
           }
          },
          "shapedefaults": {
           "line": {
            "color": "#2a3f5f"
           }
          },
          "ternary": {
           "aaxis": {
            "gridcolor": "white",
            "linecolor": "white",
            "ticks": ""
           },
           "baxis": {
            "gridcolor": "white",
            "linecolor": "white",
            "ticks": ""
           },
           "bgcolor": "#E5ECF6",
           "caxis": {
            "gridcolor": "white",
            "linecolor": "white",
            "ticks": ""
           }
          },
          "title": {
           "x": 0.05
          },
          "xaxis": {
           "automargin": true,
           "gridcolor": "white",
           "linecolor": "white",
           "ticks": "",
           "title": {
            "standoff": 15
           },
           "zerolinecolor": "white",
           "zerolinewidth": 2
          },
          "yaxis": {
           "automargin": true,
           "gridcolor": "white",
           "linecolor": "white",
           "ticks": "",
           "title": {
            "standoff": 15
           },
           "zerolinecolor": "white",
           "zerolinewidth": 2
          }
         }
        },
        "title": {
         "text": "Porcentaje de Ganancia por Tratamiento Estético 2024"
        }
       }
      }
     },
     "metadata": {},
     "output_type": "display_data"
    }
   ],
   "source": [
    "#PORCENTAJE DE GANANCIA RELATIVO AL TOTAL DE TRATAMIENTOS ESTETICOS"
   ]
  }
 ],
 "metadata": {
  "kernelspec": {
   "display_name": "miPrimerEnternoConda",
   "language": "python",
   "name": "python3"
  },
  "language_info": {
   "codemirror_mode": {
    "name": "ipython",
    "version": 3
   },
   "file_extension": ".py",
   "mimetype": "text/x-python",
   "name": "python",
   "nbconvert_exporter": "python",
   "pygments_lexer": "ipython3",
   "version": "3.11.11"
  }
 },
 "nbformat": 4,
 "nbformat_minor": 5
}
