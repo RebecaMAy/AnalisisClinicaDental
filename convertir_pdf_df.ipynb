{
 "cells": [
  {
   "cell_type": "code",
   "execution_count": null,
   "id": "e4c5388d",
   "metadata": {},
   "outputs": [],
   "source": [
    "#pip install \"camelot-py[cv]\"\n",
    "#pip install PyPDF2"
   ]
  },
  {
   "cell_type": "code",
   "execution_count": 125,
   "id": "ff8fa17c",
   "metadata": {},
   "outputs": [],
   "source": [
    "import pandas as pd\n",
    "import numpy as np\n",
    "import plotly.express as px\n",
    "import camelot\n",
    "import PyPDF2\n",
    "import os\n",
    "import plotly.graph_objects as go\n",
    "from plotly.subplots import make_subplots"
   ]
  },
  {
   "cell_type": "code",
   "execution_count": 90,
   "id": "d7c5252b",
   "metadata": {},
   "outputs": [],
   "source": [
    "\"\"\"\n",
    "--------------------------------------------------------\n",
    "CON CAMELOT PASO PDF A DATAFRAME \n",
    "--------------------------------------------------------\n",
    "RUTAS \n",
    "--------------------------------------------------------\n",
    "\"pdf\\Producción por Grupo y Tratami 24.pdf\"  ---> NO LEE TABLA FORMAS DE PAGO\n",
    "\"pdf\\Producción por Grupo y Tratami 23.pdf\"\n",
    "--------------------------------------------------------\n",
    "'lattice' ..... for tables with clear lines. ---> NO LO LEE CORRECTAMENTE\n",
    "'stream'  ..... for tables with whitespace separation.\n",
    "--------------------------------------------------------\n",
    "\"\"\"\n",
    "\n",
    "pdf_path_23 = \"pdf\\Producción por Grupo y Tratami 23.pdf\"\n",
    "pdf_path_24 = \"pdf\\Producción por Grupo y Tratami 24.pdf\"\n",
    "\n",
    "def convertir_pdf_a_dataframe(ruta, pages=\"all\", flavor=\"stream\"):\n",
    "\n",
    "    tablas = camelot.read_pdf(ruta, pages=pages, flavor=flavor)\n",
    "\n",
    "    if not tablas:\n",
    "        print(f\"No tables were found in {ruta}\")  \n",
    "    else:\n",
    "        dataframes = []\n",
    "        for tabla in tablas:\n",
    "            dataframes.append(tabla.df)\n",
    "\n",
    "    return dataframes\n",
    "\n",
    "dataframes_23 = convertir_pdf_a_dataframe(pdf_path_23)\n",
    "dataframes_24 = convertir_pdf_a_dataframe(pdf_path_24)"
   ]
  },
  {
   "cell_type": "code",
   "execution_count": 91,
   "id": "58b3333b",
   "metadata": {},
   "outputs": [],
   "source": [
    "def formatear_tabla(dataframe, pagina):\n",
    "    tabla = dataframe\n",
    "\n",
    "    #DONDE ELEMENTO VACIO\n",
    "    tabla[0] = tabla[0].replace(r'^\\s*$', np.nan, regex=True)\n",
    "    #RELLENAR CON NO Nan PREVIO\n",
    "    tabla[0] = tabla[0].ffill()\n",
    "\n",
    "    #ELIMINAR COLUMNA CODIGO\n",
    "    tabla.drop(1, axis=1, inplace=True)\n",
    "\n",
    "    if pagina == 1:\n",
    "        #ELIMINAR TITULO\n",
    "        tabla.drop(0, inplace=True)\n",
    "\n",
    "        #ELIMINAR FILAS REPETIDAS CON TITULOS\n",
    "        tabla = tabla[tabla[2] != \"Total\"]\n",
    "        tabla = tabla[tabla[2] != \"Descripción\\nTarifa\"]\n",
    "\n",
    "        #FORMTEAR COLUMNA DESCRIPCION Y TARIFAS\n",
    "        info = tabla[2].str.split(\"\\n\").str[0]\n",
    "        tarifas = tabla[2].str.split(\"\\n\").str[1]\n",
    "        tabla[2] = info\n",
    "        tabla.insert(loc=2, column='t', value=tarifas)\n",
    "    \n",
    "    if pagina == 2:\n",
    "        #ELIMINAR FILAS REPETIDAS CON TITULOS\n",
    "        tabla = tabla[tabla[3] != \"Total\"]\n",
    "        tabla = tabla[tabla[2] != \"Descripción\"]\n",
    "\n",
    "    #RENOMBRAR NOMBRES COLUMNAS\n",
    "    tabla.columns = [\"category\", \"info\", \"tarifa\", \"actos\", \"visits\", \"total\"]\n",
    "\n",
    "    #FORMATEAR TARIFAS \n",
    "    tabla[\"tarifa\"] = tabla[\"tarifa\"].fillna(\"TARIFA PRIVADA\")\n",
    "    tabla[\"tarifa\"] = tabla[\"tarifa\"].str.replace(\"TARIFA \", \"\")\n",
    "\n",
    "    #FORMATEAR ACTOS\n",
    "    tabla[\"actos\"] = tabla[\"actos\"].fillna(0)\n",
    "\n",
    "    #FORMATEAR TOTAL\n",
    "    tabla[\"total\"] = tabla[\"total\"].str.replace(\"€\", \"\").str.replace(\".\", \"\").str.replace(\",\", \".\").str.split(\".\").str[0].astype(int)\n",
    "\n",
    "    #RESETEAR INDICES FILAS \n",
    "    tabla.reset_index(drop=True, inplace=True)\n",
    "    \n",
    "    return tabla\n",
    "\n",
    "tabla_pag_1_23 = formatear_tabla(dataframes_23[0], 1)\n",
    "tabla_pag_2_23 = formatear_tabla(dataframes_23[1], 2)\n",
    "tabla_pag_1_24 = formatear_tabla(dataframes_24[0], 1)\n",
    "tabla_pag_2_24 = formatear_tabla(dataframes_24[1], 2)"
   ]
  },
  {
   "cell_type": "code",
   "execution_count": 92,
   "id": "92ae751c",
   "metadata": {},
   "outputs": [],
   "source": [
    "#UNIR TABLAS\n",
    "def concatenate_dataframes(df1, df2):\n",
    "  concatenated_df = pd.concat([df1, df2], ignore_index=True)\n",
    "  return concatenated_df\n",
    "\n",
    "tabla_23_completa = concatenate_dataframes(tabla_pag_1_23, tabla_pag_2_23)\n",
    "tabla_24_completa = concatenate_dataframes(tabla_pag_1_24, tabla_pag_2_24)"
   ]
  },
  {
   "cell_type": "code",
   "execution_count": 93,
   "id": "7b07408d",
   "metadata": {},
   "outputs": [
    {
     "name": "stderr",
     "output_type": "stream",
     "text": [
      "C:\\Users\\34631\\AppData\\Local\\Temp\\ipykernel_32908\\1103345368.py:6: SettingWithCopyWarning:\n",
      "\n",
      "\n",
      "A value is trying to be set on a copy of a slice from a DataFrame.\n",
      "Try using .loc[row_indexer,col_indexer] = value instead\n",
      "\n",
      "See the caveats in the documentation: https://pandas.pydata.org/pandas-docs/stable/user_guide/indexing.html#returning-a-view-versus-a-copy\n",
      "\n"
     ]
    }
   ],
   "source": [
    "#FORMAS DE PAGO\n",
    "def formatear_formas_pago(dataframe):\n",
    "    formas_pago = dataframe\n",
    "    formas_pago = formas_pago.iloc[2:6,:]\n",
    "    formas_pago.columns = [\"forma_pago\" , \"num_operaciones\", \"total\"]\n",
    "    formas_pago[\"total\"] = formas_pago[\"total\"].str.replace(\"€\", \"\").str.replace(\".\", \"\").str.replace(\",\", \".\").str.split(\".\").str[0].astype(int)\n",
    "    formas_pago.loc[2, \"forma_pago\"] = \"Tarjeta\"\n",
    "    formas_pago.loc[3, \"forma_pago\"] = \"Efectivo\"\n",
    "    formas_pago.loc[4, \"forma_pago\"] = \"Transferencia\"\n",
    "    formas_pago.loc[5, \"forma_pago\"] = \"Pronto Pago\"\n",
    "    formas_pago.reset_index(drop=True, inplace=True)\n",
    "    return formas_pago\n",
    "\n",
    "tabla_formas_pago_23 = formatear_formas_pago(dataframes_23[3])"
   ]
  },
  {
   "cell_type": "code",
   "execution_count": 94,
   "id": "118f3414",
   "metadata": {},
   "outputs": [],
   "source": [
    "total_saldado_23 = 195317\n",
    "total_saldado_24 = 151067"
   ]
  },
  {
   "cell_type": "code",
   "execution_count": 95,
   "id": "caa16760",
   "metadata": {},
   "outputs": [],
   "source": [
    "tabla_23_completa.loc[[57, 58, 59], 'category'] = 'CORONA'\n",
    "tabla_23_completa.loc[62, 'category'] = 'ENDODONCIAS'\n",
    "tabla_23_completa.loc[63, 'category'] = 'EXTRACCION'\n",
    "tabla_23_completa.loc[64, 'category'] = 'IMPLANTES'\n",
    "tabla_23_completa.loc[[65, 66, 67, 68], 'category'] = 'PROFILAXIS'\n",
    "tabla_23_completa.loc[[69, 70], 'category'] = 'OBTURACION'"
   ]
  },
  {
   "cell_type": "code",
   "execution_count": 96,
   "id": "92d473e7",
   "metadata": {},
   "outputs": [],
   "source": [
    "tabla_23_completa = tabla_23_completa[tabla_23_completa['total'] != 0]\n",
    "tabla_23_completa = tabla_23_completa[tabla_23_completa['category'] != \"(sin especificar)\"]\n",
    "tabla_24_completa = tabla_24_completa[tabla_24_completa['total'] != 0]"
   ]
  },
  {
   "cell_type": "code",
   "execution_count": 97,
   "id": "a5155979",
   "metadata": {},
   "outputs": [],
   "source": [
    "tabla_23_completa['actos'] = tabla_23_completa['actos'].astype(int)\n",
    "tabla_23_completa['visits'] = tabla_23_completa['visits'].astype(int)\n",
    "\n",
    "tabla_24_completa['actos'] = tabla_24_completa['actos'].astype(int)\n",
    "tabla_24_completa['visits'] = tabla_24_completa['visits'].astype(int)"
   ]
  },
  {
   "cell_type": "code",
   "execution_count": 98,
   "id": "909b82c0",
   "metadata": {},
   "outputs": [],
   "source": [
    "tabla_23_completa['precio_uni'] = tabla_23_completa['total'] / tabla_23_completa['actos']\n",
    "tabla_24_completa['precio_uni'] = tabla_24_completa['total'] / tabla_24_completa['actos']"
   ]
  },
  {
   "cell_type": "code",
   "execution_count": 99,
   "id": "3a0f2f6f",
   "metadata": {},
   "outputs": [
    {
     "data": {
      "application/vnd.plotly.v1+json": {
       "config": {
        "plotlyServerURL": "https://plot.ly"
       },
       "data": [
        {
         "customdata": [
          [
           "DIAGNOSTICOS",
           "  DKV",
           13,
           1
          ]
         ],
         "hovertemplate": "<b>%{hovertext}</b><br><br>category=%{customdata[0]}<br>tarifa=%{customdata[1]}<br>Precio Unitario=%{x}<br>Actos Realizados=%{y}<br>total=%{customdata[2]}<br>visits=%{customdata[3]}<extra></extra>",
         "hovertext": [
          "ORTOPANTOMOGRAFIA"
         ],
         "legendgroup": "DIAGNOSTICOS,   DKV",
         "marker": {
          "color": "#636efa",
          "symbol": "circle"
         },
         "mode": "markers",
         "name": "DIAGNOSTICOS,   DKV",
         "orientation": "v",
         "showlegend": true,
         "type": "scatter",
         "x": {
          "bdata": "AAAAAAAAKkA=",
          "dtype": "f8"
         },
         "xaxis": "x",
         "y": {
          "bdata": "AQ==",
          "dtype": "i1"
         },
         "yaxis": "y"
        },
        {
         "customdata": [
          [
           "DIAGNOSTICOS",
           "PRIVADA",
           1013,
           43
          ],
          [
           "DIAGNOSTICOS",
           "PRIVADA",
           2400,
           28
          ]
         ],
         "hovertemplate": "<b>%{hovertext}</b><br><br>category=%{customdata[0]}<br>tarifa=%{customdata[1]}<br>Precio Unitario=%{x}<br>Actos Realizados=%{y}<br>total=%{customdata[2]}<br>visits=%{customdata[3]}<extra></extra>",
         "hovertext": [
          "ORTOPANTOMOGRAFIA",
          "TAC"
         ],
         "legendgroup": "DIAGNOSTICOS, PRIVADA",
         "marker": {
          "color": "#636efa",
          "symbol": "diamond"
         },
         "mode": "markers",
         "name": "DIAGNOSTICOS, PRIVADA",
         "orientation": "v",
         "showlegend": true,
         "type": "scatter",
         "x": {
          "bdata": "JO6IO+KON0Dbtm3btm1VQA==",
          "dtype": "f8"
         },
         "xaxis": "x",
         "y": {
          "bdata": "Kxw=",
          "dtype": "i1"
         },
         "yaxis": "y"
        },
        {
         "customdata": [
          [
           "PROFILAXIS",
           "  DKV",
           12,
           1
          ]
         ],
         "hovertemplate": "<b>%{hovertext}</b><br><br>category=%{customdata[0]}<br>tarifa=%{customdata[1]}<br>Precio Unitario=%{x}<br>Actos Realizados=%{y}<br>total=%{customdata[2]}<br>visits=%{customdata[3]}<extra></extra>",
         "hovertext": [
          "Copia de LIMPIEZA"
         ],
         "legendgroup": "PROFILAXIS,   DKV",
         "marker": {
          "color": "#EF553B",
          "symbol": "circle"
         },
         "mode": "markers",
         "name": "PROFILAXIS,   DKV",
         "orientation": "v",
         "showlegend": true,
         "type": "scatter",
         "x": {
          "bdata": "AAAAAAAAKEA=",
          "dtype": "f8"
         },
         "xaxis": "x",
         "y": {
          "bdata": "AQ==",
          "dtype": "i1"
         },
         "yaxis": "y"
        },
        {
         "customdata": [
          [
           "PROFILAXIS",
           "PRIVADA",
           8269,
           259
          ],
          [
           "PROFILAXIS",
           "PRIVADA",
           1755,
           62
          ],
          [
           "PROFILAXIS",
           "PRIVADA",
           350,
           1
          ]
         ],
         "hovertemplate": "<b>%{hovertext}</b><br><br>category=%{customdata[0]}<br>tarifa=%{customdata[1]}<br>Precio Unitario=%{x}<br>Actos Realizados=%{y}<br>total=%{customdata[2]}<br>visits=%{customdata[3]}<extra></extra>",
         "hovertext": [
          "Copia de LIMPIEZA",
          "LI1",
          "LI2"
         ],
         "legendgroup": "PROFILAXIS, PRIVADA",
         "marker": {
          "color": "#EF553B",
          "symbol": "diamond"
         },
         "mode": "markers",
         "name": "PROFILAXIS, PRIVADA",
         "orientation": "v",
         "showlegend": true,
         "type": "scatter",
         "x": {
          "bdata": "1A77VjjtP0DOOeecc048QAAAAAAA4HVA",
          "dtype": "f8"
         },
         "xaxis": "x",
         "y": {
          "bdata": "AwE+AAEA",
          "dtype": "i2"
         },
         "yaxis": "y"
        },
        {
         "customdata": [
          [
           "PROFILAXIS",
           "DKV",
           350,
           1
          ]
         ],
         "hovertemplate": "<b>%{hovertext}</b><br><br>category=%{customdata[0]}<br>tarifa=%{customdata[1]}<br>Precio Unitario=%{x}<br>Actos Realizados=%{y}<br>total=%{customdata[2]}<br>visits=%{customdata[3]}<extra></extra>",
         "hovertext": [
          "LI2"
         ],
         "legendgroup": "PROFILAXIS, DKV",
         "marker": {
          "color": "#EF553B",
          "symbol": "x"
         },
         "mode": "markers",
         "name": "PROFILAXIS, DKV",
         "orientation": "v",
         "showlegend": true,
         "type": "scatter",
         "x": {
          "bdata": "AAAAAADgdUA=",
          "dtype": "f8"
         },
         "xaxis": "x",
         "y": {
          "bdata": "AQ==",
          "dtype": "i1"
         },
         "yaxis": "y"
        },
        {
         "customdata": [
          [
           "EXTRACCION",
           "  DKV",
           13,
           1
          ]
         ],
         "hovertemplate": "<b>%{hovertext}</b><br><br>category=%{customdata[0]}<br>tarifa=%{customdata[1]}<br>Precio Unitario=%{x}<br>Actos Realizados=%{y}<br>total=%{customdata[2]}<br>visits=%{customdata[3]}<extra></extra>",
         "hovertext": [
          "Copia de EXTRACCION SIMPLE"
         ],
         "legendgroup": "EXTRACCION,   DKV",
         "marker": {
          "color": "#00cc96",
          "symbol": "circle"
         },
         "mode": "markers",
         "name": "EXTRACCION,   DKV",
         "orientation": "v",
         "showlegend": true,
         "type": "scatter",
         "x": {
          "bdata": "AAAAAAAAKkA=",
          "dtype": "f8"
         },
         "xaxis": "x",
         "y": {
          "bdata": "AQ==",
          "dtype": "i1"
         },
         "yaxis": "y"
        },
        {
         "customdata": [
          [
           "EXTRACCION",
           "PRIVADA",
           70,
           4
          ],
          [
           "EXTRACCION",
           "PRIVADA",
           3329,
           42
          ],
          [
           "EXTRACCION",
           "PRIVADA",
           840,
           3
          ],
          [
           "EXTRACCION",
           "PRIVADA",
           1080,
           12
          ],
          [
           "EXTRACCION",
           "PRIVADA",
           300,
           3
          ],
          [
           "EXTRACCION",
           "PRIVADA",
           450,
           2
          ],
          [
           "EXTRACCION",
           "PRIVADA",
           1520,
           4
          ],
          [
           "EXTRACCION",
           "PRIVADA",
           150,
           2
          ]
         ],
         "hovertemplate": "<b>%{hovertext}</b><br><br>category=%{customdata[0]}<br>tarifa=%{customdata[1]}<br>Precio Unitario=%{x}<br>Actos Realizados=%{y}<br>total=%{customdata[2]}<br>visits=%{customdata[3]}<extra></extra>",
         "hovertext": [
          "EXTR. TEMPORAL",
          "Copia de EXTRACCION SIMPLE",
          "EXTRACCION SIMPLE",
          "EXTRACCION RESTO RADICULAR",
          "EXTRACCION COMPLEJA",
          "EXTRACCION QUIRURGICA",
          "EXTRACCION QUIRURGICA TERCER MOLAR INCLUIDO",
          "EXTRACCION DE IMPLANTE"
         ],
         "legendgroup": "EXTRACCION, PRIVADA",
         "marker": {
          "color": "#00cc96",
          "symbol": "diamond"
         },
         "mode": "markers",
         "name": "EXTRACCION, PRIVADA",
         "orientation": "v",
         "showlegend": true,
         "type": "scatter",
         "x": {
          "bdata": "AAAAAACAMUCpCcZb2WdPQAAAAAAAgHFAkiRJkiRJU0AAAAAAAABZQAAAAAAAIFxAq6qqqqqqb0AAAAAAAMBCQA==",
          "dtype": "f8"
         },
         "xaxis": "x",
         "y": {
          "bdata": "BDUDDgMEBgQ=",
          "dtype": "i1"
         },
         "yaxis": "y"
        },
        {
         "customdata": [
          [
           "OBTURACION",
           "PRIVADA",
           8992,
           129
          ],
          [
           "OBTURACION",
           "PRIVADA",
           1845,
           23
          ],
          [
           "OBTURACION",
           "PRIVADA",
           1250,
           17
          ],
          [
           "OBTURACION",
           "PRIVADA",
           1733,
           27
          ]
         ],
         "hovertemplate": "<b>%{hovertext}</b><br><br>category=%{customdata[0]}<br>tarifa=%{customdata[1]}<br>Precio Unitario=%{x}<br>Actos Realizados=%{y}<br>total=%{customdata[2]}<br>visits=%{customdata[3]}<extra></extra>",
         "hovertext": [
          "OBTURACION",
          "OBTURACION SIMPLE",
          "RECONSTRUCCION",
          "RECONSTRUCCION COMPOSITE"
         ],
         "legendgroup": "OBTURACION, PRIVADA",
         "marker": {
          "color": "#ab63fa",
          "symbol": "diamond"
         },
         "mode": "markers",
         "name": "OBTURACION, PRIVADA",
         "orientation": "v",
         "showlegend": true,
         "type": "scatter",
         "x": {
          "bdata": "QMv5s5w/S0AAAAAAAMBOQAAAAAAAQE9AvoT2EtoLUEA=",
          "dtype": "f8"
         },
         "xaxis": "x",
         "y": {
          "bdata": "pQAeABQAGwA=",
          "dtype": "i2"
         },
         "yaxis": "y"
        },
        {
         "customdata": [
          [
           "OBTURACION",
           "ASISA",
           60,
           1
          ]
         ],
         "hovertemplate": "<b>%{hovertext}</b><br><br>category=%{customdata[0]}<br>tarifa=%{customdata[1]}<br>Precio Unitario=%{x}<br>Actos Realizados=%{y}<br>total=%{customdata[2]}<br>visits=%{customdata[3]}<extra></extra>",
         "hovertext": [
          "RECONSTRUCCION COMPOSITE"
         ],
         "legendgroup": "OBTURACION, ASISA",
         "marker": {
          "color": "#ab63fa",
          "symbol": "square"
         },
         "mode": "markers",
         "name": "OBTURACION, ASISA",
         "orientation": "v",
         "showlegend": true,
         "type": "scatter",
         "x": {
          "bdata": "AAAAAAAATkA=",
          "dtype": "f8"
         },
         "xaxis": "x",
         "y": {
          "bdata": "AQ==",
          "dtype": "i1"
         },
         "yaxis": "y"
        },
        {
         "customdata": [
          [
           "OBTURACION",
           "DKV",
           290,
           4
          ]
         ],
         "hovertemplate": "<b>%{hovertext}</b><br><br>category=%{customdata[0]}<br>tarifa=%{customdata[1]}<br>Precio Unitario=%{x}<br>Actos Realizados=%{y}<br>total=%{customdata[2]}<br>visits=%{customdata[3]}<extra></extra>",
         "hovertext": [
          "RECONSTRUCCION COMPOSITE"
         ],
         "legendgroup": "OBTURACION, DKV",
         "marker": {
          "color": "#ab63fa",
          "symbol": "x"
         },
         "mode": "markers",
         "name": "OBTURACION, DKV",
         "orientation": "v",
         "showlegend": true,
         "type": "scatter",
         "x": {
          "bdata": "AAAAAAAgUkA=",
          "dtype": "f8"
         },
         "xaxis": "x",
         "y": {
          "bdata": "BA==",
          "dtype": "i1"
         },
         "yaxis": "y"
        },
        {
         "customdata": [
          [
           "CIRUGIA PERIODONTAL",
           "PRIVADA",
           240,
           2
          ]
         ],
         "hovertemplate": "<b>%{hovertext}</b><br><br>category=%{customdata[0]}<br>tarifa=%{customdata[1]}<br>Precio Unitario=%{x}<br>Actos Realizados=%{y}<br>total=%{customdata[2]}<br>visits=%{customdata[3]}<extra></extra>",
         "hovertext": [
          "CURETAJE GINGIVAL POR CUADRANT"
         ],
         "legendgroup": "CIRUGIA PERIODONTAL, PRIVADA",
         "marker": {
          "color": "#FFA15A",
          "symbol": "diamond"
         },
         "mode": "markers",
         "name": "CIRUGIA PERIODONTAL, PRIVADA",
         "orientation": "v",
         "showlegend": true,
         "type": "scatter",
         "x": {
          "bdata": "AAAAAAAATkA=",
          "dtype": "f8"
         },
         "xaxis": "x",
         "y": {
          "bdata": "BA==",
          "dtype": "i1"
         },
         "yaxis": "y"
        },
        {
         "customdata": [
          [
           "ENDODONCIAS",
           "PRIVADA",
           2330,
           16
          ],
          [
           "ENDODONCIAS",
           "PRIVADA",
           300,
           1
          ],
          [
           "ENDODONCIAS",
           "PRIVADA",
           600,
           4
          ],
          [
           "ENDODONCIAS",
           "PRIVADA",
           813,
           5
          ],
          [
           "ENDODONCIAS",
           "PRIVADA",
           110,
           1
          ]
         ],
         "hovertemplate": "<b>%{hovertext}</b><br><br>category=%{customdata[0]}<br>tarifa=%{customdata[1]}<br>Precio Unitario=%{x}<br>Actos Realizados=%{y}<br>total=%{customdata[2]}<br>visits=%{customdata[3]}<extra></extra>",
         "hovertext": [
          "Copia de ENDODONCIA ANTERIOR",
          "ENDODONCIA DE 1 CANAL",
          "ENDODONCIA DE 2 CANALES",
          "ENDODONCIA DE 3 CANALES",
          "ENDODONCIA DE 3 MOLAR"
         ],
         "legendgroup": "ENDODONCIAS, PRIVADA",
         "marker": {
          "color": "#19d3f3",
          "symbol": "diamond"
         },
         "mode": "markers",
         "name": "ENDODONCIAS, PRIVADA",
         "orientation": "v",
         "showlegend": true,
         "type": "scatter",
         "x": {
          "bdata": "AAAAAAA0YkAAAAAAAMBiQAAAAAAAwGJAMzMzMzNTZEAAAAAAAIBbQA==",
          "dtype": "f8"
         },
         "xaxis": "x",
         "y": {
          "bdata": "EAIEBQE=",
          "dtype": "i1"
         },
         "yaxis": "y"
        },
        {
         "customdata": [
          [
           "ENDODONCIAS",
           "ASISA",
           175,
           1
          ]
         ],
         "hovertemplate": "<b>%{hovertext}</b><br><br>category=%{customdata[0]}<br>tarifa=%{customdata[1]}<br>Precio Unitario=%{x}<br>Actos Realizados=%{y}<br>total=%{customdata[2]}<br>visits=%{customdata[3]}<extra></extra>",
         "hovertext": [
          "ENDODONCIA DE 4 0 MAS CANALES"
         ],
         "legendgroup": "ENDODONCIAS, ASISA",
         "marker": {
          "color": "#19d3f3",
          "symbol": "square"
         },
         "mode": "markers",
         "name": "ENDODONCIAS, ASISA",
         "orientation": "v",
         "showlegend": true,
         "type": "scatter",
         "x": {
          "bdata": "AAAAAADgZUA=",
          "dtype": "f8"
         },
         "xaxis": "x",
         "y": {
          "bdata": "AQ==",
          "dtype": "i1"
         },
         "yaxis": "y"
        },
        {
         "customdata": [
          [
           "CORONA",
           "PRIVADA",
           11056,
           26
          ],
          [
           "CORONA",
           "PRIVADA",
           594,
           13
          ],
          [
           "CORONA",
           "PRIVADA",
           26131,
           29
          ],
          [
           "CORONA",
           "PRIVADA",
           3625,
           5
          ],
          [
           "CORONA",
           "PRIVADA",
           320,
           5
          ],
          [
           "CORONA",
           "PRIVADA",
           3500,
           2
          ],
          [
           "CORONA",
           "PRIVADA",
           3000,
           1
          ]
         ],
         "hovertemplate": "<b>%{hovertext}</b><br><br>category=%{customdata[0]}<br>tarifa=%{customdata[1]}<br>Precio Unitario=%{x}<br>Actos Realizados=%{y}<br>total=%{customdata[2]}<br>visits=%{customdata[3]}<extra></extra>",
         "hovertext": [
          "CORONA METAL CERAMICA",
          "CORONA RESINA(LABORATORIO)",
          "CORONA IMPLANTE",
          "CORONA IMPLANTE ZIRCONIO",
          "RECEMENTADO DE CORONA",
          "PROTESIS COMPLETA CERAMICA",
          "PROTESIS HIBRIDA RESINA"
         ],
         "legendgroup": "CORONA, PRIVADA",
         "marker": {
          "color": "#FF6692",
          "symbol": "diamond"
         },
         "mode": "markers",
         "name": "CORONA, PRIVADA",
         "orientation": "v",
         "showlegend": true,
         "type": "scatter",
         "x": {
          "bdata": "4yu+4iu+c0AAAAAAAIBAQGgvob2EPn5Ax3Ecx3EseUByHMdxHMdBQAAAAAAAWJtAAAAAAABwp0A=",
          "dtype": "f8"
         },
         "xaxis": "x",
         "y": {
          "bdata": "IxI2CQkCAQ==",
          "dtype": "i1"
         },
         "yaxis": "y"
        },
        {
         "customdata": [
          [
           "CORONA",
           "ASISA",
           500,
           1
          ]
         ],
         "hovertemplate": "<b>%{hovertext}</b><br><br>category=%{customdata[0]}<br>tarifa=%{customdata[1]}<br>Precio Unitario=%{x}<br>Actos Realizados=%{y}<br>total=%{customdata[2]}<br>visits=%{customdata[3]}<extra></extra>",
         "hovertext": [
          "CORONA IMPLANTE"
         ],
         "legendgroup": "CORONA, ASISA",
         "marker": {
          "color": "#FF6692",
          "symbol": "square"
         },
         "mode": "markers",
         "name": "CORONA, ASISA",
         "orientation": "v",
         "showlegend": true,
         "type": "scatter",
         "x": {
          "bdata": "AAAAAABAf0A=",
          "dtype": "f8"
         },
         "xaxis": "x",
         "y": {
          "bdata": "AQ==",
          "dtype": "i1"
         },
         "yaxis": "y"
        },
        {
         "customdata": [
          [
           "CORONA",
           "DKV",
           500,
           1
          ],
          [
           "CORONA",
           "DKV",
           860,
           1
          ]
         ],
         "hovertemplate": "<b>%{hovertext}</b><br><br>category=%{customdata[0]}<br>tarifa=%{customdata[1]}<br>Precio Unitario=%{x}<br>Actos Realizados=%{y}<br>total=%{customdata[2]}<br>visits=%{customdata[3]}<extra></extra>",
         "hovertext": [
          "CORONA IMPLANTE",
          "CORONA TOTAL METAL NOBLE"
         ],
         "legendgroup": "CORONA, DKV",
         "marker": {
          "color": "#FF6692",
          "symbol": "x"
         },
         "mode": "markers",
         "name": "CORONA, DKV",
         "orientation": "v",
         "showlegend": true,
         "type": "scatter",
         "x": {
          "bdata": "AAAAAABAf0AAAAAAAOCKQA==",
          "dtype": "f8"
         },
         "xaxis": "x",
         "y": {
          "bdata": "AQE=",
          "dtype": "i1"
         },
         "yaxis": "y"
        },
        {
         "customdata": [
          [
           "PUENTES",
           "PRIVADA",
           610,
           11
          ]
         ],
         "hovertemplate": "<b>%{hovertext}</b><br><br>category=%{customdata[0]}<br>tarifa=%{customdata[1]}<br>Precio Unitario=%{x}<br>Actos Realizados=%{y}<br>total=%{customdata[2]}<br>visits=%{customdata[3]}<extra></extra>",
         "hovertext": [
          "RECEMENTADO DE PUENTE"
         ],
         "legendgroup": "PUENTES, PRIVADA",
         "marker": {
          "color": "#B6E880",
          "symbol": "diamond"
         },
         "mode": "markers",
         "name": "PUENTES, PRIVADA",
         "orientation": "v",
         "showlegend": true,
         "type": "scatter",
         "x": {
          "bdata": "ZmZmZmZmOEA=",
          "dtype": "f8"
         },
         "xaxis": "x",
         "y": {
          "bdata": "GQ==",
          "dtype": "i1"
         },
         "yaxis": "y"
        },
        {
         "customdata": [
          [
           "PROTESIS REMOVIBLE",
           "PRIVADA",
           932,
           2
          ],
          [
           "PROTESIS REMOVIBLE",
           "PRIVADA",
           2385,
           10
          ],
          [
           "PROTESIS REMOVIBLE",
           "PRIVADA",
           500,
           1
          ],
          [
           "PROTESIS REMOVIBLE",
           "PRIVADA",
           120,
           1
          ],
          [
           "PROTESIS REMOVIBLE",
           "PRIVADA",
           800,
           1
          ],
          [
           "PROTESIS REMOVIBLE",
           "PRIVADA",
           80,
           1
          ],
          [
           "PROTESIS REMOVIBLE",
           "PRIVADA",
           600,
           1
          ],
          [
           "PROTESIS REMOVIBLE",
           "PRIVADA",
           2380,
           6
          ],
          [
           "PROTESIS REMOVIBLE",
           "PRIVADA",
           598,
           2
          ],
          [
           "PROTESIS REMOVIBLE",
           "PRIVADA",
           1135,
           8
          ]
         ],
         "hovertemplate": "<b>%{hovertext}</b><br><br>category=%{customdata[0]}<br>tarifa=%{customdata[1]}<br>Precio Unitario=%{x}<br>Actos Realizados=%{y}<br>total=%{customdata[2]}<br>visits=%{customdata[3]}<extra></extra>",
         "hovertext": [
          "PROTESIS MAXILOFACIAL",
          "FERULA DESCARGA",
          "DENT. COMPLETA INFERIOR",
          "AJUST. DENT. COMPLETA SUPERIOR",
          "DENT. COMPLETA SUPERIOR",
          "REPARACION BASE DENT. COMPLETA",
          "Copia de PARCIAL INFERIOR",
          "Copia de PARCIAL SUPERIOR",
          "PARCIAL SUPERIOR",
          "COMPOSTURA DIENTE"
         ],
         "legendgroup": "PROTESIS REMOVIBLE, PRIVADA",
         "marker": {
          "color": "#FF97FF",
          "symbol": "diamond"
         },
         "mode": "markers",
         "name": "PROTESIS REMOVIBLE, PRIVADA",
         "orientation": "v",
         "showlegend": true,
         "type": "scatter",
         "x": {
          "bdata": "AAAAAAAgfUAAAAAAANBtQAAAAAAAQH9AAAAAAAAAXkAAAAAAAACJQAAAAAAAAFRAAAAAAADAgkCrqqqqqsp4QAAAAAAAsHJAAAAAAAC8YUA=",
          "dtype": "f8"
         },
         "xaxis": "x",
         "y": {
          "bdata": "AgoBAQEBAQYCCA==",
          "dtype": "i1"
         },
         "yaxis": "y"
        },
        {
         "customdata": [
          [
           "IMPLANTES",
           "PRIVADA",
           1108,
           4
          ],
          [
           "IMPLANTES",
           "PRIVADA",
           348,
           4
          ],
          [
           "IMPLANTES",
           "PRIVADA",
           46120,
           35
          ]
         ],
         "hovertemplate": "<b>%{hovertext}</b><br><br>category=%{customdata[0]}<br>tarifa=%{customdata[1]}<br>Precio Unitario=%{x}<br>Actos Realizados=%{y}<br>total=%{customdata[2]}<br>visits=%{customdata[3]}<extra></extra>",
         "hovertext": [
          "ADITAMENTOS PROTESICOS",
          "SUPRA O MESOESTRUCTURA",
          "IMPLANTE"
         ],
         "legendgroup": "IMPLANTES, PRIVADA",
         "marker": {
          "color": "#FECB52",
          "symbol": "diamond"
         },
         "mode": "markers",
         "name": "IMPLANTES, PRIVADA",
         "orientation": "v",
         "showlegend": true,
         "type": "scatter",
         "x": {
          "bdata": "AAAAAABQcUAAAAAAAMBVQApeTsHLaY1A",
          "dtype": "f8"
         },
         "xaxis": "x",
         "y": {
          "bdata": "BAQx",
          "dtype": "i1"
         },
         "yaxis": "y"
        },
        {
         "customdata": [
          [
           "IMPLANTES",
           "DKV",
           2000,
           2
          ]
         ],
         "hovertemplate": "<b>%{hovertext}</b><br><br>category=%{customdata[0]}<br>tarifa=%{customdata[1]}<br>Precio Unitario=%{x}<br>Actos Realizados=%{y}<br>total=%{customdata[2]}<br>visits=%{customdata[3]}<extra></extra>",
         "hovertext": [
          "IMPLANTE"
         ],
         "legendgroup": "IMPLANTES, DKV",
         "marker": {
          "color": "#FECB52",
          "symbol": "x"
         },
         "mode": "markers",
         "name": "IMPLANTES, DKV",
         "orientation": "v",
         "showlegend": true,
         "type": "scatter",
         "x": {
          "bdata": "AAAAAABAj0A=",
          "dtype": "f8"
         },
         "xaxis": "x",
         "y": {
          "bdata": "Ag==",
          "dtype": "i1"
         },
         "yaxis": "y"
        },
        {
         "customdata": [
          [
           "ORTODONCIAS",
           "PRIVADA",
           6179,
           6
          ],
          [
           "ORTODONCIAS",
           "PRIVADA",
           11543,
           19
          ],
          [
           "ORTODONCIAS",
           "PRIVADA",
           12040,
           3
          ],
          [
           "ORTODONCIAS",
           "PRIVADA",
           21350,
           6
          ],
          [
           "ORTODONCIAS",
           "PRIVADA",
           120,
           1
          ],
          [
           "ORTODONCIAS",
           "PRIVADA",
           348,
           3
          ],
          [
           "ORTODONCIAS",
           "PRIVADA",
           360,
           3
          ]
         ],
         "hovertemplate": "<b>%{hovertext}</b><br><br>category=%{customdata[0]}<br>tarifa=%{customdata[1]}<br>Precio Unitario=%{x}<br>Actos Realizados=%{y}<br>total=%{customdata[2]}<br>visits=%{customdata[3]}<extra></extra>",
         "hovertext": [
          "1 visitas ortodoncia",
          "BRACKETS METALICOS",
          "BRACKETS ESTETICOS",
          "INVISALIGN",
          "RELAIN. DENT. PARCIAL SUPERIOR",
          "RETENEDOR LINGUAL SUP",
          "RETENEDOR LINGUAL INF"
         ],
         "legendgroup": "ORTODONCIAS, PRIVADA",
         "marker": {
          "color": "#636efa",
          "symbol": "diamond"
         },
         "mode": "markers",
         "name": "ORTODONCIAS, PRIVADA",
         "orientation": "v",
         "showlegend": true,
         "type": "scatter",
         "x": {
          "bdata": "VVVVVVUXkEBDeQ3lNfyCQKuqqqqqWq9Aq6qqqqrMq0AAAAAAAABeQAAAAAAAAF1AAAAAAAAAXkA=",
          "dtype": "f8"
         },
         "xaxis": "x",
         "y": {
          "bdata": "BhMDBgEDAw==",
          "dtype": "i1"
         },
         "yaxis": "y"
        },
        {
         "customdata": [
          [
           "FRENECTOMIA",
           "PRIVADA",
           30,
           1
          ]
         ],
         "hovertemplate": "<b>%{hovertext}</b><br><br>category=%{customdata[0]}<br>tarifa=%{customdata[1]}<br>Precio Unitario=%{x}<br>Actos Realizados=%{y}<br>total=%{customdata[2]}<br>visits=%{customdata[3]}<extra></extra>",
         "hovertext": [
          "FRENECTOMIA INFANTIL"
         ],
         "legendgroup": "FRENECTOMIA, PRIVADA",
         "marker": {
          "color": "#EF553B",
          "symbol": "diamond"
         },
         "mode": "markers",
         "name": "FRENECTOMIA, PRIVADA",
         "orientation": "v",
         "showlegend": true,
         "type": "scatter",
         "x": {
          "bdata": "AAAAAAAAPkA=",
          "dtype": "f8"
         },
         "xaxis": "x",
         "y": {
          "bdata": "AQ==",
          "dtype": "i1"
         },
         "yaxis": "y"
        },
        {
         "customdata": [
          [
           "CIRUGIA MAXILOFACIAL",
           "PRIVADA",
           780,
           2
          ]
         ],
         "hovertemplate": "<b>%{hovertext}</b><br><br>category=%{customdata[0]}<br>tarifa=%{customdata[1]}<br>Precio Unitario=%{x}<br>Actos Realizados=%{y}<br>total=%{customdata[2]}<br>visits=%{customdata[3]}<extra></extra>",
         "hovertext": [
          "INJERTO OSEO"
         ],
         "legendgroup": "CIRUGIA MAXILOFACIAL, PRIVADA",
         "marker": {
          "color": "#00cc96",
          "symbol": "diamond"
         },
         "mode": "markers",
         "name": "CIRUGIA MAXILOFACIAL, PRIVADA",
         "orientation": "v",
         "showlegend": true,
         "type": "scatter",
         "x": {
          "bdata": "AAAAAABgeEA=",
          "dtype": "f8"
         },
         "xaxis": "x",
         "y": {
          "bdata": "Ag==",
          "dtype": "i1"
         },
         "yaxis": "y"
        },
        {
         "customdata": [
          [
           "BLANQUEAMIENTO",
           "PRIVADA",
           2950,
           8
          ]
         ],
         "hovertemplate": "<b>%{hovertext}</b><br><br>category=%{customdata[0]}<br>tarifa=%{customdata[1]}<br>Precio Unitario=%{x}<br>Actos Realizados=%{y}<br>total=%{customdata[2]}<br>visits=%{customdata[3]}<extra></extra>",
         "hovertext": [
          "BLANQUEAMIENTO PHILIPS ZOOM"
         ],
         "legendgroup": "BLANQUEAMIENTO, PRIVADA",
         "marker": {
          "color": "#ab63fa",
          "symbol": "diamond"
         },
         "mode": "markers",
         "name": "BLANQUEAMIENTO, PRIVADA",
         "orientation": "v",
         "showlegend": true,
         "type": "scatter",
         "x": {
          "bdata": "AAAAAAAMd0A=",
          "dtype": "f8"
         },
         "xaxis": "x",
         "y": {
          "bdata": "CA==",
          "dtype": "i1"
         },
         "yaxis": "y"
        }
       ],
       "layout": {
        "font": {
         "color": "black",
         "family": "Oswald"
        },
        "legend": {
         "title": {
          "text": "category, tarifa"
         },
         "tracegroupgap": 0
        },
        "paper_bgcolor": "white",
        "plot_bgcolor": "white",
        "template": {
         "data": {
          "bar": [
           {
            "error_x": {
             "color": "#2a3f5f"
            },
            "error_y": {
             "color": "#2a3f5f"
            },
            "marker": {
             "line": {
              "color": "#E5ECF6",
              "width": 0.5
             },
             "pattern": {
              "fillmode": "overlay",
              "size": 10,
              "solidity": 0.2
             }
            },
            "type": "bar"
           }
          ],
          "barpolar": [
           {
            "marker": {
             "line": {
              "color": "#E5ECF6",
              "width": 0.5
             },
             "pattern": {
              "fillmode": "overlay",
              "size": 10,
              "solidity": 0.2
             }
            },
            "type": "barpolar"
           }
          ],
          "carpet": [
           {
            "aaxis": {
             "endlinecolor": "#2a3f5f",
             "gridcolor": "white",
             "linecolor": "white",
             "minorgridcolor": "white",
             "startlinecolor": "#2a3f5f"
            },
            "baxis": {
             "endlinecolor": "#2a3f5f",
             "gridcolor": "white",
             "linecolor": "white",
             "minorgridcolor": "white",
             "startlinecolor": "#2a3f5f"
            },
            "type": "carpet"
           }
          ],
          "choropleth": [
           {
            "colorbar": {
             "outlinewidth": 0,
             "ticks": ""
            },
            "type": "choropleth"
           }
          ],
          "contour": [
           {
            "colorbar": {
             "outlinewidth": 0,
             "ticks": ""
            },
            "colorscale": [
             [
              0,
              "#0d0887"
             ],
             [
              0.1111111111111111,
              "#46039f"
             ],
             [
              0.2222222222222222,
              "#7201a8"
             ],
             [
              0.3333333333333333,
              "#9c179e"
             ],
             [
              0.4444444444444444,
              "#bd3786"
             ],
             [
              0.5555555555555556,
              "#d8576b"
             ],
             [
              0.6666666666666666,
              "#ed7953"
             ],
             [
              0.7777777777777778,
              "#fb9f3a"
             ],
             [
              0.8888888888888888,
              "#fdca26"
             ],
             [
              1,
              "#f0f921"
             ]
            ],
            "type": "contour"
           }
          ],
          "contourcarpet": [
           {
            "colorbar": {
             "outlinewidth": 0,
             "ticks": ""
            },
            "type": "contourcarpet"
           }
          ],
          "heatmap": [
           {
            "colorbar": {
             "outlinewidth": 0,
             "ticks": ""
            },
            "colorscale": [
             [
              0,
              "#0d0887"
             ],
             [
              0.1111111111111111,
              "#46039f"
             ],
             [
              0.2222222222222222,
              "#7201a8"
             ],
             [
              0.3333333333333333,
              "#9c179e"
             ],
             [
              0.4444444444444444,
              "#bd3786"
             ],
             [
              0.5555555555555556,
              "#d8576b"
             ],
             [
              0.6666666666666666,
              "#ed7953"
             ],
             [
              0.7777777777777778,
              "#fb9f3a"
             ],
             [
              0.8888888888888888,
              "#fdca26"
             ],
             [
              1,
              "#f0f921"
             ]
            ],
            "type": "heatmap"
           }
          ],
          "histogram": [
           {
            "marker": {
             "pattern": {
              "fillmode": "overlay",
              "size": 10,
              "solidity": 0.2
             }
            },
            "type": "histogram"
           }
          ],
          "histogram2d": [
           {
            "colorbar": {
             "outlinewidth": 0,
             "ticks": ""
            },
            "colorscale": [
             [
              0,
              "#0d0887"
             ],
             [
              0.1111111111111111,
              "#46039f"
             ],
             [
              0.2222222222222222,
              "#7201a8"
             ],
             [
              0.3333333333333333,
              "#9c179e"
             ],
             [
              0.4444444444444444,
              "#bd3786"
             ],
             [
              0.5555555555555556,
              "#d8576b"
             ],
             [
              0.6666666666666666,
              "#ed7953"
             ],
             [
              0.7777777777777778,
              "#fb9f3a"
             ],
             [
              0.8888888888888888,
              "#fdca26"
             ],
             [
              1,
              "#f0f921"
             ]
            ],
            "type": "histogram2d"
           }
          ],
          "histogram2dcontour": [
           {
            "colorbar": {
             "outlinewidth": 0,
             "ticks": ""
            },
            "colorscale": [
             [
              0,
              "#0d0887"
             ],
             [
              0.1111111111111111,
              "#46039f"
             ],
             [
              0.2222222222222222,
              "#7201a8"
             ],
             [
              0.3333333333333333,
              "#9c179e"
             ],
             [
              0.4444444444444444,
              "#bd3786"
             ],
             [
              0.5555555555555556,
              "#d8576b"
             ],
             [
              0.6666666666666666,
              "#ed7953"
             ],
             [
              0.7777777777777778,
              "#fb9f3a"
             ],
             [
              0.8888888888888888,
              "#fdca26"
             ],
             [
              1,
              "#f0f921"
             ]
            ],
            "type": "histogram2dcontour"
           }
          ],
          "mesh3d": [
           {
            "colorbar": {
             "outlinewidth": 0,
             "ticks": ""
            },
            "type": "mesh3d"
           }
          ],
          "parcoords": [
           {
            "line": {
             "colorbar": {
              "outlinewidth": 0,
              "ticks": ""
             }
            },
            "type": "parcoords"
           }
          ],
          "pie": [
           {
            "automargin": true,
            "type": "pie"
           }
          ],
          "scatter": [
           {
            "fillpattern": {
             "fillmode": "overlay",
             "size": 10,
             "solidity": 0.2
            },
            "type": "scatter"
           }
          ],
          "scatter3d": [
           {
            "line": {
             "colorbar": {
              "outlinewidth": 0,
              "ticks": ""
             }
            },
            "marker": {
             "colorbar": {
              "outlinewidth": 0,
              "ticks": ""
             }
            },
            "type": "scatter3d"
           }
          ],
          "scattercarpet": [
           {
            "marker": {
             "colorbar": {
              "outlinewidth": 0,
              "ticks": ""
             }
            },
            "type": "scattercarpet"
           }
          ],
          "scattergeo": [
           {
            "marker": {
             "colorbar": {
              "outlinewidth": 0,
              "ticks": ""
             }
            },
            "type": "scattergeo"
           }
          ],
          "scattergl": [
           {
            "marker": {
             "colorbar": {
              "outlinewidth": 0,
              "ticks": ""
             }
            },
            "type": "scattergl"
           }
          ],
          "scattermap": [
           {
            "marker": {
             "colorbar": {
              "outlinewidth": 0,
              "ticks": ""
             }
            },
            "type": "scattermap"
           }
          ],
          "scattermapbox": [
           {
            "marker": {
             "colorbar": {
              "outlinewidth": 0,
              "ticks": ""
             }
            },
            "type": "scattermapbox"
           }
          ],
          "scatterpolar": [
           {
            "marker": {
             "colorbar": {
              "outlinewidth": 0,
              "ticks": ""
             }
            },
            "type": "scatterpolar"
           }
          ],
          "scatterpolargl": [
           {
            "marker": {
             "colorbar": {
              "outlinewidth": 0,
              "ticks": ""
             }
            },
            "type": "scatterpolargl"
           }
          ],
          "scatterternary": [
           {
            "marker": {
             "colorbar": {
              "outlinewidth": 0,
              "ticks": ""
             }
            },
            "type": "scatterternary"
           }
          ],
          "surface": [
           {
            "colorbar": {
             "outlinewidth": 0,
             "ticks": ""
            },
            "colorscale": [
             [
              0,
              "#0d0887"
             ],
             [
              0.1111111111111111,
              "#46039f"
             ],
             [
              0.2222222222222222,
              "#7201a8"
             ],
             [
              0.3333333333333333,
              "#9c179e"
             ],
             [
              0.4444444444444444,
              "#bd3786"
             ],
             [
              0.5555555555555556,
              "#d8576b"
             ],
             [
              0.6666666666666666,
              "#ed7953"
             ],
             [
              0.7777777777777778,
              "#fb9f3a"
             ],
             [
              0.8888888888888888,
              "#fdca26"
             ],
             [
              1,
              "#f0f921"
             ]
            ],
            "type": "surface"
           }
          ],
          "table": [
           {
            "cells": {
             "fill": {
              "color": "#EBF0F8"
             },
             "line": {
              "color": "white"
             }
            },
            "header": {
             "fill": {
              "color": "#C8D4E3"
             },
             "line": {
              "color": "white"
             }
            },
            "type": "table"
           }
          ]
         },
         "layout": {
          "annotationdefaults": {
           "arrowcolor": "#2a3f5f",
           "arrowhead": 0,
           "arrowwidth": 1
          },
          "autotypenumbers": "strict",
          "coloraxis": {
           "colorbar": {
            "outlinewidth": 0,
            "ticks": ""
           }
          },
          "colorscale": {
           "diverging": [
            [
             0,
             "#8e0152"
            ],
            [
             0.1,
             "#c51b7d"
            ],
            [
             0.2,
             "#de77ae"
            ],
            [
             0.3,
             "#f1b6da"
            ],
            [
             0.4,
             "#fde0ef"
            ],
            [
             0.5,
             "#f7f7f7"
            ],
            [
             0.6,
             "#e6f5d0"
            ],
            [
             0.7,
             "#b8e186"
            ],
            [
             0.8,
             "#7fbc41"
            ],
            [
             0.9,
             "#4d9221"
            ],
            [
             1,
             "#276419"
            ]
           ],
           "sequential": [
            [
             0,
             "#0d0887"
            ],
            [
             0.1111111111111111,
             "#46039f"
            ],
            [
             0.2222222222222222,
             "#7201a8"
            ],
            [
             0.3333333333333333,
             "#9c179e"
            ],
            [
             0.4444444444444444,
             "#bd3786"
            ],
            [
             0.5555555555555556,
             "#d8576b"
            ],
            [
             0.6666666666666666,
             "#ed7953"
            ],
            [
             0.7777777777777778,
             "#fb9f3a"
            ],
            [
             0.8888888888888888,
             "#fdca26"
            ],
            [
             1,
             "#f0f921"
            ]
           ],
           "sequentialminus": [
            [
             0,
             "#0d0887"
            ],
            [
             0.1111111111111111,
             "#46039f"
            ],
            [
             0.2222222222222222,
             "#7201a8"
            ],
            [
             0.3333333333333333,
             "#9c179e"
            ],
            [
             0.4444444444444444,
             "#bd3786"
            ],
            [
             0.5555555555555556,
             "#d8576b"
            ],
            [
             0.6666666666666666,
             "#ed7953"
            ],
            [
             0.7777777777777778,
             "#fb9f3a"
            ],
            [
             0.8888888888888888,
             "#fdca26"
            ],
            [
             1,
             "#f0f921"
            ]
           ]
          },
          "colorway": [
           "#636efa",
           "#EF553B",
           "#00cc96",
           "#ab63fa",
           "#FFA15A",
           "#19d3f3",
           "#FF6692",
           "#B6E880",
           "#FF97FF",
           "#FECB52"
          ],
          "font": {
           "color": "#2a3f5f"
          },
          "geo": {
           "bgcolor": "white",
           "lakecolor": "white",
           "landcolor": "#E5ECF6",
           "showlakes": true,
           "showland": true,
           "subunitcolor": "white"
          },
          "hoverlabel": {
           "align": "left"
          },
          "hovermode": "closest",
          "mapbox": {
           "style": "light"
          },
          "paper_bgcolor": "white",
          "plot_bgcolor": "#E5ECF6",
          "polar": {
           "angularaxis": {
            "gridcolor": "white",
            "linecolor": "white",
            "ticks": ""
           },
           "bgcolor": "#E5ECF6",
           "radialaxis": {
            "gridcolor": "white",
            "linecolor": "white",
            "ticks": ""
           }
          },
          "scene": {
           "xaxis": {
            "backgroundcolor": "#E5ECF6",
            "gridcolor": "white",
            "gridwidth": 2,
            "linecolor": "white",
            "showbackground": true,
            "ticks": "",
            "zerolinecolor": "white"
           },
           "yaxis": {
            "backgroundcolor": "#E5ECF6",
            "gridcolor": "white",
            "gridwidth": 2,
            "linecolor": "white",
            "showbackground": true,
            "ticks": "",
            "zerolinecolor": "white"
           },
           "zaxis": {
            "backgroundcolor": "#E5ECF6",
            "gridcolor": "white",
            "gridwidth": 2,
            "linecolor": "white",
            "showbackground": true,
            "ticks": "",
            "zerolinecolor": "white"
           }
          },
          "shapedefaults": {
           "line": {
            "color": "#2a3f5f"
           }
          },
          "ternary": {
           "aaxis": {
            "gridcolor": "white",
            "linecolor": "white",
            "ticks": ""
           },
           "baxis": {
            "gridcolor": "white",
            "linecolor": "white",
            "ticks": ""
           },
           "bgcolor": "#E5ECF6",
           "caxis": {
            "gridcolor": "white",
            "linecolor": "white",
            "ticks": ""
           }
          },
          "title": {
           "x": 0.05
          },
          "xaxis": {
           "automargin": true,
           "gridcolor": "white",
           "linecolor": "white",
           "ticks": "",
           "title": {
            "standoff": 15
           },
           "zerolinecolor": "white",
           "zerolinewidth": 2
          },
          "yaxis": {
           "automargin": true,
           "gridcolor": "white",
           "linecolor": "white",
           "ticks": "",
           "title": {
            "standoff": 15
           },
           "zerolinecolor": "white",
           "zerolinewidth": 2
          }
         }
        },
        "title": {
         "font": {
          "color": "black"
         },
         "text": "Relación entre Precio Unitario y Número de Actos 2023"
        },
        "xaxis": {
         "anchor": "y",
         "domain": [
          0,
          1
         ],
         "gridcolor": "lightgray",
         "linecolor": "black",
         "showgrid": true,
         "tickfont": {
          "color": "black"
         },
         "title": {
          "font": {
           "color": "black"
          },
          "text": "Precio Unitario"
         },
         "type": "log",
         "zerolinecolor": "black"
        },
        "yaxis": {
         "anchor": "x",
         "domain": [
          0,
          1
         ],
         "gridcolor": "lightgray",
         "linecolor": "black",
         "showgrid": true,
         "tickfont": {
          "color": "black"
         },
         "title": {
          "font": {
           "color": "black"
          },
          "text": "Actos Realizados"
         },
         "type": "log",
         "zerolinecolor": "black"
        }
       }
      }
     },
     "metadata": {},
     "output_type": "display_data"
    }
   ],
   "source": [
    "fig = px.scatter(tabla_23_completa,\n",
    "                 x=\"precio_uni\", \n",
    "                 y=\"actos\",      \n",
    "                 color=\"category\",\n",
    "                 symbol =\"tarifa\" ,\n",
    "                 title=\"Relación entre Precio Unitario y Número de Actos 2023\", \n",
    "                 labels={\"precio_uni\": \"Precio Unitario\", \"actos\": \"Actos Realizados\"}, \n",
    "                 hover_name=\"info\", \n",
    "                 hover_data=['category', 'tarifa', 'total', 'visits']) \n",
    "\n",
    "fig.update_layout(\n",
    "    font_family=\"Oswald\", \n",
    "    font_color=\"black\",  \n",
    "    title_font_color=\"black\", \n",
    "    plot_bgcolor='white', \n",
    "    paper_bgcolor='white'\n",
    ")\n",
    "\n",
    "fig.update_xaxes(\n",
    "    showgrid=True,\n",
    "    gridcolor='lightgray', \n",
    "    linecolor='black',     \n",
    "    zerolinecolor='black', \n",
    "    tickfont_color='black',\n",
    "    title_font_color='black', \n",
    "    #tickvals=tickvals_x,\n",
    "    #ticktext=ticktext_x, \n",
    "    #range=[0, 4100],  \n",
    "    type='log'\n",
    ")\n",
    "\n",
    "fig.update_yaxes(\n",
    "    showgrid=True,\n",
    "    gridcolor='lightgray', \n",
    "    linecolor='black',\n",
    "    zerolinecolor='black', \n",
    "    tickfont_color='black', \n",
    "    title_font_color='black', \n",
    "    #tickvals=tickvals_y, \n",
    "    #ticktext=ticktext_y, \n",
    "    #range=[0, 260] \n",
    "    type='log'\n",
    ")\n",
    "\n",
    "fig.show()"
   ]
  },
  {
   "cell_type": "code",
   "execution_count": 100,
   "id": "ab5cc2f1",
   "metadata": {},
   "outputs": [
    {
     "data": {
      "application/vnd.plotly.v1+json": {
       "config": {
        "plotlyServerURL": "https://plot.ly"
       },
       "data": [
        {
         "customdata": [
          [
           "DIAGNOSTICOS",
           "  DKV",
           13,
           1
          ]
         ],
         "hovertemplate": "<b>%{hovertext}</b><br><br>category=%{customdata[0]}<br>tarifa=%{customdata[1]}<br>Precio Unitario=%{x}<br>Actos Realizados=%{y}<br>total=%{customdata[2]}<br>visits=%{customdata[3]}<extra></extra>",
         "hovertext": [
          "ORTOPANTOMOGRAFIA"
         ],
         "legendgroup": "DIAGNOSTICOS,   DKV",
         "marker": {
          "color": "#636efa",
          "symbol": "circle"
         },
         "mode": "markers",
         "name": "DIAGNOSTICOS,   DKV",
         "orientation": "v",
         "showlegend": true,
         "type": "scatter",
         "x": {
          "bdata": "AAAAAAAAKkA=",
          "dtype": "f8"
         },
         "xaxis": "x",
         "y": {
          "bdata": "AQ==",
          "dtype": "i1"
         },
         "yaxis": "y"
        },
        {
         "customdata": [
          [
           "DIAGNOSTICOS",
           "PRIVADA",
           1235,
           50
          ],
          [
           "DIAGNOSTICOS",
           "PRIVADA",
           2000,
           23
          ]
         ],
         "hovertemplate": "<b>%{hovertext}</b><br><br>category=%{customdata[0]}<br>tarifa=%{customdata[1]}<br>Precio Unitario=%{x}<br>Actos Realizados=%{y}<br>total=%{customdata[2]}<br>visits=%{customdata[3]}<extra></extra>",
         "hovertext": [
          "ORTOPANTOMOGRAFIA",
          "TAC"
         ],
         "legendgroup": "DIAGNOSTICOS, PRIVADA",
         "marker": {
          "color": "#636efa",
          "symbol": "diamond"
         },
         "mode": "markers",
         "name": "DIAGNOSTICOS, PRIVADA",
         "orientation": "v",
         "showlegend": true,
         "type": "scatter",
         "x": {
          "bdata": "MzMzMzOzOECc3vSmN71VQA==",
          "dtype": "f8"
         },
         "xaxis": "x",
         "y": {
          "bdata": "Mhc=",
          "dtype": "i1"
         },
         "yaxis": "y"
        },
        {
         "customdata": [
          [
           "PROFILAXIS",
           "  DKV",
           12,
           1
          ]
         ],
         "hovertemplate": "<b>%{hovertext}</b><br><br>category=%{customdata[0]}<br>tarifa=%{customdata[1]}<br>Precio Unitario=%{x}<br>Actos Realizados=%{y}<br>total=%{customdata[2]}<br>visits=%{customdata[3]}<extra></extra>",
         "hovertext": [
          "Copia de LIMPIEZA"
         ],
         "legendgroup": "PROFILAXIS,   DKV",
         "marker": {
          "color": "#EF553B",
          "symbol": "circle"
         },
         "mode": "markers",
         "name": "PROFILAXIS,   DKV",
         "orientation": "v",
         "showlegend": true,
         "type": "scatter",
         "x": {
          "bdata": "AAAAAAAAKEA=",
          "dtype": "f8"
         },
         "xaxis": "x",
         "y": {
          "bdata": "AQ==",
          "dtype": "i1"
         },
         "yaxis": "y"
        },
        {
         "customdata": [
          [
           "PROFILAXIS",
           "PRIVADA",
           11319,
           314
          ]
         ],
         "hovertemplate": "<b>%{hovertext}</b><br><br>category=%{customdata[0]}<br>tarifa=%{customdata[1]}<br>Precio Unitario=%{x}<br>Actos Realizados=%{y}<br>total=%{customdata[2]}<br>visits=%{customdata[3]}<extra></extra>",
         "hovertext": [
          "Copia de LIMPIEZA"
         ],
         "legendgroup": "PROFILAXIS, PRIVADA",
         "marker": {
          "color": "#EF553B",
          "symbol": "diamond"
         },
         "mode": "markers",
         "name": "PROFILAXIS, PRIVADA",
         "orientation": "v",
         "showlegend": true,
         "type": "scatter",
         "x": {
          "bdata": "L7rooosuP0A=",
          "dtype": "f8"
         },
         "xaxis": "x",
         "y": {
          "bdata": "awE=",
          "dtype": "i2"
         },
         "yaxis": "y"
        },
        {
         "customdata": [
          [
           "EXTRACCION",
           "  DKV",
           13,
           1
          ]
         ],
         "hovertemplate": "<b>%{hovertext}</b><br><br>category=%{customdata[0]}<br>tarifa=%{customdata[1]}<br>Precio Unitario=%{x}<br>Actos Realizados=%{y}<br>total=%{customdata[2]}<br>visits=%{customdata[3]}<extra></extra>",
         "hovertext": [
          "Copia de EXTRACCION SIMPLE"
         ],
         "legendgroup": "EXTRACCION,   DKV",
         "marker": {
          "color": "#00cc96",
          "symbol": "circle"
         },
         "mode": "markers",
         "name": "EXTRACCION,   DKV",
         "orientation": "v",
         "showlegend": true,
         "type": "scatter",
         "x": {
          "bdata": "AAAAAAAAKkA=",
          "dtype": "f8"
         },
         "xaxis": "x",
         "y": {
          "bdata": "AQ==",
          "dtype": "i1"
         },
         "yaxis": "y"
        },
        {
         "customdata": [
          [
           "EXTRACCION",
           "PRIVADA",
           4885,
           79
          ],
          [
           "EXTRACCION",
           "PRIVADA",
           100,
           1
          ]
         ],
         "hovertemplate": "<b>%{hovertext}</b><br><br>category=%{customdata[0]}<br>tarifa=%{customdata[1]}<br>Precio Unitario=%{x}<br>Actos Realizados=%{y}<br>total=%{customdata[2]}<br>visits=%{customdata[3]}<extra></extra>",
         "hovertext": [
          "Copia de EXTRACCION SIMPLE",
          "EXTRACCION QUIRURGICA TERCER MOLAR INCLUIDO"
         ],
         "legendgroup": "EXTRACCION, PRIVADA",
         "marker": {
          "color": "#00cc96",
          "symbol": "diamond"
         },
         "mode": "markers",
         "name": "EXTRACCION, PRIVADA",
         "orientation": "v",
         "showlegend": true,
         "type": "scatter",
         "x": {
          "bdata": "OY7jOI4jS0AAAAAAAABZQA==",
          "dtype": "f8"
         },
         "xaxis": "x",
         "y": {
          "bdata": "WgE=",
          "dtype": "i1"
         },
         "yaxis": "y"
        },
        {
         "customdata": [
          [
           "OBTURACION",
           "PRIVADA",
           18063,
           241
          ],
          [
           "OBTURACION",
           "PRIVADA",
           80,
           1
          ]
         ],
         "hovertemplate": "<b>%{hovertext}</b><br><br>category=%{customdata[0]}<br>tarifa=%{customdata[1]}<br>Precio Unitario=%{x}<br>Actos Realizados=%{y}<br>total=%{customdata[2]}<br>visits=%{customdata[3]}<extra></extra>",
         "hovertext": [
          "OBTURACION",
          "SELLADO POR DIENTE"
         ],
         "legendgroup": "OBTURACION, PRIVADA",
         "marker": {
          "color": "#ab63fa",
          "symbol": "diamond"
         },
         "mode": "markers",
         "name": "OBTURACION, PRIVADA",
         "orientation": "v",
         "showlegend": true,
         "type": "scatter",
         "x": {
          "bdata": "2Y0Hp4mcTUAAAAAAAABEQA==",
          "dtype": "f8"
         },
         "xaxis": "x",
         "y": {
          "bdata": "MQECAA==",
          "dtype": "i2"
         },
         "yaxis": "y"
        },
        {
         "customdata": [
          [
           "CIRUGIA PERIODONTAL",
           "PRIVADA",
           500,
           1
          ],
          [
           "CIRUGIA PERIODONTAL",
           "PRIVADA",
           200,
           1
          ]
         ],
         "hovertemplate": "<b>%{hovertext}</b><br><br>category=%{customdata[0]}<br>tarifa=%{customdata[1]}<br>Precio Unitario=%{x}<br>Actos Realizados=%{y}<br>total=%{customdata[2]}<br>visits=%{customdata[3]}<extra></extra>",
         "hovertext": [
          "CIRUGIA OSEA POR CUADRANTE",
          "REGENERACION DE TEJIDOS"
         ],
         "legendgroup": "CIRUGIA PERIODONTAL, PRIVADA",
         "marker": {
          "color": "#FFA15A",
          "symbol": "diamond"
         },
         "mode": "markers",
         "name": "CIRUGIA PERIODONTAL, PRIVADA",
         "orientation": "v",
         "showlegend": true,
         "type": "scatter",
         "x": {
          "bdata": "AAAAAABAf0AAAAAAAABpQA==",
          "dtype": "f8"
         },
         "xaxis": "x",
         "y": {
          "bdata": "AQE=",
          "dtype": "i1"
         },
         "yaxis": "y"
        },
        {
         "customdata": [
          [
           "ENDODONCIAS",
           "PRIVADA",
           4644,
           30
          ],
          [
           "ENDODONCIAS",
           "PRIVADA",
           149,
           2
          ]
         ],
         "hovertemplate": "<b>%{hovertext}</b><br><br>category=%{customdata[0]}<br>tarifa=%{customdata[1]}<br>Precio Unitario=%{x}<br>Actos Realizados=%{y}<br>total=%{customdata[2]}<br>visits=%{customdata[3]}<extra></extra>",
         "hovertext": [
          "Copia de ENDODONCIA ANTERIOR",
          "PULPUTOMIA TERAPEUTICA"
         ],
         "legendgroup": "ENDODONCIAS, PRIVADA",
         "marker": {
          "color": "#19d3f3",
          "symbol": "diamond"
         },
         "mode": "markers",
         "name": "ENDODONCIAS, PRIVADA",
         "orientation": "v",
         "showlegend": true,
         "type": "scatter",
         "x": {
          "bdata": "mpmZmZlZY0AAAAAAAKBSQA==",
          "dtype": "f8"
         },
         "xaxis": "x",
         "y": {
          "bdata": "HgI=",
          "dtype": "i1"
         },
         "yaxis": "y"
        },
        {
         "customdata": [
          [
           "CORONA",
           "PRIVADA",
           17796,
           45
          ],
          [
           "CORONA",
           "PRIVADA",
           858,
           19
          ],
          [
           "CORONA",
           "PRIVADA",
           22135,
           40
          ],
          [
           "CORONA",
           "PRIVADA",
           439,
           1
          ],
          [
           "CORONA",
           "PRIVADA",
           247,
           4
          ]
         ],
         "hovertemplate": "<b>%{hovertext}</b><br><br>category=%{customdata[0]}<br>tarifa=%{customdata[1]}<br>Precio Unitario=%{x}<br>Actos Realizados=%{y}<br>total=%{customdata[2]}<br>visits=%{customdata[3]}<extra></extra>",
         "hovertext": [
          "CORONA METAL CERAMICA",
          "CORONA RESINA(LABORATORIO)",
          "CORONA IMPLANTE",
          "CORONA IMPLANTE ZIRCONIO",
          "RECEMENTADO DE CORONA"
         ],
         "legendgroup": "CORONA, PRIVADA",
         "marker": {
          "color": "#FF6692",
          "symbol": "diamond"
         },
         "mode": "markers",
         "name": "CORONA, PRIVADA",
         "orientation": "v",
         "showlegend": true,
         "type": "scatter",
         "x": {
          "bdata": "uy+PrQjackDbtm3btm1EQBhvZZ9DGnpAAAAAAABwe0BJkiRJkqRBQA==",
          "dtype": "f8"
         },
         "xaxis": "x",
         "y": {
          "bdata": "OxU1AQc=",
          "dtype": "i1"
         },
         "yaxis": "y"
        },
        {
         "customdata": [
          [
           "PUENTES",
           "PRIVADA",
           1785,
           6
          ]
         ],
         "hovertemplate": "<b>%{hovertext}</b><br><br>category=%{customdata[0]}<br>tarifa=%{customdata[1]}<br>Precio Unitario=%{x}<br>Actos Realizados=%{y}<br>total=%{customdata[2]}<br>visits=%{customdata[3]}<extra></extra>",
         "hovertext": [
          "RECEMENTADO DE PUENTE"
         ],
         "legendgroup": "PUENTES, PRIVADA",
         "marker": {
          "color": "#B6E880",
          "symbol": "diamond"
         },
         "mode": "markers",
         "name": "PUENTES, PRIVADA",
         "orientation": "v",
         "showlegend": true,
         "type": "scatter",
         "x": {
          "bdata": "AAAAAADkW0A=",
          "dtype": "f8"
         },
         "xaxis": "x",
         "y": {
          "bdata": "EA==",
          "dtype": "i1"
         },
         "yaxis": "y"
        },
        {
         "customdata": [
          [
           "MUñON",
           "PRIVADA",
           150,
           2
          ]
         ],
         "hovertemplate": "<b>%{hovertext}</b><br><br>category=%{customdata[0]}<br>tarifa=%{customdata[1]}<br>Precio Unitario=%{x}<br>Actos Realizados=%{y}<br>total=%{customdata[2]}<br>visits=%{customdata[3]}<extra></extra>",
         "hovertext": [
          "POSTE FIBRA DE VIDRIO"
         ],
         "legendgroup": "MUñON, PRIVADA",
         "marker": {
          "color": "#FF97FF",
          "symbol": "diamond"
         },
         "mode": "markers",
         "name": "MUñON, PRIVADA",
         "orientation": "v",
         "showlegend": true,
         "type": "scatter",
         "x": {
          "bdata": "AAAAAADAUkA=",
          "dtype": "f8"
         },
         "xaxis": "x",
         "y": {
          "bdata": "Ag==",
          "dtype": "i1"
         },
         "yaxis": "y"
        },
        {
         "customdata": [
          [
           "PROTESIS REMOVIBLE",
           "PRIVADA",
           1378,
           7
          ],
          [
           "PROTESIS REMOVIBLE",
           "PRIVADA",
           750,
           1
          ],
          [
           "PROTESIS REMOVIBLE",
           "PRIVADA",
           600,
           1
          ],
          [
           "PROTESIS REMOVIBLE",
           "PRIVADA",
           120,
           1
          ],
          [
           "PROTESIS REMOVIBLE",
           "PRIVADA",
           1950,
           4
          ],
          [
           "PROTESIS REMOVIBLE",
           "PRIVADA",
           1130,
           3
          ],
          [
           "PROTESIS REMOVIBLE",
           "PRIVADA",
           60,
           1
          ],
          [
           "PROTESIS REMOVIBLE",
           "PRIVADA",
           170,
           2
          ],
          [
           "PROTESIS REMOVIBLE",
           "PRIVADA",
           140,
           2
          ]
         ],
         "hovertemplate": "<b>%{hovertext}</b><br><br>category=%{customdata[0]}<br>tarifa=%{customdata[1]}<br>Precio Unitario=%{x}<br>Actos Realizados=%{y}<br>total=%{customdata[2]}<br>visits=%{customdata[3]}<extra></extra>",
         "hovertext": [
          "FERULA DESCARGA",
          "DENT. COMPLETA SUPERIOR",
          "REPARACION BASE DENT. COMPLETA",
          "DENT. PARCIAL REMOV. UNILATERA",
          "Copia de PARCIAL INFERIOR",
          "Copia de PARCIAL SUPERIOR",
          "AJUST. DENT. PARC. SUPERIOR",
          "AJUST. DENT. PARC. INFERIOR",
          "COMPOSTURA DIENTE"
         ],
         "legendgroup": "PROTESIS REMOVIBLE, PRIVADA",
         "marker": {
          "color": "#FECB52",
          "symbol": "diamond"
         },
         "mode": "markers",
         "name": "PROTESIS REMOVIBLE, PRIVADA",
         "orientation": "v",
         "showlegend": true,
         "type": "scatter",
         "x": {
          "bdata": "t23btm2baEAAAAAAAHCHQAAAAAAAwIJAAAAAAAAAXkAAAAAAAHh+QKuqqqqqindAAAAAAAAATkAAAAAAAEBVQAAAAAAAgEFA",
          "dtype": "f8"
         },
         "xaxis": "x",
         "y": {
          "bdata": "BwEBAQQDAQIE",
          "dtype": "i1"
         },
         "yaxis": "y"
        },
        {
         "customdata": [
          [
           "IMPLANTES",
           "PRIVADA",
           39700,
           36
          ],
          [
           "IMPLANTES",
           "PRIVADA",
           50,
           1
          ]
         ],
         "hovertemplate": "<b>%{hovertext}</b><br><br>category=%{customdata[0]}<br>tarifa=%{customdata[1]}<br>Precio Unitario=%{x}<br>Actos Realizados=%{y}<br>total=%{customdata[2]}<br>visits=%{customdata[3]}<extra></extra>",
         "hovertext": [
          "IMPLANTE",
          "REPARACION DE IMPLANTE"
         ],
         "legendgroup": "IMPLANTES, PRIVADA",
         "marker": {
          "color": "#636efa",
          "symbol": "diamond"
         },
         "mode": "markers",
         "name": "IMPLANTES, PRIVADA",
         "orientation": "v",
         "showlegend": true,
         "type": "scatter",
         "x": {
          "bdata": "AAAAAAAEj0AAAAAAAAApQA==",
          "dtype": "f8"
         },
         "xaxis": "x",
         "y": {
          "bdata": "KAQ=",
          "dtype": "i1"
         },
         "yaxis": "y"
        },
        {
         "customdata": [
          [
           "ORTODONCIAS",
           "PRIVADA",
           30,
           2
          ],
          [
           "ORTODONCIAS",
           "PRIVADA",
           3828,
           25
          ],
          [
           "ORTODONCIAS",
           "PRIVADA",
           29,
           1
          ],
          [
           "ORTODONCIAS",
           "PRIVADA",
           22900,
           5
          ],
          [
           "ORTODONCIAS",
           "PRIVADA",
           120,
           1
          ],
          [
           "ORTODONCIAS",
           "PRIVADA",
           116,
           2
          ],
          [
           "ORTODONCIAS",
           "PRIVADA",
           240,
           2
          ],
          [
           "ORTODONCIAS",
           "PRIVADA",
           100,
           1
          ],
          [
           "ORTODONCIAS",
           "PRIVADA",
           486,
           5
          ]
         ],
         "hovertemplate": "<b>%{hovertext}</b><br><br>category=%{customdata[0]}<br>tarifa=%{customdata[1]}<br>Precio Unitario=%{x}<br>Actos Realizados=%{y}<br>total=%{customdata[2]}<br>visits=%{customdata[3]}<extra></extra>",
         "hovertext": [
          "1 visitas ortodoncia",
          "BRACKETS METALICOS",
          "BRACKETS ESTETICOS",
          "INVISALIGN",
          "PROCED. PROST. REMOV. SIN ESPE",
          "ORTODONCIA FIJA",
          "ORTODONCIA REMOVIBLE",
          "RETENEDOR LINGUAL SUP",
          "RETENEDOR LINGUAL INF"
         ],
         "legendgroup": "ORTODONCIAS, PRIVADA",
         "marker": {
          "color": "#EF553B",
          "symbol": "diamond"
         },
         "mode": "markers",
         "name": "ORTODONCIAS, PRIVADA",
         "orientation": "v",
         "showlegend": true,
         "type": "scatter",
         "x": {
          "bdata": "AAAAAAAALkCkcD0K1yNjQAAAAAAAAD1AAAAAAADksUAAAAAAAABeQAAAAAAAAE1AAAAAAAAAXkAAAAAAAABZQM3MzMzMTFhA",
          "dtype": "f8"
         },
         "xaxis": "x",
         "y": {
          "bdata": "AhkBBQECAgEF",
          "dtype": "i1"
         },
         "yaxis": "y"
        },
        {
         "customdata": [
          [
           "CIRUGIA MAXILOFACIAL",
           "PRIVADA",
           2900,
           9
          ]
         ],
         "hovertemplate": "<b>%{hovertext}</b><br><br>category=%{customdata[0]}<br>tarifa=%{customdata[1]}<br>Precio Unitario=%{x}<br>Actos Realizados=%{y}<br>total=%{customdata[2]}<br>visits=%{customdata[3]}<extra></extra>",
         "hovertext": [
          "INJERTO OSEO"
         ],
         "legendgroup": "CIRUGIA MAXILOFACIAL, PRIVADA",
         "marker": {
          "color": "#00cc96",
          "symbol": "diamond"
         },
         "mode": "markers",
         "name": "CIRUGIA MAXILOFACIAL, PRIVADA",
         "orientation": "v",
         "showlegend": true,
         "type": "scatter",
         "x": {
          "bdata": "OY7jOI4jdEA=",
          "dtype": "f8"
         },
         "xaxis": "x",
         "y": {
          "bdata": "CQ==",
          "dtype": "i1"
         },
         "yaxis": "y"
        },
        {
         "customdata": [
          [
           "BLANQUEAMIENTO",
           "PRIVADA",
           2210,
           7
          ]
         ],
         "hovertemplate": "<b>%{hovertext}</b><br><br>category=%{customdata[0]}<br>tarifa=%{customdata[1]}<br>Precio Unitario=%{x}<br>Actos Realizados=%{y}<br>total=%{customdata[2]}<br>visits=%{customdata[3]}<extra></extra>",
         "hovertext": [
          "BLANQUEAMIENTO PHILIPS ZOOM"
         ],
         "legendgroup": "BLANQUEAMIENTO, PRIVADA",
         "marker": {
          "color": "#ab63fa",
          "symbol": "diamond"
         },
         "mode": "markers",
         "name": "BLANQUEAMIENTO, PRIVADA",
         "orientation": "v",
         "showlegend": true,
         "type": "scatter",
         "x": {
          "bdata": "t23btm27c0A=",
          "dtype": "f8"
         },
         "xaxis": "x",
         "y": {
          "bdata": "Bw==",
          "dtype": "i1"
         },
         "yaxis": "y"
        }
       ],
       "layout": {
        "font": {
         "color": "black",
         "family": "Oswald"
        },
        "legend": {
         "title": {
          "text": "category, tarifa"
         },
         "tracegroupgap": 0
        },
        "paper_bgcolor": "white",
        "plot_bgcolor": "white",
        "template": {
         "data": {
          "bar": [
           {
            "error_x": {
             "color": "#2a3f5f"
            },
            "error_y": {
             "color": "#2a3f5f"
            },
            "marker": {
             "line": {
              "color": "#E5ECF6",
              "width": 0.5
             },
             "pattern": {
              "fillmode": "overlay",
              "size": 10,
              "solidity": 0.2
             }
            },
            "type": "bar"
           }
          ],
          "barpolar": [
           {
            "marker": {
             "line": {
              "color": "#E5ECF6",
              "width": 0.5
             },
             "pattern": {
              "fillmode": "overlay",
              "size": 10,
              "solidity": 0.2
             }
            },
            "type": "barpolar"
           }
          ],
          "carpet": [
           {
            "aaxis": {
             "endlinecolor": "#2a3f5f",
             "gridcolor": "white",
             "linecolor": "white",
             "minorgridcolor": "white",
             "startlinecolor": "#2a3f5f"
            },
            "baxis": {
             "endlinecolor": "#2a3f5f",
             "gridcolor": "white",
             "linecolor": "white",
             "minorgridcolor": "white",
             "startlinecolor": "#2a3f5f"
            },
            "type": "carpet"
           }
          ],
          "choropleth": [
           {
            "colorbar": {
             "outlinewidth": 0,
             "ticks": ""
            },
            "type": "choropleth"
           }
          ],
          "contour": [
           {
            "colorbar": {
             "outlinewidth": 0,
             "ticks": ""
            },
            "colorscale": [
             [
              0,
              "#0d0887"
             ],
             [
              0.1111111111111111,
              "#46039f"
             ],
             [
              0.2222222222222222,
              "#7201a8"
             ],
             [
              0.3333333333333333,
              "#9c179e"
             ],
             [
              0.4444444444444444,
              "#bd3786"
             ],
             [
              0.5555555555555556,
              "#d8576b"
             ],
             [
              0.6666666666666666,
              "#ed7953"
             ],
             [
              0.7777777777777778,
              "#fb9f3a"
             ],
             [
              0.8888888888888888,
              "#fdca26"
             ],
             [
              1,
              "#f0f921"
             ]
            ],
            "type": "contour"
           }
          ],
          "contourcarpet": [
           {
            "colorbar": {
             "outlinewidth": 0,
             "ticks": ""
            },
            "type": "contourcarpet"
           }
          ],
          "heatmap": [
           {
            "colorbar": {
             "outlinewidth": 0,
             "ticks": ""
            },
            "colorscale": [
             [
              0,
              "#0d0887"
             ],
             [
              0.1111111111111111,
              "#46039f"
             ],
             [
              0.2222222222222222,
              "#7201a8"
             ],
             [
              0.3333333333333333,
              "#9c179e"
             ],
             [
              0.4444444444444444,
              "#bd3786"
             ],
             [
              0.5555555555555556,
              "#d8576b"
             ],
             [
              0.6666666666666666,
              "#ed7953"
             ],
             [
              0.7777777777777778,
              "#fb9f3a"
             ],
             [
              0.8888888888888888,
              "#fdca26"
             ],
             [
              1,
              "#f0f921"
             ]
            ],
            "type": "heatmap"
           }
          ],
          "histogram": [
           {
            "marker": {
             "pattern": {
              "fillmode": "overlay",
              "size": 10,
              "solidity": 0.2
             }
            },
            "type": "histogram"
           }
          ],
          "histogram2d": [
           {
            "colorbar": {
             "outlinewidth": 0,
             "ticks": ""
            },
            "colorscale": [
             [
              0,
              "#0d0887"
             ],
             [
              0.1111111111111111,
              "#46039f"
             ],
             [
              0.2222222222222222,
              "#7201a8"
             ],
             [
              0.3333333333333333,
              "#9c179e"
             ],
             [
              0.4444444444444444,
              "#bd3786"
             ],
             [
              0.5555555555555556,
              "#d8576b"
             ],
             [
              0.6666666666666666,
              "#ed7953"
             ],
             [
              0.7777777777777778,
              "#fb9f3a"
             ],
             [
              0.8888888888888888,
              "#fdca26"
             ],
             [
              1,
              "#f0f921"
             ]
            ],
            "type": "histogram2d"
           }
          ],
          "histogram2dcontour": [
           {
            "colorbar": {
             "outlinewidth": 0,
             "ticks": ""
            },
            "colorscale": [
             [
              0,
              "#0d0887"
             ],
             [
              0.1111111111111111,
              "#46039f"
             ],
             [
              0.2222222222222222,
              "#7201a8"
             ],
             [
              0.3333333333333333,
              "#9c179e"
             ],
             [
              0.4444444444444444,
              "#bd3786"
             ],
             [
              0.5555555555555556,
              "#d8576b"
             ],
             [
              0.6666666666666666,
              "#ed7953"
             ],
             [
              0.7777777777777778,
              "#fb9f3a"
             ],
             [
              0.8888888888888888,
              "#fdca26"
             ],
             [
              1,
              "#f0f921"
             ]
            ],
            "type": "histogram2dcontour"
           }
          ],
          "mesh3d": [
           {
            "colorbar": {
             "outlinewidth": 0,
             "ticks": ""
            },
            "type": "mesh3d"
           }
          ],
          "parcoords": [
           {
            "line": {
             "colorbar": {
              "outlinewidth": 0,
              "ticks": ""
             }
            },
            "type": "parcoords"
           }
          ],
          "pie": [
           {
            "automargin": true,
            "type": "pie"
           }
          ],
          "scatter": [
           {
            "fillpattern": {
             "fillmode": "overlay",
             "size": 10,
             "solidity": 0.2
            },
            "type": "scatter"
           }
          ],
          "scatter3d": [
           {
            "line": {
             "colorbar": {
              "outlinewidth": 0,
              "ticks": ""
             }
            },
            "marker": {
             "colorbar": {
              "outlinewidth": 0,
              "ticks": ""
             }
            },
            "type": "scatter3d"
           }
          ],
          "scattercarpet": [
           {
            "marker": {
             "colorbar": {
              "outlinewidth": 0,
              "ticks": ""
             }
            },
            "type": "scattercarpet"
           }
          ],
          "scattergeo": [
           {
            "marker": {
             "colorbar": {
              "outlinewidth": 0,
              "ticks": ""
             }
            },
            "type": "scattergeo"
           }
          ],
          "scattergl": [
           {
            "marker": {
             "colorbar": {
              "outlinewidth": 0,
              "ticks": ""
             }
            },
            "type": "scattergl"
           }
          ],
          "scattermap": [
           {
            "marker": {
             "colorbar": {
              "outlinewidth": 0,
              "ticks": ""
             }
            },
            "type": "scattermap"
           }
          ],
          "scattermapbox": [
           {
            "marker": {
             "colorbar": {
              "outlinewidth": 0,
              "ticks": ""
             }
            },
            "type": "scattermapbox"
           }
          ],
          "scatterpolar": [
           {
            "marker": {
             "colorbar": {
              "outlinewidth": 0,
              "ticks": ""
             }
            },
            "type": "scatterpolar"
           }
          ],
          "scatterpolargl": [
           {
            "marker": {
             "colorbar": {
              "outlinewidth": 0,
              "ticks": ""
             }
            },
            "type": "scatterpolargl"
           }
          ],
          "scatterternary": [
           {
            "marker": {
             "colorbar": {
              "outlinewidth": 0,
              "ticks": ""
             }
            },
            "type": "scatterternary"
           }
          ],
          "surface": [
           {
            "colorbar": {
             "outlinewidth": 0,
             "ticks": ""
            },
            "colorscale": [
             [
              0,
              "#0d0887"
             ],
             [
              0.1111111111111111,
              "#46039f"
             ],
             [
              0.2222222222222222,
              "#7201a8"
             ],
             [
              0.3333333333333333,
              "#9c179e"
             ],
             [
              0.4444444444444444,
              "#bd3786"
             ],
             [
              0.5555555555555556,
              "#d8576b"
             ],
             [
              0.6666666666666666,
              "#ed7953"
             ],
             [
              0.7777777777777778,
              "#fb9f3a"
             ],
             [
              0.8888888888888888,
              "#fdca26"
             ],
             [
              1,
              "#f0f921"
             ]
            ],
            "type": "surface"
           }
          ],
          "table": [
           {
            "cells": {
             "fill": {
              "color": "#EBF0F8"
             },
             "line": {
              "color": "white"
             }
            },
            "header": {
             "fill": {
              "color": "#C8D4E3"
             },
             "line": {
              "color": "white"
             }
            },
            "type": "table"
           }
          ]
         },
         "layout": {
          "annotationdefaults": {
           "arrowcolor": "#2a3f5f",
           "arrowhead": 0,
           "arrowwidth": 1
          },
          "autotypenumbers": "strict",
          "coloraxis": {
           "colorbar": {
            "outlinewidth": 0,
            "ticks": ""
           }
          },
          "colorscale": {
           "diverging": [
            [
             0,
             "#8e0152"
            ],
            [
             0.1,
             "#c51b7d"
            ],
            [
             0.2,
             "#de77ae"
            ],
            [
             0.3,
             "#f1b6da"
            ],
            [
             0.4,
             "#fde0ef"
            ],
            [
             0.5,
             "#f7f7f7"
            ],
            [
             0.6,
             "#e6f5d0"
            ],
            [
             0.7,
             "#b8e186"
            ],
            [
             0.8,
             "#7fbc41"
            ],
            [
             0.9,
             "#4d9221"
            ],
            [
             1,
             "#276419"
            ]
           ],
           "sequential": [
            [
             0,
             "#0d0887"
            ],
            [
             0.1111111111111111,
             "#46039f"
            ],
            [
             0.2222222222222222,
             "#7201a8"
            ],
            [
             0.3333333333333333,
             "#9c179e"
            ],
            [
             0.4444444444444444,
             "#bd3786"
            ],
            [
             0.5555555555555556,
             "#d8576b"
            ],
            [
             0.6666666666666666,
             "#ed7953"
            ],
            [
             0.7777777777777778,
             "#fb9f3a"
            ],
            [
             0.8888888888888888,
             "#fdca26"
            ],
            [
             1,
             "#f0f921"
            ]
           ],
           "sequentialminus": [
            [
             0,
             "#0d0887"
            ],
            [
             0.1111111111111111,
             "#46039f"
            ],
            [
             0.2222222222222222,
             "#7201a8"
            ],
            [
             0.3333333333333333,
             "#9c179e"
            ],
            [
             0.4444444444444444,
             "#bd3786"
            ],
            [
             0.5555555555555556,
             "#d8576b"
            ],
            [
             0.6666666666666666,
             "#ed7953"
            ],
            [
             0.7777777777777778,
             "#fb9f3a"
            ],
            [
             0.8888888888888888,
             "#fdca26"
            ],
            [
             1,
             "#f0f921"
            ]
           ]
          },
          "colorway": [
           "#636efa",
           "#EF553B",
           "#00cc96",
           "#ab63fa",
           "#FFA15A",
           "#19d3f3",
           "#FF6692",
           "#B6E880",
           "#FF97FF",
           "#FECB52"
          ],
          "font": {
           "color": "#2a3f5f"
          },
          "geo": {
           "bgcolor": "white",
           "lakecolor": "white",
           "landcolor": "#E5ECF6",
           "showlakes": true,
           "showland": true,
           "subunitcolor": "white"
          },
          "hoverlabel": {
           "align": "left"
          },
          "hovermode": "closest",
          "mapbox": {
           "style": "light"
          },
          "paper_bgcolor": "white",
          "plot_bgcolor": "#E5ECF6",
          "polar": {
           "angularaxis": {
            "gridcolor": "white",
            "linecolor": "white",
            "ticks": ""
           },
           "bgcolor": "#E5ECF6",
           "radialaxis": {
            "gridcolor": "white",
            "linecolor": "white",
            "ticks": ""
           }
          },
          "scene": {
           "xaxis": {
            "backgroundcolor": "#E5ECF6",
            "gridcolor": "white",
            "gridwidth": 2,
            "linecolor": "white",
            "showbackground": true,
            "ticks": "",
            "zerolinecolor": "white"
           },
           "yaxis": {
            "backgroundcolor": "#E5ECF6",
            "gridcolor": "white",
            "gridwidth": 2,
            "linecolor": "white",
            "showbackground": true,
            "ticks": "",
            "zerolinecolor": "white"
           },
           "zaxis": {
            "backgroundcolor": "#E5ECF6",
            "gridcolor": "white",
            "gridwidth": 2,
            "linecolor": "white",
            "showbackground": true,
            "ticks": "",
            "zerolinecolor": "white"
           }
          },
          "shapedefaults": {
           "line": {
            "color": "#2a3f5f"
           }
          },
          "ternary": {
           "aaxis": {
            "gridcolor": "white",
            "linecolor": "white",
            "ticks": ""
           },
           "baxis": {
            "gridcolor": "white",
            "linecolor": "white",
            "ticks": ""
           },
           "bgcolor": "#E5ECF6",
           "caxis": {
            "gridcolor": "white",
            "linecolor": "white",
            "ticks": ""
           }
          },
          "title": {
           "x": 0.05
          },
          "xaxis": {
           "automargin": true,
           "gridcolor": "white",
           "linecolor": "white",
           "ticks": "",
           "title": {
            "standoff": 15
           },
           "zerolinecolor": "white",
           "zerolinewidth": 2
          },
          "yaxis": {
           "automargin": true,
           "gridcolor": "white",
           "linecolor": "white",
           "ticks": "",
           "title": {
            "standoff": 15
           },
           "zerolinecolor": "white",
           "zerolinewidth": 2
          }
         }
        },
        "title": {
         "font": {
          "color": "black"
         },
         "text": "Relación entre Precio Unitario y Número de Actos 2024"
        },
        "xaxis": {
         "anchor": "y",
         "domain": [
          0,
          1
         ],
         "gridcolor": "lightgray",
         "linecolor": "black",
         "showgrid": true,
         "tickfont": {
          "color": "black"
         },
         "title": {
          "font": {
           "color": "black"
          },
          "text": "Precio Unitario"
         },
         "type": "log",
         "zerolinecolor": "black"
        },
        "yaxis": {
         "anchor": "x",
         "domain": [
          0,
          1
         ],
         "gridcolor": "lightgray",
         "linecolor": "black",
         "showgrid": true,
         "tickfont": {
          "color": "black"
         },
         "title": {
          "font": {
           "color": "black"
          },
          "text": "Actos Realizados"
         },
         "type": "log",
         "zerolinecolor": "black"
        }
       }
      }
     },
     "metadata": {},
     "output_type": "display_data"
    }
   ],
   "source": [
    "fig = px.scatter(tabla_24_completa,\n",
    "                 x=\"precio_uni\", \n",
    "                 y=\"actos\",      \n",
    "                 color=\"category\",\n",
    "                 symbol =\"tarifa\" ,\n",
    "                 title=\"Relación entre Precio Unitario y Número de Actos 2024\", \n",
    "                 labels={\"precio_uni\": \"Precio Unitario\", \"actos\": \"Actos Realizados\"}, \n",
    "                 hover_name=\"info\", \n",
    "                 hover_data=['category', 'tarifa', 'total', 'visits']) \n",
    "\n",
    "fig.update_layout(\n",
    "    font_family=\"Oswald\", \n",
    "    font_color=\"black\",  \n",
    "    title_font_color=\"black\", \n",
    "    plot_bgcolor='white', \n",
    "    paper_bgcolor='white'\n",
    ")\n",
    "\n",
    "fig.update_xaxes(\n",
    "    showgrid=True,\n",
    "    gridcolor='lightgray', \n",
    "    linecolor='black',     \n",
    "    zerolinecolor='black', \n",
    "    tickfont_color='black',\n",
    "    title_font_color='black', \n",
    "    #tickvals=tickvals_x,\n",
    "    #ticktext=ticktext_x, \n",
    "    #range=[0, 4100],  \n",
    "    type='log'\n",
    ")\n",
    "\n",
    "fig.update_yaxes(\n",
    "    showgrid=True,\n",
    "    gridcolor='lightgray', \n",
    "    linecolor='black',\n",
    "    zerolinecolor='black', \n",
    "    tickfont_color='black', \n",
    "    title_font_color='black', \n",
    "    #tickvals=tickvals_y, \n",
    "    #ticktext=ticktext_y, \n",
    "    #range=[0, 260] \n",
    "    type='log'\n",
    ")\n",
    "\n",
    "fig.show()"
   ]
  },
  {
   "cell_type": "code",
   "execution_count": 101,
   "id": "e66b6767",
   "metadata": {},
   "outputs": [
    {
     "data": {
      "application/vnd.plotly.v1+json": {
       "config": {
        "plotlyServerURL": "https://plot.ly"
       },
       "data": [
        {
         "customdata": [
          [
           "DIAGNOSTICOS",
           "  DKV",
           13,
           1
          ],
          [
           "DIAGNOSTICOS",
           "PRIVADA",
           1013,
           43
          ],
          [
           "DIAGNOSTICOS",
           "PRIVADA",
           2400,
           28
          ]
         ],
         "hovertemplate": "<b>%{hovertext}</b><br><br>category=%{customdata[0]}<br>Precio Unitario=%{x}<br>Actos Realizados=%{y}<br>tarifa=%{customdata[1]}<br>total=%{customdata[2]}<br>visits=%{customdata[3]}<extra></extra>",
         "hovertext": [
          "ORTOPANTOMOGRAFIA",
          "ORTOPANTOMOGRAFIA",
          "TAC"
         ],
         "legendgroup": "DIAGNOSTICOS",
         "marker": {
          "color": "#636efa",
          "symbol": "circle"
         },
         "mode": "markers",
         "name": "DIAGNOSTICOS",
         "orientation": "v",
         "showlegend": true,
         "type": "scatter",
         "x": {
          "bdata": "AAAAAAAAKkAk7og74o43QNu2bdu2bVVA",
          "dtype": "f8"
         },
         "xaxis": "x",
         "y": {
          "bdata": "ASsc",
          "dtype": "i1"
         },
         "yaxis": "y"
        },
        {
         "customdata": [
          [
           "PROFILAXIS",
           "  DKV",
           12,
           1
          ],
          [
           "PROFILAXIS",
           "PRIVADA",
           8269,
           259
          ],
          [
           "PROFILAXIS",
           "PRIVADA",
           1755,
           62
          ],
          [
           "PROFILAXIS",
           "DKV",
           350,
           1
          ],
          [
           "PROFILAXIS",
           "PRIVADA",
           350,
           1
          ]
         ],
         "hovertemplate": "<b>%{hovertext}</b><br><br>category=%{customdata[0]}<br>Precio Unitario=%{x}<br>Actos Realizados=%{y}<br>tarifa=%{customdata[1]}<br>total=%{customdata[2]}<br>visits=%{customdata[3]}<extra></extra>",
         "hovertext": [
          "Copia de LIMPIEZA",
          "Copia de LIMPIEZA",
          "LI1",
          "LI2",
          "LI2"
         ],
         "legendgroup": "PROFILAXIS",
         "marker": {
          "color": "#EF553B",
          "symbol": "circle"
         },
         "mode": "markers",
         "name": "PROFILAXIS",
         "orientation": "v",
         "showlegend": true,
         "type": "scatter",
         "x": {
          "bdata": "AAAAAAAAKEDUDvtWOO0/QM4555xzTjxAAAAAAADgdUAAAAAAAOB1QA==",
          "dtype": "f8"
         },
         "xaxis": "x",
         "y": {
          "bdata": "AQADAT4AAQABAA==",
          "dtype": "i2"
         },
         "yaxis": "y"
        },
        {
         "customdata": [
          [
           "EXTRACCION",
           "PRIVADA",
           70,
           4
          ],
          [
           "EXTRACCION",
           "  DKV",
           13,
           1
          ],
          [
           "EXTRACCION",
           "PRIVADA",
           3329,
           42
          ],
          [
           "EXTRACCION",
           "PRIVADA",
           840,
           3
          ],
          [
           "EXTRACCION",
           "PRIVADA",
           1080,
           12
          ],
          [
           "EXTRACCION",
           "PRIVADA",
           300,
           3
          ],
          [
           "EXTRACCION",
           "PRIVADA",
           450,
           2
          ],
          [
           "EXTRACCION",
           "PRIVADA",
           1520,
           4
          ],
          [
           "EXTRACCION",
           "PRIVADA",
           150,
           2
          ]
         ],
         "hovertemplate": "<b>%{hovertext}</b><br><br>category=%{customdata[0]}<br>Precio Unitario=%{x}<br>Actos Realizados=%{y}<br>tarifa=%{customdata[1]}<br>total=%{customdata[2]}<br>visits=%{customdata[3]}<extra></extra>",
         "hovertext": [
          "EXTR. TEMPORAL",
          "Copia de EXTRACCION SIMPLE",
          "Copia de EXTRACCION SIMPLE",
          "EXTRACCION SIMPLE",
          "EXTRACCION RESTO RADICULAR",
          "EXTRACCION COMPLEJA",
          "EXTRACCION QUIRURGICA",
          "EXTRACCION QUIRURGICA TERCER MOLAR INCLUIDO",
          "EXTRACCION DE IMPLANTE"
         ],
         "legendgroup": "EXTRACCION",
         "marker": {
          "color": "#00cc96",
          "symbol": "circle"
         },
         "mode": "markers",
         "name": "EXTRACCION",
         "orientation": "v",
         "showlegend": true,
         "type": "scatter",
         "x": {
          "bdata": "AAAAAACAMUAAAAAAAAAqQKkJxlvZZ09AAAAAAACAcUCSJEmSJElTQAAAAAAAAFlAAAAAAAAgXECrqqqqqqpvQAAAAAAAwEJA",
          "dtype": "f8"
         },
         "xaxis": "x",
         "y": {
          "bdata": "BAE1Aw4DBAYE",
          "dtype": "i1"
         },
         "yaxis": "y"
        },
        {
         "customdata": [
          [
           "OBTURACION",
           "PRIVADA",
           8992,
           129
          ],
          [
           "OBTURACION",
           "PRIVADA",
           1845,
           23
          ],
          [
           "OBTURACION",
           "PRIVADA",
           1250,
           17
          ],
          [
           "OBTURACION",
           "PRIVADA",
           1733,
           27
          ],
          [
           "OBTURACION",
           "ASISA",
           60,
           1
          ],
          [
           "OBTURACION",
           "DKV",
           290,
           4
          ]
         ],
         "hovertemplate": "<b>%{hovertext}</b><br><br>category=%{customdata[0]}<br>Precio Unitario=%{x}<br>Actos Realizados=%{y}<br>tarifa=%{customdata[1]}<br>total=%{customdata[2]}<br>visits=%{customdata[3]}<extra></extra>",
         "hovertext": [
          "OBTURACION",
          "OBTURACION SIMPLE",
          "RECONSTRUCCION",
          "RECONSTRUCCION COMPOSITE",
          "RECONSTRUCCION COMPOSITE",
          "RECONSTRUCCION COMPOSITE"
         ],
         "legendgroup": "OBTURACION",
         "marker": {
          "color": "#ab63fa",
          "symbol": "circle"
         },
         "mode": "markers",
         "name": "OBTURACION",
         "orientation": "v",
         "showlegend": true,
         "type": "scatter",
         "x": {
          "bdata": "QMv5s5w/S0AAAAAAAMBOQAAAAAAAQE9AvoT2EtoLUEAAAAAAAABOQAAAAAAAIFJA",
          "dtype": "f8"
         },
         "xaxis": "x",
         "y": {
          "bdata": "pQAeABQAGwABAAQA",
          "dtype": "i2"
         },
         "yaxis": "y"
        },
        {
         "customdata": [
          [
           "CIRUGIA PERIODONTAL",
           "PRIVADA",
           240,
           2
          ]
         ],
         "hovertemplate": "<b>%{hovertext}</b><br><br>category=%{customdata[0]}<br>Precio Unitario=%{x}<br>Actos Realizados=%{y}<br>tarifa=%{customdata[1]}<br>total=%{customdata[2]}<br>visits=%{customdata[3]}<extra></extra>",
         "hovertext": [
          "CURETAJE GINGIVAL POR CUADRANT"
         ],
         "legendgroup": "CIRUGIA PERIODONTAL",
         "marker": {
          "color": "#FFA15A",
          "symbol": "circle"
         },
         "mode": "markers",
         "name": "CIRUGIA PERIODONTAL",
         "orientation": "v",
         "showlegend": true,
         "type": "scatter",
         "x": {
          "bdata": "AAAAAAAATkA=",
          "dtype": "f8"
         },
         "xaxis": "x",
         "y": {
          "bdata": "BA==",
          "dtype": "i1"
         },
         "yaxis": "y"
        },
        {
         "customdata": [
          [
           "ENDODONCIAS",
           "PRIVADA",
           2330,
           16
          ],
          [
           "ENDODONCIAS",
           "PRIVADA",
           300,
           1
          ],
          [
           "ENDODONCIAS",
           "PRIVADA",
           600,
           4
          ],
          [
           "ENDODONCIAS",
           "PRIVADA",
           813,
           5
          ],
          [
           "ENDODONCIAS",
           "PRIVADA",
           110,
           1
          ],
          [
           "ENDODONCIAS",
           "ASISA",
           175,
           1
          ]
         ],
         "hovertemplate": "<b>%{hovertext}</b><br><br>category=%{customdata[0]}<br>Precio Unitario=%{x}<br>Actos Realizados=%{y}<br>tarifa=%{customdata[1]}<br>total=%{customdata[2]}<br>visits=%{customdata[3]}<extra></extra>",
         "hovertext": [
          "Copia de ENDODONCIA ANTERIOR",
          "ENDODONCIA DE 1 CANAL",
          "ENDODONCIA DE 2 CANALES",
          "ENDODONCIA DE 3 CANALES",
          "ENDODONCIA DE 3 MOLAR",
          "ENDODONCIA DE 4 0 MAS CANALES"
         ],
         "legendgroup": "ENDODONCIAS",
         "marker": {
          "color": "#19d3f3",
          "symbol": "circle"
         },
         "mode": "markers",
         "name": "ENDODONCIAS",
         "orientation": "v",
         "showlegend": true,
         "type": "scatter",
         "x": {
          "bdata": "AAAAAAA0YkAAAAAAAMBiQAAAAAAAwGJAMzMzMzNTZEAAAAAAAIBbQAAAAAAA4GVA",
          "dtype": "f8"
         },
         "xaxis": "x",
         "y": {
          "bdata": "EAIEBQEB",
          "dtype": "i1"
         },
         "yaxis": "y"
        },
        {
         "customdata": [
          [
           "CORONA",
           "PRIVADA",
           11056,
           26
          ],
          [
           "CORONA",
           "PRIVADA",
           594,
           13
          ],
          [
           "CORONA",
           "PRIVADA",
           26131,
           29
          ],
          [
           "CORONA",
           "PRIVADA",
           3625,
           5
          ],
          [
           "CORONA",
           "PRIVADA",
           320,
           5
          ],
          [
           "CORONA",
           "PRIVADA",
           3500,
           2
          ],
          [
           "CORONA",
           "PRIVADA",
           3000,
           1
          ],
          [
           "CORONA",
           "ASISA",
           500,
           1
          ],
          [
           "CORONA",
           "DKV",
           500,
           1
          ],
          [
           "CORONA",
           "DKV",
           860,
           1
          ]
         ],
         "hovertemplate": "<b>%{hovertext}</b><br><br>category=%{customdata[0]}<br>Precio Unitario=%{x}<br>Actos Realizados=%{y}<br>tarifa=%{customdata[1]}<br>total=%{customdata[2]}<br>visits=%{customdata[3]}<extra></extra>",
         "hovertext": [
          "CORONA METAL CERAMICA",
          "CORONA RESINA(LABORATORIO)",
          "CORONA IMPLANTE",
          "CORONA IMPLANTE ZIRCONIO",
          "RECEMENTADO DE CORONA",
          "PROTESIS COMPLETA CERAMICA",
          "PROTESIS HIBRIDA RESINA",
          "CORONA IMPLANTE",
          "CORONA IMPLANTE",
          "CORONA TOTAL METAL NOBLE"
         ],
         "legendgroup": "CORONA",
         "marker": {
          "color": "#FF6692",
          "symbol": "circle"
         },
         "mode": "markers",
         "name": "CORONA",
         "orientation": "v",
         "showlegend": true,
         "type": "scatter",
         "x": {
          "bdata": "4yu+4iu+c0AAAAAAAIBAQGgvob2EPn5Ax3Ecx3EseUByHMdxHMdBQAAAAAAAWJtAAAAAAABwp0AAAAAAAEB/QAAAAAAAQH9AAAAAAADgikA=",
          "dtype": "f8"
         },
         "xaxis": "x",
         "y": {
          "bdata": "IxI2CQkCAQEBAQ==",
          "dtype": "i1"
         },
         "yaxis": "y"
        },
        {
         "customdata": [
          [
           "PUENTES",
           "PRIVADA",
           610,
           11
          ]
         ],
         "hovertemplate": "<b>%{hovertext}</b><br><br>category=%{customdata[0]}<br>Precio Unitario=%{x}<br>Actos Realizados=%{y}<br>tarifa=%{customdata[1]}<br>total=%{customdata[2]}<br>visits=%{customdata[3]}<extra></extra>",
         "hovertext": [
          "RECEMENTADO DE PUENTE"
         ],
         "legendgroup": "PUENTES",
         "marker": {
          "color": "#B6E880",
          "symbol": "circle"
         },
         "mode": "markers",
         "name": "PUENTES",
         "orientation": "v",
         "showlegend": true,
         "type": "scatter",
         "x": {
          "bdata": "ZmZmZmZmOEA=",
          "dtype": "f8"
         },
         "xaxis": "x",
         "y": {
          "bdata": "GQ==",
          "dtype": "i1"
         },
         "yaxis": "y"
        },
        {
         "customdata": [
          [
           "PROTESIS REMOVIBLE",
           "PRIVADA",
           932,
           2
          ],
          [
           "PROTESIS REMOVIBLE",
           "PRIVADA",
           2385,
           10
          ],
          [
           "PROTESIS REMOVIBLE",
           "PRIVADA",
           500,
           1
          ],
          [
           "PROTESIS REMOVIBLE",
           "PRIVADA",
           120,
           1
          ],
          [
           "PROTESIS REMOVIBLE",
           "PRIVADA",
           800,
           1
          ],
          [
           "PROTESIS REMOVIBLE",
           "PRIVADA",
           80,
           1
          ],
          [
           "PROTESIS REMOVIBLE",
           "PRIVADA",
           600,
           1
          ],
          [
           "PROTESIS REMOVIBLE",
           "PRIVADA",
           2380,
           6
          ],
          [
           "PROTESIS REMOVIBLE",
           "PRIVADA",
           598,
           2
          ],
          [
           "PROTESIS REMOVIBLE",
           "PRIVADA",
           1135,
           8
          ]
         ],
         "hovertemplate": "<b>%{hovertext}</b><br><br>category=%{customdata[0]}<br>Precio Unitario=%{x}<br>Actos Realizados=%{y}<br>tarifa=%{customdata[1]}<br>total=%{customdata[2]}<br>visits=%{customdata[3]}<extra></extra>",
         "hovertext": [
          "PROTESIS MAXILOFACIAL",
          "FERULA DESCARGA",
          "DENT. COMPLETA INFERIOR",
          "AJUST. DENT. COMPLETA SUPERIOR",
          "DENT. COMPLETA SUPERIOR",
          "REPARACION BASE DENT. COMPLETA",
          "Copia de PARCIAL INFERIOR",
          "Copia de PARCIAL SUPERIOR",
          "PARCIAL SUPERIOR",
          "COMPOSTURA DIENTE"
         ],
         "legendgroup": "PROTESIS REMOVIBLE",
         "marker": {
          "color": "#FF97FF",
          "symbol": "circle"
         },
         "mode": "markers",
         "name": "PROTESIS REMOVIBLE",
         "orientation": "v",
         "showlegend": true,
         "type": "scatter",
         "x": {
          "bdata": "AAAAAAAgfUAAAAAAANBtQAAAAAAAQH9AAAAAAAAAXkAAAAAAAACJQAAAAAAAAFRAAAAAAADAgkCrqqqqqsp4QAAAAAAAsHJAAAAAAAC8YUA=",
          "dtype": "f8"
         },
         "xaxis": "x",
         "y": {
          "bdata": "AgoBAQEBAQYCCA==",
          "dtype": "i1"
         },
         "yaxis": "y"
        },
        {
         "customdata": [
          [
           "IMPLANTES",
           "PRIVADA",
           1108,
           4
          ],
          [
           "IMPLANTES",
           "PRIVADA",
           348,
           4
          ],
          [
           "IMPLANTES",
           "PRIVADA",
           46120,
           35
          ],
          [
           "IMPLANTES",
           "DKV",
           2000,
           2
          ]
         ],
         "hovertemplate": "<b>%{hovertext}</b><br><br>category=%{customdata[0]}<br>Precio Unitario=%{x}<br>Actos Realizados=%{y}<br>tarifa=%{customdata[1]}<br>total=%{customdata[2]}<br>visits=%{customdata[3]}<extra></extra>",
         "hovertext": [
          "ADITAMENTOS PROTESICOS",
          "SUPRA O MESOESTRUCTURA",
          "IMPLANTE",
          "IMPLANTE"
         ],
         "legendgroup": "IMPLANTES",
         "marker": {
          "color": "#FECB52",
          "symbol": "circle"
         },
         "mode": "markers",
         "name": "IMPLANTES",
         "orientation": "v",
         "showlegend": true,
         "type": "scatter",
         "x": {
          "bdata": "AAAAAABQcUAAAAAAAMBVQApeTsHLaY1AAAAAAABAj0A=",
          "dtype": "f8"
         },
         "xaxis": "x",
         "y": {
          "bdata": "BAQxAg==",
          "dtype": "i1"
         },
         "yaxis": "y"
        },
        {
         "customdata": [
          [
           "ORTODONCIAS",
           "PRIVADA",
           6179,
           6
          ],
          [
           "ORTODONCIAS",
           "PRIVADA",
           11543,
           19
          ],
          [
           "ORTODONCIAS",
           "PRIVADA",
           12040,
           3
          ],
          [
           "ORTODONCIAS",
           "PRIVADA",
           21350,
           6
          ],
          [
           "ORTODONCIAS",
           "PRIVADA",
           120,
           1
          ],
          [
           "ORTODONCIAS",
           "PRIVADA",
           348,
           3
          ],
          [
           "ORTODONCIAS",
           "PRIVADA",
           360,
           3
          ]
         ],
         "hovertemplate": "<b>%{hovertext}</b><br><br>category=%{customdata[0]}<br>Precio Unitario=%{x}<br>Actos Realizados=%{y}<br>tarifa=%{customdata[1]}<br>total=%{customdata[2]}<br>visits=%{customdata[3]}<extra></extra>",
         "hovertext": [
          "1 visitas ortodoncia",
          "BRACKETS METALICOS",
          "BRACKETS ESTETICOS",
          "INVISALIGN",
          "RELAIN. DENT. PARCIAL SUPERIOR",
          "RETENEDOR LINGUAL SUP",
          "RETENEDOR LINGUAL INF"
         ],
         "legendgroup": "ORTODONCIAS",
         "marker": {
          "color": "#636efa",
          "symbol": "circle"
         },
         "mode": "markers",
         "name": "ORTODONCIAS",
         "orientation": "v",
         "showlegend": true,
         "type": "scatter",
         "x": {
          "bdata": "VVVVVVUXkEBDeQ3lNfyCQKuqqqqqWq9Aq6qqqqrMq0AAAAAAAABeQAAAAAAAAF1AAAAAAAAAXkA=",
          "dtype": "f8"
         },
         "xaxis": "x",
         "y": {
          "bdata": "BhMDBgEDAw==",
          "dtype": "i1"
         },
         "yaxis": "y"
        },
        {
         "customdata": [
          [
           "FRENECTOMIA",
           "PRIVADA",
           30,
           1
          ]
         ],
         "hovertemplate": "<b>%{hovertext}</b><br><br>category=%{customdata[0]}<br>Precio Unitario=%{x}<br>Actos Realizados=%{y}<br>tarifa=%{customdata[1]}<br>total=%{customdata[2]}<br>visits=%{customdata[3]}<extra></extra>",
         "hovertext": [
          "FRENECTOMIA INFANTIL"
         ],
         "legendgroup": "FRENECTOMIA",
         "marker": {
          "color": "#EF553B",
          "symbol": "circle"
         },
         "mode": "markers",
         "name": "FRENECTOMIA",
         "orientation": "v",
         "showlegend": true,
         "type": "scatter",
         "x": {
          "bdata": "AAAAAAAAPkA=",
          "dtype": "f8"
         },
         "xaxis": "x",
         "y": {
          "bdata": "AQ==",
          "dtype": "i1"
         },
         "yaxis": "y"
        },
        {
         "customdata": [
          [
           "CIRUGIA MAXILOFACIAL",
           "PRIVADA",
           780,
           2
          ]
         ],
         "hovertemplate": "<b>%{hovertext}</b><br><br>category=%{customdata[0]}<br>Precio Unitario=%{x}<br>Actos Realizados=%{y}<br>tarifa=%{customdata[1]}<br>total=%{customdata[2]}<br>visits=%{customdata[3]}<extra></extra>",
         "hovertext": [
          "INJERTO OSEO"
         ],
         "legendgroup": "CIRUGIA MAXILOFACIAL",
         "marker": {
          "color": "#00cc96",
          "symbol": "circle"
         },
         "mode": "markers",
         "name": "CIRUGIA MAXILOFACIAL",
         "orientation": "v",
         "showlegend": true,
         "type": "scatter",
         "x": {
          "bdata": "AAAAAABgeEA=",
          "dtype": "f8"
         },
         "xaxis": "x",
         "y": {
          "bdata": "Ag==",
          "dtype": "i1"
         },
         "yaxis": "y"
        },
        {
         "customdata": [
          [
           "BLANQUEAMIENTO",
           "PRIVADA",
           2950,
           8
          ]
         ],
         "hovertemplate": "<b>%{hovertext}</b><br><br>category=%{customdata[0]}<br>Precio Unitario=%{x}<br>Actos Realizados=%{y}<br>tarifa=%{customdata[1]}<br>total=%{customdata[2]}<br>visits=%{customdata[3]}<extra></extra>",
         "hovertext": [
          "BLANQUEAMIENTO PHILIPS ZOOM"
         ],
         "legendgroup": "BLANQUEAMIENTO",
         "marker": {
          "color": "#ab63fa",
          "symbol": "circle"
         },
         "mode": "markers",
         "name": "BLANQUEAMIENTO",
         "orientation": "v",
         "showlegend": true,
         "type": "scatter",
         "x": {
          "bdata": "AAAAAAAMd0A=",
          "dtype": "f8"
         },
         "xaxis": "x",
         "y": {
          "bdata": "CA==",
          "dtype": "i1"
         },
         "yaxis": "y"
        }
       ],
       "layout": {
        "font": {
         "color": "black",
         "family": "Oswald"
        },
        "legend": {
         "title": {
          "text": "category"
         },
         "tracegroupgap": 0
        },
        "paper_bgcolor": "white",
        "plot_bgcolor": "white",
        "template": {
         "data": {
          "bar": [
           {
            "error_x": {
             "color": "#2a3f5f"
            },
            "error_y": {
             "color": "#2a3f5f"
            },
            "marker": {
             "line": {
              "color": "#E5ECF6",
              "width": 0.5
             },
             "pattern": {
              "fillmode": "overlay",
              "size": 10,
              "solidity": 0.2
             }
            },
            "type": "bar"
           }
          ],
          "barpolar": [
           {
            "marker": {
             "line": {
              "color": "#E5ECF6",
              "width": 0.5
             },
             "pattern": {
              "fillmode": "overlay",
              "size": 10,
              "solidity": 0.2
             }
            },
            "type": "barpolar"
           }
          ],
          "carpet": [
           {
            "aaxis": {
             "endlinecolor": "#2a3f5f",
             "gridcolor": "white",
             "linecolor": "white",
             "minorgridcolor": "white",
             "startlinecolor": "#2a3f5f"
            },
            "baxis": {
             "endlinecolor": "#2a3f5f",
             "gridcolor": "white",
             "linecolor": "white",
             "minorgridcolor": "white",
             "startlinecolor": "#2a3f5f"
            },
            "type": "carpet"
           }
          ],
          "choropleth": [
           {
            "colorbar": {
             "outlinewidth": 0,
             "ticks": ""
            },
            "type": "choropleth"
           }
          ],
          "contour": [
           {
            "colorbar": {
             "outlinewidth": 0,
             "ticks": ""
            },
            "colorscale": [
             [
              0,
              "#0d0887"
             ],
             [
              0.1111111111111111,
              "#46039f"
             ],
             [
              0.2222222222222222,
              "#7201a8"
             ],
             [
              0.3333333333333333,
              "#9c179e"
             ],
             [
              0.4444444444444444,
              "#bd3786"
             ],
             [
              0.5555555555555556,
              "#d8576b"
             ],
             [
              0.6666666666666666,
              "#ed7953"
             ],
             [
              0.7777777777777778,
              "#fb9f3a"
             ],
             [
              0.8888888888888888,
              "#fdca26"
             ],
             [
              1,
              "#f0f921"
             ]
            ],
            "type": "contour"
           }
          ],
          "contourcarpet": [
           {
            "colorbar": {
             "outlinewidth": 0,
             "ticks": ""
            },
            "type": "contourcarpet"
           }
          ],
          "heatmap": [
           {
            "colorbar": {
             "outlinewidth": 0,
             "ticks": ""
            },
            "colorscale": [
             [
              0,
              "#0d0887"
             ],
             [
              0.1111111111111111,
              "#46039f"
             ],
             [
              0.2222222222222222,
              "#7201a8"
             ],
             [
              0.3333333333333333,
              "#9c179e"
             ],
             [
              0.4444444444444444,
              "#bd3786"
             ],
             [
              0.5555555555555556,
              "#d8576b"
             ],
             [
              0.6666666666666666,
              "#ed7953"
             ],
             [
              0.7777777777777778,
              "#fb9f3a"
             ],
             [
              0.8888888888888888,
              "#fdca26"
             ],
             [
              1,
              "#f0f921"
             ]
            ],
            "type": "heatmap"
           }
          ],
          "histogram": [
           {
            "marker": {
             "pattern": {
              "fillmode": "overlay",
              "size": 10,
              "solidity": 0.2
             }
            },
            "type": "histogram"
           }
          ],
          "histogram2d": [
           {
            "colorbar": {
             "outlinewidth": 0,
             "ticks": ""
            },
            "colorscale": [
             [
              0,
              "#0d0887"
             ],
             [
              0.1111111111111111,
              "#46039f"
             ],
             [
              0.2222222222222222,
              "#7201a8"
             ],
             [
              0.3333333333333333,
              "#9c179e"
             ],
             [
              0.4444444444444444,
              "#bd3786"
             ],
             [
              0.5555555555555556,
              "#d8576b"
             ],
             [
              0.6666666666666666,
              "#ed7953"
             ],
             [
              0.7777777777777778,
              "#fb9f3a"
             ],
             [
              0.8888888888888888,
              "#fdca26"
             ],
             [
              1,
              "#f0f921"
             ]
            ],
            "type": "histogram2d"
           }
          ],
          "histogram2dcontour": [
           {
            "colorbar": {
             "outlinewidth": 0,
             "ticks": ""
            },
            "colorscale": [
             [
              0,
              "#0d0887"
             ],
             [
              0.1111111111111111,
              "#46039f"
             ],
             [
              0.2222222222222222,
              "#7201a8"
             ],
             [
              0.3333333333333333,
              "#9c179e"
             ],
             [
              0.4444444444444444,
              "#bd3786"
             ],
             [
              0.5555555555555556,
              "#d8576b"
             ],
             [
              0.6666666666666666,
              "#ed7953"
             ],
             [
              0.7777777777777778,
              "#fb9f3a"
             ],
             [
              0.8888888888888888,
              "#fdca26"
             ],
             [
              1,
              "#f0f921"
             ]
            ],
            "type": "histogram2dcontour"
           }
          ],
          "mesh3d": [
           {
            "colorbar": {
             "outlinewidth": 0,
             "ticks": ""
            },
            "type": "mesh3d"
           }
          ],
          "parcoords": [
           {
            "line": {
             "colorbar": {
              "outlinewidth": 0,
              "ticks": ""
             }
            },
            "type": "parcoords"
           }
          ],
          "pie": [
           {
            "automargin": true,
            "type": "pie"
           }
          ],
          "scatter": [
           {
            "fillpattern": {
             "fillmode": "overlay",
             "size": 10,
             "solidity": 0.2
            },
            "type": "scatter"
           }
          ],
          "scatter3d": [
           {
            "line": {
             "colorbar": {
              "outlinewidth": 0,
              "ticks": ""
             }
            },
            "marker": {
             "colorbar": {
              "outlinewidth": 0,
              "ticks": ""
             }
            },
            "type": "scatter3d"
           }
          ],
          "scattercarpet": [
           {
            "marker": {
             "colorbar": {
              "outlinewidth": 0,
              "ticks": ""
             }
            },
            "type": "scattercarpet"
           }
          ],
          "scattergeo": [
           {
            "marker": {
             "colorbar": {
              "outlinewidth": 0,
              "ticks": ""
             }
            },
            "type": "scattergeo"
           }
          ],
          "scattergl": [
           {
            "marker": {
             "colorbar": {
              "outlinewidth": 0,
              "ticks": ""
             }
            },
            "type": "scattergl"
           }
          ],
          "scattermap": [
           {
            "marker": {
             "colorbar": {
              "outlinewidth": 0,
              "ticks": ""
             }
            },
            "type": "scattermap"
           }
          ],
          "scattermapbox": [
           {
            "marker": {
             "colorbar": {
              "outlinewidth": 0,
              "ticks": ""
             }
            },
            "type": "scattermapbox"
           }
          ],
          "scatterpolar": [
           {
            "marker": {
             "colorbar": {
              "outlinewidth": 0,
              "ticks": ""
             }
            },
            "type": "scatterpolar"
           }
          ],
          "scatterpolargl": [
           {
            "marker": {
             "colorbar": {
              "outlinewidth": 0,
              "ticks": ""
             }
            },
            "type": "scatterpolargl"
           }
          ],
          "scatterternary": [
           {
            "marker": {
             "colorbar": {
              "outlinewidth": 0,
              "ticks": ""
             }
            },
            "type": "scatterternary"
           }
          ],
          "surface": [
           {
            "colorbar": {
             "outlinewidth": 0,
             "ticks": ""
            },
            "colorscale": [
             [
              0,
              "#0d0887"
             ],
             [
              0.1111111111111111,
              "#46039f"
             ],
             [
              0.2222222222222222,
              "#7201a8"
             ],
             [
              0.3333333333333333,
              "#9c179e"
             ],
             [
              0.4444444444444444,
              "#bd3786"
             ],
             [
              0.5555555555555556,
              "#d8576b"
             ],
             [
              0.6666666666666666,
              "#ed7953"
             ],
             [
              0.7777777777777778,
              "#fb9f3a"
             ],
             [
              0.8888888888888888,
              "#fdca26"
             ],
             [
              1,
              "#f0f921"
             ]
            ],
            "type": "surface"
           }
          ],
          "table": [
           {
            "cells": {
             "fill": {
              "color": "#EBF0F8"
             },
             "line": {
              "color": "white"
             }
            },
            "header": {
             "fill": {
              "color": "#C8D4E3"
             },
             "line": {
              "color": "white"
             }
            },
            "type": "table"
           }
          ]
         },
         "layout": {
          "annotationdefaults": {
           "arrowcolor": "#2a3f5f",
           "arrowhead": 0,
           "arrowwidth": 1
          },
          "autotypenumbers": "strict",
          "coloraxis": {
           "colorbar": {
            "outlinewidth": 0,
            "ticks": ""
           }
          },
          "colorscale": {
           "diverging": [
            [
             0,
             "#8e0152"
            ],
            [
             0.1,
             "#c51b7d"
            ],
            [
             0.2,
             "#de77ae"
            ],
            [
             0.3,
             "#f1b6da"
            ],
            [
             0.4,
             "#fde0ef"
            ],
            [
             0.5,
             "#f7f7f7"
            ],
            [
             0.6,
             "#e6f5d0"
            ],
            [
             0.7,
             "#b8e186"
            ],
            [
             0.8,
             "#7fbc41"
            ],
            [
             0.9,
             "#4d9221"
            ],
            [
             1,
             "#276419"
            ]
           ],
           "sequential": [
            [
             0,
             "#0d0887"
            ],
            [
             0.1111111111111111,
             "#46039f"
            ],
            [
             0.2222222222222222,
             "#7201a8"
            ],
            [
             0.3333333333333333,
             "#9c179e"
            ],
            [
             0.4444444444444444,
             "#bd3786"
            ],
            [
             0.5555555555555556,
             "#d8576b"
            ],
            [
             0.6666666666666666,
             "#ed7953"
            ],
            [
             0.7777777777777778,
             "#fb9f3a"
            ],
            [
             0.8888888888888888,
             "#fdca26"
            ],
            [
             1,
             "#f0f921"
            ]
           ],
           "sequentialminus": [
            [
             0,
             "#0d0887"
            ],
            [
             0.1111111111111111,
             "#46039f"
            ],
            [
             0.2222222222222222,
             "#7201a8"
            ],
            [
             0.3333333333333333,
             "#9c179e"
            ],
            [
             0.4444444444444444,
             "#bd3786"
            ],
            [
             0.5555555555555556,
             "#d8576b"
            ],
            [
             0.6666666666666666,
             "#ed7953"
            ],
            [
             0.7777777777777778,
             "#fb9f3a"
            ],
            [
             0.8888888888888888,
             "#fdca26"
            ],
            [
             1,
             "#f0f921"
            ]
           ]
          },
          "colorway": [
           "#636efa",
           "#EF553B",
           "#00cc96",
           "#ab63fa",
           "#FFA15A",
           "#19d3f3",
           "#FF6692",
           "#B6E880",
           "#FF97FF",
           "#FECB52"
          ],
          "font": {
           "color": "#2a3f5f"
          },
          "geo": {
           "bgcolor": "white",
           "lakecolor": "white",
           "landcolor": "#E5ECF6",
           "showlakes": true,
           "showland": true,
           "subunitcolor": "white"
          },
          "hoverlabel": {
           "align": "left"
          },
          "hovermode": "closest",
          "mapbox": {
           "style": "light"
          },
          "paper_bgcolor": "white",
          "plot_bgcolor": "#E5ECF6",
          "polar": {
           "angularaxis": {
            "gridcolor": "white",
            "linecolor": "white",
            "ticks": ""
           },
           "bgcolor": "#E5ECF6",
           "radialaxis": {
            "gridcolor": "white",
            "linecolor": "white",
            "ticks": ""
           }
          },
          "scene": {
           "xaxis": {
            "backgroundcolor": "#E5ECF6",
            "gridcolor": "white",
            "gridwidth": 2,
            "linecolor": "white",
            "showbackground": true,
            "ticks": "",
            "zerolinecolor": "white"
           },
           "yaxis": {
            "backgroundcolor": "#E5ECF6",
            "gridcolor": "white",
            "gridwidth": 2,
            "linecolor": "white",
            "showbackground": true,
            "ticks": "",
            "zerolinecolor": "white"
           },
           "zaxis": {
            "backgroundcolor": "#E5ECF6",
            "gridcolor": "white",
            "gridwidth": 2,
            "linecolor": "white",
            "showbackground": true,
            "ticks": "",
            "zerolinecolor": "white"
           }
          },
          "shapedefaults": {
           "line": {
            "color": "#2a3f5f"
           }
          },
          "ternary": {
           "aaxis": {
            "gridcolor": "white",
            "linecolor": "white",
            "ticks": ""
           },
           "baxis": {
            "gridcolor": "white",
            "linecolor": "white",
            "ticks": ""
           },
           "bgcolor": "#E5ECF6",
           "caxis": {
            "gridcolor": "white",
            "linecolor": "white",
            "ticks": ""
           }
          },
          "title": {
           "x": 0.05
          },
          "xaxis": {
           "automargin": true,
           "gridcolor": "white",
           "linecolor": "white",
           "ticks": "",
           "title": {
            "standoff": 15
           },
           "zerolinecolor": "white",
           "zerolinewidth": 2
          },
          "yaxis": {
           "automargin": true,
           "gridcolor": "white",
           "linecolor": "white",
           "ticks": "",
           "title": {
            "standoff": 15
           },
           "zerolinecolor": "white",
           "zerolinewidth": 2
          }
         }
        },
        "title": {
         "font": {
          "color": "black"
         },
         "text": "Relación entre Precio Unitario y Número de Actos 2023"
        },
        "xaxis": {
         "anchor": "y",
         "domain": [
          0,
          1
         ],
         "gridcolor": "lightgray",
         "linecolor": "black",
         "range": [
          0,
          4100
         ],
         "showgrid": true,
         "tickfont": {
          "color": "black",
          "size": 6
         },
         "ticktext": [
          "0",
          "100",
          "200",
          "300",
          "400",
          "500",
          "1000",
          "2000",
          "3000",
          "4000",
          "4100"
         ],
         "tickvals": [
          0,
          100,
          200,
          300,
          400,
          500,
          1000,
          2000,
          3000,
          4000,
          4100
         ],
         "title": {
          "font": {
           "color": "black"
          },
          "text": "Precio Unitario"
         },
         "zerolinecolor": "black"
        },
        "yaxis": {
         "anchor": "x",
         "domain": [
          0,
          1
         ],
         "gridcolor": "lightgray",
         "linecolor": "black",
         "range": [
          0,
          260
         ],
         "showgrid": true,
         "tickfont": {
          "color": "black",
          "size": 8
         },
         "ticktext": [
          "0",
          "10",
          "20",
          "30",
          "40",
          "50",
          "100",
          "150",
          "200",
          "250",
          "260"
         ],
         "tickvals": [
          0,
          10,
          20,
          30,
          40,
          50,
          100,
          150,
          200,
          250,
          260
         ],
         "title": {
          "font": {
           "color": "black"
          },
          "text": "Actos Realizados"
         },
         "zerolinecolor": "black"
        }
       }
      }
     },
     "metadata": {},
     "output_type": "display_data"
    }
   ],
   "source": [
    "fig = px.scatter(tabla_23_completa,\n",
    "                 x=\"precio_uni\", \n",
    "                 y=\"actos\",      \n",
    "                 color=\"category\",\n",
    "                 title=\"Relación entre Precio Unitario y Número de Actos 2023\", \n",
    "                 labels={\"precio_uni\": \"Precio Unitario\", \"actos\": \"Actos Realizados\"}, \n",
    "                 hover_name=\"info\", \n",
    "                 hover_data=['category', 'tarifa', 'total', 'visits']) \n",
    "\n",
    "tickvals_x = [0, 100, 200, 300, 400, 500, 1000, 2000, 3000, 4000, 4100]\n",
    "ticktext_x = [str(val) for val in tickvals_x] \n",
    "\n",
    "tickvals_y = [0, 10, 20, 30, 40, 50, 100, 150, 200, 250, 260]\n",
    "ticktext_y = [str(val) for val in tickvals_y] \n",
    "\n",
    "\n",
    "fig.update_layout(\n",
    "    font_family=\"Oswald\", \n",
    "    font_color=\"black\",  \n",
    "    title_font_color=\"black\", \n",
    "    plot_bgcolor='white', \n",
    "    paper_bgcolor='white'\n",
    ")\n",
    "\n",
    "fig.update_xaxes(\n",
    "    showgrid=True,\n",
    "    gridcolor='lightgray', \n",
    "    linecolor='black',     \n",
    "    zerolinecolor='black', \n",
    "    tickfont_color='black',\n",
    "    title_font_color='black', \n",
    "    tickvals=tickvals_x,\n",
    "    ticktext=ticktext_x, \n",
    "    range=[0, 4100], \n",
    "    tickfont=dict(size=6) \n",
    "    #type='log'\n",
    ")\n",
    "\n",
    "fig.update_yaxes(\n",
    "    showgrid=True,\n",
    "    gridcolor='lightgray', \n",
    "    linecolor='black',\n",
    "    zerolinecolor='black', \n",
    "    tickfont_color='black', \n",
    "    title_font_color='black', \n",
    "    tickvals=tickvals_y, \n",
    "    ticktext=ticktext_y, \n",
    "    range=[0, 260],\n",
    "    tickfont=dict(size=8)\n",
    "    #type='log'\n",
    ")\n",
    "\n",
    "fig.show()"
   ]
  },
  {
   "cell_type": "code",
   "execution_count": 102,
   "id": "d2af8ffb",
   "metadata": {},
   "outputs": [
    {
     "data": {
      "application/vnd.plotly.v1+json": {
       "config": {
        "plotlyServerURL": "https://plot.ly"
       },
       "data": [
        {
         "customdata": [
          [
           "DIAGNOSTICOS",
           "  DKV",
           13,
           1
          ],
          [
           "DIAGNOSTICOS",
           "PRIVADA",
           1235,
           50
          ],
          [
           "DIAGNOSTICOS",
           "PRIVADA",
           2000,
           23
          ]
         ],
         "hovertemplate": "<b>%{hovertext}</b><br><br>category=%{customdata[0]}<br>Precio Unitario=%{x}<br>Actos Realizados=%{y}<br>tarifa=%{customdata[1]}<br>total=%{customdata[2]}<br>visits=%{customdata[3]}<extra></extra>",
         "hovertext": [
          "ORTOPANTOMOGRAFIA",
          "ORTOPANTOMOGRAFIA",
          "TAC"
         ],
         "legendgroup": "DIAGNOSTICOS",
         "marker": {
          "color": "#636efa",
          "symbol": "circle"
         },
         "mode": "markers",
         "name": "DIAGNOSTICOS",
         "orientation": "v",
         "showlegend": true,
         "type": "scatter",
         "x": {
          "bdata": "AAAAAAAAKkAzMzMzM7M4QJze9KY3vVVA",
          "dtype": "f8"
         },
         "xaxis": "x",
         "y": {
          "bdata": "ATIX",
          "dtype": "i1"
         },
         "yaxis": "y"
        },
        {
         "customdata": [
          [
           "PROFILAXIS",
           "  DKV",
           12,
           1
          ],
          [
           "PROFILAXIS",
           "PRIVADA",
           11319,
           314
          ]
         ],
         "hovertemplate": "<b>%{hovertext}</b><br><br>category=%{customdata[0]}<br>Precio Unitario=%{x}<br>Actos Realizados=%{y}<br>tarifa=%{customdata[1]}<br>total=%{customdata[2]}<br>visits=%{customdata[3]}<extra></extra>",
         "hovertext": [
          "Copia de LIMPIEZA",
          "Copia de LIMPIEZA"
         ],
         "legendgroup": "PROFILAXIS",
         "marker": {
          "color": "#EF553B",
          "symbol": "circle"
         },
         "mode": "markers",
         "name": "PROFILAXIS",
         "orientation": "v",
         "showlegend": true,
         "type": "scatter",
         "x": {
          "bdata": "AAAAAAAAKEAvuuiiiy4/QA==",
          "dtype": "f8"
         },
         "xaxis": "x",
         "y": {
          "bdata": "AQBrAQ==",
          "dtype": "i2"
         },
         "yaxis": "y"
        },
        {
         "customdata": [
          [
           "EXTRACCION",
           "  DKV",
           13,
           1
          ],
          [
           "EXTRACCION",
           "PRIVADA",
           4885,
           79
          ],
          [
           "EXTRACCION",
           "PRIVADA",
           100,
           1
          ]
         ],
         "hovertemplate": "<b>%{hovertext}</b><br><br>category=%{customdata[0]}<br>Precio Unitario=%{x}<br>Actos Realizados=%{y}<br>tarifa=%{customdata[1]}<br>total=%{customdata[2]}<br>visits=%{customdata[3]}<extra></extra>",
         "hovertext": [
          "Copia de EXTRACCION SIMPLE",
          "Copia de EXTRACCION SIMPLE",
          "EXTRACCION QUIRURGICA TERCER MOLAR INCLUIDO"
         ],
         "legendgroup": "EXTRACCION",
         "marker": {
          "color": "#00cc96",
          "symbol": "circle"
         },
         "mode": "markers",
         "name": "EXTRACCION",
         "orientation": "v",
         "showlegend": true,
         "type": "scatter",
         "x": {
          "bdata": "AAAAAAAAKkA5juM4jiNLQAAAAAAAAFlA",
          "dtype": "f8"
         },
         "xaxis": "x",
         "y": {
          "bdata": "AVoB",
          "dtype": "i1"
         },
         "yaxis": "y"
        },
        {
         "customdata": [
          [
           "OBTURACION",
           "PRIVADA",
           18063,
           241
          ],
          [
           "OBTURACION",
           "PRIVADA",
           80,
           1
          ]
         ],
         "hovertemplate": "<b>%{hovertext}</b><br><br>category=%{customdata[0]}<br>Precio Unitario=%{x}<br>Actos Realizados=%{y}<br>tarifa=%{customdata[1]}<br>total=%{customdata[2]}<br>visits=%{customdata[3]}<extra></extra>",
         "hovertext": [
          "OBTURACION",
          "SELLADO POR DIENTE"
         ],
         "legendgroup": "OBTURACION",
         "marker": {
          "color": "#ab63fa",
          "symbol": "circle"
         },
         "mode": "markers",
         "name": "OBTURACION",
         "orientation": "v",
         "showlegend": true,
         "type": "scatter",
         "x": {
          "bdata": "2Y0Hp4mcTUAAAAAAAABEQA==",
          "dtype": "f8"
         },
         "xaxis": "x",
         "y": {
          "bdata": "MQECAA==",
          "dtype": "i2"
         },
         "yaxis": "y"
        },
        {
         "customdata": [
          [
           "CIRUGIA PERIODONTAL",
           "PRIVADA",
           500,
           1
          ],
          [
           "CIRUGIA PERIODONTAL",
           "PRIVADA",
           200,
           1
          ]
         ],
         "hovertemplate": "<b>%{hovertext}</b><br><br>category=%{customdata[0]}<br>Precio Unitario=%{x}<br>Actos Realizados=%{y}<br>tarifa=%{customdata[1]}<br>total=%{customdata[2]}<br>visits=%{customdata[3]}<extra></extra>",
         "hovertext": [
          "CIRUGIA OSEA POR CUADRANTE",
          "REGENERACION DE TEJIDOS"
         ],
         "legendgroup": "CIRUGIA PERIODONTAL",
         "marker": {
          "color": "#FFA15A",
          "symbol": "circle"
         },
         "mode": "markers",
         "name": "CIRUGIA PERIODONTAL",
         "orientation": "v",
         "showlegend": true,
         "type": "scatter",
         "x": {
          "bdata": "AAAAAABAf0AAAAAAAABpQA==",
          "dtype": "f8"
         },
         "xaxis": "x",
         "y": {
          "bdata": "AQE=",
          "dtype": "i1"
         },
         "yaxis": "y"
        },
        {
         "customdata": [
          [
           "ENDODONCIAS",
           "PRIVADA",
           4644,
           30
          ],
          [
           "ENDODONCIAS",
           "PRIVADA",
           149,
           2
          ]
         ],
         "hovertemplate": "<b>%{hovertext}</b><br><br>category=%{customdata[0]}<br>Precio Unitario=%{x}<br>Actos Realizados=%{y}<br>tarifa=%{customdata[1]}<br>total=%{customdata[2]}<br>visits=%{customdata[3]}<extra></extra>",
         "hovertext": [
          "Copia de ENDODONCIA ANTERIOR",
          "PULPUTOMIA TERAPEUTICA"
         ],
         "legendgroup": "ENDODONCIAS",
         "marker": {
          "color": "#19d3f3",
          "symbol": "circle"
         },
         "mode": "markers",
         "name": "ENDODONCIAS",
         "orientation": "v",
         "showlegend": true,
         "type": "scatter",
         "x": {
          "bdata": "mpmZmZlZY0AAAAAAAKBSQA==",
          "dtype": "f8"
         },
         "xaxis": "x",
         "y": {
          "bdata": "HgI=",
          "dtype": "i1"
         },
         "yaxis": "y"
        },
        {
         "customdata": [
          [
           "CORONA",
           "PRIVADA",
           17796,
           45
          ],
          [
           "CORONA",
           "PRIVADA",
           858,
           19
          ],
          [
           "CORONA",
           "PRIVADA",
           22135,
           40
          ],
          [
           "CORONA",
           "PRIVADA",
           439,
           1
          ],
          [
           "CORONA",
           "PRIVADA",
           247,
           4
          ]
         ],
         "hovertemplate": "<b>%{hovertext}</b><br><br>category=%{customdata[0]}<br>Precio Unitario=%{x}<br>Actos Realizados=%{y}<br>tarifa=%{customdata[1]}<br>total=%{customdata[2]}<br>visits=%{customdata[3]}<extra></extra>",
         "hovertext": [
          "CORONA METAL CERAMICA",
          "CORONA RESINA(LABORATORIO)",
          "CORONA IMPLANTE",
          "CORONA IMPLANTE ZIRCONIO",
          "RECEMENTADO DE CORONA"
         ],
         "legendgroup": "CORONA",
         "marker": {
          "color": "#FF6692",
          "symbol": "circle"
         },
         "mode": "markers",
         "name": "CORONA",
         "orientation": "v",
         "showlegend": true,
         "type": "scatter",
         "x": {
          "bdata": "uy+PrQjackDbtm3btm1EQBhvZZ9DGnpAAAAAAABwe0BJkiRJkqRBQA==",
          "dtype": "f8"
         },
         "xaxis": "x",
         "y": {
          "bdata": "OxU1AQc=",
          "dtype": "i1"
         },
         "yaxis": "y"
        },
        {
         "customdata": [
          [
           "PUENTES",
           "PRIVADA",
           1785,
           6
          ]
         ],
         "hovertemplate": "<b>%{hovertext}</b><br><br>category=%{customdata[0]}<br>Precio Unitario=%{x}<br>Actos Realizados=%{y}<br>tarifa=%{customdata[1]}<br>total=%{customdata[2]}<br>visits=%{customdata[3]}<extra></extra>",
         "hovertext": [
          "RECEMENTADO DE PUENTE"
         ],
         "legendgroup": "PUENTES",
         "marker": {
          "color": "#B6E880",
          "symbol": "circle"
         },
         "mode": "markers",
         "name": "PUENTES",
         "orientation": "v",
         "showlegend": true,
         "type": "scatter",
         "x": {
          "bdata": "AAAAAADkW0A=",
          "dtype": "f8"
         },
         "xaxis": "x",
         "y": {
          "bdata": "EA==",
          "dtype": "i1"
         },
         "yaxis": "y"
        },
        {
         "customdata": [
          [
           "MUñON",
           "PRIVADA",
           150,
           2
          ]
         ],
         "hovertemplate": "<b>%{hovertext}</b><br><br>category=%{customdata[0]}<br>Precio Unitario=%{x}<br>Actos Realizados=%{y}<br>tarifa=%{customdata[1]}<br>total=%{customdata[2]}<br>visits=%{customdata[3]}<extra></extra>",
         "hovertext": [
          "POSTE FIBRA DE VIDRIO"
         ],
         "legendgroup": "MUñON",
         "marker": {
          "color": "#FF97FF",
          "symbol": "circle"
         },
         "mode": "markers",
         "name": "MUñON",
         "orientation": "v",
         "showlegend": true,
         "type": "scatter",
         "x": {
          "bdata": "AAAAAADAUkA=",
          "dtype": "f8"
         },
         "xaxis": "x",
         "y": {
          "bdata": "Ag==",
          "dtype": "i1"
         },
         "yaxis": "y"
        },
        {
         "customdata": [
          [
           "PROTESIS REMOVIBLE",
           "PRIVADA",
           1378,
           7
          ],
          [
           "PROTESIS REMOVIBLE",
           "PRIVADA",
           750,
           1
          ],
          [
           "PROTESIS REMOVIBLE",
           "PRIVADA",
           600,
           1
          ],
          [
           "PROTESIS REMOVIBLE",
           "PRIVADA",
           120,
           1
          ],
          [
           "PROTESIS REMOVIBLE",
           "PRIVADA",
           1950,
           4
          ],
          [
           "PROTESIS REMOVIBLE",
           "PRIVADA",
           1130,
           3
          ],
          [
           "PROTESIS REMOVIBLE",
           "PRIVADA",
           60,
           1
          ],
          [
           "PROTESIS REMOVIBLE",
           "PRIVADA",
           170,
           2
          ],
          [
           "PROTESIS REMOVIBLE",
           "PRIVADA",
           140,
           2
          ]
         ],
         "hovertemplate": "<b>%{hovertext}</b><br><br>category=%{customdata[0]}<br>Precio Unitario=%{x}<br>Actos Realizados=%{y}<br>tarifa=%{customdata[1]}<br>total=%{customdata[2]}<br>visits=%{customdata[3]}<extra></extra>",
         "hovertext": [
          "FERULA DESCARGA",
          "DENT. COMPLETA SUPERIOR",
          "REPARACION BASE DENT. COMPLETA",
          "DENT. PARCIAL REMOV. UNILATERA",
          "Copia de PARCIAL INFERIOR",
          "Copia de PARCIAL SUPERIOR",
          "AJUST. DENT. PARC. SUPERIOR",
          "AJUST. DENT. PARC. INFERIOR",
          "COMPOSTURA DIENTE"
         ],
         "legendgroup": "PROTESIS REMOVIBLE",
         "marker": {
          "color": "#FECB52",
          "symbol": "circle"
         },
         "mode": "markers",
         "name": "PROTESIS REMOVIBLE",
         "orientation": "v",
         "showlegend": true,
         "type": "scatter",
         "x": {
          "bdata": "t23btm2baEAAAAAAAHCHQAAAAAAAwIJAAAAAAAAAXkAAAAAAAHh+QKuqqqqqindAAAAAAAAATkAAAAAAAEBVQAAAAAAAgEFA",
          "dtype": "f8"
         },
         "xaxis": "x",
         "y": {
          "bdata": "BwEBAQQDAQIE",
          "dtype": "i1"
         },
         "yaxis": "y"
        },
        {
         "customdata": [
          [
           "IMPLANTES",
           "PRIVADA",
           39700,
           36
          ],
          [
           "IMPLANTES",
           "PRIVADA",
           50,
           1
          ]
         ],
         "hovertemplate": "<b>%{hovertext}</b><br><br>category=%{customdata[0]}<br>Precio Unitario=%{x}<br>Actos Realizados=%{y}<br>tarifa=%{customdata[1]}<br>total=%{customdata[2]}<br>visits=%{customdata[3]}<extra></extra>",
         "hovertext": [
          "IMPLANTE",
          "REPARACION DE IMPLANTE"
         ],
         "legendgroup": "IMPLANTES",
         "marker": {
          "color": "#636efa",
          "symbol": "circle"
         },
         "mode": "markers",
         "name": "IMPLANTES",
         "orientation": "v",
         "showlegend": true,
         "type": "scatter",
         "x": {
          "bdata": "AAAAAAAEj0AAAAAAAAApQA==",
          "dtype": "f8"
         },
         "xaxis": "x",
         "y": {
          "bdata": "KAQ=",
          "dtype": "i1"
         },
         "yaxis": "y"
        },
        {
         "customdata": [
          [
           "ORTODONCIAS",
           "PRIVADA",
           30,
           2
          ],
          [
           "ORTODONCIAS",
           "PRIVADA",
           3828,
           25
          ],
          [
           "ORTODONCIAS",
           "PRIVADA",
           29,
           1
          ],
          [
           "ORTODONCIAS",
           "PRIVADA",
           22900,
           5
          ],
          [
           "ORTODONCIAS",
           "PRIVADA",
           120,
           1
          ],
          [
           "ORTODONCIAS",
           "PRIVADA",
           116,
           2
          ],
          [
           "ORTODONCIAS",
           "PRIVADA",
           240,
           2
          ],
          [
           "ORTODONCIAS",
           "PRIVADA",
           100,
           1
          ],
          [
           "ORTODONCIAS",
           "PRIVADA",
           486,
           5
          ]
         ],
         "hovertemplate": "<b>%{hovertext}</b><br><br>category=%{customdata[0]}<br>Precio Unitario=%{x}<br>Actos Realizados=%{y}<br>tarifa=%{customdata[1]}<br>total=%{customdata[2]}<br>visits=%{customdata[3]}<extra></extra>",
         "hovertext": [
          "1 visitas ortodoncia",
          "BRACKETS METALICOS",
          "BRACKETS ESTETICOS",
          "INVISALIGN",
          "PROCED. PROST. REMOV. SIN ESPE",
          "ORTODONCIA FIJA",
          "ORTODONCIA REMOVIBLE",
          "RETENEDOR LINGUAL SUP",
          "RETENEDOR LINGUAL INF"
         ],
         "legendgroup": "ORTODONCIAS",
         "marker": {
          "color": "#EF553B",
          "symbol": "circle"
         },
         "mode": "markers",
         "name": "ORTODONCIAS",
         "orientation": "v",
         "showlegend": true,
         "type": "scatter",
         "x": {
          "bdata": "AAAAAAAALkCkcD0K1yNjQAAAAAAAAD1AAAAAAADksUAAAAAAAABeQAAAAAAAAE1AAAAAAAAAXkAAAAAAAABZQM3MzMzMTFhA",
          "dtype": "f8"
         },
         "xaxis": "x",
         "y": {
          "bdata": "AhkBBQECAgEF",
          "dtype": "i1"
         },
         "yaxis": "y"
        },
        {
         "customdata": [
          [
           "CIRUGIA MAXILOFACIAL",
           "PRIVADA",
           2900,
           9
          ]
         ],
         "hovertemplate": "<b>%{hovertext}</b><br><br>category=%{customdata[0]}<br>Precio Unitario=%{x}<br>Actos Realizados=%{y}<br>tarifa=%{customdata[1]}<br>total=%{customdata[2]}<br>visits=%{customdata[3]}<extra></extra>",
         "hovertext": [
          "INJERTO OSEO"
         ],
         "legendgroup": "CIRUGIA MAXILOFACIAL",
         "marker": {
          "color": "#00cc96",
          "symbol": "circle"
         },
         "mode": "markers",
         "name": "CIRUGIA MAXILOFACIAL",
         "orientation": "v",
         "showlegend": true,
         "type": "scatter",
         "x": {
          "bdata": "OY7jOI4jdEA=",
          "dtype": "f8"
         },
         "xaxis": "x",
         "y": {
          "bdata": "CQ==",
          "dtype": "i1"
         },
         "yaxis": "y"
        },
        {
         "customdata": [
          [
           "BLANQUEAMIENTO",
           "PRIVADA",
           2210,
           7
          ]
         ],
         "hovertemplate": "<b>%{hovertext}</b><br><br>category=%{customdata[0]}<br>Precio Unitario=%{x}<br>Actos Realizados=%{y}<br>tarifa=%{customdata[1]}<br>total=%{customdata[2]}<br>visits=%{customdata[3]}<extra></extra>",
         "hovertext": [
          "BLANQUEAMIENTO PHILIPS ZOOM"
         ],
         "legendgroup": "BLANQUEAMIENTO",
         "marker": {
          "color": "#ab63fa",
          "symbol": "circle"
         },
         "mode": "markers",
         "name": "BLANQUEAMIENTO",
         "orientation": "v",
         "showlegend": true,
         "type": "scatter",
         "x": {
          "bdata": "t23btm27c0A=",
          "dtype": "f8"
         },
         "xaxis": "x",
         "y": {
          "bdata": "Bw==",
          "dtype": "i1"
         },
         "yaxis": "y"
        }
       ],
       "layout": {
        "font": {
         "color": "black",
         "family": "Oswald"
        },
        "legend": {
         "title": {
          "text": "category"
         },
         "tracegroupgap": 0
        },
        "paper_bgcolor": "white",
        "plot_bgcolor": "white",
        "template": {
         "data": {
          "bar": [
           {
            "error_x": {
             "color": "#2a3f5f"
            },
            "error_y": {
             "color": "#2a3f5f"
            },
            "marker": {
             "line": {
              "color": "#E5ECF6",
              "width": 0.5
             },
             "pattern": {
              "fillmode": "overlay",
              "size": 10,
              "solidity": 0.2
             }
            },
            "type": "bar"
           }
          ],
          "barpolar": [
           {
            "marker": {
             "line": {
              "color": "#E5ECF6",
              "width": 0.5
             },
             "pattern": {
              "fillmode": "overlay",
              "size": 10,
              "solidity": 0.2
             }
            },
            "type": "barpolar"
           }
          ],
          "carpet": [
           {
            "aaxis": {
             "endlinecolor": "#2a3f5f",
             "gridcolor": "white",
             "linecolor": "white",
             "minorgridcolor": "white",
             "startlinecolor": "#2a3f5f"
            },
            "baxis": {
             "endlinecolor": "#2a3f5f",
             "gridcolor": "white",
             "linecolor": "white",
             "minorgridcolor": "white",
             "startlinecolor": "#2a3f5f"
            },
            "type": "carpet"
           }
          ],
          "choropleth": [
           {
            "colorbar": {
             "outlinewidth": 0,
             "ticks": ""
            },
            "type": "choropleth"
           }
          ],
          "contour": [
           {
            "colorbar": {
             "outlinewidth": 0,
             "ticks": ""
            },
            "colorscale": [
             [
              0,
              "#0d0887"
             ],
             [
              0.1111111111111111,
              "#46039f"
             ],
             [
              0.2222222222222222,
              "#7201a8"
             ],
             [
              0.3333333333333333,
              "#9c179e"
             ],
             [
              0.4444444444444444,
              "#bd3786"
             ],
             [
              0.5555555555555556,
              "#d8576b"
             ],
             [
              0.6666666666666666,
              "#ed7953"
             ],
             [
              0.7777777777777778,
              "#fb9f3a"
             ],
             [
              0.8888888888888888,
              "#fdca26"
             ],
             [
              1,
              "#f0f921"
             ]
            ],
            "type": "contour"
           }
          ],
          "contourcarpet": [
           {
            "colorbar": {
             "outlinewidth": 0,
             "ticks": ""
            },
            "type": "contourcarpet"
           }
          ],
          "heatmap": [
           {
            "colorbar": {
             "outlinewidth": 0,
             "ticks": ""
            },
            "colorscale": [
             [
              0,
              "#0d0887"
             ],
             [
              0.1111111111111111,
              "#46039f"
             ],
             [
              0.2222222222222222,
              "#7201a8"
             ],
             [
              0.3333333333333333,
              "#9c179e"
             ],
             [
              0.4444444444444444,
              "#bd3786"
             ],
             [
              0.5555555555555556,
              "#d8576b"
             ],
             [
              0.6666666666666666,
              "#ed7953"
             ],
             [
              0.7777777777777778,
              "#fb9f3a"
             ],
             [
              0.8888888888888888,
              "#fdca26"
             ],
             [
              1,
              "#f0f921"
             ]
            ],
            "type": "heatmap"
           }
          ],
          "histogram": [
           {
            "marker": {
             "pattern": {
              "fillmode": "overlay",
              "size": 10,
              "solidity": 0.2
             }
            },
            "type": "histogram"
           }
          ],
          "histogram2d": [
           {
            "colorbar": {
             "outlinewidth": 0,
             "ticks": ""
            },
            "colorscale": [
             [
              0,
              "#0d0887"
             ],
             [
              0.1111111111111111,
              "#46039f"
             ],
             [
              0.2222222222222222,
              "#7201a8"
             ],
             [
              0.3333333333333333,
              "#9c179e"
             ],
             [
              0.4444444444444444,
              "#bd3786"
             ],
             [
              0.5555555555555556,
              "#d8576b"
             ],
             [
              0.6666666666666666,
              "#ed7953"
             ],
             [
              0.7777777777777778,
              "#fb9f3a"
             ],
             [
              0.8888888888888888,
              "#fdca26"
             ],
             [
              1,
              "#f0f921"
             ]
            ],
            "type": "histogram2d"
           }
          ],
          "histogram2dcontour": [
           {
            "colorbar": {
             "outlinewidth": 0,
             "ticks": ""
            },
            "colorscale": [
             [
              0,
              "#0d0887"
             ],
             [
              0.1111111111111111,
              "#46039f"
             ],
             [
              0.2222222222222222,
              "#7201a8"
             ],
             [
              0.3333333333333333,
              "#9c179e"
             ],
             [
              0.4444444444444444,
              "#bd3786"
             ],
             [
              0.5555555555555556,
              "#d8576b"
             ],
             [
              0.6666666666666666,
              "#ed7953"
             ],
             [
              0.7777777777777778,
              "#fb9f3a"
             ],
             [
              0.8888888888888888,
              "#fdca26"
             ],
             [
              1,
              "#f0f921"
             ]
            ],
            "type": "histogram2dcontour"
           }
          ],
          "mesh3d": [
           {
            "colorbar": {
             "outlinewidth": 0,
             "ticks": ""
            },
            "type": "mesh3d"
           }
          ],
          "parcoords": [
           {
            "line": {
             "colorbar": {
              "outlinewidth": 0,
              "ticks": ""
             }
            },
            "type": "parcoords"
           }
          ],
          "pie": [
           {
            "automargin": true,
            "type": "pie"
           }
          ],
          "scatter": [
           {
            "fillpattern": {
             "fillmode": "overlay",
             "size": 10,
             "solidity": 0.2
            },
            "type": "scatter"
           }
          ],
          "scatter3d": [
           {
            "line": {
             "colorbar": {
              "outlinewidth": 0,
              "ticks": ""
             }
            },
            "marker": {
             "colorbar": {
              "outlinewidth": 0,
              "ticks": ""
             }
            },
            "type": "scatter3d"
           }
          ],
          "scattercarpet": [
           {
            "marker": {
             "colorbar": {
              "outlinewidth": 0,
              "ticks": ""
             }
            },
            "type": "scattercarpet"
           }
          ],
          "scattergeo": [
           {
            "marker": {
             "colorbar": {
              "outlinewidth": 0,
              "ticks": ""
             }
            },
            "type": "scattergeo"
           }
          ],
          "scattergl": [
           {
            "marker": {
             "colorbar": {
              "outlinewidth": 0,
              "ticks": ""
             }
            },
            "type": "scattergl"
           }
          ],
          "scattermap": [
           {
            "marker": {
             "colorbar": {
              "outlinewidth": 0,
              "ticks": ""
             }
            },
            "type": "scattermap"
           }
          ],
          "scattermapbox": [
           {
            "marker": {
             "colorbar": {
              "outlinewidth": 0,
              "ticks": ""
             }
            },
            "type": "scattermapbox"
           }
          ],
          "scatterpolar": [
           {
            "marker": {
             "colorbar": {
              "outlinewidth": 0,
              "ticks": ""
             }
            },
            "type": "scatterpolar"
           }
          ],
          "scatterpolargl": [
           {
            "marker": {
             "colorbar": {
              "outlinewidth": 0,
              "ticks": ""
             }
            },
            "type": "scatterpolargl"
           }
          ],
          "scatterternary": [
           {
            "marker": {
             "colorbar": {
              "outlinewidth": 0,
              "ticks": ""
             }
            },
            "type": "scatterternary"
           }
          ],
          "surface": [
           {
            "colorbar": {
             "outlinewidth": 0,
             "ticks": ""
            },
            "colorscale": [
             [
              0,
              "#0d0887"
             ],
             [
              0.1111111111111111,
              "#46039f"
             ],
             [
              0.2222222222222222,
              "#7201a8"
             ],
             [
              0.3333333333333333,
              "#9c179e"
             ],
             [
              0.4444444444444444,
              "#bd3786"
             ],
             [
              0.5555555555555556,
              "#d8576b"
             ],
             [
              0.6666666666666666,
              "#ed7953"
             ],
             [
              0.7777777777777778,
              "#fb9f3a"
             ],
             [
              0.8888888888888888,
              "#fdca26"
             ],
             [
              1,
              "#f0f921"
             ]
            ],
            "type": "surface"
           }
          ],
          "table": [
           {
            "cells": {
             "fill": {
              "color": "#EBF0F8"
             },
             "line": {
              "color": "white"
             }
            },
            "header": {
             "fill": {
              "color": "#C8D4E3"
             },
             "line": {
              "color": "white"
             }
            },
            "type": "table"
           }
          ]
         },
         "layout": {
          "annotationdefaults": {
           "arrowcolor": "#2a3f5f",
           "arrowhead": 0,
           "arrowwidth": 1
          },
          "autotypenumbers": "strict",
          "coloraxis": {
           "colorbar": {
            "outlinewidth": 0,
            "ticks": ""
           }
          },
          "colorscale": {
           "diverging": [
            [
             0,
             "#8e0152"
            ],
            [
             0.1,
             "#c51b7d"
            ],
            [
             0.2,
             "#de77ae"
            ],
            [
             0.3,
             "#f1b6da"
            ],
            [
             0.4,
             "#fde0ef"
            ],
            [
             0.5,
             "#f7f7f7"
            ],
            [
             0.6,
             "#e6f5d0"
            ],
            [
             0.7,
             "#b8e186"
            ],
            [
             0.8,
             "#7fbc41"
            ],
            [
             0.9,
             "#4d9221"
            ],
            [
             1,
             "#276419"
            ]
           ],
           "sequential": [
            [
             0,
             "#0d0887"
            ],
            [
             0.1111111111111111,
             "#46039f"
            ],
            [
             0.2222222222222222,
             "#7201a8"
            ],
            [
             0.3333333333333333,
             "#9c179e"
            ],
            [
             0.4444444444444444,
             "#bd3786"
            ],
            [
             0.5555555555555556,
             "#d8576b"
            ],
            [
             0.6666666666666666,
             "#ed7953"
            ],
            [
             0.7777777777777778,
             "#fb9f3a"
            ],
            [
             0.8888888888888888,
             "#fdca26"
            ],
            [
             1,
             "#f0f921"
            ]
           ],
           "sequentialminus": [
            [
             0,
             "#0d0887"
            ],
            [
             0.1111111111111111,
             "#46039f"
            ],
            [
             0.2222222222222222,
             "#7201a8"
            ],
            [
             0.3333333333333333,
             "#9c179e"
            ],
            [
             0.4444444444444444,
             "#bd3786"
            ],
            [
             0.5555555555555556,
             "#d8576b"
            ],
            [
             0.6666666666666666,
             "#ed7953"
            ],
            [
             0.7777777777777778,
             "#fb9f3a"
            ],
            [
             0.8888888888888888,
             "#fdca26"
            ],
            [
             1,
             "#f0f921"
            ]
           ]
          },
          "colorway": [
           "#636efa",
           "#EF553B",
           "#00cc96",
           "#ab63fa",
           "#FFA15A",
           "#19d3f3",
           "#FF6692",
           "#B6E880",
           "#FF97FF",
           "#FECB52"
          ],
          "font": {
           "color": "#2a3f5f"
          },
          "geo": {
           "bgcolor": "white",
           "lakecolor": "white",
           "landcolor": "#E5ECF6",
           "showlakes": true,
           "showland": true,
           "subunitcolor": "white"
          },
          "hoverlabel": {
           "align": "left"
          },
          "hovermode": "closest",
          "mapbox": {
           "style": "light"
          },
          "paper_bgcolor": "white",
          "plot_bgcolor": "#E5ECF6",
          "polar": {
           "angularaxis": {
            "gridcolor": "white",
            "linecolor": "white",
            "ticks": ""
           },
           "bgcolor": "#E5ECF6",
           "radialaxis": {
            "gridcolor": "white",
            "linecolor": "white",
            "ticks": ""
           }
          },
          "scene": {
           "xaxis": {
            "backgroundcolor": "#E5ECF6",
            "gridcolor": "white",
            "gridwidth": 2,
            "linecolor": "white",
            "showbackground": true,
            "ticks": "",
            "zerolinecolor": "white"
           },
           "yaxis": {
            "backgroundcolor": "#E5ECF6",
            "gridcolor": "white",
            "gridwidth": 2,
            "linecolor": "white",
            "showbackground": true,
            "ticks": "",
            "zerolinecolor": "white"
           },
           "zaxis": {
            "backgroundcolor": "#E5ECF6",
            "gridcolor": "white",
            "gridwidth": 2,
            "linecolor": "white",
            "showbackground": true,
            "ticks": "",
            "zerolinecolor": "white"
           }
          },
          "shapedefaults": {
           "line": {
            "color": "#2a3f5f"
           }
          },
          "ternary": {
           "aaxis": {
            "gridcolor": "white",
            "linecolor": "white",
            "ticks": ""
           },
           "baxis": {
            "gridcolor": "white",
            "linecolor": "white",
            "ticks": ""
           },
           "bgcolor": "#E5ECF6",
           "caxis": {
            "gridcolor": "white",
            "linecolor": "white",
            "ticks": ""
           }
          },
          "title": {
           "x": 0.05
          },
          "xaxis": {
           "automargin": true,
           "gridcolor": "white",
           "linecolor": "white",
           "ticks": "",
           "title": {
            "standoff": 15
           },
           "zerolinecolor": "white",
           "zerolinewidth": 2
          },
          "yaxis": {
           "automargin": true,
           "gridcolor": "white",
           "linecolor": "white",
           "ticks": "",
           "title": {
            "standoff": 15
           },
           "zerolinecolor": "white",
           "zerolinewidth": 2
          }
         }
        },
        "title": {
         "font": {
          "color": "black"
         },
         "text": "Relación entre Precio Unitario y Número de Actos 2024"
        },
        "xaxis": {
         "anchor": "y",
         "domain": [
          0,
          1
         ],
         "gridcolor": "lightgray",
         "linecolor": "black",
         "range": [
          0,
          5000
         ],
         "showgrid": true,
         "tickfont": {
          "color": "black",
          "size": 6
         },
         "ticktext": [
          "0",
          "100",
          "200",
          "300",
          "400",
          "500",
          "1000",
          "2000",
          "3000",
          "4000",
          "5000"
         ],
         "tickvals": [
          0,
          100,
          200,
          300,
          400,
          500,
          1000,
          2000,
          3000,
          4000,
          5000
         ],
         "title": {
          "font": {
           "color": "black"
          },
          "text": "Precio Unitario"
         },
         "zerolinecolor": "black"
        },
        "yaxis": {
         "anchor": "x",
         "domain": [
          0,
          1
         ],
         "gridcolor": "lightgray",
         "linecolor": "black",
         "range": [
          0,
          350
         ],
         "showgrid": true,
         "tickfont": {
          "color": "black",
          "size": 8
         },
         "ticktext": [
          "0",
          "10",
          "20",
          "30",
          "40",
          "50",
          "100",
          "150",
          "200",
          "250",
          "350"
         ],
         "tickvals": [
          0,
          10,
          20,
          30,
          40,
          50,
          100,
          150,
          200,
          250,
          350
         ],
         "title": {
          "font": {
           "color": "black"
          },
          "text": "Actos Realizados"
         },
         "zerolinecolor": "black"
        }
       }
      }
     },
     "metadata": {},
     "output_type": "display_data"
    }
   ],
   "source": [
    "fig = px.scatter(tabla_24_completa,\n",
    "                 x=\"precio_uni\", \n",
    "                 y=\"actos\",      \n",
    "                 color=\"category\",\n",
    "                 title=\"Relación entre Precio Unitario y Número de Actos 2024\", \n",
    "                 labels={\"precio_uni\": \"Precio Unitario\", \"actos\": \"Actos Realizados\"}, \n",
    "                 hover_name=\"info\", \n",
    "                 hover_data=['category', 'tarifa', 'total', 'visits']) \n",
    "\n",
    "tickvals_x = [0, 100, 200, 300, 400, 500, 1000, 2000, 3000, 4000, 5000]\n",
    "ticktext_x = [str(val) for val in tickvals_x] \n",
    "\n",
    "tickvals_y = [0, 10, 20, 30, 40, 50, 100, 150, 200, 250, 350]\n",
    "ticktext_y = [str(val) for val in tickvals_y] \n",
    "\n",
    "\n",
    "fig.update_layout(\n",
    "    font_family=\"Oswald\", \n",
    "    font_color=\"black\",  \n",
    "    title_font_color=\"black\", \n",
    "    plot_bgcolor='white', \n",
    "    paper_bgcolor='white'\n",
    ")\n",
    "\n",
    "fig.update_xaxes(\n",
    "    showgrid=True,\n",
    "    gridcolor='lightgray', \n",
    "    linecolor='black',     \n",
    "    zerolinecolor='black', \n",
    "    tickfont_color='black',\n",
    "    title_font_color='black', \n",
    "    tickvals=tickvals_x,\n",
    "    ticktext=ticktext_x, \n",
    "    range=[0, 5000], \n",
    "    tickfont=dict(size=6) \n",
    "    #type='log'\n",
    ")\n",
    "\n",
    "fig.update_yaxes(\n",
    "    showgrid=True,\n",
    "    gridcolor='lightgray', \n",
    "    linecolor='black',\n",
    "    zerolinecolor='black', \n",
    "    tickfont_color='black', \n",
    "    title_font_color='black', \n",
    "    tickvals=tickvals_y, \n",
    "    ticktext=ticktext_y, \n",
    "    range=[0, 350],\n",
    "    tickfont=dict(size=8)\n",
    "    #type='log'\n",
    ")\n",
    "\n",
    "fig.show()"
   ]
  },
  {
   "cell_type": "code",
   "execution_count": 104,
   "id": "89ab1716",
   "metadata": {},
   "outputs": [],
   "source": [
    "color_map = {\n",
    "    'ORTODONCIAS': '#00BFFF',         # Bright Coral (Energetic)\n",
    "    'CORONA': '#FFD93D',              # Cyber Yellow (Striking & Positive)\n",
    "    'IMPLANTES':'#FF7F50' ,           # Teal Blue (Deep & Modern)\n",
    "    'OBTURACION': '#FF9F43',          # Tangerine Orange (Vivid & Playful)\n",
    "    'PROFILAXIS': '#6BB97A',          # Emerald Green (Fresh & Clean)\n",
    "    'PROTESIS REMOVIBLE': '#FF6F59',  # Tomato Red (Bold & Direct)\n",
    "    'EXTRACCION': '#FF4D4D',          # Pure Red (Assertive & Clear)\n",
    "    'ENDODONCIAS': '#FFCD00',         # Golden Yellow (Bright & Important)\n",
    "    'DIAGNOSTICOS': '#FF6B6B',        # Deep Sky Blue (Clean & Clear)\n",
    "    'CIRUGIA MAXILOFACIAL': '#FF8C00',# Dark Orange (Strong & Distinct)\n",
    "    'BLANQUEAMIENTO': '#87CEEB',      # Sky Blue (Light & Airy)\n",
    "    'PUENTES': '#8A2BE2',             # Blue Violet (Unique & Stable)\n",
    "    'CIRUGIA PERIODONTAL': \"#06DD51\", # Chartreuse Green (Zesty & Lively)\n",
    "    'FRENECTOMIA': '#40E0D0',         # Turquoise (Cool & Calm)\n",
    "    'MUÑON': '#3B8D99'              # Coral (Warm & Approachable)\n",
    "}"
   ]
  },
  {
   "cell_type": "code",
   "execution_count": 105,
   "id": "c9751201",
   "metadata": {},
   "outputs": [
    {
     "data": {
      "application/vnd.plotly.v1+json": {
       "config": {
        "plotlyServerURL": "https://plot.ly"
       },
       "data": [
        {
         "hovertemplate": "Categoría=%{x}<br>Total (€)=%{y}<extra></extra>",
         "legendgroup": "ORTODONCIAS",
         "marker": {
          "color": "#00BFFF",
          "pattern": {
           "shape": ""
          }
         },
         "name": "ORTODONCIAS",
         "orientation": "v",
         "showlegend": true,
         "textposition": "auto",
         "type": "bar",
         "x": [
          "ORTODONCIAS"
         ],
         "xaxis": "x",
         "y": {
          "bdata": "5MoAAA==",
          "dtype": "i4"
         },
         "yaxis": "y"
        },
        {
         "hovertemplate": "Categoría=%{x}<br>Total (€)=%{y}<extra></extra>",
         "legendgroup": "CORONA",
         "marker": {
          "color": "#FFD93D",
          "pattern": {
           "shape": ""
          }
         },
         "name": "CORONA",
         "orientation": "v",
         "showlegend": true,
         "textposition": "auto",
         "type": "bar",
         "x": [
          "CORONA"
         ],
         "xaxis": "x",
         "y": {
          "bdata": "psMAAA==",
          "dtype": "i4"
         },
         "yaxis": "y"
        },
        {
         "hovertemplate": "Categoría=%{x}<br>Total (€)=%{y}<extra></extra>",
         "legendgroup": "IMPLANTES",
         "marker": {
          "color": "#FF7F50",
          "pattern": {
           "shape": ""
          }
         },
         "name": "IMPLANTES",
         "orientation": "v",
         "showlegend": true,
         "textposition": "auto",
         "type": "bar",
         "x": [
          "IMPLANTES"
         ],
         "xaxis": "x",
         "y": {
          "bdata": "qMEAAA==",
          "dtype": "i4"
         },
         "yaxis": "y"
        },
        {
         "hovertemplate": "Categoría=%{x}<br>Total (€)=%{y}<extra></extra>",
         "legendgroup": "OBTURACION",
         "marker": {
          "color": "#FF9F43",
          "pattern": {
           "shape": ""
          }
         },
         "name": "OBTURACION",
         "orientation": "v",
         "showlegend": true,
         "textposition": "auto",
         "type": "bar",
         "x": [
          "OBTURACION"
         ],
         "xaxis": "x",
         "y": {
          "bdata": "Wjc=",
          "dtype": "i2"
         },
         "yaxis": "y"
        },
        {
         "hovertemplate": "Categoría=%{x}<br>Total (€)=%{y}<extra></extra>",
         "legendgroup": "PROFILAXIS",
         "marker": {
          "color": "#6BB97A",
          "pattern": {
           "shape": ""
          }
         },
         "name": "PROFILAXIS",
         "orientation": "v",
         "showlegend": true,
         "textposition": "auto",
         "type": "bar",
         "x": [
          "PROFILAXIS"
         ],
         "xaxis": "x",
         "y": {
          "bdata": "8Ck=",
          "dtype": "i2"
         },
         "yaxis": "y"
        },
        {
         "hovertemplate": "Categoría=%{x}<br>Total (€)=%{y}<extra></extra>",
         "legendgroup": "PROTESIS REMOVIBLE",
         "marker": {
          "color": "#FF6F59",
          "pattern": {
           "shape": ""
          }
         },
         "name": "PROTESIS REMOVIBLE",
         "orientation": "v",
         "showlegend": true,
         "textposition": "auto",
         "type": "bar",
         "x": [
          "PROTESIS REMOVIBLE"
         ],
         "xaxis": "x",
         "y": {
          "bdata": "OiU=",
          "dtype": "i2"
         },
         "yaxis": "y"
        },
        {
         "hovertemplate": "Categoría=%{x}<br>Total (€)=%{y}<extra></extra>",
         "legendgroup": "EXTRACCION",
         "marker": {
          "color": "#FF4D4D",
          "pattern": {
           "shape": ""
          }
         },
         "name": "EXTRACCION",
         "orientation": "v",
         "showlegend": true,
         "textposition": "auto",
         "type": "bar",
         "x": [
          "EXTRACCION"
         ],
         "xaxis": "x",
         "y": {
          "bdata": "SB4=",
          "dtype": "i2"
         },
         "yaxis": "y"
        },
        {
         "hovertemplate": "Categoría=%{x}<br>Total (€)=%{y}<extra></extra>",
         "legendgroup": "ENDODONCIAS",
         "marker": {
          "color": "#FFCD00",
          "pattern": {
           "shape": ""
          }
         },
         "name": "ENDODONCIAS",
         "orientation": "v",
         "showlegend": true,
         "textposition": "auto",
         "type": "bar",
         "x": [
          "ENDODONCIAS"
         ],
         "xaxis": "x",
         "y": {
          "bdata": "6BA=",
          "dtype": "i2"
         },
         "yaxis": "y"
        },
        {
         "hovertemplate": "Categoría=%{x}<br>Total (€)=%{y}<extra></extra>",
         "legendgroup": "DIAGNOSTICOS",
         "marker": {
          "color": "#FF6B6B",
          "pattern": {
           "shape": ""
          }
         },
         "name": "DIAGNOSTICOS",
         "orientation": "v",
         "showlegend": true,
         "textposition": "auto",
         "type": "bar",
         "x": [
          "DIAGNOSTICOS"
         ],
         "xaxis": "x",
         "y": {
          "bdata": "Yg0=",
          "dtype": "i2"
         },
         "yaxis": "y"
        },
        {
         "hovertemplate": "Categoría=%{x}<br>Total (€)=%{y}<extra></extra>",
         "legendgroup": "BLANQUEAMIENTO",
         "marker": {
          "color": "#87CEEB",
          "pattern": {
           "shape": ""
          }
         },
         "name": "BLANQUEAMIENTO",
         "orientation": "v",
         "showlegend": true,
         "textposition": "auto",
         "type": "bar",
         "x": [
          "BLANQUEAMIENTO"
         ],
         "xaxis": "x",
         "y": {
          "bdata": "hgs=",
          "dtype": "i2"
         },
         "yaxis": "y"
        },
        {
         "hovertemplate": "Categoría=%{x}<br>Total (€)=%{y}<extra></extra>",
         "legendgroup": "CIRUGIA MAXILOFACIAL",
         "marker": {
          "color": "#FF8C00",
          "pattern": {
           "shape": ""
          }
         },
         "name": "CIRUGIA MAXILOFACIAL",
         "orientation": "v",
         "showlegend": true,
         "textposition": "auto",
         "type": "bar",
         "x": [
          "CIRUGIA MAXILOFACIAL"
         ],
         "xaxis": "x",
         "y": {
          "bdata": "DAM=",
          "dtype": "i2"
         },
         "yaxis": "y"
        },
        {
         "hovertemplate": "Categoría=%{x}<br>Total (€)=%{y}<extra></extra>",
         "legendgroup": "PUENTES",
         "marker": {
          "color": "#8A2BE2",
          "pattern": {
           "shape": ""
          }
         },
         "name": "PUENTES",
         "orientation": "v",
         "showlegend": true,
         "textposition": "auto",
         "type": "bar",
         "x": [
          "PUENTES"
         ],
         "xaxis": "x",
         "y": {
          "bdata": "YgI=",
          "dtype": "i2"
         },
         "yaxis": "y"
        },
        {
         "hovertemplate": "Categoría=%{x}<br>Total (€)=%{y}<extra></extra>",
         "legendgroup": "CIRUGIA PERIODONTAL",
         "marker": {
          "color": "#06DD51",
          "pattern": {
           "shape": ""
          }
         },
         "name": "CIRUGIA PERIODONTAL",
         "orientation": "v",
         "showlegend": true,
         "textposition": "auto",
         "type": "bar",
         "x": [
          "CIRUGIA PERIODONTAL"
         ],
         "xaxis": "x",
         "y": {
          "bdata": "8AA=",
          "dtype": "i2"
         },
         "yaxis": "y"
        },
        {
         "hovertemplate": "Categoría=%{x}<br>Total (€)=%{y}<extra></extra>",
         "legendgroup": "FRENECTOMIA",
         "marker": {
          "color": "#40E0D0",
          "pattern": {
           "shape": ""
          }
         },
         "name": "FRENECTOMIA",
         "orientation": "v",
         "showlegend": true,
         "textposition": "auto",
         "type": "bar",
         "x": [
          "FRENECTOMIA"
         ],
         "xaxis": "x",
         "y": {
          "bdata": "Hg==",
          "dtype": "i1"
         },
         "yaxis": "y"
        }
       ],
       "layout": {
        "barmode": "relative",
        "font": {
         "family": "Oswald"
        },
        "hovermode": "x unified",
        "legend": {
         "title": {
          "text": "Categoría"
         },
         "tracegroupgap": 0
        },
        "paper_bgcolor": "white",
        "plot_bgcolor": "white",
        "template": {
         "data": {
          "bar": [
           {
            "error_x": {
             "color": "#2a3f5f"
            },
            "error_y": {
             "color": "#2a3f5f"
            },
            "marker": {
             "line": {
              "color": "#E5ECF6",
              "width": 0.5
             },
             "pattern": {
              "fillmode": "overlay",
              "size": 10,
              "solidity": 0.2
             }
            },
            "type": "bar"
           }
          ],
          "barpolar": [
           {
            "marker": {
             "line": {
              "color": "#E5ECF6",
              "width": 0.5
             },
             "pattern": {
              "fillmode": "overlay",
              "size": 10,
              "solidity": 0.2
             }
            },
            "type": "barpolar"
           }
          ],
          "carpet": [
           {
            "aaxis": {
             "endlinecolor": "#2a3f5f",
             "gridcolor": "white",
             "linecolor": "white",
             "minorgridcolor": "white",
             "startlinecolor": "#2a3f5f"
            },
            "baxis": {
             "endlinecolor": "#2a3f5f",
             "gridcolor": "white",
             "linecolor": "white",
             "minorgridcolor": "white",
             "startlinecolor": "#2a3f5f"
            },
            "type": "carpet"
           }
          ],
          "choropleth": [
           {
            "colorbar": {
             "outlinewidth": 0,
             "ticks": ""
            },
            "type": "choropleth"
           }
          ],
          "contour": [
           {
            "colorbar": {
             "outlinewidth": 0,
             "ticks": ""
            },
            "colorscale": [
             [
              0,
              "#0d0887"
             ],
             [
              0.1111111111111111,
              "#46039f"
             ],
             [
              0.2222222222222222,
              "#7201a8"
             ],
             [
              0.3333333333333333,
              "#9c179e"
             ],
             [
              0.4444444444444444,
              "#bd3786"
             ],
             [
              0.5555555555555556,
              "#d8576b"
             ],
             [
              0.6666666666666666,
              "#ed7953"
             ],
             [
              0.7777777777777778,
              "#fb9f3a"
             ],
             [
              0.8888888888888888,
              "#fdca26"
             ],
             [
              1,
              "#f0f921"
             ]
            ],
            "type": "contour"
           }
          ],
          "contourcarpet": [
           {
            "colorbar": {
             "outlinewidth": 0,
             "ticks": ""
            },
            "type": "contourcarpet"
           }
          ],
          "heatmap": [
           {
            "colorbar": {
             "outlinewidth": 0,
             "ticks": ""
            },
            "colorscale": [
             [
              0,
              "#0d0887"
             ],
             [
              0.1111111111111111,
              "#46039f"
             ],
             [
              0.2222222222222222,
              "#7201a8"
             ],
             [
              0.3333333333333333,
              "#9c179e"
             ],
             [
              0.4444444444444444,
              "#bd3786"
             ],
             [
              0.5555555555555556,
              "#d8576b"
             ],
             [
              0.6666666666666666,
              "#ed7953"
             ],
             [
              0.7777777777777778,
              "#fb9f3a"
             ],
             [
              0.8888888888888888,
              "#fdca26"
             ],
             [
              1,
              "#f0f921"
             ]
            ],
            "type": "heatmap"
           }
          ],
          "histogram": [
           {
            "marker": {
             "pattern": {
              "fillmode": "overlay",
              "size": 10,
              "solidity": 0.2
             }
            },
            "type": "histogram"
           }
          ],
          "histogram2d": [
           {
            "colorbar": {
             "outlinewidth": 0,
             "ticks": ""
            },
            "colorscale": [
             [
              0,
              "#0d0887"
             ],
             [
              0.1111111111111111,
              "#46039f"
             ],
             [
              0.2222222222222222,
              "#7201a8"
             ],
             [
              0.3333333333333333,
              "#9c179e"
             ],
             [
              0.4444444444444444,
              "#bd3786"
             ],
             [
              0.5555555555555556,
              "#d8576b"
             ],
             [
              0.6666666666666666,
              "#ed7953"
             ],
             [
              0.7777777777777778,
              "#fb9f3a"
             ],
             [
              0.8888888888888888,
              "#fdca26"
             ],
             [
              1,
              "#f0f921"
             ]
            ],
            "type": "histogram2d"
           }
          ],
          "histogram2dcontour": [
           {
            "colorbar": {
             "outlinewidth": 0,
             "ticks": ""
            },
            "colorscale": [
             [
              0,
              "#0d0887"
             ],
             [
              0.1111111111111111,
              "#46039f"
             ],
             [
              0.2222222222222222,
              "#7201a8"
             ],
             [
              0.3333333333333333,
              "#9c179e"
             ],
             [
              0.4444444444444444,
              "#bd3786"
             ],
             [
              0.5555555555555556,
              "#d8576b"
             ],
             [
              0.6666666666666666,
              "#ed7953"
             ],
             [
              0.7777777777777778,
              "#fb9f3a"
             ],
             [
              0.8888888888888888,
              "#fdca26"
             ],
             [
              1,
              "#f0f921"
             ]
            ],
            "type": "histogram2dcontour"
           }
          ],
          "mesh3d": [
           {
            "colorbar": {
             "outlinewidth": 0,
             "ticks": ""
            },
            "type": "mesh3d"
           }
          ],
          "parcoords": [
           {
            "line": {
             "colorbar": {
              "outlinewidth": 0,
              "ticks": ""
             }
            },
            "type": "parcoords"
           }
          ],
          "pie": [
           {
            "automargin": true,
            "type": "pie"
           }
          ],
          "scatter": [
           {
            "fillpattern": {
             "fillmode": "overlay",
             "size": 10,
             "solidity": 0.2
            },
            "type": "scatter"
           }
          ],
          "scatter3d": [
           {
            "line": {
             "colorbar": {
              "outlinewidth": 0,
              "ticks": ""
             }
            },
            "marker": {
             "colorbar": {
              "outlinewidth": 0,
              "ticks": ""
             }
            },
            "type": "scatter3d"
           }
          ],
          "scattercarpet": [
           {
            "marker": {
             "colorbar": {
              "outlinewidth": 0,
              "ticks": ""
             }
            },
            "type": "scattercarpet"
           }
          ],
          "scattergeo": [
           {
            "marker": {
             "colorbar": {
              "outlinewidth": 0,
              "ticks": ""
             }
            },
            "type": "scattergeo"
           }
          ],
          "scattergl": [
           {
            "marker": {
             "colorbar": {
              "outlinewidth": 0,
              "ticks": ""
             }
            },
            "type": "scattergl"
           }
          ],
          "scattermap": [
           {
            "marker": {
             "colorbar": {
              "outlinewidth": 0,
              "ticks": ""
             }
            },
            "type": "scattermap"
           }
          ],
          "scattermapbox": [
           {
            "marker": {
             "colorbar": {
              "outlinewidth": 0,
              "ticks": ""
             }
            },
            "type": "scattermapbox"
           }
          ],
          "scatterpolar": [
           {
            "marker": {
             "colorbar": {
              "outlinewidth": 0,
              "ticks": ""
             }
            },
            "type": "scatterpolar"
           }
          ],
          "scatterpolargl": [
           {
            "marker": {
             "colorbar": {
              "outlinewidth": 0,
              "ticks": ""
             }
            },
            "type": "scatterpolargl"
           }
          ],
          "scatterternary": [
           {
            "marker": {
             "colorbar": {
              "outlinewidth": 0,
              "ticks": ""
             }
            },
            "type": "scatterternary"
           }
          ],
          "surface": [
           {
            "colorbar": {
             "outlinewidth": 0,
             "ticks": ""
            },
            "colorscale": [
             [
              0,
              "#0d0887"
             ],
             [
              0.1111111111111111,
              "#46039f"
             ],
             [
              0.2222222222222222,
              "#7201a8"
             ],
             [
              0.3333333333333333,
              "#9c179e"
             ],
             [
              0.4444444444444444,
              "#bd3786"
             ],
             [
              0.5555555555555556,
              "#d8576b"
             ],
             [
              0.6666666666666666,
              "#ed7953"
             ],
             [
              0.7777777777777778,
              "#fb9f3a"
             ],
             [
              0.8888888888888888,
              "#fdca26"
             ],
             [
              1,
              "#f0f921"
             ]
            ],
            "type": "surface"
           }
          ],
          "table": [
           {
            "cells": {
             "fill": {
              "color": "#EBF0F8"
             },
             "line": {
              "color": "white"
             }
            },
            "header": {
             "fill": {
              "color": "#C8D4E3"
             },
             "line": {
              "color": "white"
             }
            },
            "type": "table"
           }
          ]
         },
         "layout": {
          "annotationdefaults": {
           "arrowcolor": "#2a3f5f",
           "arrowhead": 0,
           "arrowwidth": 1
          },
          "autotypenumbers": "strict",
          "coloraxis": {
           "colorbar": {
            "outlinewidth": 0,
            "ticks": ""
           }
          },
          "colorscale": {
           "diverging": [
            [
             0,
             "#8e0152"
            ],
            [
             0.1,
             "#c51b7d"
            ],
            [
             0.2,
             "#de77ae"
            ],
            [
             0.3,
             "#f1b6da"
            ],
            [
             0.4,
             "#fde0ef"
            ],
            [
             0.5,
             "#f7f7f7"
            ],
            [
             0.6,
             "#e6f5d0"
            ],
            [
             0.7,
             "#b8e186"
            ],
            [
             0.8,
             "#7fbc41"
            ],
            [
             0.9,
             "#4d9221"
            ],
            [
             1,
             "#276419"
            ]
           ],
           "sequential": [
            [
             0,
             "#0d0887"
            ],
            [
             0.1111111111111111,
             "#46039f"
            ],
            [
             0.2222222222222222,
             "#7201a8"
            ],
            [
             0.3333333333333333,
             "#9c179e"
            ],
            [
             0.4444444444444444,
             "#bd3786"
            ],
            [
             0.5555555555555556,
             "#d8576b"
            ],
            [
             0.6666666666666666,
             "#ed7953"
            ],
            [
             0.7777777777777778,
             "#fb9f3a"
            ],
            [
             0.8888888888888888,
             "#fdca26"
            ],
            [
             1,
             "#f0f921"
            ]
           ],
           "sequentialminus": [
            [
             0,
             "#0d0887"
            ],
            [
             0.1111111111111111,
             "#46039f"
            ],
            [
             0.2222222222222222,
             "#7201a8"
            ],
            [
             0.3333333333333333,
             "#9c179e"
            ],
            [
             0.4444444444444444,
             "#bd3786"
            ],
            [
             0.5555555555555556,
             "#d8576b"
            ],
            [
             0.6666666666666666,
             "#ed7953"
            ],
            [
             0.7777777777777778,
             "#fb9f3a"
            ],
            [
             0.8888888888888888,
             "#fdca26"
            ],
            [
             1,
             "#f0f921"
            ]
           ]
          },
          "colorway": [
           "#636efa",
           "#EF553B",
           "#00cc96",
           "#ab63fa",
           "#FFA15A",
           "#19d3f3",
           "#FF6692",
           "#B6E880",
           "#FF97FF",
           "#FECB52"
          ],
          "font": {
           "color": "#2a3f5f"
          },
          "geo": {
           "bgcolor": "white",
           "lakecolor": "white",
           "landcolor": "#E5ECF6",
           "showlakes": true,
           "showland": true,
           "subunitcolor": "white"
          },
          "hoverlabel": {
           "align": "left"
          },
          "hovermode": "closest",
          "mapbox": {
           "style": "light"
          },
          "paper_bgcolor": "white",
          "plot_bgcolor": "#E5ECF6",
          "polar": {
           "angularaxis": {
            "gridcolor": "white",
            "linecolor": "white",
            "ticks": ""
           },
           "bgcolor": "#E5ECF6",
           "radialaxis": {
            "gridcolor": "white",
            "linecolor": "white",
            "ticks": ""
           }
          },
          "scene": {
           "xaxis": {
            "backgroundcolor": "#E5ECF6",
            "gridcolor": "white",
            "gridwidth": 2,
            "linecolor": "white",
            "showbackground": true,
            "ticks": "",
            "zerolinecolor": "white"
           },
           "yaxis": {
            "backgroundcolor": "#E5ECF6",
            "gridcolor": "white",
            "gridwidth": 2,
            "linecolor": "white",
            "showbackground": true,
            "ticks": "",
            "zerolinecolor": "white"
           },
           "zaxis": {
            "backgroundcolor": "#E5ECF6",
            "gridcolor": "white",
            "gridwidth": 2,
            "linecolor": "white",
            "showbackground": true,
            "ticks": "",
            "zerolinecolor": "white"
           }
          },
          "shapedefaults": {
           "line": {
            "color": "#2a3f5f"
           }
          },
          "ternary": {
           "aaxis": {
            "gridcolor": "white",
            "linecolor": "white",
            "ticks": ""
           },
           "baxis": {
            "gridcolor": "white",
            "linecolor": "white",
            "ticks": ""
           },
           "bgcolor": "#E5ECF6",
           "caxis": {
            "gridcolor": "white",
            "linecolor": "white",
            "ticks": ""
           }
          },
          "title": {
           "x": 0.05
          },
          "xaxis": {
           "automargin": true,
           "gridcolor": "white",
           "linecolor": "white",
           "ticks": "",
           "title": {
            "standoff": 15
           },
           "zerolinecolor": "white",
           "zerolinewidth": 2
          },
          "yaxis": {
           "automargin": true,
           "gridcolor": "white",
           "linecolor": "white",
           "ticks": "",
           "title": {
            "standoff": 15
           },
           "zerolinecolor": "white",
           "zerolinewidth": 2
          }
         }
        },
        "title": {
         "font": {
          "family": "Oswald"
         },
         "text": "Total Ganancias por Categoria Medica 2023"
        },
        "xaxis": {
         "anchor": "y",
         "categoryarray": [
          "ORTODONCIAS",
          "CORONA",
          "IMPLANTES",
          "OBTURACION",
          "PROFILAXIS",
          "PROTESIS REMOVIBLE",
          "EXTRACCION",
          "ENDODONCIAS",
          "DIAGNOSTICOS",
          "BLANQUEAMIENTO",
          "CIRUGIA MAXILOFACIAL",
          "PUENTES",
          "CIRUGIA PERIODONTAL",
          "FRENECTOMIA"
         ],
         "categoryorder": "array",
         "domain": [
          0,
          1
         ],
         "linecolor": "black",
         "linewidth": 1,
         "showline": true,
         "tickfont": {
          "color": "black"
         },
         "title": {
          "text": "Categoría"
         }
        },
        "yaxis": {
         "anchor": "x",
         "domain": [
          0,
          1
         ],
         "linecolor": "black",
         "linewidth": 1,
         "showline": true,
         "tickfont": {
          "color": "black"
         },
         "title": {
          "text": "Total (€)"
         }
        }
       }
      }
     },
     "metadata": {},
     "output_type": "display_data"
    }
   ],
   "source": [
    "category_revenue = tabla_23_completa.groupby('category')['total'].sum().reset_index()\n",
    "\n",
    "category_revenue = category_revenue.sort_values(by='total', ascending=False)\n",
    "\n",
    "fig = px.bar(category_revenue ,\n",
    "             x='category',\n",
    "             y='total',\n",
    "             color='category',\n",
    "             color_discrete_map=color_map,\n",
    "             title='Total Ganancias por Categoria Medica 2023',\n",
    "             labels={'category': 'Categoría', 'total': 'Total (€)'})\n",
    "\n",
    "fig.update_layout(\n",
    "    font_family=\"Oswald\",\n",
    "    title_font_family=\"Oswald\",\n",
    "    xaxis=dict(\n",
    "        showline=True,\n",
    "        linewidth=1,\n",
    "        linecolor='black',\n",
    "        tickfont=dict(color='black')\n",
    "    ),\n",
    "    yaxis=dict(\n",
    "        showline=True,\n",
    "        linewidth=1,\n",
    "        linecolor='black',\n",
    "        tickfont=dict(color='black')\n",
    "    ),\n",
    "    plot_bgcolor='white',\n",
    "    paper_bgcolor='white',\n",
    "    hovermode=\"x unified\"\n",
    ")\n",
    "\n",
    "fig.show()"
   ]
  },
  {
   "cell_type": "code",
   "execution_count": 107,
   "id": "a930a0fe",
   "metadata": {},
   "outputs": [
    {
     "data": {
      "application/vnd.plotly.v1+json": {
       "config": {
        "plotlyServerURL": "https://plot.ly"
       },
       "data": [
        {
         "hovertemplate": "Categoría=%{x}<br>Nº Actos=%{y}<extra></extra>",
         "legendgroup": "PROFILAXIS",
         "marker": {
          "color": "#6BB97A",
          "pattern": {
           "shape": ""
          }
         },
         "name": "PROFILAXIS",
         "orientation": "v",
         "showlegend": true,
         "textposition": "auto",
         "type": "bar",
         "x": [
          "PROFILAXIS"
         ],
         "xaxis": "x",
         "y": {
          "bdata": "RAE=",
          "dtype": "i2"
         },
         "yaxis": "y"
        },
        {
         "hovertemplate": "Categoría=%{x}<br>Nº Actos=%{y}<extra></extra>",
         "legendgroup": "OBTURACION",
         "marker": {
          "color": "#FF9F43",
          "pattern": {
           "shape": ""
          }
         },
         "name": "OBTURACION",
         "orientation": "v",
         "showlegend": true,
         "textposition": "auto",
         "type": "bar",
         "x": [
          "OBTURACION"
         ],
         "xaxis": "x",
         "y": {
          "bdata": "9wA=",
          "dtype": "i2"
         },
         "yaxis": "y"
        },
        {
         "hovertemplate": "Categoría=%{x}<br>Nº Actos=%{y}<extra></extra>",
         "legendgroup": "CORONA",
         "marker": {
          "color": "#FFD93D",
          "pattern": {
           "shape": ""
          }
         },
         "name": "CORONA",
         "orientation": "v",
         "showlegend": true,
         "textposition": "auto",
         "type": "bar",
         "x": [
          "CORONA"
         ],
         "xaxis": "x",
         "y": {
          "bdata": "gwA=",
          "dtype": "i2"
         },
         "yaxis": "y"
        },
        {
         "hovertemplate": "Categoría=%{x}<br>Nº Actos=%{y}<extra></extra>",
         "legendgroup": "EXTRACCION",
         "marker": {
          "color": "#FF4D4D",
          "pattern": {
           "shape": ""
          }
         },
         "name": "EXTRACCION",
         "orientation": "v",
         "showlegend": true,
         "textposition": "auto",
         "type": "bar",
         "x": [
          "EXTRACCION"
         ],
         "xaxis": "x",
         "y": {
          "bdata": "XA==",
          "dtype": "i1"
         },
         "yaxis": "y"
        },
        {
         "hovertemplate": "Categoría=%{x}<br>Nº Actos=%{y}<extra></extra>",
         "legendgroup": "DIAGNOSTICOS",
         "marker": {
          "color": "#FF6B6B",
          "pattern": {
           "shape": ""
          }
         },
         "name": "DIAGNOSTICOS",
         "orientation": "v",
         "showlegend": true,
         "textposition": "auto",
         "type": "bar",
         "x": [
          "DIAGNOSTICOS"
         ],
         "xaxis": "x",
         "y": {
          "bdata": "SA==",
          "dtype": "i1"
         },
         "yaxis": "y"
        },
        {
         "hovertemplate": "Categoría=%{x}<br>Nº Actos=%{y}<extra></extra>",
         "legendgroup": "IMPLANTES",
         "marker": {
          "color": "#FF7F50",
          "pattern": {
           "shape": ""
          }
         },
         "name": "IMPLANTES",
         "orientation": "v",
         "showlegend": true,
         "textposition": "auto",
         "type": "bar",
         "x": [
          "IMPLANTES"
         ],
         "xaxis": "x",
         "y": {
          "bdata": "Ow==",
          "dtype": "i1"
         },
         "yaxis": "y"
        },
        {
         "hovertemplate": "Categoría=%{x}<br>Nº Actos=%{y}<extra></extra>",
         "legendgroup": "ORTODONCIAS",
         "marker": {
          "color": "#00BFFF",
          "pattern": {
           "shape": ""
          }
         },
         "name": "ORTODONCIAS",
         "orientation": "v",
         "showlegend": true,
         "textposition": "auto",
         "type": "bar",
         "x": [
          "ORTODONCIAS"
         ],
         "xaxis": "x",
         "y": {
          "bdata": "KQ==",
          "dtype": "i1"
         },
         "yaxis": "y"
        },
        {
         "hovertemplate": "Categoría=%{x}<br>Nº Actos=%{y}<extra></extra>",
         "legendgroup": "PROTESIS REMOVIBLE",
         "marker": {
          "color": "#FF6F59",
          "pattern": {
           "shape": ""
          }
         },
         "name": "PROTESIS REMOVIBLE",
         "orientation": "v",
         "showlegend": true,
         "textposition": "auto",
         "type": "bar",
         "x": [
          "PROTESIS REMOVIBLE"
         ],
         "xaxis": "x",
         "y": {
          "bdata": "IQ==",
          "dtype": "i1"
         },
         "yaxis": "y"
        },
        {
         "hovertemplate": "Categoría=%{x}<br>Nº Actos=%{y}<extra></extra>",
         "legendgroup": "ENDODONCIAS",
         "marker": {
          "color": "#FFCD00",
          "pattern": {
           "shape": ""
          }
         },
         "name": "ENDODONCIAS",
         "orientation": "v",
         "showlegend": true,
         "textposition": "auto",
         "type": "bar",
         "x": [
          "ENDODONCIAS"
         ],
         "xaxis": "x",
         "y": {
          "bdata": "HQ==",
          "dtype": "i1"
         },
         "yaxis": "y"
        },
        {
         "hovertemplate": "Categoría=%{x}<br>Nº Actos=%{y}<extra></extra>",
         "legendgroup": "PUENTES",
         "marker": {
          "color": "#8A2BE2",
          "pattern": {
           "shape": ""
          }
         },
         "name": "PUENTES",
         "orientation": "v",
         "showlegend": true,
         "textposition": "auto",
         "type": "bar",
         "x": [
          "PUENTES"
         ],
         "xaxis": "x",
         "y": {
          "bdata": "GQ==",
          "dtype": "i1"
         },
         "yaxis": "y"
        },
        {
         "hovertemplate": "Categoría=%{x}<br>Nº Actos=%{y}<extra></extra>",
         "legendgroup": "BLANQUEAMIENTO",
         "marker": {
          "color": "#87CEEB",
          "pattern": {
           "shape": ""
          }
         },
         "name": "BLANQUEAMIENTO",
         "orientation": "v",
         "showlegend": true,
         "textposition": "auto",
         "type": "bar",
         "x": [
          "BLANQUEAMIENTO"
         ],
         "xaxis": "x",
         "y": {
          "bdata": "CA==",
          "dtype": "i1"
         },
         "yaxis": "y"
        },
        {
         "hovertemplate": "Categoría=%{x}<br>Nº Actos=%{y}<extra></extra>",
         "legendgroup": "CIRUGIA PERIODONTAL",
         "marker": {
          "color": "#06DD51",
          "pattern": {
           "shape": ""
          }
         },
         "name": "CIRUGIA PERIODONTAL",
         "orientation": "v",
         "showlegend": true,
         "textposition": "auto",
         "type": "bar",
         "x": [
          "CIRUGIA PERIODONTAL"
         ],
         "xaxis": "x",
         "y": {
          "bdata": "BA==",
          "dtype": "i1"
         },
         "yaxis": "y"
        },
        {
         "hovertemplate": "Categoría=%{x}<br>Nº Actos=%{y}<extra></extra>",
         "legendgroup": "CIRUGIA MAXILOFACIAL",
         "marker": {
          "color": "#FF8C00",
          "pattern": {
           "shape": ""
          }
         },
         "name": "CIRUGIA MAXILOFACIAL",
         "orientation": "v",
         "showlegend": true,
         "textposition": "auto",
         "type": "bar",
         "x": [
          "CIRUGIA MAXILOFACIAL"
         ],
         "xaxis": "x",
         "y": {
          "bdata": "Ag==",
          "dtype": "i1"
         },
         "yaxis": "y"
        },
        {
         "hovertemplate": "Categoría=%{x}<br>Nº Actos=%{y}<extra></extra>",
         "legendgroup": "FRENECTOMIA",
         "marker": {
          "color": "#40E0D0",
          "pattern": {
           "shape": ""
          }
         },
         "name": "FRENECTOMIA",
         "orientation": "v",
         "showlegend": true,
         "textposition": "auto",
         "type": "bar",
         "x": [
          "FRENECTOMIA"
         ],
         "xaxis": "x",
         "y": {
          "bdata": "AQ==",
          "dtype": "i1"
         },
         "yaxis": "y"
        }
       ],
       "layout": {
        "barmode": "relative",
        "font": {
         "family": "Oswald"
        },
        "hovermode": "x unified",
        "legend": {
         "title": {
          "text": "Categoría"
         },
         "tracegroupgap": 0
        },
        "paper_bgcolor": "white",
        "plot_bgcolor": "white",
        "template": {
         "data": {
          "bar": [
           {
            "error_x": {
             "color": "#2a3f5f"
            },
            "error_y": {
             "color": "#2a3f5f"
            },
            "marker": {
             "line": {
              "color": "#E5ECF6",
              "width": 0.5
             },
             "pattern": {
              "fillmode": "overlay",
              "size": 10,
              "solidity": 0.2
             }
            },
            "type": "bar"
           }
          ],
          "barpolar": [
           {
            "marker": {
             "line": {
              "color": "#E5ECF6",
              "width": 0.5
             },
             "pattern": {
              "fillmode": "overlay",
              "size": 10,
              "solidity": 0.2
             }
            },
            "type": "barpolar"
           }
          ],
          "carpet": [
           {
            "aaxis": {
             "endlinecolor": "#2a3f5f",
             "gridcolor": "white",
             "linecolor": "white",
             "minorgridcolor": "white",
             "startlinecolor": "#2a3f5f"
            },
            "baxis": {
             "endlinecolor": "#2a3f5f",
             "gridcolor": "white",
             "linecolor": "white",
             "minorgridcolor": "white",
             "startlinecolor": "#2a3f5f"
            },
            "type": "carpet"
           }
          ],
          "choropleth": [
           {
            "colorbar": {
             "outlinewidth": 0,
             "ticks": ""
            },
            "type": "choropleth"
           }
          ],
          "contour": [
           {
            "colorbar": {
             "outlinewidth": 0,
             "ticks": ""
            },
            "colorscale": [
             [
              0,
              "#0d0887"
             ],
             [
              0.1111111111111111,
              "#46039f"
             ],
             [
              0.2222222222222222,
              "#7201a8"
             ],
             [
              0.3333333333333333,
              "#9c179e"
             ],
             [
              0.4444444444444444,
              "#bd3786"
             ],
             [
              0.5555555555555556,
              "#d8576b"
             ],
             [
              0.6666666666666666,
              "#ed7953"
             ],
             [
              0.7777777777777778,
              "#fb9f3a"
             ],
             [
              0.8888888888888888,
              "#fdca26"
             ],
             [
              1,
              "#f0f921"
             ]
            ],
            "type": "contour"
           }
          ],
          "contourcarpet": [
           {
            "colorbar": {
             "outlinewidth": 0,
             "ticks": ""
            },
            "type": "contourcarpet"
           }
          ],
          "heatmap": [
           {
            "colorbar": {
             "outlinewidth": 0,
             "ticks": ""
            },
            "colorscale": [
             [
              0,
              "#0d0887"
             ],
             [
              0.1111111111111111,
              "#46039f"
             ],
             [
              0.2222222222222222,
              "#7201a8"
             ],
             [
              0.3333333333333333,
              "#9c179e"
             ],
             [
              0.4444444444444444,
              "#bd3786"
             ],
             [
              0.5555555555555556,
              "#d8576b"
             ],
             [
              0.6666666666666666,
              "#ed7953"
             ],
             [
              0.7777777777777778,
              "#fb9f3a"
             ],
             [
              0.8888888888888888,
              "#fdca26"
             ],
             [
              1,
              "#f0f921"
             ]
            ],
            "type": "heatmap"
           }
          ],
          "histogram": [
           {
            "marker": {
             "pattern": {
              "fillmode": "overlay",
              "size": 10,
              "solidity": 0.2
             }
            },
            "type": "histogram"
           }
          ],
          "histogram2d": [
           {
            "colorbar": {
             "outlinewidth": 0,
             "ticks": ""
            },
            "colorscale": [
             [
              0,
              "#0d0887"
             ],
             [
              0.1111111111111111,
              "#46039f"
             ],
             [
              0.2222222222222222,
              "#7201a8"
             ],
             [
              0.3333333333333333,
              "#9c179e"
             ],
             [
              0.4444444444444444,
              "#bd3786"
             ],
             [
              0.5555555555555556,
              "#d8576b"
             ],
             [
              0.6666666666666666,
              "#ed7953"
             ],
             [
              0.7777777777777778,
              "#fb9f3a"
             ],
             [
              0.8888888888888888,
              "#fdca26"
             ],
             [
              1,
              "#f0f921"
             ]
            ],
            "type": "histogram2d"
           }
          ],
          "histogram2dcontour": [
           {
            "colorbar": {
             "outlinewidth": 0,
             "ticks": ""
            },
            "colorscale": [
             [
              0,
              "#0d0887"
             ],
             [
              0.1111111111111111,
              "#46039f"
             ],
             [
              0.2222222222222222,
              "#7201a8"
             ],
             [
              0.3333333333333333,
              "#9c179e"
             ],
             [
              0.4444444444444444,
              "#bd3786"
             ],
             [
              0.5555555555555556,
              "#d8576b"
             ],
             [
              0.6666666666666666,
              "#ed7953"
             ],
             [
              0.7777777777777778,
              "#fb9f3a"
             ],
             [
              0.8888888888888888,
              "#fdca26"
             ],
             [
              1,
              "#f0f921"
             ]
            ],
            "type": "histogram2dcontour"
           }
          ],
          "mesh3d": [
           {
            "colorbar": {
             "outlinewidth": 0,
             "ticks": ""
            },
            "type": "mesh3d"
           }
          ],
          "parcoords": [
           {
            "line": {
             "colorbar": {
              "outlinewidth": 0,
              "ticks": ""
             }
            },
            "type": "parcoords"
           }
          ],
          "pie": [
           {
            "automargin": true,
            "type": "pie"
           }
          ],
          "scatter": [
           {
            "fillpattern": {
             "fillmode": "overlay",
             "size": 10,
             "solidity": 0.2
            },
            "type": "scatter"
           }
          ],
          "scatter3d": [
           {
            "line": {
             "colorbar": {
              "outlinewidth": 0,
              "ticks": ""
             }
            },
            "marker": {
             "colorbar": {
              "outlinewidth": 0,
              "ticks": ""
             }
            },
            "type": "scatter3d"
           }
          ],
          "scattercarpet": [
           {
            "marker": {
             "colorbar": {
              "outlinewidth": 0,
              "ticks": ""
             }
            },
            "type": "scattercarpet"
           }
          ],
          "scattergeo": [
           {
            "marker": {
             "colorbar": {
              "outlinewidth": 0,
              "ticks": ""
             }
            },
            "type": "scattergeo"
           }
          ],
          "scattergl": [
           {
            "marker": {
             "colorbar": {
              "outlinewidth": 0,
              "ticks": ""
             }
            },
            "type": "scattergl"
           }
          ],
          "scattermap": [
           {
            "marker": {
             "colorbar": {
              "outlinewidth": 0,
              "ticks": ""
             }
            },
            "type": "scattermap"
           }
          ],
          "scattermapbox": [
           {
            "marker": {
             "colorbar": {
              "outlinewidth": 0,
              "ticks": ""
             }
            },
            "type": "scattermapbox"
           }
          ],
          "scatterpolar": [
           {
            "marker": {
             "colorbar": {
              "outlinewidth": 0,
              "ticks": ""
             }
            },
            "type": "scatterpolar"
           }
          ],
          "scatterpolargl": [
           {
            "marker": {
             "colorbar": {
              "outlinewidth": 0,
              "ticks": ""
             }
            },
            "type": "scatterpolargl"
           }
          ],
          "scatterternary": [
           {
            "marker": {
             "colorbar": {
              "outlinewidth": 0,
              "ticks": ""
             }
            },
            "type": "scatterternary"
           }
          ],
          "surface": [
           {
            "colorbar": {
             "outlinewidth": 0,
             "ticks": ""
            },
            "colorscale": [
             [
              0,
              "#0d0887"
             ],
             [
              0.1111111111111111,
              "#46039f"
             ],
             [
              0.2222222222222222,
              "#7201a8"
             ],
             [
              0.3333333333333333,
              "#9c179e"
             ],
             [
              0.4444444444444444,
              "#bd3786"
             ],
             [
              0.5555555555555556,
              "#d8576b"
             ],
             [
              0.6666666666666666,
              "#ed7953"
             ],
             [
              0.7777777777777778,
              "#fb9f3a"
             ],
             [
              0.8888888888888888,
              "#fdca26"
             ],
             [
              1,
              "#f0f921"
             ]
            ],
            "type": "surface"
           }
          ],
          "table": [
           {
            "cells": {
             "fill": {
              "color": "#EBF0F8"
             },
             "line": {
              "color": "white"
             }
            },
            "header": {
             "fill": {
              "color": "#C8D4E3"
             },
             "line": {
              "color": "white"
             }
            },
            "type": "table"
           }
          ]
         },
         "layout": {
          "annotationdefaults": {
           "arrowcolor": "#2a3f5f",
           "arrowhead": 0,
           "arrowwidth": 1
          },
          "autotypenumbers": "strict",
          "coloraxis": {
           "colorbar": {
            "outlinewidth": 0,
            "ticks": ""
           }
          },
          "colorscale": {
           "diverging": [
            [
             0,
             "#8e0152"
            ],
            [
             0.1,
             "#c51b7d"
            ],
            [
             0.2,
             "#de77ae"
            ],
            [
             0.3,
             "#f1b6da"
            ],
            [
             0.4,
             "#fde0ef"
            ],
            [
             0.5,
             "#f7f7f7"
            ],
            [
             0.6,
             "#e6f5d0"
            ],
            [
             0.7,
             "#b8e186"
            ],
            [
             0.8,
             "#7fbc41"
            ],
            [
             0.9,
             "#4d9221"
            ],
            [
             1,
             "#276419"
            ]
           ],
           "sequential": [
            [
             0,
             "#0d0887"
            ],
            [
             0.1111111111111111,
             "#46039f"
            ],
            [
             0.2222222222222222,
             "#7201a8"
            ],
            [
             0.3333333333333333,
             "#9c179e"
            ],
            [
             0.4444444444444444,
             "#bd3786"
            ],
            [
             0.5555555555555556,
             "#d8576b"
            ],
            [
             0.6666666666666666,
             "#ed7953"
            ],
            [
             0.7777777777777778,
             "#fb9f3a"
            ],
            [
             0.8888888888888888,
             "#fdca26"
            ],
            [
             1,
             "#f0f921"
            ]
           ],
           "sequentialminus": [
            [
             0,
             "#0d0887"
            ],
            [
             0.1111111111111111,
             "#46039f"
            ],
            [
             0.2222222222222222,
             "#7201a8"
            ],
            [
             0.3333333333333333,
             "#9c179e"
            ],
            [
             0.4444444444444444,
             "#bd3786"
            ],
            [
             0.5555555555555556,
             "#d8576b"
            ],
            [
             0.6666666666666666,
             "#ed7953"
            ],
            [
             0.7777777777777778,
             "#fb9f3a"
            ],
            [
             0.8888888888888888,
             "#fdca26"
            ],
            [
             1,
             "#f0f921"
            ]
           ]
          },
          "colorway": [
           "#636efa",
           "#EF553B",
           "#00cc96",
           "#ab63fa",
           "#FFA15A",
           "#19d3f3",
           "#FF6692",
           "#B6E880",
           "#FF97FF",
           "#FECB52"
          ],
          "font": {
           "color": "#2a3f5f"
          },
          "geo": {
           "bgcolor": "white",
           "lakecolor": "white",
           "landcolor": "#E5ECF6",
           "showlakes": true,
           "showland": true,
           "subunitcolor": "white"
          },
          "hoverlabel": {
           "align": "left"
          },
          "hovermode": "closest",
          "mapbox": {
           "style": "light"
          },
          "paper_bgcolor": "white",
          "plot_bgcolor": "#E5ECF6",
          "polar": {
           "angularaxis": {
            "gridcolor": "white",
            "linecolor": "white",
            "ticks": ""
           },
           "bgcolor": "#E5ECF6",
           "radialaxis": {
            "gridcolor": "white",
            "linecolor": "white",
            "ticks": ""
           }
          },
          "scene": {
           "xaxis": {
            "backgroundcolor": "#E5ECF6",
            "gridcolor": "white",
            "gridwidth": 2,
            "linecolor": "white",
            "showbackground": true,
            "ticks": "",
            "zerolinecolor": "white"
           },
           "yaxis": {
            "backgroundcolor": "#E5ECF6",
            "gridcolor": "white",
            "gridwidth": 2,
            "linecolor": "white",
            "showbackground": true,
            "ticks": "",
            "zerolinecolor": "white"
           },
           "zaxis": {
            "backgroundcolor": "#E5ECF6",
            "gridcolor": "white",
            "gridwidth": 2,
            "linecolor": "white",
            "showbackground": true,
            "ticks": "",
            "zerolinecolor": "white"
           }
          },
          "shapedefaults": {
           "line": {
            "color": "#2a3f5f"
           }
          },
          "ternary": {
           "aaxis": {
            "gridcolor": "white",
            "linecolor": "white",
            "ticks": ""
           },
           "baxis": {
            "gridcolor": "white",
            "linecolor": "white",
            "ticks": ""
           },
           "bgcolor": "#E5ECF6",
           "caxis": {
            "gridcolor": "white",
            "linecolor": "white",
            "ticks": ""
           }
          },
          "title": {
           "x": 0.05
          },
          "xaxis": {
           "automargin": true,
           "gridcolor": "white",
           "linecolor": "white",
           "ticks": "",
           "title": {
            "standoff": 15
           },
           "zerolinecolor": "white",
           "zerolinewidth": 2
          },
          "yaxis": {
           "automargin": true,
           "gridcolor": "white",
           "linecolor": "white",
           "ticks": "",
           "title": {
            "standoff": 15
           },
           "zerolinecolor": "white",
           "zerolinewidth": 2
          }
         }
        },
        "title": {
         "font": {
          "family": "Oswald"
         },
         "text": "Total Actos por Categoria Medica 2023"
        },
        "xaxis": {
         "anchor": "y",
         "categoryarray": [
          "PROFILAXIS",
          "OBTURACION",
          "CORONA",
          "EXTRACCION",
          "DIAGNOSTICOS",
          "IMPLANTES",
          "ORTODONCIAS",
          "PROTESIS REMOVIBLE",
          "ENDODONCIAS",
          "PUENTES",
          "BLANQUEAMIENTO",
          "CIRUGIA PERIODONTAL",
          "CIRUGIA MAXILOFACIAL",
          "FRENECTOMIA"
         ],
         "categoryorder": "array",
         "domain": [
          0,
          1
         ],
         "linecolor": "black",
         "linewidth": 1,
         "showline": true,
         "tickfont": {
          "color": "black"
         },
         "title": {
          "text": "Categoría"
         }
        },
        "yaxis": {
         "anchor": "x",
         "domain": [
          0,
          1
         ],
         "linecolor": "black",
         "linewidth": 1,
         "showline": true,
         "tickfont": {
          "color": "black"
         },
         "title": {
          "text": "Nº Actos"
         }
        }
       }
      }
     },
     "metadata": {},
     "output_type": "display_data"
    }
   ],
   "source": [
    "category_revenue = tabla_23_completa.groupby('category')['actos'].sum().reset_index()\n",
    "\n",
    "category_revenue = category_revenue.sort_values(by='actos', ascending=False)\n",
    "\n",
    "fig = px.bar(category_revenue ,\n",
    "             x='category',\n",
    "             y='actos',\n",
    "             color='category',\n",
    "             color_discrete_map=color_map,\n",
    "             title='Total Actos por Categoria Medica 2023',\n",
    "             labels={'category': 'Categoría', 'actos': 'Nº Actos'})\n",
    "\n",
    "fig.update_layout(\n",
    "    font_family=\"Oswald\",\n",
    "    title_font_family=\"Oswald\",\n",
    "    xaxis=dict(\n",
    "        showline=True,\n",
    "        linewidth=1,\n",
    "        linecolor='black',\n",
    "        tickfont=dict(color='black')\n",
    "    ),\n",
    "    yaxis=dict(\n",
    "        showline=True,\n",
    "        linewidth=1,\n",
    "        linecolor='black',\n",
    "        tickfont=dict(color='black')\n",
    "    ),\n",
    "    plot_bgcolor='white',\n",
    "    paper_bgcolor='white',\n",
    "    hovermode=\"x unified\"\n",
    ")\n",
    "\n",
    "fig.show()"
   ]
  },
  {
   "cell_type": "code",
   "execution_count": null,
   "id": "2647c1af",
   "metadata": {},
   "outputs": [
    {
     "data": {
      "application/vnd.plotly.v1+json": {
       "config": {
        "plotlyServerURL": "https://plot.ly"
       },
       "data": [
        {
         "hovertemplate": "Categoría=%{x}<br>Total (€)=%{y}<extra></extra>",
         "legendgroup": "CORONA",
         "marker": {
          "color": "#FFD93D",
          "pattern": {
           "shape": ""
          }
         },
         "name": "CORONA",
         "orientation": "v",
         "showlegend": true,
         "textposition": "auto",
         "type": "bar",
         "x": [
          "CORONA"
         ],
         "xaxis": "x",
         "y": {
          "bdata": "A6IAAA==",
          "dtype": "i4"
         },
         "yaxis": "y"
        },
        {
         "hovertemplate": "Categoría=%{x}<br>Total (€)=%{y}<extra></extra>",
         "legendgroup": "IMPLANTES",
         "marker": {
          "color": "#FF7F50",
          "pattern": {
           "shape": ""
          }
         },
         "name": "IMPLANTES",
         "orientation": "v",
         "showlegend": true,
         "textposition": "auto",
         "type": "bar",
         "x": [
          "IMPLANTES"
         ],
         "xaxis": "x",
         "y": {
          "bdata": "RpsAAA==",
          "dtype": "i4"
         },
         "yaxis": "y"
        },
        {
         "hovertemplate": "Categoría=%{x}<br>Total (€)=%{y}<extra></extra>",
         "legendgroup": "ORTODONCIAS",
         "marker": {
          "color": "#00BFFF",
          "pattern": {
           "shape": ""
          }
         },
         "name": "ORTODONCIAS",
         "orientation": "v",
         "showlegend": true,
         "textposition": "auto",
         "type": "bar",
         "x": [
          "ORTODONCIAS"
         ],
         "xaxis": "x",
         "y": {
          "bdata": "yWw=",
          "dtype": "i2"
         },
         "yaxis": "y"
        },
        {
         "hovertemplate": "Categoría=%{x}<br>Total (€)=%{y}<extra></extra>",
         "legendgroup": "OBTURACION",
         "marker": {
          "color": "#FF9F43",
          "pattern": {
           "shape": ""
          }
         },
         "name": "OBTURACION",
         "orientation": "v",
         "showlegend": true,
         "textposition": "auto",
         "type": "bar",
         "x": [
          "OBTURACION"
         ],
         "xaxis": "x",
         "y": {
          "bdata": "30Y=",
          "dtype": "i2"
         },
         "yaxis": "y"
        },
        {
         "hovertemplate": "Categoría=%{x}<br>Total (€)=%{y}<extra></extra>",
         "legendgroup": "PROFILAXIS",
         "marker": {
          "color": "#6BB97A",
          "pattern": {
           "shape": ""
          }
         },
         "name": "PROFILAXIS",
         "orientation": "v",
         "showlegend": true,
         "textposition": "auto",
         "type": "bar",
         "x": [
          "PROFILAXIS"
         ],
         "xaxis": "x",
         "y": {
          "bdata": "Qyw=",
          "dtype": "i2"
         },
         "yaxis": "y"
        },
        {
         "hovertemplate": "Categoría=%{x}<br>Total (€)=%{y}<extra></extra>",
         "legendgroup": "PROTESIS REMOVIBLE",
         "marker": {
          "color": "#FF6F59",
          "pattern": {
           "shape": ""
          }
         },
         "name": "PROTESIS REMOVIBLE",
         "orientation": "v",
         "showlegend": true,
         "textposition": "auto",
         "type": "bar",
         "x": [
          "PROTESIS REMOVIBLE"
         ],
         "xaxis": "x",
         "y": {
          "bdata": "mhg=",
          "dtype": "i2"
         },
         "yaxis": "y"
        },
        {
         "hovertemplate": "Categoría=%{x}<br>Total (€)=%{y}<extra></extra>",
         "legendgroup": "EXTRACCION",
         "marker": {
          "color": "#FF4D4D",
          "pattern": {
           "shape": ""
          }
         },
         "name": "EXTRACCION",
         "orientation": "v",
         "showlegend": true,
         "textposition": "auto",
         "type": "bar",
         "x": [
          "EXTRACCION"
         ],
         "xaxis": "x",
         "y": {
          "bdata": "hhM=",
          "dtype": "i2"
         },
         "yaxis": "y"
        },
        {
         "hovertemplate": "Categoría=%{x}<br>Total (€)=%{y}<extra></extra>",
         "legendgroup": "ENDODONCIAS",
         "marker": {
          "color": "#FFCD00",
          "pattern": {
           "shape": ""
          }
         },
         "name": "ENDODONCIAS",
         "orientation": "v",
         "showlegend": true,
         "textposition": "auto",
         "type": "bar",
         "x": [
          "ENDODONCIAS"
         ],
         "xaxis": "x",
         "y": {
          "bdata": "uRI=",
          "dtype": "i2"
         },
         "yaxis": "y"
        },
        {
         "hovertemplate": "Categoría=%{x}<br>Total (€)=%{y}<extra></extra>",
         "legendgroup": "DIAGNOSTICOS",
         "marker": {
          "color": "#FF6B6B",
          "pattern": {
           "shape": ""
          }
         },
         "name": "DIAGNOSTICOS",
         "orientation": "v",
         "showlegend": true,
         "textposition": "auto",
         "type": "bar",
         "x": [
          "DIAGNOSTICOS"
         ],
         "xaxis": "x",
         "y": {
          "bdata": "sAw=",
          "dtype": "i2"
         },
         "yaxis": "y"
        },
        {
         "hovertemplate": "Categoría=%{x}<br>Total (€)=%{y}<extra></extra>",
         "legendgroup": "CIRUGIA MAXILOFACIAL",
         "marker": {
          "color": "#FF8C00",
          "pattern": {
           "shape": ""
          }
         },
         "name": "CIRUGIA MAXILOFACIAL",
         "orientation": "v",
         "showlegend": true,
         "textposition": "auto",
         "type": "bar",
         "x": [
          "CIRUGIA MAXILOFACIAL"
         ],
         "xaxis": "x",
         "y": {
          "bdata": "VAs=",
          "dtype": "i2"
         },
         "yaxis": "y"
        },
        {
         "hovertemplate": "Categoría=%{x}<br>Total (€)=%{y}<extra></extra>",
         "legendgroup": "BLANQUEAMIENTO",
         "marker": {
          "color": "#87CEEB",
          "pattern": {
           "shape": ""
          }
         },
         "name": "BLANQUEAMIENTO",
         "orientation": "v",
         "showlegend": true,
         "textposition": "auto",
         "type": "bar",
         "x": [
          "BLANQUEAMIENTO"
         ],
         "xaxis": "x",
         "y": {
          "bdata": "ogg=",
          "dtype": "i2"
         },
         "yaxis": "y"
        },
        {
         "hovertemplate": "Categoría=%{x}<br>Total (€)=%{y}<extra></extra>",
         "legendgroup": "PUENTES",
         "marker": {
          "color": "#8A2BE2",
          "pattern": {
           "shape": ""
          }
         },
         "name": "PUENTES",
         "orientation": "v",
         "showlegend": true,
         "textposition": "auto",
         "type": "bar",
         "x": [
          "PUENTES"
         ],
         "xaxis": "x",
         "y": {
          "bdata": "+QY=",
          "dtype": "i2"
         },
         "yaxis": "y"
        },
        {
         "hovertemplate": "Categoría=%{x}<br>Total (€)=%{y}<extra></extra>",
         "legendgroup": "CIRUGIA PERIODONTAL",
         "marker": {
          "color": "#06DD51",
          "pattern": {
           "shape": ""
          }
         },
         "name": "CIRUGIA PERIODONTAL",
         "orientation": "v",
         "showlegend": true,
         "textposition": "auto",
         "type": "bar",
         "x": [
          "CIRUGIA PERIODONTAL"
         ],
         "xaxis": "x",
         "y": {
          "bdata": "vAI=",
          "dtype": "i2"
         },
         "yaxis": "y"
        },
        {
         "hovertemplate": "Categoría=%{x}<br>Total (€)=%{y}<extra></extra>",
         "legendgroup": "MUñON",
         "marker": {
          "color": "#19d3f3",
          "pattern": {
           "shape": ""
          }
         },
         "name": "MUñON",
         "orientation": "v",
         "showlegend": true,
         "textposition": "auto",
         "type": "bar",
         "x": [
          "MUñON"
         ],
         "xaxis": "x",
         "y": {
          "bdata": "lgA=",
          "dtype": "i2"
         },
         "yaxis": "y"
        }
       ],
       "layout": {
        "barmode": "relative",
        "font": {
         "family": "Oswald"
        },
        "hovermode": "x unified",
        "legend": {
         "title": {
          "text": "Categoría"
         },
         "tracegroupgap": 0
        },
        "paper_bgcolor": "white",
        "plot_bgcolor": "white",
        "template": {
         "data": {
          "bar": [
           {
            "error_x": {
             "color": "#2a3f5f"
            },
            "error_y": {
             "color": "#2a3f5f"
            },
            "marker": {
             "line": {
              "color": "#E5ECF6",
              "width": 0.5
             },
             "pattern": {
              "fillmode": "overlay",
              "size": 10,
              "solidity": 0.2
             }
            },
            "type": "bar"
           }
          ],
          "barpolar": [
           {
            "marker": {
             "line": {
              "color": "#E5ECF6",
              "width": 0.5
             },
             "pattern": {
              "fillmode": "overlay",
              "size": 10,
              "solidity": 0.2
             }
            },
            "type": "barpolar"
           }
          ],
          "carpet": [
           {
            "aaxis": {
             "endlinecolor": "#2a3f5f",
             "gridcolor": "white",
             "linecolor": "white",
             "minorgridcolor": "white",
             "startlinecolor": "#2a3f5f"
            },
            "baxis": {
             "endlinecolor": "#2a3f5f",
             "gridcolor": "white",
             "linecolor": "white",
             "minorgridcolor": "white",
             "startlinecolor": "#2a3f5f"
            },
            "type": "carpet"
           }
          ],
          "choropleth": [
           {
            "colorbar": {
             "outlinewidth": 0,
             "ticks": ""
            },
            "type": "choropleth"
           }
          ],
          "contour": [
           {
            "colorbar": {
             "outlinewidth": 0,
             "ticks": ""
            },
            "colorscale": [
             [
              0,
              "#0d0887"
             ],
             [
              0.1111111111111111,
              "#46039f"
             ],
             [
              0.2222222222222222,
              "#7201a8"
             ],
             [
              0.3333333333333333,
              "#9c179e"
             ],
             [
              0.4444444444444444,
              "#bd3786"
             ],
             [
              0.5555555555555556,
              "#d8576b"
             ],
             [
              0.6666666666666666,
              "#ed7953"
             ],
             [
              0.7777777777777778,
              "#fb9f3a"
             ],
             [
              0.8888888888888888,
              "#fdca26"
             ],
             [
              1,
              "#f0f921"
             ]
            ],
            "type": "contour"
           }
          ],
          "contourcarpet": [
           {
            "colorbar": {
             "outlinewidth": 0,
             "ticks": ""
            },
            "type": "contourcarpet"
           }
          ],
          "heatmap": [
           {
            "colorbar": {
             "outlinewidth": 0,
             "ticks": ""
            },
            "colorscale": [
             [
              0,
              "#0d0887"
             ],
             [
              0.1111111111111111,
              "#46039f"
             ],
             [
              0.2222222222222222,
              "#7201a8"
             ],
             [
              0.3333333333333333,
              "#9c179e"
             ],
             [
              0.4444444444444444,
              "#bd3786"
             ],
             [
              0.5555555555555556,
              "#d8576b"
             ],
             [
              0.6666666666666666,
              "#ed7953"
             ],
             [
              0.7777777777777778,
              "#fb9f3a"
             ],
             [
              0.8888888888888888,
              "#fdca26"
             ],
             [
              1,
              "#f0f921"
             ]
            ],
            "type": "heatmap"
           }
          ],
          "histogram": [
           {
            "marker": {
             "pattern": {
              "fillmode": "overlay",
              "size": 10,
              "solidity": 0.2
             }
            },
            "type": "histogram"
           }
          ],
          "histogram2d": [
           {
            "colorbar": {
             "outlinewidth": 0,
             "ticks": ""
            },
            "colorscale": [
             [
              0,
              "#0d0887"
             ],
             [
              0.1111111111111111,
              "#46039f"
             ],
             [
              0.2222222222222222,
              "#7201a8"
             ],
             [
              0.3333333333333333,
              "#9c179e"
             ],
             [
              0.4444444444444444,
              "#bd3786"
             ],
             [
              0.5555555555555556,
              "#d8576b"
             ],
             [
              0.6666666666666666,
              "#ed7953"
             ],
             [
              0.7777777777777778,
              "#fb9f3a"
             ],
             [
              0.8888888888888888,
              "#fdca26"
             ],
             [
              1,
              "#f0f921"
             ]
            ],
            "type": "histogram2d"
           }
          ],
          "histogram2dcontour": [
           {
            "colorbar": {
             "outlinewidth": 0,
             "ticks": ""
            },
            "colorscale": [
             [
              0,
              "#0d0887"
             ],
             [
              0.1111111111111111,
              "#46039f"
             ],
             [
              0.2222222222222222,
              "#7201a8"
             ],
             [
              0.3333333333333333,
              "#9c179e"
             ],
             [
              0.4444444444444444,
              "#bd3786"
             ],
             [
              0.5555555555555556,
              "#d8576b"
             ],
             [
              0.6666666666666666,
              "#ed7953"
             ],
             [
              0.7777777777777778,
              "#fb9f3a"
             ],
             [
              0.8888888888888888,
              "#fdca26"
             ],
             [
              1,
              "#f0f921"
             ]
            ],
            "type": "histogram2dcontour"
           }
          ],
          "mesh3d": [
           {
            "colorbar": {
             "outlinewidth": 0,
             "ticks": ""
            },
            "type": "mesh3d"
           }
          ],
          "parcoords": [
           {
            "line": {
             "colorbar": {
              "outlinewidth": 0,
              "ticks": ""
             }
            },
            "type": "parcoords"
           }
          ],
          "pie": [
           {
            "automargin": true,
            "type": "pie"
           }
          ],
          "scatter": [
           {
            "fillpattern": {
             "fillmode": "overlay",
             "size": 10,
             "solidity": 0.2
            },
            "type": "scatter"
           }
          ],
          "scatter3d": [
           {
            "line": {
             "colorbar": {
              "outlinewidth": 0,
              "ticks": ""
             }
            },
            "marker": {
             "colorbar": {
              "outlinewidth": 0,
              "ticks": ""
             }
            },
            "type": "scatter3d"
           }
          ],
          "scattercarpet": [
           {
            "marker": {
             "colorbar": {
              "outlinewidth": 0,
              "ticks": ""
             }
            },
            "type": "scattercarpet"
           }
          ],
          "scattergeo": [
           {
            "marker": {
             "colorbar": {
              "outlinewidth": 0,
              "ticks": ""
             }
            },
            "type": "scattergeo"
           }
          ],
          "scattergl": [
           {
            "marker": {
             "colorbar": {
              "outlinewidth": 0,
              "ticks": ""
             }
            },
            "type": "scattergl"
           }
          ],
          "scattermap": [
           {
            "marker": {
             "colorbar": {
              "outlinewidth": 0,
              "ticks": ""
             }
            },
            "type": "scattermap"
           }
          ],
          "scattermapbox": [
           {
            "marker": {
             "colorbar": {
              "outlinewidth": 0,
              "ticks": ""
             }
            },
            "type": "scattermapbox"
           }
          ],
          "scatterpolar": [
           {
            "marker": {
             "colorbar": {
              "outlinewidth": 0,
              "ticks": ""
             }
            },
            "type": "scatterpolar"
           }
          ],
          "scatterpolargl": [
           {
            "marker": {
             "colorbar": {
              "outlinewidth": 0,
              "ticks": ""
             }
            },
            "type": "scatterpolargl"
           }
          ],
          "scatterternary": [
           {
            "marker": {
             "colorbar": {
              "outlinewidth": 0,
              "ticks": ""
             }
            },
            "type": "scatterternary"
           }
          ],
          "surface": [
           {
            "colorbar": {
             "outlinewidth": 0,
             "ticks": ""
            },
            "colorscale": [
             [
              0,
              "#0d0887"
             ],
             [
              0.1111111111111111,
              "#46039f"
             ],
             [
              0.2222222222222222,
              "#7201a8"
             ],
             [
              0.3333333333333333,
              "#9c179e"
             ],
             [
              0.4444444444444444,
              "#bd3786"
             ],
             [
              0.5555555555555556,
              "#d8576b"
             ],
             [
              0.6666666666666666,
              "#ed7953"
             ],
             [
              0.7777777777777778,
              "#fb9f3a"
             ],
             [
              0.8888888888888888,
              "#fdca26"
             ],
             [
              1,
              "#f0f921"
             ]
            ],
            "type": "surface"
           }
          ],
          "table": [
           {
            "cells": {
             "fill": {
              "color": "#EBF0F8"
             },
             "line": {
              "color": "white"
             }
            },
            "header": {
             "fill": {
              "color": "#C8D4E3"
             },
             "line": {
              "color": "white"
             }
            },
            "type": "table"
           }
          ]
         },
         "layout": {
          "annotationdefaults": {
           "arrowcolor": "#2a3f5f",
           "arrowhead": 0,
           "arrowwidth": 1
          },
          "autotypenumbers": "strict",
          "coloraxis": {
           "colorbar": {
            "outlinewidth": 0,
            "ticks": ""
           }
          },
          "colorscale": {
           "diverging": [
            [
             0,
             "#8e0152"
            ],
            [
             0.1,
             "#c51b7d"
            ],
            [
             0.2,
             "#de77ae"
            ],
            [
             0.3,
             "#f1b6da"
            ],
            [
             0.4,
             "#fde0ef"
            ],
            [
             0.5,
             "#f7f7f7"
            ],
            [
             0.6,
             "#e6f5d0"
            ],
            [
             0.7,
             "#b8e186"
            ],
            [
             0.8,
             "#7fbc41"
            ],
            [
             0.9,
             "#4d9221"
            ],
            [
             1,
             "#276419"
            ]
           ],
           "sequential": [
            [
             0,
             "#0d0887"
            ],
            [
             0.1111111111111111,
             "#46039f"
            ],
            [
             0.2222222222222222,
             "#7201a8"
            ],
            [
             0.3333333333333333,
             "#9c179e"
            ],
            [
             0.4444444444444444,
             "#bd3786"
            ],
            [
             0.5555555555555556,
             "#d8576b"
            ],
            [
             0.6666666666666666,
             "#ed7953"
            ],
            [
             0.7777777777777778,
             "#fb9f3a"
            ],
            [
             0.8888888888888888,
             "#fdca26"
            ],
            [
             1,
             "#f0f921"
            ]
           ],
           "sequentialminus": [
            [
             0,
             "#0d0887"
            ],
            [
             0.1111111111111111,
             "#46039f"
            ],
            [
             0.2222222222222222,
             "#7201a8"
            ],
            [
             0.3333333333333333,
             "#9c179e"
            ],
            [
             0.4444444444444444,
             "#bd3786"
            ],
            [
             0.5555555555555556,
             "#d8576b"
            ],
            [
             0.6666666666666666,
             "#ed7953"
            ],
            [
             0.7777777777777778,
             "#fb9f3a"
            ],
            [
             0.8888888888888888,
             "#fdca26"
            ],
            [
             1,
             "#f0f921"
            ]
           ]
          },
          "colorway": [
           "#636efa",
           "#EF553B",
           "#00cc96",
           "#ab63fa",
           "#FFA15A",
           "#19d3f3",
           "#FF6692",
           "#B6E880",
           "#FF97FF",
           "#FECB52"
          ],
          "font": {
           "color": "#2a3f5f"
          },
          "geo": {
           "bgcolor": "white",
           "lakecolor": "white",
           "landcolor": "#E5ECF6",
           "showlakes": true,
           "showland": true,
           "subunitcolor": "white"
          },
          "hoverlabel": {
           "align": "left"
          },
          "hovermode": "closest",
          "mapbox": {
           "style": "light"
          },
          "paper_bgcolor": "white",
          "plot_bgcolor": "#E5ECF6",
          "polar": {
           "angularaxis": {
            "gridcolor": "white",
            "linecolor": "white",
            "ticks": ""
           },
           "bgcolor": "#E5ECF6",
           "radialaxis": {
            "gridcolor": "white",
            "linecolor": "white",
            "ticks": ""
           }
          },
          "scene": {
           "xaxis": {
            "backgroundcolor": "#E5ECF6",
            "gridcolor": "white",
            "gridwidth": 2,
            "linecolor": "white",
            "showbackground": true,
            "ticks": "",
            "zerolinecolor": "white"
           },
           "yaxis": {
            "backgroundcolor": "#E5ECF6",
            "gridcolor": "white",
            "gridwidth": 2,
            "linecolor": "white",
            "showbackground": true,
            "ticks": "",
            "zerolinecolor": "white"
           },
           "zaxis": {
            "backgroundcolor": "#E5ECF6",
            "gridcolor": "white",
            "gridwidth": 2,
            "linecolor": "white",
            "showbackground": true,
            "ticks": "",
            "zerolinecolor": "white"
           }
          },
          "shapedefaults": {
           "line": {
            "color": "#2a3f5f"
           }
          },
          "ternary": {
           "aaxis": {
            "gridcolor": "white",
            "linecolor": "white",
            "ticks": ""
           },
           "baxis": {
            "gridcolor": "white",
            "linecolor": "white",
            "ticks": ""
           },
           "bgcolor": "#E5ECF6",
           "caxis": {
            "gridcolor": "white",
            "linecolor": "white",
            "ticks": ""
           }
          },
          "title": {
           "x": 0.05
          },
          "xaxis": {
           "automargin": true,
           "gridcolor": "white",
           "linecolor": "white",
           "ticks": "",
           "title": {
            "standoff": 15
           },
           "zerolinecolor": "white",
           "zerolinewidth": 2
          },
          "yaxis": {
           "automargin": true,
           "gridcolor": "white",
           "linecolor": "white",
           "ticks": "",
           "title": {
            "standoff": 15
           },
           "zerolinecolor": "white",
           "zerolinewidth": 2
          }
         }
        },
        "title": {
         "font": {
          "family": "Oswald"
         },
         "text": "Total Ganancias por Categoria Medica 2024"
        },
        "xaxis": {
         "anchor": "y",
         "categoryarray": [
          "CORONA",
          "IMPLANTES",
          "ORTODONCIAS",
          "OBTURACION",
          "PROFILAXIS",
          "PROTESIS REMOVIBLE",
          "EXTRACCION",
          "ENDODONCIAS",
          "DIAGNOSTICOS",
          "CIRUGIA MAXILOFACIAL",
          "BLANQUEAMIENTO",
          "PUENTES",
          "CIRUGIA PERIODONTAL",
          "MUñON"
         ],
         "categoryorder": "array",
         "domain": [
          0,
          1
         ],
         "linecolor": "black",
         "linewidth": 1,
         "showline": true,
         "tickfont": {
          "color": "black"
         },
         "title": {
          "text": "Categoría"
         }
        },
        "yaxis": {
         "anchor": "x",
         "domain": [
          0,
          1
         ],
         "linecolor": "black",
         "linewidth": 1,
         "showline": true,
         "tickfont": {
          "color": "black"
         },
         "title": {
          "text": "Total (€)"
         }
        }
       }
      }
     },
     "metadata": {},
     "output_type": "display_data"
    }
   ],
   "source": [
    "category_revenue = tabla_24_completa.groupby('category')['total'].sum().reset_index()\n",
    "\n",
    "category_revenue = category_revenue.sort_values(by='total', ascending=False)\n",
    "\n",
    "fig = px.bar(category_revenue ,\n",
    "             x='category',\n",
    "             y='total',\n",
    "             color='category',\n",
    "             color_discrete_map=color_map,\n",
    "             title='Total Ganancias por Categoria Medica 2024',\n",
    "             labels={'category': 'Categoría', 'total': 'Total (€)'})\n",
    "\n",
    "fig.update_layout(\n",
    "    font_family=\"Oswald\",\n",
    "    title_font_family=\"Oswald\",\n",
    "    xaxis=dict(\n",
    "        showline=True,\n",
    "        linewidth=1,\n",
    "        linecolor='black',\n",
    "        tickfont=dict(color='black')\n",
    "    ),\n",
    "    yaxis=dict(\n",
    "        showline=True,\n",
    "        linewidth=1,\n",
    "        linecolor='black',\n",
    "        tickfont=dict(color='black')\n",
    "    ),\n",
    "    plot_bgcolor='white',\n",
    "    paper_bgcolor='white',\n",
    "    hovermode=\"x unified\"\n",
    ")\n",
    "\n",
    "fig.show()\n",
    "\n"
   ]
  },
  {
   "cell_type": "code",
   "execution_count": 109,
   "id": "bb4c4e6a",
   "metadata": {},
   "outputs": [
    {
     "data": {
      "application/vnd.plotly.v1+json": {
       "config": {
        "plotlyServerURL": "https://plot.ly"
       },
       "data": [
        {
         "hovertemplate": "Categoría=%{x}<br>Nº Actos=%{y}<extra></extra>",
         "legendgroup": "PROFILAXIS",
         "marker": {
          "color": "#6BB97A",
          "pattern": {
           "shape": ""
          }
         },
         "name": "PROFILAXIS",
         "orientation": "v",
         "showlegend": true,
         "textposition": "auto",
         "type": "bar",
         "x": [
          "PROFILAXIS"
         ],
         "xaxis": "x",
         "y": {
          "bdata": "bAE=",
          "dtype": "i2"
         },
         "yaxis": "y"
        },
        {
         "hovertemplate": "Categoría=%{x}<br>Nº Actos=%{y}<extra></extra>",
         "legendgroup": "OBTURACION",
         "marker": {
          "color": "#FF9F43",
          "pattern": {
           "shape": ""
          }
         },
         "name": "OBTURACION",
         "orientation": "v",
         "showlegend": true,
         "textposition": "auto",
         "type": "bar",
         "x": [
          "OBTURACION"
         ],
         "xaxis": "x",
         "y": {
          "bdata": "MwE=",
          "dtype": "i2"
         },
         "yaxis": "y"
        },
        {
         "hovertemplate": "Categoría=%{x}<br>Nº Actos=%{y}<extra></extra>",
         "legendgroup": "CORONA",
         "marker": {
          "color": "#FFD93D",
          "pattern": {
           "shape": ""
          }
         },
         "name": "CORONA",
         "orientation": "v",
         "showlegend": true,
         "textposition": "auto",
         "type": "bar",
         "x": [
          "CORONA"
         ],
         "xaxis": "x",
         "y": {
          "bdata": "jQA=",
          "dtype": "i2"
         },
         "yaxis": "y"
        },
        {
         "hovertemplate": "Categoría=%{x}<br>Nº Actos=%{y}<extra></extra>",
         "legendgroup": "EXTRACCION",
         "marker": {
          "color": "#FF4D4D",
          "pattern": {
           "shape": ""
          }
         },
         "name": "EXTRACCION",
         "orientation": "v",
         "showlegend": true,
         "textposition": "auto",
         "type": "bar",
         "x": [
          "EXTRACCION"
         ],
         "xaxis": "x",
         "y": {
          "bdata": "XA==",
          "dtype": "i1"
         },
         "yaxis": "y"
        },
        {
         "hovertemplate": "Categoría=%{x}<br>Nº Actos=%{y}<extra></extra>",
         "legendgroup": "DIAGNOSTICOS",
         "marker": {
          "color": "#FF6B6B",
          "pattern": {
           "shape": ""
          }
         },
         "name": "DIAGNOSTICOS",
         "orientation": "v",
         "showlegend": true,
         "textposition": "auto",
         "type": "bar",
         "x": [
          "DIAGNOSTICOS"
         ],
         "xaxis": "x",
         "y": {
          "bdata": "Sg==",
          "dtype": "i1"
         },
         "yaxis": "y"
        },
        {
         "hovertemplate": "Categoría=%{x}<br>Nº Actos=%{y}<extra></extra>",
         "legendgroup": "IMPLANTES",
         "marker": {
          "color": "#FF7F50",
          "pattern": {
           "shape": ""
          }
         },
         "name": "IMPLANTES",
         "orientation": "v",
         "showlegend": true,
         "textposition": "auto",
         "type": "bar",
         "x": [
          "IMPLANTES"
         ],
         "xaxis": "x",
         "y": {
          "bdata": "LA==",
          "dtype": "i1"
         },
         "yaxis": "y"
        },
        {
         "hovertemplate": "Categoría=%{x}<br>Nº Actos=%{y}<extra></extra>",
         "legendgroup": "ORTODONCIAS",
         "marker": {
          "color": "#00BFFF",
          "pattern": {
           "shape": ""
          }
         },
         "name": "ORTODONCIAS",
         "orientation": "v",
         "showlegend": true,
         "textposition": "auto",
         "type": "bar",
         "x": [
          "ORTODONCIAS"
         ],
         "xaxis": "x",
         "y": {
          "bdata": "LA==",
          "dtype": "i1"
         },
         "yaxis": "y"
        },
        {
         "hovertemplate": "Categoría=%{x}<br>Nº Actos=%{y}<extra></extra>",
         "legendgroup": "ENDODONCIAS",
         "marker": {
          "color": "#FFCD00",
          "pattern": {
           "shape": ""
          }
         },
         "name": "ENDODONCIAS",
         "orientation": "v",
         "showlegend": true,
         "textposition": "auto",
         "type": "bar",
         "x": [
          "ENDODONCIAS"
         ],
         "xaxis": "x",
         "y": {
          "bdata": "IA==",
          "dtype": "i1"
         },
         "yaxis": "y"
        },
        {
         "hovertemplate": "Categoría=%{x}<br>Nº Actos=%{y}<extra></extra>",
         "legendgroup": "PROTESIS REMOVIBLE",
         "marker": {
          "color": "#FF6F59",
          "pattern": {
           "shape": ""
          }
         },
         "name": "PROTESIS REMOVIBLE",
         "orientation": "v",
         "showlegend": true,
         "textposition": "auto",
         "type": "bar",
         "x": [
          "PROTESIS REMOVIBLE"
         ],
         "xaxis": "x",
         "y": {
          "bdata": "GA==",
          "dtype": "i1"
         },
         "yaxis": "y"
        },
        {
         "hovertemplate": "Categoría=%{x}<br>Nº Actos=%{y}<extra></extra>",
         "legendgroup": "PUENTES",
         "marker": {
          "color": "#8A2BE2",
          "pattern": {
           "shape": ""
          }
         },
         "name": "PUENTES",
         "orientation": "v",
         "showlegend": true,
         "textposition": "auto",
         "type": "bar",
         "x": [
          "PUENTES"
         ],
         "xaxis": "x",
         "y": {
          "bdata": "EA==",
          "dtype": "i1"
         },
         "yaxis": "y"
        },
        {
         "hovertemplate": "Categoría=%{x}<br>Nº Actos=%{y}<extra></extra>",
         "legendgroup": "CIRUGIA MAXILOFACIAL",
         "marker": {
          "color": "#FF8C00",
          "pattern": {
           "shape": ""
          }
         },
         "name": "CIRUGIA MAXILOFACIAL",
         "orientation": "v",
         "showlegend": true,
         "textposition": "auto",
         "type": "bar",
         "x": [
          "CIRUGIA MAXILOFACIAL"
         ],
         "xaxis": "x",
         "y": {
          "bdata": "CQ==",
          "dtype": "i1"
         },
         "yaxis": "y"
        },
        {
         "hovertemplate": "Categoría=%{x}<br>Nº Actos=%{y}<extra></extra>",
         "legendgroup": "BLANQUEAMIENTO",
         "marker": {
          "color": "#87CEEB",
          "pattern": {
           "shape": ""
          }
         },
         "name": "BLANQUEAMIENTO",
         "orientation": "v",
         "showlegend": true,
         "textposition": "auto",
         "type": "bar",
         "x": [
          "BLANQUEAMIENTO"
         ],
         "xaxis": "x",
         "y": {
          "bdata": "Bw==",
          "dtype": "i1"
         },
         "yaxis": "y"
        },
        {
         "hovertemplate": "Categoría=%{x}<br>Nº Actos=%{y}<extra></extra>",
         "legendgroup": "CIRUGIA PERIODONTAL",
         "marker": {
          "color": "#06DD51",
          "pattern": {
           "shape": ""
          }
         },
         "name": "CIRUGIA PERIODONTAL",
         "orientation": "v",
         "showlegend": true,
         "textposition": "auto",
         "type": "bar",
         "x": [
          "CIRUGIA PERIODONTAL"
         ],
         "xaxis": "x",
         "y": {
          "bdata": "Ag==",
          "dtype": "i1"
         },
         "yaxis": "y"
        },
        {
         "hovertemplate": "Categoría=%{x}<br>Nº Actos=%{y}<extra></extra>",
         "legendgroup": "MUñON",
         "marker": {
          "color": "#19d3f3",
          "pattern": {
           "shape": ""
          }
         },
         "name": "MUñON",
         "orientation": "v",
         "showlegend": true,
         "textposition": "auto",
         "type": "bar",
         "x": [
          "MUñON"
         ],
         "xaxis": "x",
         "y": {
          "bdata": "Ag==",
          "dtype": "i1"
         },
         "yaxis": "y"
        }
       ],
       "layout": {
        "barmode": "relative",
        "font": {
         "family": "Oswald"
        },
        "hovermode": "x unified",
        "legend": {
         "title": {
          "text": "Categoría"
         },
         "tracegroupgap": 0
        },
        "paper_bgcolor": "white",
        "plot_bgcolor": "white",
        "template": {
         "data": {
          "bar": [
           {
            "error_x": {
             "color": "#2a3f5f"
            },
            "error_y": {
             "color": "#2a3f5f"
            },
            "marker": {
             "line": {
              "color": "#E5ECF6",
              "width": 0.5
             },
             "pattern": {
              "fillmode": "overlay",
              "size": 10,
              "solidity": 0.2
             }
            },
            "type": "bar"
           }
          ],
          "barpolar": [
           {
            "marker": {
             "line": {
              "color": "#E5ECF6",
              "width": 0.5
             },
             "pattern": {
              "fillmode": "overlay",
              "size": 10,
              "solidity": 0.2
             }
            },
            "type": "barpolar"
           }
          ],
          "carpet": [
           {
            "aaxis": {
             "endlinecolor": "#2a3f5f",
             "gridcolor": "white",
             "linecolor": "white",
             "minorgridcolor": "white",
             "startlinecolor": "#2a3f5f"
            },
            "baxis": {
             "endlinecolor": "#2a3f5f",
             "gridcolor": "white",
             "linecolor": "white",
             "minorgridcolor": "white",
             "startlinecolor": "#2a3f5f"
            },
            "type": "carpet"
           }
          ],
          "choropleth": [
           {
            "colorbar": {
             "outlinewidth": 0,
             "ticks": ""
            },
            "type": "choropleth"
           }
          ],
          "contour": [
           {
            "colorbar": {
             "outlinewidth": 0,
             "ticks": ""
            },
            "colorscale": [
             [
              0,
              "#0d0887"
             ],
             [
              0.1111111111111111,
              "#46039f"
             ],
             [
              0.2222222222222222,
              "#7201a8"
             ],
             [
              0.3333333333333333,
              "#9c179e"
             ],
             [
              0.4444444444444444,
              "#bd3786"
             ],
             [
              0.5555555555555556,
              "#d8576b"
             ],
             [
              0.6666666666666666,
              "#ed7953"
             ],
             [
              0.7777777777777778,
              "#fb9f3a"
             ],
             [
              0.8888888888888888,
              "#fdca26"
             ],
             [
              1,
              "#f0f921"
             ]
            ],
            "type": "contour"
           }
          ],
          "contourcarpet": [
           {
            "colorbar": {
             "outlinewidth": 0,
             "ticks": ""
            },
            "type": "contourcarpet"
           }
          ],
          "heatmap": [
           {
            "colorbar": {
             "outlinewidth": 0,
             "ticks": ""
            },
            "colorscale": [
             [
              0,
              "#0d0887"
             ],
             [
              0.1111111111111111,
              "#46039f"
             ],
             [
              0.2222222222222222,
              "#7201a8"
             ],
             [
              0.3333333333333333,
              "#9c179e"
             ],
             [
              0.4444444444444444,
              "#bd3786"
             ],
             [
              0.5555555555555556,
              "#d8576b"
             ],
             [
              0.6666666666666666,
              "#ed7953"
             ],
             [
              0.7777777777777778,
              "#fb9f3a"
             ],
             [
              0.8888888888888888,
              "#fdca26"
             ],
             [
              1,
              "#f0f921"
             ]
            ],
            "type": "heatmap"
           }
          ],
          "histogram": [
           {
            "marker": {
             "pattern": {
              "fillmode": "overlay",
              "size": 10,
              "solidity": 0.2
             }
            },
            "type": "histogram"
           }
          ],
          "histogram2d": [
           {
            "colorbar": {
             "outlinewidth": 0,
             "ticks": ""
            },
            "colorscale": [
             [
              0,
              "#0d0887"
             ],
             [
              0.1111111111111111,
              "#46039f"
             ],
             [
              0.2222222222222222,
              "#7201a8"
             ],
             [
              0.3333333333333333,
              "#9c179e"
             ],
             [
              0.4444444444444444,
              "#bd3786"
             ],
             [
              0.5555555555555556,
              "#d8576b"
             ],
             [
              0.6666666666666666,
              "#ed7953"
             ],
             [
              0.7777777777777778,
              "#fb9f3a"
             ],
             [
              0.8888888888888888,
              "#fdca26"
             ],
             [
              1,
              "#f0f921"
             ]
            ],
            "type": "histogram2d"
           }
          ],
          "histogram2dcontour": [
           {
            "colorbar": {
             "outlinewidth": 0,
             "ticks": ""
            },
            "colorscale": [
             [
              0,
              "#0d0887"
             ],
             [
              0.1111111111111111,
              "#46039f"
             ],
             [
              0.2222222222222222,
              "#7201a8"
             ],
             [
              0.3333333333333333,
              "#9c179e"
             ],
             [
              0.4444444444444444,
              "#bd3786"
             ],
             [
              0.5555555555555556,
              "#d8576b"
             ],
             [
              0.6666666666666666,
              "#ed7953"
             ],
             [
              0.7777777777777778,
              "#fb9f3a"
             ],
             [
              0.8888888888888888,
              "#fdca26"
             ],
             [
              1,
              "#f0f921"
             ]
            ],
            "type": "histogram2dcontour"
           }
          ],
          "mesh3d": [
           {
            "colorbar": {
             "outlinewidth": 0,
             "ticks": ""
            },
            "type": "mesh3d"
           }
          ],
          "parcoords": [
           {
            "line": {
             "colorbar": {
              "outlinewidth": 0,
              "ticks": ""
             }
            },
            "type": "parcoords"
           }
          ],
          "pie": [
           {
            "automargin": true,
            "type": "pie"
           }
          ],
          "scatter": [
           {
            "fillpattern": {
             "fillmode": "overlay",
             "size": 10,
             "solidity": 0.2
            },
            "type": "scatter"
           }
          ],
          "scatter3d": [
           {
            "line": {
             "colorbar": {
              "outlinewidth": 0,
              "ticks": ""
             }
            },
            "marker": {
             "colorbar": {
              "outlinewidth": 0,
              "ticks": ""
             }
            },
            "type": "scatter3d"
           }
          ],
          "scattercarpet": [
           {
            "marker": {
             "colorbar": {
              "outlinewidth": 0,
              "ticks": ""
             }
            },
            "type": "scattercarpet"
           }
          ],
          "scattergeo": [
           {
            "marker": {
             "colorbar": {
              "outlinewidth": 0,
              "ticks": ""
             }
            },
            "type": "scattergeo"
           }
          ],
          "scattergl": [
           {
            "marker": {
             "colorbar": {
              "outlinewidth": 0,
              "ticks": ""
             }
            },
            "type": "scattergl"
           }
          ],
          "scattermap": [
           {
            "marker": {
             "colorbar": {
              "outlinewidth": 0,
              "ticks": ""
             }
            },
            "type": "scattermap"
           }
          ],
          "scattermapbox": [
           {
            "marker": {
             "colorbar": {
              "outlinewidth": 0,
              "ticks": ""
             }
            },
            "type": "scattermapbox"
           }
          ],
          "scatterpolar": [
           {
            "marker": {
             "colorbar": {
              "outlinewidth": 0,
              "ticks": ""
             }
            },
            "type": "scatterpolar"
           }
          ],
          "scatterpolargl": [
           {
            "marker": {
             "colorbar": {
              "outlinewidth": 0,
              "ticks": ""
             }
            },
            "type": "scatterpolargl"
           }
          ],
          "scatterternary": [
           {
            "marker": {
             "colorbar": {
              "outlinewidth": 0,
              "ticks": ""
             }
            },
            "type": "scatterternary"
           }
          ],
          "surface": [
           {
            "colorbar": {
             "outlinewidth": 0,
             "ticks": ""
            },
            "colorscale": [
             [
              0,
              "#0d0887"
             ],
             [
              0.1111111111111111,
              "#46039f"
             ],
             [
              0.2222222222222222,
              "#7201a8"
             ],
             [
              0.3333333333333333,
              "#9c179e"
             ],
             [
              0.4444444444444444,
              "#bd3786"
             ],
             [
              0.5555555555555556,
              "#d8576b"
             ],
             [
              0.6666666666666666,
              "#ed7953"
             ],
             [
              0.7777777777777778,
              "#fb9f3a"
             ],
             [
              0.8888888888888888,
              "#fdca26"
             ],
             [
              1,
              "#f0f921"
             ]
            ],
            "type": "surface"
           }
          ],
          "table": [
           {
            "cells": {
             "fill": {
              "color": "#EBF0F8"
             },
             "line": {
              "color": "white"
             }
            },
            "header": {
             "fill": {
              "color": "#C8D4E3"
             },
             "line": {
              "color": "white"
             }
            },
            "type": "table"
           }
          ]
         },
         "layout": {
          "annotationdefaults": {
           "arrowcolor": "#2a3f5f",
           "arrowhead": 0,
           "arrowwidth": 1
          },
          "autotypenumbers": "strict",
          "coloraxis": {
           "colorbar": {
            "outlinewidth": 0,
            "ticks": ""
           }
          },
          "colorscale": {
           "diverging": [
            [
             0,
             "#8e0152"
            ],
            [
             0.1,
             "#c51b7d"
            ],
            [
             0.2,
             "#de77ae"
            ],
            [
             0.3,
             "#f1b6da"
            ],
            [
             0.4,
             "#fde0ef"
            ],
            [
             0.5,
             "#f7f7f7"
            ],
            [
             0.6,
             "#e6f5d0"
            ],
            [
             0.7,
             "#b8e186"
            ],
            [
             0.8,
             "#7fbc41"
            ],
            [
             0.9,
             "#4d9221"
            ],
            [
             1,
             "#276419"
            ]
           ],
           "sequential": [
            [
             0,
             "#0d0887"
            ],
            [
             0.1111111111111111,
             "#46039f"
            ],
            [
             0.2222222222222222,
             "#7201a8"
            ],
            [
             0.3333333333333333,
             "#9c179e"
            ],
            [
             0.4444444444444444,
             "#bd3786"
            ],
            [
             0.5555555555555556,
             "#d8576b"
            ],
            [
             0.6666666666666666,
             "#ed7953"
            ],
            [
             0.7777777777777778,
             "#fb9f3a"
            ],
            [
             0.8888888888888888,
             "#fdca26"
            ],
            [
             1,
             "#f0f921"
            ]
           ],
           "sequentialminus": [
            [
             0,
             "#0d0887"
            ],
            [
             0.1111111111111111,
             "#46039f"
            ],
            [
             0.2222222222222222,
             "#7201a8"
            ],
            [
             0.3333333333333333,
             "#9c179e"
            ],
            [
             0.4444444444444444,
             "#bd3786"
            ],
            [
             0.5555555555555556,
             "#d8576b"
            ],
            [
             0.6666666666666666,
             "#ed7953"
            ],
            [
             0.7777777777777778,
             "#fb9f3a"
            ],
            [
             0.8888888888888888,
             "#fdca26"
            ],
            [
             1,
             "#f0f921"
            ]
           ]
          },
          "colorway": [
           "#636efa",
           "#EF553B",
           "#00cc96",
           "#ab63fa",
           "#FFA15A",
           "#19d3f3",
           "#FF6692",
           "#B6E880",
           "#FF97FF",
           "#FECB52"
          ],
          "font": {
           "color": "#2a3f5f"
          },
          "geo": {
           "bgcolor": "white",
           "lakecolor": "white",
           "landcolor": "#E5ECF6",
           "showlakes": true,
           "showland": true,
           "subunitcolor": "white"
          },
          "hoverlabel": {
           "align": "left"
          },
          "hovermode": "closest",
          "mapbox": {
           "style": "light"
          },
          "paper_bgcolor": "white",
          "plot_bgcolor": "#E5ECF6",
          "polar": {
           "angularaxis": {
            "gridcolor": "white",
            "linecolor": "white",
            "ticks": ""
           },
           "bgcolor": "#E5ECF6",
           "radialaxis": {
            "gridcolor": "white",
            "linecolor": "white",
            "ticks": ""
           }
          },
          "scene": {
           "xaxis": {
            "backgroundcolor": "#E5ECF6",
            "gridcolor": "white",
            "gridwidth": 2,
            "linecolor": "white",
            "showbackground": true,
            "ticks": "",
            "zerolinecolor": "white"
           },
           "yaxis": {
            "backgroundcolor": "#E5ECF6",
            "gridcolor": "white",
            "gridwidth": 2,
            "linecolor": "white",
            "showbackground": true,
            "ticks": "",
            "zerolinecolor": "white"
           },
           "zaxis": {
            "backgroundcolor": "#E5ECF6",
            "gridcolor": "white",
            "gridwidth": 2,
            "linecolor": "white",
            "showbackground": true,
            "ticks": "",
            "zerolinecolor": "white"
           }
          },
          "shapedefaults": {
           "line": {
            "color": "#2a3f5f"
           }
          },
          "ternary": {
           "aaxis": {
            "gridcolor": "white",
            "linecolor": "white",
            "ticks": ""
           },
           "baxis": {
            "gridcolor": "white",
            "linecolor": "white",
            "ticks": ""
           },
           "bgcolor": "#E5ECF6",
           "caxis": {
            "gridcolor": "white",
            "linecolor": "white",
            "ticks": ""
           }
          },
          "title": {
           "x": 0.05
          },
          "xaxis": {
           "automargin": true,
           "gridcolor": "white",
           "linecolor": "white",
           "ticks": "",
           "title": {
            "standoff": 15
           },
           "zerolinecolor": "white",
           "zerolinewidth": 2
          },
          "yaxis": {
           "automargin": true,
           "gridcolor": "white",
           "linecolor": "white",
           "ticks": "",
           "title": {
            "standoff": 15
           },
           "zerolinecolor": "white",
           "zerolinewidth": 2
          }
         }
        },
        "title": {
         "font": {
          "family": "Oswald"
         },
         "text": "Total Actos por Categoria Medica 2024"
        },
        "xaxis": {
         "anchor": "y",
         "categoryarray": [
          "PROFILAXIS",
          "OBTURACION",
          "CORONA",
          "EXTRACCION",
          "DIAGNOSTICOS",
          "IMPLANTES",
          "ORTODONCIAS",
          "ENDODONCIAS",
          "PROTESIS REMOVIBLE",
          "PUENTES",
          "CIRUGIA MAXILOFACIAL",
          "BLANQUEAMIENTO",
          "CIRUGIA PERIODONTAL",
          "MUñON"
         ],
         "categoryorder": "array",
         "domain": [
          0,
          1
         ],
         "linecolor": "black",
         "linewidth": 1,
         "showline": true,
         "tickfont": {
          "color": "black"
         },
         "title": {
          "text": "Categoría"
         }
        },
        "yaxis": {
         "anchor": "x",
         "domain": [
          0,
          1
         ],
         "linecolor": "black",
         "linewidth": 1,
         "showline": true,
         "tickfont": {
          "color": "black"
         },
         "title": {
          "text": "Nº Actos"
         }
        }
       }
      }
     },
     "metadata": {},
     "output_type": "display_data"
    }
   ],
   "source": [
    "category_revenue = tabla_24_completa.groupby('category')['actos'].sum().reset_index()\n",
    "\n",
    "category_revenue = category_revenue.sort_values(by='actos', ascending=False)\n",
    "\n",
    "fig = px.bar(category_revenue ,\n",
    "             x='category',\n",
    "             y='actos',\n",
    "             color='category',\n",
    "             color_discrete_map=color_map,\n",
    "             title='Total Actos por Categoria Medica 2024',\n",
    "             labels={'category': 'Categoría', 'actos': 'Nº Actos'})\n",
    "\n",
    "fig.update_layout(\n",
    "    font_family=\"Oswald\",\n",
    "    title_font_family=\"Oswald\",\n",
    "    xaxis=dict(\n",
    "        showline=True,\n",
    "        linewidth=1,\n",
    "        linecolor='black',\n",
    "        tickfont=dict(color='black')\n",
    "    ),\n",
    "    yaxis=dict(\n",
    "        showline=True,\n",
    "        linewidth=1,\n",
    "        linecolor='black',\n",
    "        tickfont=dict(color='black')\n",
    "    ),\n",
    "    plot_bgcolor='white',\n",
    "    paper_bgcolor='white',\n",
    "    hovermode=\"x unified\"\n",
    ")\n",
    "\n",
    "fig.show()"
   ]
  },
  {
   "cell_type": "code",
   "execution_count": null,
   "id": "1aaa1c29",
   "metadata": {},
   "outputs": [
    {
     "data": {
      "application/vnd.plotly.v1+json": {
       "config": {
        "plotlyServerURL": "https://plot.ly"
       },
       "data": [
        {
         "branchvalues": "total",
         "customdata": [
          [
           "(?)"
          ],
          [
           "BLANQUEAMIENTO"
          ],
          [
           "BLANQUEAMIENTO"
          ],
          [
           "CIRUGIA MAXILOFACIAL"
          ],
          [
           "CIRUGIA MAXILOFACIAL"
          ],
          [
           "CIRUGIA PERIODONTAL"
          ],
          [
           "CIRUGIA PERIODONTAL"
          ],
          [
           "CIRUGIA PERIODONTAL"
          ],
          [
           "CORONA"
          ],
          [
           "CORONA"
          ],
          [
           "CORONA"
          ],
          [
           "CORONA"
          ],
          [
           "CORONA"
          ],
          [
           "CORONA"
          ],
          [
           "DIAGNOSTICOS"
          ],
          [
           "DIAGNOSTICOS"
          ],
          [
           "DIAGNOSTICOS"
          ],
          [
           "ENDODONCIAS"
          ],
          [
           "ENDODONCIAS"
          ],
          [
           "ENDODONCIAS"
          ],
          [
           "EXTRACCION"
          ],
          [
           "EXTRACCION"
          ],
          [
           "EXTRACCION"
          ],
          [
           "IMPLANTES"
          ],
          [
           "IMPLANTES"
          ],
          [
           "IMPLANTES"
          ],
          [
           "MUñON"
          ],
          [
           "MUñON"
          ],
          [
           "OBTURACION"
          ],
          [
           "OBTURACION"
          ],
          [
           "OBTURACION"
          ],
          [
           "ORTODONCIAS"
          ],
          [
           "ORTODONCIAS"
          ],
          [
           "ORTODONCIAS"
          ],
          [
           "ORTODONCIAS"
          ],
          [
           "ORTODONCIAS"
          ],
          [
           "ORTODONCIAS"
          ],
          [
           "ORTODONCIAS"
          ],
          [
           "ORTODONCIAS"
          ],
          [
           "ORTODONCIAS"
          ],
          [
           "ORTODONCIAS"
          ],
          [
           "PROFILAXIS"
          ],
          [
           "PROFILAXIS"
          ],
          [
           "PROTESIS REMOVIBLE"
          ],
          [
           "PROTESIS REMOVIBLE"
          ],
          [
           "PROTESIS REMOVIBLE"
          ],
          [
           "PROTESIS REMOVIBLE"
          ],
          [
           "PROTESIS REMOVIBLE"
          ],
          [
           "PROTESIS REMOVIBLE"
          ],
          [
           "PROTESIS REMOVIBLE"
          ],
          [
           "PROTESIS REMOVIBLE"
          ],
          [
           "PROTESIS REMOVIBLE"
          ],
          [
           "PROTESIS REMOVIBLE"
          ],
          [
           "PUENTES"
          ],
          [
           "PUENTES"
          ]
         ],
         "domain": {
          "x": [
           0,
           0.45
          ],
          "y": [
           0,
           1
          ]
         },
         "hovertemplate": "Tratamiento=%{label}<br>actos=%{value}<br>Categoría=%{parent}<br>id=%{id}<br>category=%{customdata[0]}<extra></extra>",
         "ids": [
          "Categorías",
          "Categorías/BLANQUEAMIENTO",
          "Categorías/BLANQUEAMIENTO/BLANQUEAMIENTO PHILIPS ZOOM",
          "Categorías/CIRUGIA MAXILOFACIAL/INJERTO OSEO",
          "Categorías/CIRUGIA MAXILOFACIAL",
          "Categorías/CIRUGIA PERIODONTAL",
          "Categorías/CIRUGIA PERIODONTAL/CIRUGIA OSEA POR CUADRANTE",
          "Categorías/CIRUGIA PERIODONTAL/REGENERACION DE TEJIDOS",
          "Categorías/CORONA/RECEMENTADO DE CORONA",
          "Categorías/CORONA",
          "Categorías/CORONA/CORONA IMPLANTE ZIRCONIO",
          "Categorías/CORONA/CORONA RESINA(LABORATORIO)",
          "Categorías/CORONA/CORONA IMPLANTE",
          "Categorías/CORONA/CORONA METAL CERAMICA",
          "Categorías/DIAGNOSTICOS/ORTOPANTOMOGRAFIA",
          "Categorías/DIAGNOSTICOS/TAC",
          "Categorías/DIAGNOSTICOS",
          "Categorías/ENDODONCIAS",
          "Categorías/ENDODONCIAS/PULPUTOMIA TERAPEUTICA",
          "Categorías/ENDODONCIAS/Copia de ENDODONCIA ANTERIOR",
          "Categorías/EXTRACCION/EXTRACCION QUIRURGICA TERCER MOLAR INCLUIDO",
          "Categorías/EXTRACCION/Copia de EXTRACCION SIMPLE",
          "Categorías/EXTRACCION",
          "Categorías/IMPLANTES/IMPLANTE",
          "Categorías/IMPLANTES",
          "Categorías/IMPLANTES/REPARACION DE IMPLANTE",
          "Categorías/MUñON/POSTE FIBRA DE VIDRIO",
          "Categorías/MUñON",
          "Categorías/OBTURACION",
          "Categorías/OBTURACION/OBTURACION",
          "Categorías/OBTURACION/SELLADO POR DIENTE",
          "Categorías/ORTODONCIAS",
          "Categorías/ORTODONCIAS/RETENEDOR LINGUAL SUP",
          "Categorías/ORTODONCIAS/RETENEDOR LINGUAL INF",
          "Categorías/ORTODONCIAS/1 visitas ortodoncia",
          "Categorías/ORTODONCIAS/BRACKETS ESTETICOS",
          "Categorías/ORTODONCIAS/BRACKETS METALICOS",
          "Categorías/ORTODONCIAS/INVISALIGN",
          "Categorías/ORTODONCIAS/ORTODONCIA FIJA",
          "Categorías/ORTODONCIAS/ORTODONCIA REMOVIBLE",
          "Categorías/ORTODONCIAS/PROCED. PROST. REMOV. SIN ESPE",
          "Categorías/PROFILAXIS",
          "Categorías/PROFILAXIS/Copia de LIMPIEZA",
          "Categorías/PROTESIS REMOVIBLE",
          "Categorías/PROTESIS REMOVIBLE/Copia de PARCIAL INFERIOR",
          "Categorías/PROTESIS REMOVIBLE/AJUST. DENT. PARC. INFERIOR",
          "Categorías/PROTESIS REMOVIBLE/AJUST. DENT. PARC. SUPERIOR",
          "Categorías/PROTESIS REMOVIBLE/REPARACION BASE DENT. COMPLETA",
          "Categorías/PROTESIS REMOVIBLE/FERULA DESCARGA",
          "Categorías/PROTESIS REMOVIBLE/DENT. PARCIAL REMOV. UNILATERA",
          "Categorías/PROTESIS REMOVIBLE/DENT. COMPLETA SUPERIOR",
          "Categorías/PROTESIS REMOVIBLE/Copia de PARCIAL SUPERIOR",
          "Categorías/PROTESIS REMOVIBLE/COMPOSTURA DIENTE",
          "Categorías/PUENTES/RECEMENTADO DE PUENTE",
          "Categorías/PUENTES"
         ],
         "labels": [
          "Categorías",
          "BLANQUEAMIENTO",
          "BLANQUEAMIENTO PHILIPS ZOOM",
          "INJERTO OSEO",
          "CIRUGIA MAXILOFACIAL",
          "CIRUGIA PERIODONTAL",
          "CIRUGIA OSEA POR CUADRANTE",
          "REGENERACION DE TEJIDOS",
          "RECEMENTADO DE CORONA",
          "CORONA",
          "CORONA IMPLANTE ZIRCONIO",
          "CORONA RESINA(LABORATORIO)",
          "CORONA IMPLANTE",
          "CORONA METAL CERAMICA",
          "ORTOPANTOMOGRAFIA",
          "TAC",
          "DIAGNOSTICOS",
          "ENDODONCIAS",
          "PULPUTOMIA TERAPEUTICA",
          "Copia de ENDODONCIA ANTERIOR",
          "EXTRACCION QUIRURGICA TERCER MOLAR INCLUIDO",
          "Copia de EXTRACCION SIMPLE",
          "EXTRACCION",
          "IMPLANTE",
          "IMPLANTES",
          "REPARACION DE IMPLANTE",
          "POSTE FIBRA DE VIDRIO",
          "MUñON",
          "OBTURACION",
          "OBTURACION",
          "SELLADO POR DIENTE",
          "ORTODONCIAS",
          "RETENEDOR LINGUAL SUP",
          "RETENEDOR LINGUAL INF",
          "1 visitas ortodoncia",
          "BRACKETS ESTETICOS",
          "BRACKETS METALICOS",
          "INVISALIGN",
          "ORTODONCIA FIJA",
          "ORTODONCIA REMOVIBLE",
          "PROCED. PROST. REMOV. SIN ESPE",
          "PROFILAXIS",
          "Copia de LIMPIEZA",
          "PROTESIS REMOVIBLE",
          "Copia de PARCIAL INFERIOR",
          "AJUST. DENT. PARC. INFERIOR",
          "AJUST. DENT. PARC. SUPERIOR",
          "REPARACION BASE DENT. COMPLETA",
          "FERULA DESCARGA",
          "DENT. PARCIAL REMOV. UNILATERA",
          "DENT. COMPLETA SUPERIOR",
          "Copia de PARCIAL SUPERIOR",
          "COMPOSTURA DIENTE",
          "RECEMENTADO DE PUENTE",
          "PUENTES"
         ],
         "marker": {
          "colors": [
           "white",
           "#87CEEB",
           "#87CEEB",
           "#FF8C00",
           "#FF8C00",
           "#06DD51",
           "#06DD51",
           "#06DD51",
           "#FFD93D",
           "#FFD93D",
           "#FFD93D",
           "#FFD93D",
           "#FFD93D",
           "#FFD93D",
           "#FF6B6B",
           "#FF6B6B",
           "#FF6B6B",
           "#FFCD00",
           "#FFCD00",
           "#FFCD00",
           "#FF4D4D",
           "#FF4D4D",
           "#FF4D4D",
           "#FF7F50",
           "#FF7F50",
           "#FF7F50",
           "#FF6692",
           "#FF6692",
           "#FF9F43",
           "#FF9F43",
           "#FF9F43",
           "#00BFFF",
           "#00BFFF",
           "#00BFFF",
           "#00BFFF",
           "#00BFFF",
           "#00BFFF",
           "#00BFFF",
           "#00BFFF",
           "#00BFFF",
           "#00BFFF",
           "#6BB97A",
           "#6BB97A",
           "#FF6F59",
           "#FF6F59",
           "#FF6F59",
           "#FF6F59",
           "#FF6F59",
           "#FF6F59",
           "#FF6F59",
           "#FF6F59",
           "#FF6F59",
           "#FF6F59",
           "#8A2BE2",
           "#8A2BE2"
          ],
          "line": {
           "color": "black",
           "width": 1
          }
         },
         "name": "",
         "parents": [
          "",
          "Categorías",
          "Categorías/BLANQUEAMIENTO",
          "Categorías/CIRUGIA MAXILOFACIAL",
          "Categorías",
          "Categorías",
          "Categorías/CIRUGIA PERIODONTAL",
          "Categorías/CIRUGIA PERIODONTAL",
          "Categorías/CORONA",
          "Categorías",
          "Categorías/CORONA",
          "Categorías/CORONA",
          "Categorías/CORONA",
          "Categorías/CORONA",
          "Categorías/DIAGNOSTICOS",
          "Categorías/DIAGNOSTICOS",
          "Categorías",
          "Categorías",
          "Categorías/ENDODONCIAS",
          "Categorías/ENDODONCIAS",
          "Categorías/EXTRACCION",
          "Categorías/EXTRACCION",
          "Categorías",
          "Categorías/IMPLANTES",
          "Categorías",
          "Categorías/IMPLANTES",
          "Categorías/MUñON",
          "Categorías",
          "Categorías",
          "Categorías/OBTURACION",
          "Categorías/OBTURACION",
          "Categorías",
          "Categorías/ORTODONCIAS",
          "Categorías/ORTODONCIAS",
          "Categorías/ORTODONCIAS",
          "Categorías/ORTODONCIAS",
          "Categorías/ORTODONCIAS",
          "Categorías/ORTODONCIAS",
          "Categorías/ORTODONCIAS",
          "Categorías/ORTODONCIAS",
          "Categorías/ORTODONCIAS",
          "Categorías",
          "Categorías/PROFILAXIS",
          "Categorías",
          "Categorías/PROTESIS REMOVIBLE",
          "Categorías/PROTESIS REMOVIBLE",
          "Categorías/PROTESIS REMOVIBLE",
          "Categorías/PROTESIS REMOVIBLE",
          "Categorías/PROTESIS REMOVIBLE",
          "Categorías/PROTESIS REMOVIBLE",
          "Categorías/PROTESIS REMOVIBLE",
          "Categorías/PROTESIS REMOVIBLE",
          "Categorías/PROTESIS REMOVIBLE",
          "Categorías/PUENTES",
          "Categorías"
         ],
         "textfont": {
          "color": "black"
         },
         "type": "treemap",
         "values": {
          "bdata": "AAAAAAAYkkAAAAAAAAAcQAAAAAAAABxAAAAAAAAAIkAAAAAAAAAiQAAAAAAAAABAAAAAAAAA8D8AAAAAAADwPwAAAAAAABxAAAAAAACgYUAAAAAAAADwPwAAAAAAADVAAAAAAACASkAAAAAAAIBNQAAAAAAAgElAAAAAAAAAN0AAAAAAAIBSQAAAAAAAAEBAAAAAAAAAAEAAAAAAAAA+QAAAAAAAAPA/AAAAAADAVkAAAAAAAABXQAAAAAAAAERAAAAAAAAARkAAAAAAAAAQQAAAAAAAAABAAAAAAAAAAEAAAAAAADBzQAAAAAAAEHNAAAAAAAAAAEAAAAAAAABGQAAAAAAAAPA/AAAAAAAAFEAAAAAAAAAAQAAAAAAAAPA/AAAAAAAAOUAAAAAAAAAUQAAAAAAAAABAAAAAAAAAAEAAAAAAAADwPwAAAAAAwHZAAAAAAADAdkAAAAAAAAA4QAAAAAAAABBAAAAAAAAAAEAAAAAAAADwPwAAAAAAAPA/AAAAAAAAHEAAAAAAAADwPwAAAAAAAPA/AAAAAAAACEAAAAAAAAAQQAAAAAAAADBAAAAAAAAAMEA=",
          "dtype": "f8"
         }
        },
        {
         "branchvalues": "total",
         "customdata": [
          [
           "(?)"
          ],
          [
           "BLANQUEAMIENTO"
          ],
          [
           "BLANQUEAMIENTO"
          ],
          [
           "CIRUGIA MAXILOFACIAL"
          ],
          [
           "CIRUGIA MAXILOFACIAL"
          ],
          [
           "CIRUGIA PERIODONTAL"
          ],
          [
           "CIRUGIA PERIODONTAL"
          ],
          [
           "CIRUGIA PERIODONTAL"
          ],
          [
           "CORONA"
          ],
          [
           "CORONA"
          ],
          [
           "CORONA"
          ],
          [
           "CORONA"
          ],
          [
           "CORONA"
          ],
          [
           "CORONA"
          ],
          [
           "DIAGNOSTICOS"
          ],
          [
           "DIAGNOSTICOS"
          ],
          [
           "DIAGNOSTICOS"
          ],
          [
           "ENDODONCIAS"
          ],
          [
           "ENDODONCIAS"
          ],
          [
           "ENDODONCIAS"
          ],
          [
           "EXTRACCION"
          ],
          [
           "EXTRACCION"
          ],
          [
           "EXTRACCION"
          ],
          [
           "IMPLANTES"
          ],
          [
           "IMPLANTES"
          ],
          [
           "IMPLANTES"
          ],
          [
           "MUñON"
          ],
          [
           "MUñON"
          ],
          [
           "OBTURACION"
          ],
          [
           "OBTURACION"
          ],
          [
           "OBTURACION"
          ],
          [
           "ORTODONCIAS"
          ],
          [
           "ORTODONCIAS"
          ],
          [
           "ORTODONCIAS"
          ],
          [
           "ORTODONCIAS"
          ],
          [
           "ORTODONCIAS"
          ],
          [
           "ORTODONCIAS"
          ],
          [
           "ORTODONCIAS"
          ],
          [
           "ORTODONCIAS"
          ],
          [
           "ORTODONCIAS"
          ],
          [
           "ORTODONCIAS"
          ],
          [
           "PROFILAXIS"
          ],
          [
           "PROFILAXIS"
          ],
          [
           "PROTESIS REMOVIBLE"
          ],
          [
           "PROTESIS REMOVIBLE"
          ],
          [
           "PROTESIS REMOVIBLE"
          ],
          [
           "PROTESIS REMOVIBLE"
          ],
          [
           "PROTESIS REMOVIBLE"
          ],
          [
           "PROTESIS REMOVIBLE"
          ],
          [
           "PROTESIS REMOVIBLE"
          ],
          [
           "PROTESIS REMOVIBLE"
          ],
          [
           "PROTESIS REMOVIBLE"
          ],
          [
           "PROTESIS REMOVIBLE"
          ],
          [
           "PUENTES"
          ],
          [
           "PUENTES"
          ]
         ],
         "domain": {
          "x": [
           0.55,
           1
          ],
          "y": [
           0,
           1
          ]
         },
         "hovertemplate": "Tratamiento=%{label}<br>total=%{value}<br>Categoría=%{parent}<br>id=%{id}<br>category=%{customdata[0]}<extra></extra>",
         "ids": [
          "Categorias",
          "Categorias/BLANQUEAMIENTO",
          "Categorias/BLANQUEAMIENTO/BLANQUEAMIENTO PHILIPS ZOOM",
          "Categorias/CIRUGIA MAXILOFACIAL/INJERTO OSEO",
          "Categorias/CIRUGIA MAXILOFACIAL",
          "Categorias/CIRUGIA PERIODONTAL",
          "Categorias/CIRUGIA PERIODONTAL/CIRUGIA OSEA POR CUADRANTE",
          "Categorias/CIRUGIA PERIODONTAL/REGENERACION DE TEJIDOS",
          "Categorias/CORONA/RECEMENTADO DE CORONA",
          "Categorias/CORONA",
          "Categorias/CORONA/CORONA IMPLANTE ZIRCONIO",
          "Categorias/CORONA/CORONA RESINA(LABORATORIO)",
          "Categorias/CORONA/CORONA IMPLANTE",
          "Categorias/CORONA/CORONA METAL CERAMICA",
          "Categorias/DIAGNOSTICOS/ORTOPANTOMOGRAFIA",
          "Categorias/DIAGNOSTICOS/TAC",
          "Categorias/DIAGNOSTICOS",
          "Categorias/ENDODONCIAS",
          "Categorias/ENDODONCIAS/PULPUTOMIA TERAPEUTICA",
          "Categorias/ENDODONCIAS/Copia de ENDODONCIA ANTERIOR",
          "Categorias/EXTRACCION/EXTRACCION QUIRURGICA TERCER MOLAR INCLUIDO",
          "Categorias/EXTRACCION/Copia de EXTRACCION SIMPLE",
          "Categorias/EXTRACCION",
          "Categorias/IMPLANTES/IMPLANTE",
          "Categorias/IMPLANTES",
          "Categorias/IMPLANTES/REPARACION DE IMPLANTE",
          "Categorias/MUñON/POSTE FIBRA DE VIDRIO",
          "Categorias/MUñON",
          "Categorias/OBTURACION",
          "Categorias/OBTURACION/OBTURACION",
          "Categorias/OBTURACION/SELLADO POR DIENTE",
          "Categorias/ORTODONCIAS",
          "Categorias/ORTODONCIAS/RETENEDOR LINGUAL SUP",
          "Categorias/ORTODONCIAS/RETENEDOR LINGUAL INF",
          "Categorias/ORTODONCIAS/1 visitas ortodoncia",
          "Categorias/ORTODONCIAS/BRACKETS ESTETICOS",
          "Categorias/ORTODONCIAS/BRACKETS METALICOS",
          "Categorias/ORTODONCIAS/INVISALIGN",
          "Categorias/ORTODONCIAS/ORTODONCIA FIJA",
          "Categorias/ORTODONCIAS/ORTODONCIA REMOVIBLE",
          "Categorias/ORTODONCIAS/PROCED. PROST. REMOV. SIN ESPE",
          "Categorias/PROFILAXIS",
          "Categorias/PROFILAXIS/Copia de LIMPIEZA",
          "Categorias/PROTESIS REMOVIBLE",
          "Categorias/PROTESIS REMOVIBLE/Copia de PARCIAL INFERIOR",
          "Categorias/PROTESIS REMOVIBLE/AJUST. DENT. PARC. INFERIOR",
          "Categorias/PROTESIS REMOVIBLE/AJUST. DENT. PARC. SUPERIOR",
          "Categorias/PROTESIS REMOVIBLE/REPARACION BASE DENT. COMPLETA",
          "Categorias/PROTESIS REMOVIBLE/FERULA DESCARGA",
          "Categorias/PROTESIS REMOVIBLE/DENT. PARCIAL REMOV. UNILATERA",
          "Categorias/PROTESIS REMOVIBLE/DENT. COMPLETA SUPERIOR",
          "Categorias/PROTESIS REMOVIBLE/Copia de PARCIAL SUPERIOR",
          "Categorias/PROTESIS REMOVIBLE/COMPOSTURA DIENTE",
          "Categorias/PUENTES/RECEMENTADO DE PUENTE",
          "Categorias/PUENTES"
         ],
         "labels": [
          "Categorias",
          "BLANQUEAMIENTO",
          "BLANQUEAMIENTO PHILIPS ZOOM",
          "INJERTO OSEO",
          "CIRUGIA MAXILOFACIAL",
          "CIRUGIA PERIODONTAL",
          "CIRUGIA OSEA POR CUADRANTE",
          "REGENERACION DE TEJIDOS",
          "RECEMENTADO DE CORONA",
          "CORONA",
          "CORONA IMPLANTE ZIRCONIO",
          "CORONA RESINA(LABORATORIO)",
          "CORONA IMPLANTE",
          "CORONA METAL CERAMICA",
          "ORTOPANTOMOGRAFIA",
          "TAC",
          "DIAGNOSTICOS",
          "ENDODONCIAS",
          "PULPUTOMIA TERAPEUTICA",
          "Copia de ENDODONCIA ANTERIOR",
          "EXTRACCION QUIRURGICA TERCER MOLAR INCLUIDO",
          "Copia de EXTRACCION SIMPLE",
          "EXTRACCION",
          "IMPLANTE",
          "IMPLANTES",
          "REPARACION DE IMPLANTE",
          "POSTE FIBRA DE VIDRIO",
          "MUñON",
          "OBTURACION",
          "OBTURACION",
          "SELLADO POR DIENTE",
          "ORTODONCIAS",
          "RETENEDOR LINGUAL SUP",
          "RETENEDOR LINGUAL INF",
          "1 visitas ortodoncia",
          "BRACKETS ESTETICOS",
          "BRACKETS METALICOS",
          "INVISALIGN",
          "ORTODONCIA FIJA",
          "ORTODONCIA REMOVIBLE",
          "PROCED. PROST. REMOV. SIN ESPE",
          "PROFILAXIS",
          "Copia de LIMPIEZA",
          "PROTESIS REMOVIBLE",
          "Copia de PARCIAL INFERIOR",
          "AJUST. DENT. PARC. INFERIOR",
          "AJUST. DENT. PARC. SUPERIOR",
          "REPARACION BASE DENT. COMPLETA",
          "FERULA DESCARGA",
          "DENT. PARCIAL REMOV. UNILATERA",
          "DENT. COMPLETA SUPERIOR",
          "Copia de PARCIAL SUPERIOR",
          "COMPOSTURA DIENTE",
          "RECEMENTADO DE PUENTE",
          "PUENTES"
         ],
         "marker": {
          "colors": [
           "white",
           "#87CEEB",
           "#87CEEB",
           "#FF8C00",
           "#FF8C00",
           "#06DD51",
           "#06DD51",
           "#06DD51",
           "#FFD93D",
           "#FFD93D",
           "#FFD93D",
           "#FFD93D",
           "#FFD93D",
           "#FFD93D",
           "#FF6B6B",
           "#FF6B6B",
           "#FF6B6B",
           "#FFCD00",
           "#FFCD00",
           "#FFCD00",
           "#FF4D4D",
           "#FF4D4D",
           "#FF4D4D",
           "#FF7F50",
           "#FF7F50",
           "#FF7F50",
           "#FF6692",
           "#FF6692",
           "#FF9F43",
           "#FF9F43",
           "#FF9F43",
           "#00BFFF",
           "#00BFFF",
           "#00BFFF",
           "#00BFFF",
           "#00BFFF",
           "#00BFFF",
           "#00BFFF",
           "#00BFFF",
           "#00BFFF",
           "#00BFFF",
           "#6BB97A",
           "#6BB97A",
           "#FF6F59",
           "#FF6F59",
           "#FF6F59",
           "#FF6F59",
           "#FF6F59",
           "#FF6F59",
           "#FF6F59",
           "#FF6F59",
           "#FF6F59",
           "#FF6F59",
           "#8A2BE2",
           "#8A2BE2"
          ],
          "line": {
           "color": "black",
           "width": 1
          }
         },
         "name": "",
         "parents": [
          "",
          "Categorias",
          "Categorias/BLANQUEAMIENTO",
          "Categorias/CIRUGIA MAXILOFACIAL",
          "Categorias",
          "Categorias",
          "Categorias/CIRUGIA PERIODONTAL",
          "Categorias/CIRUGIA PERIODONTAL",
          "Categorias/CORONA",
          "Categorias",
          "Categorias/CORONA",
          "Categorias/CORONA",
          "Categorias/CORONA",
          "Categorias/CORONA",
          "Categorias/DIAGNOSTICOS",
          "Categorias/DIAGNOSTICOS",
          "Categorias",
          "Categorias",
          "Categorias/ENDODONCIAS",
          "Categorias/ENDODONCIAS",
          "Categorias/EXTRACCION",
          "Categorias/EXTRACCION",
          "Categorias",
          "Categorias/IMPLANTES",
          "Categorias",
          "Categorias/IMPLANTES",
          "Categorias/MUñON",
          "Categorias",
          "Categorias",
          "Categorias/OBTURACION",
          "Categorias/OBTURACION",
          "Categorias",
          "Categorias/ORTODONCIAS",
          "Categorias/ORTODONCIAS",
          "Categorias/ORTODONCIAS",
          "Categorias/ORTODONCIAS",
          "Categorias/ORTODONCIAS",
          "Categorias/ORTODONCIAS",
          "Categorias/ORTODONCIAS",
          "Categorias/ORTODONCIAS",
          "Categorias/ORTODONCIAS",
          "Categorias",
          "Categorias/PROFILAXIS",
          "Categorias",
          "Categorias/PROTESIS REMOVIBLE",
          "Categorias/PROTESIS REMOVIBLE",
          "Categorias/PROTESIS REMOVIBLE",
          "Categorias/PROTESIS REMOVIBLE",
          "Categorias/PROTESIS REMOVIBLE",
          "Categorias/PROTESIS REMOVIBLE",
          "Categorias/PROTESIS REMOVIBLE",
          "Categorias/PROTESIS REMOVIBLE",
          "Categorias/PROTESIS REMOVIBLE",
          "Categorias/PUENTES",
          "Categorias"
         ],
         "textfont": {
          "color": "black"
         },
         "type": "treemap",
         "values": {
          "bdata": "AAAAAPA3BEEAAAAAAEShQAAAAAAARKFAAAAAAACopkAAAAAAAKimQAAAAAAA4IVAAAAAAABAf0AAAAAAAABpQAAAAAAA4G5AAAAAAGBA5EAAAAAAAHB7QAAAAAAA0IpAAAAAAMCd1UAAAAAAAGHRQAAAAAAAgJNAAAAAAABAn0AAAAAAAGCpQAAAAAAAubJAAAAAAACgYkAAAAAAACSyQAAAAAAAAFlAAAAAAAAis0AAAAAAAIazQAAAAACAYuNAAAAAAMBo40AAAAAAAABJQAAAAAAAwGJAAAAAAADAYkAAAAAAwLfRQAAAAADAo9FAAAAAAAAAVEAAAAAAQDLbQAAAAAAAAFlAAAAAAABgfkAAAAAAAAA+QAAAAAAAAD1AAAAAAADorUAAAAAAAF3WQAAAAAAAAF1AAAAAAAAAbkAAAAAAAABeQAAAAACAIcZAAAAAAIAhxkAAAAAAAJq4QAAAAAAAeJ5AAAAAAABAZUAAAAAAAABOQAAAAAAAwIJAAAAAAACIlUAAAAAAAABeQAAAAAAAcIdAAAAAAACokUAAAAAAAIBhQAAAAAAA5JtAAAAAAADkm0A=",
          "dtype": "f8"
         }
        }
       ],
       "layout": {
        "annotations": [
         {
          "font": {
           "size": 16
          },
          "showarrow": false,
          "text": "Número de Actos por Categoría y Tratamiento 2024",
          "x": 0.225,
          "xanchor": "center",
          "xref": "paper",
          "y": 1,
          "yanchor": "bottom",
          "yref": "paper"
         },
         {
          "font": {
           "size": 16
          },
          "showarrow": false,
          "text": "Ganancia Total por Categoría y Tratamiento 2024",
          "x": 0.775,
          "xanchor": "center",
          "xref": "paper",
          "y": 1,
          "yanchor": "bottom",
          "yref": "paper"
         }
        ],
        "font": {
         "family": "Oswald"
        },
        "height": 800,
        "template": {
         "data": {
          "bar": [
           {
            "error_x": {
             "color": "#2a3f5f"
            },
            "error_y": {
             "color": "#2a3f5f"
            },
            "marker": {
             "line": {
              "color": "#E5ECF6",
              "width": 0.5
             },
             "pattern": {
              "fillmode": "overlay",
              "size": 10,
              "solidity": 0.2
             }
            },
            "type": "bar"
           }
          ],
          "barpolar": [
           {
            "marker": {
             "line": {
              "color": "#E5ECF6",
              "width": 0.5
             },
             "pattern": {
              "fillmode": "overlay",
              "size": 10,
              "solidity": 0.2
             }
            },
            "type": "barpolar"
           }
          ],
          "carpet": [
           {
            "aaxis": {
             "endlinecolor": "#2a3f5f",
             "gridcolor": "white",
             "linecolor": "white",
             "minorgridcolor": "white",
             "startlinecolor": "#2a3f5f"
            },
            "baxis": {
             "endlinecolor": "#2a3f5f",
             "gridcolor": "white",
             "linecolor": "white",
             "minorgridcolor": "white",
             "startlinecolor": "#2a3f5f"
            },
            "type": "carpet"
           }
          ],
          "choropleth": [
           {
            "colorbar": {
             "outlinewidth": 0,
             "ticks": ""
            },
            "type": "choropleth"
           }
          ],
          "contour": [
           {
            "colorbar": {
             "outlinewidth": 0,
             "ticks": ""
            },
            "colorscale": [
             [
              0,
              "#0d0887"
             ],
             [
              0.1111111111111111,
              "#46039f"
             ],
             [
              0.2222222222222222,
              "#7201a8"
             ],
             [
              0.3333333333333333,
              "#9c179e"
             ],
             [
              0.4444444444444444,
              "#bd3786"
             ],
             [
              0.5555555555555556,
              "#d8576b"
             ],
             [
              0.6666666666666666,
              "#ed7953"
             ],
             [
              0.7777777777777778,
              "#fb9f3a"
             ],
             [
              0.8888888888888888,
              "#fdca26"
             ],
             [
              1,
              "#f0f921"
             ]
            ],
            "type": "contour"
           }
          ],
          "contourcarpet": [
           {
            "colorbar": {
             "outlinewidth": 0,
             "ticks": ""
            },
            "type": "contourcarpet"
           }
          ],
          "heatmap": [
           {
            "colorbar": {
             "outlinewidth": 0,
             "ticks": ""
            },
            "colorscale": [
             [
              0,
              "#0d0887"
             ],
             [
              0.1111111111111111,
              "#46039f"
             ],
             [
              0.2222222222222222,
              "#7201a8"
             ],
             [
              0.3333333333333333,
              "#9c179e"
             ],
             [
              0.4444444444444444,
              "#bd3786"
             ],
             [
              0.5555555555555556,
              "#d8576b"
             ],
             [
              0.6666666666666666,
              "#ed7953"
             ],
             [
              0.7777777777777778,
              "#fb9f3a"
             ],
             [
              0.8888888888888888,
              "#fdca26"
             ],
             [
              1,
              "#f0f921"
             ]
            ],
            "type": "heatmap"
           }
          ],
          "histogram": [
           {
            "marker": {
             "pattern": {
              "fillmode": "overlay",
              "size": 10,
              "solidity": 0.2
             }
            },
            "type": "histogram"
           }
          ],
          "histogram2d": [
           {
            "colorbar": {
             "outlinewidth": 0,
             "ticks": ""
            },
            "colorscale": [
             [
              0,
              "#0d0887"
             ],
             [
              0.1111111111111111,
              "#46039f"
             ],
             [
              0.2222222222222222,
              "#7201a8"
             ],
             [
              0.3333333333333333,
              "#9c179e"
             ],
             [
              0.4444444444444444,
              "#bd3786"
             ],
             [
              0.5555555555555556,
              "#d8576b"
             ],
             [
              0.6666666666666666,
              "#ed7953"
             ],
             [
              0.7777777777777778,
              "#fb9f3a"
             ],
             [
              0.8888888888888888,
              "#fdca26"
             ],
             [
              1,
              "#f0f921"
             ]
            ],
            "type": "histogram2d"
           }
          ],
          "histogram2dcontour": [
           {
            "colorbar": {
             "outlinewidth": 0,
             "ticks": ""
            },
            "colorscale": [
             [
              0,
              "#0d0887"
             ],
             [
              0.1111111111111111,
              "#46039f"
             ],
             [
              0.2222222222222222,
              "#7201a8"
             ],
             [
              0.3333333333333333,
              "#9c179e"
             ],
             [
              0.4444444444444444,
              "#bd3786"
             ],
             [
              0.5555555555555556,
              "#d8576b"
             ],
             [
              0.6666666666666666,
              "#ed7953"
             ],
             [
              0.7777777777777778,
              "#fb9f3a"
             ],
             [
              0.8888888888888888,
              "#fdca26"
             ],
             [
              1,
              "#f0f921"
             ]
            ],
            "type": "histogram2dcontour"
           }
          ],
          "mesh3d": [
           {
            "colorbar": {
             "outlinewidth": 0,
             "ticks": ""
            },
            "type": "mesh3d"
           }
          ],
          "parcoords": [
           {
            "line": {
             "colorbar": {
              "outlinewidth": 0,
              "ticks": ""
             }
            },
            "type": "parcoords"
           }
          ],
          "pie": [
           {
            "automargin": true,
            "type": "pie"
           }
          ],
          "scatter": [
           {
            "fillpattern": {
             "fillmode": "overlay",
             "size": 10,
             "solidity": 0.2
            },
            "type": "scatter"
           }
          ],
          "scatter3d": [
           {
            "line": {
             "colorbar": {
              "outlinewidth": 0,
              "ticks": ""
             }
            },
            "marker": {
             "colorbar": {
              "outlinewidth": 0,
              "ticks": ""
             }
            },
            "type": "scatter3d"
           }
          ],
          "scattercarpet": [
           {
            "marker": {
             "colorbar": {
              "outlinewidth": 0,
              "ticks": ""
             }
            },
            "type": "scattercarpet"
           }
          ],
          "scattergeo": [
           {
            "marker": {
             "colorbar": {
              "outlinewidth": 0,
              "ticks": ""
             }
            },
            "type": "scattergeo"
           }
          ],
          "scattergl": [
           {
            "marker": {
             "colorbar": {
              "outlinewidth": 0,
              "ticks": ""
             }
            },
            "type": "scattergl"
           }
          ],
          "scattermap": [
           {
            "marker": {
             "colorbar": {
              "outlinewidth": 0,
              "ticks": ""
             }
            },
            "type": "scattermap"
           }
          ],
          "scattermapbox": [
           {
            "marker": {
             "colorbar": {
              "outlinewidth": 0,
              "ticks": ""
             }
            },
            "type": "scattermapbox"
           }
          ],
          "scatterpolar": [
           {
            "marker": {
             "colorbar": {
              "outlinewidth": 0,
              "ticks": ""
             }
            },
            "type": "scatterpolar"
           }
          ],
          "scatterpolargl": [
           {
            "marker": {
             "colorbar": {
              "outlinewidth": 0,
              "ticks": ""
             }
            },
            "type": "scatterpolargl"
           }
          ],
          "scatterternary": [
           {
            "marker": {
             "colorbar": {
              "outlinewidth": 0,
              "ticks": ""
             }
            },
            "type": "scatterternary"
           }
          ],
          "surface": [
           {
            "colorbar": {
             "outlinewidth": 0,
             "ticks": ""
            },
            "colorscale": [
             [
              0,
              "#0d0887"
             ],
             [
              0.1111111111111111,
              "#46039f"
             ],
             [
              0.2222222222222222,
              "#7201a8"
             ],
             [
              0.3333333333333333,
              "#9c179e"
             ],
             [
              0.4444444444444444,
              "#bd3786"
             ],
             [
              0.5555555555555556,
              "#d8576b"
             ],
             [
              0.6666666666666666,
              "#ed7953"
             ],
             [
              0.7777777777777778,
              "#fb9f3a"
             ],
             [
              0.8888888888888888,
              "#fdca26"
             ],
             [
              1,
              "#f0f921"
             ]
            ],
            "type": "surface"
           }
          ],
          "table": [
           {
            "cells": {
             "fill": {
              "color": "#EBF0F8"
             },
             "line": {
              "color": "white"
             }
            },
            "header": {
             "fill": {
              "color": "#C8D4E3"
             },
             "line": {
              "color": "white"
             }
            },
            "type": "table"
           }
          ]
         },
         "layout": {
          "annotationdefaults": {
           "arrowcolor": "#2a3f5f",
           "arrowhead": 0,
           "arrowwidth": 1
          },
          "autotypenumbers": "strict",
          "coloraxis": {
           "colorbar": {
            "outlinewidth": 0,
            "ticks": ""
           }
          },
          "colorscale": {
           "diverging": [
            [
             0,
             "#8e0152"
            ],
            [
             0.1,
             "#c51b7d"
            ],
            [
             0.2,
             "#de77ae"
            ],
            [
             0.3,
             "#f1b6da"
            ],
            [
             0.4,
             "#fde0ef"
            ],
            [
             0.5,
             "#f7f7f7"
            ],
            [
             0.6,
             "#e6f5d0"
            ],
            [
             0.7,
             "#b8e186"
            ],
            [
             0.8,
             "#7fbc41"
            ],
            [
             0.9,
             "#4d9221"
            ],
            [
             1,
             "#276419"
            ]
           ],
           "sequential": [
            [
             0,
             "#0d0887"
            ],
            [
             0.1111111111111111,
             "#46039f"
            ],
            [
             0.2222222222222222,
             "#7201a8"
            ],
            [
             0.3333333333333333,
             "#9c179e"
            ],
            [
             0.4444444444444444,
             "#bd3786"
            ],
            [
             0.5555555555555556,
             "#d8576b"
            ],
            [
             0.6666666666666666,
             "#ed7953"
            ],
            [
             0.7777777777777778,
             "#fb9f3a"
            ],
            [
             0.8888888888888888,
             "#fdca26"
            ],
            [
             1,
             "#f0f921"
            ]
           ],
           "sequentialminus": [
            [
             0,
             "#0d0887"
            ],
            [
             0.1111111111111111,
             "#46039f"
            ],
            [
             0.2222222222222222,
             "#7201a8"
            ],
            [
             0.3333333333333333,
             "#9c179e"
            ],
            [
             0.4444444444444444,
             "#bd3786"
            ],
            [
             0.5555555555555556,
             "#d8576b"
            ],
            [
             0.6666666666666666,
             "#ed7953"
            ],
            [
             0.7777777777777778,
             "#fb9f3a"
            ],
            [
             0.8888888888888888,
             "#fdca26"
            ],
            [
             1,
             "#f0f921"
            ]
           ]
          },
          "colorway": [
           "#636efa",
           "#EF553B",
           "#00cc96",
           "#ab63fa",
           "#FFA15A",
           "#19d3f3",
           "#FF6692",
           "#B6E880",
           "#FF97FF",
           "#FECB52"
          ],
          "font": {
           "color": "#2a3f5f"
          },
          "geo": {
           "bgcolor": "white",
           "lakecolor": "white",
           "landcolor": "#E5ECF6",
           "showlakes": true,
           "showland": true,
           "subunitcolor": "white"
          },
          "hoverlabel": {
           "align": "left"
          },
          "hovermode": "closest",
          "mapbox": {
           "style": "light"
          },
          "paper_bgcolor": "white",
          "plot_bgcolor": "#E5ECF6",
          "polar": {
           "angularaxis": {
            "gridcolor": "white",
            "linecolor": "white",
            "ticks": ""
           },
           "bgcolor": "#E5ECF6",
           "radialaxis": {
            "gridcolor": "white",
            "linecolor": "white",
            "ticks": ""
           }
          },
          "scene": {
           "xaxis": {
            "backgroundcolor": "#E5ECF6",
            "gridcolor": "white",
            "gridwidth": 2,
            "linecolor": "white",
            "showbackground": true,
            "ticks": "",
            "zerolinecolor": "white"
           },
           "yaxis": {
            "backgroundcolor": "#E5ECF6",
            "gridcolor": "white",
            "gridwidth": 2,
            "linecolor": "white",
            "showbackground": true,
            "ticks": "",
            "zerolinecolor": "white"
           },
           "zaxis": {
            "backgroundcolor": "#E5ECF6",
            "gridcolor": "white",
            "gridwidth": 2,
            "linecolor": "white",
            "showbackground": true,
            "ticks": "",
            "zerolinecolor": "white"
           }
          },
          "shapedefaults": {
           "line": {
            "color": "#2a3f5f"
           }
          },
          "ternary": {
           "aaxis": {
            "gridcolor": "white",
            "linecolor": "white",
            "ticks": ""
           },
           "baxis": {
            "gridcolor": "white",
            "linecolor": "white",
            "ticks": ""
           },
           "bgcolor": "#E5ECF6",
           "caxis": {
            "gridcolor": "white",
            "linecolor": "white",
            "ticks": ""
           }
          },
          "title": {
           "x": 0.05
          },
          "xaxis": {
           "automargin": true,
           "gridcolor": "white",
           "linecolor": "white",
           "ticks": "",
           "title": {
            "standoff": 15
           },
           "zerolinecolor": "white",
           "zerolinewidth": 2
          },
          "yaxis": {
           "automargin": true,
           "gridcolor": "white",
           "linecolor": "white",
           "ticks": "",
           "title": {
            "standoff": 15
           },
           "zerolinecolor": "white",
           "zerolinewidth": 2
          }
         }
        },
        "title": {
         "font": {
          "family": "Oswald"
         },
         "text": "Análisis de Actos y Ganancias por Categoría y Tratamiento en 2024",
         "x": 0.5
        }
       }
      }
     },
     "metadata": {},
     "output_type": "display_data"
    }
   ],
   "source": [
    "category_info_data = tabla_24_completa.groupby(['category', 'info']).agg({'total': 'sum', 'actos': 'sum'}).reset_index()\n",
    "fig_acts_treemap = px.treemap(category_info_data,\n",
    "                              path=[px.Constant(\"Categorías\"), 'category', 'info'],\n",
    "                              values='actos',\n",
    "                              color='category', \n",
    "                              color_discrete_map=color_map, \n",
    "                              title='Número de Actos por Categoría y Tratamiento 2024', \n",
    "                              labels={'parent': 'Categoría', 'labels': 'Tratamiento', 'value': 'Número de Actos'}) \n",
    "\n",
    "fig_acts_treemap.update_layout(\n",
    "    font_family=\"Oswald\",\n",
    "    title_font_family=\"Oswald\",\n",
    "    plot_bgcolor='black', \n",
    "    paper_bgcolor='white',\n",
    "    margin=dict(t=40, l=20, r=20, b=20) \n",
    ")\n",
    "\n",
    "fig_acts_treemap.update_traces(marker_line_color='black', marker_line_width=1, textfont_color='black')\n",
    "\n",
    "if fig_acts_treemap.data and len(fig_acts_treemap.data[0].marker.colors) > 0:\n",
    "    current_colors = list(fig_acts_treemap.data[0].marker.colors)\n",
    "    current_colors[0] = 'white'\n",
    "    fig_acts_treemap.data[0].marker.colors = current_colors\n",
    "\n",
    "#fig_acts_treemap.show()\n",
    "\n",
    "fig_revenue_treemap = px.treemap(category_info_data,\n",
    "                                 path=[px.Constant(\"Categorias\"), 'category', 'info'], \n",
    "                                 values='total',\n",
    "                                 color='category',\n",
    "                                 color_discrete_map=color_map, \n",
    "                                 title='Ganancia Total por Categoría y Tratamiento (2024)', \n",
    "                                 labels={'parent': 'Categoría', 'labels': 'Tratamiento', 'value': 'Ganancia Total (€)'}) \n",
    "\n",
    "fig_revenue_treemap.update_layout(\n",
    "    font_family=\"Oswald\",\n",
    "    title_font_family=\"Oswald\",\n",
    "    plot_bgcolor='white',\n",
    "    paper_bgcolor='white',\n",
    "    margin=dict(t=40, l=20, r=20, b=20)  \n",
    ")\n",
    "\n",
    "fig_revenue_treemap.update_traces(marker_line_color='black', marker_line_width=1, textfont_color='black')\n",
    "\n",
    "if fig_revenue_treemap.data and len(fig_revenue_treemap.data[0].marker.colors) > 0:\n",
    "    current_colors = list(fig_revenue_treemap.data[0].marker.colors)\n",
    "    current_colors[0] = 'white'\n",
    "    fig_revenue_treemap.data[0].marker.colors = current_colors\n",
    "    \n",
    "#fig_revenue_treemap.show()\n",
    "\n",
    "fig_subplots = make_subplots(rows=1, cols=2,\n",
    "                             subplot_titles=(\"Número de Actos por Categoría y Tratamiento 2024\",\n",
    "                                             \"Ganancia Total por Categoría y Tratamiento 2024\"),\n",
    "                             specs=[[{'type': 'domain'}, {'type': 'domain'}]])\n",
    "\n",
    "fig_subplots.add_trace(fig_acts_treemap.data[0], row=1, col=1)\n",
    "fig_subplots.add_trace(fig_revenue_treemap.data[0], row=1, col=2)\n",
    "\n",
    "fig_subplots.update_layout(\n",
    "    title_text=\"Análisis de Actos y Ganancias por Categoría y Tratamiento en 2024\",\n",
    "    title_x=0.5,\n",
    "    font_family=\"Oswald\",\n",
    "    title_font_family=\"Oswald\",\n",
    "    height=800\n",
    ")\n",
    "\n",
    "fig_subplots.show()\n"
   ]
  },
  {
   "cell_type": "code",
   "execution_count": 134,
   "id": "b4cdf315",
   "metadata": {},
   "outputs": [
    {
     "data": {
      "application/vnd.plotly.v1+json": {
       "config": {
        "plotlyServerURL": "https://plot.ly"
       },
       "data": [
        {
         "branchvalues": "total",
         "customdata": [
          [
           "(?)"
          ],
          [
           "BLANQUEAMIENTO"
          ],
          [
           "BLANQUEAMIENTO"
          ],
          [
           "CIRUGIA MAXILOFACIAL"
          ],
          [
           "CIRUGIA MAXILOFACIAL"
          ],
          [
           "CIRUGIA PERIODONTAL"
          ],
          [
           "CIRUGIA PERIODONTAL"
          ],
          [
           "CORONA"
          ],
          [
           "CORONA"
          ],
          [
           "CORONA"
          ],
          [
           "CORONA"
          ],
          [
           "CORONA"
          ],
          [
           "CORONA"
          ],
          [
           "CORONA"
          ],
          [
           "CORONA"
          ],
          [
           "CORONA"
          ],
          [
           "DIAGNOSTICOS"
          ],
          [
           "DIAGNOSTICOS"
          ],
          [
           "DIAGNOSTICOS"
          ],
          [
           "ENDODONCIAS"
          ],
          [
           "ENDODONCIAS"
          ],
          [
           "ENDODONCIAS"
          ],
          [
           "ENDODONCIAS"
          ],
          [
           "ENDODONCIAS"
          ],
          [
           "ENDODONCIAS"
          ],
          [
           "ENDODONCIAS"
          ],
          [
           "EXTRACCION"
          ],
          [
           "EXTRACCION"
          ],
          [
           "EXTRACCION"
          ],
          [
           "EXTRACCION"
          ],
          [
           "EXTRACCION"
          ],
          [
           "EXTRACCION"
          ],
          [
           "EXTRACCION"
          ],
          [
           "EXTRACCION"
          ],
          [
           "EXTRACCION"
          ],
          [
           "FRENECTOMIA"
          ],
          [
           "FRENECTOMIA"
          ],
          [
           "IMPLANTES"
          ],
          [
           "IMPLANTES"
          ],
          [
           "IMPLANTES"
          ],
          [
           "IMPLANTES"
          ],
          [
           "OBTURACION"
          ],
          [
           "OBTURACION"
          ],
          [
           "OBTURACION"
          ],
          [
           "OBTURACION"
          ],
          [
           "OBTURACION"
          ],
          [
           "ORTODONCIAS"
          ],
          [
           "ORTODONCIAS"
          ],
          [
           "ORTODONCIAS"
          ],
          [
           "ORTODONCIAS"
          ],
          [
           "ORTODONCIAS"
          ],
          [
           "ORTODONCIAS"
          ],
          [
           "ORTODONCIAS"
          ],
          [
           "ORTODONCIAS"
          ],
          [
           "PROFILAXIS"
          ],
          [
           "PROFILAXIS"
          ],
          [
           "PROFILAXIS"
          ],
          [
           "PROFILAXIS"
          ],
          [
           "PROTESIS REMOVIBLE"
          ],
          [
           "PROTESIS REMOVIBLE"
          ],
          [
           "PROTESIS REMOVIBLE"
          ],
          [
           "PROTESIS REMOVIBLE"
          ],
          [
           "PROTESIS REMOVIBLE"
          ],
          [
           "PROTESIS REMOVIBLE"
          ],
          [
           "PROTESIS REMOVIBLE"
          ],
          [
           "PROTESIS REMOVIBLE"
          ],
          [
           "PROTESIS REMOVIBLE"
          ],
          [
           "PROTESIS REMOVIBLE"
          ],
          [
           "PROTESIS REMOVIBLE"
          ],
          [
           "PUENTES"
          ],
          [
           "PUENTES"
          ]
         ],
         "domain": {
          "x": [
           0,
           0.45
          ],
          "y": [
           0,
           1
          ]
         },
         "hovertemplate": "Tratamiento=%{label}<br>actos=%{value}<br>Categoría=%{parent}<br>id=%{id}<br>category=%{customdata[0]}<extra></extra>",
         "ids": [
          "Categorías",
          "Categorías/BLANQUEAMIENTO",
          "Categorías/BLANQUEAMIENTO/BLANQUEAMIENTO PHILIPS ZOOM",
          "Categorías/CIRUGIA MAXILOFACIAL/INJERTO OSEO",
          "Categorías/CIRUGIA MAXILOFACIAL",
          "Categorías/CIRUGIA PERIODONTAL",
          "Categorías/CIRUGIA PERIODONTAL/CURETAJE GINGIVAL POR CUADRANT",
          "Categorías/CORONA",
          "Categorías/CORONA/RECEMENTADO DE CORONA",
          "Categorías/CORONA/CORONA IMPLANTE",
          "Categorías/CORONA/PROTESIS COMPLETA CERAMICA",
          "Categorías/CORONA/CORONA TOTAL METAL NOBLE",
          "Categorías/CORONA/CORONA METAL CERAMICA",
          "Categorías/CORONA/CORONA IMPLANTE ZIRCONIO",
          "Categorías/CORONA/CORONA RESINA(LABORATORIO)",
          "Categorías/CORONA/PROTESIS HIBRIDA RESINA",
          "Categorías/DIAGNOSTICOS/TAC",
          "Categorías/DIAGNOSTICOS",
          "Categorías/DIAGNOSTICOS/ORTOPANTOMOGRAFIA",
          "Categorías/ENDODONCIAS/ENDODONCIA DE 3 CANALES",
          "Categorías/ENDODONCIAS/ENDODONCIA DE 3 MOLAR",
          "Categorías/ENDODONCIAS/ENDODONCIA DE 1 CANAL",
          "Categorías/ENDODONCIAS/Copia de ENDODONCIA ANTERIOR",
          "Categorías/ENDODONCIAS",
          "Categorías/ENDODONCIAS/ENDODONCIA DE 2 CANALES",
          "Categorías/ENDODONCIAS/ENDODONCIA DE 4 0 MAS CANALES",
          "Categorías/EXTRACCION",
          "Categorías/EXTRACCION/EXTRACCION QUIRURGICA TERCER MOLAR INCLUIDO",
          "Categorías/EXTRACCION/EXTRACCION SIMPLE",
          "Categorías/EXTRACCION/Copia de EXTRACCION SIMPLE",
          "Categorías/EXTRACCION/EXTR. TEMPORAL",
          "Categorías/EXTRACCION/EXTRACCION COMPLEJA",
          "Categorías/EXTRACCION/EXTRACCION DE IMPLANTE",
          "Categorías/EXTRACCION/EXTRACCION QUIRURGICA",
          "Categorías/EXTRACCION/EXTRACCION RESTO RADICULAR",
          "Categorías/FRENECTOMIA",
          "Categorías/FRENECTOMIA/FRENECTOMIA INFANTIL",
          "Categorías/IMPLANTES",
          "Categorías/IMPLANTES/ADITAMENTOS PROTESICOS",
          "Categorías/IMPLANTES/SUPRA O MESOESTRUCTURA",
          "Categorías/IMPLANTES/IMPLANTE",
          "Categorías/OBTURACION/RECONSTRUCCION COMPOSITE",
          "Categorías/OBTURACION/RECONSTRUCCION",
          "Categorías/OBTURACION/OBTURACION SIMPLE",
          "Categorías/OBTURACION/OBTURACION",
          "Categorías/OBTURACION",
          "Categorías/ORTODONCIAS",
          "Categorías/ORTODONCIAS/BRACKETS ESTETICOS",
          "Categorías/ORTODONCIAS/1 visitas ortodoncia",
          "Categorías/ORTODONCIAS/BRACKETS METALICOS",
          "Categorías/ORTODONCIAS/INVISALIGN",
          "Categorías/ORTODONCIAS/RELAIN. DENT. PARCIAL SUPERIOR",
          "Categorías/ORTODONCIAS/RETENEDOR LINGUAL INF",
          "Categorías/ORTODONCIAS/RETENEDOR LINGUAL SUP",
          "Categorías/PROFILAXIS",
          "Categorías/PROFILAXIS/Copia de LIMPIEZA",
          "Categorías/PROFILAXIS/LI2",
          "Categorías/PROFILAXIS/LI1",
          "Categorías/PROTESIS REMOVIBLE/COMPOSTURA DIENTE",
          "Categorías/PROTESIS REMOVIBLE/Copia de PARCIAL INFERIOR",
          "Categorías/PROTESIS REMOVIBLE/REPARACION BASE DENT. COMPLETA",
          "Categorías/PROTESIS REMOVIBLE/PROTESIS MAXILOFACIAL",
          "Categorías/PROTESIS REMOVIBLE/PARCIAL SUPERIOR",
          "Categorías/PROTESIS REMOVIBLE/FERULA DESCARGA",
          "Categorías/PROTESIS REMOVIBLE/DENT. COMPLETA SUPERIOR",
          "Categorías/PROTESIS REMOVIBLE/DENT. COMPLETA INFERIOR",
          "Categorías/PROTESIS REMOVIBLE",
          "Categorías/PROTESIS REMOVIBLE/AJUST. DENT. COMPLETA SUPERIOR",
          "Categorías/PROTESIS REMOVIBLE/Copia de PARCIAL SUPERIOR",
          "Categorías/PUENTES/RECEMENTADO DE PUENTE",
          "Categorías/PUENTES"
         ],
         "labels": [
          "Categorías",
          "BLANQUEAMIENTO",
          "BLANQUEAMIENTO PHILIPS ZOOM",
          "INJERTO OSEO",
          "CIRUGIA MAXILOFACIAL",
          "CIRUGIA PERIODONTAL",
          "CURETAJE GINGIVAL POR CUADRANT",
          "CORONA",
          "RECEMENTADO DE CORONA",
          "CORONA IMPLANTE",
          "PROTESIS COMPLETA CERAMICA",
          "CORONA TOTAL METAL NOBLE",
          "CORONA METAL CERAMICA",
          "CORONA IMPLANTE ZIRCONIO",
          "CORONA RESINA(LABORATORIO)",
          "PROTESIS HIBRIDA RESINA",
          "TAC",
          "DIAGNOSTICOS",
          "ORTOPANTOMOGRAFIA",
          "ENDODONCIA DE 3 CANALES",
          "ENDODONCIA DE 3 MOLAR",
          "ENDODONCIA DE 1 CANAL",
          "Copia de ENDODONCIA ANTERIOR",
          "ENDODONCIAS",
          "ENDODONCIA DE 2 CANALES",
          "ENDODONCIA DE 4 0 MAS CANALES",
          "EXTRACCION",
          "EXTRACCION QUIRURGICA TERCER MOLAR INCLUIDO",
          "EXTRACCION SIMPLE",
          "Copia de EXTRACCION SIMPLE",
          "EXTR. TEMPORAL",
          "EXTRACCION COMPLEJA",
          "EXTRACCION DE IMPLANTE",
          "EXTRACCION QUIRURGICA",
          "EXTRACCION RESTO RADICULAR",
          "FRENECTOMIA",
          "FRENECTOMIA INFANTIL",
          "IMPLANTES",
          "ADITAMENTOS PROTESICOS",
          "SUPRA O MESOESTRUCTURA",
          "IMPLANTE",
          "RECONSTRUCCION COMPOSITE",
          "RECONSTRUCCION",
          "OBTURACION SIMPLE",
          "OBTURACION",
          "OBTURACION",
          "ORTODONCIAS",
          "BRACKETS ESTETICOS",
          "1 visitas ortodoncia",
          "BRACKETS METALICOS",
          "INVISALIGN",
          "RELAIN. DENT. PARCIAL SUPERIOR",
          "RETENEDOR LINGUAL INF",
          "RETENEDOR LINGUAL SUP",
          "PROFILAXIS",
          "Copia de LIMPIEZA",
          "LI2",
          "LI1",
          "COMPOSTURA DIENTE",
          "Copia de PARCIAL INFERIOR",
          "REPARACION BASE DENT. COMPLETA",
          "PROTESIS MAXILOFACIAL",
          "PARCIAL SUPERIOR",
          "FERULA DESCARGA",
          "DENT. COMPLETA SUPERIOR",
          "DENT. COMPLETA INFERIOR",
          "PROTESIS REMOVIBLE",
          "AJUST. DENT. COMPLETA SUPERIOR",
          "Copia de PARCIAL SUPERIOR",
          "RECEMENTADO DE PUENTE",
          "PUENTES"
         ],
         "marker": {
          "colors": [
           "white",
           "#87CEEB",
           "#87CEEB",
           "#FF8C00",
           "#FF8C00",
           "#06DD51",
           "#06DD51",
           "#FFD93D",
           "#FFD93D",
           "#FFD93D",
           "#FFD93D",
           "#FFD93D",
           "#FFD93D",
           "#FFD93D",
           "#FFD93D",
           "#FFD93D",
           "#FF6B6B",
           "#FF6B6B",
           "#FF6B6B",
           "#FFCD00",
           "#FFCD00",
           "#FFCD00",
           "#FFCD00",
           "#FFCD00",
           "#FFCD00",
           "#FFCD00",
           "#FF4D4D",
           "#FF4D4D",
           "#FF4D4D",
           "#FF4D4D",
           "#FF4D4D",
           "#FF4D4D",
           "#FF4D4D",
           "#FF4D4D",
           "#FF4D4D",
           "#40E0D0",
           "#40E0D0",
           "#FF7F50",
           "#FF7F50",
           "#FF7F50",
           "#FF7F50",
           "#FF9F43",
           "#FF9F43",
           "#FF9F43",
           "#FF9F43",
           "#FF9F43",
           "#00BFFF",
           "#00BFFF",
           "#00BFFF",
           "#00BFFF",
           "#00BFFF",
           "#00BFFF",
           "#00BFFF",
           "#00BFFF",
           "#6BB97A",
           "#6BB97A",
           "#6BB97A",
           "#6BB97A",
           "#FF6F59",
           "#FF6F59",
           "#FF6F59",
           "#FF6F59",
           "#FF6F59",
           "#FF6F59",
           "#FF6F59",
           "#FF6F59",
           "#FF6F59",
           "#FF6F59",
           "#FF6F59",
           "#8A2BE2",
           "#8A2BE2"
          ],
          "line": {
           "color": "black",
           "width": 1
          }
         },
         "name": "",
         "parents": [
          "",
          "Categorías",
          "Categorías/BLANQUEAMIENTO",
          "Categorías/CIRUGIA MAXILOFACIAL",
          "Categorías",
          "Categorías",
          "Categorías/CIRUGIA PERIODONTAL",
          "Categorías",
          "Categorías/CORONA",
          "Categorías/CORONA",
          "Categorías/CORONA",
          "Categorías/CORONA",
          "Categorías/CORONA",
          "Categorías/CORONA",
          "Categorías/CORONA",
          "Categorías/CORONA",
          "Categorías/DIAGNOSTICOS",
          "Categorías",
          "Categorías/DIAGNOSTICOS",
          "Categorías/ENDODONCIAS",
          "Categorías/ENDODONCIAS",
          "Categorías/ENDODONCIAS",
          "Categorías/ENDODONCIAS",
          "Categorías",
          "Categorías/ENDODONCIAS",
          "Categorías/ENDODONCIAS",
          "Categorías",
          "Categorías/EXTRACCION",
          "Categorías/EXTRACCION",
          "Categorías/EXTRACCION",
          "Categorías/EXTRACCION",
          "Categorías/EXTRACCION",
          "Categorías/EXTRACCION",
          "Categorías/EXTRACCION",
          "Categorías/EXTRACCION",
          "Categorías",
          "Categorías/FRENECTOMIA",
          "Categorías",
          "Categorías/IMPLANTES",
          "Categorías/IMPLANTES",
          "Categorías/IMPLANTES",
          "Categorías/OBTURACION",
          "Categorías/OBTURACION",
          "Categorías/OBTURACION",
          "Categorías/OBTURACION",
          "Categorías",
          "Categorías",
          "Categorías/ORTODONCIAS",
          "Categorías/ORTODONCIAS",
          "Categorías/ORTODONCIAS",
          "Categorías/ORTODONCIAS",
          "Categorías/ORTODONCIAS",
          "Categorías/ORTODONCIAS",
          "Categorías/ORTODONCIAS",
          "Categorías",
          "Categorías/PROFILAXIS",
          "Categorías/PROFILAXIS",
          "Categorías/PROFILAXIS",
          "Categorías/PROTESIS REMOVIBLE",
          "Categorías/PROTESIS REMOVIBLE",
          "Categorías/PROTESIS REMOVIBLE",
          "Categorías/PROTESIS REMOVIBLE",
          "Categorías/PROTESIS REMOVIBLE",
          "Categorías/PROTESIS REMOVIBLE",
          "Categorías/PROTESIS REMOVIBLE",
          "Categorías/PROTESIS REMOVIBLE",
          "Categorías",
          "Categorías/PROTESIS REMOVIBLE",
          "Categorías/PROTESIS REMOVIBLE",
          "Categorías/PUENTES",
          "Categorías"
         ],
         "textfont": {
          "color": "black"
         },
         "type": "treemap",
         "values": {
          "bdata": "AAAAAACwkEAAAAAAAAAgQAAAAAAAACBAAAAAAAAAAEAAAAAAAAAAQAAAAAAAABBAAAAAAAAAEEAAAAAAAGBgQAAAAAAAACJAAAAAAAAATEAAAAAAAAAAQAAAAAAAAPA/AAAAAACAQUAAAAAAAAAiQAAAAAAAADJAAAAAAAAA8D8AAAAAAAA8QAAAAAAAAFJAAAAAAAAARkAAAAAAAAAUQAAAAAAAAPA/AAAAAAAAAEAAAAAAAAAwQAAAAAAAAD1AAAAAAAAAEEAAAAAAAADwPwAAAAAAAFdAAAAAAAAAGEAAAAAAAAAIQAAAAAAAAEtAAAAAAAAAEEAAAAAAAAAIQAAAAAAAABBAAAAAAAAAEEAAAAAAAAAsQAAAAAAAAPA/AAAAAAAA8D8AAAAAAIBNQAAAAAAAABBAAAAAAAAAEEAAAAAAAIBJQAAAAAAAAEBAAAAAAAAANEAAAAAAAAA+QAAAAAAAoGRAAAAAAADgbkAAAAAAAIBEQAAAAAAAAAhAAAAAAAAAGEAAAAAAAAAzQAAAAAAAABhAAAAAAAAA8D8AAAAAAAAIQAAAAAAAAAhAAAAAAABAdEAAAAAAAEBwQAAAAAAAAABAAAAAAAAAT0AAAAAAAAAgQAAAAAAAAPA/AAAAAAAA8D8AAAAAAAAAQAAAAAAAAABAAAAAAAAAJEAAAAAAAADwPwAAAAAAAPA/AAAAAACAQEAAAAAAAADwPwAAAAAAABhAAAAAAAAAOUAAAAAAAAA5QA==",
          "dtype": "f8"
         }
        },
        {
         "branchvalues": "total",
         "customdata": [
          [
           "(?)"
          ],
          [
           "BLANQUEAMIENTO"
          ],
          [
           "BLANQUEAMIENTO"
          ],
          [
           "CIRUGIA MAXILOFACIAL"
          ],
          [
           "CIRUGIA MAXILOFACIAL"
          ],
          [
           "CIRUGIA PERIODONTAL"
          ],
          [
           "CIRUGIA PERIODONTAL"
          ],
          [
           "CORONA"
          ],
          [
           "CORONA"
          ],
          [
           "CORONA"
          ],
          [
           "CORONA"
          ],
          [
           "CORONA"
          ],
          [
           "CORONA"
          ],
          [
           "CORONA"
          ],
          [
           "CORONA"
          ],
          [
           "CORONA"
          ],
          [
           "DIAGNOSTICOS"
          ],
          [
           "DIAGNOSTICOS"
          ],
          [
           "DIAGNOSTICOS"
          ],
          [
           "ENDODONCIAS"
          ],
          [
           "ENDODONCIAS"
          ],
          [
           "ENDODONCIAS"
          ],
          [
           "ENDODONCIAS"
          ],
          [
           "ENDODONCIAS"
          ],
          [
           "ENDODONCIAS"
          ],
          [
           "ENDODONCIAS"
          ],
          [
           "EXTRACCION"
          ],
          [
           "EXTRACCION"
          ],
          [
           "EXTRACCION"
          ],
          [
           "EXTRACCION"
          ],
          [
           "EXTRACCION"
          ],
          [
           "EXTRACCION"
          ],
          [
           "EXTRACCION"
          ],
          [
           "EXTRACCION"
          ],
          [
           "EXTRACCION"
          ],
          [
           "FRENECTOMIA"
          ],
          [
           "FRENECTOMIA"
          ],
          [
           "IMPLANTES"
          ],
          [
           "IMPLANTES"
          ],
          [
           "IMPLANTES"
          ],
          [
           "IMPLANTES"
          ],
          [
           "OBTURACION"
          ],
          [
           "OBTURACION"
          ],
          [
           "OBTURACION"
          ],
          [
           "OBTURACION"
          ],
          [
           "OBTURACION"
          ],
          [
           "ORTODONCIAS"
          ],
          [
           "ORTODONCIAS"
          ],
          [
           "ORTODONCIAS"
          ],
          [
           "ORTODONCIAS"
          ],
          [
           "ORTODONCIAS"
          ],
          [
           "ORTODONCIAS"
          ],
          [
           "ORTODONCIAS"
          ],
          [
           "ORTODONCIAS"
          ],
          [
           "PROFILAXIS"
          ],
          [
           "PROFILAXIS"
          ],
          [
           "PROFILAXIS"
          ],
          [
           "PROFILAXIS"
          ],
          [
           "PROTESIS REMOVIBLE"
          ],
          [
           "PROTESIS REMOVIBLE"
          ],
          [
           "PROTESIS REMOVIBLE"
          ],
          [
           "PROTESIS REMOVIBLE"
          ],
          [
           "PROTESIS REMOVIBLE"
          ],
          [
           "PROTESIS REMOVIBLE"
          ],
          [
           "PROTESIS REMOVIBLE"
          ],
          [
           "PROTESIS REMOVIBLE"
          ],
          [
           "PROTESIS REMOVIBLE"
          ],
          [
           "PROTESIS REMOVIBLE"
          ],
          [
           "PROTESIS REMOVIBLE"
          ],
          [
           "PUENTES"
          ],
          [
           "PUENTES"
          ]
         ],
         "domain": {
          "x": [
           0.55,
           1
          ],
          "y": [
           0,
           1
          ]
         },
         "hovertemplate": "Tratamiento=%{label}<br>total=%{value}<br>Categoría=%{parent}<br>id=%{id}<br>category=%{customdata[0]}<extra></extra>",
         "ids": [
          "Categorias",
          "Categorias/BLANQUEAMIENTO",
          "Categorias/BLANQUEAMIENTO/BLANQUEAMIENTO PHILIPS ZOOM",
          "Categorias/CIRUGIA MAXILOFACIAL/INJERTO OSEO",
          "Categorias/CIRUGIA MAXILOFACIAL",
          "Categorias/CIRUGIA PERIODONTAL",
          "Categorias/CIRUGIA PERIODONTAL/CURETAJE GINGIVAL POR CUADRANT",
          "Categorias/CORONA",
          "Categorias/CORONA/RECEMENTADO DE CORONA",
          "Categorias/CORONA/CORONA IMPLANTE",
          "Categorias/CORONA/PROTESIS COMPLETA CERAMICA",
          "Categorias/CORONA/CORONA TOTAL METAL NOBLE",
          "Categorias/CORONA/CORONA METAL CERAMICA",
          "Categorias/CORONA/CORONA IMPLANTE ZIRCONIO",
          "Categorias/CORONA/CORONA RESINA(LABORATORIO)",
          "Categorias/CORONA/PROTESIS HIBRIDA RESINA",
          "Categorias/DIAGNOSTICOS/TAC",
          "Categorias/DIAGNOSTICOS",
          "Categorias/DIAGNOSTICOS/ORTOPANTOMOGRAFIA",
          "Categorias/ENDODONCIAS/ENDODONCIA DE 3 CANALES",
          "Categorias/ENDODONCIAS/ENDODONCIA DE 3 MOLAR",
          "Categorias/ENDODONCIAS/ENDODONCIA DE 1 CANAL",
          "Categorias/ENDODONCIAS/Copia de ENDODONCIA ANTERIOR",
          "Categorias/ENDODONCIAS",
          "Categorias/ENDODONCIAS/ENDODONCIA DE 2 CANALES",
          "Categorias/ENDODONCIAS/ENDODONCIA DE 4 0 MAS CANALES",
          "Categorias/EXTRACCION",
          "Categorias/EXTRACCION/EXTRACCION QUIRURGICA TERCER MOLAR INCLUIDO",
          "Categorias/EXTRACCION/EXTRACCION SIMPLE",
          "Categorias/EXTRACCION/Copia de EXTRACCION SIMPLE",
          "Categorias/EXTRACCION/EXTR. TEMPORAL",
          "Categorias/EXTRACCION/EXTRACCION COMPLEJA",
          "Categorias/EXTRACCION/EXTRACCION DE IMPLANTE",
          "Categorias/EXTRACCION/EXTRACCION QUIRURGICA",
          "Categorias/EXTRACCION/EXTRACCION RESTO RADICULAR",
          "Categorias/FRENECTOMIA",
          "Categorias/FRENECTOMIA/FRENECTOMIA INFANTIL",
          "Categorias/IMPLANTES",
          "Categorias/IMPLANTES/ADITAMENTOS PROTESICOS",
          "Categorias/IMPLANTES/SUPRA O MESOESTRUCTURA",
          "Categorias/IMPLANTES/IMPLANTE",
          "Categorias/OBTURACION/RECONSTRUCCION COMPOSITE",
          "Categorias/OBTURACION/RECONSTRUCCION",
          "Categorias/OBTURACION/OBTURACION SIMPLE",
          "Categorias/OBTURACION/OBTURACION",
          "Categorias/OBTURACION",
          "Categorias/ORTODONCIAS",
          "Categorias/ORTODONCIAS/BRACKETS ESTETICOS",
          "Categorias/ORTODONCIAS/1 visitas ortodoncia",
          "Categorias/ORTODONCIAS/BRACKETS METALICOS",
          "Categorias/ORTODONCIAS/INVISALIGN",
          "Categorias/ORTODONCIAS/RELAIN. DENT. PARCIAL SUPERIOR",
          "Categorias/ORTODONCIAS/RETENEDOR LINGUAL INF",
          "Categorias/ORTODONCIAS/RETENEDOR LINGUAL SUP",
          "Categorias/PROFILAXIS",
          "Categorias/PROFILAXIS/Copia de LIMPIEZA",
          "Categorias/PROFILAXIS/LI2",
          "Categorias/PROFILAXIS/LI1",
          "Categorias/PROTESIS REMOVIBLE/COMPOSTURA DIENTE",
          "Categorias/PROTESIS REMOVIBLE/Copia de PARCIAL INFERIOR",
          "Categorias/PROTESIS REMOVIBLE/REPARACION BASE DENT. COMPLETA",
          "Categorias/PROTESIS REMOVIBLE/PROTESIS MAXILOFACIAL",
          "Categorias/PROTESIS REMOVIBLE/PARCIAL SUPERIOR",
          "Categorias/PROTESIS REMOVIBLE/FERULA DESCARGA",
          "Categorias/PROTESIS REMOVIBLE/DENT. COMPLETA SUPERIOR",
          "Categorias/PROTESIS REMOVIBLE/DENT. COMPLETA INFERIOR",
          "Categorias/PROTESIS REMOVIBLE",
          "Categorias/PROTESIS REMOVIBLE/AJUST. DENT. COMPLETA SUPERIOR",
          "Categorias/PROTESIS REMOVIBLE/Copia de PARCIAL SUPERIOR",
          "Categorias/PUENTES/RECEMENTADO DE PUENTE",
          "Categorias/PUENTES"
         ],
         "labels": [
          "Categorias",
          "BLANQUEAMIENTO",
          "BLANQUEAMIENTO PHILIPS ZOOM",
          "INJERTO OSEO",
          "CIRUGIA MAXILOFACIAL",
          "CIRUGIA PERIODONTAL",
          "CURETAJE GINGIVAL POR CUADRANT",
          "CORONA",
          "RECEMENTADO DE CORONA",
          "CORONA IMPLANTE",
          "PROTESIS COMPLETA CERAMICA",
          "CORONA TOTAL METAL NOBLE",
          "CORONA METAL CERAMICA",
          "CORONA IMPLANTE ZIRCONIO",
          "CORONA RESINA(LABORATORIO)",
          "PROTESIS HIBRIDA RESINA",
          "TAC",
          "DIAGNOSTICOS",
          "ORTOPANTOMOGRAFIA",
          "ENDODONCIA DE 3 CANALES",
          "ENDODONCIA DE 3 MOLAR",
          "ENDODONCIA DE 1 CANAL",
          "Copia de ENDODONCIA ANTERIOR",
          "ENDODONCIAS",
          "ENDODONCIA DE 2 CANALES",
          "ENDODONCIA DE 4 0 MAS CANALES",
          "EXTRACCION",
          "EXTRACCION QUIRURGICA TERCER MOLAR INCLUIDO",
          "EXTRACCION SIMPLE",
          "Copia de EXTRACCION SIMPLE",
          "EXTR. TEMPORAL",
          "EXTRACCION COMPLEJA",
          "EXTRACCION DE IMPLANTE",
          "EXTRACCION QUIRURGICA",
          "EXTRACCION RESTO RADICULAR",
          "FRENECTOMIA",
          "FRENECTOMIA INFANTIL",
          "IMPLANTES",
          "ADITAMENTOS PROTESICOS",
          "SUPRA O MESOESTRUCTURA",
          "IMPLANTE",
          "RECONSTRUCCION COMPOSITE",
          "RECONSTRUCCION",
          "OBTURACION SIMPLE",
          "OBTURACION",
          "OBTURACION",
          "ORTODONCIAS",
          "BRACKETS ESTETICOS",
          "1 visitas ortodoncia",
          "BRACKETS METALICOS",
          "INVISALIGN",
          "RELAIN. DENT. PARCIAL SUPERIOR",
          "RETENEDOR LINGUAL INF",
          "RETENEDOR LINGUAL SUP",
          "PROFILAXIS",
          "Copia de LIMPIEZA",
          "LI2",
          "LI1",
          "COMPOSTURA DIENTE",
          "Copia de PARCIAL INFERIOR",
          "REPARACION BASE DENT. COMPLETA",
          "PROTESIS MAXILOFACIAL",
          "PARCIAL SUPERIOR",
          "FERULA DESCARGA",
          "DENT. COMPLETA SUPERIOR",
          "DENT. COMPLETA INFERIOR",
          "PROTESIS REMOVIBLE",
          "AJUST. DENT. COMPLETA SUPERIOR",
          "Copia de PARCIAL SUPERIOR",
          "RECEMENTADO DE PUENTE",
          "PUENTES"
         ],
         "marker": {
          "colors": [
           "white",
           "#87CEEB",
           "#87CEEB",
           "#FF8C00",
           "#FF8C00",
           "#06DD51",
           "#06DD51",
           "#FFD93D",
           "#FFD93D",
           "#FFD93D",
           "#FFD93D",
           "#FFD93D",
           "#FFD93D",
           "#FFD93D",
           "#FFD93D",
           "#FFD93D",
           "#FF6B6B",
           "#FF6B6B",
           "#FF6B6B",
           "#FFCD00",
           "#FFCD00",
           "#FFCD00",
           "#FFCD00",
           "#FFCD00",
           "#FFCD00",
           "#FFCD00",
           "#FF4D4D",
           "#FF4D4D",
           "#FF4D4D",
           "#FF4D4D",
           "#FF4D4D",
           "#FF4D4D",
           "#FF4D4D",
           "#FF4D4D",
           "#FF4D4D",
           "#40E0D0",
           "#40E0D0",
           "#FF7F50",
           "#FF7F50",
           "#FF7F50",
           "#FF7F50",
           "#FF9F43",
           "#FF9F43",
           "#FF9F43",
           "#FF9F43",
           "#FF9F43",
           "#00BFFF",
           "#00BFFF",
           "#00BFFF",
           "#00BFFF",
           "#00BFFF",
           "#00BFFF",
           "#00BFFF",
           "#00BFFF",
           "#6BB97A",
           "#6BB97A",
           "#6BB97A",
           "#6BB97A",
           "#FF6F59",
           "#FF6F59",
           "#FF6F59",
           "#FF6F59",
           "#FF6F59",
           "#FF6F59",
           "#FF6F59",
           "#FF6F59",
           "#FF6F59",
           "#FF6F59",
           "#FF6F59",
           "#8A2BE2",
           "#8A2BE2"
          ],
          "line": {
           "color": "black",
           "width": 1
          }
         },
         "name": "",
         "parents": [
          "",
          "Categorias",
          "Categorias/BLANQUEAMIENTO",
          "Categorias/CIRUGIA MAXILOFACIAL",
          "Categorias",
          "Categorias",
          "Categorias/CIRUGIA PERIODONTAL",
          "Categorias",
          "Categorias/CORONA",
          "Categorias/CORONA",
          "Categorias/CORONA",
          "Categorias/CORONA",
          "Categorias/CORONA",
          "Categorias/CORONA",
          "Categorias/CORONA",
          "Categorias/CORONA",
          "Categorias/DIAGNOSTICOS",
          "Categorias",
          "Categorias/DIAGNOSTICOS",
          "Categorias/ENDODONCIAS",
          "Categorias/ENDODONCIAS",
          "Categorias/ENDODONCIAS",
          "Categorias/ENDODONCIAS",
          "Categorias",
          "Categorias/ENDODONCIAS",
          "Categorias/ENDODONCIAS",
          "Categorias",
          "Categorias/EXTRACCION",
          "Categorias/EXTRACCION",
          "Categorias/EXTRACCION",
          "Categorias/EXTRACCION",
          "Categorias/EXTRACCION",
          "Categorias/EXTRACCION",
          "Categorias/EXTRACCION",
          "Categorias/EXTRACCION",
          "Categorias",
          "Categorias/FRENECTOMIA",
          "Categorias",
          "Categorias/IMPLANTES",
          "Categorias/IMPLANTES",
          "Categorias/IMPLANTES",
          "Categorias/OBTURACION",
          "Categorias/OBTURACION",
          "Categorias/OBTURACION",
          "Categorias/OBTURACION",
          "Categorias",
          "Categorias",
          "Categorias/ORTODONCIAS",
          "Categorias/ORTODONCIAS",
          "Categorias/ORTODONCIAS",
          "Categorias/ORTODONCIAS",
          "Categorias/ORTODONCIAS",
          "Categorias/ORTODONCIAS",
          "Categorias/ORTODONCIAS",
          "Categorias",
          "Categorias/PROFILAXIS",
          "Categorias/PROFILAXIS",
          "Categorias/PROFILAXIS",
          "Categorias/PROTESIS REMOVIBLE",
          "Categorias/PROTESIS REMOVIBLE",
          "Categorias/PROTESIS REMOVIBLE",
          "Categorias/PROTESIS REMOVIBLE",
          "Categorias/PROTESIS REMOVIBLE",
          "Categorias/PROTESIS REMOVIBLE",
          "Categorias/PROTESIS REMOVIBLE",
          "Categorias/PROTESIS REMOVIBLE",
          "Categorias",
          "Categorias/PROTESIS REMOVIBLE",
          "Categorias/PROTESIS REMOVIBLE",
          "Categorias/PUENTES",
          "Categorias"
         ],
         "textfont": {
          "color": "black"
         },
         "type": "treemap",
         "values": {
          "bdata": "AAAAAFAqCUEAAAAAAAynQAAAAAAADKdAAAAAAABgiEAAAAAAAGCIQAAAAAAAAG5AAAAAAAAAbkAAAAAAwHToQAAAAAAAAHRAAAAAAMB+2kAAAAAAAFirQAAAAAAA4IpAAAAAAACYxUAAAAAAAFKsQAAAAAAAkIJAAAAAAABwp0AAAAAAAMCiQAAAAAAAxKpAAAAAAAAIkEAAAAAAAGiJQAAAAAAAgFtAAAAAAADAckAAAAAAADSiQAAAAAAA6LBAAAAAAADAgkAAAAAAAOBlQAAAAAAASL5AAAAAAADAl0AAAAAAAECKQAAAAAAAHKpAAAAAAACAUUAAAAAAAMByQAAAAAAAwGJAAAAAAAAgfEAAAAAAAOCQQAAAAAAAAD5AAAAAAAAAPkAAAAAAADXoQAAAAAAAUJFAAAAAAADAdUAAAAAAAH/nQAAAAAAARqBAAAAAAACIk0AAAAAAANScQAAAAAAAkMFAAAAAAACty0AAAAAAgFzpQAAAAAAAhMdAAAAAAAAjuEAAAAAAgIvGQAAAAACA2dRAAAAAAAAAXkAAAAAAAIB2QAAAAAAAwHVAAAAAAAD4xEAAAAAAgCzAQAAAAAAA4IVAAAAAAABsm0AAAAAAALyRQAAAAAAAwIJAAAAAAAAAVEAAAAAAACCNQAAAAAAAsIJAAAAAAACiokAAAAAAAACJQAAAAAAAQH9AAAAAAACdwkAAAAAAAABeQAAAAAAAmKJAAAAAAAAQg0AAAAAAABCDQA==",
          "dtype": "f8"
         }
        }
       ],
       "layout": {
        "annotations": [
         {
          "font": {
           "size": 16
          },
          "showarrow": false,
          "text": "Número de Actos por Categoría y Tratamiento 2023",
          "x": 0.225,
          "xanchor": "center",
          "xref": "paper",
          "y": 1,
          "yanchor": "bottom",
          "yref": "paper"
         },
         {
          "font": {
           "size": 16
          },
          "showarrow": false,
          "text": "Ganancia Total por Categoría y Tratamiento 2023",
          "x": 0.775,
          "xanchor": "center",
          "xref": "paper",
          "y": 1,
          "yanchor": "bottom",
          "yref": "paper"
         }
        ],
        "font": {
         "family": "Oswald"
        },
        "height": 600,
        "template": {
         "data": {
          "bar": [
           {
            "error_x": {
             "color": "#2a3f5f"
            },
            "error_y": {
             "color": "#2a3f5f"
            },
            "marker": {
             "line": {
              "color": "#E5ECF6",
              "width": 0.5
             },
             "pattern": {
              "fillmode": "overlay",
              "size": 10,
              "solidity": 0.2
             }
            },
            "type": "bar"
           }
          ],
          "barpolar": [
           {
            "marker": {
             "line": {
              "color": "#E5ECF6",
              "width": 0.5
             },
             "pattern": {
              "fillmode": "overlay",
              "size": 10,
              "solidity": 0.2
             }
            },
            "type": "barpolar"
           }
          ],
          "carpet": [
           {
            "aaxis": {
             "endlinecolor": "#2a3f5f",
             "gridcolor": "white",
             "linecolor": "white",
             "minorgridcolor": "white",
             "startlinecolor": "#2a3f5f"
            },
            "baxis": {
             "endlinecolor": "#2a3f5f",
             "gridcolor": "white",
             "linecolor": "white",
             "minorgridcolor": "white",
             "startlinecolor": "#2a3f5f"
            },
            "type": "carpet"
           }
          ],
          "choropleth": [
           {
            "colorbar": {
             "outlinewidth": 0,
             "ticks": ""
            },
            "type": "choropleth"
           }
          ],
          "contour": [
           {
            "colorbar": {
             "outlinewidth": 0,
             "ticks": ""
            },
            "colorscale": [
             [
              0,
              "#0d0887"
             ],
             [
              0.1111111111111111,
              "#46039f"
             ],
             [
              0.2222222222222222,
              "#7201a8"
             ],
             [
              0.3333333333333333,
              "#9c179e"
             ],
             [
              0.4444444444444444,
              "#bd3786"
             ],
             [
              0.5555555555555556,
              "#d8576b"
             ],
             [
              0.6666666666666666,
              "#ed7953"
             ],
             [
              0.7777777777777778,
              "#fb9f3a"
             ],
             [
              0.8888888888888888,
              "#fdca26"
             ],
             [
              1,
              "#f0f921"
             ]
            ],
            "type": "contour"
           }
          ],
          "contourcarpet": [
           {
            "colorbar": {
             "outlinewidth": 0,
             "ticks": ""
            },
            "type": "contourcarpet"
           }
          ],
          "heatmap": [
           {
            "colorbar": {
             "outlinewidth": 0,
             "ticks": ""
            },
            "colorscale": [
             [
              0,
              "#0d0887"
             ],
             [
              0.1111111111111111,
              "#46039f"
             ],
             [
              0.2222222222222222,
              "#7201a8"
             ],
             [
              0.3333333333333333,
              "#9c179e"
             ],
             [
              0.4444444444444444,
              "#bd3786"
             ],
             [
              0.5555555555555556,
              "#d8576b"
             ],
             [
              0.6666666666666666,
              "#ed7953"
             ],
             [
              0.7777777777777778,
              "#fb9f3a"
             ],
             [
              0.8888888888888888,
              "#fdca26"
             ],
             [
              1,
              "#f0f921"
             ]
            ],
            "type": "heatmap"
           }
          ],
          "histogram": [
           {
            "marker": {
             "pattern": {
              "fillmode": "overlay",
              "size": 10,
              "solidity": 0.2
             }
            },
            "type": "histogram"
           }
          ],
          "histogram2d": [
           {
            "colorbar": {
             "outlinewidth": 0,
             "ticks": ""
            },
            "colorscale": [
             [
              0,
              "#0d0887"
             ],
             [
              0.1111111111111111,
              "#46039f"
             ],
             [
              0.2222222222222222,
              "#7201a8"
             ],
             [
              0.3333333333333333,
              "#9c179e"
             ],
             [
              0.4444444444444444,
              "#bd3786"
             ],
             [
              0.5555555555555556,
              "#d8576b"
             ],
             [
              0.6666666666666666,
              "#ed7953"
             ],
             [
              0.7777777777777778,
              "#fb9f3a"
             ],
             [
              0.8888888888888888,
              "#fdca26"
             ],
             [
              1,
              "#f0f921"
             ]
            ],
            "type": "histogram2d"
           }
          ],
          "histogram2dcontour": [
           {
            "colorbar": {
             "outlinewidth": 0,
             "ticks": ""
            },
            "colorscale": [
             [
              0,
              "#0d0887"
             ],
             [
              0.1111111111111111,
              "#46039f"
             ],
             [
              0.2222222222222222,
              "#7201a8"
             ],
             [
              0.3333333333333333,
              "#9c179e"
             ],
             [
              0.4444444444444444,
              "#bd3786"
             ],
             [
              0.5555555555555556,
              "#d8576b"
             ],
             [
              0.6666666666666666,
              "#ed7953"
             ],
             [
              0.7777777777777778,
              "#fb9f3a"
             ],
             [
              0.8888888888888888,
              "#fdca26"
             ],
             [
              1,
              "#f0f921"
             ]
            ],
            "type": "histogram2dcontour"
           }
          ],
          "mesh3d": [
           {
            "colorbar": {
             "outlinewidth": 0,
             "ticks": ""
            },
            "type": "mesh3d"
           }
          ],
          "parcoords": [
           {
            "line": {
             "colorbar": {
              "outlinewidth": 0,
              "ticks": ""
             }
            },
            "type": "parcoords"
           }
          ],
          "pie": [
           {
            "automargin": true,
            "type": "pie"
           }
          ],
          "scatter": [
           {
            "fillpattern": {
             "fillmode": "overlay",
             "size": 10,
             "solidity": 0.2
            },
            "type": "scatter"
           }
          ],
          "scatter3d": [
           {
            "line": {
             "colorbar": {
              "outlinewidth": 0,
              "ticks": ""
             }
            },
            "marker": {
             "colorbar": {
              "outlinewidth": 0,
              "ticks": ""
             }
            },
            "type": "scatter3d"
           }
          ],
          "scattercarpet": [
           {
            "marker": {
             "colorbar": {
              "outlinewidth": 0,
              "ticks": ""
             }
            },
            "type": "scattercarpet"
           }
          ],
          "scattergeo": [
           {
            "marker": {
             "colorbar": {
              "outlinewidth": 0,
              "ticks": ""
             }
            },
            "type": "scattergeo"
           }
          ],
          "scattergl": [
           {
            "marker": {
             "colorbar": {
              "outlinewidth": 0,
              "ticks": ""
             }
            },
            "type": "scattergl"
           }
          ],
          "scattermap": [
           {
            "marker": {
             "colorbar": {
              "outlinewidth": 0,
              "ticks": ""
             }
            },
            "type": "scattermap"
           }
          ],
          "scattermapbox": [
           {
            "marker": {
             "colorbar": {
              "outlinewidth": 0,
              "ticks": ""
             }
            },
            "type": "scattermapbox"
           }
          ],
          "scatterpolar": [
           {
            "marker": {
             "colorbar": {
              "outlinewidth": 0,
              "ticks": ""
             }
            },
            "type": "scatterpolar"
           }
          ],
          "scatterpolargl": [
           {
            "marker": {
             "colorbar": {
              "outlinewidth": 0,
              "ticks": ""
             }
            },
            "type": "scatterpolargl"
           }
          ],
          "scatterternary": [
           {
            "marker": {
             "colorbar": {
              "outlinewidth": 0,
              "ticks": ""
             }
            },
            "type": "scatterternary"
           }
          ],
          "surface": [
           {
            "colorbar": {
             "outlinewidth": 0,
             "ticks": ""
            },
            "colorscale": [
             [
              0,
              "#0d0887"
             ],
             [
              0.1111111111111111,
              "#46039f"
             ],
             [
              0.2222222222222222,
              "#7201a8"
             ],
             [
              0.3333333333333333,
              "#9c179e"
             ],
             [
              0.4444444444444444,
              "#bd3786"
             ],
             [
              0.5555555555555556,
              "#d8576b"
             ],
             [
              0.6666666666666666,
              "#ed7953"
             ],
             [
              0.7777777777777778,
              "#fb9f3a"
             ],
             [
              0.8888888888888888,
              "#fdca26"
             ],
             [
              1,
              "#f0f921"
             ]
            ],
            "type": "surface"
           }
          ],
          "table": [
           {
            "cells": {
             "fill": {
              "color": "#EBF0F8"
             },
             "line": {
              "color": "white"
             }
            },
            "header": {
             "fill": {
              "color": "#C8D4E3"
             },
             "line": {
              "color": "white"
             }
            },
            "type": "table"
           }
          ]
         },
         "layout": {
          "annotationdefaults": {
           "arrowcolor": "#2a3f5f",
           "arrowhead": 0,
           "arrowwidth": 1
          },
          "autotypenumbers": "strict",
          "coloraxis": {
           "colorbar": {
            "outlinewidth": 0,
            "ticks": ""
           }
          },
          "colorscale": {
           "diverging": [
            [
             0,
             "#8e0152"
            ],
            [
             0.1,
             "#c51b7d"
            ],
            [
             0.2,
             "#de77ae"
            ],
            [
             0.3,
             "#f1b6da"
            ],
            [
             0.4,
             "#fde0ef"
            ],
            [
             0.5,
             "#f7f7f7"
            ],
            [
             0.6,
             "#e6f5d0"
            ],
            [
             0.7,
             "#b8e186"
            ],
            [
             0.8,
             "#7fbc41"
            ],
            [
             0.9,
             "#4d9221"
            ],
            [
             1,
             "#276419"
            ]
           ],
           "sequential": [
            [
             0,
             "#0d0887"
            ],
            [
             0.1111111111111111,
             "#46039f"
            ],
            [
             0.2222222222222222,
             "#7201a8"
            ],
            [
             0.3333333333333333,
             "#9c179e"
            ],
            [
             0.4444444444444444,
             "#bd3786"
            ],
            [
             0.5555555555555556,
             "#d8576b"
            ],
            [
             0.6666666666666666,
             "#ed7953"
            ],
            [
             0.7777777777777778,
             "#fb9f3a"
            ],
            [
             0.8888888888888888,
             "#fdca26"
            ],
            [
             1,
             "#f0f921"
            ]
           ],
           "sequentialminus": [
            [
             0,
             "#0d0887"
            ],
            [
             0.1111111111111111,
             "#46039f"
            ],
            [
             0.2222222222222222,
             "#7201a8"
            ],
            [
             0.3333333333333333,
             "#9c179e"
            ],
            [
             0.4444444444444444,
             "#bd3786"
            ],
            [
             0.5555555555555556,
             "#d8576b"
            ],
            [
             0.6666666666666666,
             "#ed7953"
            ],
            [
             0.7777777777777778,
             "#fb9f3a"
            ],
            [
             0.8888888888888888,
             "#fdca26"
            ],
            [
             1,
             "#f0f921"
            ]
           ]
          },
          "colorway": [
           "#636efa",
           "#EF553B",
           "#00cc96",
           "#ab63fa",
           "#FFA15A",
           "#19d3f3",
           "#FF6692",
           "#B6E880",
           "#FF97FF",
           "#FECB52"
          ],
          "font": {
           "color": "#2a3f5f"
          },
          "geo": {
           "bgcolor": "white",
           "lakecolor": "white",
           "landcolor": "#E5ECF6",
           "showlakes": true,
           "showland": true,
           "subunitcolor": "white"
          },
          "hoverlabel": {
           "align": "left"
          },
          "hovermode": "closest",
          "mapbox": {
           "style": "light"
          },
          "paper_bgcolor": "white",
          "plot_bgcolor": "#E5ECF6",
          "polar": {
           "angularaxis": {
            "gridcolor": "white",
            "linecolor": "white",
            "ticks": ""
           },
           "bgcolor": "#E5ECF6",
           "radialaxis": {
            "gridcolor": "white",
            "linecolor": "white",
            "ticks": ""
           }
          },
          "scene": {
           "xaxis": {
            "backgroundcolor": "#E5ECF6",
            "gridcolor": "white",
            "gridwidth": 2,
            "linecolor": "white",
            "showbackground": true,
            "ticks": "",
            "zerolinecolor": "white"
           },
           "yaxis": {
            "backgroundcolor": "#E5ECF6",
            "gridcolor": "white",
            "gridwidth": 2,
            "linecolor": "white",
            "showbackground": true,
            "ticks": "",
            "zerolinecolor": "white"
           },
           "zaxis": {
            "backgroundcolor": "#E5ECF6",
            "gridcolor": "white",
            "gridwidth": 2,
            "linecolor": "white",
            "showbackground": true,
            "ticks": "",
            "zerolinecolor": "white"
           }
          },
          "shapedefaults": {
           "line": {
            "color": "#2a3f5f"
           }
          },
          "ternary": {
           "aaxis": {
            "gridcolor": "white",
            "linecolor": "white",
            "ticks": ""
           },
           "baxis": {
            "gridcolor": "white",
            "linecolor": "white",
            "ticks": ""
           },
           "bgcolor": "#E5ECF6",
           "caxis": {
            "gridcolor": "white",
            "linecolor": "white",
            "ticks": ""
           }
          },
          "title": {
           "x": 0.05
          },
          "xaxis": {
           "automargin": true,
           "gridcolor": "white",
           "linecolor": "white",
           "ticks": "",
           "title": {
            "standoff": 15
           },
           "zerolinecolor": "white",
           "zerolinewidth": 2
          },
          "yaxis": {
           "automargin": true,
           "gridcolor": "white",
           "linecolor": "white",
           "ticks": "",
           "title": {
            "standoff": 15
           },
           "zerolinecolor": "white",
           "zerolinewidth": 2
          }
         }
        },
        "title": {
         "font": {
          "family": "Oswald"
         },
         "text": "Análisis de Actos y Ganancias por Categoría y Tratamiento en 2023",
         "x": 0.5
        },
        "width": 1000
       }
      }
     },
     "metadata": {},
     "output_type": "display_data"
    }
   ],
   "source": [
    "category_info_data = tabla_23_completa.groupby(['category', 'info']).agg({'total': 'sum', 'actos': 'sum'}).reset_index()\n",
    "fig_acts_treemap = px.treemap(category_info_data,\n",
    "                              path=[px.Constant(\"Categorías\"), 'category', 'info'],\n",
    "                              values='actos',\n",
    "                              color='category', \n",
    "                              color_discrete_map=color_map, \n",
    "                              title='Número de Actos por Categoría y Tratamiento 2023', \n",
    "                              labels={'parent': 'Categoría', 'labels': 'Tratamiento', 'value': 'Número de Actos'}) \n",
    "\n",
    "fig_acts_treemap.update_layout(\n",
    "    font_family=\"Oswald\",\n",
    "    title_font_family=\"Oswald\",\n",
    "    plot_bgcolor='black', \n",
    "    paper_bgcolor='white',\n",
    "    margin=dict(t=40, l=20, r=20, b=20) \n",
    ")\n",
    "\n",
    "fig_acts_treemap.update_traces(marker_line_color='black', marker_line_width=1, textfont_color='black')\n",
    "\n",
    "if fig_acts_treemap.data and len(fig_acts_treemap.data[0].marker.colors) > 0:\n",
    "    current_colors = list(fig_acts_treemap.data[0].marker.colors)\n",
    "    current_colors[0] = 'white'\n",
    "    fig_acts_treemap.data[0].marker.colors = current_colors\n",
    "\n",
    "fig_revenue_treemap = px.treemap(category_info_data,\n",
    "                                 path=[px.Constant(\"Categorias\"), 'category', 'info'], \n",
    "                                 values='total',\n",
    "                                 color='category',\n",
    "                                 color_discrete_map=color_map, \n",
    "                                 title='Ganancia Total por Categoría y Tratamiento 2023', \n",
    "                                 labels={'parent': 'Categoría', 'labels': 'Tratamiento', 'value': 'Ganancia Total (€)'}) \n",
    "\n",
    "fig_revenue_treemap.update_layout(\n",
    "    font_family=\"Oswald\",\n",
    "    title_font_family=\"Oswald\",\n",
    "    plot_bgcolor='white',\n",
    "    paper_bgcolor='white',\n",
    "    margin=dict(t=40, l=20, r=20, b=20)  \n",
    ")\n",
    "\n",
    "fig_revenue_treemap.update_traces(marker_line_color='black', marker_line_width=1, textfont_color='black')\n",
    "\n",
    "if fig_revenue_treemap.data and len(fig_revenue_treemap.data[0].marker.colors) > 0:\n",
    "    current_colors = list(fig_revenue_treemap.data[0].marker.colors)\n",
    "    current_colors[0] = 'white'\n",
    "    fig_revenue_treemap.data[0].marker.colors = current_colors\n",
    "\n",
    "fig_subplots = make_subplots(rows=1, cols=2,\n",
    "                             subplot_titles=(\"Número de Actos por Categoría y Tratamiento 2023\",\n",
    "                                             \"Ganancia Total por Categoría y Tratamiento 2023\"),\n",
    "                             specs=[[{'type': 'domain'}, {'type': 'domain'}]])\n",
    "\n",
    "fig_subplots.add_trace(fig_acts_treemap.data[0], row=1, col=1)\n",
    "fig_subplots.add_trace(fig_revenue_treemap.data[0], row=1, col=2)\n",
    "\n",
    "fig_subplots.update_layout(\n",
    "    title_text=\"Análisis de Actos y Ganancias por Categoría y Tratamiento en 2023\",\n",
    "    title_x=0.5,\n",
    "    font_family=\"Oswald\",\n",
    "    title_font_family=\"Oswald\",\n",
    "    width= 1000,\n",
    "    height=600\n",
    ")\n",
    "\n",
    "fig_subplots.show()"
   ]
  },
  {
   "cell_type": "code",
   "execution_count": null,
   "id": "2eac3635",
   "metadata": {},
   "outputs": [],
   "source": [
    "def categorize_aesthetic(description):\n",
    "    description = str(description).upper()\n",
    "\n",
    "    aesthetic_treatments = [\n",
    "        \"BLANQUEAMIENTO PHILIPS ZOOM\",\n",
    "        \"BRACKETS ESTETICOS\",\n",
    "        \"INVISALIGN\",\n",
    "        \"RECONSTRUCCION COMPOSITE\",\n",
    "        \"CORONA METAL CERAMICA\",\n",
    "        \"CORONA RESINA(LABORATORIO)\",\n",
    "        \"CORONA IMPLANTE\",\n",
    "        \"CORONA IMPLANTE ZIRCONIO\",\n",
    "        \"CORONA TOTAL METAL NOBLE\",\n",
    "        \"BRACKETS METALICOS\"\n",
    "    ]\n",
    "\n",
    "    if description in aesthetic_treatments:\n",
    "        return True\n",
    "        \n",
    "    return False\n",
    "\n",
    "tabla_23_completa['estetico'] = tabla_23_completa['info'].apply(categorize_aesthetic)\n",
    "tabla_24_completa['estetico'] = tabla_24_completa['info'].apply(categorize_aesthetic)"
   ]
  },
  {
   "cell_type": "code",
   "execution_count": 136,
   "id": "2a440782",
   "metadata": {},
   "outputs": [
    {
     "data": {
      "application/vnd.plotly.v1+json": {
       "config": {
        "plotlyServerURL": "https://plot.ly"
       },
       "data": [
        {
         "domain": {
          "x": [
           0,
           1
          ],
          "y": [
           0,
           1
          ]
         },
         "hole": 0.3,
         "hovertemplate": "estetico_label=%{label}<br>total=%{value}<extra></extra>",
         "labels": [
          "No Estético",
          "Estético"
         ],
         "legendgroup": "",
         "name": "",
         "showlegend": true,
         "textinfo": "percent+label",
         "textposition": "inside",
         "type": "pie",
         "values": {
          "bdata": "GrkBADBsAQA=",
          "dtype": "i4"
         }
        }
       ],
       "layout": {
        "legend": {
         "tracegroupgap": 0
        },
        "template": {
         "data": {
          "bar": [
           {
            "error_x": {
             "color": "#2a3f5f"
            },
            "error_y": {
             "color": "#2a3f5f"
            },
            "marker": {
             "line": {
              "color": "#E5ECF6",
              "width": 0.5
             },
             "pattern": {
              "fillmode": "overlay",
              "size": 10,
              "solidity": 0.2
             }
            },
            "type": "bar"
           }
          ],
          "barpolar": [
           {
            "marker": {
             "line": {
              "color": "#E5ECF6",
              "width": 0.5
             },
             "pattern": {
              "fillmode": "overlay",
              "size": 10,
              "solidity": 0.2
             }
            },
            "type": "barpolar"
           }
          ],
          "carpet": [
           {
            "aaxis": {
             "endlinecolor": "#2a3f5f",
             "gridcolor": "white",
             "linecolor": "white",
             "minorgridcolor": "white",
             "startlinecolor": "#2a3f5f"
            },
            "baxis": {
             "endlinecolor": "#2a3f5f",
             "gridcolor": "white",
             "linecolor": "white",
             "minorgridcolor": "white",
             "startlinecolor": "#2a3f5f"
            },
            "type": "carpet"
           }
          ],
          "choropleth": [
           {
            "colorbar": {
             "outlinewidth": 0,
             "ticks": ""
            },
            "type": "choropleth"
           }
          ],
          "contour": [
           {
            "colorbar": {
             "outlinewidth": 0,
             "ticks": ""
            },
            "colorscale": [
             [
              0,
              "#0d0887"
             ],
             [
              0.1111111111111111,
              "#46039f"
             ],
             [
              0.2222222222222222,
              "#7201a8"
             ],
             [
              0.3333333333333333,
              "#9c179e"
             ],
             [
              0.4444444444444444,
              "#bd3786"
             ],
             [
              0.5555555555555556,
              "#d8576b"
             ],
             [
              0.6666666666666666,
              "#ed7953"
             ],
             [
              0.7777777777777778,
              "#fb9f3a"
             ],
             [
              0.8888888888888888,
              "#fdca26"
             ],
             [
              1,
              "#f0f921"
             ]
            ],
            "type": "contour"
           }
          ],
          "contourcarpet": [
           {
            "colorbar": {
             "outlinewidth": 0,
             "ticks": ""
            },
            "type": "contourcarpet"
           }
          ],
          "heatmap": [
           {
            "colorbar": {
             "outlinewidth": 0,
             "ticks": ""
            },
            "colorscale": [
             [
              0,
              "#0d0887"
             ],
             [
              0.1111111111111111,
              "#46039f"
             ],
             [
              0.2222222222222222,
              "#7201a8"
             ],
             [
              0.3333333333333333,
              "#9c179e"
             ],
             [
              0.4444444444444444,
              "#bd3786"
             ],
             [
              0.5555555555555556,
              "#d8576b"
             ],
             [
              0.6666666666666666,
              "#ed7953"
             ],
             [
              0.7777777777777778,
              "#fb9f3a"
             ],
             [
              0.8888888888888888,
              "#fdca26"
             ],
             [
              1,
              "#f0f921"
             ]
            ],
            "type": "heatmap"
           }
          ],
          "histogram": [
           {
            "marker": {
             "pattern": {
              "fillmode": "overlay",
              "size": 10,
              "solidity": 0.2
             }
            },
            "type": "histogram"
           }
          ],
          "histogram2d": [
           {
            "colorbar": {
             "outlinewidth": 0,
             "ticks": ""
            },
            "colorscale": [
             [
              0,
              "#0d0887"
             ],
             [
              0.1111111111111111,
              "#46039f"
             ],
             [
              0.2222222222222222,
              "#7201a8"
             ],
             [
              0.3333333333333333,
              "#9c179e"
             ],
             [
              0.4444444444444444,
              "#bd3786"
             ],
             [
              0.5555555555555556,
              "#d8576b"
             ],
             [
              0.6666666666666666,
              "#ed7953"
             ],
             [
              0.7777777777777778,
              "#fb9f3a"
             ],
             [
              0.8888888888888888,
              "#fdca26"
             ],
             [
              1,
              "#f0f921"
             ]
            ],
            "type": "histogram2d"
           }
          ],
          "histogram2dcontour": [
           {
            "colorbar": {
             "outlinewidth": 0,
             "ticks": ""
            },
            "colorscale": [
             [
              0,
              "#0d0887"
             ],
             [
              0.1111111111111111,
              "#46039f"
             ],
             [
              0.2222222222222222,
              "#7201a8"
             ],
             [
              0.3333333333333333,
              "#9c179e"
             ],
             [
              0.4444444444444444,
              "#bd3786"
             ],
             [
              0.5555555555555556,
              "#d8576b"
             ],
             [
              0.6666666666666666,
              "#ed7953"
             ],
             [
              0.7777777777777778,
              "#fb9f3a"
             ],
             [
              0.8888888888888888,
              "#fdca26"
             ],
             [
              1,
              "#f0f921"
             ]
            ],
            "type": "histogram2dcontour"
           }
          ],
          "mesh3d": [
           {
            "colorbar": {
             "outlinewidth": 0,
             "ticks": ""
            },
            "type": "mesh3d"
           }
          ],
          "parcoords": [
           {
            "line": {
             "colorbar": {
              "outlinewidth": 0,
              "ticks": ""
             }
            },
            "type": "parcoords"
           }
          ],
          "pie": [
           {
            "automargin": true,
            "type": "pie"
           }
          ],
          "scatter": [
           {
            "fillpattern": {
             "fillmode": "overlay",
             "size": 10,
             "solidity": 0.2
            },
            "type": "scatter"
           }
          ],
          "scatter3d": [
           {
            "line": {
             "colorbar": {
              "outlinewidth": 0,
              "ticks": ""
             }
            },
            "marker": {
             "colorbar": {
              "outlinewidth": 0,
              "ticks": ""
             }
            },
            "type": "scatter3d"
           }
          ],
          "scattercarpet": [
           {
            "marker": {
             "colorbar": {
              "outlinewidth": 0,
              "ticks": ""
             }
            },
            "type": "scattercarpet"
           }
          ],
          "scattergeo": [
           {
            "marker": {
             "colorbar": {
              "outlinewidth": 0,
              "ticks": ""
             }
            },
            "type": "scattergeo"
           }
          ],
          "scattergl": [
           {
            "marker": {
             "colorbar": {
              "outlinewidth": 0,
              "ticks": ""
             }
            },
            "type": "scattergl"
           }
          ],
          "scattermap": [
           {
            "marker": {
             "colorbar": {
              "outlinewidth": 0,
              "ticks": ""
             }
            },
            "type": "scattermap"
           }
          ],
          "scattermapbox": [
           {
            "marker": {
             "colorbar": {
              "outlinewidth": 0,
              "ticks": ""
             }
            },
            "type": "scattermapbox"
           }
          ],
          "scatterpolar": [
           {
            "marker": {
             "colorbar": {
              "outlinewidth": 0,
              "ticks": ""
             }
            },
            "type": "scatterpolar"
           }
          ],
          "scatterpolargl": [
           {
            "marker": {
             "colorbar": {
              "outlinewidth": 0,
              "ticks": ""
             }
            },
            "type": "scatterpolargl"
           }
          ],
          "scatterternary": [
           {
            "marker": {
             "colorbar": {
              "outlinewidth": 0,
              "ticks": ""
             }
            },
            "type": "scatterternary"
           }
          ],
          "surface": [
           {
            "colorbar": {
             "outlinewidth": 0,
             "ticks": ""
            },
            "colorscale": [
             [
              0,
              "#0d0887"
             ],
             [
              0.1111111111111111,
              "#46039f"
             ],
             [
              0.2222222222222222,
              "#7201a8"
             ],
             [
              0.3333333333333333,
              "#9c179e"
             ],
             [
              0.4444444444444444,
              "#bd3786"
             ],
             [
              0.5555555555555556,
              "#d8576b"
             ],
             [
              0.6666666666666666,
              "#ed7953"
             ],
             [
              0.7777777777777778,
              "#fb9f3a"
             ],
             [
              0.8888888888888888,
              "#fdca26"
             ],
             [
              1,
              "#f0f921"
             ]
            ],
            "type": "surface"
           }
          ],
          "table": [
           {
            "cells": {
             "fill": {
              "color": "#EBF0F8"
             },
             "line": {
              "color": "white"
             }
            },
            "header": {
             "fill": {
              "color": "#C8D4E3"
             },
             "line": {
              "color": "white"
             }
            },
            "type": "table"
           }
          ]
         },
         "layout": {
          "annotationdefaults": {
           "arrowcolor": "#2a3f5f",
           "arrowhead": 0,
           "arrowwidth": 1
          },
          "autotypenumbers": "strict",
          "coloraxis": {
           "colorbar": {
            "outlinewidth": 0,
            "ticks": ""
           }
          },
          "colorscale": {
           "diverging": [
            [
             0,
             "#8e0152"
            ],
            [
             0.1,
             "#c51b7d"
            ],
            [
             0.2,
             "#de77ae"
            ],
            [
             0.3,
             "#f1b6da"
            ],
            [
             0.4,
             "#fde0ef"
            ],
            [
             0.5,
             "#f7f7f7"
            ],
            [
             0.6,
             "#e6f5d0"
            ],
            [
             0.7,
             "#b8e186"
            ],
            [
             0.8,
             "#7fbc41"
            ],
            [
             0.9,
             "#4d9221"
            ],
            [
             1,
             "#276419"
            ]
           ],
           "sequential": [
            [
             0,
             "#0d0887"
            ],
            [
             0.1111111111111111,
             "#46039f"
            ],
            [
             0.2222222222222222,
             "#7201a8"
            ],
            [
             0.3333333333333333,
             "#9c179e"
            ],
            [
             0.4444444444444444,
             "#bd3786"
            ],
            [
             0.5555555555555556,
             "#d8576b"
            ],
            [
             0.6666666666666666,
             "#ed7953"
            ],
            [
             0.7777777777777778,
             "#fb9f3a"
            ],
            [
             0.8888888888888888,
             "#fdca26"
            ],
            [
             1,
             "#f0f921"
            ]
           ],
           "sequentialminus": [
            [
             0,
             "#0d0887"
            ],
            [
             0.1111111111111111,
             "#46039f"
            ],
            [
             0.2222222222222222,
             "#7201a8"
            ],
            [
             0.3333333333333333,
             "#9c179e"
            ],
            [
             0.4444444444444444,
             "#bd3786"
            ],
            [
             0.5555555555555556,
             "#d8576b"
            ],
            [
             0.6666666666666666,
             "#ed7953"
            ],
            [
             0.7777777777777778,
             "#fb9f3a"
            ],
            [
             0.8888888888888888,
             "#fdca26"
            ],
            [
             1,
             "#f0f921"
            ]
           ]
          },
          "colorway": [
           "#636efa",
           "#EF553B",
           "#00cc96",
           "#ab63fa",
           "#FFA15A",
           "#19d3f3",
           "#FF6692",
           "#B6E880",
           "#FF97FF",
           "#FECB52"
          ],
          "font": {
           "color": "#2a3f5f"
          },
          "geo": {
           "bgcolor": "white",
           "lakecolor": "white",
           "landcolor": "#E5ECF6",
           "showlakes": true,
           "showland": true,
           "subunitcolor": "white"
          },
          "hoverlabel": {
           "align": "left"
          },
          "hovermode": "closest",
          "mapbox": {
           "style": "light"
          },
          "paper_bgcolor": "white",
          "plot_bgcolor": "#E5ECF6",
          "polar": {
           "angularaxis": {
            "gridcolor": "white",
            "linecolor": "white",
            "ticks": ""
           },
           "bgcolor": "#E5ECF6",
           "radialaxis": {
            "gridcolor": "white",
            "linecolor": "white",
            "ticks": ""
           }
          },
          "scene": {
           "xaxis": {
            "backgroundcolor": "#E5ECF6",
            "gridcolor": "white",
            "gridwidth": 2,
            "linecolor": "white",
            "showbackground": true,
            "ticks": "",
            "zerolinecolor": "white"
           },
           "yaxis": {
            "backgroundcolor": "#E5ECF6",
            "gridcolor": "white",
            "gridwidth": 2,
            "linecolor": "white",
            "showbackground": true,
            "ticks": "",
            "zerolinecolor": "white"
           },
           "zaxis": {
            "backgroundcolor": "#E5ECF6",
            "gridcolor": "white",
            "gridwidth": 2,
            "linecolor": "white",
            "showbackground": true,
            "ticks": "",
            "zerolinecolor": "white"
           }
          },
          "shapedefaults": {
           "line": {
            "color": "#2a3f5f"
           }
          },
          "ternary": {
           "aaxis": {
            "gridcolor": "white",
            "linecolor": "white",
            "ticks": ""
           },
           "baxis": {
            "gridcolor": "white",
            "linecolor": "white",
            "ticks": ""
           },
           "bgcolor": "#E5ECF6",
           "caxis": {
            "gridcolor": "white",
            "linecolor": "white",
            "ticks": ""
           }
          },
          "title": {
           "x": 0.05
          },
          "xaxis": {
           "automargin": true,
           "gridcolor": "white",
           "linecolor": "white",
           "ticks": "",
           "title": {
            "standoff": 15
           },
           "zerolinecolor": "white",
           "zerolinewidth": 2
          },
          "yaxis": {
           "automargin": true,
           "gridcolor": "white",
           "linecolor": "white",
           "ticks": "",
           "title": {
            "standoff": 15
           },
           "zerolinecolor": "white",
           "zerolinewidth": 2
          }
         }
        },
        "title": {
         "text": "Porcentaje de Ganancias Totales por Tipo de Tratamiento (Estético vs. No Estético)"
        }
       }
      }
     },
     "metadata": {},
     "output_type": "display_data"
    }
   ],
   "source": [
    "\n",
    "earnings_by_estetico = tabla_23_completa.groupby('estetico')['total'].sum().reset_index()\n",
    "\n",
    "earnings_by_estetico['estetico_label'] = earnings_by_estetico['estetico'].apply(lambda x: 'Estético' if x else 'No Estético')\n",
    "\n",
    "# Create the pie chart\n",
    "# Crear el gráfico de pastel\n",
    "fig = px.pie(earnings_by_estetico,\n",
    "             values='total',\n",
    "             names='estetico_label',\n",
    "             title='Porcentaje de Ganancias Totales por Tipo de Tratamiento (Estético vs. No Estético)',\n",
    "             hole=0.3) # Added a hole to make it a donut chart (Se añadió un agujero para hacerlo un gráfico de anillos)\n",
    "\n",
    "# Update trace properties for text position and info\n",
    "# Actualizar las propiedades de la traza para la posición del texto y la información\n",
    "fig.update_traces(textposition='inside', textinfo='percent+label')\n",
    "\n",
    "# Display the figure\n",
    "# Mostrar la figura\n",
    "fig.show()"
   ]
  },
  {
   "cell_type": "code",
   "execution_count": 142,
   "id": "57f0f12b",
   "metadata": {},
   "outputs": [
    {
     "data": {
      "application/vnd.plotly.v1+json": {
       "config": {
        "plotlyServerURL": "https://plot.ly"
       },
       "data": [
        {
         "domain": {
          "x": [
           0,
           1
          ],
          "y": [
           0,
           1
          ]
         },
         "hole": 0.3,
         "hovertemplate": "estetico_label=%{label}<br>actos=%{value}<extra></extra>",
         "labels": [
          "No Estético",
          "Estético"
         ],
         "legendgroup": "",
         "name": "",
         "showlegend": true,
         "textinfo": "percent+label",
         "textposition": "inside",
         "type": "pie",
         "values": {
          "bdata": "cQO7AA==",
          "dtype": "i2"
         }
        }
       ],
       "layout": {
        "legend": {
         "tracegroupgap": 0
        },
        "template": {
         "data": {
          "bar": [
           {
            "error_x": {
             "color": "#2a3f5f"
            },
            "error_y": {
             "color": "#2a3f5f"
            },
            "marker": {
             "line": {
              "color": "#E5ECF6",
              "width": 0.5
             },
             "pattern": {
              "fillmode": "overlay",
              "size": 10,
              "solidity": 0.2
             }
            },
            "type": "bar"
           }
          ],
          "barpolar": [
           {
            "marker": {
             "line": {
              "color": "#E5ECF6",
              "width": 0.5
             },
             "pattern": {
              "fillmode": "overlay",
              "size": 10,
              "solidity": 0.2
             }
            },
            "type": "barpolar"
           }
          ],
          "carpet": [
           {
            "aaxis": {
             "endlinecolor": "#2a3f5f",
             "gridcolor": "white",
             "linecolor": "white",
             "minorgridcolor": "white",
             "startlinecolor": "#2a3f5f"
            },
            "baxis": {
             "endlinecolor": "#2a3f5f",
             "gridcolor": "white",
             "linecolor": "white",
             "minorgridcolor": "white",
             "startlinecolor": "#2a3f5f"
            },
            "type": "carpet"
           }
          ],
          "choropleth": [
           {
            "colorbar": {
             "outlinewidth": 0,
             "ticks": ""
            },
            "type": "choropleth"
           }
          ],
          "contour": [
           {
            "colorbar": {
             "outlinewidth": 0,
             "ticks": ""
            },
            "colorscale": [
             [
              0,
              "#0d0887"
             ],
             [
              0.1111111111111111,
              "#46039f"
             ],
             [
              0.2222222222222222,
              "#7201a8"
             ],
             [
              0.3333333333333333,
              "#9c179e"
             ],
             [
              0.4444444444444444,
              "#bd3786"
             ],
             [
              0.5555555555555556,
              "#d8576b"
             ],
             [
              0.6666666666666666,
              "#ed7953"
             ],
             [
              0.7777777777777778,
              "#fb9f3a"
             ],
             [
              0.8888888888888888,
              "#fdca26"
             ],
             [
              1,
              "#f0f921"
             ]
            ],
            "type": "contour"
           }
          ],
          "contourcarpet": [
           {
            "colorbar": {
             "outlinewidth": 0,
             "ticks": ""
            },
            "type": "contourcarpet"
           }
          ],
          "heatmap": [
           {
            "colorbar": {
             "outlinewidth": 0,
             "ticks": ""
            },
            "colorscale": [
             [
              0,
              "#0d0887"
             ],
             [
              0.1111111111111111,
              "#46039f"
             ],
             [
              0.2222222222222222,
              "#7201a8"
             ],
             [
              0.3333333333333333,
              "#9c179e"
             ],
             [
              0.4444444444444444,
              "#bd3786"
             ],
             [
              0.5555555555555556,
              "#d8576b"
             ],
             [
              0.6666666666666666,
              "#ed7953"
             ],
             [
              0.7777777777777778,
              "#fb9f3a"
             ],
             [
              0.8888888888888888,
              "#fdca26"
             ],
             [
              1,
              "#f0f921"
             ]
            ],
            "type": "heatmap"
           }
          ],
          "histogram": [
           {
            "marker": {
             "pattern": {
              "fillmode": "overlay",
              "size": 10,
              "solidity": 0.2
             }
            },
            "type": "histogram"
           }
          ],
          "histogram2d": [
           {
            "colorbar": {
             "outlinewidth": 0,
             "ticks": ""
            },
            "colorscale": [
             [
              0,
              "#0d0887"
             ],
             [
              0.1111111111111111,
              "#46039f"
             ],
             [
              0.2222222222222222,
              "#7201a8"
             ],
             [
              0.3333333333333333,
              "#9c179e"
             ],
             [
              0.4444444444444444,
              "#bd3786"
             ],
             [
              0.5555555555555556,
              "#d8576b"
             ],
             [
              0.6666666666666666,
              "#ed7953"
             ],
             [
              0.7777777777777778,
              "#fb9f3a"
             ],
             [
              0.8888888888888888,
              "#fdca26"
             ],
             [
              1,
              "#f0f921"
             ]
            ],
            "type": "histogram2d"
           }
          ],
          "histogram2dcontour": [
           {
            "colorbar": {
             "outlinewidth": 0,
             "ticks": ""
            },
            "colorscale": [
             [
              0,
              "#0d0887"
             ],
             [
              0.1111111111111111,
              "#46039f"
             ],
             [
              0.2222222222222222,
              "#7201a8"
             ],
             [
              0.3333333333333333,
              "#9c179e"
             ],
             [
              0.4444444444444444,
              "#bd3786"
             ],
             [
              0.5555555555555556,
              "#d8576b"
             ],
             [
              0.6666666666666666,
              "#ed7953"
             ],
             [
              0.7777777777777778,
              "#fb9f3a"
             ],
             [
              0.8888888888888888,
              "#fdca26"
             ],
             [
              1,
              "#f0f921"
             ]
            ],
            "type": "histogram2dcontour"
           }
          ],
          "mesh3d": [
           {
            "colorbar": {
             "outlinewidth": 0,
             "ticks": ""
            },
            "type": "mesh3d"
           }
          ],
          "parcoords": [
           {
            "line": {
             "colorbar": {
              "outlinewidth": 0,
              "ticks": ""
             }
            },
            "type": "parcoords"
           }
          ],
          "pie": [
           {
            "automargin": true,
            "type": "pie"
           }
          ],
          "scatter": [
           {
            "fillpattern": {
             "fillmode": "overlay",
             "size": 10,
             "solidity": 0.2
            },
            "type": "scatter"
           }
          ],
          "scatter3d": [
           {
            "line": {
             "colorbar": {
              "outlinewidth": 0,
              "ticks": ""
             }
            },
            "marker": {
             "colorbar": {
              "outlinewidth": 0,
              "ticks": ""
             }
            },
            "type": "scatter3d"
           }
          ],
          "scattercarpet": [
           {
            "marker": {
             "colorbar": {
              "outlinewidth": 0,
              "ticks": ""
             }
            },
            "type": "scattercarpet"
           }
          ],
          "scattergeo": [
           {
            "marker": {
             "colorbar": {
              "outlinewidth": 0,
              "ticks": ""
             }
            },
            "type": "scattergeo"
           }
          ],
          "scattergl": [
           {
            "marker": {
             "colorbar": {
              "outlinewidth": 0,
              "ticks": ""
             }
            },
            "type": "scattergl"
           }
          ],
          "scattermap": [
           {
            "marker": {
             "colorbar": {
              "outlinewidth": 0,
              "ticks": ""
             }
            },
            "type": "scattermap"
           }
          ],
          "scattermapbox": [
           {
            "marker": {
             "colorbar": {
              "outlinewidth": 0,
              "ticks": ""
             }
            },
            "type": "scattermapbox"
           }
          ],
          "scatterpolar": [
           {
            "marker": {
             "colorbar": {
              "outlinewidth": 0,
              "ticks": ""
             }
            },
            "type": "scatterpolar"
           }
          ],
          "scatterpolargl": [
           {
            "marker": {
             "colorbar": {
              "outlinewidth": 0,
              "ticks": ""
             }
            },
            "type": "scatterpolargl"
           }
          ],
          "scatterternary": [
           {
            "marker": {
             "colorbar": {
              "outlinewidth": 0,
              "ticks": ""
             }
            },
            "type": "scatterternary"
           }
          ],
          "surface": [
           {
            "colorbar": {
             "outlinewidth": 0,
             "ticks": ""
            },
            "colorscale": [
             [
              0,
              "#0d0887"
             ],
             [
              0.1111111111111111,
              "#46039f"
             ],
             [
              0.2222222222222222,
              "#7201a8"
             ],
             [
              0.3333333333333333,
              "#9c179e"
             ],
             [
              0.4444444444444444,
              "#bd3786"
             ],
             [
              0.5555555555555556,
              "#d8576b"
             ],
             [
              0.6666666666666666,
              "#ed7953"
             ],
             [
              0.7777777777777778,
              "#fb9f3a"
             ],
             [
              0.8888888888888888,
              "#fdca26"
             ],
             [
              1,
              "#f0f921"
             ]
            ],
            "type": "surface"
           }
          ],
          "table": [
           {
            "cells": {
             "fill": {
              "color": "#EBF0F8"
             },
             "line": {
              "color": "white"
             }
            },
            "header": {
             "fill": {
              "color": "#C8D4E3"
             },
             "line": {
              "color": "white"
             }
            },
            "type": "table"
           }
          ]
         },
         "layout": {
          "annotationdefaults": {
           "arrowcolor": "#2a3f5f",
           "arrowhead": 0,
           "arrowwidth": 1
          },
          "autotypenumbers": "strict",
          "coloraxis": {
           "colorbar": {
            "outlinewidth": 0,
            "ticks": ""
           }
          },
          "colorscale": {
           "diverging": [
            [
             0,
             "#8e0152"
            ],
            [
             0.1,
             "#c51b7d"
            ],
            [
             0.2,
             "#de77ae"
            ],
            [
             0.3,
             "#f1b6da"
            ],
            [
             0.4,
             "#fde0ef"
            ],
            [
             0.5,
             "#f7f7f7"
            ],
            [
             0.6,
             "#e6f5d0"
            ],
            [
             0.7,
             "#b8e186"
            ],
            [
             0.8,
             "#7fbc41"
            ],
            [
             0.9,
             "#4d9221"
            ],
            [
             1,
             "#276419"
            ]
           ],
           "sequential": [
            [
             0,
             "#0d0887"
            ],
            [
             0.1111111111111111,
             "#46039f"
            ],
            [
             0.2222222222222222,
             "#7201a8"
            ],
            [
             0.3333333333333333,
             "#9c179e"
            ],
            [
             0.4444444444444444,
             "#bd3786"
            ],
            [
             0.5555555555555556,
             "#d8576b"
            ],
            [
             0.6666666666666666,
             "#ed7953"
            ],
            [
             0.7777777777777778,
             "#fb9f3a"
            ],
            [
             0.8888888888888888,
             "#fdca26"
            ],
            [
             1,
             "#f0f921"
            ]
           ],
           "sequentialminus": [
            [
             0,
             "#0d0887"
            ],
            [
             0.1111111111111111,
             "#46039f"
            ],
            [
             0.2222222222222222,
             "#7201a8"
            ],
            [
             0.3333333333333333,
             "#9c179e"
            ],
            [
             0.4444444444444444,
             "#bd3786"
            ],
            [
             0.5555555555555556,
             "#d8576b"
            ],
            [
             0.6666666666666666,
             "#ed7953"
            ],
            [
             0.7777777777777778,
             "#fb9f3a"
            ],
            [
             0.8888888888888888,
             "#fdca26"
            ],
            [
             1,
             "#f0f921"
            ]
           ]
          },
          "colorway": [
           "#636efa",
           "#EF553B",
           "#00cc96",
           "#ab63fa",
           "#FFA15A",
           "#19d3f3",
           "#FF6692",
           "#B6E880",
           "#FF97FF",
           "#FECB52"
          ],
          "font": {
           "color": "#2a3f5f"
          },
          "geo": {
           "bgcolor": "white",
           "lakecolor": "white",
           "landcolor": "#E5ECF6",
           "showlakes": true,
           "showland": true,
           "subunitcolor": "white"
          },
          "hoverlabel": {
           "align": "left"
          },
          "hovermode": "closest",
          "mapbox": {
           "style": "light"
          },
          "paper_bgcolor": "white",
          "plot_bgcolor": "#E5ECF6",
          "polar": {
           "angularaxis": {
            "gridcolor": "white",
            "linecolor": "white",
            "ticks": ""
           },
           "bgcolor": "#E5ECF6",
           "radialaxis": {
            "gridcolor": "white",
            "linecolor": "white",
            "ticks": ""
           }
          },
          "scene": {
           "xaxis": {
            "backgroundcolor": "#E5ECF6",
            "gridcolor": "white",
            "gridwidth": 2,
            "linecolor": "white",
            "showbackground": true,
            "ticks": "",
            "zerolinecolor": "white"
           },
           "yaxis": {
            "backgroundcolor": "#E5ECF6",
            "gridcolor": "white",
            "gridwidth": 2,
            "linecolor": "white",
            "showbackground": true,
            "ticks": "",
            "zerolinecolor": "white"
           },
           "zaxis": {
            "backgroundcolor": "#E5ECF6",
            "gridcolor": "white",
            "gridwidth": 2,
            "linecolor": "white",
            "showbackground": true,
            "ticks": "",
            "zerolinecolor": "white"
           }
          },
          "shapedefaults": {
           "line": {
            "color": "#2a3f5f"
           }
          },
          "ternary": {
           "aaxis": {
            "gridcolor": "white",
            "linecolor": "white",
            "ticks": ""
           },
           "baxis": {
            "gridcolor": "white",
            "linecolor": "white",
            "ticks": ""
           },
           "bgcolor": "#E5ECF6",
           "caxis": {
            "gridcolor": "white",
            "linecolor": "white",
            "ticks": ""
           }
          },
          "title": {
           "x": 0.05
          },
          "xaxis": {
           "automargin": true,
           "gridcolor": "white",
           "linecolor": "white",
           "ticks": "",
           "title": {
            "standoff": 15
           },
           "zerolinecolor": "white",
           "zerolinewidth": 2
          },
          "yaxis": {
           "automargin": true,
           "gridcolor": "white",
           "linecolor": "white",
           "ticks": "",
           "title": {
            "standoff": 15
           },
           "zerolinecolor": "white",
           "zerolinewidth": 2
          }
         }
        },
        "title": {
         "text": "Porcentaje de Ganancias Totales por Tipo de Tratamiento (Estético vs. No Estético)"
        }
       }
      }
     },
     "metadata": {},
     "output_type": "display_data"
    }
   ],
   "source": [
    "actos_by_estetico = tabla_23_completa.groupby('estetico')['actos'].sum().reset_index()\n",
    "\n",
    "actos_by_estetico['estetico_label'] = actos_by_estetico['estetico'].apply(lambda x: 'Estético' if x else 'No Estético')\n",
    "# Create the pie chart\n",
    "# Crear el gráfico de pastel\n",
    "fig = px.pie(actos_by_estetico,\n",
    "             values='actos',\n",
    "             names='estetico_label',\n",
    "             title='Porcentaje de Ganancias Totales por Tipo de Tratamiento (Estético vs. No Estético)',\n",
    "             hole=0.3) # Added a hole to make it a donut chart (Se añadió un agujero para hacerlo un gráfico de anillos)\n",
    "\n",
    "# Update trace properties for text position and info\n",
    "# Actualizar las propiedades de la traza para la posición del texto y la información\n",
    "fig.update_traces(textposition='inside', textinfo='percent+label')\n",
    "\n",
    "# Display the figure\n",
    "# Mostrar la figura\n",
    "fig.show()"
   ]
  },
  {
   "cell_type": "code",
   "execution_count": 144,
   "id": "eed7de8e",
   "metadata": {},
   "outputs": [
    {
     "data": {
      "application/vnd.plotly.v1+json": {
       "config": {
        "plotlyServerURL": "https://plot.ly"
       },
       "data": [
        {
         "domain": {
          "x": [
           0,
           0.45
          ],
          "y": [
           0,
           1
          ]
         },
         "hole": 0.3,
         "labels": [
          "No Estético",
          "Estético"
         ],
         "name": "Ganancias",
         "textfont": {
          "color": "black"
         },
         "textinfo": "percent+label",
         "textposition": "inside",
         "type": "pie",
         "values": {
          "bdata": "GrkBADBsAQA=",
          "dtype": "i4"
         }
        },
        {
         "domain": {
          "x": [
           0.55,
           1
          ],
          "y": [
           0,
           1
          ]
         },
         "hole": 0.3,
         "labels": [
          "No Estético",
          "Estético"
         ],
         "name": "Actos",
         "textfont": {
          "color": "black"
         },
         "textinfo": "percent+label",
         "textposition": "inside",
         "type": "pie",
         "values": {
          "bdata": "cQO7AA==",
          "dtype": "i2"
         }
        }
       ],
       "layout": {
        "annotations": [
         {
          "font": {
           "size": 16
          },
          "showarrow": false,
          "text": "Ganancias Totales",
          "x": 0.225,
          "xanchor": "center",
          "xref": "paper",
          "y": 1,
          "yanchor": "bottom",
          "yref": "paper"
         },
         {
          "font": {
           "size": 16
          },
          "showarrow": false,
          "text": "Número de Actos Realizados",
          "x": 0.775,
          "xanchor": "center",
          "xref": "paper",
          "y": 1,
          "yanchor": "bottom",
          "yref": "paper"
         }
        ],
        "font": {
         "color": "black",
         "family": "Oswald"
        },
        "template": {
         "data": {
          "bar": [
           {
            "error_x": {
             "color": "#2a3f5f"
            },
            "error_y": {
             "color": "#2a3f5f"
            },
            "marker": {
             "line": {
              "color": "#E5ECF6",
              "width": 0.5
             },
             "pattern": {
              "fillmode": "overlay",
              "size": 10,
              "solidity": 0.2
             }
            },
            "type": "bar"
           }
          ],
          "barpolar": [
           {
            "marker": {
             "line": {
              "color": "#E5ECF6",
              "width": 0.5
             },
             "pattern": {
              "fillmode": "overlay",
              "size": 10,
              "solidity": 0.2
             }
            },
            "type": "barpolar"
           }
          ],
          "carpet": [
           {
            "aaxis": {
             "endlinecolor": "#2a3f5f",
             "gridcolor": "white",
             "linecolor": "white",
             "minorgridcolor": "white",
             "startlinecolor": "#2a3f5f"
            },
            "baxis": {
             "endlinecolor": "#2a3f5f",
             "gridcolor": "white",
             "linecolor": "white",
             "minorgridcolor": "white",
             "startlinecolor": "#2a3f5f"
            },
            "type": "carpet"
           }
          ],
          "choropleth": [
           {
            "colorbar": {
             "outlinewidth": 0,
             "ticks": ""
            },
            "type": "choropleth"
           }
          ],
          "contour": [
           {
            "colorbar": {
             "outlinewidth": 0,
             "ticks": ""
            },
            "colorscale": [
             [
              0,
              "#0d0887"
             ],
             [
              0.1111111111111111,
              "#46039f"
             ],
             [
              0.2222222222222222,
              "#7201a8"
             ],
             [
              0.3333333333333333,
              "#9c179e"
             ],
             [
              0.4444444444444444,
              "#bd3786"
             ],
             [
              0.5555555555555556,
              "#d8576b"
             ],
             [
              0.6666666666666666,
              "#ed7953"
             ],
             [
              0.7777777777777778,
              "#fb9f3a"
             ],
             [
              0.8888888888888888,
              "#fdca26"
             ],
             [
              1,
              "#f0f921"
             ]
            ],
            "type": "contour"
           }
          ],
          "contourcarpet": [
           {
            "colorbar": {
             "outlinewidth": 0,
             "ticks": ""
            },
            "type": "contourcarpet"
           }
          ],
          "heatmap": [
           {
            "colorbar": {
             "outlinewidth": 0,
             "ticks": ""
            },
            "colorscale": [
             [
              0,
              "#0d0887"
             ],
             [
              0.1111111111111111,
              "#46039f"
             ],
             [
              0.2222222222222222,
              "#7201a8"
             ],
             [
              0.3333333333333333,
              "#9c179e"
             ],
             [
              0.4444444444444444,
              "#bd3786"
             ],
             [
              0.5555555555555556,
              "#d8576b"
             ],
             [
              0.6666666666666666,
              "#ed7953"
             ],
             [
              0.7777777777777778,
              "#fb9f3a"
             ],
             [
              0.8888888888888888,
              "#fdca26"
             ],
             [
              1,
              "#f0f921"
             ]
            ],
            "type": "heatmap"
           }
          ],
          "histogram": [
           {
            "marker": {
             "pattern": {
              "fillmode": "overlay",
              "size": 10,
              "solidity": 0.2
             }
            },
            "type": "histogram"
           }
          ],
          "histogram2d": [
           {
            "colorbar": {
             "outlinewidth": 0,
             "ticks": ""
            },
            "colorscale": [
             [
              0,
              "#0d0887"
             ],
             [
              0.1111111111111111,
              "#46039f"
             ],
             [
              0.2222222222222222,
              "#7201a8"
             ],
             [
              0.3333333333333333,
              "#9c179e"
             ],
             [
              0.4444444444444444,
              "#bd3786"
             ],
             [
              0.5555555555555556,
              "#d8576b"
             ],
             [
              0.6666666666666666,
              "#ed7953"
             ],
             [
              0.7777777777777778,
              "#fb9f3a"
             ],
             [
              0.8888888888888888,
              "#fdca26"
             ],
             [
              1,
              "#f0f921"
             ]
            ],
            "type": "histogram2d"
           }
          ],
          "histogram2dcontour": [
           {
            "colorbar": {
             "outlinewidth": 0,
             "ticks": ""
            },
            "colorscale": [
             [
              0,
              "#0d0887"
             ],
             [
              0.1111111111111111,
              "#46039f"
             ],
             [
              0.2222222222222222,
              "#7201a8"
             ],
             [
              0.3333333333333333,
              "#9c179e"
             ],
             [
              0.4444444444444444,
              "#bd3786"
             ],
             [
              0.5555555555555556,
              "#d8576b"
             ],
             [
              0.6666666666666666,
              "#ed7953"
             ],
             [
              0.7777777777777778,
              "#fb9f3a"
             ],
             [
              0.8888888888888888,
              "#fdca26"
             ],
             [
              1,
              "#f0f921"
             ]
            ],
            "type": "histogram2dcontour"
           }
          ],
          "mesh3d": [
           {
            "colorbar": {
             "outlinewidth": 0,
             "ticks": ""
            },
            "type": "mesh3d"
           }
          ],
          "parcoords": [
           {
            "line": {
             "colorbar": {
              "outlinewidth": 0,
              "ticks": ""
             }
            },
            "type": "parcoords"
           }
          ],
          "pie": [
           {
            "automargin": true,
            "type": "pie"
           }
          ],
          "scatter": [
           {
            "fillpattern": {
             "fillmode": "overlay",
             "size": 10,
             "solidity": 0.2
            },
            "type": "scatter"
           }
          ],
          "scatter3d": [
           {
            "line": {
             "colorbar": {
              "outlinewidth": 0,
              "ticks": ""
             }
            },
            "marker": {
             "colorbar": {
              "outlinewidth": 0,
              "ticks": ""
             }
            },
            "type": "scatter3d"
           }
          ],
          "scattercarpet": [
           {
            "marker": {
             "colorbar": {
              "outlinewidth": 0,
              "ticks": ""
             }
            },
            "type": "scattercarpet"
           }
          ],
          "scattergeo": [
           {
            "marker": {
             "colorbar": {
              "outlinewidth": 0,
              "ticks": ""
             }
            },
            "type": "scattergeo"
           }
          ],
          "scattergl": [
           {
            "marker": {
             "colorbar": {
              "outlinewidth": 0,
              "ticks": ""
             }
            },
            "type": "scattergl"
           }
          ],
          "scattermap": [
           {
            "marker": {
             "colorbar": {
              "outlinewidth": 0,
              "ticks": ""
             }
            },
            "type": "scattermap"
           }
          ],
          "scattermapbox": [
           {
            "marker": {
             "colorbar": {
              "outlinewidth": 0,
              "ticks": ""
             }
            },
            "type": "scattermapbox"
           }
          ],
          "scatterpolar": [
           {
            "marker": {
             "colorbar": {
              "outlinewidth": 0,
              "ticks": ""
             }
            },
            "type": "scatterpolar"
           }
          ],
          "scatterpolargl": [
           {
            "marker": {
             "colorbar": {
              "outlinewidth": 0,
              "ticks": ""
             }
            },
            "type": "scatterpolargl"
           }
          ],
          "scatterternary": [
           {
            "marker": {
             "colorbar": {
              "outlinewidth": 0,
              "ticks": ""
             }
            },
            "type": "scatterternary"
           }
          ],
          "surface": [
           {
            "colorbar": {
             "outlinewidth": 0,
             "ticks": ""
            },
            "colorscale": [
             [
              0,
              "#0d0887"
             ],
             [
              0.1111111111111111,
              "#46039f"
             ],
             [
              0.2222222222222222,
              "#7201a8"
             ],
             [
              0.3333333333333333,
              "#9c179e"
             ],
             [
              0.4444444444444444,
              "#bd3786"
             ],
             [
              0.5555555555555556,
              "#d8576b"
             ],
             [
              0.6666666666666666,
              "#ed7953"
             ],
             [
              0.7777777777777778,
              "#fb9f3a"
             ],
             [
              0.8888888888888888,
              "#fdca26"
             ],
             [
              1,
              "#f0f921"
             ]
            ],
            "type": "surface"
           }
          ],
          "table": [
           {
            "cells": {
             "fill": {
              "color": "#EBF0F8"
             },
             "line": {
              "color": "white"
             }
            },
            "header": {
             "fill": {
              "color": "#C8D4E3"
             },
             "line": {
              "color": "white"
             }
            },
            "type": "table"
           }
          ]
         },
         "layout": {
          "annotationdefaults": {
           "arrowcolor": "#2a3f5f",
           "arrowhead": 0,
           "arrowwidth": 1
          },
          "autotypenumbers": "strict",
          "coloraxis": {
           "colorbar": {
            "outlinewidth": 0,
            "ticks": ""
           }
          },
          "colorscale": {
           "diverging": [
            [
             0,
             "#8e0152"
            ],
            [
             0.1,
             "#c51b7d"
            ],
            [
             0.2,
             "#de77ae"
            ],
            [
             0.3,
             "#f1b6da"
            ],
            [
             0.4,
             "#fde0ef"
            ],
            [
             0.5,
             "#f7f7f7"
            ],
            [
             0.6,
             "#e6f5d0"
            ],
            [
             0.7,
             "#b8e186"
            ],
            [
             0.8,
             "#7fbc41"
            ],
            [
             0.9,
             "#4d9221"
            ],
            [
             1,
             "#276419"
            ]
           ],
           "sequential": [
            [
             0,
             "#0d0887"
            ],
            [
             0.1111111111111111,
             "#46039f"
            ],
            [
             0.2222222222222222,
             "#7201a8"
            ],
            [
             0.3333333333333333,
             "#9c179e"
            ],
            [
             0.4444444444444444,
             "#bd3786"
            ],
            [
             0.5555555555555556,
             "#d8576b"
            ],
            [
             0.6666666666666666,
             "#ed7953"
            ],
            [
             0.7777777777777778,
             "#fb9f3a"
            ],
            [
             0.8888888888888888,
             "#fdca26"
            ],
            [
             1,
             "#f0f921"
            ]
           ],
           "sequentialminus": [
            [
             0,
             "#0d0887"
            ],
            [
             0.1111111111111111,
             "#46039f"
            ],
            [
             0.2222222222222222,
             "#7201a8"
            ],
            [
             0.3333333333333333,
             "#9c179e"
            ],
            [
             0.4444444444444444,
             "#bd3786"
            ],
            [
             0.5555555555555556,
             "#d8576b"
            ],
            [
             0.6666666666666666,
             "#ed7953"
            ],
            [
             0.7777777777777778,
             "#fb9f3a"
            ],
            [
             0.8888888888888888,
             "#fdca26"
            ],
            [
             1,
             "#f0f921"
            ]
           ]
          },
          "colorway": [
           "#636efa",
           "#EF553B",
           "#00cc96",
           "#ab63fa",
           "#FFA15A",
           "#19d3f3",
           "#FF6692",
           "#B6E880",
           "#FF97FF",
           "#FECB52"
          ],
          "font": {
           "color": "#2a3f5f"
          },
          "geo": {
           "bgcolor": "white",
           "lakecolor": "white",
           "landcolor": "#E5ECF6",
           "showlakes": true,
           "showland": true,
           "subunitcolor": "white"
          },
          "hoverlabel": {
           "align": "left"
          },
          "hovermode": "closest",
          "mapbox": {
           "style": "light"
          },
          "paper_bgcolor": "white",
          "plot_bgcolor": "#E5ECF6",
          "polar": {
           "angularaxis": {
            "gridcolor": "white",
            "linecolor": "white",
            "ticks": ""
           },
           "bgcolor": "#E5ECF6",
           "radialaxis": {
            "gridcolor": "white",
            "linecolor": "white",
            "ticks": ""
           }
          },
          "scene": {
           "xaxis": {
            "backgroundcolor": "#E5ECF6",
            "gridcolor": "white",
            "gridwidth": 2,
            "linecolor": "white",
            "showbackground": true,
            "ticks": "",
            "zerolinecolor": "white"
           },
           "yaxis": {
            "backgroundcolor": "#E5ECF6",
            "gridcolor": "white",
            "gridwidth": 2,
            "linecolor": "white",
            "showbackground": true,
            "ticks": "",
            "zerolinecolor": "white"
           },
           "zaxis": {
            "backgroundcolor": "#E5ECF6",
            "gridcolor": "white",
            "gridwidth": 2,
            "linecolor": "white",
            "showbackground": true,
            "ticks": "",
            "zerolinecolor": "white"
           }
          },
          "shapedefaults": {
           "line": {
            "color": "#2a3f5f"
           }
          },
          "ternary": {
           "aaxis": {
            "gridcolor": "white",
            "linecolor": "white",
            "ticks": ""
           },
           "baxis": {
            "gridcolor": "white",
            "linecolor": "white",
            "ticks": ""
           },
           "bgcolor": "#E5ECF6",
           "caxis": {
            "gridcolor": "white",
            "linecolor": "white",
            "ticks": ""
           }
          },
          "title": {
           "x": 0.05
          },
          "xaxis": {
           "automargin": true,
           "gridcolor": "white",
           "linecolor": "white",
           "ticks": "",
           "title": {
            "standoff": 15
           },
           "zerolinecolor": "white",
           "zerolinewidth": 2
          },
          "yaxis": {
           "automargin": true,
           "gridcolor": "white",
           "linecolor": "white",
           "ticks": "",
           "title": {
            "standoff": 15
           },
           "zerolinecolor": "white",
           "zerolinewidth": 2
          }
         }
        },
        "title": {
         "text": "Ganancias y Actos por Tipo de Tratamiento 2023"
        }
       }
      }
     },
     "metadata": {},
     "output_type": "display_data"
    }
   ],
   "source": [
    "ganancias_estetico = tabla_23_completa.groupby('estetico')['total'].sum().reset_index()\n",
    "\n",
    "ganancias_estetico['text_estetico'] = ganancias_estetico['estetico'].apply(lambda x: 'Estético' if x else 'No Estético')\n",
    "\n",
    "actos_estetico = tabla_23_completa.groupby('estetico')['actos'].sum().reset_index()\n",
    "\n",
    "actos_estetico['text_estetico'] = actos_estetico['estetico'].apply(lambda x: 'Estético' if x else 'No Estético')\n",
    "\n",
    "fig = make_subplots(rows=1, cols=2, specs=[[{'type':'domain'}, {'type':'domain'}]],\n",
    "                    subplot_titles=['Ganancias Totales', 'Número de Actos Realizados'])\n",
    "\n",
    "fig.add_trace(go.Pie(labels=ganancias_estetico['text_estetico'],\n",
    "                     values=ganancias_estetico['total'],\n",
    "                     name='Ganancias',\n",
    "                     hole=0.3,\n",
    "                     textposition='inside',\n",
    "                     textinfo='percent+label',\n",
    "                     textfont_color='black'),\n",
    "              1, 1)\n",
    "\n",
    "fig.add_trace(go.Pie(labels=actos_estetico['text_estetico'],\n",
    "                     values=actos_estetico['actos'],\n",
    "                     name='Actos',\n",
    "                     hole=0.3,\n",
    "                     textposition='inside',\n",
    "                     textinfo='percent+label',\n",
    "                     textfont_color='black'),\n",
    "              1, 2)\n",
    "\n",
    "fig.update_layout(title_text='Ganancias y Actos por Tipo de Tratamiento 2023',font=dict(family=\"Oswald\", color=\"black\"))\n",
    "\n",
    "fig.show()"
   ]
  },
  {
   "cell_type": "code",
   "execution_count": 146,
   "id": "b4f53827",
   "metadata": {},
   "outputs": [
    {
     "data": {
      "application/vnd.plotly.v1+json": {
       "config": {
        "plotlyServerURL": "https://plot.ly"
       },
       "data": [
        {
         "hoverinfo": "label+percent",
         "insidetextorientation": "radial",
         "labels": [
          "BLANQUEAMIENTO PHILIPS ZOOM",
          "BRACKETS ESTETICOS",
          "BRACKETS METALICOS",
          "CORONA IMPLANTE",
          "CORONA IMPLANTE ZIRCONIO",
          "CORONA METAL CERAMICA",
          "CORONA RESINA(LABORATORIO)",
          "CORONA TOTAL METAL NOBLE",
          "INVISALIGN",
          "RECONSTRUCCION COMPOSITE"
         ],
         "textinfo": "percent",
         "type": "pie",
         "values": {
          "bdata": "O/3UsC1QCUCMsmCN+tMpQIti/9kKwyhA0bc457sZPUACtfhh7hoPQMPkIwWZtydAZ3KcHUpj5D+g8EkPjITtP1MbBmdd5jZAdTTyParfAUA=",
          "dtype": "f8"
         }
        }
       ],
       "layout": {
        "template": {
         "data": {
          "bar": [
           {
            "error_x": {
             "color": "#2a3f5f"
            },
            "error_y": {
             "color": "#2a3f5f"
            },
            "marker": {
             "line": {
              "color": "#E5ECF6",
              "width": 0.5
             },
             "pattern": {
              "fillmode": "overlay",
              "size": 10,
              "solidity": 0.2
             }
            },
            "type": "bar"
           }
          ],
          "barpolar": [
           {
            "marker": {
             "line": {
              "color": "#E5ECF6",
              "width": 0.5
             },
             "pattern": {
              "fillmode": "overlay",
              "size": 10,
              "solidity": 0.2
             }
            },
            "type": "barpolar"
           }
          ],
          "carpet": [
           {
            "aaxis": {
             "endlinecolor": "#2a3f5f",
             "gridcolor": "white",
             "linecolor": "white",
             "minorgridcolor": "white",
             "startlinecolor": "#2a3f5f"
            },
            "baxis": {
             "endlinecolor": "#2a3f5f",
             "gridcolor": "white",
             "linecolor": "white",
             "minorgridcolor": "white",
             "startlinecolor": "#2a3f5f"
            },
            "type": "carpet"
           }
          ],
          "choropleth": [
           {
            "colorbar": {
             "outlinewidth": 0,
             "ticks": ""
            },
            "type": "choropleth"
           }
          ],
          "contour": [
           {
            "colorbar": {
             "outlinewidth": 0,
             "ticks": ""
            },
            "colorscale": [
             [
              0,
              "#0d0887"
             ],
             [
              0.1111111111111111,
              "#46039f"
             ],
             [
              0.2222222222222222,
              "#7201a8"
             ],
             [
              0.3333333333333333,
              "#9c179e"
             ],
             [
              0.4444444444444444,
              "#bd3786"
             ],
             [
              0.5555555555555556,
              "#d8576b"
             ],
             [
              0.6666666666666666,
              "#ed7953"
             ],
             [
              0.7777777777777778,
              "#fb9f3a"
             ],
             [
              0.8888888888888888,
              "#fdca26"
             ],
             [
              1,
              "#f0f921"
             ]
            ],
            "type": "contour"
           }
          ],
          "contourcarpet": [
           {
            "colorbar": {
             "outlinewidth": 0,
             "ticks": ""
            },
            "type": "contourcarpet"
           }
          ],
          "heatmap": [
           {
            "colorbar": {
             "outlinewidth": 0,
             "ticks": ""
            },
            "colorscale": [
             [
              0,
              "#0d0887"
             ],
             [
              0.1111111111111111,
              "#46039f"
             ],
             [
              0.2222222222222222,
              "#7201a8"
             ],
             [
              0.3333333333333333,
              "#9c179e"
             ],
             [
              0.4444444444444444,
              "#bd3786"
             ],
             [
              0.5555555555555556,
              "#d8576b"
             ],
             [
              0.6666666666666666,
              "#ed7953"
             ],
             [
              0.7777777777777778,
              "#fb9f3a"
             ],
             [
              0.8888888888888888,
              "#fdca26"
             ],
             [
              1,
              "#f0f921"
             ]
            ],
            "type": "heatmap"
           }
          ],
          "histogram": [
           {
            "marker": {
             "pattern": {
              "fillmode": "overlay",
              "size": 10,
              "solidity": 0.2
             }
            },
            "type": "histogram"
           }
          ],
          "histogram2d": [
           {
            "colorbar": {
             "outlinewidth": 0,
             "ticks": ""
            },
            "colorscale": [
             [
              0,
              "#0d0887"
             ],
             [
              0.1111111111111111,
              "#46039f"
             ],
             [
              0.2222222222222222,
              "#7201a8"
             ],
             [
              0.3333333333333333,
              "#9c179e"
             ],
             [
              0.4444444444444444,
              "#bd3786"
             ],
             [
              0.5555555555555556,
              "#d8576b"
             ],
             [
              0.6666666666666666,
              "#ed7953"
             ],
             [
              0.7777777777777778,
              "#fb9f3a"
             ],
             [
              0.8888888888888888,
              "#fdca26"
             ],
             [
              1,
              "#f0f921"
             ]
            ],
            "type": "histogram2d"
           }
          ],
          "histogram2dcontour": [
           {
            "colorbar": {
             "outlinewidth": 0,
             "ticks": ""
            },
            "colorscale": [
             [
              0,
              "#0d0887"
             ],
             [
              0.1111111111111111,
              "#46039f"
             ],
             [
              0.2222222222222222,
              "#7201a8"
             ],
             [
              0.3333333333333333,
              "#9c179e"
             ],
             [
              0.4444444444444444,
              "#bd3786"
             ],
             [
              0.5555555555555556,
              "#d8576b"
             ],
             [
              0.6666666666666666,
              "#ed7953"
             ],
             [
              0.7777777777777778,
              "#fb9f3a"
             ],
             [
              0.8888888888888888,
              "#fdca26"
             ],
             [
              1,
              "#f0f921"
             ]
            ],
            "type": "histogram2dcontour"
           }
          ],
          "mesh3d": [
           {
            "colorbar": {
             "outlinewidth": 0,
             "ticks": ""
            },
            "type": "mesh3d"
           }
          ],
          "parcoords": [
           {
            "line": {
             "colorbar": {
              "outlinewidth": 0,
              "ticks": ""
             }
            },
            "type": "parcoords"
           }
          ],
          "pie": [
           {
            "automargin": true,
            "type": "pie"
           }
          ],
          "scatter": [
           {
            "fillpattern": {
             "fillmode": "overlay",
             "size": 10,
             "solidity": 0.2
            },
            "type": "scatter"
           }
          ],
          "scatter3d": [
           {
            "line": {
             "colorbar": {
              "outlinewidth": 0,
              "ticks": ""
             }
            },
            "marker": {
             "colorbar": {
              "outlinewidth": 0,
              "ticks": ""
             }
            },
            "type": "scatter3d"
           }
          ],
          "scattercarpet": [
           {
            "marker": {
             "colorbar": {
              "outlinewidth": 0,
              "ticks": ""
             }
            },
            "type": "scattercarpet"
           }
          ],
          "scattergeo": [
           {
            "marker": {
             "colorbar": {
              "outlinewidth": 0,
              "ticks": ""
             }
            },
            "type": "scattergeo"
           }
          ],
          "scattergl": [
           {
            "marker": {
             "colorbar": {
              "outlinewidth": 0,
              "ticks": ""
             }
            },
            "type": "scattergl"
           }
          ],
          "scattermap": [
           {
            "marker": {
             "colorbar": {
              "outlinewidth": 0,
              "ticks": ""
             }
            },
            "type": "scattermap"
           }
          ],
          "scattermapbox": [
           {
            "marker": {
             "colorbar": {
              "outlinewidth": 0,
              "ticks": ""
             }
            },
            "type": "scattermapbox"
           }
          ],
          "scatterpolar": [
           {
            "marker": {
             "colorbar": {
              "outlinewidth": 0,
              "ticks": ""
             }
            },
            "type": "scatterpolar"
           }
          ],
          "scatterpolargl": [
           {
            "marker": {
             "colorbar": {
              "outlinewidth": 0,
              "ticks": ""
             }
            },
            "type": "scatterpolargl"
           }
          ],
          "scatterternary": [
           {
            "marker": {
             "colorbar": {
              "outlinewidth": 0,
              "ticks": ""
             }
            },
            "type": "scatterternary"
           }
          ],
          "surface": [
           {
            "colorbar": {
             "outlinewidth": 0,
             "ticks": ""
            },
            "colorscale": [
             [
              0,
              "#0d0887"
             ],
             [
              0.1111111111111111,
              "#46039f"
             ],
             [
              0.2222222222222222,
              "#7201a8"
             ],
             [
              0.3333333333333333,
              "#9c179e"
             ],
             [
              0.4444444444444444,
              "#bd3786"
             ],
             [
              0.5555555555555556,
              "#d8576b"
             ],
             [
              0.6666666666666666,
              "#ed7953"
             ],
             [
              0.7777777777777778,
              "#fb9f3a"
             ],
             [
              0.8888888888888888,
              "#fdca26"
             ],
             [
              1,
              "#f0f921"
             ]
            ],
            "type": "surface"
           }
          ],
          "table": [
           {
            "cells": {
             "fill": {
              "color": "#EBF0F8"
             },
             "line": {
              "color": "white"
             }
            },
            "header": {
             "fill": {
              "color": "#C8D4E3"
             },
             "line": {
              "color": "white"
             }
            },
            "type": "table"
           }
          ]
         },
         "layout": {
          "annotationdefaults": {
           "arrowcolor": "#2a3f5f",
           "arrowhead": 0,
           "arrowwidth": 1
          },
          "autotypenumbers": "strict",
          "coloraxis": {
           "colorbar": {
            "outlinewidth": 0,
            "ticks": ""
           }
          },
          "colorscale": {
           "diverging": [
            [
             0,
             "#8e0152"
            ],
            [
             0.1,
             "#c51b7d"
            ],
            [
             0.2,
             "#de77ae"
            ],
            [
             0.3,
             "#f1b6da"
            ],
            [
             0.4,
             "#fde0ef"
            ],
            [
             0.5,
             "#f7f7f7"
            ],
            [
             0.6,
             "#e6f5d0"
            ],
            [
             0.7,
             "#b8e186"
            ],
            [
             0.8,
             "#7fbc41"
            ],
            [
             0.9,
             "#4d9221"
            ],
            [
             1,
             "#276419"
            ]
           ],
           "sequential": [
            [
             0,
             "#0d0887"
            ],
            [
             0.1111111111111111,
             "#46039f"
            ],
            [
             0.2222222222222222,
             "#7201a8"
            ],
            [
             0.3333333333333333,
             "#9c179e"
            ],
            [
             0.4444444444444444,
             "#bd3786"
            ],
            [
             0.5555555555555556,
             "#d8576b"
            ],
            [
             0.6666666666666666,
             "#ed7953"
            ],
            [
             0.7777777777777778,
             "#fb9f3a"
            ],
            [
             0.8888888888888888,
             "#fdca26"
            ],
            [
             1,
             "#f0f921"
            ]
           ],
           "sequentialminus": [
            [
             0,
             "#0d0887"
            ],
            [
             0.1111111111111111,
             "#46039f"
            ],
            [
             0.2222222222222222,
             "#7201a8"
            ],
            [
             0.3333333333333333,
             "#9c179e"
            ],
            [
             0.4444444444444444,
             "#bd3786"
            ],
            [
             0.5555555555555556,
             "#d8576b"
            ],
            [
             0.6666666666666666,
             "#ed7953"
            ],
            [
             0.7777777777777778,
             "#fb9f3a"
            ],
            [
             0.8888888888888888,
             "#fdca26"
            ],
            [
             1,
             "#f0f921"
            ]
           ]
          },
          "colorway": [
           "#636efa",
           "#EF553B",
           "#00cc96",
           "#ab63fa",
           "#FFA15A",
           "#19d3f3",
           "#FF6692",
           "#B6E880",
           "#FF97FF",
           "#FECB52"
          ],
          "font": {
           "color": "#2a3f5f"
          },
          "geo": {
           "bgcolor": "white",
           "lakecolor": "white",
           "landcolor": "#E5ECF6",
           "showlakes": true,
           "showland": true,
           "subunitcolor": "white"
          },
          "hoverlabel": {
           "align": "left"
          },
          "hovermode": "closest",
          "mapbox": {
           "style": "light"
          },
          "paper_bgcolor": "white",
          "plot_bgcolor": "#E5ECF6",
          "polar": {
           "angularaxis": {
            "gridcolor": "white",
            "linecolor": "white",
            "ticks": ""
           },
           "bgcolor": "#E5ECF6",
           "radialaxis": {
            "gridcolor": "white",
            "linecolor": "white",
            "ticks": ""
           }
          },
          "scene": {
           "xaxis": {
            "backgroundcolor": "#E5ECF6",
            "gridcolor": "white",
            "gridwidth": 2,
            "linecolor": "white",
            "showbackground": true,
            "ticks": "",
            "zerolinecolor": "white"
           },
           "yaxis": {
            "backgroundcolor": "#E5ECF6",
            "gridcolor": "white",
            "gridwidth": 2,
            "linecolor": "white",
            "showbackground": true,
            "ticks": "",
            "zerolinecolor": "white"
           },
           "zaxis": {
            "backgroundcolor": "#E5ECF6",
            "gridcolor": "white",
            "gridwidth": 2,
            "linecolor": "white",
            "showbackground": true,
            "ticks": "",
            "zerolinecolor": "white"
           }
          },
          "shapedefaults": {
           "line": {
            "color": "#2a3f5f"
           }
          },
          "ternary": {
           "aaxis": {
            "gridcolor": "white",
            "linecolor": "white",
            "ticks": ""
           },
           "baxis": {
            "gridcolor": "white",
            "linecolor": "white",
            "ticks": ""
           },
           "bgcolor": "#E5ECF6",
           "caxis": {
            "gridcolor": "white",
            "linecolor": "white",
            "ticks": ""
           }
          },
          "title": {
           "x": 0.05
          },
          "xaxis": {
           "automargin": true,
           "gridcolor": "white",
           "linecolor": "white",
           "ticks": "",
           "title": {
            "standoff": 15
           },
           "zerolinecolor": "white",
           "zerolinewidth": 2
          },
          "yaxis": {
           "automargin": true,
           "gridcolor": "white",
           "linecolor": "white",
           "ticks": "",
           "title": {
            "standoff": 15
           },
           "zerolinecolor": "white",
           "zerolinewidth": 2
          }
         }
        },
        "title": {
         "text": "Porcentaje de Ganancia por Tratamiento Estético"
        }
       }
      }
     },
     "metadata": {},
     "output_type": "display_data"
    }
   ],
   "source": [
    "\n",
    "df_estetico = tabla_23_completa[tabla_23_completa['estetico'] == True]\n",
    "\n",
    "total_ganancia_estetico = df_estetico['total'].sum()\n",
    "\n",
    "ganancia_por_tratamiento_estetico = df_estetico.groupby('info')['total'].sum().reset_index()\n",
    "\n",
    "ganancia_por_tratamiento_estetico['porcentaje'] = (ganancia_por_tratamiento_estetico['total'] / total_ganancia_estetico) * 100\n",
    "\n",
    "fig = go.Figure(data=[go.Pie(labels=ganancia_por_tratamiento_estetico['info'],\n",
    "                             values=ganancia_por_tratamiento_estetico['porcentaje'],\n",
    "                             hoverinfo='label+percent',\n",
    "                             textinfo='percent',\n",
    "                             insidetextorientation='radial'\n",
    "                            )])\n",
    "\n",
    "fig.update_layout(title_text='Porcentaje de Ganancia por Tratamiento Estético')\n",
    "\n",
    "fig.show()"
   ]
  },
  {
   "cell_type": "code",
   "execution_count": 150,
   "id": "5a58d62b",
   "metadata": {},
   "outputs": [],
   "source": [
    "color_map_estetico = {\n",
    "    'RECONSTRUCCION COMPOSITE': '#00BFFF',         # ORTODONCIAS\n",
    "    'CORONA METAL CERAMICA': '#FFD93D',            # CORONA\n",
    "    'CORONA RESINA(LABORATORIO)': '#FF7F50',       # IMPLANTES\n",
    "    'CORONA IMPLANTE': '#FF9F43',                  # OBTURACION\n",
    "    'CORONA IMPLANTE ZIRCONIO': '#6BB97A',         # PROFILAXIS\n",
    "    'BRACKETS METALICOS': '#FF6F59',               # PROTESIS REMOVIBLE\n",
    "    'BRACKETS ESTETICOS': '#FF4D4D',               # EXTRACCION\n",
    "    'INVISALIGN': '#FFCD00',                       # ENDODONCIAS\n",
    "    'CORONA TOTAL METAL NOBLE': '#FF6B6B',         # DIAGNOSTICOS\n",
    "    'BLANQUEAMIENTO PHILIPS ZOOM': '#FF8C00',      # CIRUGIA MAXILOFACIAL\n",
    "    'CORONA IMPLANTE': '#87CEEB',                  # BLANQUEAMIENTO\n",
    "    'RECONSTRUCCION COMPOSITE': '#8A2BE2'          # PUENTES\n",
    "}"
   ]
  },
  {
   "cell_type": "code",
   "execution_count": 152,
   "id": "567faccb",
   "metadata": {},
   "outputs": [
    {
     "data": {
      "application/vnd.plotly.v1+json": {
       "config": {
        "plotlyServerURL": "https://plot.ly"
       },
       "data": [
        {
         "hoverinfo": "label+percent",
         "insidetextorientation": "radial",
         "labels": [
          "BLANQUEAMIENTO PHILIPS ZOOM",
          "BRACKETS ESTETICOS",
          "BRACKETS METALICOS",
          "CORONA IMPLANTE",
          "CORONA IMPLANTE ZIRCONIO",
          "CORONA METAL CERAMICA",
          "CORONA RESINA(LABORATORIO)",
          "CORONA TOTAL METAL NOBLE",
          "INVISALIGN",
          "RECONSTRUCCION COMPOSITE"
         ],
         "marker": {
          "colors": [
           "#FF8C00",
           "#FF4D4D",
           "#FF6F59",
           "#87CEEB",
           "#6BB97A",
           "#FFD93D",
           "#FF7F50",
           "#FF6B6B",
           "#FFCD00",
           "#8A2BE2"
          ]
         },
         "textinfo": "percent",
         "type": "pie",
         "values": {
          "bdata": "O/3UsC1QCUCMsmCN+tMpQIti/9kKwyhA0bc457sZPUACtfhh7hoPQMPkIwWZtydAZ3KcHUpj5D+g8EkPjITtP1MbBmdd5jZAdTTyParfAUA=",
          "dtype": "f8"
         }
        }
       ],
       "layout": {
        "font": {
         "color": "black",
         "family": "Oswald, sans-serif"
        },
        "template": {
         "data": {
          "bar": [
           {
            "error_x": {
             "color": "#2a3f5f"
            },
            "error_y": {
             "color": "#2a3f5f"
            },
            "marker": {
             "line": {
              "color": "#E5ECF6",
              "width": 0.5
             },
             "pattern": {
              "fillmode": "overlay",
              "size": 10,
              "solidity": 0.2
             }
            },
            "type": "bar"
           }
          ],
          "barpolar": [
           {
            "marker": {
             "line": {
              "color": "#E5ECF6",
              "width": 0.5
             },
             "pattern": {
              "fillmode": "overlay",
              "size": 10,
              "solidity": 0.2
             }
            },
            "type": "barpolar"
           }
          ],
          "carpet": [
           {
            "aaxis": {
             "endlinecolor": "#2a3f5f",
             "gridcolor": "white",
             "linecolor": "white",
             "minorgridcolor": "white",
             "startlinecolor": "#2a3f5f"
            },
            "baxis": {
             "endlinecolor": "#2a3f5f",
             "gridcolor": "white",
             "linecolor": "white",
             "minorgridcolor": "white",
             "startlinecolor": "#2a3f5f"
            },
            "type": "carpet"
           }
          ],
          "choropleth": [
           {
            "colorbar": {
             "outlinewidth": 0,
             "ticks": ""
            },
            "type": "choropleth"
           }
          ],
          "contour": [
           {
            "colorbar": {
             "outlinewidth": 0,
             "ticks": ""
            },
            "colorscale": [
             [
              0,
              "#0d0887"
             ],
             [
              0.1111111111111111,
              "#46039f"
             ],
             [
              0.2222222222222222,
              "#7201a8"
             ],
             [
              0.3333333333333333,
              "#9c179e"
             ],
             [
              0.4444444444444444,
              "#bd3786"
             ],
             [
              0.5555555555555556,
              "#d8576b"
             ],
             [
              0.6666666666666666,
              "#ed7953"
             ],
             [
              0.7777777777777778,
              "#fb9f3a"
             ],
             [
              0.8888888888888888,
              "#fdca26"
             ],
             [
              1,
              "#f0f921"
             ]
            ],
            "type": "contour"
           }
          ],
          "contourcarpet": [
           {
            "colorbar": {
             "outlinewidth": 0,
             "ticks": ""
            },
            "type": "contourcarpet"
           }
          ],
          "heatmap": [
           {
            "colorbar": {
             "outlinewidth": 0,
             "ticks": ""
            },
            "colorscale": [
             [
              0,
              "#0d0887"
             ],
             [
              0.1111111111111111,
              "#46039f"
             ],
             [
              0.2222222222222222,
              "#7201a8"
             ],
             [
              0.3333333333333333,
              "#9c179e"
             ],
             [
              0.4444444444444444,
              "#bd3786"
             ],
             [
              0.5555555555555556,
              "#d8576b"
             ],
             [
              0.6666666666666666,
              "#ed7953"
             ],
             [
              0.7777777777777778,
              "#fb9f3a"
             ],
             [
              0.8888888888888888,
              "#fdca26"
             ],
             [
              1,
              "#f0f921"
             ]
            ],
            "type": "heatmap"
           }
          ],
          "histogram": [
           {
            "marker": {
             "pattern": {
              "fillmode": "overlay",
              "size": 10,
              "solidity": 0.2
             }
            },
            "type": "histogram"
           }
          ],
          "histogram2d": [
           {
            "colorbar": {
             "outlinewidth": 0,
             "ticks": ""
            },
            "colorscale": [
             [
              0,
              "#0d0887"
             ],
             [
              0.1111111111111111,
              "#46039f"
             ],
             [
              0.2222222222222222,
              "#7201a8"
             ],
             [
              0.3333333333333333,
              "#9c179e"
             ],
             [
              0.4444444444444444,
              "#bd3786"
             ],
             [
              0.5555555555555556,
              "#d8576b"
             ],
             [
              0.6666666666666666,
              "#ed7953"
             ],
             [
              0.7777777777777778,
              "#fb9f3a"
             ],
             [
              0.8888888888888888,
              "#fdca26"
             ],
             [
              1,
              "#f0f921"
             ]
            ],
            "type": "histogram2d"
           }
          ],
          "histogram2dcontour": [
           {
            "colorbar": {
             "outlinewidth": 0,
             "ticks": ""
            },
            "colorscale": [
             [
              0,
              "#0d0887"
             ],
             [
              0.1111111111111111,
              "#46039f"
             ],
             [
              0.2222222222222222,
              "#7201a8"
             ],
             [
              0.3333333333333333,
              "#9c179e"
             ],
             [
              0.4444444444444444,
              "#bd3786"
             ],
             [
              0.5555555555555556,
              "#d8576b"
             ],
             [
              0.6666666666666666,
              "#ed7953"
             ],
             [
              0.7777777777777778,
              "#fb9f3a"
             ],
             [
              0.8888888888888888,
              "#fdca26"
             ],
             [
              1,
              "#f0f921"
             ]
            ],
            "type": "histogram2dcontour"
           }
          ],
          "mesh3d": [
           {
            "colorbar": {
             "outlinewidth": 0,
             "ticks": ""
            },
            "type": "mesh3d"
           }
          ],
          "parcoords": [
           {
            "line": {
             "colorbar": {
              "outlinewidth": 0,
              "ticks": ""
             }
            },
            "type": "parcoords"
           }
          ],
          "pie": [
           {
            "automargin": true,
            "type": "pie"
           }
          ],
          "scatter": [
           {
            "fillpattern": {
             "fillmode": "overlay",
             "size": 10,
             "solidity": 0.2
            },
            "type": "scatter"
           }
          ],
          "scatter3d": [
           {
            "line": {
             "colorbar": {
              "outlinewidth": 0,
              "ticks": ""
             }
            },
            "marker": {
             "colorbar": {
              "outlinewidth": 0,
              "ticks": ""
             }
            },
            "type": "scatter3d"
           }
          ],
          "scattercarpet": [
           {
            "marker": {
             "colorbar": {
              "outlinewidth": 0,
              "ticks": ""
             }
            },
            "type": "scattercarpet"
           }
          ],
          "scattergeo": [
           {
            "marker": {
             "colorbar": {
              "outlinewidth": 0,
              "ticks": ""
             }
            },
            "type": "scattergeo"
           }
          ],
          "scattergl": [
           {
            "marker": {
             "colorbar": {
              "outlinewidth": 0,
              "ticks": ""
             }
            },
            "type": "scattergl"
           }
          ],
          "scattermap": [
           {
            "marker": {
             "colorbar": {
              "outlinewidth": 0,
              "ticks": ""
             }
            },
            "type": "scattermap"
           }
          ],
          "scattermapbox": [
           {
            "marker": {
             "colorbar": {
              "outlinewidth": 0,
              "ticks": ""
             }
            },
            "type": "scattermapbox"
           }
          ],
          "scatterpolar": [
           {
            "marker": {
             "colorbar": {
              "outlinewidth": 0,
              "ticks": ""
             }
            },
            "type": "scatterpolar"
           }
          ],
          "scatterpolargl": [
           {
            "marker": {
             "colorbar": {
              "outlinewidth": 0,
              "ticks": ""
             }
            },
            "type": "scatterpolargl"
           }
          ],
          "scatterternary": [
           {
            "marker": {
             "colorbar": {
              "outlinewidth": 0,
              "ticks": ""
             }
            },
            "type": "scatterternary"
           }
          ],
          "surface": [
           {
            "colorbar": {
             "outlinewidth": 0,
             "ticks": ""
            },
            "colorscale": [
             [
              0,
              "#0d0887"
             ],
             [
              0.1111111111111111,
              "#46039f"
             ],
             [
              0.2222222222222222,
              "#7201a8"
             ],
             [
              0.3333333333333333,
              "#9c179e"
             ],
             [
              0.4444444444444444,
              "#bd3786"
             ],
             [
              0.5555555555555556,
              "#d8576b"
             ],
             [
              0.6666666666666666,
              "#ed7953"
             ],
             [
              0.7777777777777778,
              "#fb9f3a"
             ],
             [
              0.8888888888888888,
              "#fdca26"
             ],
             [
              1,
              "#f0f921"
             ]
            ],
            "type": "surface"
           }
          ],
          "table": [
           {
            "cells": {
             "fill": {
              "color": "#EBF0F8"
             },
             "line": {
              "color": "white"
             }
            },
            "header": {
             "fill": {
              "color": "#C8D4E3"
             },
             "line": {
              "color": "white"
             }
            },
            "type": "table"
           }
          ]
         },
         "layout": {
          "annotationdefaults": {
           "arrowcolor": "#2a3f5f",
           "arrowhead": 0,
           "arrowwidth": 1
          },
          "autotypenumbers": "strict",
          "coloraxis": {
           "colorbar": {
            "outlinewidth": 0,
            "ticks": ""
           }
          },
          "colorscale": {
           "diverging": [
            [
             0,
             "#8e0152"
            ],
            [
             0.1,
             "#c51b7d"
            ],
            [
             0.2,
             "#de77ae"
            ],
            [
             0.3,
             "#f1b6da"
            ],
            [
             0.4,
             "#fde0ef"
            ],
            [
             0.5,
             "#f7f7f7"
            ],
            [
             0.6,
             "#e6f5d0"
            ],
            [
             0.7,
             "#b8e186"
            ],
            [
             0.8,
             "#7fbc41"
            ],
            [
             0.9,
             "#4d9221"
            ],
            [
             1,
             "#276419"
            ]
           ],
           "sequential": [
            [
             0,
             "#0d0887"
            ],
            [
             0.1111111111111111,
             "#46039f"
            ],
            [
             0.2222222222222222,
             "#7201a8"
            ],
            [
             0.3333333333333333,
             "#9c179e"
            ],
            [
             0.4444444444444444,
             "#bd3786"
            ],
            [
             0.5555555555555556,
             "#d8576b"
            ],
            [
             0.6666666666666666,
             "#ed7953"
            ],
            [
             0.7777777777777778,
             "#fb9f3a"
            ],
            [
             0.8888888888888888,
             "#fdca26"
            ],
            [
             1,
             "#f0f921"
            ]
           ],
           "sequentialminus": [
            [
             0,
             "#0d0887"
            ],
            [
             0.1111111111111111,
             "#46039f"
            ],
            [
             0.2222222222222222,
             "#7201a8"
            ],
            [
             0.3333333333333333,
             "#9c179e"
            ],
            [
             0.4444444444444444,
             "#bd3786"
            ],
            [
             0.5555555555555556,
             "#d8576b"
            ],
            [
             0.6666666666666666,
             "#ed7953"
            ],
            [
             0.7777777777777778,
             "#fb9f3a"
            ],
            [
             0.8888888888888888,
             "#fdca26"
            ],
            [
             1,
             "#f0f921"
            ]
           ]
          },
          "colorway": [
           "#636efa",
           "#EF553B",
           "#00cc96",
           "#ab63fa",
           "#FFA15A",
           "#19d3f3",
           "#FF6692",
           "#B6E880",
           "#FF97FF",
           "#FECB52"
          ],
          "font": {
           "color": "#2a3f5f"
          },
          "geo": {
           "bgcolor": "white",
           "lakecolor": "white",
           "landcolor": "#E5ECF6",
           "showlakes": true,
           "showland": true,
           "subunitcolor": "white"
          },
          "hoverlabel": {
           "align": "left"
          },
          "hovermode": "closest",
          "mapbox": {
           "style": "light"
          },
          "paper_bgcolor": "white",
          "plot_bgcolor": "#E5ECF6",
          "polar": {
           "angularaxis": {
            "gridcolor": "white",
            "linecolor": "white",
            "ticks": ""
           },
           "bgcolor": "#E5ECF6",
           "radialaxis": {
            "gridcolor": "white",
            "linecolor": "white",
            "ticks": ""
           }
          },
          "scene": {
           "xaxis": {
            "backgroundcolor": "#E5ECF6",
            "gridcolor": "white",
            "gridwidth": 2,
            "linecolor": "white",
            "showbackground": true,
            "ticks": "",
            "zerolinecolor": "white"
           },
           "yaxis": {
            "backgroundcolor": "#E5ECF6",
            "gridcolor": "white",
            "gridwidth": 2,
            "linecolor": "white",
            "showbackground": true,
            "ticks": "",
            "zerolinecolor": "white"
           },
           "zaxis": {
            "backgroundcolor": "#E5ECF6",
            "gridcolor": "white",
            "gridwidth": 2,
            "linecolor": "white",
            "showbackground": true,
            "ticks": "",
            "zerolinecolor": "white"
           }
          },
          "shapedefaults": {
           "line": {
            "color": "#2a3f5f"
           }
          },
          "ternary": {
           "aaxis": {
            "gridcolor": "white",
            "linecolor": "white",
            "ticks": ""
           },
           "baxis": {
            "gridcolor": "white",
            "linecolor": "white",
            "ticks": ""
           },
           "bgcolor": "#E5ECF6",
           "caxis": {
            "gridcolor": "white",
            "linecolor": "white",
            "ticks": ""
           }
          },
          "title": {
           "x": 0.05
          },
          "xaxis": {
           "automargin": true,
           "gridcolor": "white",
           "linecolor": "white",
           "ticks": "",
           "title": {
            "standoff": 15
           },
           "zerolinecolor": "white",
           "zerolinewidth": 2
          },
          "yaxis": {
           "automargin": true,
           "gridcolor": "white",
           "linecolor": "white",
           "ticks": "",
           "title": {
            "standoff": 15
           },
           "zerolinecolor": "white",
           "zerolinewidth": 2
          }
         }
        },
        "title": {
         "text": "Porcentaje de Ganancia por Tratamiento Estético"
        }
       }
      }
     },
     "metadata": {},
     "output_type": "display_data"
    }
   ],
   "source": [
    "df_estetico = tabla_23_completa[tabla_23_completa['estetico'] == True]\n",
    "\n",
    "total_ganancia_estetico = df_estetico['total'].sum()\n",
    "\n",
    "ganancia_por_tratamiento_estetico = df_estetico.groupby('info')['total'].sum().reset_index()\n",
    "\n",
    "ganancia_por_tratamiento_estetico['porcentaje'] = (ganancia_por_tratamiento_estetico['total'] / total_ganancia_estetico) * 100\n",
    "\n",
    "# Asignar color a cada tratamiento\n",
    "ganancia_por_tratamiento_estetico['color'] = ganancia_por_tratamiento_estetico['info'].map(color_map_estetico)\n",
    "\n",
    "fig = go.Figure(data=[go.Pie(\n",
    "    labels=ganancia_por_tratamiento_estetico['info'],\n",
    "    values=ganancia_por_tratamiento_estetico['porcentaje'],\n",
    "    hoverinfo='label+percent',\n",
    "    textinfo='percent',\n",
    "    insidetextorientation='radial',\n",
    "    marker=dict(colors=ganancia_por_tratamiento_estetico['color'])\n",
    ")])\n",
    "\n",
    "fig.update_layout(\n",
    "    title_text='Porcentaje de Ganancia por Tratamiento Estético',\n",
    "    font=dict(family='Oswald, sans-serif', color='black')\n",
    ")\n",
    "\n",
    "fig.show()\n",
    "\n"
   ]
  },
  {
   "cell_type": "code",
   "execution_count": 149,
   "id": "da25c0f4",
   "metadata": {},
   "outputs": [
    {
     "data": {
      "text/plain": [
       "16          CORONA METAL CERAMICA\n",
       "17     CORONA RESINA(LABORATORIO)\n",
       "18                CORONA IMPLANTE\n",
       "19       CORONA IMPLANTE ZIRCONIO\n",
       "35             BRACKETS METALICOS\n",
       "36             BRACKETS ESTETICOS\n",
       "37                     INVISALIGN\n",
       "44    BLANQUEAMIENTO PHILIPS ZOOM\n",
       "Name: info, dtype: object"
      ]
     },
     "execution_count": 149,
     "metadata": {},
     "output_type": "execute_result"
    }
   ],
   "source": [
    "tabla_24_completa.loc[tabla_24_completa['estetico']==True, \"info\"]"
   ]
  }
 ],
 "metadata": {
  "kernelspec": {
   "display_name": "miPrimerEnternoConda",
   "language": "python",
   "name": "python3"
  },
  "language_info": {
   "codemirror_mode": {
    "name": "ipython",
    "version": 3
   },
   "file_extension": ".py",
   "mimetype": "text/x-python",
   "name": "python",
   "nbconvert_exporter": "python",
   "pygments_lexer": "ipython3",
   "version": "3.11.11"
  }
 },
 "nbformat": 4,
 "nbformat_minor": 5
}
